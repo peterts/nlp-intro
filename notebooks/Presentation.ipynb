{
 "cells": [
  {
   "cell_type": "code",
   "execution_count": 1,
   "metadata": {
    "slideshow": {
     "slide_type": "skip"
    }
   },
   "outputs": [
    {
     "data": {
      "text/html": [
       "        <script type=\"text/javascript\">\n",
       "        window.PlotlyConfig = {MathJaxConfig: 'local'};\n",
       "        if (window.MathJax) {MathJax.Hub.Config({SVG: {font: \"STIX-Web\"}});}\n",
       "        if (typeof require !== 'undefined') {\n",
       "        require.undef(\"plotly\");\n",
       "        requirejs.config({\n",
       "            paths: {\n",
       "                'plotly': ['https://cdn.plot.ly/plotly-latest.min']\n",
       "            }\n",
       "        });\n",
       "        require(['plotly'], function(Plotly) {\n",
       "            window._Plotly = Plotly;\n",
       "        });\n",
       "        }\n",
       "        </script>\n",
       "        "
      ]
     },
     "metadata": {},
     "output_type": "display_data"
    }
   ],
   "source": [
    "%run setup\n",
    "%load_ext autoreload\n",
    "%autoreload 2"
   ]
  },
  {
   "cell_type": "code",
   "execution_count": 29,
   "metadata": {
    "slideshow": {
     "slide_type": "skip"
    }
   },
   "outputs": [],
   "source": [
    "from IPython.display import Image\n",
    "from pathlib import Path\n",
    "from nlp_intro.data import draw_uniform_data\n",
    "from nlp_intro.figure_factory import Linear2D2ClassModelPlotter, plot_3d_scatter, gradient_descent_animation\n",
    "import pandas as pd\n",
    "import numpy as np\n",
    "from nlp_intro.logistic_regression import gradient\n",
    "from nlp_intro.data import load_diskusjon_no_data\n",
    "import re"
   ]
  },
  {
   "cell_type": "code",
   "execution_count": 3,
   "metadata": {
    "slideshow": {
     "slide_type": "skip"
    }
   },
   "outputs": [],
   "source": [
    "root_dir = Path(\"..\").resolve()"
   ]
  },
  {
   "cell_type": "markdown",
   "metadata": {},
   "source": [
    "# Mål for presentasjonen\n",
    "\n",
    "- Kommer ikke til å gå i dybden på hver algoritme som brukes - flere av algoritmene kunne vi dedikert en helt egen fagkveld til\n",
    "- Målet med presentasjonen er å:\n",
    "    - Demystifisere NLP - gi deg en forståelse av hvordan ulike NLP-problemstillinger løses\n",
    "    - Gi en praktisk introduksjon til temaet gjennom kode"
   ]
  },
  {
   "cell_type": "markdown",
   "metadata": {
    "slideshow": {
     "slide_type": "slide"
    }
   },
   "source": [
    "# Maskinlæring på 5 minutter"
   ]
  },
  {
   "cell_type": "markdown",
   "metadata": {
    "slideshow": {
     "slide_type": "subslide"
    }
   },
   "source": [
    "# 2 typer maskinlæring"
   ]
  },
  {
   "cell_type": "markdown",
   "metadata": {
    "slideshow": {
     "slide_type": "fragment"
    }
   },
   "source": [
    "1. **Veiledet læring** (en: supervised learning): metoder for å lære seg en sammenheng mellom data og kategorier/tallverdier tillordnet denne dataen, slik at man gitt ny data kan predikere disse kategoriene/tallverdiene"
   ]
  },
  {
   "cell_type": "markdown",
   "metadata": {
    "slideshow": {
     "slide_type": "fragment"
    }
   },
   "source": [
    "2. **Ikke-veiledet læring** (en: unsupervised learning): metoder for å finne nyttige mønstre i data"
   ]
  },
  {
   "cell_type": "markdown",
   "metadata": {
    "slideshow": {
     "slide_type": "subslide"
    }
   },
   "source": [
    " ## Veiledet læring"
   ]
  },
  {
   "cell_type": "markdown",
   "metadata": {
    "slideshow": {
     "slide_type": "-"
    }
   },
   "source": [
    " \n",
    "<center> <img src=\"../images/bender.gif\"/> </center>"
   ]
  },
  {
   "cell_type": "markdown",
   "metadata": {
    "slideshow": {
     "slide_type": "subslide"
    }
   },
   "source": [
    "Vi har datapunkter $X$ og for hvert datapunkt en kategori/tallverdi $y$. Vi antar at det er en sammenheng mellom $X$ og $y$, slik at $X$ kan brukes for å predikere $y$:\n",
    "$$X \\rightarrow y$$"
   ]
  },
  {
   "cell_type": "markdown",
   "metadata": {
    "slideshow": {
     "slide_type": "fragment"
    }
   },
   "source": [
    "Ved hjelp av *veiledet læring* ønsker vi å finne denne \"pilen\"/modellen:\n",
    "$$X \\boxed{\\rightarrow} y$$"
   ]
  },
  {
   "cell_type": "markdown",
   "metadata": {
    "slideshow": {
     "slide_type": "fragment"
    }
   },
   "source": [
    "..slik at gitt nye datapunkter $X_2$ og modellen:\n",
    "$$X_2 \\rightarrow $$"
   ]
  },
  {
   "cell_type": "markdown",
   "metadata": {
    "slideshow": {
     "slide_type": "fragment"
    }
   },
   "source": [
    "...kan vi produsere prediksjoner for hvert av de nye datapunktene:\n",
    "$$X_2 \\rightarrow y_2$$"
   ]
  },
  {
   "cell_type": "markdown",
   "metadata": {
    "slideshow": {
     "slide_type": "subslide"
    }
   },
   "source": [
    "## Eksempel: et datasett av bokser"
   ]
  },
  {
   "cell_type": "markdown",
   "metadata": {},
   "source": [
    "<center> <img src=\"../images/boxes1.png\"  style=\"height:200px;width:auto;\"/> </center>"
   ]
  },
  {
   "cell_type": "code",
   "execution_count": 34,
   "metadata": {
    "slideshow": {
     "slide_type": "-"
    }
   },
   "outputs": [
    {
     "data": {
      "text/html": [
       "<div>\n",
       "<style scoped>\n",
       "    .dataframe tbody tr th:only-of-type {\n",
       "        vertical-align: middle;\n",
       "    }\n",
       "\n",
       "    .dataframe tbody tr th {\n",
       "        vertical-align: top;\n",
       "    }\n",
       "\n",
       "    .dataframe thead th {\n",
       "        text-align: right;\n",
       "    }\n",
       "</style>\n",
       "<table border=\"1\" class=\"dataframe\">\n",
       "  <thead>\n",
       "    <tr style=\"text-align: right;\">\n",
       "      <th></th>\n",
       "      <th>width</th>\n",
       "      <th>height</th>\n",
       "    </tr>\n",
       "  </thead>\n",
       "  <tbody>\n",
       "    <tr>\n",
       "      <th>0</th>\n",
       "      <td>0.207300</td>\n",
       "      <td>0.258934</td>\n",
       "    </tr>\n",
       "    <tr>\n",
       "      <th>1</th>\n",
       "      <td>0.785209</td>\n",
       "      <td>0.880128</td>\n",
       "    </tr>\n",
       "    <tr>\n",
       "      <th>2</th>\n",
       "      <td>0.011815</td>\n",
       "      <td>0.195721</td>\n",
       "    </tr>\n",
       "  </tbody>\n",
       "</table>\n",
       "</div>"
      ],
      "text/plain": [
       "      width    height\n",
       "0  0.207300  0.258934\n",
       "1  0.785209  0.880128\n",
       "2  0.011815  0.195721"
      ]
     },
     "execution_count": 34,
     "metadata": {},
     "output_type": "execute_result"
    }
   ],
   "source": [
    "data = draw_uniform_data(100, (0, 1), (0, 1))\n",
    "feature_names = (\"width\", \"height\")\n",
    "pd.DataFrame(data, columns=feature_names).head(3)"
   ]
  },
  {
   "cell_type": "code",
   "execution_count": 35,
   "metadata": {
    "slideshow": {
     "slide_type": "subslide"
    }
   },
   "outputs": [
    {
     "data": {
      "application/vnd.plotly.v1+json": {
       "config": {
        "plotlyServerURL": "https://plot.ly"
       },
       "data": [
        {
         "fill": "toself",
         "fillcolor": "rgba(255,65,54,0.5)",
         "hoverinfo": "none",
         "mode": "none",
         "showlegend": false,
         "type": "scatter",
         "x": [],
         "y": []
        },
        {
         "fill": "toself",
         "fillcolor": "rgba(0,116,217,0.5)",
         "hoverinfo": "none",
         "mode": "none",
         "showlegend": false,
         "type": "scatter",
         "x": [],
         "y": []
        },
        {
         "marker": {
          "color": "black"
         },
         "mode": "lines",
         "showlegend": false,
         "type": "scatter",
         "x": [],
         "y": []
        },
        {
         "marker": {
          "color": "rgba(128,128,128,1.0)",
          "line": {
           "width": 1
          },
          "size": 10
         },
         "mode": "markers",
         "name": "Unknown",
         "type": "scatter",
         "x": [
          0.20729979472648374,
          0.7852087214162017,
          0.011815321573685478,
          0.25361835400399335,
          0.39147726744087674,
          0.3624523478185918,
          0.6889296786132615,
          0.46509353592568636,
          0.4475842082183048,
          0.5385185476249709,
          0.8461350680637683,
          0.10297020819531122,
          0.6343955124170224,
          0.7784920026119713,
          0.09219445499870871,
          0.3793015804474975,
          0.005663574871188737,
          0.6072530024537646,
          0.2949273383847558,
          0.7558636481607831,
          0.7497269493496418,
          0.8371308445624882,
          0.44304346996054866,
          0.5086225661439524,
          0.017233164701023207,
          0.26448160391272735,
          0.6920626400729134,
          0.09747909679616262,
          0.9456781589885701,
          0.16817534067205608,
          0.9911117459272148,
          0.6953952373403927,
          0.15057675774490886,
          0.4132628864441835,
          0.33554416059375947,
          0.7480307965909924,
          0.7219276657796583,
          0.23063957209851493,
          0.46580900635983713,
          0.8811981326978863,
          0.9771731691104963,
          0.044327418898669535,
          0.6703257299854498,
          0.903628599121053,
          0.2930256970511135,
          0.9608203890000961,
          0.4396678501906073,
          0.4492437086107962,
          0.49746686717784505,
          0.7738068961789438,
          0.8489982642120467,
          0.7317246635510961,
          0.8261873619481869,
          0.07019940001619929,
          0.7891181362893877,
          0.553836669741516,
          0.37765785249992256,
          0.5982904919820594,
          0.18571563025478932,
          0.3929290703659868,
          0.2565370725744398,
          0.21084811908654089,
          0.2071935266763537,
          0.9423408877138495,
          0.6399057444436431,
          0.5395209125515102,
          0.46475330797932946,
          0.9143132504848973,
          0.19157558108930017,
          0.6329372082982035,
          0.3988219647137673,
          0.1962380713340871,
          0.6253108084357663,
          0.40476373786038633,
          0.35878587983221166,
          0.3843784425742115,
          0.8696676775654443,
          0.06371896003176192,
          0.44474146589432906,
          0.711233599696383,
          0.3087890825705357,
          0.6521886785079585,
          0.14126665052705012,
          0.9341271293023133,
          0.2721663796005638,
          0.42191430732229196,
          0.7285759485999925,
          0.7173646250081446,
          0.32028134046090795,
          0.5545325413503458,
          0.17243259490431762,
          0.9744924438436668,
          0.11708210623242432,
          0.13086193239663924,
          0.8996775677414345,
          0.42582883320875353,
          0.44367746756858417,
          0.608301314162011,
          0.12973608050584895,
          0.4726849130371895
         ],
         "y": [
          0.25893447150629323,
          0.8801282601490411,
          0.19572097934214994,
          0.11398602427303439,
          0.9902341168393478,
          0.7147652189836945,
          0.7430952994510038,
          0.24442540379476874,
          0.6118491869392747,
          0.9699028227339452,
          0.7138992530637794,
          0.16937206993928033,
          0.14567641675401288,
          0.657323451474926,
          0.9839468081389631,
          0.2811846424503812,
          0.022025396569259614,
          0.23996323424762234,
          0.2813838303557217,
          0.0634725183807785,
          0.7250013519691538,
          0.37041140714217047,
          0.6585238637061062,
          0.6042062539529426,
          0.7697679191171746,
          0.951491345326508,
          0.32474198408760757,
          0.23893902778554466,
          0.8131865816085733,
          0.9999987454382877,
          0.855582371634859,
          0.3903580249486802,
          0.34988864253634955,
          0.8188765069711557,
          0.7621867562344152,
          0.7794660952049448,
          0.9808449379187373,
          0.6005067906735647,
          0.7659870258975235,
          0.7972028271937127,
          0.6589195494691795,
          0.3345575255145554,
          0.13936259256176786,
          0.231306485868653,
          0.5026815969108361,
          0.9705784484937858,
          0.22644420164753987,
          0.2733349105253129,
          0.1386349917286256,
          0.45965619462473095,
          0.8920738654051686,
          0.34921680043481507,
          0.4379378564948513,
          0.4097215454370703,
          0.4850704205265758,
          0.31178959486846236,
          0.45226974971199674,
          0.28239004930483314,
          0.5614497999861128,
          0.45169251136267796,
          0.3086928259396513,
          0.28752490388334495,
          0.897836663126441,
          0.1125098328903138,
          0.7000688958207165,
          0.8181691748429399,
          0.9623106103807788,
          0.11844550446066504,
          0.224029673340143,
          0.5034229628063569,
          0.03659822289785786,
          0.8505864625324713,
          0.8201676769403694,
          0.6145034922186493,
          0.8721917113759375,
          0.6338703808964117,
          0.7412066013609954,
          0.4857533659716815,
          0.8505541502691261,
          0.6447496627016888,
          0.21999516739688818,
          0.3222498744424459,
          0.7435065370589119,
          0.6908051364292684,
          0.7242363559913211,
          0.7859986929568061,
          0.25246133881293176,
          0.9525415418369222,
          0.004925720205607331,
          0.8645052721529202,
          0.2140866598653528,
          0.4953781455105698,
          0.5950059573479926,
          0.673932280950764,
          0.5751961949892045,
          0.6989836552779226,
          0.5335015094909471,
          0.796935141679166,
          0.35850387558956165,
          0.08913639289429987
         ]
        },
        {
         "marker": {
          "line": {
           "width": 1
          },
          "size": 10
         },
         "mode": "markers",
         "type": "scatter",
         "x": [],
         "y": []
        }
       ],
       "layout": {
        "height": 600,
        "template": {
         "data": {
          "bar": [
           {
            "error_x": {
             "color": "#2a3f5f"
            },
            "error_y": {
             "color": "#2a3f5f"
            },
            "marker": {
             "line": {
              "color": "#E5ECF6",
              "width": 0.5
             }
            },
            "type": "bar"
           }
          ],
          "barpolar": [
           {
            "marker": {
             "line": {
              "color": "#E5ECF6",
              "width": 0.5
             }
            },
            "type": "barpolar"
           }
          ],
          "carpet": [
           {
            "aaxis": {
             "endlinecolor": "#2a3f5f",
             "gridcolor": "white",
             "linecolor": "white",
             "minorgridcolor": "white",
             "startlinecolor": "#2a3f5f"
            },
            "baxis": {
             "endlinecolor": "#2a3f5f",
             "gridcolor": "white",
             "linecolor": "white",
             "minorgridcolor": "white",
             "startlinecolor": "#2a3f5f"
            },
            "type": "carpet"
           }
          ],
          "choropleth": [
           {
            "colorbar": {
             "outlinewidth": 0,
             "ticks": ""
            },
            "type": "choropleth"
           }
          ],
          "contour": [
           {
            "colorbar": {
             "outlinewidth": 0,
             "ticks": ""
            },
            "colorscale": [
             [
              0,
              "#0d0887"
             ],
             [
              0.1111111111111111,
              "#46039f"
             ],
             [
              0.2222222222222222,
              "#7201a8"
             ],
             [
              0.3333333333333333,
              "#9c179e"
             ],
             [
              0.4444444444444444,
              "#bd3786"
             ],
             [
              0.5555555555555556,
              "#d8576b"
             ],
             [
              0.6666666666666666,
              "#ed7953"
             ],
             [
              0.7777777777777778,
              "#fb9f3a"
             ],
             [
              0.8888888888888888,
              "#fdca26"
             ],
             [
              1,
              "#f0f921"
             ]
            ],
            "type": "contour"
           }
          ],
          "contourcarpet": [
           {
            "colorbar": {
             "outlinewidth": 0,
             "ticks": ""
            },
            "type": "contourcarpet"
           }
          ],
          "heatmap": [
           {
            "colorbar": {
             "outlinewidth": 0,
             "ticks": ""
            },
            "colorscale": [
             [
              0,
              "#0d0887"
             ],
             [
              0.1111111111111111,
              "#46039f"
             ],
             [
              0.2222222222222222,
              "#7201a8"
             ],
             [
              0.3333333333333333,
              "#9c179e"
             ],
             [
              0.4444444444444444,
              "#bd3786"
             ],
             [
              0.5555555555555556,
              "#d8576b"
             ],
             [
              0.6666666666666666,
              "#ed7953"
             ],
             [
              0.7777777777777778,
              "#fb9f3a"
             ],
             [
              0.8888888888888888,
              "#fdca26"
             ],
             [
              1,
              "#f0f921"
             ]
            ],
            "type": "heatmap"
           }
          ],
          "heatmapgl": [
           {
            "colorbar": {
             "outlinewidth": 0,
             "ticks": ""
            },
            "colorscale": [
             [
              0,
              "#0d0887"
             ],
             [
              0.1111111111111111,
              "#46039f"
             ],
             [
              0.2222222222222222,
              "#7201a8"
             ],
             [
              0.3333333333333333,
              "#9c179e"
             ],
             [
              0.4444444444444444,
              "#bd3786"
             ],
             [
              0.5555555555555556,
              "#d8576b"
             ],
             [
              0.6666666666666666,
              "#ed7953"
             ],
             [
              0.7777777777777778,
              "#fb9f3a"
             ],
             [
              0.8888888888888888,
              "#fdca26"
             ],
             [
              1,
              "#f0f921"
             ]
            ],
            "type": "heatmapgl"
           }
          ],
          "histogram": [
           {
            "marker": {
             "colorbar": {
              "outlinewidth": 0,
              "ticks": ""
             }
            },
            "type": "histogram"
           }
          ],
          "histogram2d": [
           {
            "colorbar": {
             "outlinewidth": 0,
             "ticks": ""
            },
            "colorscale": [
             [
              0,
              "#0d0887"
             ],
             [
              0.1111111111111111,
              "#46039f"
             ],
             [
              0.2222222222222222,
              "#7201a8"
             ],
             [
              0.3333333333333333,
              "#9c179e"
             ],
             [
              0.4444444444444444,
              "#bd3786"
             ],
             [
              0.5555555555555556,
              "#d8576b"
             ],
             [
              0.6666666666666666,
              "#ed7953"
             ],
             [
              0.7777777777777778,
              "#fb9f3a"
             ],
             [
              0.8888888888888888,
              "#fdca26"
             ],
             [
              1,
              "#f0f921"
             ]
            ],
            "type": "histogram2d"
           }
          ],
          "histogram2dcontour": [
           {
            "colorbar": {
             "outlinewidth": 0,
             "ticks": ""
            },
            "colorscale": [
             [
              0,
              "#0d0887"
             ],
             [
              0.1111111111111111,
              "#46039f"
             ],
             [
              0.2222222222222222,
              "#7201a8"
             ],
             [
              0.3333333333333333,
              "#9c179e"
             ],
             [
              0.4444444444444444,
              "#bd3786"
             ],
             [
              0.5555555555555556,
              "#d8576b"
             ],
             [
              0.6666666666666666,
              "#ed7953"
             ],
             [
              0.7777777777777778,
              "#fb9f3a"
             ],
             [
              0.8888888888888888,
              "#fdca26"
             ],
             [
              1,
              "#f0f921"
             ]
            ],
            "type": "histogram2dcontour"
           }
          ],
          "mesh3d": [
           {
            "colorbar": {
             "outlinewidth": 0,
             "ticks": ""
            },
            "type": "mesh3d"
           }
          ],
          "parcoords": [
           {
            "line": {
             "colorbar": {
              "outlinewidth": 0,
              "ticks": ""
             }
            },
            "type": "parcoords"
           }
          ],
          "scatter": [
           {
            "marker": {
             "colorbar": {
              "outlinewidth": 0,
              "ticks": ""
             }
            },
            "type": "scatter"
           }
          ],
          "scatter3d": [
           {
            "line": {
             "colorbar": {
              "outlinewidth": 0,
              "ticks": ""
             }
            },
            "marker": {
             "colorbar": {
              "outlinewidth": 0,
              "ticks": ""
             }
            },
            "type": "scatter3d"
           }
          ],
          "scattercarpet": [
           {
            "marker": {
             "colorbar": {
              "outlinewidth": 0,
              "ticks": ""
             }
            },
            "type": "scattercarpet"
           }
          ],
          "scattergeo": [
           {
            "marker": {
             "colorbar": {
              "outlinewidth": 0,
              "ticks": ""
             }
            },
            "type": "scattergeo"
           }
          ],
          "scattergl": [
           {
            "marker": {
             "colorbar": {
              "outlinewidth": 0,
              "ticks": ""
             }
            },
            "type": "scattergl"
           }
          ],
          "scattermapbox": [
           {
            "marker": {
             "colorbar": {
              "outlinewidth": 0,
              "ticks": ""
             }
            },
            "type": "scattermapbox"
           }
          ],
          "scatterpolar": [
           {
            "marker": {
             "colorbar": {
              "outlinewidth": 0,
              "ticks": ""
             }
            },
            "type": "scatterpolar"
           }
          ],
          "scatterpolargl": [
           {
            "marker": {
             "colorbar": {
              "outlinewidth": 0,
              "ticks": ""
             }
            },
            "type": "scatterpolargl"
           }
          ],
          "scatterternary": [
           {
            "marker": {
             "colorbar": {
              "outlinewidth": 0,
              "ticks": ""
             }
            },
            "type": "scatterternary"
           }
          ],
          "surface": [
           {
            "colorbar": {
             "outlinewidth": 0,
             "ticks": ""
            },
            "colorscale": [
             [
              0,
              "#0d0887"
             ],
             [
              0.1111111111111111,
              "#46039f"
             ],
             [
              0.2222222222222222,
              "#7201a8"
             ],
             [
              0.3333333333333333,
              "#9c179e"
             ],
             [
              0.4444444444444444,
              "#bd3786"
             ],
             [
              0.5555555555555556,
              "#d8576b"
             ],
             [
              0.6666666666666666,
              "#ed7953"
             ],
             [
              0.7777777777777778,
              "#fb9f3a"
             ],
             [
              0.8888888888888888,
              "#fdca26"
             ],
             [
              1,
              "#f0f921"
             ]
            ],
            "type": "surface"
           }
          ],
          "table": [
           {
            "cells": {
             "fill": {
              "color": "#EBF0F8"
             },
             "line": {
              "color": "white"
             }
            },
            "header": {
             "fill": {
              "color": "#C8D4E3"
             },
             "line": {
              "color": "white"
             }
            },
            "type": "table"
           }
          ]
         },
         "layout": {
          "annotationdefaults": {
           "arrowcolor": "#2a3f5f",
           "arrowhead": 0,
           "arrowwidth": 1
          },
          "colorscale": {
           "diverging": [
            [
             0,
             "#8e0152"
            ],
            [
             0.1,
             "#c51b7d"
            ],
            [
             0.2,
             "#de77ae"
            ],
            [
             0.3,
             "#f1b6da"
            ],
            [
             0.4,
             "#fde0ef"
            ],
            [
             0.5,
             "#f7f7f7"
            ],
            [
             0.6,
             "#e6f5d0"
            ],
            [
             0.7,
             "#b8e186"
            ],
            [
             0.8,
             "#7fbc41"
            ],
            [
             0.9,
             "#4d9221"
            ],
            [
             1,
             "#276419"
            ]
           ],
           "sequential": [
            [
             0,
             "#0d0887"
            ],
            [
             0.1111111111111111,
             "#46039f"
            ],
            [
             0.2222222222222222,
             "#7201a8"
            ],
            [
             0.3333333333333333,
             "#9c179e"
            ],
            [
             0.4444444444444444,
             "#bd3786"
            ],
            [
             0.5555555555555556,
             "#d8576b"
            ],
            [
             0.6666666666666666,
             "#ed7953"
            ],
            [
             0.7777777777777778,
             "#fb9f3a"
            ],
            [
             0.8888888888888888,
             "#fdca26"
            ],
            [
             1,
             "#f0f921"
            ]
           ],
           "sequentialminus": [
            [
             0,
             "#0d0887"
            ],
            [
             0.1111111111111111,
             "#46039f"
            ],
            [
             0.2222222222222222,
             "#7201a8"
            ],
            [
             0.3333333333333333,
             "#9c179e"
            ],
            [
             0.4444444444444444,
             "#bd3786"
            ],
            [
             0.5555555555555556,
             "#d8576b"
            ],
            [
             0.6666666666666666,
             "#ed7953"
            ],
            [
             0.7777777777777778,
             "#fb9f3a"
            ],
            [
             0.8888888888888888,
             "#fdca26"
            ],
            [
             1,
             "#f0f921"
            ]
           ]
          },
          "colorway": [
           "#636efa",
           "#EF553B",
           "#00cc96",
           "#ab63fa",
           "#FFA15A",
           "#19d3f3",
           "#FF6692",
           "#B6E880",
           "#FF97FF",
           "#FECB52"
          ],
          "font": {
           "color": "#2a3f5f"
          },
          "geo": {
           "bgcolor": "white",
           "lakecolor": "white",
           "landcolor": "#E5ECF6",
           "showlakes": true,
           "showland": true,
           "subunitcolor": "white"
          },
          "hoverlabel": {
           "align": "left"
          },
          "hovermode": "closest",
          "mapbox": {
           "style": "light"
          },
          "paper_bgcolor": "white",
          "plot_bgcolor": "#E5ECF6",
          "polar": {
           "angularaxis": {
            "gridcolor": "white",
            "linecolor": "white",
            "ticks": ""
           },
           "bgcolor": "#E5ECF6",
           "radialaxis": {
            "gridcolor": "white",
            "linecolor": "white",
            "ticks": ""
           }
          },
          "scene": {
           "xaxis": {
            "backgroundcolor": "#E5ECF6",
            "gridcolor": "white",
            "gridwidth": 2,
            "linecolor": "white",
            "showbackground": true,
            "ticks": "",
            "zerolinecolor": "white"
           },
           "yaxis": {
            "backgroundcolor": "#E5ECF6",
            "gridcolor": "white",
            "gridwidth": 2,
            "linecolor": "white",
            "showbackground": true,
            "ticks": "",
            "zerolinecolor": "white"
           },
           "zaxis": {
            "backgroundcolor": "#E5ECF6",
            "gridcolor": "white",
            "gridwidth": 2,
            "linecolor": "white",
            "showbackground": true,
            "ticks": "",
            "zerolinecolor": "white"
           }
          },
          "shapedefaults": {
           "line": {
            "color": "#2a3f5f"
           }
          },
          "ternary": {
           "aaxis": {
            "gridcolor": "white",
            "linecolor": "white",
            "ticks": ""
           },
           "baxis": {
            "gridcolor": "white",
            "linecolor": "white",
            "ticks": ""
           },
           "bgcolor": "#E5ECF6",
           "caxis": {
            "gridcolor": "white",
            "linecolor": "white",
            "ticks": ""
           }
          },
          "title": {
           "x": 0.05
          },
          "xaxis": {
           "automargin": true,
           "gridcolor": "white",
           "linecolor": "white",
           "ticks": "",
           "zerolinecolor": "white",
           "zerolinewidth": 2
          },
          "yaxis": {
           "automargin": true,
           "gridcolor": "white",
           "linecolor": "white",
           "ticks": "",
           "zerolinecolor": "white",
           "zerolinewidth": 2
          }
         }
        },
        "width": 800,
        "xaxis": {
         "autorange": true,
         "range": [
          -0.06122798243651845,
          1.058003303234922
         ],
         "title": {
          "text": "width"
         },
         "type": "linear"
        },
        "yaxis": {
         "autorange": true,
         "range": [
          -0.06926235075907267,
          1.0741868164029678
         ],
         "title": {
          "text": "height"
         },
         "type": "linear"
        }
       }
      },
      "image/png": "[encoded data removed]",
      "text/html": [
       "<div>\n",
       "        \n",
       "        \n",
       "            <div id=\"4ba5f51b-55e1-4d0e-8b35-199e3877a458\" class=\"plotly-graph-div\" style=\"height:600px; width:800px;\"></div>\n",
       "            <script type=\"text/javascript\">\n",
       "                require([\"plotly\"], function(Plotly) {\n",
       "                    window.PLOTLYENV=window.PLOTLYENV || {};\n",
       "                    \n",
       "                if (document.getElementById(\"4ba5f51b-55e1-4d0e-8b35-199e3877a458\")) {\n",
       "                    Plotly.newPlot(\n",
       "                        '4ba5f51b-55e1-4d0e-8b35-199e3877a458',\n",
       "                        [{\"fill\": \"toself\", \"fillcolor\": \"rgba(255,65,54,0.5)\", \"hoverinfo\": \"none\", \"mode\": \"none\", \"showlegend\": false, \"type\": \"scatter\", \"x\": [], \"y\": []}, {\"fill\": \"toself\", \"fillcolor\": \"rgba(0,116,217,0.5)\", \"hoverinfo\": \"none\", \"mode\": \"none\", \"showlegend\": false, \"type\": \"scatter\", \"x\": [], \"y\": []}, {\"marker\": {\"color\": \"black\"}, \"mode\": \"lines\", \"showlegend\": false, \"type\": \"scatter\", \"x\": [], \"y\": []}, {\"marker\": {\"color\": \"rgba(128,128,128,1.0)\", \"line\": {\"width\": 1}, \"size\": 10}, \"mode\": \"markers\", \"name\": \"Unknown\", \"type\": \"scatter\", \"x\": [0.20729979472648374, 0.7852087214162017, 0.011815321573685478, 0.25361835400399335, 0.39147726744087674, 0.3624523478185918, 0.6889296786132615, 0.46509353592568636, 0.4475842082183048, 0.5385185476249709, 0.8461350680637683, 0.10297020819531122, 0.6343955124170224, 0.7784920026119713, 0.09219445499870871, 0.3793015804474975, 0.005663574871188737, 0.6072530024537646, 0.2949273383847558, 0.7558636481607831, 0.7497269493496418, 0.8371308445624882, 0.44304346996054866, 0.5086225661439524, 0.017233164701023207, 0.26448160391272735, 0.6920626400729134, 0.09747909679616262, 0.9456781589885701, 0.16817534067205608, 0.9911117459272148, 0.6953952373403927, 0.15057675774490886, 0.4132628864441835, 0.33554416059375947, 0.7480307965909924, 0.7219276657796583, 0.23063957209851493, 0.46580900635983713, 0.8811981326978863, 0.9771731691104963, 0.044327418898669535, 0.6703257299854498, 0.903628599121053, 0.2930256970511135, 0.9608203890000961, 0.4396678501906073, 0.4492437086107962, 0.49746686717784505, 0.7738068961789438, 0.8489982642120467, 0.7317246635510961, 0.8261873619481869, 0.07019940001619929, 0.7891181362893877, 0.553836669741516, 0.37765785249992256, 0.5982904919820594, 0.18571563025478932, 0.3929290703659868, 0.2565370725744398, 0.21084811908654089, 0.2071935266763537, 0.9423408877138495, 0.6399057444436431, 0.5395209125515102, 0.46475330797932946, 0.9143132504848973, 0.19157558108930017, 0.6329372082982035, 0.3988219647137673, 0.1962380713340871, 0.6253108084357663, 0.40476373786038633, 0.35878587983221166, 0.3843784425742115, 0.8696676775654443, 0.06371896003176192, 0.44474146589432906, 0.711233599696383, 0.3087890825705357, 0.6521886785079585, 0.14126665052705012, 0.9341271293023133, 0.2721663796005638, 0.42191430732229196, 0.7285759485999925, 0.7173646250081446, 0.32028134046090795, 0.5545325413503458, 0.17243259490431762, 0.9744924438436668, 0.11708210623242432, 0.13086193239663924, 0.8996775677414345, 0.42582883320875353, 0.44367746756858417, 0.608301314162011, 0.12973608050584895, 0.4726849130371895], \"y\": [0.25893447150629323, 0.8801282601490411, 0.19572097934214994, 0.11398602427303439, 0.9902341168393478, 0.7147652189836945, 0.7430952994510038, 0.24442540379476874, 0.6118491869392747, 0.9699028227339452, 0.7138992530637794, 0.16937206993928033, 0.14567641675401288, 0.657323451474926, 0.9839468081389631, 0.2811846424503812, 0.022025396569259614, 0.23996323424762234, 0.2813838303557217, 0.0634725183807785, 0.7250013519691538, 0.37041140714217047, 0.6585238637061062, 0.6042062539529426, 0.7697679191171746, 0.951491345326508, 0.32474198408760757, 0.23893902778554466, 0.8131865816085733, 0.9999987454382877, 0.855582371634859, 0.3903580249486802, 0.34988864253634955, 0.8188765069711557, 0.7621867562344152, 0.7794660952049448, 0.9808449379187373, 0.6005067906735647, 0.7659870258975235, 0.7972028271937127, 0.6589195494691795, 0.3345575255145554, 0.13936259256176786, 0.231306485868653, 0.5026815969108361, 0.9705784484937858, 0.22644420164753987, 0.2733349105253129, 0.1386349917286256, 0.45965619462473095, 0.8920738654051686, 0.34921680043481507, 0.4379378564948513, 0.4097215454370703, 0.4850704205265758, 0.31178959486846236, 0.45226974971199674, 0.28239004930483314, 0.5614497999861128, 0.45169251136267796, 0.3086928259396513, 0.28752490388334495, 0.897836663126441, 0.1125098328903138, 0.7000688958207165, 0.8181691748429399, 0.9623106103807788, 0.11844550446066504, 0.224029673340143, 0.5034229628063569, 0.03659822289785786, 0.8505864625324713, 0.8201676769403694, 0.6145034922186493, 0.8721917113759375, 0.6338703808964117, 0.7412066013609954, 0.4857533659716815, 0.8505541502691261, 0.6447496627016888, 0.21999516739688818, 0.3222498744424459, 0.7435065370589119, 0.6908051364292684, 0.7242363559913211, 0.7859986929568061, 0.25246133881293176, 0.9525415418369222, 0.004925720205607331, 0.8645052721529202, 0.2140866598653528, 0.4953781455105698, 0.5950059573479926, 0.673932280950764, 0.5751961949892045, 0.6989836552779226, 0.5335015094909471, 0.796935141679166, 0.35850387558956165, 0.08913639289429987]}, {\"marker\": {\"line\": {\"width\": 1}, \"size\": 10}, \"mode\": \"markers\", \"type\": \"scatter\", \"x\": [], \"y\": []}],\n",
       "                        {\"height\": 600, \"template\": {\"data\": {\"bar\": [{\"error_x\": {\"color\": \"#2a3f5f\"}, \"error_y\": {\"color\": \"#2a3f5f\"}, \"marker\": {\"line\": {\"color\": \"#E5ECF6\", \"width\": 0.5}}, \"type\": \"bar\"}], \"barpolar\": [{\"marker\": {\"line\": {\"color\": \"#E5ECF6\", \"width\": 0.5}}, \"type\": \"barpolar\"}], \"carpet\": [{\"aaxis\": {\"endlinecolor\": \"#2a3f5f\", \"gridcolor\": \"white\", \"linecolor\": \"white\", \"minorgridcolor\": \"white\", \"startlinecolor\": \"#2a3f5f\"}, \"baxis\": {\"endlinecolor\": \"#2a3f5f\", \"gridcolor\": \"white\", \"linecolor\": \"white\", \"minorgridcolor\": \"white\", \"startlinecolor\": \"#2a3f5f\"}, \"type\": \"carpet\"}], \"choropleth\": [{\"colorbar\": {\"outlinewidth\": 0, \"ticks\": \"\"}, \"type\": \"choropleth\"}], \"contour\": [{\"colorbar\": {\"outlinewidth\": 0, \"ticks\": \"\"}, \"colorscale\": [[0.0, \"#0d0887\"], [0.1111111111111111, \"#46039f\"], [0.2222222222222222, \"#7201a8\"], [0.3333333333333333, \"#9c179e\"], [0.4444444444444444, \"#bd3786\"], [0.5555555555555556, \"#d8576b\"], [0.6666666666666666, \"#ed7953\"], [0.7777777777777778, \"#fb9f3a\"], [0.8888888888888888, \"#fdca26\"], [1.0, \"#f0f921\"]], \"type\": \"contour\"}], \"contourcarpet\": [{\"colorbar\": {\"outlinewidth\": 0, \"ticks\": \"\"}, \"type\": \"contourcarpet\"}], \"heatmap\": [{\"colorbar\": {\"outlinewidth\": 0, \"ticks\": \"\"}, \"colorscale\": [[0.0, \"#0d0887\"], [0.1111111111111111, \"#46039f\"], [0.2222222222222222, \"#7201a8\"], [0.3333333333333333, \"#9c179e\"], [0.4444444444444444, \"#bd3786\"], [0.5555555555555556, \"#d8576b\"], [0.6666666666666666, \"#ed7953\"], [0.7777777777777778, \"#fb9f3a\"], [0.8888888888888888, \"#fdca26\"], [1.0, \"#f0f921\"]], \"type\": \"heatmap\"}], \"heatmapgl\": [{\"colorbar\": {\"outlinewidth\": 0, \"ticks\": \"\"}, \"colorscale\": [[0.0, \"#0d0887\"], [0.1111111111111111, \"#46039f\"], [0.2222222222222222, \"#7201a8\"], [0.3333333333333333, \"#9c179e\"], [0.4444444444444444, \"#bd3786\"], [0.5555555555555556, \"#d8576b\"], [0.6666666666666666, \"#ed7953\"], [0.7777777777777778, \"#fb9f3a\"], [0.8888888888888888, \"#fdca26\"], [1.0, \"#f0f921\"]], \"type\": \"heatmapgl\"}], \"histogram\": [{\"marker\": {\"colorbar\": {\"outlinewidth\": 0, \"ticks\": \"\"}}, \"type\": \"histogram\"}], \"histogram2d\": [{\"colorbar\": {\"outlinewidth\": 0, \"ticks\": \"\"}, \"colorscale\": [[0.0, \"#0d0887\"], [0.1111111111111111, \"#46039f\"], [0.2222222222222222, \"#7201a8\"], [0.3333333333333333, \"#9c179e\"], [0.4444444444444444, \"#bd3786\"], [0.5555555555555556, \"#d8576b\"], [0.6666666666666666, \"#ed7953\"], [0.7777777777777778, \"#fb9f3a\"], [0.8888888888888888, \"#fdca26\"], [1.0, \"#f0f921\"]], \"type\": \"histogram2d\"}], \"histogram2dcontour\": [{\"colorbar\": {\"outlinewidth\": 0, \"ticks\": \"\"}, \"colorscale\": [[0.0, \"#0d0887\"], [0.1111111111111111, \"#46039f\"], [0.2222222222222222, \"#7201a8\"], [0.3333333333333333, \"#9c179e\"], [0.4444444444444444, \"#bd3786\"], [0.5555555555555556, \"#d8576b\"], [0.6666666666666666, \"#ed7953\"], [0.7777777777777778, \"#fb9f3a\"], [0.8888888888888888, \"#fdca26\"], [1.0, \"#f0f921\"]], \"type\": \"histogram2dcontour\"}], \"mesh3d\": [{\"colorbar\": {\"outlinewidth\": 0, \"ticks\": \"\"}, \"type\": \"mesh3d\"}], \"parcoords\": [{\"line\": {\"colorbar\": {\"outlinewidth\": 0, \"ticks\": \"\"}}, \"type\": \"parcoords\"}], \"scatter\": [{\"marker\": {\"colorbar\": {\"outlinewidth\": 0, \"ticks\": \"\"}}, \"type\": \"scatter\"}], \"scatter3d\": [{\"line\": {\"colorbar\": {\"outlinewidth\": 0, \"ticks\": \"\"}}, \"marker\": {\"colorbar\": {\"outlinewidth\": 0, \"ticks\": \"\"}}, \"type\": \"scatter3d\"}], \"scattercarpet\": [{\"marker\": {\"colorbar\": {\"outlinewidth\": 0, \"ticks\": \"\"}}, \"type\": \"scattercarpet\"}], \"scattergeo\": [{\"marker\": {\"colorbar\": {\"outlinewidth\": 0, \"ticks\": \"\"}}, \"type\": \"scattergeo\"}], \"scattergl\": [{\"marker\": {\"colorbar\": {\"outlinewidth\": 0, \"ticks\": \"\"}}, \"type\": \"scattergl\"}], \"scattermapbox\": [{\"marker\": {\"colorbar\": {\"outlinewidth\": 0, \"ticks\": \"\"}}, \"type\": \"scattermapbox\"}], \"scatterpolar\": [{\"marker\": {\"colorbar\": {\"outlinewidth\": 0, \"ticks\": \"\"}}, \"type\": \"scatterpolar\"}], \"scatterpolargl\": [{\"marker\": {\"colorbar\": {\"outlinewidth\": 0, \"ticks\": \"\"}}, \"type\": \"scatterpolargl\"}], \"scatterternary\": [{\"marker\": {\"colorbar\": {\"outlinewidth\": 0, \"ticks\": \"\"}}, \"type\": \"scatterternary\"}], \"surface\": [{\"colorbar\": {\"outlinewidth\": 0, \"ticks\": \"\"}, \"colorscale\": [[0.0, \"#0d0887\"], [0.1111111111111111, \"#46039f\"], [0.2222222222222222, \"#7201a8\"], [0.3333333333333333, \"#9c179e\"], [0.4444444444444444, \"#bd3786\"], [0.5555555555555556, \"#d8576b\"], [0.6666666666666666, \"#ed7953\"], [0.7777777777777778, \"#fb9f3a\"], [0.8888888888888888, \"#fdca26\"], [1.0, \"#f0f921\"]], \"type\": \"surface\"}], \"table\": [{\"cells\": {\"fill\": {\"color\": \"#EBF0F8\"}, \"line\": {\"color\": \"white\"}}, \"header\": {\"fill\": {\"color\": \"#C8D4E3\"}, \"line\": {\"color\": \"white\"}}, \"type\": \"table\"}]}, \"layout\": {\"annotationdefaults\": {\"arrowcolor\": \"#2a3f5f\", \"arrowhead\": 0, \"arrowwidth\": 1}, \"colorscale\": {\"diverging\": [[0, \"#8e0152\"], [0.1, \"#c51b7d\"], [0.2, \"#de77ae\"], [0.3, \"#f1b6da\"], [0.4, \"#fde0ef\"], [0.5, \"#f7f7f7\"], [0.6, \"#e6f5d0\"], [0.7, \"#b8e186\"], [0.8, \"#7fbc41\"], [0.9, \"#4d9221\"], [1, \"#276419\"]], \"sequential\": [[0.0, \"#0d0887\"], [0.1111111111111111, \"#46039f\"], [0.2222222222222222, \"#7201a8\"], [0.3333333333333333, \"#9c179e\"], [0.4444444444444444, \"#bd3786\"], [0.5555555555555556, \"#d8576b\"], [0.6666666666666666, \"#ed7953\"], [0.7777777777777778, \"#fb9f3a\"], [0.8888888888888888, \"#fdca26\"], [1.0, \"#f0f921\"]], \"sequentialminus\": [[0.0, \"#0d0887\"], [0.1111111111111111, \"#46039f\"], [0.2222222222222222, \"#7201a8\"], [0.3333333333333333, \"#9c179e\"], [0.4444444444444444, \"#bd3786\"], [0.5555555555555556, \"#d8576b\"], [0.6666666666666666, \"#ed7953\"], [0.7777777777777778, \"#fb9f3a\"], [0.8888888888888888, \"#fdca26\"], [1.0, \"#f0f921\"]]}, \"colorway\": [\"#636efa\", \"#EF553B\", \"#00cc96\", \"#ab63fa\", \"#FFA15A\", \"#19d3f3\", \"#FF6692\", \"#B6E880\", \"#FF97FF\", \"#FECB52\"], \"font\": {\"color\": \"#2a3f5f\"}, \"geo\": {\"bgcolor\": \"white\", \"lakecolor\": \"white\", \"landcolor\": \"#E5ECF6\", \"showlakes\": true, \"showland\": true, \"subunitcolor\": \"white\"}, \"hoverlabel\": {\"align\": \"left\"}, \"hovermode\": \"closest\", \"mapbox\": {\"style\": \"light\"}, \"paper_bgcolor\": \"white\", \"plot_bgcolor\": \"#E5ECF6\", \"polar\": {\"angularaxis\": {\"gridcolor\": \"white\", \"linecolor\": \"white\", \"ticks\": \"\"}, \"bgcolor\": \"#E5ECF6\", \"radialaxis\": {\"gridcolor\": \"white\", \"linecolor\": \"white\", \"ticks\": \"\"}}, \"scene\": {\"xaxis\": {\"backgroundcolor\": \"#E5ECF6\", \"gridcolor\": \"white\", \"gridwidth\": 2, \"linecolor\": \"white\", \"showbackground\": true, \"ticks\": \"\", \"zerolinecolor\": \"white\"}, \"yaxis\": {\"backgroundcolor\": \"#E5ECF6\", \"gridcolor\": \"white\", \"gridwidth\": 2, \"linecolor\": \"white\", \"showbackground\": true, \"ticks\": \"\", \"zerolinecolor\": \"white\"}, \"zaxis\": {\"backgroundcolor\": \"#E5ECF6\", \"gridcolor\": \"white\", \"gridwidth\": 2, \"linecolor\": \"white\", \"showbackground\": true, \"ticks\": \"\", \"zerolinecolor\": \"white\"}}, \"shapedefaults\": {\"line\": {\"color\": \"#2a3f5f\"}}, \"ternary\": {\"aaxis\": {\"gridcolor\": \"white\", \"linecolor\": \"white\", \"ticks\": \"\"}, \"baxis\": {\"gridcolor\": \"white\", \"linecolor\": \"white\", \"ticks\": \"\"}, \"bgcolor\": \"#E5ECF6\", \"caxis\": {\"gridcolor\": \"white\", \"linecolor\": \"white\", \"ticks\": \"\"}}, \"title\": {\"x\": 0.05}, \"xaxis\": {\"automargin\": true, \"gridcolor\": \"white\", \"linecolor\": \"white\", \"ticks\": \"\", \"zerolinecolor\": \"white\", \"zerolinewidth\": 2}, \"yaxis\": {\"automargin\": true, \"gridcolor\": \"white\", \"linecolor\": \"white\", \"ticks\": \"\", \"zerolinecolor\": \"white\", \"zerolinewidth\": 2}}}, \"width\": 800, \"xaxis\": {\"title\": {\"text\": \"width\"}}, \"yaxis\": {\"title\": {\"text\": \"height\"}}},\n",
       "                        {\"responsive\": true}\n",
       "                    ).then(function(){\n",
       "                            \n",
       "var gd = document.getElementById('4ba5f51b-55e1-4d0e-8b35-199e3877a458');\n",
       "var x = new MutationObserver(function (mutations, observer) {{\n",
       "        var display = window.getComputedStyle(gd).display;\n",
       "        if (!display || display === 'none') {{\n",
       "            console.log([gd, 'removed!']);\n",
       "            Plotly.purge(gd);\n",
       "            observer.disconnect();\n",
       "        }}\n",
       "}});\n",
       "\n",
       "// Listen for the removal of the full notebook cells\n",
       "var notebookContainer = gd.closest('#notebook-container');\n",
       "if (notebookContainer) {{\n",
       "    x.observe(notebookContainer, {childList: true});\n",
       "}}\n",
       "\n",
       "// Listen for the clearing of the current output cell\n",
       "var outputEl = gd.closest('.output');\n",
       "if (outputEl) {{\n",
       "    x.observe(outputEl, {childList: true});\n",
       "}}\n",
       "\n",
       "                        })\n",
       "                };\n",
       "                });\n",
       "            </script>\n",
       "        </div>"
      ]
     },
     "metadata": {},
     "output_type": "display_data"
    }
   ],
   "source": [
    "layout = dict(width=800, height=600, yaxis=dict(title_text=\"height\"), xaxis=dict(title_text=\"width\"))\n",
    "plotter = Linear2D2ClassModelPlotter((0,1), (0,1), layout=layout)\n",
    "plotter.update_data_plots(data)\n",
    "plotter()"
   ]
  },
  {
   "cell_type": "markdown",
   "metadata": {
    "slideshow": {
     "slide_type": "subslide"
    }
   },
   "source": [
    "### En lineær modell for boks-dataen\n",
    "\n",
    "Er dette en god modell for boks-dataen vår?"
   ]
  },
  {
   "cell_type": "code",
   "execution_count": 38,
   "metadata": {},
   "outputs": [
    {
     "data": {
      "application/vnd.plotly.v1+json": {
       "config": {
        "plotlyServerURL": "https://plot.ly"
       },
       "data": [
        {
         "fill": "toself",
         "fillcolor": "rgba(255,65,54,0.5)",
         "hoverinfo": "none",
         "mode": "none",
         "showlegend": false,
         "type": "scatter",
         "x": [
          0.5666666666666667,
          1.05,
          1.05,
          -0.05,
          -0.05,
          0.5666666666666667
         ],
         "y": [
          1.05,
          1.05,
          -0.05,
          -0.05,
          0.125,
          1.05
         ]
        },
        {
         "fill": "toself",
         "fillcolor": "rgba(0,116,217,0.5)",
         "hoverinfo": "none",
         "mode": "none",
         "showlegend": false,
         "type": "scatter",
         "x": [
          -0.05,
          -0.05,
          0.5666666666666667,
          -0.05
         ],
         "y": [
          0.125,
          1.05,
          1.05,
          0.125
         ]
        },
        {
         "marker": {
          "color": "black"
         },
         "mode": "lines",
         "showlegend": false,
         "type": "scatter",
         "x": [],
         "y": []
        },
        {
         "marker": {
          "color": "rgba(128,128,128,1.0)",
          "line": {
           "width": 1
          },
          "size": 10
         },
         "mode": "markers",
         "name": "Unknown",
         "type": "scatter",
         "x": [
          0.20729979472648374,
          0.7852087214162017,
          0.011815321573685478,
          0.25361835400399335,
          0.39147726744087674,
          0.3624523478185918,
          0.6889296786132615,
          0.46509353592568636,
          0.4475842082183048,
          0.5385185476249709,
          0.8461350680637683,
          0.10297020819531122,
          0.6343955124170224,
          0.7784920026119713,
          0.09219445499870871,
          0.3793015804474975,
          0.005663574871188737,
          0.6072530024537646,
          0.2949273383847558,
          0.7558636481607831,
          0.7497269493496418,
          0.8371308445624882,
          0.44304346996054866,
          0.5086225661439524,
          0.017233164701023207,
          0.26448160391272735,
          0.6920626400729134,
          0.09747909679616262,
          0.9456781589885701,
          0.16817534067205608,
          0.9911117459272148,
          0.6953952373403927,
          0.15057675774490886,
          0.4132628864441835,
          0.33554416059375947,
          0.7480307965909924,
          0.7219276657796583,
          0.23063957209851493,
          0.46580900635983713,
          0.8811981326978863,
          0.9771731691104963,
          0.044327418898669535,
          0.6703257299854498,
          0.903628599121053,
          0.2930256970511135,
          0.9608203890000961,
          0.4396678501906073,
          0.4492437086107962,
          0.49746686717784505,
          0.7738068961789438,
          0.8489982642120467,
          0.7317246635510961,
          0.8261873619481869,
          0.07019940001619929,
          0.7891181362893877,
          0.553836669741516,
          0.37765785249992256,
          0.5982904919820594,
          0.18571563025478932,
          0.3929290703659868,
          0.2565370725744398,
          0.21084811908654089,
          0.2071935266763537,
          0.9423408877138495,
          0.6399057444436431,
          0.5395209125515102,
          0.46475330797932946,
          0.9143132504848973,
          0.19157558108930017,
          0.6329372082982035,
          0.3988219647137673,
          0.1962380713340871,
          0.6253108084357663,
          0.40476373786038633,
          0.35878587983221166,
          0.3843784425742115,
          0.8696676775654443,
          0.06371896003176192,
          0.44474146589432906,
          0.711233599696383,
          0.3087890825705357,
          0.6521886785079585,
          0.14126665052705012,
          0.9341271293023133,
          0.2721663796005638,
          0.42191430732229196,
          0.7285759485999925,
          0.7173646250081446,
          0.32028134046090795,
          0.5545325413503458,
          0.17243259490431762,
          0.9744924438436668,
          0.11708210623242432,
          0.13086193239663924,
          0.8996775677414345,
          0.42582883320875353,
          0.44367746756858417,
          0.608301314162011,
          0.12973608050584895,
          0.4726849130371895
         ],
         "y": [
          0.25893447150629323,
          0.8801282601490411,
          0.19572097934214994,
          0.11398602427303439,
          0.9902341168393478,
          0.7147652189836945,
          0.7430952994510038,
          0.24442540379476874,
          0.6118491869392747,
          0.9699028227339452,
          0.7138992530637794,
          0.16937206993928033,
          0.14567641675401288,
          0.657323451474926,
          0.9839468081389631,
          0.2811846424503812,
          0.022025396569259614,
          0.23996323424762234,
          0.2813838303557217,
          0.0634725183807785,
          0.7250013519691538,
          0.37041140714217047,
          0.6585238637061062,
          0.6042062539529426,
          0.7697679191171746,
          0.951491345326508,
          0.32474198408760757,
          0.23893902778554466,
          0.8131865816085733,
          0.9999987454382877,
          0.855582371634859,
          0.3903580249486802,
          0.34988864253634955,
          0.8188765069711557,
          0.7621867562344152,
          0.7794660952049448,
          0.9808449379187373,
          0.6005067906735647,
          0.7659870258975235,
          0.7972028271937127,
          0.6589195494691795,
          0.3345575255145554,
          0.13936259256176786,
          0.231306485868653,
          0.5026815969108361,
          0.9705784484937858,
          0.22644420164753987,
          0.2733349105253129,
          0.1386349917286256,
          0.45965619462473095,
          0.8920738654051686,
          0.34921680043481507,
          0.4379378564948513,
          0.4097215454370703,
          0.4850704205265758,
          0.31178959486846236,
          0.45226974971199674,
          0.28239004930483314,
          0.5614497999861128,
          0.45169251136267796,
          0.3086928259396513,
          0.28752490388334495,
          0.897836663126441,
          0.1125098328903138,
          0.7000688958207165,
          0.8181691748429399,
          0.9623106103807788,
          0.11844550446066504,
          0.224029673340143,
          0.5034229628063569,
          0.03659822289785786,
          0.8505864625324713,
          0.8201676769403694,
          0.6145034922186493,
          0.8721917113759375,
          0.6338703808964117,
          0.7412066013609954,
          0.4857533659716815,
          0.8505541502691261,
          0.6447496627016888,
          0.21999516739688818,
          0.3222498744424459,
          0.7435065370589119,
          0.6908051364292684,
          0.7242363559913211,
          0.7859986929568061,
          0.25246133881293176,
          0.9525415418369222,
          0.004925720205607331,
          0.8645052721529202,
          0.2140866598653528,
          0.4953781455105698,
          0.5950059573479926,
          0.673932280950764,
          0.5751961949892045,
          0.6989836552779226,
          0.5335015094909471,
          0.796935141679166,
          0.35850387558956165,
          0.08913639289429987
         ]
        },
        {
         "marker": {
          "line": {
           "width": 1
          },
          "size": 10
         },
         "mode": "markers",
         "type": "scatter",
         "x": [],
         "y": []
        }
       ],
       "layout": {
        "height": 600,
        "template": {
         "data": {
          "bar": [
           {
            "error_x": {
             "color": "#2a3f5f"
            },
            "error_y": {
             "color": "#2a3f5f"
            },
            "marker": {
             "line": {
              "color": "#E5ECF6",
              "width": 0.5
             }
            },
            "type": "bar"
           }
          ],
          "barpolar": [
           {
            "marker": {
             "line": {
              "color": "#E5ECF6",
              "width": 0.5
             }
            },
            "type": "barpolar"
           }
          ],
          "carpet": [
           {
            "aaxis": {
             "endlinecolor": "#2a3f5f",
             "gridcolor": "white",
             "linecolor": "white",
             "minorgridcolor": "white",
             "startlinecolor": "#2a3f5f"
            },
            "baxis": {
             "endlinecolor": "#2a3f5f",
             "gridcolor": "white",
             "linecolor": "white",
             "minorgridcolor": "white",
             "startlinecolor": "#2a3f5f"
            },
            "type": "carpet"
           }
          ],
          "choropleth": [
           {
            "colorbar": {
             "outlinewidth": 0,
             "ticks": ""
            },
            "type": "choropleth"
           }
          ],
          "contour": [
           {
            "colorbar": {
             "outlinewidth": 0,
             "ticks": ""
            },
            "colorscale": [
             [
              0,
              "#0d0887"
             ],
             [
              0.1111111111111111,
              "#46039f"
             ],
             [
              0.2222222222222222,
              "#7201a8"
             ],
             [
              0.3333333333333333,
              "#9c179e"
             ],
             [
              0.4444444444444444,
              "#bd3786"
             ],
             [
              0.5555555555555556,
              "#d8576b"
             ],
             [
              0.6666666666666666,
              "#ed7953"
             ],
             [
              0.7777777777777778,
              "#fb9f3a"
             ],
             [
              0.8888888888888888,
              "#fdca26"
             ],
             [
              1,
              "#f0f921"
             ]
            ],
            "type": "contour"
           }
          ],
          "contourcarpet": [
           {
            "colorbar": {
             "outlinewidth": 0,
             "ticks": ""
            },
            "type": "contourcarpet"
           }
          ],
          "heatmap": [
           {
            "colorbar": {
             "outlinewidth": 0,
             "ticks": ""
            },
            "colorscale": [
             [
              0,
              "#0d0887"
             ],
             [
              0.1111111111111111,
              "#46039f"
             ],
             [
              0.2222222222222222,
              "#7201a8"
             ],
             [
              0.3333333333333333,
              "#9c179e"
             ],
             [
              0.4444444444444444,
              "#bd3786"
             ],
             [
              0.5555555555555556,
              "#d8576b"
             ],
             [
              0.6666666666666666,
              "#ed7953"
             ],
             [
              0.7777777777777778,
              "#fb9f3a"
             ],
             [
              0.8888888888888888,
              "#fdca26"
             ],
             [
              1,
              "#f0f921"
             ]
            ],
            "type": "heatmap"
           }
          ],
          "heatmapgl": [
           {
            "colorbar": {
             "outlinewidth": 0,
             "ticks": ""
            },
            "colorscale": [
             [
              0,
              "#0d0887"
             ],
             [
              0.1111111111111111,
              "#46039f"
             ],
             [
              0.2222222222222222,
              "#7201a8"
             ],
             [
              0.3333333333333333,
              "#9c179e"
             ],
             [
              0.4444444444444444,
              "#bd3786"
             ],
             [
              0.5555555555555556,
              "#d8576b"
             ],
             [
              0.6666666666666666,
              "#ed7953"
             ],
             [
              0.7777777777777778,
              "#fb9f3a"
             ],
             [
              0.8888888888888888,
              "#fdca26"
             ],
             [
              1,
              "#f0f921"
             ]
            ],
            "type": "heatmapgl"
           }
          ],
          "histogram": [
           {
            "marker": {
             "colorbar": {
              "outlinewidth": 0,
              "ticks": ""
             }
            },
            "type": "histogram"
           }
          ],
          "histogram2d": [
           {
            "colorbar": {
             "outlinewidth": 0,
             "ticks": ""
            },
            "colorscale": [
             [
              0,
              "#0d0887"
             ],
             [
              0.1111111111111111,
              "#46039f"
             ],
             [
              0.2222222222222222,
              "#7201a8"
             ],
             [
              0.3333333333333333,
              "#9c179e"
             ],
             [
              0.4444444444444444,
              "#bd3786"
             ],
             [
              0.5555555555555556,
              "#d8576b"
             ],
             [
              0.6666666666666666,
              "#ed7953"
             ],
             [
              0.7777777777777778,
              "#fb9f3a"
             ],
             [
              0.8888888888888888,
              "#fdca26"
             ],
             [
              1,
              "#f0f921"
             ]
            ],
            "type": "histogram2d"
           }
          ],
          "histogram2dcontour": [
           {
            "colorbar": {
             "outlinewidth": 0,
             "ticks": ""
            },
            "colorscale": [
             [
              0,
              "#0d0887"
             ],
             [
              0.1111111111111111,
              "#46039f"
             ],
             [
              0.2222222222222222,
              "#7201a8"
             ],
             [
              0.3333333333333333,
              "#9c179e"
             ],
             [
              0.4444444444444444,
              "#bd3786"
             ],
             [
              0.5555555555555556,
              "#d8576b"
             ],
             [
              0.6666666666666666,
              "#ed7953"
             ],
             [
              0.7777777777777778,
              "#fb9f3a"
             ],
             [
              0.8888888888888888,
              "#fdca26"
             ],
             [
              1,
              "#f0f921"
             ]
            ],
            "type": "histogram2dcontour"
           }
          ],
          "mesh3d": [
           {
            "colorbar": {
             "outlinewidth": 0,
             "ticks": ""
            },
            "type": "mesh3d"
           }
          ],
          "parcoords": [
           {
            "line": {
             "colorbar": {
              "outlinewidth": 0,
              "ticks": ""
             }
            },
            "type": "parcoords"
           }
          ],
          "scatter": [
           {
            "marker": {
             "colorbar": {
              "outlinewidth": 0,
              "ticks": ""
             }
            },
            "type": "scatter"
           }
          ],
          "scatter3d": [
           {
            "line": {
             "colorbar": {
              "outlinewidth": 0,
              "ticks": ""
             }
            },
            "marker": {
             "colorbar": {
              "outlinewidth": 0,
              "ticks": ""
             }
            },
            "type": "scatter3d"
           }
          ],
          "scattercarpet": [
           {
            "marker": {
             "colorbar": {
              "outlinewidth": 0,
              "ticks": ""
             }
            },
            "type": "scattercarpet"
           }
          ],
          "scattergeo": [
           {
            "marker": {
             "colorbar": {
              "outlinewidth": 0,
              "ticks": ""
             }
            },
            "type": "scattergeo"
           }
          ],
          "scattergl": [
           {
            "marker": {
             "colorbar": {
              "outlinewidth": 0,
              "ticks": ""
             }
            },
            "type": "scattergl"
           }
          ],
          "scattermapbox": [
           {
            "marker": {
             "colorbar": {
              "outlinewidth": 0,
              "ticks": ""
             }
            },
            "type": "scattermapbox"
           }
          ],
          "scatterpolar": [
           {
            "marker": {
             "colorbar": {
              "outlinewidth": 0,
              "ticks": ""
             }
            },
            "type": "scatterpolar"
           }
          ],
          "scatterpolargl": [
           {
            "marker": {
             "colorbar": {
              "outlinewidth": 0,
              "ticks": ""
             }
            },
            "type": "scatterpolargl"
           }
          ],
          "scatterternary": [
           {
            "marker": {
             "colorbar": {
              "outlinewidth": 0,
              "ticks": ""
             }
            },
            "type": "scatterternary"
           }
          ],
          "surface": [
           {
            "colorbar": {
             "outlinewidth": 0,
             "ticks": ""
            },
            "colorscale": [
             [
              0,
              "#0d0887"
             ],
             [
              0.1111111111111111,
              "#46039f"
             ],
             [
              0.2222222222222222,
              "#7201a8"
             ],
             [
              0.3333333333333333,
              "#9c179e"
             ],
             [
              0.4444444444444444,
              "#bd3786"
             ],
             [
              0.5555555555555556,
              "#d8576b"
             ],
             [
              0.6666666666666666,
              "#ed7953"
             ],
             [
              0.7777777777777778,
              "#fb9f3a"
             ],
             [
              0.8888888888888888,
              "#fdca26"
             ],
             [
              1,
              "#f0f921"
             ]
            ],
            "type": "surface"
           }
          ],
          "table": [
           {
            "cells": {
             "fill": {
              "color": "#EBF0F8"
             },
             "line": {
              "color": "white"
             }
            },
            "header": {
             "fill": {
              "color": "#C8D4E3"
             },
             "line": {
              "color": "white"
             }
            },
            "type": "table"
           }
          ]
         },
         "layout": {
          "annotationdefaults": {
           "arrowcolor": "#2a3f5f",
           "arrowhead": 0,
           "arrowwidth": 1
          },
          "colorscale": {
           "diverging": [
            [
             0,
             "#8e0152"
            ],
            [
             0.1,
             "#c51b7d"
            ],
            [
             0.2,
             "#de77ae"
            ],
            [
             0.3,
             "#f1b6da"
            ],
            [
             0.4,
             "#fde0ef"
            ],
            [
             0.5,
             "#f7f7f7"
            ],
            [
             0.6,
             "#e6f5d0"
            ],
            [
             0.7,
             "#b8e186"
            ],
            [
             0.8,
             "#7fbc41"
            ],
            [
             0.9,
             "#4d9221"
            ],
            [
             1,
             "#276419"
            ]
           ],
           "sequential": [
            [
             0,
             "#0d0887"
            ],
            [
             0.1111111111111111,
             "#46039f"
            ],
            [
             0.2222222222222222,
             "#7201a8"
            ],
            [
             0.3333333333333333,
             "#9c179e"
            ],
            [
             0.4444444444444444,
             "#bd3786"
            ],
            [
             0.5555555555555556,
             "#d8576b"
            ],
            [
             0.6666666666666666,
             "#ed7953"
            ],
            [
             0.7777777777777778,
             "#fb9f3a"
            ],
            [
             0.8888888888888888,
             "#fdca26"
            ],
            [
             1,
             "#f0f921"
            ]
           ],
           "sequentialminus": [
            [
             0,
             "#0d0887"
            ],
            [
             0.1111111111111111,
             "#46039f"
            ],
            [
             0.2222222222222222,
             "#7201a8"
            ],
            [
             0.3333333333333333,
             "#9c179e"
            ],
            [
             0.4444444444444444,
             "#bd3786"
            ],
            [
             0.5555555555555556,
             "#d8576b"
            ],
            [
             0.6666666666666666,
             "#ed7953"
            ],
            [
             0.7777777777777778,
             "#fb9f3a"
            ],
            [
             0.8888888888888888,
             "#fdca26"
            ],
            [
             1,
             "#f0f921"
            ]
           ]
          },
          "colorway": [
           "#636efa",
           "#EF553B",
           "#00cc96",
           "#ab63fa",
           "#FFA15A",
           "#19d3f3",
           "#FF6692",
           "#B6E880",
           "#FF97FF",
           "#FECB52"
          ],
          "font": {
           "color": "#2a3f5f"
          },
          "geo": {
           "bgcolor": "white",
           "lakecolor": "white",
           "landcolor": "#E5ECF6",
           "showlakes": true,
           "showland": true,
           "subunitcolor": "white"
          },
          "hoverlabel": {
           "align": "left"
          },
          "hovermode": "closest",
          "mapbox": {
           "style": "light"
          },
          "paper_bgcolor": "white",
          "plot_bgcolor": "#E5ECF6",
          "polar": {
           "angularaxis": {
            "gridcolor": "white",
            "linecolor": "white",
            "ticks": ""
           },
           "bgcolor": "#E5ECF6",
           "radialaxis": {
            "gridcolor": "white",
            "linecolor": "white",
            "ticks": ""
           }
          },
          "scene": {
           "xaxis": {
            "backgroundcolor": "#E5ECF6",
            "gridcolor": "white",
            "gridwidth": 2,
            "linecolor": "white",
            "showbackground": true,
            "ticks": "",
            "zerolinecolor": "white"
           },
           "yaxis": {
            "backgroundcolor": "#E5ECF6",
            "gridcolor": "white",
            "gridwidth": 2,
            "linecolor": "white",
            "showbackground": true,
            "ticks": "",
            "zerolinecolor": "white"
           },
           "zaxis": {
            "backgroundcolor": "#E5ECF6",
            "gridcolor": "white",
            "gridwidth": 2,
            "linecolor": "white",
            "showbackground": true,
            "ticks": "",
            "zerolinecolor": "white"
           }
          },
          "shapedefaults": {
           "line": {
            "color": "#2a3f5f"
           }
          },
          "ternary": {
           "aaxis": {
            "gridcolor": "white",
            "linecolor": "white",
            "ticks": ""
           },
           "baxis": {
            "gridcolor": "white",
            "linecolor": "white",
            "ticks": ""
           },
           "bgcolor": "#E5ECF6",
           "caxis": {
            "gridcolor": "white",
            "linecolor": "white",
            "ticks": ""
           }
          },
          "title": {
           "x": 0.05
          },
          "xaxis": {
           "automargin": true,
           "gridcolor": "white",
           "linecolor": "white",
           "ticks": "",
           "zerolinecolor": "white",
           "zerolinewidth": 2
          },
          "yaxis": {
           "automargin": true,
           "gridcolor": "white",
           "linecolor": "white",
           "ticks": "",
           "zerolinecolor": "white",
           "zerolinewidth": 2
          }
         }
        },
        "width": 800,
        "xaxis": {
         "autorange": true,
         "range": [
          -0.06216842160685512,
          1.0589437424052588
         ],
         "title": {
          "text": "width"
         },
         "type": "linear"
        },
        "yaxis": {
         "autorange": true,
         "range": [
          -0.11111111111111112,
          1.1111111111111112
         ],
         "title": {
          "text": "height"
         },
         "type": "linear"
        }
       }
      },
      "image/png": "[encoded data removed]",
      "text/html": [
       "<div>\n",
       "        \n",
       "        \n",
       "            <div id=\"f396a193-b288-4e20-9996-24cd553a670f\" class=\"plotly-graph-div\" style=\"height:600px; width:800px;\"></div>\n",
       "            <script type=\"text/javascript\">\n",
       "                require([\"plotly\"], function(Plotly) {\n",
       "                    window.PLOTLYENV=window.PLOTLYENV || {};\n",
       "                    \n",
       "                if (document.getElementById(\"f396a193-b288-4e20-9996-24cd553a670f\")) {\n",
       "                    Plotly.newPlot(\n",
       "                        'f396a193-b288-4e20-9996-24cd553a670f',\n",
       "                        [{\"fill\": \"toself\", \"fillcolor\": \"rgba(255,65,54,0.5)\", \"hoverinfo\": \"none\", \"mode\": \"none\", \"showlegend\": false, \"type\": \"scatter\", \"x\": [0.5666666666666667, 1.05, 1.05, -0.05, -0.05, 0.5666666666666667], \"y\": [1.05, 1.05, -0.05, -0.05, 0.125, 1.05]}, {\"fill\": \"toself\", \"fillcolor\": \"rgba(0,116,217,0.5)\", \"hoverinfo\": \"none\", \"mode\": \"none\", \"showlegend\": false, \"type\": \"scatter\", \"x\": [-0.05, -0.05, 0.5666666666666667, -0.05], \"y\": [0.125, 1.05, 1.05, 0.125]}, {\"marker\": {\"color\": \"black\"}, \"mode\": \"lines\", \"showlegend\": false, \"type\": \"scatter\", \"x\": [], \"y\": []}, {\"marker\": {\"color\": \"rgba(128,128,128,1.0)\", \"line\": {\"width\": 1}, \"size\": 10}, \"mode\": \"markers\", \"name\": \"Unknown\", \"type\": \"scatter\", \"x\": [0.20729979472648374, 0.7852087214162017, 0.011815321573685478, 0.25361835400399335, 0.39147726744087674, 0.3624523478185918, 0.6889296786132615, 0.46509353592568636, 0.4475842082183048, 0.5385185476249709, 0.8461350680637683, 0.10297020819531122, 0.6343955124170224, 0.7784920026119713, 0.09219445499870871, 0.3793015804474975, 0.005663574871188737, 0.6072530024537646, 0.2949273383847558, 0.7558636481607831, 0.7497269493496418, 0.8371308445624882, 0.44304346996054866, 0.5086225661439524, 0.017233164701023207, 0.26448160391272735, 0.6920626400729134, 0.09747909679616262, 0.9456781589885701, 0.16817534067205608, 0.9911117459272148, 0.6953952373403927, 0.15057675774490886, 0.4132628864441835, 0.33554416059375947, 0.7480307965909924, 0.7219276657796583, 0.23063957209851493, 0.46580900635983713, 0.8811981326978863, 0.9771731691104963, 0.044327418898669535, 0.6703257299854498, 0.903628599121053, 0.2930256970511135, 0.9608203890000961, 0.4396678501906073, 0.4492437086107962, 0.49746686717784505, 0.7738068961789438, 0.8489982642120467, 0.7317246635510961, 0.8261873619481869, 0.07019940001619929, 0.7891181362893877, 0.553836669741516, 0.37765785249992256, 0.5982904919820594, 0.18571563025478932, 0.3929290703659868, 0.2565370725744398, 0.21084811908654089, 0.2071935266763537, 0.9423408877138495, 0.6399057444436431, 0.5395209125515102, 0.46475330797932946, 0.9143132504848973, 0.19157558108930017, 0.6329372082982035, 0.3988219647137673, 0.1962380713340871, 0.6253108084357663, 0.40476373786038633, 0.35878587983221166, 0.3843784425742115, 0.8696676775654443, 0.06371896003176192, 0.44474146589432906, 0.711233599696383, 0.3087890825705357, 0.6521886785079585, 0.14126665052705012, 0.9341271293023133, 0.2721663796005638, 0.42191430732229196, 0.7285759485999925, 0.7173646250081446, 0.32028134046090795, 0.5545325413503458, 0.17243259490431762, 0.9744924438436668, 0.11708210623242432, 0.13086193239663924, 0.8996775677414345, 0.42582883320875353, 0.44367746756858417, 0.608301314162011, 0.12973608050584895, 0.4726849130371895], \"y\": [0.25893447150629323, 0.8801282601490411, 0.19572097934214994, 0.11398602427303439, 0.9902341168393478, 0.7147652189836945, 0.7430952994510038, 0.24442540379476874, 0.6118491869392747, 0.9699028227339452, 0.7138992530637794, 0.16937206993928033, 0.14567641675401288, 0.657323451474926, 0.9839468081389631, 0.2811846424503812, 0.022025396569259614, 0.23996323424762234, 0.2813838303557217, 0.0634725183807785, 0.7250013519691538, 0.37041140714217047, 0.6585238637061062, 0.6042062539529426, 0.7697679191171746, 0.951491345326508, 0.32474198408760757, 0.23893902778554466, 0.8131865816085733, 0.9999987454382877, 0.855582371634859, 0.3903580249486802, 0.34988864253634955, 0.8188765069711557, 0.7621867562344152, 0.7794660952049448, 0.9808449379187373, 0.6005067906735647, 0.7659870258975235, 0.7972028271937127, 0.6589195494691795, 0.3345575255145554, 0.13936259256176786, 0.231306485868653, 0.5026815969108361, 0.9705784484937858, 0.22644420164753987, 0.2733349105253129, 0.1386349917286256, 0.45965619462473095, 0.8920738654051686, 0.34921680043481507, 0.4379378564948513, 0.4097215454370703, 0.4850704205265758, 0.31178959486846236, 0.45226974971199674, 0.28239004930483314, 0.5614497999861128, 0.45169251136267796, 0.3086928259396513, 0.28752490388334495, 0.897836663126441, 0.1125098328903138, 0.7000688958207165, 0.8181691748429399, 0.9623106103807788, 0.11844550446066504, 0.224029673340143, 0.5034229628063569, 0.03659822289785786, 0.8505864625324713, 0.8201676769403694, 0.6145034922186493, 0.8721917113759375, 0.6338703808964117, 0.7412066013609954, 0.4857533659716815, 0.8505541502691261, 0.6447496627016888, 0.21999516739688818, 0.3222498744424459, 0.7435065370589119, 0.6908051364292684, 0.7242363559913211, 0.7859986929568061, 0.25246133881293176, 0.9525415418369222, 0.004925720205607331, 0.8645052721529202, 0.2140866598653528, 0.4953781455105698, 0.5950059573479926, 0.673932280950764, 0.5751961949892045, 0.6989836552779226, 0.5335015094909471, 0.796935141679166, 0.35850387558956165, 0.08913639289429987]}, {\"marker\": {\"line\": {\"width\": 1}, \"size\": 10}, \"mode\": \"markers\", \"type\": \"scatter\", \"x\": [], \"y\": []}],\n",
       "                        {\"height\": 600, \"template\": {\"data\": {\"bar\": [{\"error_x\": {\"color\": \"#2a3f5f\"}, \"error_y\": {\"color\": \"#2a3f5f\"}, \"marker\": {\"line\": {\"color\": \"#E5ECF6\", \"width\": 0.5}}, \"type\": \"bar\"}], \"barpolar\": [{\"marker\": {\"line\": {\"color\": \"#E5ECF6\", \"width\": 0.5}}, \"type\": \"barpolar\"}], \"carpet\": [{\"aaxis\": {\"endlinecolor\": \"#2a3f5f\", \"gridcolor\": \"white\", \"linecolor\": \"white\", \"minorgridcolor\": \"white\", \"startlinecolor\": \"#2a3f5f\"}, \"baxis\": {\"endlinecolor\": \"#2a3f5f\", \"gridcolor\": \"white\", \"linecolor\": \"white\", \"minorgridcolor\": \"white\", \"startlinecolor\": \"#2a3f5f\"}, \"type\": \"carpet\"}], \"choropleth\": [{\"colorbar\": {\"outlinewidth\": 0, \"ticks\": \"\"}, \"type\": \"choropleth\"}], \"contour\": [{\"colorbar\": {\"outlinewidth\": 0, \"ticks\": \"\"}, \"colorscale\": [[0.0, \"#0d0887\"], [0.1111111111111111, \"#46039f\"], [0.2222222222222222, \"#7201a8\"], [0.3333333333333333, \"#9c179e\"], [0.4444444444444444, \"#bd3786\"], [0.5555555555555556, \"#d8576b\"], [0.6666666666666666, \"#ed7953\"], [0.7777777777777778, \"#fb9f3a\"], [0.8888888888888888, \"#fdca26\"], [1.0, \"#f0f921\"]], \"type\": \"contour\"}], \"contourcarpet\": [{\"colorbar\": {\"outlinewidth\": 0, \"ticks\": \"\"}, \"type\": \"contourcarpet\"}], \"heatmap\": [{\"colorbar\": {\"outlinewidth\": 0, \"ticks\": \"\"}, \"colorscale\": [[0.0, \"#0d0887\"], [0.1111111111111111, \"#46039f\"], [0.2222222222222222, \"#7201a8\"], [0.3333333333333333, \"#9c179e\"], [0.4444444444444444, \"#bd3786\"], [0.5555555555555556, \"#d8576b\"], [0.6666666666666666, \"#ed7953\"], [0.7777777777777778, \"#fb9f3a\"], [0.8888888888888888, \"#fdca26\"], [1.0, \"#f0f921\"]], \"type\": \"heatmap\"}], \"heatmapgl\": [{\"colorbar\": {\"outlinewidth\": 0, \"ticks\": \"\"}, \"colorscale\": [[0.0, \"#0d0887\"], [0.1111111111111111, \"#46039f\"], [0.2222222222222222, \"#7201a8\"], [0.3333333333333333, \"#9c179e\"], [0.4444444444444444, \"#bd3786\"], [0.5555555555555556, \"#d8576b\"], [0.6666666666666666, \"#ed7953\"], [0.7777777777777778, \"#fb9f3a\"], [0.8888888888888888, \"#fdca26\"], [1.0, \"#f0f921\"]], \"type\": \"heatmapgl\"}], \"histogram\": [{\"marker\": {\"colorbar\": {\"outlinewidth\": 0, \"ticks\": \"\"}}, \"type\": \"histogram\"}], \"histogram2d\": [{\"colorbar\": {\"outlinewidth\": 0, \"ticks\": \"\"}, \"colorscale\": [[0.0, \"#0d0887\"], [0.1111111111111111, \"#46039f\"], [0.2222222222222222, \"#7201a8\"], [0.3333333333333333, \"#9c179e\"], [0.4444444444444444, \"#bd3786\"], [0.5555555555555556, \"#d8576b\"], [0.6666666666666666, \"#ed7953\"], [0.7777777777777778, \"#fb9f3a\"], [0.8888888888888888, \"#fdca26\"], [1.0, \"#f0f921\"]], \"type\": \"histogram2d\"}], \"histogram2dcontour\": [{\"colorbar\": {\"outlinewidth\": 0, \"ticks\": \"\"}, \"colorscale\": [[0.0, \"#0d0887\"], [0.1111111111111111, \"#46039f\"], [0.2222222222222222, \"#7201a8\"], [0.3333333333333333, \"#9c179e\"], [0.4444444444444444, \"#bd3786\"], [0.5555555555555556, \"#d8576b\"], [0.6666666666666666, \"#ed7953\"], [0.7777777777777778, \"#fb9f3a\"], [0.8888888888888888, \"#fdca26\"], [1.0, \"#f0f921\"]], \"type\": \"histogram2dcontour\"}], \"mesh3d\": [{\"colorbar\": {\"outlinewidth\": 0, \"ticks\": \"\"}, \"type\": \"mesh3d\"}], \"parcoords\": [{\"line\": {\"colorbar\": {\"outlinewidth\": 0, \"ticks\": \"\"}}, \"type\": \"parcoords\"}], \"scatter\": [{\"marker\": {\"colorbar\": {\"outlinewidth\": 0, \"ticks\": \"\"}}, \"type\": \"scatter\"}], \"scatter3d\": [{\"line\": {\"colorbar\": {\"outlinewidth\": 0, \"ticks\": \"\"}}, \"marker\": {\"colorbar\": {\"outlinewidth\": 0, \"ticks\": \"\"}}, \"type\": \"scatter3d\"}], \"scattercarpet\": [{\"marker\": {\"colorbar\": {\"outlinewidth\": 0, \"ticks\": \"\"}}, \"type\": \"scattercarpet\"}], \"scattergeo\": [{\"marker\": {\"colorbar\": {\"outlinewidth\": 0, \"ticks\": \"\"}}, \"type\": \"scattergeo\"}], \"scattergl\": [{\"marker\": {\"colorbar\": {\"outlinewidth\": 0, \"ticks\": \"\"}}, \"type\": \"scattergl\"}], \"scattermapbox\": [{\"marker\": {\"colorbar\": {\"outlinewidth\": 0, \"ticks\": \"\"}}, \"type\": \"scattermapbox\"}], \"scatterpolar\": [{\"marker\": {\"colorbar\": {\"outlinewidth\": 0, \"ticks\": \"\"}}, \"type\": \"scatterpolar\"}], \"scatterpolargl\": [{\"marker\": {\"colorbar\": {\"outlinewidth\": 0, \"ticks\": \"\"}}, \"type\": \"scatterpolargl\"}], \"scatterternary\": [{\"marker\": {\"colorbar\": {\"outlinewidth\": 0, \"ticks\": \"\"}}, \"type\": \"scatterternary\"}], \"surface\": [{\"colorbar\": {\"outlinewidth\": 0, \"ticks\": \"\"}, \"colorscale\": [[0.0, \"#0d0887\"], [0.1111111111111111, \"#46039f\"], [0.2222222222222222, \"#7201a8\"], [0.3333333333333333, \"#9c179e\"], [0.4444444444444444, \"#bd3786\"], [0.5555555555555556, \"#d8576b\"], [0.6666666666666666, \"#ed7953\"], [0.7777777777777778, \"#fb9f3a\"], [0.8888888888888888, \"#fdca26\"], [1.0, \"#f0f921\"]], \"type\": \"surface\"}], \"table\": [{\"cells\": {\"fill\": {\"color\": \"#EBF0F8\"}, \"line\": {\"color\": \"white\"}}, \"header\": {\"fill\": {\"color\": \"#C8D4E3\"}, \"line\": {\"color\": \"white\"}}, \"type\": \"table\"}]}, \"layout\": {\"annotationdefaults\": {\"arrowcolor\": \"#2a3f5f\", \"arrowhead\": 0, \"arrowwidth\": 1}, \"colorscale\": {\"diverging\": [[0, \"#8e0152\"], [0.1, \"#c51b7d\"], [0.2, \"#de77ae\"], [0.3, \"#f1b6da\"], [0.4, \"#fde0ef\"], [0.5, \"#f7f7f7\"], [0.6, \"#e6f5d0\"], [0.7, \"#b8e186\"], [0.8, \"#7fbc41\"], [0.9, \"#4d9221\"], [1, \"#276419\"]], \"sequential\": [[0.0, \"#0d0887\"], [0.1111111111111111, \"#46039f\"], [0.2222222222222222, \"#7201a8\"], [0.3333333333333333, \"#9c179e\"], [0.4444444444444444, \"#bd3786\"], [0.5555555555555556, \"#d8576b\"], [0.6666666666666666, \"#ed7953\"], [0.7777777777777778, \"#fb9f3a\"], [0.8888888888888888, \"#fdca26\"], [1.0, \"#f0f921\"]], \"sequentialminus\": [[0.0, \"#0d0887\"], [0.1111111111111111, \"#46039f\"], [0.2222222222222222, \"#7201a8\"], [0.3333333333333333, \"#9c179e\"], [0.4444444444444444, \"#bd3786\"], [0.5555555555555556, \"#d8576b\"], [0.6666666666666666, \"#ed7953\"], [0.7777777777777778, \"#fb9f3a\"], [0.8888888888888888, \"#fdca26\"], [1.0, \"#f0f921\"]]}, \"colorway\": [\"#636efa\", \"#EF553B\", \"#00cc96\", \"#ab63fa\", \"#FFA15A\", \"#19d3f3\", \"#FF6692\", \"#B6E880\", \"#FF97FF\", \"#FECB52\"], \"font\": {\"color\": \"#2a3f5f\"}, \"geo\": {\"bgcolor\": \"white\", \"lakecolor\": \"white\", \"landcolor\": \"#E5ECF6\", \"showlakes\": true, \"showland\": true, \"subunitcolor\": \"white\"}, \"hoverlabel\": {\"align\": \"left\"}, \"hovermode\": \"closest\", \"mapbox\": {\"style\": \"light\"}, \"paper_bgcolor\": \"white\", \"plot_bgcolor\": \"#E5ECF6\", \"polar\": {\"angularaxis\": {\"gridcolor\": \"white\", \"linecolor\": \"white\", \"ticks\": \"\"}, \"bgcolor\": \"#E5ECF6\", \"radialaxis\": {\"gridcolor\": \"white\", \"linecolor\": \"white\", \"ticks\": \"\"}}, \"scene\": {\"xaxis\": {\"backgroundcolor\": \"#E5ECF6\", \"gridcolor\": \"white\", \"gridwidth\": 2, \"linecolor\": \"white\", \"showbackground\": true, \"ticks\": \"\", \"zerolinecolor\": \"white\"}, \"yaxis\": {\"backgroundcolor\": \"#E5ECF6\", \"gridcolor\": \"white\", \"gridwidth\": 2, \"linecolor\": \"white\", \"showbackground\": true, \"ticks\": \"\", \"zerolinecolor\": \"white\"}, \"zaxis\": {\"backgroundcolor\": \"#E5ECF6\", \"gridcolor\": \"white\", \"gridwidth\": 2, \"linecolor\": \"white\", \"showbackground\": true, \"ticks\": \"\", \"zerolinecolor\": \"white\"}}, \"shapedefaults\": {\"line\": {\"color\": \"#2a3f5f\"}}, \"ternary\": {\"aaxis\": {\"gridcolor\": \"white\", \"linecolor\": \"white\", \"ticks\": \"\"}, \"baxis\": {\"gridcolor\": \"white\", \"linecolor\": \"white\", \"ticks\": \"\"}, \"bgcolor\": \"#E5ECF6\", \"caxis\": {\"gridcolor\": \"white\", \"linecolor\": \"white\", \"ticks\": \"\"}}, \"title\": {\"x\": 0.05}, \"xaxis\": {\"automargin\": true, \"gridcolor\": \"white\", \"linecolor\": \"white\", \"ticks\": \"\", \"zerolinecolor\": \"white\", \"zerolinewidth\": 2}, \"yaxis\": {\"automargin\": true, \"gridcolor\": \"white\", \"linecolor\": \"white\", \"ticks\": \"\", \"zerolinecolor\": \"white\", \"zerolinewidth\": 2}}}, \"width\": 800, \"xaxis\": {\"title\": {\"text\": \"width\"}}, \"yaxis\": {\"title\": {\"text\": \"height\"}}},\n",
       "                        {\"responsive\": true}\n",
       "                    ).then(function(){\n",
       "                            \n",
       "var gd = document.getElementById('f396a193-b288-4e20-9996-24cd553a670f');\n",
       "var x = new MutationObserver(function (mutations, observer) {{\n",
       "        var display = window.getComputedStyle(gd).display;\n",
       "        if (!display || display === 'none') {{\n",
       "            console.log([gd, 'removed!']);\n",
       "            Plotly.purge(gd);\n",
       "            observer.disconnect();\n",
       "        }}\n",
       "}});\n",
       "\n",
       "// Listen for the removal of the full notebook cells\n",
       "var notebookContainer = gd.closest('#notebook-container');\n",
       "if (notebookContainer) {{\n",
       "    x.observe(notebookContainer, {childList: true});\n",
       "}}\n",
       "\n",
       "// Listen for the clearing of the current output cell\n",
       "var outputEl = gd.closest('.output');\n",
       "if (outputEl) {{\n",
       "    x.observe(outputEl, {childList: true});\n",
       "}}\n",
       "\n",
       "                        })\n",
       "                };\n",
       "                });\n",
       "            </script>\n",
       "        </div>"
      ]
     },
     "metadata": {},
     "output_type": "display_data"
    }
   ],
   "source": [
    "plotter.update_model_area_plots(lambda x: 1.5*x+0.2)\n",
    "plotter()"
   ]
  },
  {
   "cell_type": "markdown",
   "metadata": {
    "slideshow": {
     "slide_type": "fragment"
    }
   },
   "source": [
    "Umulig å vite. For å kunne en veiledet modell trenger vi noe som kan veilede modellen."
   ]
  },
  {
   "cell_type": "code",
   "execution_count": 39,
   "metadata": {
    "slideshow": {
     "slide_type": "skip"
    }
   },
   "outputs": [],
   "source": [
    "def predict(boolean_model, data, class_names):\n",
    "    label_ids = boolean_model(data)\n",
    "    label_names = np.asarray(class_names)\n",
    "    return label_names[label_ids.astype(int)]"
   ]
  },
  {
   "cell_type": "markdown",
   "metadata": {
    "slideshow": {
     "slide_type": "subslide"
    }
   },
   "source": [
    "### Tagging av hvert datapunkt\n",
    "\n",
    "- For å veilede modellen vår må hvert punkt tagges med en kategori eller tallverdi.\n",
    "- Mange potensielle måter å tagge boks-datapunktene våre, men én mulighet er å skille mellom \"vide\" og \"høye\" rektangler\n",
    "\n",
    "<center> <img src=\"../images/rectangle-classes.png\"  style=\"height:600px;width:auto;\"/> </center>"
   ]
  },
  {
   "cell_type": "markdown",
   "metadata": {
    "slideshow": {
     "slide_type": "fragment"
    }
   },
   "source": [
    "Obs: dette er *ikke* et problem som bør løses med maskinlæring, men det lar seg fint gjøre om man har samlet data med disse taggene"
   ]
  },
  {
   "cell_type": "markdown",
   "metadata": {
    "slideshow": {
     "slide_type": "subslide"
    }
   },
   "source": [
    "Vi vil da få et datasett på følgende format:"
   ]
  },
  {
   "cell_type": "code",
   "execution_count": 50,
   "metadata": {
    "slideshow": {
     "slide_type": "-"
    }
   },
   "outputs": [
    {
     "data": {
      "text/html": [
       "<div>\n",
       "<style scoped>\n",
       "    .dataframe tbody tr th:only-of-type {\n",
       "        vertical-align: middle;\n",
       "    }\n",
       "\n",
       "    .dataframe tbody tr th {\n",
       "        vertical-align: top;\n",
       "    }\n",
       "\n",
       "    .dataframe thead th {\n",
       "        text-align: right;\n",
       "    }\n",
       "</style>\n",
       "<table border=\"1\" class=\"dataframe\">\n",
       "  <thead>\n",
       "    <tr style=\"text-align: right;\">\n",
       "      <th></th>\n",
       "      <th>width</th>\n",
       "      <th>height</th>\n",
       "      <th>class</th>\n",
       "    </tr>\n",
       "  </thead>\n",
       "  <tbody>\n",
       "    <tr>\n",
       "      <th>0</th>\n",
       "      <td>0.20729979472648374</td>\n",
       "      <td>0.25893447150629323</td>\n",
       "      <td>Tall rectangle</td>\n",
       "    </tr>\n",
       "    <tr>\n",
       "      <th>1</th>\n",
       "      <td>0.7852087214162017</td>\n",
       "      <td>0.8801282601490411</td>\n",
       "      <td>Tall rectangle</td>\n",
       "    </tr>\n",
       "    <tr>\n",
       "      <th>2</th>\n",
       "      <td>0.011815321573685478</td>\n",
       "      <td>0.19572097934214994</td>\n",
       "      <td>Tall rectangle</td>\n",
       "    </tr>\n",
       "    <tr>\n",
       "      <th>3</th>\n",
       "      <td>0.25361835400399335</td>\n",
       "      <td>0.11398602427303439</td>\n",
       "      <td>Wide rectangle</td>\n",
       "    </tr>\n",
       "    <tr>\n",
       "      <th>4</th>\n",
       "      <td>0.39147726744087674</td>\n",
       "      <td>0.9902341168393478</td>\n",
       "      <td>Tall rectangle</td>\n",
       "    </tr>\n",
       "  </tbody>\n",
       "</table>\n",
       "</div>"
      ],
      "text/plain": [
       "                  width               height           class\n",
       "0   0.20729979472648374  0.25893447150629323  Tall rectangle\n",
       "1    0.7852087214162017   0.8801282601490411  Tall rectangle\n",
       "2  0.011815321573685478  0.19572097934214994  Tall rectangle\n",
       "3   0.25361835400399335  0.11398602427303439  Wide rectangle\n",
       "4   0.39147726744087674   0.9902341168393478  Tall rectangle"
      ]
     },
     "execution_count": 50,
     "metadata": {},
     "output_type": "execute_result"
    }
   ],
   "source": [
    "class_names = [\"Tall rectangle\", \"Wide rectangle\"]\n",
    "model = lambda data: data[:,0] > data[:,1]\n",
    "labels = predict(model, data, class_names)\n",
    "pd.DataFrame(np.asarray([*data.T, labels]).T, columns=(\"width\", \"height\", \"class\")).head(5)"
   ]
  },
  {
   "cell_type": "code",
   "execution_count": 51,
   "metadata": {
    "slideshow": {
     "slide_type": "subslide"
    }
   },
   "outputs": [
    {
     "data": {
      "application/vnd.plotly.v1+json": {
       "config": {
        "plotlyServerURL": "https://plot.ly"
       },
       "data": [
        {
         "fill": "toself",
         "fillcolor": "rgba(255,65,54,0.5)",
         "hoverinfo": "none",
         "mode": "none",
         "showlegend": false,
         "type": "scatter",
         "visible": false,
         "x": [
          1.05,
          1.05,
          -0.05,
          -0.05,
          1.05
         ],
         "y": [
          0.9450000000000001,
          -0.05,
          -0.05,
          -0.045000000000000005,
          0.9450000000000001
         ]
        },
        {
         "fill": "toself",
         "fillcolor": "rgba(0,116,217,0.5)",
         "hoverinfo": "none",
         "mode": "none",
         "showlegend": false,
         "type": "scatter",
         "visible": false,
         "x": [
          -0.05,
          -0.05,
          1.05,
          1.05,
          -0.05
         ],
         "y": [
          -0.045000000000000005,
          1.05,
          1.05,
          0.9450000000000001,
          -0.045000000000000005
         ]
        },
        {
         "marker": {
          "color": "black"
         },
         "mode": "lines",
         "showlegend": false,
         "type": "scatter",
         "x": [],
         "y": []
        },
        {
         "marker": {
          "color": "rgba(255,65,54,1.0)",
          "line": {
           "width": 1
          },
          "size": 10
         },
         "mode": "markers",
         "name": "Wide rectangle",
         "type": "scatter",
         "visible": true,
         "x": [
          0.25361835400399335,
          0.46509353592568636,
          0.8461350680637683,
          0.6343955124170224,
          0.7784920026119713,
          0.3793015804474975,
          0.6072530024537646,
          0.2949273383847558,
          0.7558636481607831,
          0.7497269493496418,
          0.8371308445624882,
          0.6920626400729134,
          0.9456781589885701,
          0.9911117459272148,
          0.6953952373403927,
          0.8811981326978863,
          0.9771731691104963,
          0.6703257299854498,
          0.903628599121053,
          0.4396678501906073,
          0.4492437086107962,
          0.49746686717784505,
          0.7738068961789438,
          0.7317246635510961,
          0.8261873619481869,
          0.7891181362893877,
          0.553836669741516,
          0.5982904919820594,
          0.9423408877138495,
          0.9143132504848973,
          0.6329372082982035,
          0.3988219647137673,
          0.8696676775654443,
          0.711233599696383,
          0.3087890825705357,
          0.6521886785079585,
          0.9341271293023133,
          0.7285759485999925,
          0.32028134046090795,
          0.9744924438436668,
          0.8996775677414345,
          0.4726849130371895
         ],
         "y": [
          0.11398602427303439,
          0.24442540379476874,
          0.7138992530637794,
          0.14567641675401288,
          0.657323451474926,
          0.2811846424503812,
          0.23996323424762234,
          0.2813838303557217,
          0.0634725183807785,
          0.7250013519691538,
          0.37041140714217047,
          0.32474198408760757,
          0.8131865816085733,
          0.855582371634859,
          0.3903580249486802,
          0.7972028271937127,
          0.6589195494691795,
          0.13936259256176786,
          0.231306485868653,
          0.22644420164753987,
          0.2733349105253129,
          0.1386349917286256,
          0.45965619462473095,
          0.34921680043481507,
          0.4379378564948513,
          0.4850704205265758,
          0.31178959486846236,
          0.28239004930483314,
          0.1125098328903138,
          0.11844550446066504,
          0.5034229628063569,
          0.03659822289785786,
          0.7412066013609954,
          0.6447496627016888,
          0.21999516739688818,
          0.3222498744424459,
          0.6908051364292684,
          0.25246133881293176,
          0.004925720205607331,
          0.4953781455105698,
          0.5751961949892045,
          0.08913639289429987
         ]
        },
        {
         "marker": {
          "color": "rgba(0,116,217,1.0)",
          "line": {
           "width": 1
          },
          "size": 10
         },
         "mode": "markers",
         "name": "Tall rectangle",
         "type": "scatter",
         "visible": true,
         "x": [
          0.20729979472648374,
          0.7852087214162017,
          0.011815321573685478,
          0.39147726744087674,
          0.3624523478185918,
          0.6889296786132615,
          0.4475842082183048,
          0.5385185476249709,
          0.10297020819531122,
          0.09219445499870871,
          0.005663574871188737,
          0.44304346996054866,
          0.5086225661439524,
          0.017233164701023207,
          0.26448160391272735,
          0.09747909679616262,
          0.16817534067205608,
          0.15057675774490886,
          0.4132628864441835,
          0.33554416059375947,
          0.7480307965909924,
          0.7219276657796583,
          0.23063957209851493,
          0.46580900635983713,
          0.044327418898669535,
          0.2930256970511135,
          0.9608203890000961,
          0.8489982642120467,
          0.07019940001619929,
          0.37765785249992256,
          0.18571563025478932,
          0.3929290703659868,
          0.2565370725744398,
          0.21084811908654089,
          0.2071935266763537,
          0.6399057444436431,
          0.5395209125515102,
          0.46475330797932946,
          0.19157558108930017,
          0.1962380713340871,
          0.6253108084357663,
          0.40476373786038633,
          0.35878587983221166,
          0.3843784425742115,
          0.06371896003176192,
          0.44474146589432906,
          0.14126665052705012,
          0.2721663796005638,
          0.42191430732229196,
          0.7173646250081446,
          0.5545325413503458,
          0.17243259490431762,
          0.11708210623242432,
          0.13086193239663924,
          0.42582883320875353,
          0.44367746756858417,
          0.608301314162011,
          0.12973608050584895
         ],
         "y": [
          0.25893447150629323,
          0.8801282601490411,
          0.19572097934214994,
          0.9902341168393478,
          0.7147652189836945,
          0.7430952994510038,
          0.6118491869392747,
          0.9699028227339452,
          0.16937206993928033,
          0.9839468081389631,
          0.022025396569259614,
          0.6585238637061062,
          0.6042062539529426,
          0.7697679191171746,
          0.951491345326508,
          0.23893902778554466,
          0.9999987454382877,
          0.34988864253634955,
          0.8188765069711557,
          0.7621867562344152,
          0.7794660952049448,
          0.9808449379187373,
          0.6005067906735647,
          0.7659870258975235,
          0.3345575255145554,
          0.5026815969108361,
          0.9705784484937858,
          0.8920738654051686,
          0.4097215454370703,
          0.45226974971199674,
          0.5614497999861128,
          0.45169251136267796,
          0.3086928259396513,
          0.28752490388334495,
          0.897836663126441,
          0.7000688958207165,
          0.8181691748429399,
          0.9623106103807788,
          0.224029673340143,
          0.8505864625324713,
          0.8201676769403694,
          0.6145034922186493,
          0.8721917113759375,
          0.6338703808964117,
          0.4857533659716815,
          0.8505541502691261,
          0.7435065370589119,
          0.7242363559913211,
          0.7859986929568061,
          0.9525415418369222,
          0.8645052721529202,
          0.2140866598653528,
          0.5950059573479926,
          0.673932280950764,
          0.6989836552779226,
          0.5335015094909471,
          0.796935141679166,
          0.35850387558956165
         ]
        }
       ],
       "layout": {
        "height": 600,
        "template": {
         "data": {
          "bar": [
           {
            "error_x": {
             "color": "#2a3f5f"
            },
            "error_y": {
             "color": "#2a3f5f"
            },
            "marker": {
             "line": {
              "color": "#E5ECF6",
              "width": 0.5
             }
            },
            "type": "bar"
           }
          ],
          "barpolar": [
           {
            "marker": {
             "line": {
              "color": "#E5ECF6",
              "width": 0.5
             }
            },
            "type": "barpolar"
           }
          ],
          "carpet": [
           {
            "aaxis": {
             "endlinecolor": "#2a3f5f",
             "gridcolor": "white",
             "linecolor": "white",
             "minorgridcolor": "white",
             "startlinecolor": "#2a3f5f"
            },
            "baxis": {
             "endlinecolor": "#2a3f5f",
             "gridcolor": "white",
             "linecolor": "white",
             "minorgridcolor": "white",
             "startlinecolor": "#2a3f5f"
            },
            "type": "carpet"
           }
          ],
          "choropleth": [
           {
            "colorbar": {
             "outlinewidth": 0,
             "ticks": ""
            },
            "type": "choropleth"
           }
          ],
          "contour": [
           {
            "colorbar": {
             "outlinewidth": 0,
             "ticks": ""
            },
            "colorscale": [
             [
              0,
              "#0d0887"
             ],
             [
              0.1111111111111111,
              "#46039f"
             ],
             [
              0.2222222222222222,
              "#7201a8"
             ],
             [
              0.3333333333333333,
              "#9c179e"
             ],
             [
              0.4444444444444444,
              "#bd3786"
             ],
             [
              0.5555555555555556,
              "#d8576b"
             ],
             [
              0.6666666666666666,
              "#ed7953"
             ],
             [
              0.7777777777777778,
              "#fb9f3a"
             ],
             [
              0.8888888888888888,
              "#fdca26"
             ],
             [
              1,
              "#f0f921"
             ]
            ],
            "type": "contour"
           }
          ],
          "contourcarpet": [
           {
            "colorbar": {
             "outlinewidth": 0,
             "ticks": ""
            },
            "type": "contourcarpet"
           }
          ],
          "heatmap": [
           {
            "colorbar": {
             "outlinewidth": 0,
             "ticks": ""
            },
            "colorscale": [
             [
              0,
              "#0d0887"
             ],
             [
              0.1111111111111111,
              "#46039f"
             ],
             [
              0.2222222222222222,
              "#7201a8"
             ],
             [
              0.3333333333333333,
              "#9c179e"
             ],
             [
              0.4444444444444444,
              "#bd3786"
             ],
             [
              0.5555555555555556,
              "#d8576b"
             ],
             [
              0.6666666666666666,
              "#ed7953"
             ],
             [
              0.7777777777777778,
              "#fb9f3a"
             ],
             [
              0.8888888888888888,
              "#fdca26"
             ],
             [
              1,
              "#f0f921"
             ]
            ],
            "type": "heatmap"
           }
          ],
          "heatmapgl": [
           {
            "colorbar": {
             "outlinewidth": 0,
             "ticks": ""
            },
            "colorscale": [
             [
              0,
              "#0d0887"
             ],
             [
              0.1111111111111111,
              "#46039f"
             ],
             [
              0.2222222222222222,
              "#7201a8"
             ],
             [
              0.3333333333333333,
              "#9c179e"
             ],
             [
              0.4444444444444444,
              "#bd3786"
             ],
             [
              0.5555555555555556,
              "#d8576b"
             ],
             [
              0.6666666666666666,
              "#ed7953"
             ],
             [
              0.7777777777777778,
              "#fb9f3a"
             ],
             [
              0.8888888888888888,
              "#fdca26"
             ],
             [
              1,
              "#f0f921"
             ]
            ],
            "type": "heatmapgl"
           }
          ],
          "histogram": [
           {
            "marker": {
             "colorbar": {
              "outlinewidth": 0,
              "ticks": ""
             }
            },
            "type": "histogram"
           }
          ],
          "histogram2d": [
           {
            "colorbar": {
             "outlinewidth": 0,
             "ticks": ""
            },
            "colorscale": [
             [
              0,
              "#0d0887"
             ],
             [
              0.1111111111111111,
              "#46039f"
             ],
             [
              0.2222222222222222,
              "#7201a8"
             ],
             [
              0.3333333333333333,
              "#9c179e"
             ],
             [
              0.4444444444444444,
              "#bd3786"
             ],
             [
              0.5555555555555556,
              "#d8576b"
             ],
             [
              0.6666666666666666,
              "#ed7953"
             ],
             [
              0.7777777777777778,
              "#fb9f3a"
             ],
             [
              0.8888888888888888,
              "#fdca26"
             ],
             [
              1,
              "#f0f921"
             ]
            ],
            "type": "histogram2d"
           }
          ],
          "histogram2dcontour": [
           {
            "colorbar": {
             "outlinewidth": 0,
             "ticks": ""
            },
            "colorscale": [
             [
              0,
              "#0d0887"
             ],
             [
              0.1111111111111111,
              "#46039f"
             ],
             [
              0.2222222222222222,
              "#7201a8"
             ],
             [
              0.3333333333333333,
              "#9c179e"
             ],
             [
              0.4444444444444444,
              "#bd3786"
             ],
             [
              0.5555555555555556,
              "#d8576b"
             ],
             [
              0.6666666666666666,
              "#ed7953"
             ],
             [
              0.7777777777777778,
              "#fb9f3a"
             ],
             [
              0.8888888888888888,
              "#fdca26"
             ],
             [
              1,
              "#f0f921"
             ]
            ],
            "type": "histogram2dcontour"
           }
          ],
          "mesh3d": [
           {
            "colorbar": {
             "outlinewidth": 0,
             "ticks": ""
            },
            "type": "mesh3d"
           }
          ],
          "parcoords": [
           {
            "line": {
             "colorbar": {
              "outlinewidth": 0,
              "ticks": ""
             }
            },
            "type": "parcoords"
           }
          ],
          "scatter": [
           {
            "marker": {
             "colorbar": {
              "outlinewidth": 0,
              "ticks": ""
             }
            },
            "type": "scatter"
           }
          ],
          "scatter3d": [
           {
            "line": {
             "colorbar": {
              "outlinewidth": 0,
              "ticks": ""
             }
            },
            "marker": {
             "colorbar": {
              "outlinewidth": 0,
              "ticks": ""
             }
            },
            "type": "scatter3d"
           }
          ],
          "scattercarpet": [
           {
            "marker": {
             "colorbar": {
              "outlinewidth": 0,
              "ticks": ""
             }
            },
            "type": "scattercarpet"
           }
          ],
          "scattergeo": [
           {
            "marker": {
             "colorbar": {
              "outlinewidth": 0,
              "ticks": ""
             }
            },
            "type": "scattergeo"
           }
          ],
          "scattergl": [
           {
            "marker": {
             "colorbar": {
              "outlinewidth": 0,
              "ticks": ""
             }
            },
            "type": "scattergl"
           }
          ],
          "scattermapbox": [
           {
            "marker": {
             "colorbar": {
              "outlinewidth": 0,
              "ticks": ""
             }
            },
            "type": "scattermapbox"
           }
          ],
          "scatterpolar": [
           {
            "marker": {
             "colorbar": {
              "outlinewidth": 0,
              "ticks": ""
             }
            },
            "type": "scatterpolar"
           }
          ],
          "scatterpolargl": [
           {
            "marker": {
             "colorbar": {
              "outlinewidth": 0,
              "ticks": ""
             }
            },
            "type": "scatterpolargl"
           }
          ],
          "scatterternary": [
           {
            "marker": {
             "colorbar": {
              "outlinewidth": 0,
              "ticks": ""
             }
            },
            "type": "scatterternary"
           }
          ],
          "surface": [
           {
            "colorbar": {
             "outlinewidth": 0,
             "ticks": ""
            },
            "colorscale": [
             [
              0,
              "#0d0887"
             ],
             [
              0.1111111111111111,
              "#46039f"
             ],
             [
              0.2222222222222222,
              "#7201a8"
             ],
             [
              0.3333333333333333,
              "#9c179e"
             ],
             [
              0.4444444444444444,
              "#bd3786"
             ],
             [
              0.5555555555555556,
              "#d8576b"
             ],
             [
              0.6666666666666666,
              "#ed7953"
             ],
             [
              0.7777777777777778,
              "#fb9f3a"
             ],
             [
              0.8888888888888888,
              "#fdca26"
             ],
             [
              1,
              "#f0f921"
             ]
            ],
            "type": "surface"
           }
          ],
          "table": [
           {
            "cells": {
             "fill": {
              "color": "#EBF0F8"
             },
             "line": {
              "color": "white"
             }
            },
            "header": {
             "fill": {
              "color": "#C8D4E3"
             },
             "line": {
              "color": "white"
             }
            },
            "type": "table"
           }
          ]
         },
         "layout": {
          "annotationdefaults": {
           "arrowcolor": "#2a3f5f",
           "arrowhead": 0,
           "arrowwidth": 1
          },
          "colorscale": {
           "diverging": [
            [
             0,
             "#8e0152"
            ],
            [
             0.1,
             "#c51b7d"
            ],
            [
             0.2,
             "#de77ae"
            ],
            [
             0.3,
             "#f1b6da"
            ],
            [
             0.4,
             "#fde0ef"
            ],
            [
             0.5,
             "#f7f7f7"
            ],
            [
             0.6,
             "#e6f5d0"
            ],
            [
             0.7,
             "#b8e186"
            ],
            [
             0.8,
             "#7fbc41"
            ],
            [
             0.9,
             "#4d9221"
            ],
            [
             1,
             "#276419"
            ]
           ],
           "sequential": [
            [
             0,
             "#0d0887"
            ],
            [
             0.1111111111111111,
             "#46039f"
            ],
            [
             0.2222222222222222,
             "#7201a8"
            ],
            [
             0.3333333333333333,
             "#9c179e"
            ],
            [
             0.4444444444444444,
             "#bd3786"
            ],
            [
             0.5555555555555556,
             "#d8576b"
            ],
            [
             0.6666666666666666,
             "#ed7953"
            ],
            [
             0.7777777777777778,
             "#fb9f3a"
            ],
            [
             0.8888888888888888,
             "#fdca26"
            ],
            [
             1,
             "#f0f921"
            ]
           ],
           "sequentialminus": [
            [
             0,
             "#0d0887"
            ],
            [
             0.1111111111111111,
             "#46039f"
            ],
            [
             0.2222222222222222,
             "#7201a8"
            ],
            [
             0.3333333333333333,
             "#9c179e"
            ],
            [
             0.4444444444444444,
             "#bd3786"
            ],
            [
             0.5555555555555556,
             "#d8576b"
            ],
            [
             0.6666666666666666,
             "#ed7953"
            ],
            [
             0.7777777777777778,
             "#fb9f3a"
            ],
            [
             0.8888888888888888,
             "#fdca26"
            ],
            [
             1,
             "#f0f921"
            ]
           ]
          },
          "colorway": [
           "#636efa",
           "#EF553B",
           "#00cc96",
           "#ab63fa",
           "#FFA15A",
           "#19d3f3",
           "#FF6692",
           "#B6E880",
           "#FF97FF",
           "#FECB52"
          ],
          "font": {
           "color": "#2a3f5f"
          },
          "geo": {
           "bgcolor": "white",
           "lakecolor": "white",
           "landcolor": "#E5ECF6",
           "showlakes": true,
           "showland": true,
           "subunitcolor": "white"
          },
          "hoverlabel": {
           "align": "left"
          },
          "hovermode": "closest",
          "mapbox": {
           "style": "light"
          },
          "paper_bgcolor": "white",
          "plot_bgcolor": "#E5ECF6",
          "polar": {
           "angularaxis": {
            "gridcolor": "white",
            "linecolor": "white",
            "ticks": ""
           },
           "bgcolor": "#E5ECF6",
           "radialaxis": {
            "gridcolor": "white",
            "linecolor": "white",
            "ticks": ""
           }
          },
          "scene": {
           "xaxis": {
            "backgroundcolor": "#E5ECF6",
            "gridcolor": "white",
            "gridwidth": 2,
            "linecolor": "white",
            "showbackground": true,
            "ticks": "",
            "zerolinecolor": "white"
           },
           "yaxis": {
            "backgroundcolor": "#E5ECF6",
            "gridcolor": "white",
            "gridwidth": 2,
            "linecolor": "white",
            "showbackground": true,
            "ticks": "",
            "zerolinecolor": "white"
           },
           "zaxis": {
            "backgroundcolor": "#E5ECF6",
            "gridcolor": "white",
            "gridwidth": 2,
            "linecolor": "white",
            "showbackground": true,
            "ticks": "",
            "zerolinecolor": "white"
           }
          },
          "shapedefaults": {
           "line": {
            "color": "#2a3f5f"
           }
          },
          "ternary": {
           "aaxis": {
            "gridcolor": "white",
            "linecolor": "white",
            "ticks": ""
           },
           "baxis": {
            "gridcolor": "white",
            "linecolor": "white",
            "ticks": ""
           },
           "bgcolor": "#E5ECF6",
           "caxis": {
            "gridcolor": "white",
            "linecolor": "white",
            "ticks": ""
           }
          },
          "title": {
           "x": 0.05
          },
          "xaxis": {
           "automargin": true,
           "gridcolor": "white",
           "linecolor": "white",
           "ticks": "",
           "zerolinecolor": "white",
           "zerolinewidth": 2
          },
          "yaxis": {
           "automargin": true,
           "gridcolor": "white",
           "linecolor": "white",
           "ticks": "",
           "zerolinecolor": "white",
           "zerolinewidth": 2
          }
         }
        },
        "width": 800,
        "xaxis": {
         "autorange": true,
         "range": [
          -0.06295621972798926,
          1.0597315405263927
         ],
         "title": {
          "text": "width"
         },
         "type": "linear"
        },
        "yaxis": {
         "autorange": true,
         "range": [
          -0.06926235075907267,
          1.0741868164029678
         ],
         "title": {
          "text": "height"
         },
         "type": "linear"
        }
       }
      },
      "image/png": "[encoded data removed]",
      "text/html": [
       "<div>\n",
       "        \n",
       "        \n",
       "            <div id=\"7e84d344-e5f5-490a-9d58-e99b9b53666d\" class=\"plotly-graph-div\" style=\"height:600px; width:800px;\"></div>\n",
       "            <script type=\"text/javascript\">\n",
       "                require([\"plotly\"], function(Plotly) {\n",
       "                    window.PLOTLYENV=window.PLOTLYENV || {};\n",
       "                    \n",
       "                if (document.getElementById(\"7e84d344-e5f5-490a-9d58-e99b9b53666d\")) {\n",
       "                    Plotly.newPlot(\n",
       "                        '7e84d344-e5f5-490a-9d58-e99b9b53666d',\n",
       "                        [{\"fill\": \"toself\", \"fillcolor\": \"rgba(255,65,54,0.5)\", \"hoverinfo\": \"none\", \"mode\": \"none\", \"showlegend\": false, \"type\": \"scatter\", \"visible\": false, \"x\": [1.05, 1.05, -0.05, -0.05, 1.05], \"y\": [0.9450000000000001, -0.05, -0.05, -0.045000000000000005, 0.9450000000000001]}, {\"fill\": \"toself\", \"fillcolor\": \"rgba(0,116,217,0.5)\", \"hoverinfo\": \"none\", \"mode\": \"none\", \"showlegend\": false, \"type\": \"scatter\", \"visible\": false, \"x\": [-0.05, -0.05, 1.05, 1.05, -0.05], \"y\": [-0.045000000000000005, 1.05, 1.05, 0.9450000000000001, -0.045000000000000005]}, {\"marker\": {\"color\": \"black\"}, \"mode\": \"lines\", \"showlegend\": false, \"type\": \"scatter\", \"x\": [], \"y\": []}, {\"marker\": {\"color\": \"rgba(255,65,54,1.0)\", \"line\": {\"width\": 1}, \"size\": 10}, \"mode\": \"markers\", \"name\": \"Wide rectangle\", \"type\": \"scatter\", \"visible\": true, \"x\": [0.25361835400399335, 0.46509353592568636, 0.8461350680637683, 0.6343955124170224, 0.7784920026119713, 0.3793015804474975, 0.6072530024537646, 0.2949273383847558, 0.7558636481607831, 0.7497269493496418, 0.8371308445624882, 0.6920626400729134, 0.9456781589885701, 0.9911117459272148, 0.6953952373403927, 0.8811981326978863, 0.9771731691104963, 0.6703257299854498, 0.903628599121053, 0.4396678501906073, 0.4492437086107962, 0.49746686717784505, 0.7738068961789438, 0.7317246635510961, 0.8261873619481869, 0.7891181362893877, 0.553836669741516, 0.5982904919820594, 0.9423408877138495, 0.9143132504848973, 0.6329372082982035, 0.3988219647137673, 0.8696676775654443, 0.711233599696383, 0.3087890825705357, 0.6521886785079585, 0.9341271293023133, 0.7285759485999925, 0.32028134046090795, 0.9744924438436668, 0.8996775677414345, 0.4726849130371895], \"y\": [0.11398602427303439, 0.24442540379476874, 0.7138992530637794, 0.14567641675401288, 0.657323451474926, 0.2811846424503812, 0.23996323424762234, 0.2813838303557217, 0.0634725183807785, 0.7250013519691538, 0.37041140714217047, 0.32474198408760757, 0.8131865816085733, 0.855582371634859, 0.3903580249486802, 0.7972028271937127, 0.6589195494691795, 0.13936259256176786, 0.231306485868653, 0.22644420164753987, 0.2733349105253129, 0.1386349917286256, 0.45965619462473095, 0.34921680043481507, 0.4379378564948513, 0.4850704205265758, 0.31178959486846236, 0.28239004930483314, 0.1125098328903138, 0.11844550446066504, 0.5034229628063569, 0.03659822289785786, 0.7412066013609954, 0.6447496627016888, 0.21999516739688818, 0.3222498744424459, 0.6908051364292684, 0.25246133881293176, 0.004925720205607331, 0.4953781455105698, 0.5751961949892045, 0.08913639289429987]}, {\"marker\": {\"color\": \"rgba(0,116,217,1.0)\", \"line\": {\"width\": 1}, \"size\": 10}, \"mode\": \"markers\", \"name\": \"Tall rectangle\", \"type\": \"scatter\", \"visible\": true, \"x\": [0.20729979472648374, 0.7852087214162017, 0.011815321573685478, 0.39147726744087674, 0.3624523478185918, 0.6889296786132615, 0.4475842082183048, 0.5385185476249709, 0.10297020819531122, 0.09219445499870871, 0.005663574871188737, 0.44304346996054866, 0.5086225661439524, 0.017233164701023207, 0.26448160391272735, 0.09747909679616262, 0.16817534067205608, 0.15057675774490886, 0.4132628864441835, 0.33554416059375947, 0.7480307965909924, 0.7219276657796583, 0.23063957209851493, 0.46580900635983713, 0.044327418898669535, 0.2930256970511135, 0.9608203890000961, 0.8489982642120467, 0.07019940001619929, 0.37765785249992256, 0.18571563025478932, 0.3929290703659868, 0.2565370725744398, 0.21084811908654089, 0.2071935266763537, 0.6399057444436431, 0.5395209125515102, 0.46475330797932946, 0.19157558108930017, 0.1962380713340871, 0.6253108084357663, 0.40476373786038633, 0.35878587983221166, 0.3843784425742115, 0.06371896003176192, 0.44474146589432906, 0.14126665052705012, 0.2721663796005638, 0.42191430732229196, 0.7173646250081446, 0.5545325413503458, 0.17243259490431762, 0.11708210623242432, 0.13086193239663924, 0.42582883320875353, 0.44367746756858417, 0.608301314162011, 0.12973608050584895], \"y\": [0.25893447150629323, 0.8801282601490411, 0.19572097934214994, 0.9902341168393478, 0.7147652189836945, 0.7430952994510038, 0.6118491869392747, 0.9699028227339452, 0.16937206993928033, 0.9839468081389631, 0.022025396569259614, 0.6585238637061062, 0.6042062539529426, 0.7697679191171746, 0.951491345326508, 0.23893902778554466, 0.9999987454382877, 0.34988864253634955, 0.8188765069711557, 0.7621867562344152, 0.7794660952049448, 0.9808449379187373, 0.6005067906735647, 0.7659870258975235, 0.3345575255145554, 0.5026815969108361, 0.9705784484937858, 0.8920738654051686, 0.4097215454370703, 0.45226974971199674, 0.5614497999861128, 0.45169251136267796, 0.3086928259396513, 0.28752490388334495, 0.897836663126441, 0.7000688958207165, 0.8181691748429399, 0.9623106103807788, 0.224029673340143, 0.8505864625324713, 0.8201676769403694, 0.6145034922186493, 0.8721917113759375, 0.6338703808964117, 0.4857533659716815, 0.8505541502691261, 0.7435065370589119, 0.7242363559913211, 0.7859986929568061, 0.9525415418369222, 0.8645052721529202, 0.2140866598653528, 0.5950059573479926, 0.673932280950764, 0.6989836552779226, 0.5335015094909471, 0.796935141679166, 0.35850387558956165]}],\n",
       "                        {\"height\": 600, \"template\": {\"data\": {\"bar\": [{\"error_x\": {\"color\": \"#2a3f5f\"}, \"error_y\": {\"color\": \"#2a3f5f\"}, \"marker\": {\"line\": {\"color\": \"#E5ECF6\", \"width\": 0.5}}, \"type\": \"bar\"}], \"barpolar\": [{\"marker\": {\"line\": {\"color\": \"#E5ECF6\", \"width\": 0.5}}, \"type\": \"barpolar\"}], \"carpet\": [{\"aaxis\": {\"endlinecolor\": \"#2a3f5f\", \"gridcolor\": \"white\", \"linecolor\": \"white\", \"minorgridcolor\": \"white\", \"startlinecolor\": \"#2a3f5f\"}, \"baxis\": {\"endlinecolor\": \"#2a3f5f\", \"gridcolor\": \"white\", \"linecolor\": \"white\", \"minorgridcolor\": \"white\", \"startlinecolor\": \"#2a3f5f\"}, \"type\": \"carpet\"}], \"choropleth\": [{\"colorbar\": {\"outlinewidth\": 0, \"ticks\": \"\"}, \"type\": \"choropleth\"}], \"contour\": [{\"colorbar\": {\"outlinewidth\": 0, \"ticks\": \"\"}, \"colorscale\": [[0.0, \"#0d0887\"], [0.1111111111111111, \"#46039f\"], [0.2222222222222222, \"#7201a8\"], [0.3333333333333333, \"#9c179e\"], [0.4444444444444444, \"#bd3786\"], [0.5555555555555556, \"#d8576b\"], [0.6666666666666666, \"#ed7953\"], [0.7777777777777778, \"#fb9f3a\"], [0.8888888888888888, \"#fdca26\"], [1.0, \"#f0f921\"]], \"type\": \"contour\"}], \"contourcarpet\": [{\"colorbar\": {\"outlinewidth\": 0, \"ticks\": \"\"}, \"type\": \"contourcarpet\"}], \"heatmap\": [{\"colorbar\": {\"outlinewidth\": 0, \"ticks\": \"\"}, \"colorscale\": [[0.0, \"#0d0887\"], [0.1111111111111111, \"#46039f\"], [0.2222222222222222, \"#7201a8\"], [0.3333333333333333, \"#9c179e\"], [0.4444444444444444, \"#bd3786\"], [0.5555555555555556, \"#d8576b\"], [0.6666666666666666, \"#ed7953\"], [0.7777777777777778, \"#fb9f3a\"], [0.8888888888888888, \"#fdca26\"], [1.0, \"#f0f921\"]], \"type\": \"heatmap\"}], \"heatmapgl\": [{\"colorbar\": {\"outlinewidth\": 0, \"ticks\": \"\"}, \"colorscale\": [[0.0, \"#0d0887\"], [0.1111111111111111, \"#46039f\"], [0.2222222222222222, \"#7201a8\"], [0.3333333333333333, \"#9c179e\"], [0.4444444444444444, \"#bd3786\"], [0.5555555555555556, \"#d8576b\"], [0.6666666666666666, \"#ed7953\"], [0.7777777777777778, \"#fb9f3a\"], [0.8888888888888888, \"#fdca26\"], [1.0, \"#f0f921\"]], \"type\": \"heatmapgl\"}], \"histogram\": [{\"marker\": {\"colorbar\": {\"outlinewidth\": 0, \"ticks\": \"\"}}, \"type\": \"histogram\"}], \"histogram2d\": [{\"colorbar\": {\"outlinewidth\": 0, \"ticks\": \"\"}, \"colorscale\": [[0.0, \"#0d0887\"], [0.1111111111111111, \"#46039f\"], [0.2222222222222222, \"#7201a8\"], [0.3333333333333333, \"#9c179e\"], [0.4444444444444444, \"#bd3786\"], [0.5555555555555556, \"#d8576b\"], [0.6666666666666666, \"#ed7953\"], [0.7777777777777778, \"#fb9f3a\"], [0.8888888888888888, \"#fdca26\"], [1.0, \"#f0f921\"]], \"type\": \"histogram2d\"}], \"histogram2dcontour\": [{\"colorbar\": {\"outlinewidth\": 0, \"ticks\": \"\"}, \"colorscale\": [[0.0, \"#0d0887\"], [0.1111111111111111, \"#46039f\"], [0.2222222222222222, \"#7201a8\"], [0.3333333333333333, \"#9c179e\"], [0.4444444444444444, \"#bd3786\"], [0.5555555555555556, \"#d8576b\"], [0.6666666666666666, \"#ed7953\"], [0.7777777777777778, \"#fb9f3a\"], [0.8888888888888888, \"#fdca26\"], [1.0, \"#f0f921\"]], \"type\": \"histogram2dcontour\"}], \"mesh3d\": [{\"colorbar\": {\"outlinewidth\": 0, \"ticks\": \"\"}, \"type\": \"mesh3d\"}], \"parcoords\": [{\"line\": {\"colorbar\": {\"outlinewidth\": 0, \"ticks\": \"\"}}, \"type\": \"parcoords\"}], \"scatter\": [{\"marker\": {\"colorbar\": {\"outlinewidth\": 0, \"ticks\": \"\"}}, \"type\": \"scatter\"}], \"scatter3d\": [{\"line\": {\"colorbar\": {\"outlinewidth\": 0, \"ticks\": \"\"}}, \"marker\": {\"colorbar\": {\"outlinewidth\": 0, \"ticks\": \"\"}}, \"type\": \"scatter3d\"}], \"scattercarpet\": [{\"marker\": {\"colorbar\": {\"outlinewidth\": 0, \"ticks\": \"\"}}, \"type\": \"scattercarpet\"}], \"scattergeo\": [{\"marker\": {\"colorbar\": {\"outlinewidth\": 0, \"ticks\": \"\"}}, \"type\": \"scattergeo\"}], \"scattergl\": [{\"marker\": {\"colorbar\": {\"outlinewidth\": 0, \"ticks\": \"\"}}, \"type\": \"scattergl\"}], \"scattermapbox\": [{\"marker\": {\"colorbar\": {\"outlinewidth\": 0, \"ticks\": \"\"}}, \"type\": \"scattermapbox\"}], \"scatterpolar\": [{\"marker\": {\"colorbar\": {\"outlinewidth\": 0, \"ticks\": \"\"}}, \"type\": \"scatterpolar\"}], \"scatterpolargl\": [{\"marker\": {\"colorbar\": {\"outlinewidth\": 0, \"ticks\": \"\"}}, \"type\": \"scatterpolargl\"}], \"scatterternary\": [{\"marker\": {\"colorbar\": {\"outlinewidth\": 0, \"ticks\": \"\"}}, \"type\": \"scatterternary\"}], \"surface\": [{\"colorbar\": {\"outlinewidth\": 0, \"ticks\": \"\"}, \"colorscale\": [[0.0, \"#0d0887\"], [0.1111111111111111, \"#46039f\"], [0.2222222222222222, \"#7201a8\"], [0.3333333333333333, \"#9c179e\"], [0.4444444444444444, \"#bd3786\"], [0.5555555555555556, \"#d8576b\"], [0.6666666666666666, \"#ed7953\"], [0.7777777777777778, \"#fb9f3a\"], [0.8888888888888888, \"#fdca26\"], [1.0, \"#f0f921\"]], \"type\": \"surface\"}], \"table\": [{\"cells\": {\"fill\": {\"color\": \"#EBF0F8\"}, \"line\": {\"color\": \"white\"}}, \"header\": {\"fill\": {\"color\": \"#C8D4E3\"}, \"line\": {\"color\": \"white\"}}, \"type\": \"table\"}]}, \"layout\": {\"annotationdefaults\": {\"arrowcolor\": \"#2a3f5f\", \"arrowhead\": 0, \"arrowwidth\": 1}, \"colorscale\": {\"diverging\": [[0, \"#8e0152\"], [0.1, \"#c51b7d\"], [0.2, \"#de77ae\"], [0.3, \"#f1b6da\"], [0.4, \"#fde0ef\"], [0.5, \"#f7f7f7\"], [0.6, \"#e6f5d0\"], [0.7, \"#b8e186\"], [0.8, \"#7fbc41\"], [0.9, \"#4d9221\"], [1, \"#276419\"]], \"sequential\": [[0.0, \"#0d0887\"], [0.1111111111111111, \"#46039f\"], [0.2222222222222222, \"#7201a8\"], [0.3333333333333333, \"#9c179e\"], [0.4444444444444444, \"#bd3786\"], [0.5555555555555556, \"#d8576b\"], [0.6666666666666666, \"#ed7953\"], [0.7777777777777778, \"#fb9f3a\"], [0.8888888888888888, \"#fdca26\"], [1.0, \"#f0f921\"]], \"sequentialminus\": [[0.0, \"#0d0887\"], [0.1111111111111111, \"#46039f\"], [0.2222222222222222, \"#7201a8\"], [0.3333333333333333, \"#9c179e\"], [0.4444444444444444, \"#bd3786\"], [0.5555555555555556, \"#d8576b\"], [0.6666666666666666, \"#ed7953\"], [0.7777777777777778, \"#fb9f3a\"], [0.8888888888888888, \"#fdca26\"], [1.0, \"#f0f921\"]]}, \"colorway\": [\"#636efa\", \"#EF553B\", \"#00cc96\", \"#ab63fa\", \"#FFA15A\", \"#19d3f3\", \"#FF6692\", \"#B6E880\", \"#FF97FF\", \"#FECB52\"], \"font\": {\"color\": \"#2a3f5f\"}, \"geo\": {\"bgcolor\": \"white\", \"lakecolor\": \"white\", \"landcolor\": \"#E5ECF6\", \"showlakes\": true, \"showland\": true, \"subunitcolor\": \"white\"}, \"hoverlabel\": {\"align\": \"left\"}, \"hovermode\": \"closest\", \"mapbox\": {\"style\": \"light\"}, \"paper_bgcolor\": \"white\", \"plot_bgcolor\": \"#E5ECF6\", \"polar\": {\"angularaxis\": {\"gridcolor\": \"white\", \"linecolor\": \"white\", \"ticks\": \"\"}, \"bgcolor\": \"#E5ECF6\", \"radialaxis\": {\"gridcolor\": \"white\", \"linecolor\": \"white\", \"ticks\": \"\"}}, \"scene\": {\"xaxis\": {\"backgroundcolor\": \"#E5ECF6\", \"gridcolor\": \"white\", \"gridwidth\": 2, \"linecolor\": \"white\", \"showbackground\": true, \"ticks\": \"\", \"zerolinecolor\": \"white\"}, \"yaxis\": {\"backgroundcolor\": \"#E5ECF6\", \"gridcolor\": \"white\", \"gridwidth\": 2, \"linecolor\": \"white\", \"showbackground\": true, \"ticks\": \"\", \"zerolinecolor\": \"white\"}, \"zaxis\": {\"backgroundcolor\": \"#E5ECF6\", \"gridcolor\": \"white\", \"gridwidth\": 2, \"linecolor\": \"white\", \"showbackground\": true, \"ticks\": \"\", \"zerolinecolor\": \"white\"}}, \"shapedefaults\": {\"line\": {\"color\": \"#2a3f5f\"}}, \"ternary\": {\"aaxis\": {\"gridcolor\": \"white\", \"linecolor\": \"white\", \"ticks\": \"\"}, \"baxis\": {\"gridcolor\": \"white\", \"linecolor\": \"white\", \"ticks\": \"\"}, \"bgcolor\": \"#E5ECF6\", \"caxis\": {\"gridcolor\": \"white\", \"linecolor\": \"white\", \"ticks\": \"\"}}, \"title\": {\"x\": 0.05}, \"xaxis\": {\"automargin\": true, \"gridcolor\": \"white\", \"linecolor\": \"white\", \"ticks\": \"\", \"zerolinecolor\": \"white\", \"zerolinewidth\": 2}, \"yaxis\": {\"automargin\": true, \"gridcolor\": \"white\", \"linecolor\": \"white\", \"ticks\": \"\", \"zerolinecolor\": \"white\", \"zerolinewidth\": 2}}}, \"width\": 800, \"xaxis\": {\"title\": {\"text\": \"width\"}}, \"yaxis\": {\"title\": {\"text\": \"height\"}}},\n",
       "                        {\"responsive\": true}\n",
       "                    ).then(function(){\n",
       "                            \n",
       "var gd = document.getElementById('7e84d344-e5f5-490a-9d58-e99b9b53666d');\n",
       "var x = new MutationObserver(function (mutations, observer) {{\n",
       "        var display = window.getComputedStyle(gd).display;\n",
       "        if (!display || display === 'none') {{\n",
       "            console.log([gd, 'removed!']);\n",
       "            Plotly.purge(gd);\n",
       "            observer.disconnect();\n",
       "        }}\n",
       "}});\n",
       "\n",
       "// Listen for the removal of the full notebook cells\n",
       "var notebookContainer = gd.closest('#notebook-container');\n",
       "if (notebookContainer) {{\n",
       "    x.observe(notebookContainer, {childList: true});\n",
       "}}\n",
       "\n",
       "// Listen for the clearing of the current output cell\n",
       "var outputEl = gd.closest('.output');\n",
       "if (outputEl) {{\n",
       "    x.observe(outputEl, {childList: true});\n",
       "}}\n",
       "\n",
       "                        })\n",
       "                };\n",
       "                });\n",
       "            </script>\n",
       "        </div>"
      ]
     },
     "metadata": {},
     "output_type": "display_data"
    }
   ],
   "source": [
    "plotter.disable_model_areas()\n",
    "plotter.update_data_plots(data, labels, unq_classes=class_names[::-1])\n",
    "plotter()"
   ]
  },
  {
   "cell_type": "markdown",
   "metadata": {
    "slideshow": {
     "slide_type": "subslide"
    }
   },
   "source": [
    "### En lineær modell for å skille mellom vide og høye rektangler\n",
    "\n",
    "For å skille disse punktene fra hverandre kan vi trene en lineær modell vha veiledet læring. Kan vi nå si om modellen er god eller ikke?"
   ]
  },
  {
   "cell_type": "code",
   "execution_count": 54,
   "metadata": {
    "slideshow": {
     "slide_type": "-"
    }
   },
   "outputs": [
    {
     "data": {
      "application/vnd.plotly.v1+json": {
       "config": {
        "plotlyServerURL": "https://plot.ly"
       },
       "data": [
        {
         "fill": "toself",
         "fillcolor": "rgba(255,65,54,0.5)",
         "hoverinfo": "none",
         "mode": "none",
         "showlegend": false,
         "type": "scatter",
         "visible": true,
         "x": [
          1.05,
          1.05,
          -0.05,
          -0.05,
          1.05
         ],
         "y": [
          0.9400000000000001,
          -0.05,
          -0.05,
          0.06,
          0.9400000000000001
         ]
        },
        {
         "fill": "toself",
         "fillcolor": "rgba(0,116,217,0.5)",
         "hoverinfo": "none",
         "mode": "none",
         "showlegend": false,
         "type": "scatter",
         "visible": true,
         "x": [
          -0.05,
          -0.05,
          1.05,
          1.05,
          -0.05
         ],
         "y": [
          0.06,
          1.05,
          1.05,
          0.9400000000000001,
          0.06
         ]
        },
        {
         "marker": {
          "color": "black"
         },
         "mode": "lines",
         "showlegend": false,
         "type": "scatter",
         "x": [],
         "y": []
        },
        {
         "marker": {
          "color": "rgba(255,65,54,1.0)",
          "line": {
           "width": 1
          },
          "size": 10
         },
         "mode": "markers",
         "name": "Wide rectangle",
         "type": "scatter",
         "visible": true,
         "x": [
          0.25361835400399335,
          0.46509353592568636,
          0.8461350680637683,
          0.6343955124170224,
          0.7784920026119713,
          0.3793015804474975,
          0.6072530024537646,
          0.2949273383847558,
          0.7558636481607831,
          0.7497269493496418,
          0.8371308445624882,
          0.6920626400729134,
          0.9456781589885701,
          0.9911117459272148,
          0.6953952373403927,
          0.8811981326978863,
          0.9771731691104963,
          0.6703257299854498,
          0.903628599121053,
          0.4396678501906073,
          0.4492437086107962,
          0.49746686717784505,
          0.7738068961789438,
          0.7317246635510961,
          0.8261873619481869,
          0.7891181362893877,
          0.553836669741516,
          0.5982904919820594,
          0.9423408877138495,
          0.9143132504848973,
          0.6329372082982035,
          0.3988219647137673,
          0.8696676775654443,
          0.711233599696383,
          0.3087890825705357,
          0.6521886785079585,
          0.9341271293023133,
          0.7285759485999925,
          0.32028134046090795,
          0.9744924438436668,
          0.8996775677414345,
          0.4726849130371895
         ],
         "y": [
          0.11398602427303439,
          0.24442540379476874,
          0.7138992530637794,
          0.14567641675401288,
          0.657323451474926,
          0.2811846424503812,
          0.23996323424762234,
          0.2813838303557217,
          0.0634725183807785,
          0.7250013519691538,
          0.37041140714217047,
          0.32474198408760757,
          0.8131865816085733,
          0.855582371634859,
          0.3903580249486802,
          0.7972028271937127,
          0.6589195494691795,
          0.13936259256176786,
          0.231306485868653,
          0.22644420164753987,
          0.2733349105253129,
          0.1386349917286256,
          0.45965619462473095,
          0.34921680043481507,
          0.4379378564948513,
          0.4850704205265758,
          0.31178959486846236,
          0.28239004930483314,
          0.1125098328903138,
          0.11844550446066504,
          0.5034229628063569,
          0.03659822289785786,
          0.7412066013609954,
          0.6447496627016888,
          0.21999516739688818,
          0.3222498744424459,
          0.6908051364292684,
          0.25246133881293176,
          0.004925720205607331,
          0.4953781455105698,
          0.5751961949892045,
          0.08913639289429987
         ]
        },
        {
         "marker": {
          "color": "rgba(0,116,217,1.0)",
          "line": {
           "width": 1
          },
          "size": 10
         },
         "mode": "markers",
         "name": "Tall rectangle",
         "type": "scatter",
         "visible": true,
         "x": [
          0.20729979472648374,
          0.7852087214162017,
          0.011815321573685478,
          0.39147726744087674,
          0.3624523478185918,
          0.6889296786132615,
          0.4475842082183048,
          0.5385185476249709,
          0.10297020819531122,
          0.09219445499870871,
          0.005663574871188737,
          0.44304346996054866,
          0.5086225661439524,
          0.017233164701023207,
          0.26448160391272735,
          0.09747909679616262,
          0.16817534067205608,
          0.15057675774490886,
          0.4132628864441835,
          0.33554416059375947,
          0.7480307965909924,
          0.7219276657796583,
          0.23063957209851493,
          0.46580900635983713,
          0.044327418898669535,
          0.2930256970511135,
          0.9608203890000961,
          0.8489982642120467,
          0.07019940001619929,
          0.37765785249992256,
          0.18571563025478932,
          0.3929290703659868,
          0.2565370725744398,
          0.21084811908654089,
          0.2071935266763537,
          0.6399057444436431,
          0.5395209125515102,
          0.46475330797932946,
          0.19157558108930017,
          0.1962380713340871,
          0.6253108084357663,
          0.40476373786038633,
          0.35878587983221166,
          0.3843784425742115,
          0.06371896003176192,
          0.44474146589432906,
          0.14126665052705012,
          0.2721663796005638,
          0.42191430732229196,
          0.7173646250081446,
          0.5545325413503458,
          0.17243259490431762,
          0.11708210623242432,
          0.13086193239663924,
          0.42582883320875353,
          0.44367746756858417,
          0.608301314162011,
          0.12973608050584895
         ],
         "y": [
          0.25893447150629323,
          0.8801282601490411,
          0.19572097934214994,
          0.9902341168393478,
          0.7147652189836945,
          0.7430952994510038,
          0.6118491869392747,
          0.9699028227339452,
          0.16937206993928033,
          0.9839468081389631,
          0.022025396569259614,
          0.6585238637061062,
          0.6042062539529426,
          0.7697679191171746,
          0.951491345326508,
          0.23893902778554466,
          0.9999987454382877,
          0.34988864253634955,
          0.8188765069711557,
          0.7621867562344152,
          0.7794660952049448,
          0.9808449379187373,
          0.6005067906735647,
          0.7659870258975235,
          0.3345575255145554,
          0.5026815969108361,
          0.9705784484937858,
          0.8920738654051686,
          0.4097215454370703,
          0.45226974971199674,
          0.5614497999861128,
          0.45169251136267796,
          0.3086928259396513,
          0.28752490388334495,
          0.897836663126441,
          0.7000688958207165,
          0.8181691748429399,
          0.9623106103807788,
          0.224029673340143,
          0.8505864625324713,
          0.8201676769403694,
          0.6145034922186493,
          0.8721917113759375,
          0.6338703808964117,
          0.4857533659716815,
          0.8505541502691261,
          0.7435065370589119,
          0.7242363559913211,
          0.7859986929568061,
          0.9525415418369222,
          0.8645052721529202,
          0.2140866598653528,
          0.5950059573479926,
          0.673932280950764,
          0.6989836552779226,
          0.5335015094909471,
          0.796935141679166,
          0.35850387558956165
         ]
        }
       ],
       "layout": {
        "height": 600,
        "template": {
         "data": {
          "bar": [
           {
            "error_x": {
             "color": "#2a3f5f"
            },
            "error_y": {
             "color": "#2a3f5f"
            },
            "marker": {
             "line": {
              "color": "#E5ECF6",
              "width": 0.5
             }
            },
            "type": "bar"
           }
          ],
          "barpolar": [
           {
            "marker": {
             "line": {
              "color": "#E5ECF6",
              "width": 0.5
             }
            },
            "type": "barpolar"
           }
          ],
          "carpet": [
           {
            "aaxis": {
             "endlinecolor": "#2a3f5f",
             "gridcolor": "white",
             "linecolor": "white",
             "minorgridcolor": "white",
             "startlinecolor": "#2a3f5f"
            },
            "baxis": {
             "endlinecolor": "#2a3f5f",
             "gridcolor": "white",
             "linecolor": "white",
             "minorgridcolor": "white",
             "startlinecolor": "#2a3f5f"
            },
            "type": "carpet"
           }
          ],
          "choropleth": [
           {
            "colorbar": {
             "outlinewidth": 0,
             "ticks": ""
            },
            "type": "choropleth"
           }
          ],
          "contour": [
           {
            "colorbar": {
             "outlinewidth": 0,
             "ticks": ""
            },
            "colorscale": [
             [
              0,
              "#0d0887"
             ],
             [
              0.1111111111111111,
              "#46039f"
             ],
             [
              0.2222222222222222,
              "#7201a8"
             ],
             [
              0.3333333333333333,
              "#9c179e"
             ],
             [
              0.4444444444444444,
              "#bd3786"
             ],
             [
              0.5555555555555556,
              "#d8576b"
             ],
             [
              0.6666666666666666,
              "#ed7953"
             ],
             [
              0.7777777777777778,
              "#fb9f3a"
             ],
             [
              0.8888888888888888,
              "#fdca26"
             ],
             [
              1,
              "#f0f921"
             ]
            ],
            "type": "contour"
           }
          ],
          "contourcarpet": [
           {
            "colorbar": {
             "outlinewidth": 0,
             "ticks": ""
            },
            "type": "contourcarpet"
           }
          ],
          "heatmap": [
           {
            "colorbar": {
             "outlinewidth": 0,
             "ticks": ""
            },
            "colorscale": [
             [
              0,
              "#0d0887"
             ],
             [
              0.1111111111111111,
              "#46039f"
             ],
             [
              0.2222222222222222,
              "#7201a8"
             ],
             [
              0.3333333333333333,
              "#9c179e"
             ],
             [
              0.4444444444444444,
              "#bd3786"
             ],
             [
              0.5555555555555556,
              "#d8576b"
             ],
             [
              0.6666666666666666,
              "#ed7953"
             ],
             [
              0.7777777777777778,
              "#fb9f3a"
             ],
             [
              0.8888888888888888,
              "#fdca26"
             ],
             [
              1,
              "#f0f921"
             ]
            ],
            "type": "heatmap"
           }
          ],
          "heatmapgl": [
           {
            "colorbar": {
             "outlinewidth": 0,
             "ticks": ""
            },
            "colorscale": [
             [
              0,
              "#0d0887"
             ],
             [
              0.1111111111111111,
              "#46039f"
             ],
             [
              0.2222222222222222,
              "#7201a8"
             ],
             [
              0.3333333333333333,
              "#9c179e"
             ],
             [
              0.4444444444444444,
              "#bd3786"
             ],
             [
              0.5555555555555556,
              "#d8576b"
             ],
             [
              0.6666666666666666,
              "#ed7953"
             ],
             [
              0.7777777777777778,
              "#fb9f3a"
             ],
             [
              0.8888888888888888,
              "#fdca26"
             ],
             [
              1,
              "#f0f921"
             ]
            ],
            "type": "heatmapgl"
           }
          ],
          "histogram": [
           {
            "marker": {
             "colorbar": {
              "outlinewidth": 0,
              "ticks": ""
             }
            },
            "type": "histogram"
           }
          ],
          "histogram2d": [
           {
            "colorbar": {
             "outlinewidth": 0,
             "ticks": ""
            },
            "colorscale": [
             [
              0,
              "#0d0887"
             ],
             [
              0.1111111111111111,
              "#46039f"
             ],
             [
              0.2222222222222222,
              "#7201a8"
             ],
             [
              0.3333333333333333,
              "#9c179e"
             ],
             [
              0.4444444444444444,
              "#bd3786"
             ],
             [
              0.5555555555555556,
              "#d8576b"
             ],
             [
              0.6666666666666666,
              "#ed7953"
             ],
             [
              0.7777777777777778,
              "#fb9f3a"
             ],
             [
              0.8888888888888888,
              "#fdca26"
             ],
             [
              1,
              "#f0f921"
             ]
            ],
            "type": "histogram2d"
           }
          ],
          "histogram2dcontour": [
           {
            "colorbar": {
             "outlinewidth": 0,
             "ticks": ""
            },
            "colorscale": [
             [
              0,
              "#0d0887"
             ],
             [
              0.1111111111111111,
              "#46039f"
             ],
             [
              0.2222222222222222,
              "#7201a8"
             ],
             [
              0.3333333333333333,
              "#9c179e"
             ],
             [
              0.4444444444444444,
              "#bd3786"
             ],
             [
              0.5555555555555556,
              "#d8576b"
             ],
             [
              0.6666666666666666,
              "#ed7953"
             ],
             [
              0.7777777777777778,
              "#fb9f3a"
             ],
             [
              0.8888888888888888,
              "#fdca26"
             ],
             [
              1,
              "#f0f921"
             ]
            ],
            "type": "histogram2dcontour"
           }
          ],
          "mesh3d": [
           {
            "colorbar": {
             "outlinewidth": 0,
             "ticks": ""
            },
            "type": "mesh3d"
           }
          ],
          "parcoords": [
           {
            "line": {
             "colorbar": {
              "outlinewidth": 0,
              "ticks": ""
             }
            },
            "type": "parcoords"
           }
          ],
          "scatter": [
           {
            "marker": {
             "colorbar": {
              "outlinewidth": 0,
              "ticks": ""
             }
            },
            "type": "scatter"
           }
          ],
          "scatter3d": [
           {
            "line": {
             "colorbar": {
              "outlinewidth": 0,
              "ticks": ""
             }
            },
            "marker": {
             "colorbar": {
              "outlinewidth": 0,
              "ticks": ""
             }
            },
            "type": "scatter3d"
           }
          ],
          "scattercarpet": [
           {
            "marker": {
             "colorbar": {
              "outlinewidth": 0,
              "ticks": ""
             }
            },
            "type": "scattercarpet"
           }
          ],
          "scattergeo": [
           {
            "marker": {
             "colorbar": {
              "outlinewidth": 0,
              "ticks": ""
             }
            },
            "type": "scattergeo"
           }
          ],
          "scattergl": [
           {
            "marker": {
             "colorbar": {
              "outlinewidth": 0,
              "ticks": ""
             }
            },
            "type": "scattergl"
           }
          ],
          "scattermapbox": [
           {
            "marker": {
             "colorbar": {
              "outlinewidth": 0,
              "ticks": ""
             }
            },
            "type": "scattermapbox"
           }
          ],
          "scatterpolar": [
           {
            "marker": {
             "colorbar": {
              "outlinewidth": 0,
              "ticks": ""
             }
            },
            "type": "scatterpolar"
           }
          ],
          "scatterpolargl": [
           {
            "marker": {
             "colorbar": {
              "outlinewidth": 0,
              "ticks": ""
             }
            },
            "type": "scatterpolargl"
           }
          ],
          "scatterternary": [
           {
            "marker": {
             "colorbar": {
              "outlinewidth": 0,
              "ticks": ""
             }
            },
            "type": "scatterternary"
           }
          ],
          "surface": [
           {
            "colorbar": {
             "outlinewidth": 0,
             "ticks": ""
            },
            "colorscale": [
             [
              0,
              "#0d0887"
             ],
             [
              0.1111111111111111,
              "#46039f"
             ],
             [
              0.2222222222222222,
              "#7201a8"
             ],
             [
              0.3333333333333333,
              "#9c179e"
             ],
             [
              0.4444444444444444,
              "#bd3786"
             ],
             [
              0.5555555555555556,
              "#d8576b"
             ],
             [
              0.6666666666666666,
              "#ed7953"
             ],
             [
              0.7777777777777778,
              "#fb9f3a"
             ],
             [
              0.8888888888888888,
              "#fdca26"
             ],
             [
              1,
              "#f0f921"
             ]
            ],
            "type": "surface"
           }
          ],
          "table": [
           {
            "cells": {
             "fill": {
              "color": "#EBF0F8"
             },
             "line": {
              "color": "white"
             }
            },
            "header": {
             "fill": {
              "color": "#C8D4E3"
             },
             "line": {
              "color": "white"
             }
            },
            "type": "table"
           }
          ]
         },
         "layout": {
          "annotationdefaults": {
           "arrowcolor": "#2a3f5f",
           "arrowhead": 0,
           "arrowwidth": 1
          },
          "colorscale": {
           "diverging": [
            [
             0,
             "#8e0152"
            ],
            [
             0.1,
             "#c51b7d"
            ],
            [
             0.2,
             "#de77ae"
            ],
            [
             0.3,
             "#f1b6da"
            ],
            [
             0.4,
             "#fde0ef"
            ],
            [
             0.5,
             "#f7f7f7"
            ],
            [
             0.6,
             "#e6f5d0"
            ],
            [
             0.7,
             "#b8e186"
            ],
            [
             0.8,
             "#7fbc41"
            ],
            [
             0.9,
             "#4d9221"
            ],
            [
             1,
             "#276419"
            ]
           ],
           "sequential": [
            [
             0,
             "#0d0887"
            ],
            [
             0.1111111111111111,
             "#46039f"
            ],
            [
             0.2222222222222222,
             "#7201a8"
            ],
            [
             0.3333333333333333,
             "#9c179e"
            ],
            [
             0.4444444444444444,
             "#bd3786"
            ],
            [
             0.5555555555555556,
             "#d8576b"
            ],
            [
             0.6666666666666666,
             "#ed7953"
            ],
            [
             0.7777777777777778,
             "#fb9f3a"
            ],
            [
             0.8888888888888888,
             "#fdca26"
            ],
            [
             1,
             "#f0f921"
            ]
           ],
           "sequentialminus": [
            [
             0,
             "#0d0887"
            ],
            [
             0.1111111111111111,
             "#46039f"
            ],
            [
             0.2222222222222222,
             "#7201a8"
            ],
            [
             0.3333333333333333,
             "#9c179e"
            ],
            [
             0.4444444444444444,
             "#bd3786"
            ],
            [
             0.5555555555555556,
             "#d8576b"
            ],
            [
             0.6666666666666666,
             "#ed7953"
            ],
            [
             0.7777777777777778,
             "#fb9f3a"
            ],
            [
             0.8888888888888888,
             "#fdca26"
            ],
            [
             1,
             "#f0f921"
            ]
           ]
          },
          "colorway": [
           "#636efa",
           "#EF553B",
           "#00cc96",
           "#ab63fa",
           "#FFA15A",
           "#19d3f3",
           "#FF6692",
           "#B6E880",
           "#FF97FF",
           "#FECB52"
          ],
          "font": {
           "color": "#2a3f5f"
          },
          "geo": {
           "bgcolor": "white",
           "lakecolor": "white",
           "landcolor": "#E5ECF6",
           "showlakes": true,
           "showland": true,
           "subunitcolor": "white"
          },
          "hoverlabel": {
           "align": "left"
          },
          "hovermode": "closest",
          "mapbox": {
           "style": "light"
          },
          "paper_bgcolor": "white",
          "plot_bgcolor": "#E5ECF6",
          "polar": {
           "angularaxis": {
            "gridcolor": "white",
            "linecolor": "white",
            "ticks": ""
           },
           "bgcolor": "#E5ECF6",
           "radialaxis": {
            "gridcolor": "white",
            "linecolor": "white",
            "ticks": ""
           }
          },
          "scene": {
           "xaxis": {
            "backgroundcolor": "#E5ECF6",
            "gridcolor": "white",
            "gridwidth": 2,
            "linecolor": "white",
            "showbackground": true,
            "ticks": "",
            "zerolinecolor": "white"
           },
           "yaxis": {
            "backgroundcolor": "#E5ECF6",
            "gridcolor": "white",
            "gridwidth": 2,
            "linecolor": "white",
            "showbackground": true,
            "ticks": "",
            "zerolinecolor": "white"
           },
           "zaxis": {
            "backgroundcolor": "#E5ECF6",
            "gridcolor": "white",
            "gridwidth": 2,
            "linecolor": "white",
            "showbackground": true,
            "ticks": "",
            "zerolinecolor": "white"
           }
          },
          "shapedefaults": {
           "line": {
            "color": "#2a3f5f"
           }
          },
          "ternary": {
           "aaxis": {
            "gridcolor": "white",
            "linecolor": "white",
            "ticks": ""
           },
           "baxis": {
            "gridcolor": "white",
            "linecolor": "white",
            "ticks": ""
           },
           "bgcolor": "#E5ECF6",
           "caxis": {
            "gridcolor": "white",
            "linecolor": "white",
            "ticks": ""
           }
          },
          "title": {
           "x": 0.05
          },
          "xaxis": {
           "automargin": true,
           "gridcolor": "white",
           "linecolor": "white",
           "ticks": "",
           "zerolinecolor": "white",
           "zerolinewidth": 2
          },
          "yaxis": {
           "automargin": true,
           "gridcolor": "white",
           "linecolor": "white",
           "ticks": "",
           "zerolinecolor": "white",
           "zerolinewidth": 2
          }
         }
        },
        "width": 800,
        "xaxis": {
         "autorange": true,
         "range": [
          -0.06295621972798926,
          1.0597315405263927
         ],
         "title": {
          "text": "width"
         },
         "type": "linear"
        },
        "yaxis": {
         "autorange": true,
         "range": [
          -0.11111111111111112,
          1.1111111111111112
         ],
         "title": {
          "text": "height"
         },
         "type": "linear"
        }
       }
      },
      "image/png": "[encoded data removed]",
      "text/html": [
       "<div>\n",
       "        \n",
       "        \n",
       "            <div id=\"d7e385a0-1e28-4794-b79d-522042cf2986\" class=\"plotly-graph-div\" style=\"height:600px; width:800px;\"></div>\n",
       "            <script type=\"text/javascript\">\n",
       "                require([\"plotly\"], function(Plotly) {\n",
       "                    window.PLOTLYENV=window.PLOTLYENV || {};\n",
       "                    \n",
       "                if (document.getElementById(\"d7e385a0-1e28-4794-b79d-522042cf2986\")) {\n",
       "                    Plotly.newPlot(\n",
       "                        'd7e385a0-1e28-4794-b79d-522042cf2986',\n",
       "                        [{\"fill\": \"toself\", \"fillcolor\": \"rgba(255,65,54,0.5)\", \"hoverinfo\": \"none\", \"mode\": \"none\", \"showlegend\": false, \"type\": \"scatter\", \"visible\": true, \"x\": [1.05, 1.05, -0.05, -0.05, 1.05], \"y\": [0.9400000000000001, -0.05, -0.05, 0.06, 0.9400000000000001]}, {\"fill\": \"toself\", \"fillcolor\": \"rgba(0,116,217,0.5)\", \"hoverinfo\": \"none\", \"mode\": \"none\", \"showlegend\": false, \"type\": \"scatter\", \"visible\": true, \"x\": [-0.05, -0.05, 1.05, 1.05, -0.05], \"y\": [0.06, 1.05, 1.05, 0.9400000000000001, 0.06]}, {\"marker\": {\"color\": \"black\"}, \"mode\": \"lines\", \"showlegend\": false, \"type\": \"scatter\", \"x\": [], \"y\": []}, {\"marker\": {\"color\": \"rgba(255,65,54,1.0)\", \"line\": {\"width\": 1}, \"size\": 10}, \"mode\": \"markers\", \"name\": \"Wide rectangle\", \"type\": \"scatter\", \"visible\": true, \"x\": [0.25361835400399335, 0.46509353592568636, 0.8461350680637683, 0.6343955124170224, 0.7784920026119713, 0.3793015804474975, 0.6072530024537646, 0.2949273383847558, 0.7558636481607831, 0.7497269493496418, 0.8371308445624882, 0.6920626400729134, 0.9456781589885701, 0.9911117459272148, 0.6953952373403927, 0.8811981326978863, 0.9771731691104963, 0.6703257299854498, 0.903628599121053, 0.4396678501906073, 0.4492437086107962, 0.49746686717784505, 0.7738068961789438, 0.7317246635510961, 0.8261873619481869, 0.7891181362893877, 0.553836669741516, 0.5982904919820594, 0.9423408877138495, 0.9143132504848973, 0.6329372082982035, 0.3988219647137673, 0.8696676775654443, 0.711233599696383, 0.3087890825705357, 0.6521886785079585, 0.9341271293023133, 0.7285759485999925, 0.32028134046090795, 0.9744924438436668, 0.8996775677414345, 0.4726849130371895], \"y\": [0.11398602427303439, 0.24442540379476874, 0.7138992530637794, 0.14567641675401288, 0.657323451474926, 0.2811846424503812, 0.23996323424762234, 0.2813838303557217, 0.0634725183807785, 0.7250013519691538, 0.37041140714217047, 0.32474198408760757, 0.8131865816085733, 0.855582371634859, 0.3903580249486802, 0.7972028271937127, 0.6589195494691795, 0.13936259256176786, 0.231306485868653, 0.22644420164753987, 0.2733349105253129, 0.1386349917286256, 0.45965619462473095, 0.34921680043481507, 0.4379378564948513, 0.4850704205265758, 0.31178959486846236, 0.28239004930483314, 0.1125098328903138, 0.11844550446066504, 0.5034229628063569, 0.03659822289785786, 0.7412066013609954, 0.6447496627016888, 0.21999516739688818, 0.3222498744424459, 0.6908051364292684, 0.25246133881293176, 0.004925720205607331, 0.4953781455105698, 0.5751961949892045, 0.08913639289429987]}, {\"marker\": {\"color\": \"rgba(0,116,217,1.0)\", \"line\": {\"width\": 1}, \"size\": 10}, \"mode\": \"markers\", \"name\": \"Tall rectangle\", \"type\": \"scatter\", \"visible\": true, \"x\": [0.20729979472648374, 0.7852087214162017, 0.011815321573685478, 0.39147726744087674, 0.3624523478185918, 0.6889296786132615, 0.4475842082183048, 0.5385185476249709, 0.10297020819531122, 0.09219445499870871, 0.005663574871188737, 0.44304346996054866, 0.5086225661439524, 0.017233164701023207, 0.26448160391272735, 0.09747909679616262, 0.16817534067205608, 0.15057675774490886, 0.4132628864441835, 0.33554416059375947, 0.7480307965909924, 0.7219276657796583, 0.23063957209851493, 0.46580900635983713, 0.044327418898669535, 0.2930256970511135, 0.9608203890000961, 0.8489982642120467, 0.07019940001619929, 0.37765785249992256, 0.18571563025478932, 0.3929290703659868, 0.2565370725744398, 0.21084811908654089, 0.2071935266763537, 0.6399057444436431, 0.5395209125515102, 0.46475330797932946, 0.19157558108930017, 0.1962380713340871, 0.6253108084357663, 0.40476373786038633, 0.35878587983221166, 0.3843784425742115, 0.06371896003176192, 0.44474146589432906, 0.14126665052705012, 0.2721663796005638, 0.42191430732229196, 0.7173646250081446, 0.5545325413503458, 0.17243259490431762, 0.11708210623242432, 0.13086193239663924, 0.42582883320875353, 0.44367746756858417, 0.608301314162011, 0.12973608050584895], \"y\": [0.25893447150629323, 0.8801282601490411, 0.19572097934214994, 0.9902341168393478, 0.7147652189836945, 0.7430952994510038, 0.6118491869392747, 0.9699028227339452, 0.16937206993928033, 0.9839468081389631, 0.022025396569259614, 0.6585238637061062, 0.6042062539529426, 0.7697679191171746, 0.951491345326508, 0.23893902778554466, 0.9999987454382877, 0.34988864253634955, 0.8188765069711557, 0.7621867562344152, 0.7794660952049448, 0.9808449379187373, 0.6005067906735647, 0.7659870258975235, 0.3345575255145554, 0.5026815969108361, 0.9705784484937858, 0.8920738654051686, 0.4097215454370703, 0.45226974971199674, 0.5614497999861128, 0.45169251136267796, 0.3086928259396513, 0.28752490388334495, 0.897836663126441, 0.7000688958207165, 0.8181691748429399, 0.9623106103807788, 0.224029673340143, 0.8505864625324713, 0.8201676769403694, 0.6145034922186493, 0.8721917113759375, 0.6338703808964117, 0.4857533659716815, 0.8505541502691261, 0.7435065370589119, 0.7242363559913211, 0.7859986929568061, 0.9525415418369222, 0.8645052721529202, 0.2140866598653528, 0.5950059573479926, 0.673932280950764, 0.6989836552779226, 0.5335015094909471, 0.796935141679166, 0.35850387558956165]}],\n",
       "                        {\"height\": 600, \"template\": {\"data\": {\"bar\": [{\"error_x\": {\"color\": \"#2a3f5f\"}, \"error_y\": {\"color\": \"#2a3f5f\"}, \"marker\": {\"line\": {\"color\": \"#E5ECF6\", \"width\": 0.5}}, \"type\": \"bar\"}], \"barpolar\": [{\"marker\": {\"line\": {\"color\": \"#E5ECF6\", \"width\": 0.5}}, \"type\": \"barpolar\"}], \"carpet\": [{\"aaxis\": {\"endlinecolor\": \"#2a3f5f\", \"gridcolor\": \"white\", \"linecolor\": \"white\", \"minorgridcolor\": \"white\", \"startlinecolor\": \"#2a3f5f\"}, \"baxis\": {\"endlinecolor\": \"#2a3f5f\", \"gridcolor\": \"white\", \"linecolor\": \"white\", \"minorgridcolor\": \"white\", \"startlinecolor\": \"#2a3f5f\"}, \"type\": \"carpet\"}], \"choropleth\": [{\"colorbar\": {\"outlinewidth\": 0, \"ticks\": \"\"}, \"type\": \"choropleth\"}], \"contour\": [{\"colorbar\": {\"outlinewidth\": 0, \"ticks\": \"\"}, \"colorscale\": [[0.0, \"#0d0887\"], [0.1111111111111111, \"#46039f\"], [0.2222222222222222, \"#7201a8\"], [0.3333333333333333, \"#9c179e\"], [0.4444444444444444, \"#bd3786\"], [0.5555555555555556, \"#d8576b\"], [0.6666666666666666, \"#ed7953\"], [0.7777777777777778, \"#fb9f3a\"], [0.8888888888888888, \"#fdca26\"], [1.0, \"#f0f921\"]], \"type\": \"contour\"}], \"contourcarpet\": [{\"colorbar\": {\"outlinewidth\": 0, \"ticks\": \"\"}, \"type\": \"contourcarpet\"}], \"heatmap\": [{\"colorbar\": {\"outlinewidth\": 0, \"ticks\": \"\"}, \"colorscale\": [[0.0, \"#0d0887\"], [0.1111111111111111, \"#46039f\"], [0.2222222222222222, \"#7201a8\"], [0.3333333333333333, \"#9c179e\"], [0.4444444444444444, \"#bd3786\"], [0.5555555555555556, \"#d8576b\"], [0.6666666666666666, \"#ed7953\"], [0.7777777777777778, \"#fb9f3a\"], [0.8888888888888888, \"#fdca26\"], [1.0, \"#f0f921\"]], \"type\": \"heatmap\"}], \"heatmapgl\": [{\"colorbar\": {\"outlinewidth\": 0, \"ticks\": \"\"}, \"colorscale\": [[0.0, \"#0d0887\"], [0.1111111111111111, \"#46039f\"], [0.2222222222222222, \"#7201a8\"], [0.3333333333333333, \"#9c179e\"], [0.4444444444444444, \"#bd3786\"], [0.5555555555555556, \"#d8576b\"], [0.6666666666666666, \"#ed7953\"], [0.7777777777777778, \"#fb9f3a\"], [0.8888888888888888, \"#fdca26\"], [1.0, \"#f0f921\"]], \"type\": \"heatmapgl\"}], \"histogram\": [{\"marker\": {\"colorbar\": {\"outlinewidth\": 0, \"ticks\": \"\"}}, \"type\": \"histogram\"}], \"histogram2d\": [{\"colorbar\": {\"outlinewidth\": 0, \"ticks\": \"\"}, \"colorscale\": [[0.0, \"#0d0887\"], [0.1111111111111111, \"#46039f\"], [0.2222222222222222, \"#7201a8\"], [0.3333333333333333, \"#9c179e\"], [0.4444444444444444, \"#bd3786\"], [0.5555555555555556, \"#d8576b\"], [0.6666666666666666, \"#ed7953\"], [0.7777777777777778, \"#fb9f3a\"], [0.8888888888888888, \"#fdca26\"], [1.0, \"#f0f921\"]], \"type\": \"histogram2d\"}], \"histogram2dcontour\": [{\"colorbar\": {\"outlinewidth\": 0, \"ticks\": \"\"}, \"colorscale\": [[0.0, \"#0d0887\"], [0.1111111111111111, \"#46039f\"], [0.2222222222222222, \"#7201a8\"], [0.3333333333333333, \"#9c179e\"], [0.4444444444444444, \"#bd3786\"], [0.5555555555555556, \"#d8576b\"], [0.6666666666666666, \"#ed7953\"], [0.7777777777777778, \"#fb9f3a\"], [0.8888888888888888, \"#fdca26\"], [1.0, \"#f0f921\"]], \"type\": \"histogram2dcontour\"}], \"mesh3d\": [{\"colorbar\": {\"outlinewidth\": 0, \"ticks\": \"\"}, \"type\": \"mesh3d\"}], \"parcoords\": [{\"line\": {\"colorbar\": {\"outlinewidth\": 0, \"ticks\": \"\"}}, \"type\": \"parcoords\"}], \"scatter\": [{\"marker\": {\"colorbar\": {\"outlinewidth\": 0, \"ticks\": \"\"}}, \"type\": \"scatter\"}], \"scatter3d\": [{\"line\": {\"colorbar\": {\"outlinewidth\": 0, \"ticks\": \"\"}}, \"marker\": {\"colorbar\": {\"outlinewidth\": 0, \"ticks\": \"\"}}, \"type\": \"scatter3d\"}], \"scattercarpet\": [{\"marker\": {\"colorbar\": {\"outlinewidth\": 0, \"ticks\": \"\"}}, \"type\": \"scattercarpet\"}], \"scattergeo\": [{\"marker\": {\"colorbar\": {\"outlinewidth\": 0, \"ticks\": \"\"}}, \"type\": \"scattergeo\"}], \"scattergl\": [{\"marker\": {\"colorbar\": {\"outlinewidth\": 0, \"ticks\": \"\"}}, \"type\": \"scattergl\"}], \"scattermapbox\": [{\"marker\": {\"colorbar\": {\"outlinewidth\": 0, \"ticks\": \"\"}}, \"type\": \"scattermapbox\"}], \"scatterpolar\": [{\"marker\": {\"colorbar\": {\"outlinewidth\": 0, \"ticks\": \"\"}}, \"type\": \"scatterpolar\"}], \"scatterpolargl\": [{\"marker\": {\"colorbar\": {\"outlinewidth\": 0, \"ticks\": \"\"}}, \"type\": \"scatterpolargl\"}], \"scatterternary\": [{\"marker\": {\"colorbar\": {\"outlinewidth\": 0, \"ticks\": \"\"}}, \"type\": \"scatterternary\"}], \"surface\": [{\"colorbar\": {\"outlinewidth\": 0, \"ticks\": \"\"}, \"colorscale\": [[0.0, \"#0d0887\"], [0.1111111111111111, \"#46039f\"], [0.2222222222222222, \"#7201a8\"], [0.3333333333333333, \"#9c179e\"], [0.4444444444444444, \"#bd3786\"], [0.5555555555555556, \"#d8576b\"], [0.6666666666666666, \"#ed7953\"], [0.7777777777777778, \"#fb9f3a\"], [0.8888888888888888, \"#fdca26\"], [1.0, \"#f0f921\"]], \"type\": \"surface\"}], \"table\": [{\"cells\": {\"fill\": {\"color\": \"#EBF0F8\"}, \"line\": {\"color\": \"white\"}}, \"header\": {\"fill\": {\"color\": \"#C8D4E3\"}, \"line\": {\"color\": \"white\"}}, \"type\": \"table\"}]}, \"layout\": {\"annotationdefaults\": {\"arrowcolor\": \"#2a3f5f\", \"arrowhead\": 0, \"arrowwidth\": 1}, \"colorscale\": {\"diverging\": [[0, \"#8e0152\"], [0.1, \"#c51b7d\"], [0.2, \"#de77ae\"], [0.3, \"#f1b6da\"], [0.4, \"#fde0ef\"], [0.5, \"#f7f7f7\"], [0.6, \"#e6f5d0\"], [0.7, \"#b8e186\"], [0.8, \"#7fbc41\"], [0.9, \"#4d9221\"], [1, \"#276419\"]], \"sequential\": [[0.0, \"#0d0887\"], [0.1111111111111111, \"#46039f\"], [0.2222222222222222, \"#7201a8\"], [0.3333333333333333, \"#9c179e\"], [0.4444444444444444, \"#bd3786\"], [0.5555555555555556, \"#d8576b\"], [0.6666666666666666, \"#ed7953\"], [0.7777777777777778, \"#fb9f3a\"], [0.8888888888888888, \"#fdca26\"], [1.0, \"#f0f921\"]], \"sequentialminus\": [[0.0, \"#0d0887\"], [0.1111111111111111, \"#46039f\"], [0.2222222222222222, \"#7201a8\"], [0.3333333333333333, \"#9c179e\"], [0.4444444444444444, \"#bd3786\"], [0.5555555555555556, \"#d8576b\"], [0.6666666666666666, \"#ed7953\"], [0.7777777777777778, \"#fb9f3a\"], [0.8888888888888888, \"#fdca26\"], [1.0, \"#f0f921\"]]}, \"colorway\": [\"#636efa\", \"#EF553B\", \"#00cc96\", \"#ab63fa\", \"#FFA15A\", \"#19d3f3\", \"#FF6692\", \"#B6E880\", \"#FF97FF\", \"#FECB52\"], \"font\": {\"color\": \"#2a3f5f\"}, \"geo\": {\"bgcolor\": \"white\", \"lakecolor\": \"white\", \"landcolor\": \"#E5ECF6\", \"showlakes\": true, \"showland\": true, \"subunitcolor\": \"white\"}, \"hoverlabel\": {\"align\": \"left\"}, \"hovermode\": \"closest\", \"mapbox\": {\"style\": \"light\"}, \"paper_bgcolor\": \"white\", \"plot_bgcolor\": \"#E5ECF6\", \"polar\": {\"angularaxis\": {\"gridcolor\": \"white\", \"linecolor\": \"white\", \"ticks\": \"\"}, \"bgcolor\": \"#E5ECF6\", \"radialaxis\": {\"gridcolor\": \"white\", \"linecolor\": \"white\", \"ticks\": \"\"}}, \"scene\": {\"xaxis\": {\"backgroundcolor\": \"#E5ECF6\", \"gridcolor\": \"white\", \"gridwidth\": 2, \"linecolor\": \"white\", \"showbackground\": true, \"ticks\": \"\", \"zerolinecolor\": \"white\"}, \"yaxis\": {\"backgroundcolor\": \"#E5ECF6\", \"gridcolor\": \"white\", \"gridwidth\": 2, \"linecolor\": \"white\", \"showbackground\": true, \"ticks\": \"\", \"zerolinecolor\": \"white\"}, \"zaxis\": {\"backgroundcolor\": \"#E5ECF6\", \"gridcolor\": \"white\", \"gridwidth\": 2, \"linecolor\": \"white\", \"showbackground\": true, \"ticks\": \"\", \"zerolinecolor\": \"white\"}}, \"shapedefaults\": {\"line\": {\"color\": \"#2a3f5f\"}}, \"ternary\": {\"aaxis\": {\"gridcolor\": \"white\", \"linecolor\": \"white\", \"ticks\": \"\"}, \"baxis\": {\"gridcolor\": \"white\", \"linecolor\": \"white\", \"ticks\": \"\"}, \"bgcolor\": \"#E5ECF6\", \"caxis\": {\"gridcolor\": \"white\", \"linecolor\": \"white\", \"ticks\": \"\"}}, \"title\": {\"x\": 0.05}, \"xaxis\": {\"automargin\": true, \"gridcolor\": \"white\", \"linecolor\": \"white\", \"ticks\": \"\", \"zerolinecolor\": \"white\", \"zerolinewidth\": 2}, \"yaxis\": {\"automargin\": true, \"gridcolor\": \"white\", \"linecolor\": \"white\", \"ticks\": \"\", \"zerolinecolor\": \"white\", \"zerolinewidth\": 2}}}, \"width\": 800, \"xaxis\": {\"title\": {\"text\": \"width\"}}, \"yaxis\": {\"title\": {\"text\": \"height\"}}},\n",
       "                        {\"responsive\": true}\n",
       "                    ).then(function(){\n",
       "                            \n",
       "var gd = document.getElementById('d7e385a0-1e28-4794-b79d-522042cf2986');\n",
       "var x = new MutationObserver(function (mutations, observer) {{\n",
       "        var display = window.getComputedStyle(gd).display;\n",
       "        if (!display || display === 'none') {{\n",
       "            console.log([gd, 'removed!']);\n",
       "            Plotly.purge(gd);\n",
       "            observer.disconnect();\n",
       "        }}\n",
       "}});\n",
       "\n",
       "// Listen for the removal of the full notebook cells\n",
       "var notebookContainer = gd.closest('#notebook-container');\n",
       "if (notebookContainer) {{\n",
       "    x.observe(notebookContainer, {childList: true});\n",
       "}}\n",
       "\n",
       "// Listen for the clearing of the current output cell\n",
       "var outputEl = gd.closest('.output');\n",
       "if (outputEl) {{\n",
       "    x.observe(outputEl, {childList: true});\n",
       "}}\n",
       "\n",
       "                        })\n",
       "                };\n",
       "                });\n",
       "            </script>\n",
       "        </div>"
      ]
     },
     "metadata": {},
     "output_type": "display_data"
    }
   ],
   "source": [
    "lin_model = lambda x: 0.8*x + 0.1\n",
    "plotter.enable_model_areas()\n",
    "plotter.update_model_area_plots(lin_model)\n",
    "plotter()"
   ]
  },
  {
   "cell_type": "markdown",
   "metadata": {
    "slideshow": {
     "slide_type": "fragment"
    }
   },
   "source": [
    "Ja, vi kan nå bruke kategoriene i datasettet vårt for å avgjøre om modellen er god eller om den må justeres."
   ]
  },
  {
   "cell_type": "markdown",
   "metadata": {
    "slideshow": {
     "slide_type": "subslide"
    }
   },
   "source": [
    "Med en trent modell kan vi gjøre prediksjoner for nye datapunkter. Vi kan da \"kaste vekk\" all dataen vi brukte for å trene den."
   ]
  },
  {
   "cell_type": "code",
   "execution_count": 56,
   "metadata": {
    "slideshow": {
     "slide_type": "-"
    }
   },
   "outputs": [
    {
     "data": {
      "application/vnd.plotly.v1+json": {
       "config": {
        "plotlyServerURL": "https://plot.ly"
       },
       "data": [
        {
         "fill": "toself",
         "fillcolor": "rgba(255,65,54,0.5)",
         "hoverinfo": "none",
         "mode": "none",
         "showlegend": false,
         "type": "scatter",
         "visible": true,
         "x": [
          1.05,
          1.05,
          -0.05,
          -0.05,
          1.05
         ],
         "y": [
          0.9400000000000001,
          -0.05,
          -0.05,
          0.06,
          0.9400000000000001
         ]
        },
        {
         "fill": "toself",
         "fillcolor": "rgba(0,116,217,0.5)",
         "hoverinfo": "none",
         "mode": "none",
         "showlegend": false,
         "type": "scatter",
         "visible": true,
         "x": [
          -0.05,
          -0.05,
          1.05,
          1.05,
          -0.05
         ],
         "y": [
          0.06,
          1.05,
          1.05,
          0.9400000000000001,
          0.06
         ]
        },
        {
         "marker": {
          "color": "black"
         },
         "mode": "lines",
         "showlegend": false,
         "type": "scatter",
         "x": [],
         "y": []
        },
        {
         "marker": {
          "color": "rgba(255,65,54,1.0)",
          "line": {
           "width": 1
          },
          "size": 10
         },
         "mode": "markers",
         "name": "Wide rectangle",
         "type": "scatter",
         "visible": false,
         "x": [
          0.25361835400399335,
          0.46509353592568636,
          0.8461350680637683,
          0.6343955124170224,
          0.7784920026119713,
          0.3793015804474975,
          0.6072530024537646,
          0.2949273383847558,
          0.7558636481607831,
          0.7497269493496418,
          0.8371308445624882,
          0.6920626400729134,
          0.9456781589885701,
          0.9911117459272148,
          0.6953952373403927,
          0.8811981326978863,
          0.9771731691104963,
          0.6703257299854498,
          0.903628599121053,
          0.4396678501906073,
          0.4492437086107962,
          0.49746686717784505,
          0.7738068961789438,
          0.7317246635510961,
          0.8261873619481869,
          0.7891181362893877,
          0.553836669741516,
          0.5982904919820594,
          0.9423408877138495,
          0.9143132504848973,
          0.6329372082982035,
          0.3988219647137673,
          0.8696676775654443,
          0.711233599696383,
          0.3087890825705357,
          0.6521886785079585,
          0.9341271293023133,
          0.7285759485999925,
          0.32028134046090795,
          0.9744924438436668,
          0.8996775677414345,
          0.4726849130371895
         ],
         "y": [
          0.11398602427303439,
          0.24442540379476874,
          0.7138992530637794,
          0.14567641675401288,
          0.657323451474926,
          0.2811846424503812,
          0.23996323424762234,
          0.2813838303557217,
          0.0634725183807785,
          0.7250013519691538,
          0.37041140714217047,
          0.32474198408760757,
          0.8131865816085733,
          0.855582371634859,
          0.3903580249486802,
          0.7972028271937127,
          0.6589195494691795,
          0.13936259256176786,
          0.231306485868653,
          0.22644420164753987,
          0.2733349105253129,
          0.1386349917286256,
          0.45965619462473095,
          0.34921680043481507,
          0.4379378564948513,
          0.4850704205265758,
          0.31178959486846236,
          0.28239004930483314,
          0.1125098328903138,
          0.11844550446066504,
          0.5034229628063569,
          0.03659822289785786,
          0.7412066013609954,
          0.6447496627016888,
          0.21999516739688818,
          0.3222498744424459,
          0.6908051364292684,
          0.25246133881293176,
          0.004925720205607331,
          0.4953781455105698,
          0.5751961949892045,
          0.08913639289429987
         ]
        },
        {
         "marker": {
          "color": "rgba(0,116,217,1.0)",
          "line": {
           "width": 1
          },
          "size": 10
         },
         "mode": "markers",
         "name": "Tall rectangle",
         "type": "scatter",
         "visible": false,
         "x": [
          0.20729979472648374,
          0.7852087214162017,
          0.011815321573685478,
          0.39147726744087674,
          0.3624523478185918,
          0.6889296786132615,
          0.4475842082183048,
          0.5385185476249709,
          0.10297020819531122,
          0.09219445499870871,
          0.005663574871188737,
          0.44304346996054866,
          0.5086225661439524,
          0.017233164701023207,
          0.26448160391272735,
          0.09747909679616262,
          0.16817534067205608,
          0.15057675774490886,
          0.4132628864441835,
          0.33554416059375947,
          0.7480307965909924,
          0.7219276657796583,
          0.23063957209851493,
          0.46580900635983713,
          0.044327418898669535,
          0.2930256970511135,
          0.9608203890000961,
          0.8489982642120467,
          0.07019940001619929,
          0.37765785249992256,
          0.18571563025478932,
          0.3929290703659868,
          0.2565370725744398,
          0.21084811908654089,
          0.2071935266763537,
          0.6399057444436431,
          0.5395209125515102,
          0.46475330797932946,
          0.19157558108930017,
          0.1962380713340871,
          0.6253108084357663,
          0.40476373786038633,
          0.35878587983221166,
          0.3843784425742115,
          0.06371896003176192,
          0.44474146589432906,
          0.14126665052705012,
          0.2721663796005638,
          0.42191430732229196,
          0.7173646250081446,
          0.5545325413503458,
          0.17243259490431762,
          0.11708210623242432,
          0.13086193239663924,
          0.42582883320875353,
          0.44367746756858417,
          0.608301314162011,
          0.12973608050584895
         ],
         "y": [
          0.25893447150629323,
          0.8801282601490411,
          0.19572097934214994,
          0.9902341168393478,
          0.7147652189836945,
          0.7430952994510038,
          0.6118491869392747,
          0.9699028227339452,
          0.16937206993928033,
          0.9839468081389631,
          0.022025396569259614,
          0.6585238637061062,
          0.6042062539529426,
          0.7697679191171746,
          0.951491345326508,
          0.23893902778554466,
          0.9999987454382877,
          0.34988864253634955,
          0.8188765069711557,
          0.7621867562344152,
          0.7794660952049448,
          0.9808449379187373,
          0.6005067906735647,
          0.7659870258975235,
          0.3345575255145554,
          0.5026815969108361,
          0.9705784484937858,
          0.8920738654051686,
          0.4097215454370703,
          0.45226974971199674,
          0.5614497999861128,
          0.45169251136267796,
          0.3086928259396513,
          0.28752490388334495,
          0.897836663126441,
          0.7000688958207165,
          0.8181691748429399,
          0.9623106103807788,
          0.224029673340143,
          0.8505864625324713,
          0.8201676769403694,
          0.6145034922186493,
          0.8721917113759375,
          0.6338703808964117,
          0.4857533659716815,
          0.8505541502691261,
          0.7435065370589119,
          0.7242363559913211,
          0.7859986929568061,
          0.9525415418369222,
          0.8645052721529202,
          0.2140866598653528,
          0.5950059573479926,
          0.673932280950764,
          0.6989836552779226,
          0.5335015094909471,
          0.796935141679166,
          0.35850387558956165
         ]
        }
       ],
       "layout": {
        "height": 600,
        "template": {
         "data": {
          "bar": [
           {
            "error_x": {
             "color": "#2a3f5f"
            },
            "error_y": {
             "color": "#2a3f5f"
            },
            "marker": {
             "line": {
              "color": "#E5ECF6",
              "width": 0.5
             }
            },
            "type": "bar"
           }
          ],
          "barpolar": [
           {
            "marker": {
             "line": {
              "color": "#E5ECF6",
              "width": 0.5
             }
            },
            "type": "barpolar"
           }
          ],
          "carpet": [
           {
            "aaxis": {
             "endlinecolor": "#2a3f5f",
             "gridcolor": "white",
             "linecolor": "white",
             "minorgridcolor": "white",
             "startlinecolor": "#2a3f5f"
            },
            "baxis": {
             "endlinecolor": "#2a3f5f",
             "gridcolor": "white",
             "linecolor": "white",
             "minorgridcolor": "white",
             "startlinecolor": "#2a3f5f"
            },
            "type": "carpet"
           }
          ],
          "choropleth": [
           {
            "colorbar": {
             "outlinewidth": 0,
             "ticks": ""
            },
            "type": "choropleth"
           }
          ],
          "contour": [
           {
            "colorbar": {
             "outlinewidth": 0,
             "ticks": ""
            },
            "colorscale": [
             [
              0,
              "#0d0887"
             ],
             [
              0.1111111111111111,
              "#46039f"
             ],
             [
              0.2222222222222222,
              "#7201a8"
             ],
             [
              0.3333333333333333,
              "#9c179e"
             ],
             [
              0.4444444444444444,
              "#bd3786"
             ],
             [
              0.5555555555555556,
              "#d8576b"
             ],
             [
              0.6666666666666666,
              "#ed7953"
             ],
             [
              0.7777777777777778,
              "#fb9f3a"
             ],
             [
              0.8888888888888888,
              "#fdca26"
             ],
             [
              1,
              "#f0f921"
             ]
            ],
            "type": "contour"
           }
          ],
          "contourcarpet": [
           {
            "colorbar": {
             "outlinewidth": 0,
             "ticks": ""
            },
            "type": "contourcarpet"
           }
          ],
          "heatmap": [
           {
            "colorbar": {
             "outlinewidth": 0,
             "ticks": ""
            },
            "colorscale": [
             [
              0,
              "#0d0887"
             ],
             [
              0.1111111111111111,
              "#46039f"
             ],
             [
              0.2222222222222222,
              "#7201a8"
             ],
             [
              0.3333333333333333,
              "#9c179e"
             ],
             [
              0.4444444444444444,
              "#bd3786"
             ],
             [
              0.5555555555555556,
              "#d8576b"
             ],
             [
              0.6666666666666666,
              "#ed7953"
             ],
             [
              0.7777777777777778,
              "#fb9f3a"
             ],
             [
              0.8888888888888888,
              "#fdca26"
             ],
             [
              1,
              "#f0f921"
             ]
            ],
            "type": "heatmap"
           }
          ],
          "heatmapgl": [
           {
            "colorbar": {
             "outlinewidth": 0,
             "ticks": ""
            },
            "colorscale": [
             [
              0,
              "#0d0887"
             ],
             [
              0.1111111111111111,
              "#46039f"
             ],
             [
              0.2222222222222222,
              "#7201a8"
             ],
             [
              0.3333333333333333,
              "#9c179e"
             ],
             [
              0.4444444444444444,
              "#bd3786"
             ],
             [
              0.5555555555555556,
              "#d8576b"
             ],
             [
              0.6666666666666666,
              "#ed7953"
             ],
             [
              0.7777777777777778,
              "#fb9f3a"
             ],
             [
              0.8888888888888888,
              "#fdca26"
             ],
             [
              1,
              "#f0f921"
             ]
            ],
            "type": "heatmapgl"
           }
          ],
          "histogram": [
           {
            "marker": {
             "colorbar": {
              "outlinewidth": 0,
              "ticks": ""
             }
            },
            "type": "histogram"
           }
          ],
          "histogram2d": [
           {
            "colorbar": {
             "outlinewidth": 0,
             "ticks": ""
            },
            "colorscale": [
             [
              0,
              "#0d0887"
             ],
             [
              0.1111111111111111,
              "#46039f"
             ],
             [
              0.2222222222222222,
              "#7201a8"
             ],
             [
              0.3333333333333333,
              "#9c179e"
             ],
             [
              0.4444444444444444,
              "#bd3786"
             ],
             [
              0.5555555555555556,
              "#d8576b"
             ],
             [
              0.6666666666666666,
              "#ed7953"
             ],
             [
              0.7777777777777778,
              "#fb9f3a"
             ],
             [
              0.8888888888888888,
              "#fdca26"
             ],
             [
              1,
              "#f0f921"
             ]
            ],
            "type": "histogram2d"
           }
          ],
          "histogram2dcontour": [
           {
            "colorbar": {
             "outlinewidth": 0,
             "ticks": ""
            },
            "colorscale": [
             [
              0,
              "#0d0887"
             ],
             [
              0.1111111111111111,
              "#46039f"
             ],
             [
              0.2222222222222222,
              "#7201a8"
             ],
             [
              0.3333333333333333,
              "#9c179e"
             ],
             [
              0.4444444444444444,
              "#bd3786"
             ],
             [
              0.5555555555555556,
              "#d8576b"
             ],
             [
              0.6666666666666666,
              "#ed7953"
             ],
             [
              0.7777777777777778,
              "#fb9f3a"
             ],
             [
              0.8888888888888888,
              "#fdca26"
             ],
             [
              1,
              "#f0f921"
             ]
            ],
            "type": "histogram2dcontour"
           }
          ],
          "mesh3d": [
           {
            "colorbar": {
             "outlinewidth": 0,
             "ticks": ""
            },
            "type": "mesh3d"
           }
          ],
          "parcoords": [
           {
            "line": {
             "colorbar": {
              "outlinewidth": 0,
              "ticks": ""
             }
            },
            "type": "parcoords"
           }
          ],
          "scatter": [
           {
            "marker": {
             "colorbar": {
              "outlinewidth": 0,
              "ticks": ""
             }
            },
            "type": "scatter"
           }
          ],
          "scatter3d": [
           {
            "line": {
             "colorbar": {
              "outlinewidth": 0,
              "ticks": ""
             }
            },
            "marker": {
             "colorbar": {
              "outlinewidth": 0,
              "ticks": ""
             }
            },
            "type": "scatter3d"
           }
          ],
          "scattercarpet": [
           {
            "marker": {
             "colorbar": {
              "outlinewidth": 0,
              "ticks": ""
             }
            },
            "type": "scattercarpet"
           }
          ],
          "scattergeo": [
           {
            "marker": {
             "colorbar": {
              "outlinewidth": 0,
              "ticks": ""
             }
            },
            "type": "scattergeo"
           }
          ],
          "scattergl": [
           {
            "marker": {
             "colorbar": {
              "outlinewidth": 0,
              "ticks": ""
             }
            },
            "type": "scattergl"
           }
          ],
          "scattermapbox": [
           {
            "marker": {
             "colorbar": {
              "outlinewidth": 0,
              "ticks": ""
             }
            },
            "type": "scattermapbox"
           }
          ],
          "scatterpolar": [
           {
            "marker": {
             "colorbar": {
              "outlinewidth": 0,
              "ticks": ""
             }
            },
            "type": "scatterpolar"
           }
          ],
          "scatterpolargl": [
           {
            "marker": {
             "colorbar": {
              "outlinewidth": 0,
              "ticks": ""
             }
            },
            "type": "scatterpolargl"
           }
          ],
          "scatterternary": [
           {
            "marker": {
             "colorbar": {
              "outlinewidth": 0,
              "ticks": ""
             }
            },
            "type": "scatterternary"
           }
          ],
          "surface": [
           {
            "colorbar": {
             "outlinewidth": 0,
             "ticks": ""
            },
            "colorscale": [
             [
              0,
              "#0d0887"
             ],
             [
              0.1111111111111111,
              "#46039f"
             ],
             [
              0.2222222222222222,
              "#7201a8"
             ],
             [
              0.3333333333333333,
              "#9c179e"
             ],
             [
              0.4444444444444444,
              "#bd3786"
             ],
             [
              0.5555555555555556,
              "#d8576b"
             ],
             [
              0.6666666666666666,
              "#ed7953"
             ],
             [
              0.7777777777777778,
              "#fb9f3a"
             ],
             [
              0.8888888888888888,
              "#fdca26"
             ],
             [
              1,
              "#f0f921"
             ]
            ],
            "type": "surface"
           }
          ],
          "table": [
           {
            "cells": {
             "fill": {
              "color": "#EBF0F8"
             },
             "line": {
              "color": "white"
             }
            },
            "header": {
             "fill": {
              "color": "#C8D4E3"
             },
             "line": {
              "color": "white"
             }
            },
            "type": "table"
           }
          ]
         },
         "layout": {
          "annotationdefaults": {
           "arrowcolor": "#2a3f5f",
           "arrowhead": 0,
           "arrowwidth": 1
          },
          "colorscale": {
           "diverging": [
            [
             0,
             "#8e0152"
            ],
            [
             0.1,
             "#c51b7d"
            ],
            [
             0.2,
             "#de77ae"
            ],
            [
             0.3,
             "#f1b6da"
            ],
            [
             0.4,
             "#fde0ef"
            ],
            [
             0.5,
             "#f7f7f7"
            ],
            [
             0.6,
             "#e6f5d0"
            ],
            [
             0.7,
             "#b8e186"
            ],
            [
             0.8,
             "#7fbc41"
            ],
            [
             0.9,
             "#4d9221"
            ],
            [
             1,
             "#276419"
            ]
           ],
           "sequential": [
            [
             0,
             "#0d0887"
            ],
            [
             0.1111111111111111,
             "#46039f"
            ],
            [
             0.2222222222222222,
             "#7201a8"
            ],
            [
             0.3333333333333333,
             "#9c179e"
            ],
            [
             0.4444444444444444,
             "#bd3786"
            ],
            [
             0.5555555555555556,
             "#d8576b"
            ],
            [
             0.6666666666666666,
             "#ed7953"
            ],
            [
             0.7777777777777778,
             "#fb9f3a"
            ],
            [
             0.8888888888888888,
             "#fdca26"
            ],
            [
             1,
             "#f0f921"
            ]
           ],
           "sequentialminus": [
            [
             0,
             "#0d0887"
            ],
            [
             0.1111111111111111,
             "#46039f"
            ],
            [
             0.2222222222222222,
             "#7201a8"
            ],
            [
             0.3333333333333333,
             "#9c179e"
            ],
            [
             0.4444444444444444,
             "#bd3786"
            ],
            [
             0.5555555555555556,
             "#d8576b"
            ],
            [
             0.6666666666666666,
             "#ed7953"
            ],
            [
             0.7777777777777778,
             "#fb9f3a"
            ],
            [
             0.8888888888888888,
             "#fdca26"
            ],
            [
             1,
             "#f0f921"
            ]
           ]
          },
          "colorway": [
           "#636efa",
           "#EF553B",
           "#00cc96",
           "#ab63fa",
           "#FFA15A",
           "#19d3f3",
           "#FF6692",
           "#B6E880",
           "#FF97FF",
           "#FECB52"
          ],
          "font": {
           "color": "#2a3f5f"
          },
          "geo": {
           "bgcolor": "white",
           "lakecolor": "white",
           "landcolor": "#E5ECF6",
           "showlakes": true,
           "showland": true,
           "subunitcolor": "white"
          },
          "hoverlabel": {
           "align": "left"
          },
          "hovermode": "closest",
          "mapbox": {
           "style": "light"
          },
          "paper_bgcolor": "white",
          "plot_bgcolor": "#E5ECF6",
          "polar": {
           "angularaxis": {
            "gridcolor": "white",
            "linecolor": "white",
            "ticks": ""
           },
           "bgcolor": "#E5ECF6",
           "radialaxis": {
            "gridcolor": "white",
            "linecolor": "white",
            "ticks": ""
           }
          },
          "scene": {
           "xaxis": {
            "backgroundcolor": "#E5ECF6",
            "gridcolor": "white",
            "gridwidth": 2,
            "linecolor": "white",
            "showbackground": true,
            "ticks": "",
            "zerolinecolor": "white"
           },
           "yaxis": {
            "backgroundcolor": "#E5ECF6",
            "gridcolor": "white",
            "gridwidth": 2,
            "linecolor": "white",
            "showbackground": true,
            "ticks": "",
            "zerolinecolor": "white"
           },
           "zaxis": {
            "backgroundcolor": "#E5ECF6",
            "gridcolor": "white",
            "gridwidth": 2,
            "linecolor": "white",
            "showbackground": true,
            "ticks": "",
            "zerolinecolor": "white"
           }
          },
          "shapedefaults": {
           "line": {
            "color": "#2a3f5f"
           }
          },
          "ternary": {
           "aaxis": {
            "gridcolor": "white",
            "linecolor": "white",
            "ticks": ""
           },
           "baxis": {
            "gridcolor": "white",
            "linecolor": "white",
            "ticks": ""
           },
           "bgcolor": "#E5ECF6",
           "caxis": {
            "gridcolor": "white",
            "linecolor": "white",
            "ticks": ""
           }
          },
          "title": {
           "x": 0.05
          },
          "xaxis": {
           "automargin": true,
           "gridcolor": "white",
           "linecolor": "white",
           "ticks": "",
           "zerolinecolor": "white",
           "zerolinewidth": 2
          },
          "yaxis": {
           "automargin": true,
           "gridcolor": "white",
           "linecolor": "white",
           "ticks": "",
           "zerolinecolor": "white",
           "zerolinewidth": 2
          }
         }
        },
        "width": 800,
        "xaxis": {
         "autorange": true,
         "range": [
          -0.05,
          1.05
         ],
         "title": {
          "text": "width"
         },
         "type": "linear"
        },
        "yaxis": {
         "autorange": true,
         "range": [
          -0.11111111111111112,
          1.1111111111111112
         ],
         "title": {
          "text": "height"
         },
         "type": "linear"
        }
       }
      },
      "image/png": "[encoded data removed]",
      "text/html": [
       "<div>\n",
       "        \n",
       "        \n",
       "            <div id=\"b8406ad0-56c9-45cc-a859-8df401f51337\" class=\"plotly-graph-div\" style=\"height:600px; width:800px;\"></div>\n",
       "            <script type=\"text/javascript\">\n",
       "                require([\"plotly\"], function(Plotly) {\n",
       "                    window.PLOTLYENV=window.PLOTLYENV || {};\n",
       "                    \n",
       "                if (document.getElementById(\"b8406ad0-56c9-45cc-a859-8df401f51337\")) {\n",
       "                    Plotly.newPlot(\n",
       "                        'b8406ad0-56c9-45cc-a859-8df401f51337',\n",
       "                        [{\"fill\": \"toself\", \"fillcolor\": \"rgba(255,65,54,0.5)\", \"hoverinfo\": \"none\", \"mode\": \"none\", \"showlegend\": false, \"type\": \"scatter\", \"visible\": true, \"x\": [1.05, 1.05, -0.05, -0.05, 1.05], \"y\": [0.9400000000000001, -0.05, -0.05, 0.06, 0.9400000000000001]}, {\"fill\": \"toself\", \"fillcolor\": \"rgba(0,116,217,0.5)\", \"hoverinfo\": \"none\", \"mode\": \"none\", \"showlegend\": false, \"type\": \"scatter\", \"visible\": true, \"x\": [-0.05, -0.05, 1.05, 1.05, -0.05], \"y\": [0.06, 1.05, 1.05, 0.9400000000000001, 0.06]}, {\"marker\": {\"color\": \"black\"}, \"mode\": \"lines\", \"showlegend\": false, \"type\": \"scatter\", \"x\": [], \"y\": []}, {\"marker\": {\"color\": \"rgba(255,65,54,1.0)\", \"line\": {\"width\": 1}, \"size\": 10}, \"mode\": \"markers\", \"name\": \"Wide rectangle\", \"type\": \"scatter\", \"visible\": false, \"x\": [0.25361835400399335, 0.46509353592568636, 0.8461350680637683, 0.6343955124170224, 0.7784920026119713, 0.3793015804474975, 0.6072530024537646, 0.2949273383847558, 0.7558636481607831, 0.7497269493496418, 0.8371308445624882, 0.6920626400729134, 0.9456781589885701, 0.9911117459272148, 0.6953952373403927, 0.8811981326978863, 0.9771731691104963, 0.6703257299854498, 0.903628599121053, 0.4396678501906073, 0.4492437086107962, 0.49746686717784505, 0.7738068961789438, 0.7317246635510961, 0.8261873619481869, 0.7891181362893877, 0.553836669741516, 0.5982904919820594, 0.9423408877138495, 0.9143132504848973, 0.6329372082982035, 0.3988219647137673, 0.8696676775654443, 0.711233599696383, 0.3087890825705357, 0.6521886785079585, 0.9341271293023133, 0.7285759485999925, 0.32028134046090795, 0.9744924438436668, 0.8996775677414345, 0.4726849130371895], \"y\": [0.11398602427303439, 0.24442540379476874, 0.7138992530637794, 0.14567641675401288, 0.657323451474926, 0.2811846424503812, 0.23996323424762234, 0.2813838303557217, 0.0634725183807785, 0.7250013519691538, 0.37041140714217047, 0.32474198408760757, 0.8131865816085733, 0.855582371634859, 0.3903580249486802, 0.7972028271937127, 0.6589195494691795, 0.13936259256176786, 0.231306485868653, 0.22644420164753987, 0.2733349105253129, 0.1386349917286256, 0.45965619462473095, 0.34921680043481507, 0.4379378564948513, 0.4850704205265758, 0.31178959486846236, 0.28239004930483314, 0.1125098328903138, 0.11844550446066504, 0.5034229628063569, 0.03659822289785786, 0.7412066013609954, 0.6447496627016888, 0.21999516739688818, 0.3222498744424459, 0.6908051364292684, 0.25246133881293176, 0.004925720205607331, 0.4953781455105698, 0.5751961949892045, 0.08913639289429987]}, {\"marker\": {\"color\": \"rgba(0,116,217,1.0)\", \"line\": {\"width\": 1}, \"size\": 10}, \"mode\": \"markers\", \"name\": \"Tall rectangle\", \"type\": \"scatter\", \"visible\": false, \"x\": [0.20729979472648374, 0.7852087214162017, 0.011815321573685478, 0.39147726744087674, 0.3624523478185918, 0.6889296786132615, 0.4475842082183048, 0.5385185476249709, 0.10297020819531122, 0.09219445499870871, 0.005663574871188737, 0.44304346996054866, 0.5086225661439524, 0.017233164701023207, 0.26448160391272735, 0.09747909679616262, 0.16817534067205608, 0.15057675774490886, 0.4132628864441835, 0.33554416059375947, 0.7480307965909924, 0.7219276657796583, 0.23063957209851493, 0.46580900635983713, 0.044327418898669535, 0.2930256970511135, 0.9608203890000961, 0.8489982642120467, 0.07019940001619929, 0.37765785249992256, 0.18571563025478932, 0.3929290703659868, 0.2565370725744398, 0.21084811908654089, 0.2071935266763537, 0.6399057444436431, 0.5395209125515102, 0.46475330797932946, 0.19157558108930017, 0.1962380713340871, 0.6253108084357663, 0.40476373786038633, 0.35878587983221166, 0.3843784425742115, 0.06371896003176192, 0.44474146589432906, 0.14126665052705012, 0.2721663796005638, 0.42191430732229196, 0.7173646250081446, 0.5545325413503458, 0.17243259490431762, 0.11708210623242432, 0.13086193239663924, 0.42582883320875353, 0.44367746756858417, 0.608301314162011, 0.12973608050584895], \"y\": [0.25893447150629323, 0.8801282601490411, 0.19572097934214994, 0.9902341168393478, 0.7147652189836945, 0.7430952994510038, 0.6118491869392747, 0.9699028227339452, 0.16937206993928033, 0.9839468081389631, 0.022025396569259614, 0.6585238637061062, 0.6042062539529426, 0.7697679191171746, 0.951491345326508, 0.23893902778554466, 0.9999987454382877, 0.34988864253634955, 0.8188765069711557, 0.7621867562344152, 0.7794660952049448, 0.9808449379187373, 0.6005067906735647, 0.7659870258975235, 0.3345575255145554, 0.5026815969108361, 0.9705784484937858, 0.8920738654051686, 0.4097215454370703, 0.45226974971199674, 0.5614497999861128, 0.45169251136267796, 0.3086928259396513, 0.28752490388334495, 0.897836663126441, 0.7000688958207165, 0.8181691748429399, 0.9623106103807788, 0.224029673340143, 0.8505864625324713, 0.8201676769403694, 0.6145034922186493, 0.8721917113759375, 0.6338703808964117, 0.4857533659716815, 0.8505541502691261, 0.7435065370589119, 0.7242363559913211, 0.7859986929568061, 0.9525415418369222, 0.8645052721529202, 0.2140866598653528, 0.5950059573479926, 0.673932280950764, 0.6989836552779226, 0.5335015094909471, 0.796935141679166, 0.35850387558956165]}],\n",
       "                        {\"height\": 600, \"template\": {\"data\": {\"bar\": [{\"error_x\": {\"color\": \"#2a3f5f\"}, \"error_y\": {\"color\": \"#2a3f5f\"}, \"marker\": {\"line\": {\"color\": \"#E5ECF6\", \"width\": 0.5}}, \"type\": \"bar\"}], \"barpolar\": [{\"marker\": {\"line\": {\"color\": \"#E5ECF6\", \"width\": 0.5}}, \"type\": \"barpolar\"}], \"carpet\": [{\"aaxis\": {\"endlinecolor\": \"#2a3f5f\", \"gridcolor\": \"white\", \"linecolor\": \"white\", \"minorgridcolor\": \"white\", \"startlinecolor\": \"#2a3f5f\"}, \"baxis\": {\"endlinecolor\": \"#2a3f5f\", \"gridcolor\": \"white\", \"linecolor\": \"white\", \"minorgridcolor\": \"white\", \"startlinecolor\": \"#2a3f5f\"}, \"type\": \"carpet\"}], \"choropleth\": [{\"colorbar\": {\"outlinewidth\": 0, \"ticks\": \"\"}, \"type\": \"choropleth\"}], \"contour\": [{\"colorbar\": {\"outlinewidth\": 0, \"ticks\": \"\"}, \"colorscale\": [[0.0, \"#0d0887\"], [0.1111111111111111, \"#46039f\"], [0.2222222222222222, \"#7201a8\"], [0.3333333333333333, \"#9c179e\"], [0.4444444444444444, \"#bd3786\"], [0.5555555555555556, \"#d8576b\"], [0.6666666666666666, \"#ed7953\"], [0.7777777777777778, \"#fb9f3a\"], [0.8888888888888888, \"#fdca26\"], [1.0, \"#f0f921\"]], \"type\": \"contour\"}], \"contourcarpet\": [{\"colorbar\": {\"outlinewidth\": 0, \"ticks\": \"\"}, \"type\": \"contourcarpet\"}], \"heatmap\": [{\"colorbar\": {\"outlinewidth\": 0, \"ticks\": \"\"}, \"colorscale\": [[0.0, \"#0d0887\"], [0.1111111111111111, \"#46039f\"], [0.2222222222222222, \"#7201a8\"], [0.3333333333333333, \"#9c179e\"], [0.4444444444444444, \"#bd3786\"], [0.5555555555555556, \"#d8576b\"], [0.6666666666666666, \"#ed7953\"], [0.7777777777777778, \"#fb9f3a\"], [0.8888888888888888, \"#fdca26\"], [1.0, \"#f0f921\"]], \"type\": \"heatmap\"}], \"heatmapgl\": [{\"colorbar\": {\"outlinewidth\": 0, \"ticks\": \"\"}, \"colorscale\": [[0.0, \"#0d0887\"], [0.1111111111111111, \"#46039f\"], [0.2222222222222222, \"#7201a8\"], [0.3333333333333333, \"#9c179e\"], [0.4444444444444444, \"#bd3786\"], [0.5555555555555556, \"#d8576b\"], [0.6666666666666666, \"#ed7953\"], [0.7777777777777778, \"#fb9f3a\"], [0.8888888888888888, \"#fdca26\"], [1.0, \"#f0f921\"]], \"type\": \"heatmapgl\"}], \"histogram\": [{\"marker\": {\"colorbar\": {\"outlinewidth\": 0, \"ticks\": \"\"}}, \"type\": \"histogram\"}], \"histogram2d\": [{\"colorbar\": {\"outlinewidth\": 0, \"ticks\": \"\"}, \"colorscale\": [[0.0, \"#0d0887\"], [0.1111111111111111, \"#46039f\"], [0.2222222222222222, \"#7201a8\"], [0.3333333333333333, \"#9c179e\"], [0.4444444444444444, \"#bd3786\"], [0.5555555555555556, \"#d8576b\"], [0.6666666666666666, \"#ed7953\"], [0.7777777777777778, \"#fb9f3a\"], [0.8888888888888888, \"#fdca26\"], [1.0, \"#f0f921\"]], \"type\": \"histogram2d\"}], \"histogram2dcontour\": [{\"colorbar\": {\"outlinewidth\": 0, \"ticks\": \"\"}, \"colorscale\": [[0.0, \"#0d0887\"], [0.1111111111111111, \"#46039f\"], [0.2222222222222222, \"#7201a8\"], [0.3333333333333333, \"#9c179e\"], [0.4444444444444444, \"#bd3786\"], [0.5555555555555556, \"#d8576b\"], [0.6666666666666666, \"#ed7953\"], [0.7777777777777778, \"#fb9f3a\"], [0.8888888888888888, \"#fdca26\"], [1.0, \"#f0f921\"]], \"type\": \"histogram2dcontour\"}], \"mesh3d\": [{\"colorbar\": {\"outlinewidth\": 0, \"ticks\": \"\"}, \"type\": \"mesh3d\"}], \"parcoords\": [{\"line\": {\"colorbar\": {\"outlinewidth\": 0, \"ticks\": \"\"}}, \"type\": \"parcoords\"}], \"scatter\": [{\"marker\": {\"colorbar\": {\"outlinewidth\": 0, \"ticks\": \"\"}}, \"type\": \"scatter\"}], \"scatter3d\": [{\"line\": {\"colorbar\": {\"outlinewidth\": 0, \"ticks\": \"\"}}, \"marker\": {\"colorbar\": {\"outlinewidth\": 0, \"ticks\": \"\"}}, \"type\": \"scatter3d\"}], \"scattercarpet\": [{\"marker\": {\"colorbar\": {\"outlinewidth\": 0, \"ticks\": \"\"}}, \"type\": \"scattercarpet\"}], \"scattergeo\": [{\"marker\": {\"colorbar\": {\"outlinewidth\": 0, \"ticks\": \"\"}}, \"type\": \"scattergeo\"}], \"scattergl\": [{\"marker\": {\"colorbar\": {\"outlinewidth\": 0, \"ticks\": \"\"}}, \"type\": \"scattergl\"}], \"scattermapbox\": [{\"marker\": {\"colorbar\": {\"outlinewidth\": 0, \"ticks\": \"\"}}, \"type\": \"scattermapbox\"}], \"scatterpolar\": [{\"marker\": {\"colorbar\": {\"outlinewidth\": 0, \"ticks\": \"\"}}, \"type\": \"scatterpolar\"}], \"scatterpolargl\": [{\"marker\": {\"colorbar\": {\"outlinewidth\": 0, \"ticks\": \"\"}}, \"type\": \"scatterpolargl\"}], \"scatterternary\": [{\"marker\": {\"colorbar\": {\"outlinewidth\": 0, \"ticks\": \"\"}}, \"type\": \"scatterternary\"}], \"surface\": [{\"colorbar\": {\"outlinewidth\": 0, \"ticks\": \"\"}, \"colorscale\": [[0.0, \"#0d0887\"], [0.1111111111111111, \"#46039f\"], [0.2222222222222222, \"#7201a8\"], [0.3333333333333333, \"#9c179e\"], [0.4444444444444444, \"#bd3786\"], [0.5555555555555556, \"#d8576b\"], [0.6666666666666666, \"#ed7953\"], [0.7777777777777778, \"#fb9f3a\"], [0.8888888888888888, \"#fdca26\"], [1.0, \"#f0f921\"]], \"type\": \"surface\"}], \"table\": [{\"cells\": {\"fill\": {\"color\": \"#EBF0F8\"}, \"line\": {\"color\": \"white\"}}, \"header\": {\"fill\": {\"color\": \"#C8D4E3\"}, \"line\": {\"color\": \"white\"}}, \"type\": \"table\"}]}, \"layout\": {\"annotationdefaults\": {\"arrowcolor\": \"#2a3f5f\", \"arrowhead\": 0, \"arrowwidth\": 1}, \"colorscale\": {\"diverging\": [[0, \"#8e0152\"], [0.1, \"#c51b7d\"], [0.2, \"#de77ae\"], [0.3, \"#f1b6da\"], [0.4, \"#fde0ef\"], [0.5, \"#f7f7f7\"], [0.6, \"#e6f5d0\"], [0.7, \"#b8e186\"], [0.8, \"#7fbc41\"], [0.9, \"#4d9221\"], [1, \"#276419\"]], \"sequential\": [[0.0, \"#0d0887\"], [0.1111111111111111, \"#46039f\"], [0.2222222222222222, \"#7201a8\"], [0.3333333333333333, \"#9c179e\"], [0.4444444444444444, \"#bd3786\"], [0.5555555555555556, \"#d8576b\"], [0.6666666666666666, \"#ed7953\"], [0.7777777777777778, \"#fb9f3a\"], [0.8888888888888888, \"#fdca26\"], [1.0, \"#f0f921\"]], \"sequentialminus\": [[0.0, \"#0d0887\"], [0.1111111111111111, \"#46039f\"], [0.2222222222222222, \"#7201a8\"], [0.3333333333333333, \"#9c179e\"], [0.4444444444444444, \"#bd3786\"], [0.5555555555555556, \"#d8576b\"], [0.6666666666666666, \"#ed7953\"], [0.7777777777777778, \"#fb9f3a\"], [0.8888888888888888, \"#fdca26\"], [1.0, \"#f0f921\"]]}, \"colorway\": [\"#636efa\", \"#EF553B\", \"#00cc96\", \"#ab63fa\", \"#FFA15A\", \"#19d3f3\", \"#FF6692\", \"#B6E880\", \"#FF97FF\", \"#FECB52\"], \"font\": {\"color\": \"#2a3f5f\"}, \"geo\": {\"bgcolor\": \"white\", \"lakecolor\": \"white\", \"landcolor\": \"#E5ECF6\", \"showlakes\": true, \"showland\": true, \"subunitcolor\": \"white\"}, \"hoverlabel\": {\"align\": \"left\"}, \"hovermode\": \"closest\", \"mapbox\": {\"style\": \"light\"}, \"paper_bgcolor\": \"white\", \"plot_bgcolor\": \"#E5ECF6\", \"polar\": {\"angularaxis\": {\"gridcolor\": \"white\", \"linecolor\": \"white\", \"ticks\": \"\"}, \"bgcolor\": \"#E5ECF6\", \"radialaxis\": {\"gridcolor\": \"white\", \"linecolor\": \"white\", \"ticks\": \"\"}}, \"scene\": {\"xaxis\": {\"backgroundcolor\": \"#E5ECF6\", \"gridcolor\": \"white\", \"gridwidth\": 2, \"linecolor\": \"white\", \"showbackground\": true, \"ticks\": \"\", \"zerolinecolor\": \"white\"}, \"yaxis\": {\"backgroundcolor\": \"#E5ECF6\", \"gridcolor\": \"white\", \"gridwidth\": 2, \"linecolor\": \"white\", \"showbackground\": true, \"ticks\": \"\", \"zerolinecolor\": \"white\"}, \"zaxis\": {\"backgroundcolor\": \"#E5ECF6\", \"gridcolor\": \"white\", \"gridwidth\": 2, \"linecolor\": \"white\", \"showbackground\": true, \"ticks\": \"\", \"zerolinecolor\": \"white\"}}, \"shapedefaults\": {\"line\": {\"color\": \"#2a3f5f\"}}, \"ternary\": {\"aaxis\": {\"gridcolor\": \"white\", \"linecolor\": \"white\", \"ticks\": \"\"}, \"baxis\": {\"gridcolor\": \"white\", \"linecolor\": \"white\", \"ticks\": \"\"}, \"bgcolor\": \"#E5ECF6\", \"caxis\": {\"gridcolor\": \"white\", \"linecolor\": \"white\", \"ticks\": \"\"}}, \"title\": {\"x\": 0.05}, \"xaxis\": {\"automargin\": true, \"gridcolor\": \"white\", \"linecolor\": \"white\", \"ticks\": \"\", \"zerolinecolor\": \"white\", \"zerolinewidth\": 2}, \"yaxis\": {\"automargin\": true, \"gridcolor\": \"white\", \"linecolor\": \"white\", \"ticks\": \"\", \"zerolinecolor\": \"white\", \"zerolinewidth\": 2}}}, \"width\": 800, \"xaxis\": {\"title\": {\"text\": \"width\"}}, \"yaxis\": {\"title\": {\"text\": \"height\"}}},\n",
       "                        {\"responsive\": true}\n",
       "                    ).then(function(){\n",
       "                            \n",
       "var gd = document.getElementById('b8406ad0-56c9-45cc-a859-8df401f51337');\n",
       "var x = new MutationObserver(function (mutations, observer) {{\n",
       "        var display = window.getComputedStyle(gd).display;\n",
       "        if (!display || display === 'none') {{\n",
       "            console.log([gd, 'removed!']);\n",
       "            Plotly.purge(gd);\n",
       "            observer.disconnect();\n",
       "        }}\n",
       "}});\n",
       "\n",
       "// Listen for the removal of the full notebook cells\n",
       "var notebookContainer = gd.closest('#notebook-container');\n",
       "if (notebookContainer) {{\n",
       "    x.observe(notebookContainer, {childList: true});\n",
       "}}\n",
       "\n",
       "// Listen for the clearing of the current output cell\n",
       "var outputEl = gd.closest('.output');\n",
       "if (outputEl) {{\n",
       "    x.observe(outputEl, {childList: true});\n",
       "}}\n",
       "\n",
       "                        })\n",
       "                };\n",
       "                });\n",
       "            </script>\n",
       "        </div>"
      ]
     },
     "metadata": {},
     "output_type": "display_data"
    }
   ],
   "source": [
    "plotter.disable_data_points()\n",
    "plotter()"
   ]
  },
  {
   "cell_type": "code",
   "execution_count": 57,
   "metadata": {
    "slideshow": {
     "slide_type": "subslide"
    }
   },
   "outputs": [
    {
     "data": {
      "application/vnd.plotly.v1+json": {
       "config": {
        "plotlyServerURL": "https://plot.ly"
       },
       "data": [
        {
         "fill": "toself",
         "fillcolor": "rgba(255,65,54,0.5)",
         "hoverinfo": "none",
         "mode": "none",
         "showlegend": false,
         "type": "scatter",
         "visible": true,
         "x": [
          1.05,
          1.05,
          -0.05,
          -0.05,
          1.05
         ],
         "y": [
          0.9400000000000001,
          -0.05,
          -0.05,
          0.06,
          0.9400000000000001
         ]
        },
        {
         "fill": "toself",
         "fillcolor": "rgba(0,116,217,0.5)",
         "hoverinfo": "none",
         "mode": "none",
         "showlegend": false,
         "type": "scatter",
         "visible": true,
         "x": [
          -0.05,
          -0.05,
          1.05,
          1.05,
          -0.05
         ],
         "y": [
          0.06,
          1.05,
          1.05,
          0.9400000000000001,
          0.06
         ]
        },
        {
         "marker": {
          "color": "black"
         },
         "mode": "lines",
         "showlegend": false,
         "type": "scatter",
         "x": [],
         "y": []
        },
        {
         "marker": {
          "color": "rgba(128,128,128,1.0)",
          "line": {
           "width": 1
          },
          "size": 10
         },
         "mode": "markers",
         "name": "Unknown",
         "type": "scatter",
         "visible": true,
         "x": [
          0.8822602170789676
         ],
         "y": [
          0.8778521512859221
         ]
        },
        {
         "marker": {
          "color": "rgba(0,116,217,1.0)",
          "line": {
           "width": 1
          },
          "size": 10
         },
         "mode": "markers",
         "type": "scatter",
         "visible": true,
         "x": [],
         "y": []
        }
       ],
       "layout": {
        "height": 600,
        "template": {
         "data": {
          "bar": [
           {
            "error_x": {
             "color": "#2a3f5f"
            },
            "error_y": {
             "color": "#2a3f5f"
            },
            "marker": {
             "line": {
              "color": "#E5ECF6",
              "width": 0.5
             }
            },
            "type": "bar"
           }
          ],
          "barpolar": [
           {
            "marker": {
             "line": {
              "color": "#E5ECF6",
              "width": 0.5
             }
            },
            "type": "barpolar"
           }
          ],
          "carpet": [
           {
            "aaxis": {
             "endlinecolor": "#2a3f5f",
             "gridcolor": "white",
             "linecolor": "white",
             "minorgridcolor": "white",
             "startlinecolor": "#2a3f5f"
            },
            "baxis": {
             "endlinecolor": "#2a3f5f",
             "gridcolor": "white",
             "linecolor": "white",
             "minorgridcolor": "white",
             "startlinecolor": "#2a3f5f"
            },
            "type": "carpet"
           }
          ],
          "choropleth": [
           {
            "colorbar": {
             "outlinewidth": 0,
             "ticks": ""
            },
            "type": "choropleth"
           }
          ],
          "contour": [
           {
            "colorbar": {
             "outlinewidth": 0,
             "ticks": ""
            },
            "colorscale": [
             [
              0,
              "#0d0887"
             ],
             [
              0.1111111111111111,
              "#46039f"
             ],
             [
              0.2222222222222222,
              "#7201a8"
             ],
             [
              0.3333333333333333,
              "#9c179e"
             ],
             [
              0.4444444444444444,
              "#bd3786"
             ],
             [
              0.5555555555555556,
              "#d8576b"
             ],
             [
              0.6666666666666666,
              "#ed7953"
             ],
             [
              0.7777777777777778,
              "#fb9f3a"
             ],
             [
              0.8888888888888888,
              "#fdca26"
             ],
             [
              1,
              "#f0f921"
             ]
            ],
            "type": "contour"
           }
          ],
          "contourcarpet": [
           {
            "colorbar": {
             "outlinewidth": 0,
             "ticks": ""
            },
            "type": "contourcarpet"
           }
          ],
          "heatmap": [
           {
            "colorbar": {
             "outlinewidth": 0,
             "ticks": ""
            },
            "colorscale": [
             [
              0,
              "#0d0887"
             ],
             [
              0.1111111111111111,
              "#46039f"
             ],
             [
              0.2222222222222222,
              "#7201a8"
             ],
             [
              0.3333333333333333,
              "#9c179e"
             ],
             [
              0.4444444444444444,
              "#bd3786"
             ],
             [
              0.5555555555555556,
              "#d8576b"
             ],
             [
              0.6666666666666666,
              "#ed7953"
             ],
             [
              0.7777777777777778,
              "#fb9f3a"
             ],
             [
              0.8888888888888888,
              "#fdca26"
             ],
             [
              1,
              "#f0f921"
             ]
            ],
            "type": "heatmap"
           }
          ],
          "heatmapgl": [
           {
            "colorbar": {
             "outlinewidth": 0,
             "ticks": ""
            },
            "colorscale": [
             [
              0,
              "#0d0887"
             ],
             [
              0.1111111111111111,
              "#46039f"
             ],
             [
              0.2222222222222222,
              "#7201a8"
             ],
             [
              0.3333333333333333,
              "#9c179e"
             ],
             [
              0.4444444444444444,
              "#bd3786"
             ],
             [
              0.5555555555555556,
              "#d8576b"
             ],
             [
              0.6666666666666666,
              "#ed7953"
             ],
             [
              0.7777777777777778,
              "#fb9f3a"
             ],
             [
              0.8888888888888888,
              "#fdca26"
             ],
             [
              1,
              "#f0f921"
             ]
            ],
            "type": "heatmapgl"
           }
          ],
          "histogram": [
           {
            "marker": {
             "colorbar": {
              "outlinewidth": 0,
              "ticks": ""
             }
            },
            "type": "histogram"
           }
          ],
          "histogram2d": [
           {
            "colorbar": {
             "outlinewidth": 0,
             "ticks": ""
            },
            "colorscale": [
             [
              0,
              "#0d0887"
             ],
             [
              0.1111111111111111,
              "#46039f"
             ],
             [
              0.2222222222222222,
              "#7201a8"
             ],
             [
              0.3333333333333333,
              "#9c179e"
             ],
             [
              0.4444444444444444,
              "#bd3786"
             ],
             [
              0.5555555555555556,
              "#d8576b"
             ],
             [
              0.6666666666666666,
              "#ed7953"
             ],
             [
              0.7777777777777778,
              "#fb9f3a"
             ],
             [
              0.8888888888888888,
              "#fdca26"
             ],
             [
              1,
              "#f0f921"
             ]
            ],
            "type": "histogram2d"
           }
          ],
          "histogram2dcontour": [
           {
            "colorbar": {
             "outlinewidth": 0,
             "ticks": ""
            },
            "colorscale": [
             [
              0,
              "#0d0887"
             ],
             [
              0.1111111111111111,
              "#46039f"
             ],
             [
              0.2222222222222222,
              "#7201a8"
             ],
             [
              0.3333333333333333,
              "#9c179e"
             ],
             [
              0.4444444444444444,
              "#bd3786"
             ],
             [
              0.5555555555555556,
              "#d8576b"
             ],
             [
              0.6666666666666666,
              "#ed7953"
             ],
             [
              0.7777777777777778,
              "#fb9f3a"
             ],
             [
              0.8888888888888888,
              "#fdca26"
             ],
             [
              1,
              "#f0f921"
             ]
            ],
            "type": "histogram2dcontour"
           }
          ],
          "mesh3d": [
           {
            "colorbar": {
             "outlinewidth": 0,
             "ticks": ""
            },
            "type": "mesh3d"
           }
          ],
          "parcoords": [
           {
            "line": {
             "colorbar": {
              "outlinewidth": 0,
              "ticks": ""
             }
            },
            "type": "parcoords"
           }
          ],
          "scatter": [
           {
            "marker": {
             "colorbar": {
              "outlinewidth": 0,
              "ticks": ""
             }
            },
            "type": "scatter"
           }
          ],
          "scatter3d": [
           {
            "line": {
             "colorbar": {
              "outlinewidth": 0,
              "ticks": ""
             }
            },
            "marker": {
             "colorbar": {
              "outlinewidth": 0,
              "ticks": ""
             }
            },
            "type": "scatter3d"
           }
          ],
          "scattercarpet": [
           {
            "marker": {
             "colorbar": {
              "outlinewidth": 0,
              "ticks": ""
             }
            },
            "type": "scattercarpet"
           }
          ],
          "scattergeo": [
           {
            "marker": {
             "colorbar": {
              "outlinewidth": 0,
              "ticks": ""
             }
            },
            "type": "scattergeo"
           }
          ],
          "scattergl": [
           {
            "marker": {
             "colorbar": {
              "outlinewidth": 0,
              "ticks": ""
             }
            },
            "type": "scattergl"
           }
          ],
          "scattermapbox": [
           {
            "marker": {
             "colorbar": {
              "outlinewidth": 0,
              "ticks": ""
             }
            },
            "type": "scattermapbox"
           }
          ],
          "scatterpolar": [
           {
            "marker": {
             "colorbar": {
              "outlinewidth": 0,
              "ticks": ""
             }
            },
            "type": "scatterpolar"
           }
          ],
          "scatterpolargl": [
           {
            "marker": {
             "colorbar": {
              "outlinewidth": 0,
              "ticks": ""
             }
            },
            "type": "scatterpolargl"
           }
          ],
          "scatterternary": [
           {
            "marker": {
             "colorbar": {
              "outlinewidth": 0,
              "ticks": ""
             }
            },
            "type": "scatterternary"
           }
          ],
          "surface": [
           {
            "colorbar": {
             "outlinewidth": 0,
             "ticks": ""
            },
            "colorscale": [
             [
              0,
              "#0d0887"
             ],
             [
              0.1111111111111111,
              "#46039f"
             ],
             [
              0.2222222222222222,
              "#7201a8"
             ],
             [
              0.3333333333333333,
              "#9c179e"
             ],
             [
              0.4444444444444444,
              "#bd3786"
             ],
             [
              0.5555555555555556,
              "#d8576b"
             ],
             [
              0.6666666666666666,
              "#ed7953"
             ],
             [
              0.7777777777777778,
              "#fb9f3a"
             ],
             [
              0.8888888888888888,
              "#fdca26"
             ],
             [
              1,
              "#f0f921"
             ]
            ],
            "type": "surface"
           }
          ],
          "table": [
           {
            "cells": {
             "fill": {
              "color": "#EBF0F8"
             },
             "line": {
              "color": "white"
             }
            },
            "header": {
             "fill": {
              "color": "#C8D4E3"
             },
             "line": {
              "color": "white"
             }
            },
            "type": "table"
           }
          ]
         },
         "layout": {
          "annotationdefaults": {
           "arrowcolor": "#2a3f5f",
           "arrowhead": 0,
           "arrowwidth": 1
          },
          "colorscale": {
           "diverging": [
            [
             0,
             "#8e0152"
            ],
            [
             0.1,
             "#c51b7d"
            ],
            [
             0.2,
             "#de77ae"
            ],
            [
             0.3,
             "#f1b6da"
            ],
            [
             0.4,
             "#fde0ef"
            ],
            [
             0.5,
             "#f7f7f7"
            ],
            [
             0.6,
             "#e6f5d0"
            ],
            [
             0.7,
             "#b8e186"
            ],
            [
             0.8,
             "#7fbc41"
            ],
            [
             0.9,
             "#4d9221"
            ],
            [
             1,
             "#276419"
            ]
           ],
           "sequential": [
            [
             0,
             "#0d0887"
            ],
            [
             0.1111111111111111,
             "#46039f"
            ],
            [
             0.2222222222222222,
             "#7201a8"
            ],
            [
             0.3333333333333333,
             "#9c179e"
            ],
            [
             0.4444444444444444,
             "#bd3786"
            ],
            [
             0.5555555555555556,
             "#d8576b"
            ],
            [
             0.6666666666666666,
             "#ed7953"
            ],
            [
             0.7777777777777778,
             "#fb9f3a"
            ],
            [
             0.8888888888888888,
             "#fdca26"
            ],
            [
             1,
             "#f0f921"
            ]
           ],
           "sequentialminus": [
            [
             0,
             "#0d0887"
            ],
            [
             0.1111111111111111,
             "#46039f"
            ],
            [
             0.2222222222222222,
             "#7201a8"
            ],
            [
             0.3333333333333333,
             "#9c179e"
            ],
            [
             0.4444444444444444,
             "#bd3786"
            ],
            [
             0.5555555555555556,
             "#d8576b"
            ],
            [
             0.6666666666666666,
             "#ed7953"
            ],
            [
             0.7777777777777778,
             "#fb9f3a"
            ],
            [
             0.8888888888888888,
             "#fdca26"
            ],
            [
             1,
             "#f0f921"
            ]
           ]
          },
          "colorway": [
           "#636efa",
           "#EF553B",
           "#00cc96",
           "#ab63fa",
           "#FFA15A",
           "#19d3f3",
           "#FF6692",
           "#B6E880",
           "#FF97FF",
           "#FECB52"
          ],
          "font": {
           "color": "#2a3f5f"
          },
          "geo": {
           "bgcolor": "white",
           "lakecolor": "white",
           "landcolor": "#E5ECF6",
           "showlakes": true,
           "showland": true,
           "subunitcolor": "white"
          },
          "hoverlabel": {
           "align": "left"
          },
          "hovermode": "closest",
          "mapbox": {
           "style": "light"
          },
          "paper_bgcolor": "white",
          "plot_bgcolor": "#E5ECF6",
          "polar": {
           "angularaxis": {
            "gridcolor": "white",
            "linecolor": "white",
            "ticks": ""
           },
           "bgcolor": "#E5ECF6",
           "radialaxis": {
            "gridcolor": "white",
            "linecolor": "white",
            "ticks": ""
           }
          },
          "scene": {
           "xaxis": {
            "backgroundcolor": "#E5ECF6",
            "gridcolor": "white",
            "gridwidth": 2,
            "linecolor": "white",
            "showbackground": true,
            "ticks": "",
            "zerolinecolor": "white"
           },
           "yaxis": {
            "backgroundcolor": "#E5ECF6",
            "gridcolor": "white",
            "gridwidth": 2,
            "linecolor": "white",
            "showbackground": true,
            "ticks": "",
            "zerolinecolor": "white"
           },
           "zaxis": {
            "backgroundcolor": "#E5ECF6",
            "gridcolor": "white",
            "gridwidth": 2,
            "linecolor": "white",
            "showbackground": true,
            "ticks": "",
            "zerolinecolor": "white"
           }
          },
          "shapedefaults": {
           "line": {
            "color": "#2a3f5f"
           }
          },
          "ternary": {
           "aaxis": {
            "gridcolor": "white",
            "linecolor": "white",
            "ticks": ""
           },
           "baxis": {
            "gridcolor": "white",
            "linecolor": "white",
            "ticks": ""
           },
           "bgcolor": "#E5ECF6",
           "caxis": {
            "gridcolor": "white",
            "linecolor": "white",
            "ticks": ""
           }
          },
          "title": {
           "x": 0.05
          },
          "xaxis": {
           "automargin": true,
           "gridcolor": "white",
           "linecolor": "white",
           "ticks": "",
           "zerolinecolor": "white",
           "zerolinewidth": 2
          },
          "yaxis": {
           "automargin": true,
           "gridcolor": "white",
           "linecolor": "white",
           "ticks": "",
           "zerolinecolor": "white",
           "zerolinewidth": 2
          }
         }
        },
        "width": 800,
        "xaxis": {
         "autorange": true,
         "range": [
          -0.05,
          1.05
         ],
         "title": {
          "text": "width"
         },
         "type": "linear"
        },
        "yaxis": {
         "autorange": true,
         "range": [
          -0.11111111111111112,
          1.1111111111111112
         ],
         "title": {
          "text": "height"
         },
         "type": "linear"
        }
       }
      },
      "image/png": "[encoded data removed]",
      "text/html": [
       "<div>\n",
       "        \n",
       "        \n",
       "            <div id=\"cc71f3ad-c6da-44cb-88f1-d178bdacff05\" class=\"plotly-graph-div\" style=\"height:600px; width:800px;\"></div>\n",
       "            <script type=\"text/javascript\">\n",
       "                require([\"plotly\"], function(Plotly) {\n",
       "                    window.PLOTLYENV=window.PLOTLYENV || {};\n",
       "                    \n",
       "                if (document.getElementById(\"cc71f3ad-c6da-44cb-88f1-d178bdacff05\")) {\n",
       "                    Plotly.newPlot(\n",
       "                        'cc71f3ad-c6da-44cb-88f1-d178bdacff05',\n",
       "                        [{\"fill\": \"toself\", \"fillcolor\": \"rgba(255,65,54,0.5)\", \"hoverinfo\": \"none\", \"mode\": \"none\", \"showlegend\": false, \"type\": \"scatter\", \"visible\": true, \"x\": [1.05, 1.05, -0.05, -0.05, 1.05], \"y\": [0.9400000000000001, -0.05, -0.05, 0.06, 0.9400000000000001]}, {\"fill\": \"toself\", \"fillcolor\": \"rgba(0,116,217,0.5)\", \"hoverinfo\": \"none\", \"mode\": \"none\", \"showlegend\": false, \"type\": \"scatter\", \"visible\": true, \"x\": [-0.05, -0.05, 1.05, 1.05, -0.05], \"y\": [0.06, 1.05, 1.05, 0.9400000000000001, 0.06]}, {\"marker\": {\"color\": \"black\"}, \"mode\": \"lines\", \"showlegend\": false, \"type\": \"scatter\", \"x\": [], \"y\": []}, {\"marker\": {\"color\": \"rgba(128,128,128,1.0)\", \"line\": {\"width\": 1}, \"size\": 10}, \"mode\": \"markers\", \"name\": \"Unknown\", \"type\": \"scatter\", \"visible\": true, \"x\": [0.8822602170789676], \"y\": [0.8778521512859221]}, {\"marker\": {\"color\": \"rgba(0,116,217,1.0)\", \"line\": {\"width\": 1}, \"size\": 10}, \"mode\": \"markers\", \"type\": \"scatter\", \"visible\": true, \"x\": [], \"y\": []}],\n",
       "                        {\"height\": 600, \"template\": {\"data\": {\"bar\": [{\"error_x\": {\"color\": \"#2a3f5f\"}, \"error_y\": {\"color\": \"#2a3f5f\"}, \"marker\": {\"line\": {\"color\": \"#E5ECF6\", \"width\": 0.5}}, \"type\": \"bar\"}], \"barpolar\": [{\"marker\": {\"line\": {\"color\": \"#E5ECF6\", \"width\": 0.5}}, \"type\": \"barpolar\"}], \"carpet\": [{\"aaxis\": {\"endlinecolor\": \"#2a3f5f\", \"gridcolor\": \"white\", \"linecolor\": \"white\", \"minorgridcolor\": \"white\", \"startlinecolor\": \"#2a3f5f\"}, \"baxis\": {\"endlinecolor\": \"#2a3f5f\", \"gridcolor\": \"white\", \"linecolor\": \"white\", \"minorgridcolor\": \"white\", \"startlinecolor\": \"#2a3f5f\"}, \"type\": \"carpet\"}], \"choropleth\": [{\"colorbar\": {\"outlinewidth\": 0, \"ticks\": \"\"}, \"type\": \"choropleth\"}], \"contour\": [{\"colorbar\": {\"outlinewidth\": 0, \"ticks\": \"\"}, \"colorscale\": [[0.0, \"#0d0887\"], [0.1111111111111111, \"#46039f\"], [0.2222222222222222, \"#7201a8\"], [0.3333333333333333, \"#9c179e\"], [0.4444444444444444, \"#bd3786\"], [0.5555555555555556, \"#d8576b\"], [0.6666666666666666, \"#ed7953\"], [0.7777777777777778, \"#fb9f3a\"], [0.8888888888888888, \"#fdca26\"], [1.0, \"#f0f921\"]], \"type\": \"contour\"}], \"contourcarpet\": [{\"colorbar\": {\"outlinewidth\": 0, \"ticks\": \"\"}, \"type\": \"contourcarpet\"}], \"heatmap\": [{\"colorbar\": {\"outlinewidth\": 0, \"ticks\": \"\"}, \"colorscale\": [[0.0, \"#0d0887\"], [0.1111111111111111, \"#46039f\"], [0.2222222222222222, \"#7201a8\"], [0.3333333333333333, \"#9c179e\"], [0.4444444444444444, \"#bd3786\"], [0.5555555555555556, \"#d8576b\"], [0.6666666666666666, \"#ed7953\"], [0.7777777777777778, \"#fb9f3a\"], [0.8888888888888888, \"#fdca26\"], [1.0, \"#f0f921\"]], \"type\": \"heatmap\"}], \"heatmapgl\": [{\"colorbar\": {\"outlinewidth\": 0, \"ticks\": \"\"}, \"colorscale\": [[0.0, \"#0d0887\"], [0.1111111111111111, \"#46039f\"], [0.2222222222222222, \"#7201a8\"], [0.3333333333333333, \"#9c179e\"], [0.4444444444444444, \"#bd3786\"], [0.5555555555555556, \"#d8576b\"], [0.6666666666666666, \"#ed7953\"], [0.7777777777777778, \"#fb9f3a\"], [0.8888888888888888, \"#fdca26\"], [1.0, \"#f0f921\"]], \"type\": \"heatmapgl\"}], \"histogram\": [{\"marker\": {\"colorbar\": {\"outlinewidth\": 0, \"ticks\": \"\"}}, \"type\": \"histogram\"}], \"histogram2d\": [{\"colorbar\": {\"outlinewidth\": 0, \"ticks\": \"\"}, \"colorscale\": [[0.0, \"#0d0887\"], [0.1111111111111111, \"#46039f\"], [0.2222222222222222, \"#7201a8\"], [0.3333333333333333, \"#9c179e\"], [0.4444444444444444, \"#bd3786\"], [0.5555555555555556, \"#d8576b\"], [0.6666666666666666, \"#ed7953\"], [0.7777777777777778, \"#fb9f3a\"], [0.8888888888888888, \"#fdca26\"], [1.0, \"#f0f921\"]], \"type\": \"histogram2d\"}], \"histogram2dcontour\": [{\"colorbar\": {\"outlinewidth\": 0, \"ticks\": \"\"}, \"colorscale\": [[0.0, \"#0d0887\"], [0.1111111111111111, \"#46039f\"], [0.2222222222222222, \"#7201a8\"], [0.3333333333333333, \"#9c179e\"], [0.4444444444444444, \"#bd3786\"], [0.5555555555555556, \"#d8576b\"], [0.6666666666666666, \"#ed7953\"], [0.7777777777777778, \"#fb9f3a\"], [0.8888888888888888, \"#fdca26\"], [1.0, \"#f0f921\"]], \"type\": \"histogram2dcontour\"}], \"mesh3d\": [{\"colorbar\": {\"outlinewidth\": 0, \"ticks\": \"\"}, \"type\": \"mesh3d\"}], \"parcoords\": [{\"line\": {\"colorbar\": {\"outlinewidth\": 0, \"ticks\": \"\"}}, \"type\": \"parcoords\"}], \"scatter\": [{\"marker\": {\"colorbar\": {\"outlinewidth\": 0, \"ticks\": \"\"}}, \"type\": \"scatter\"}], \"scatter3d\": [{\"line\": {\"colorbar\": {\"outlinewidth\": 0, \"ticks\": \"\"}}, \"marker\": {\"colorbar\": {\"outlinewidth\": 0, \"ticks\": \"\"}}, \"type\": \"scatter3d\"}], \"scattercarpet\": [{\"marker\": {\"colorbar\": {\"outlinewidth\": 0, \"ticks\": \"\"}}, \"type\": \"scattercarpet\"}], \"scattergeo\": [{\"marker\": {\"colorbar\": {\"outlinewidth\": 0, \"ticks\": \"\"}}, \"type\": \"scattergeo\"}], \"scattergl\": [{\"marker\": {\"colorbar\": {\"outlinewidth\": 0, \"ticks\": \"\"}}, \"type\": \"scattergl\"}], \"scattermapbox\": [{\"marker\": {\"colorbar\": {\"outlinewidth\": 0, \"ticks\": \"\"}}, \"type\": \"scattermapbox\"}], \"scatterpolar\": [{\"marker\": {\"colorbar\": {\"outlinewidth\": 0, \"ticks\": \"\"}}, \"type\": \"scatterpolar\"}], \"scatterpolargl\": [{\"marker\": {\"colorbar\": {\"outlinewidth\": 0, \"ticks\": \"\"}}, \"type\": \"scatterpolargl\"}], \"scatterternary\": [{\"marker\": {\"colorbar\": {\"outlinewidth\": 0, \"ticks\": \"\"}}, \"type\": \"scatterternary\"}], \"surface\": [{\"colorbar\": {\"outlinewidth\": 0, \"ticks\": \"\"}, \"colorscale\": [[0.0, \"#0d0887\"], [0.1111111111111111, \"#46039f\"], [0.2222222222222222, \"#7201a8\"], [0.3333333333333333, \"#9c179e\"], [0.4444444444444444, \"#bd3786\"], [0.5555555555555556, \"#d8576b\"], [0.6666666666666666, \"#ed7953\"], [0.7777777777777778, \"#fb9f3a\"], [0.8888888888888888, \"#fdca26\"], [1.0, \"#f0f921\"]], \"type\": \"surface\"}], \"table\": [{\"cells\": {\"fill\": {\"color\": \"#EBF0F8\"}, \"line\": {\"color\": \"white\"}}, \"header\": {\"fill\": {\"color\": \"#C8D4E3\"}, \"line\": {\"color\": \"white\"}}, \"type\": \"table\"}]}, \"layout\": {\"annotationdefaults\": {\"arrowcolor\": \"#2a3f5f\", \"arrowhead\": 0, \"arrowwidth\": 1}, \"colorscale\": {\"diverging\": [[0, \"#8e0152\"], [0.1, \"#c51b7d\"], [0.2, \"#de77ae\"], [0.3, \"#f1b6da\"], [0.4, \"#fde0ef\"], [0.5, \"#f7f7f7\"], [0.6, \"#e6f5d0\"], [0.7, \"#b8e186\"], [0.8, \"#7fbc41\"], [0.9, \"#4d9221\"], [1, \"#276419\"]], \"sequential\": [[0.0, \"#0d0887\"], [0.1111111111111111, \"#46039f\"], [0.2222222222222222, \"#7201a8\"], [0.3333333333333333, \"#9c179e\"], [0.4444444444444444, \"#bd3786\"], [0.5555555555555556, \"#d8576b\"], [0.6666666666666666, \"#ed7953\"], [0.7777777777777778, \"#fb9f3a\"], [0.8888888888888888, \"#fdca26\"], [1.0, \"#f0f921\"]], \"sequentialminus\": [[0.0, \"#0d0887\"], [0.1111111111111111, \"#46039f\"], [0.2222222222222222, \"#7201a8\"], [0.3333333333333333, \"#9c179e\"], [0.4444444444444444, \"#bd3786\"], [0.5555555555555556, \"#d8576b\"], [0.6666666666666666, \"#ed7953\"], [0.7777777777777778, \"#fb9f3a\"], [0.8888888888888888, \"#fdca26\"], [1.0, \"#f0f921\"]]}, \"colorway\": [\"#636efa\", \"#EF553B\", \"#00cc96\", \"#ab63fa\", \"#FFA15A\", \"#19d3f3\", \"#FF6692\", \"#B6E880\", \"#FF97FF\", \"#FECB52\"], \"font\": {\"color\": \"#2a3f5f\"}, \"geo\": {\"bgcolor\": \"white\", \"lakecolor\": \"white\", \"landcolor\": \"#E5ECF6\", \"showlakes\": true, \"showland\": true, \"subunitcolor\": \"white\"}, \"hoverlabel\": {\"align\": \"left\"}, \"hovermode\": \"closest\", \"mapbox\": {\"style\": \"light\"}, \"paper_bgcolor\": \"white\", \"plot_bgcolor\": \"#E5ECF6\", \"polar\": {\"angularaxis\": {\"gridcolor\": \"white\", \"linecolor\": \"white\", \"ticks\": \"\"}, \"bgcolor\": \"#E5ECF6\", \"radialaxis\": {\"gridcolor\": \"white\", \"linecolor\": \"white\", \"ticks\": \"\"}}, \"scene\": {\"xaxis\": {\"backgroundcolor\": \"#E5ECF6\", \"gridcolor\": \"white\", \"gridwidth\": 2, \"linecolor\": \"white\", \"showbackground\": true, \"ticks\": \"\", \"zerolinecolor\": \"white\"}, \"yaxis\": {\"backgroundcolor\": \"#E5ECF6\", \"gridcolor\": \"white\", \"gridwidth\": 2, \"linecolor\": \"white\", \"showbackground\": true, \"ticks\": \"\", \"zerolinecolor\": \"white\"}, \"zaxis\": {\"backgroundcolor\": \"#E5ECF6\", \"gridcolor\": \"white\", \"gridwidth\": 2, \"linecolor\": \"white\", \"showbackground\": true, \"ticks\": \"\", \"zerolinecolor\": \"white\"}}, \"shapedefaults\": {\"line\": {\"color\": \"#2a3f5f\"}}, \"ternary\": {\"aaxis\": {\"gridcolor\": \"white\", \"linecolor\": \"white\", \"ticks\": \"\"}, \"baxis\": {\"gridcolor\": \"white\", \"linecolor\": \"white\", \"ticks\": \"\"}, \"bgcolor\": \"#E5ECF6\", \"caxis\": {\"gridcolor\": \"white\", \"linecolor\": \"white\", \"ticks\": \"\"}}, \"title\": {\"x\": 0.05}, \"xaxis\": {\"automargin\": true, \"gridcolor\": \"white\", \"linecolor\": \"white\", \"ticks\": \"\", \"zerolinecolor\": \"white\", \"zerolinewidth\": 2}, \"yaxis\": {\"automargin\": true, \"gridcolor\": \"white\", \"linecolor\": \"white\", \"ticks\": \"\", \"zerolinecolor\": \"white\", \"zerolinewidth\": 2}}}, \"width\": 800, \"xaxis\": {\"title\": {\"text\": \"width\"}}, \"yaxis\": {\"title\": {\"text\": \"height\"}}},\n",
       "                        {\"responsive\": true}\n",
       "                    ).then(function(){\n",
       "                            \n",
       "var gd = document.getElementById('cc71f3ad-c6da-44cb-88f1-d178bdacff05');\n",
       "var x = new MutationObserver(function (mutations, observer) {{\n",
       "        var display = window.getComputedStyle(gd).display;\n",
       "        if (!display || display === 'none') {{\n",
       "            console.log([gd, 'removed!']);\n",
       "            Plotly.purge(gd);\n",
       "            observer.disconnect();\n",
       "        }}\n",
       "}});\n",
       "\n",
       "// Listen for the removal of the full notebook cells\n",
       "var notebookContainer = gd.closest('#notebook-container');\n",
       "if (notebookContainer) {{\n",
       "    x.observe(notebookContainer, {childList: true});\n",
       "}}\n",
       "\n",
       "// Listen for the clearing of the current output cell\n",
       "var outputEl = gd.closest('.output');\n",
       "if (outputEl) {{\n",
       "    x.observe(outputEl, {childList: true});\n",
       "}}\n",
       "\n",
       "                        })\n",
       "                };\n",
       "                });\n",
       "            </script>\n",
       "        </div>"
      ]
     },
     "metadata": {},
     "output_type": "display_data"
    }
   ],
   "source": [
    "new_data = draw_uniform_data(1, (0,1), (0,1))\n",
    "plotter.update_data_plots(new_data)\n",
    "plotter.enable_data_points()\n",
    "plotter()"
   ]
  },
  {
   "cell_type": "code",
   "execution_count": 58,
   "metadata": {
    "slideshow": {
     "slide_type": "skip"
    }
   },
   "outputs": [],
   "source": [
    "def predict_using_linear_model(lin_model, data, class_names):\n",
    "    label_ids = (lin_model(data[:,0]) > data[:,1]).astype(int)\n",
    "    return np.asarray(class_names)[label_ids]"
   ]
  },
  {
   "cell_type": "code",
   "execution_count": 59,
   "metadata": {
    "slideshow": {
     "slide_type": "subslide"
    }
   },
   "outputs": [
    {
     "data": {
      "application/vnd.plotly.v1+json": {
       "config": {
        "plotlyServerURL": "https://plot.ly"
       },
       "data": [
        {
         "fill": "toself",
         "fillcolor": "rgba(255,65,54,0.5)",
         "hoverinfo": "none",
         "mode": "none",
         "showlegend": false,
         "type": "scatter",
         "visible": true,
         "x": [
          1.05,
          1.05,
          -0.05,
          -0.05,
          1.05
         ],
         "y": [
          0.9400000000000001,
          -0.05,
          -0.05,
          0.06,
          0.9400000000000001
         ]
        },
        {
         "fill": "toself",
         "fillcolor": "rgba(0,116,217,0.5)",
         "hoverinfo": "none",
         "mode": "none",
         "showlegend": false,
         "type": "scatter",
         "visible": true,
         "x": [
          -0.05,
          -0.05,
          1.05,
          1.05,
          -0.05
         ],
         "y": [
          0.06,
          1.05,
          1.05,
          0.9400000000000001,
          0.06
         ]
        },
        {
         "marker": {
          "color": "black"
         },
         "mode": "lines",
         "showlegend": false,
         "type": "scatter",
         "x": [],
         "y": []
        },
        {
         "marker": {
          "color": "rgba(255,65,54,1.0)",
          "line": {
           "width": 1
          },
          "size": 10
         },
         "mode": "markers",
         "name": "Wide rectangle",
         "type": "scatter",
         "visible": true,
         "x": [],
         "y": []
        },
        {
         "marker": {
          "color": "rgba(0,116,217,1.0)",
          "line": {
           "width": 1
          },
          "size": 10
         },
         "mode": "markers",
         "name": "Tall rectangle",
         "type": "scatter",
         "visible": true,
         "x": [
          0.8822602170789676
         ],
         "y": [
          0.8778521512859221
         ]
        }
       ],
       "layout": {
        "height": 600,
        "template": {
         "data": {
          "bar": [
           {
            "error_x": {
             "color": "#2a3f5f"
            },
            "error_y": {
             "color": "#2a3f5f"
            },
            "marker": {
             "line": {
              "color": "#E5ECF6",
              "width": 0.5
             }
            },
            "type": "bar"
           }
          ],
          "barpolar": [
           {
            "marker": {
             "line": {
              "color": "#E5ECF6",
              "width": 0.5
             }
            },
            "type": "barpolar"
           }
          ],
          "carpet": [
           {
            "aaxis": {
             "endlinecolor": "#2a3f5f",
             "gridcolor": "white",
             "linecolor": "white",
             "minorgridcolor": "white",
             "startlinecolor": "#2a3f5f"
            },
            "baxis": {
             "endlinecolor": "#2a3f5f",
             "gridcolor": "white",
             "linecolor": "white",
             "minorgridcolor": "white",
             "startlinecolor": "#2a3f5f"
            },
            "type": "carpet"
           }
          ],
          "choropleth": [
           {
            "colorbar": {
             "outlinewidth": 0,
             "ticks": ""
            },
            "type": "choropleth"
           }
          ],
          "contour": [
           {
            "colorbar": {
             "outlinewidth": 0,
             "ticks": ""
            },
            "colorscale": [
             [
              0,
              "#0d0887"
             ],
             [
              0.1111111111111111,
              "#46039f"
             ],
             [
              0.2222222222222222,
              "#7201a8"
             ],
             [
              0.3333333333333333,
              "#9c179e"
             ],
             [
              0.4444444444444444,
              "#bd3786"
             ],
             [
              0.5555555555555556,
              "#d8576b"
             ],
             [
              0.6666666666666666,
              "#ed7953"
             ],
             [
              0.7777777777777778,
              "#fb9f3a"
             ],
             [
              0.8888888888888888,
              "#fdca26"
             ],
             [
              1,
              "#f0f921"
             ]
            ],
            "type": "contour"
           }
          ],
          "contourcarpet": [
           {
            "colorbar": {
             "outlinewidth": 0,
             "ticks": ""
            },
            "type": "contourcarpet"
           }
          ],
          "heatmap": [
           {
            "colorbar": {
             "outlinewidth": 0,
             "ticks": ""
            },
            "colorscale": [
             [
              0,
              "#0d0887"
             ],
             [
              0.1111111111111111,
              "#46039f"
             ],
             [
              0.2222222222222222,
              "#7201a8"
             ],
             [
              0.3333333333333333,
              "#9c179e"
             ],
             [
              0.4444444444444444,
              "#bd3786"
             ],
             [
              0.5555555555555556,
              "#d8576b"
             ],
             [
              0.6666666666666666,
              "#ed7953"
             ],
             [
              0.7777777777777778,
              "#fb9f3a"
             ],
             [
              0.8888888888888888,
              "#fdca26"
             ],
             [
              1,
              "#f0f921"
             ]
            ],
            "type": "heatmap"
           }
          ],
          "heatmapgl": [
           {
            "colorbar": {
             "outlinewidth": 0,
             "ticks": ""
            },
            "colorscale": [
             [
              0,
              "#0d0887"
             ],
             [
              0.1111111111111111,
              "#46039f"
             ],
             [
              0.2222222222222222,
              "#7201a8"
             ],
             [
              0.3333333333333333,
              "#9c179e"
             ],
             [
              0.4444444444444444,
              "#bd3786"
             ],
             [
              0.5555555555555556,
              "#d8576b"
             ],
             [
              0.6666666666666666,
              "#ed7953"
             ],
             [
              0.7777777777777778,
              "#fb9f3a"
             ],
             [
              0.8888888888888888,
              "#fdca26"
             ],
             [
              1,
              "#f0f921"
             ]
            ],
            "type": "heatmapgl"
           }
          ],
          "histogram": [
           {
            "marker": {
             "colorbar": {
              "outlinewidth": 0,
              "ticks": ""
             }
            },
            "type": "histogram"
           }
          ],
          "histogram2d": [
           {
            "colorbar": {
             "outlinewidth": 0,
             "ticks": ""
            },
            "colorscale": [
             [
              0,
              "#0d0887"
             ],
             [
              0.1111111111111111,
              "#46039f"
             ],
             [
              0.2222222222222222,
              "#7201a8"
             ],
             [
              0.3333333333333333,
              "#9c179e"
             ],
             [
              0.4444444444444444,
              "#bd3786"
             ],
             [
              0.5555555555555556,
              "#d8576b"
             ],
             [
              0.6666666666666666,
              "#ed7953"
             ],
             [
              0.7777777777777778,
              "#fb9f3a"
             ],
             [
              0.8888888888888888,
              "#fdca26"
             ],
             [
              1,
              "#f0f921"
             ]
            ],
            "type": "histogram2d"
           }
          ],
          "histogram2dcontour": [
           {
            "colorbar": {
             "outlinewidth": 0,
             "ticks": ""
            },
            "colorscale": [
             [
              0,
              "#0d0887"
             ],
             [
              0.1111111111111111,
              "#46039f"
             ],
             [
              0.2222222222222222,
              "#7201a8"
             ],
             [
              0.3333333333333333,
              "#9c179e"
             ],
             [
              0.4444444444444444,
              "#bd3786"
             ],
             [
              0.5555555555555556,
              "#d8576b"
             ],
             [
              0.6666666666666666,
              "#ed7953"
             ],
             [
              0.7777777777777778,
              "#fb9f3a"
             ],
             [
              0.8888888888888888,
              "#fdca26"
             ],
             [
              1,
              "#f0f921"
             ]
            ],
            "type": "histogram2dcontour"
           }
          ],
          "mesh3d": [
           {
            "colorbar": {
             "outlinewidth": 0,
             "ticks": ""
            },
            "type": "mesh3d"
           }
          ],
          "parcoords": [
           {
            "line": {
             "colorbar": {
              "outlinewidth": 0,
              "ticks": ""
             }
            },
            "type": "parcoords"
           }
          ],
          "scatter": [
           {
            "marker": {
             "colorbar": {
              "outlinewidth": 0,
              "ticks": ""
             }
            },
            "type": "scatter"
           }
          ],
          "scatter3d": [
           {
            "line": {
             "colorbar": {
              "outlinewidth": 0,
              "ticks": ""
             }
            },
            "marker": {
             "colorbar": {
              "outlinewidth": 0,
              "ticks": ""
             }
            },
            "type": "scatter3d"
           }
          ],
          "scattercarpet": [
           {
            "marker": {
             "colorbar": {
              "outlinewidth": 0,
              "ticks": ""
             }
            },
            "type": "scattercarpet"
           }
          ],
          "scattergeo": [
           {
            "marker": {
             "colorbar": {
              "outlinewidth": 0,
              "ticks": ""
             }
            },
            "type": "scattergeo"
           }
          ],
          "scattergl": [
           {
            "marker": {
             "colorbar": {
              "outlinewidth": 0,
              "ticks": ""
             }
            },
            "type": "scattergl"
           }
          ],
          "scattermapbox": [
           {
            "marker": {
             "colorbar": {
              "outlinewidth": 0,
              "ticks": ""
             }
            },
            "type": "scattermapbox"
           }
          ],
          "scatterpolar": [
           {
            "marker": {
             "colorbar": {
              "outlinewidth": 0,
              "ticks": ""
             }
            },
            "type": "scatterpolar"
           }
          ],
          "scatterpolargl": [
           {
            "marker": {
             "colorbar": {
              "outlinewidth": 0,
              "ticks": ""
             }
            },
            "type": "scatterpolargl"
           }
          ],
          "scatterternary": [
           {
            "marker": {
             "colorbar": {
              "outlinewidth": 0,
              "ticks": ""
             }
            },
            "type": "scatterternary"
           }
          ],
          "surface": [
           {
            "colorbar": {
             "outlinewidth": 0,
             "ticks": ""
            },
            "colorscale": [
             [
              0,
              "#0d0887"
             ],
             [
              0.1111111111111111,
              "#46039f"
             ],
             [
              0.2222222222222222,
              "#7201a8"
             ],
             [
              0.3333333333333333,
              "#9c179e"
             ],
             [
              0.4444444444444444,
              "#bd3786"
             ],
             [
              0.5555555555555556,
              "#d8576b"
             ],
             [
              0.6666666666666666,
              "#ed7953"
             ],
             [
              0.7777777777777778,
              "#fb9f3a"
             ],
             [
              0.8888888888888888,
              "#fdca26"
             ],
             [
              1,
              "#f0f921"
             ]
            ],
            "type": "surface"
           }
          ],
          "table": [
           {
            "cells": {
             "fill": {
              "color": "#EBF0F8"
             },
             "line": {
              "color": "white"
             }
            },
            "header": {
             "fill": {
              "color": "#C8D4E3"
             },
             "line": {
              "color": "white"
             }
            },
            "type": "table"
           }
          ]
         },
         "layout": {
          "annotationdefaults": {
           "arrowcolor": "#2a3f5f",
           "arrowhead": 0,
           "arrowwidth": 1
          },
          "colorscale": {
           "diverging": [
            [
             0,
             "#8e0152"
            ],
            [
             0.1,
             "#c51b7d"
            ],
            [
             0.2,
             "#de77ae"
            ],
            [
             0.3,
             "#f1b6da"
            ],
            [
             0.4,
             "#fde0ef"
            ],
            [
             0.5,
             "#f7f7f7"
            ],
            [
             0.6,
             "#e6f5d0"
            ],
            [
             0.7,
             "#b8e186"
            ],
            [
             0.8,
             "#7fbc41"
            ],
            [
             0.9,
             "#4d9221"
            ],
            [
             1,
             "#276419"
            ]
           ],
           "sequential": [
            [
             0,
             "#0d0887"
            ],
            [
             0.1111111111111111,
             "#46039f"
            ],
            [
             0.2222222222222222,
             "#7201a8"
            ],
            [
             0.3333333333333333,
             "#9c179e"
            ],
            [
             0.4444444444444444,
             "#bd3786"
            ],
            [
             0.5555555555555556,
             "#d8576b"
            ],
            [
             0.6666666666666666,
             "#ed7953"
            ],
            [
             0.7777777777777778,
             "#fb9f3a"
            ],
            [
             0.8888888888888888,
             "#fdca26"
            ],
            [
             1,
             "#f0f921"
            ]
           ],
           "sequentialminus": [
            [
             0,
             "#0d0887"
            ],
            [
             0.1111111111111111,
             "#46039f"
            ],
            [
             0.2222222222222222,
             "#7201a8"
            ],
            [
             0.3333333333333333,
             "#9c179e"
            ],
            [
             0.4444444444444444,
             "#bd3786"
            ],
            [
             0.5555555555555556,
             "#d8576b"
            ],
            [
             0.6666666666666666,
             "#ed7953"
            ],
            [
             0.7777777777777778,
             "#fb9f3a"
            ],
            [
             0.8888888888888888,
             "#fdca26"
            ],
            [
             1,
             "#f0f921"
            ]
           ]
          },
          "colorway": [
           "#636efa",
           "#EF553B",
           "#00cc96",
           "#ab63fa",
           "#FFA15A",
           "#19d3f3",
           "#FF6692",
           "#B6E880",
           "#FF97FF",
           "#FECB52"
          ],
          "font": {
           "color": "#2a3f5f"
          },
          "geo": {
           "bgcolor": "white",
           "lakecolor": "white",
           "landcolor": "#E5ECF6",
           "showlakes": true,
           "showland": true,
           "subunitcolor": "white"
          },
          "hoverlabel": {
           "align": "left"
          },
          "hovermode": "closest",
          "mapbox": {
           "style": "light"
          },
          "paper_bgcolor": "white",
          "plot_bgcolor": "#E5ECF6",
          "polar": {
           "angularaxis": {
            "gridcolor": "white",
            "linecolor": "white",
            "ticks": ""
           },
           "bgcolor": "#E5ECF6",
           "radialaxis": {
            "gridcolor": "white",
            "linecolor": "white",
            "ticks": ""
           }
          },
          "scene": {
           "xaxis": {
            "backgroundcolor": "#E5ECF6",
            "gridcolor": "white",
            "gridwidth": 2,
            "linecolor": "white",
            "showbackground": true,
            "ticks": "",
            "zerolinecolor": "white"
           },
           "yaxis": {
            "backgroundcolor": "#E5ECF6",
            "gridcolor": "white",
            "gridwidth": 2,
            "linecolor": "white",
            "showbackground": true,
            "ticks": "",
            "zerolinecolor": "white"
           },
           "zaxis": {
            "backgroundcolor": "#E5ECF6",
            "gridcolor": "white",
            "gridwidth": 2,
            "linecolor": "white",
            "showbackground": true,
            "ticks": "",
            "zerolinecolor": "white"
           }
          },
          "shapedefaults": {
           "line": {
            "color": "#2a3f5f"
           }
          },
          "ternary": {
           "aaxis": {
            "gridcolor": "white",
            "linecolor": "white",
            "ticks": ""
           },
           "baxis": {
            "gridcolor": "white",
            "linecolor": "white",
            "ticks": ""
           },
           "bgcolor": "#E5ECF6",
           "caxis": {
            "gridcolor": "white",
            "linecolor": "white",
            "ticks": ""
           }
          },
          "title": {
           "x": 0.05
          },
          "xaxis": {
           "automargin": true,
           "gridcolor": "white",
           "linecolor": "white",
           "ticks": "",
           "zerolinecolor": "white",
           "zerolinewidth": 2
          },
          "yaxis": {
           "automargin": true,
           "gridcolor": "white",
           "linecolor": "white",
           "ticks": "",
           "zerolinecolor": "white",
           "zerolinewidth": 2
          }
         }
        },
        "width": 800,
        "xaxis": {
         "autorange": true,
         "range": [
          -0.05,
          1.05
         ],
         "title": {
          "text": "width"
         },
         "type": "linear"
        },
        "yaxis": {
         "autorange": true,
         "range": [
          -0.11111111111111112,
          1.1111111111111112
         ],
         "title": {
          "text": "height"
         },
         "type": "linear"
        }
       }
      },
      "image/png": "[encoded data removed]",
      "text/html": [
       "<div>\n",
       "        \n",
       "        \n",
       "            <div id=\"2785a082-48b1-4350-a9b1-74399682d2cb\" class=\"plotly-graph-div\" style=\"height:600px; width:800px;\"></div>\n",
       "            <script type=\"text/javascript\">\n",
       "                require([\"plotly\"], function(Plotly) {\n",
       "                    window.PLOTLYENV=window.PLOTLYENV || {};\n",
       "                    \n",
       "                if (document.getElementById(\"2785a082-48b1-4350-a9b1-74399682d2cb\")) {\n",
       "                    Plotly.newPlot(\n",
       "                        '2785a082-48b1-4350-a9b1-74399682d2cb',\n",
       "                        [{\"fill\": \"toself\", \"fillcolor\": \"rgba(255,65,54,0.5)\", \"hoverinfo\": \"none\", \"mode\": \"none\", \"showlegend\": false, \"type\": \"scatter\", \"visible\": true, \"x\": [1.05, 1.05, -0.05, -0.05, 1.05], \"y\": [0.9400000000000001, -0.05, -0.05, 0.06, 0.9400000000000001]}, {\"fill\": \"toself\", \"fillcolor\": \"rgba(0,116,217,0.5)\", \"hoverinfo\": \"none\", \"mode\": \"none\", \"showlegend\": false, \"type\": \"scatter\", \"visible\": true, \"x\": [-0.05, -0.05, 1.05, 1.05, -0.05], \"y\": [0.06, 1.05, 1.05, 0.9400000000000001, 0.06]}, {\"marker\": {\"color\": \"black\"}, \"mode\": \"lines\", \"showlegend\": false, \"type\": \"scatter\", \"x\": [], \"y\": []}, {\"marker\": {\"color\": \"rgba(255,65,54,1.0)\", \"line\": {\"width\": 1}, \"size\": 10}, \"mode\": \"markers\", \"name\": \"Wide rectangle\", \"type\": \"scatter\", \"visible\": true, \"x\": [], \"y\": []}, {\"marker\": {\"color\": \"rgba(0,116,217,1.0)\", \"line\": {\"width\": 1}, \"size\": 10}, \"mode\": \"markers\", \"name\": \"Tall rectangle\", \"type\": \"scatter\", \"visible\": true, \"x\": [0.8822602170789676], \"y\": [0.8778521512859221]}],\n",
       "                        {\"height\": 600, \"template\": {\"data\": {\"bar\": [{\"error_x\": {\"color\": \"#2a3f5f\"}, \"error_y\": {\"color\": \"#2a3f5f\"}, \"marker\": {\"line\": {\"color\": \"#E5ECF6\", \"width\": 0.5}}, \"type\": \"bar\"}], \"barpolar\": [{\"marker\": {\"line\": {\"color\": \"#E5ECF6\", \"width\": 0.5}}, \"type\": \"barpolar\"}], \"carpet\": [{\"aaxis\": {\"endlinecolor\": \"#2a3f5f\", \"gridcolor\": \"white\", \"linecolor\": \"white\", \"minorgridcolor\": \"white\", \"startlinecolor\": \"#2a3f5f\"}, \"baxis\": {\"endlinecolor\": \"#2a3f5f\", \"gridcolor\": \"white\", \"linecolor\": \"white\", \"minorgridcolor\": \"white\", \"startlinecolor\": \"#2a3f5f\"}, \"type\": \"carpet\"}], \"choropleth\": [{\"colorbar\": {\"outlinewidth\": 0, \"ticks\": \"\"}, \"type\": \"choropleth\"}], \"contour\": [{\"colorbar\": {\"outlinewidth\": 0, \"ticks\": \"\"}, \"colorscale\": [[0.0, \"#0d0887\"], [0.1111111111111111, \"#46039f\"], [0.2222222222222222, \"#7201a8\"], [0.3333333333333333, \"#9c179e\"], [0.4444444444444444, \"#bd3786\"], [0.5555555555555556, \"#d8576b\"], [0.6666666666666666, \"#ed7953\"], [0.7777777777777778, \"#fb9f3a\"], [0.8888888888888888, \"#fdca26\"], [1.0, \"#f0f921\"]], \"type\": \"contour\"}], \"contourcarpet\": [{\"colorbar\": {\"outlinewidth\": 0, \"ticks\": \"\"}, \"type\": \"contourcarpet\"}], \"heatmap\": [{\"colorbar\": {\"outlinewidth\": 0, \"ticks\": \"\"}, \"colorscale\": [[0.0, \"#0d0887\"], [0.1111111111111111, \"#46039f\"], [0.2222222222222222, \"#7201a8\"], [0.3333333333333333, \"#9c179e\"], [0.4444444444444444, \"#bd3786\"], [0.5555555555555556, \"#d8576b\"], [0.6666666666666666, \"#ed7953\"], [0.7777777777777778, \"#fb9f3a\"], [0.8888888888888888, \"#fdca26\"], [1.0, \"#f0f921\"]], \"type\": \"heatmap\"}], \"heatmapgl\": [{\"colorbar\": {\"outlinewidth\": 0, \"ticks\": \"\"}, \"colorscale\": [[0.0, \"#0d0887\"], [0.1111111111111111, \"#46039f\"], [0.2222222222222222, \"#7201a8\"], [0.3333333333333333, \"#9c179e\"], [0.4444444444444444, \"#bd3786\"], [0.5555555555555556, \"#d8576b\"], [0.6666666666666666, \"#ed7953\"], [0.7777777777777778, \"#fb9f3a\"], [0.8888888888888888, \"#fdca26\"], [1.0, \"#f0f921\"]], \"type\": \"heatmapgl\"}], \"histogram\": [{\"marker\": {\"colorbar\": {\"outlinewidth\": 0, \"ticks\": \"\"}}, \"type\": \"histogram\"}], \"histogram2d\": [{\"colorbar\": {\"outlinewidth\": 0, \"ticks\": \"\"}, \"colorscale\": [[0.0, \"#0d0887\"], [0.1111111111111111, \"#46039f\"], [0.2222222222222222, \"#7201a8\"], [0.3333333333333333, \"#9c179e\"], [0.4444444444444444, \"#bd3786\"], [0.5555555555555556, \"#d8576b\"], [0.6666666666666666, \"#ed7953\"], [0.7777777777777778, \"#fb9f3a\"], [0.8888888888888888, \"#fdca26\"], [1.0, \"#f0f921\"]], \"type\": \"histogram2d\"}], \"histogram2dcontour\": [{\"colorbar\": {\"outlinewidth\": 0, \"ticks\": \"\"}, \"colorscale\": [[0.0, \"#0d0887\"], [0.1111111111111111, \"#46039f\"], [0.2222222222222222, \"#7201a8\"], [0.3333333333333333, \"#9c179e\"], [0.4444444444444444, \"#bd3786\"], [0.5555555555555556, \"#d8576b\"], [0.6666666666666666, \"#ed7953\"], [0.7777777777777778, \"#fb9f3a\"], [0.8888888888888888, \"#fdca26\"], [1.0, \"#f0f921\"]], \"type\": \"histogram2dcontour\"}], \"mesh3d\": [{\"colorbar\": {\"outlinewidth\": 0, \"ticks\": \"\"}, \"type\": \"mesh3d\"}], \"parcoords\": [{\"line\": {\"colorbar\": {\"outlinewidth\": 0, \"ticks\": \"\"}}, \"type\": \"parcoords\"}], \"scatter\": [{\"marker\": {\"colorbar\": {\"outlinewidth\": 0, \"ticks\": \"\"}}, \"type\": \"scatter\"}], \"scatter3d\": [{\"line\": {\"colorbar\": {\"outlinewidth\": 0, \"ticks\": \"\"}}, \"marker\": {\"colorbar\": {\"outlinewidth\": 0, \"ticks\": \"\"}}, \"type\": \"scatter3d\"}], \"scattercarpet\": [{\"marker\": {\"colorbar\": {\"outlinewidth\": 0, \"ticks\": \"\"}}, \"type\": \"scattercarpet\"}], \"scattergeo\": [{\"marker\": {\"colorbar\": {\"outlinewidth\": 0, \"ticks\": \"\"}}, \"type\": \"scattergeo\"}], \"scattergl\": [{\"marker\": {\"colorbar\": {\"outlinewidth\": 0, \"ticks\": \"\"}}, \"type\": \"scattergl\"}], \"scattermapbox\": [{\"marker\": {\"colorbar\": {\"outlinewidth\": 0, \"ticks\": \"\"}}, \"type\": \"scattermapbox\"}], \"scatterpolar\": [{\"marker\": {\"colorbar\": {\"outlinewidth\": 0, \"ticks\": \"\"}}, \"type\": \"scatterpolar\"}], \"scatterpolargl\": [{\"marker\": {\"colorbar\": {\"outlinewidth\": 0, \"ticks\": \"\"}}, \"type\": \"scatterpolargl\"}], \"scatterternary\": [{\"marker\": {\"colorbar\": {\"outlinewidth\": 0, \"ticks\": \"\"}}, \"type\": \"scatterternary\"}], \"surface\": [{\"colorbar\": {\"outlinewidth\": 0, \"ticks\": \"\"}, \"colorscale\": [[0.0, \"#0d0887\"], [0.1111111111111111, \"#46039f\"], [0.2222222222222222, \"#7201a8\"], [0.3333333333333333, \"#9c179e\"], [0.4444444444444444, \"#bd3786\"], [0.5555555555555556, \"#d8576b\"], [0.6666666666666666, \"#ed7953\"], [0.7777777777777778, \"#fb9f3a\"], [0.8888888888888888, \"#fdca26\"], [1.0, \"#f0f921\"]], \"type\": \"surface\"}], \"table\": [{\"cells\": {\"fill\": {\"color\": \"#EBF0F8\"}, \"line\": {\"color\": \"white\"}}, \"header\": {\"fill\": {\"color\": \"#C8D4E3\"}, \"line\": {\"color\": \"white\"}}, \"type\": \"table\"}]}, \"layout\": {\"annotationdefaults\": {\"arrowcolor\": \"#2a3f5f\", \"arrowhead\": 0, \"arrowwidth\": 1}, \"colorscale\": {\"diverging\": [[0, \"#8e0152\"], [0.1, \"#c51b7d\"], [0.2, \"#de77ae\"], [0.3, \"#f1b6da\"], [0.4, \"#fde0ef\"], [0.5, \"#f7f7f7\"], [0.6, \"#e6f5d0\"], [0.7, \"#b8e186\"], [0.8, \"#7fbc41\"], [0.9, \"#4d9221\"], [1, \"#276419\"]], \"sequential\": [[0.0, \"#0d0887\"], [0.1111111111111111, \"#46039f\"], [0.2222222222222222, \"#7201a8\"], [0.3333333333333333, \"#9c179e\"], [0.4444444444444444, \"#bd3786\"], [0.5555555555555556, \"#d8576b\"], [0.6666666666666666, \"#ed7953\"], [0.7777777777777778, \"#fb9f3a\"], [0.8888888888888888, \"#fdca26\"], [1.0, \"#f0f921\"]], \"sequentialminus\": [[0.0, \"#0d0887\"], [0.1111111111111111, \"#46039f\"], [0.2222222222222222, \"#7201a8\"], [0.3333333333333333, \"#9c179e\"], [0.4444444444444444, \"#bd3786\"], [0.5555555555555556, \"#d8576b\"], [0.6666666666666666, \"#ed7953\"], [0.7777777777777778, \"#fb9f3a\"], [0.8888888888888888, \"#fdca26\"], [1.0, \"#f0f921\"]]}, \"colorway\": [\"#636efa\", \"#EF553B\", \"#00cc96\", \"#ab63fa\", \"#FFA15A\", \"#19d3f3\", \"#FF6692\", \"#B6E880\", \"#FF97FF\", \"#FECB52\"], \"font\": {\"color\": \"#2a3f5f\"}, \"geo\": {\"bgcolor\": \"white\", \"lakecolor\": \"white\", \"landcolor\": \"#E5ECF6\", \"showlakes\": true, \"showland\": true, \"subunitcolor\": \"white\"}, \"hoverlabel\": {\"align\": \"left\"}, \"hovermode\": \"closest\", \"mapbox\": {\"style\": \"light\"}, \"paper_bgcolor\": \"white\", \"plot_bgcolor\": \"#E5ECF6\", \"polar\": {\"angularaxis\": {\"gridcolor\": \"white\", \"linecolor\": \"white\", \"ticks\": \"\"}, \"bgcolor\": \"#E5ECF6\", \"radialaxis\": {\"gridcolor\": \"white\", \"linecolor\": \"white\", \"ticks\": \"\"}}, \"scene\": {\"xaxis\": {\"backgroundcolor\": \"#E5ECF6\", \"gridcolor\": \"white\", \"gridwidth\": 2, \"linecolor\": \"white\", \"showbackground\": true, \"ticks\": \"\", \"zerolinecolor\": \"white\"}, \"yaxis\": {\"backgroundcolor\": \"#E5ECF6\", \"gridcolor\": \"white\", \"gridwidth\": 2, \"linecolor\": \"white\", \"showbackground\": true, \"ticks\": \"\", \"zerolinecolor\": \"white\"}, \"zaxis\": {\"backgroundcolor\": \"#E5ECF6\", \"gridcolor\": \"white\", \"gridwidth\": 2, \"linecolor\": \"white\", \"showbackground\": true, \"ticks\": \"\", \"zerolinecolor\": \"white\"}}, \"shapedefaults\": {\"line\": {\"color\": \"#2a3f5f\"}}, \"ternary\": {\"aaxis\": {\"gridcolor\": \"white\", \"linecolor\": \"white\", \"ticks\": \"\"}, \"baxis\": {\"gridcolor\": \"white\", \"linecolor\": \"white\", \"ticks\": \"\"}, \"bgcolor\": \"#E5ECF6\", \"caxis\": {\"gridcolor\": \"white\", \"linecolor\": \"white\", \"ticks\": \"\"}}, \"title\": {\"x\": 0.05}, \"xaxis\": {\"automargin\": true, \"gridcolor\": \"white\", \"linecolor\": \"white\", \"ticks\": \"\", \"zerolinecolor\": \"white\", \"zerolinewidth\": 2}, \"yaxis\": {\"automargin\": true, \"gridcolor\": \"white\", \"linecolor\": \"white\", \"ticks\": \"\", \"zerolinecolor\": \"white\", \"zerolinewidth\": 2}}}, \"width\": 800, \"xaxis\": {\"title\": {\"text\": \"width\"}}, \"yaxis\": {\"title\": {\"text\": \"height\"}}},\n",
       "                        {\"responsive\": true}\n",
       "                    ).then(function(){\n",
       "                            \n",
       "var gd = document.getElementById('2785a082-48b1-4350-a9b1-74399682d2cb');\n",
       "var x = new MutationObserver(function (mutations, observer) {{\n",
       "        var display = window.getComputedStyle(gd).display;\n",
       "        if (!display || display === 'none') {{\n",
       "            console.log([gd, 'removed!']);\n",
       "            Plotly.purge(gd);\n",
       "            observer.disconnect();\n",
       "        }}\n",
       "}});\n",
       "\n",
       "// Listen for the removal of the full notebook cells\n",
       "var notebookContainer = gd.closest('#notebook-container');\n",
       "if (notebookContainer) {{\n",
       "    x.observe(notebookContainer, {childList: true});\n",
       "}}\n",
       "\n",
       "// Listen for the clearing of the current output cell\n",
       "var outputEl = gd.closest('.output');\n",
       "if (outputEl) {{\n",
       "    x.observe(outputEl, {childList: true});\n",
       "}}\n",
       "\n",
       "                        })\n",
       "                };\n",
       "                });\n",
       "            </script>\n",
       "        </div>"
      ]
     },
     "metadata": {},
     "output_type": "display_data"
    }
   ],
   "source": [
    "labels = predict_using_linear_model(lin_model, new_data, class_names)\n",
    "plotter.update_data_plots(new_data, labels, unq_classes=class_names[::-1])\n",
    "plotter()"
   ]
  },
  {
   "cell_type": "markdown",
   "metadata": {
    "slideshow": {
     "slide_type": "subslide"
    }
   },
   "source": [
    "## Hvordan forbedre modellen?\n",
    "\n",
    "For å finne ut hvordan modellen må endres kan vi definere en *feilfunkson* $E$ og bruke de deriverte av denne funksjonen mht parametere i modellen vår. Den deriverte for en parameter vil peke i retningen vi må endre parameteren for å redusere verdien av feilfunksjonen.\n",
    "\n",
    "$$\n",
    "\\frac{\\partial}{\\partial w_i}E(modell, data, klasser)\n",
    "$$\n",
    "Hvor modellen er en funksjon av $w_0, w_1,...,w_n$"
   ]
  },
  {
   "cell_type": "markdown",
   "metadata": {},
   "source": [
    "Link til presentasjon"
   ]
  },
  {
   "cell_type": "markdown",
   "metadata": {
    "slideshow": {
     "slide_type": "subslide"
    }
   },
   "source": [
    "### Psuedo-algoritme for veiledet læring ved \"gradient descent\" \n",
    "\n",
    "1. Start med en tilfeldig konfigurasjon av modellen\n",
    "2. Beregn de deriverte (aka gradientene, derav \"gradient descent\")\n",
    "3. Bruk disse for å oppdatere modellen\n",
    "4. Iterer steg 1-3 frem til endringene av modellen fra et steg til det neste blir for små (eller et annet stopp-kriterium er nådd)\n",
    "\n",
    "<center> <img src=\"../images/gradient-descent.jpg\"/> </center>"
   ]
  },
  {
   "cell_type": "markdown",
   "metadata": {
    "slideshow": {
     "slide_type": "subslide"
    }
   },
   "source": [
    "La oss teste dette opp boks-dataen vår. Vi vet at den korrekte linjen for å skille høye og vide rektangler vil være:\n",
    "$$y = w_0*x + w_1 = 1 * x + 0 = x$$"
   ]
  },
  {
   "cell_type": "code",
   "execution_count": 244,
   "metadata": {},
   "outputs": [
    {
     "data": {
      "application/vnd.plotly.v1+json": {
       "config": {
        "plotlyServerURL": "https://plot.ly"
       },
       "data": [
        {
         "fill": "toself",
         "fillcolor": "rgba(255,65,54,0.5)",
         "hoverinfo": "none",
         "mode": "none",
         "showlegend": false,
         "type": "scatter",
         "x": [
          1.05,
          1.05,
          0.026670031978273945,
          1.05
         ],
         "y": [
          1.0408922808986418,
          -0.05,
          -0.05,
          1.0408922808986418
         ]
        },
        {
         "fill": "toself",
         "fillcolor": "rgba(0,116,217,0.5)",
         "hoverinfo": "none",
         "mode": "none",
         "showlegend": false,
         "type": "scatter",
         "x": [
          0.026670031978273945,
          -0.05,
          -0.05,
          1.05,
          1.05,
          0.026670031978273945
         ],
         "y": [
          -0.05,
          -0.05,
          1.05,
          1.05,
          1.0408922808986418,
          -0.05
         ]
        },
        {
         "marker": {
          "color": "black"
         },
         "mode": "lines",
         "showlegend": false,
         "type": "scatter",
         "x": [],
         "y": []
        },
        {
         "marker": {
          "color": "rgba(255,65,54,1.0)",
          "line": {
           "width": 1
          },
          "size": 10
         },
         "mode": "markers",
         "name": "Wide rectangle",
         "type": "scatter",
         "x": [
          0.2812887540496203,
          0.5702107354258529,
          0.17688833314791685,
          0.9549991191699863,
          0.5931177765331715,
          0.8576662403275052,
          0.7619975094808533,
          0.5164574583599658,
          0.5368853923246178,
          0.5771399482568865,
          0.8332198315123475,
          0.829341118751743,
          0.2975189544609159,
          0.2617713944150247,
          0.9098997095105842,
          0.5995522241984071,
          0.3400587868721191,
          0.44387625166363776,
          0.6717957869798671,
          0.786929515526745,
          0.6650845463850065,
          0.7636260227731313,
          0.4847203668982656,
          0.9581076115049326,
          0.8560202326849297,
          0.7447927045241107,
          0.814315186462597,
          0.9786047149304193,
          0.7823214824509481,
          0.9720720702423131,
          0.6605030340894157,
          0.989192493415283,
          0.7326238096801605,
          0.7829264255541929,
          0.7467537670122997,
          0.9985747815665055,
          0.9883925982290815,
          0.643836411694382,
          0.3699661449849363,
          0.8340806293290354,
          0.9309059903043545,
          0.899908247818887
         ],
         "y": [
          0.20481054754241546,
          0.1280140165441106,
          0.14663043850853175,
          0.8089458907658468,
          0.23159366939537274,
          0.034118882752503854,
          0.33661527271062097,
          0.4389758271508051,
          0.33583101908570967,
          0.22678850305445308,
          0.3604555313123997,
          0.10927251130330684,
          0.05013060362147159,
          0.22347631218283392,
          0.6026470028388382,
          0.40739623873233066,
          0.2614321118187508,
          0.062398383139566915,
          0.5206679773556969,
          0.4435841482037395,
          0.144996082339513,
          0.07359953902965499,
          0.15715132890286032,
          0.22788857588959954,
          0.3356607036105411,
          0.18735352787472848,
          0.3293211474623188,
          0.7164339981122835,
          0.5204362508482172,
          0.544989944488461,
          0.3420204091614677,
          0.5736862840927766,
          0.21045972525672085,
          0.10691912964801897,
          0.6610744989815245,
          0.8492017485005667,
          0.9647196176416264,
          0.1952498914080424,
          0.22443755786035646,
          0.6503761422506433,
          0.6640149202748419,
          0.7426655369594949
         ]
        },
        {
         "marker": {
          "color": "rgba(0,116,217,1.0)",
          "line": {
           "width": 1
          },
          "size": 10
         },
         "mode": "markers",
         "name": "Tall rectangle",
         "type": "scatter",
         "x": [
          0.21861430139613258,
          0.1462271671553651,
          0.09919439838824307,
          0.43095057065878906,
          0.2681037986794108,
          0.2622071558651652,
          0.4924294371590938,
          0.7120640375987929,
          0.15718342910660232,
          0.7905290802799344,
          0.47370250393955116,
          0.5847981473374774,
          0.12950325846606325,
          0.13512416852177755,
          0.3424640637660723,
          0.4874065996930024,
          0.04756979300092412,
          0.12126117635771261,
          0.1586070245446496,
          0.2218037624131849,
          0.34935967640336574,
          0.8377425375448793,
          0.14554809569368277,
          0.403718712490719,
          0.06837074902154494,
          0.8488449593071189,
          0.2996537018171911,
          0.453469654922492,
          0.355430841254892,
          0.2945742404716203,
          0.047608516246089194,
          0.046238434013541,
          0.0004212225553733573,
          0.8827053505109836,
          0.42115154002340505,
          0.06907034770122145,
          0.38019331787650157,
          0.06901683874365994,
          0.24581603623359183,
          0.10370487157574271,
          0.42398555126914317,
          0.40710060631477374,
          0.2860363046871599,
          0.04969422027223036,
          0.27269350588974717,
          0.6348950490553366,
          0.7869018660377732,
          0.2812137543962864,
          0.10131084328024598,
          0.3198125953246076,
          0.6076833511399893,
          0.15783704978051616,
          0.007625920118182639,
          0.29357559715593073,
          0.07318684239590745,
          0.1444909250664015,
          0.034416481489993433,
          0.7701642733919368
         ],
         "y": [
          0.4323912518753156,
          0.2461018079438475,
          0.9839731420104754,
          0.43291878690739083,
          0.3974129274391267,
          0.6049939965517875,
          0.8364278363780413,
          0.7823334594440398,
          0.2713203059480218,
          0.8365140776103449,
          0.7408574177863047,
          0.8447701020427167,
          0.6584111297111829,
          0.8608971081277547,
          0.8251769664180374,
          0.793127955459958,
          0.9691233961765078,
          0.6058486857643591,
          0.1682178788488633,
          0.36444990178135384,
          0.7572637571868807,
          0.906996737206135,
          0.6540511196823492,
          0.6748614861043353,
          0.3596094053012717,
          0.9553857914900854,
          0.46869588972188725,
          0.6201976741345795,
          0.50522047053154,
          0.6696094994138071,
          0.8990818926879854,
          0.27419109782154216,
          0.32924037564642095,
          0.9397938847449298,
          0.6809795341666557,
          0.1906447340503007,
          0.8603205169458886,
          0.3898001566305721,
          0.6821549333027701,
          0.31231547954723327,
          0.9133685919864336,
          0.46558126549313894,
          0.6884519380753136,
          0.7529189605059041,
          0.8147811501613034,
          0.7189096493252076,
          0.9257262457188837,
          0.8294966275338267,
          0.7485898417577412,
          0.6733497727822022,
          0.6941780073932672,
          0.1849570451627328,
          0.6619774913674835,
          0.6632264919358987,
          0.17856962638584528,
          0.5871584056782954,
          0.9977993666132777,
          0.9088390192795506
         ]
        }
       ],
       "frames": [
        {
         "data": [
          {
           "fill": "toself",
           "fillcolor": "rgba(255,65,54,0.5)",
           "hoverinfo": "none",
           "mode": "none",
           "showlegend": false,
           "type": "scatter",
           "x": [
            1.05,
            1.05,
            -0.05,
            -0.05,
            1.05
           ],
           "y": [
            0.2419125997421065,
            -0.05,
            -0.05,
            0.6553591314738695,
            0.2419125997421065
           ]
          },
          {
           "fill": "toself",
           "fillcolor": "rgba(0,116,217,0.5)",
           "hoverinfo": "none",
           "mode": "none",
           "showlegend": false,
           "type": "scatter",
           "x": [
            -0.05,
            -0.05,
            1.05,
            1.05,
            -0.05
           ],
           "y": [
            0.6553591314738695,
            1.05,
            1.05,
            0.2419125997421065,
            0.6553591314738695
           ]
          }
         ],
         "layout": {
          "title": {
           "text": " Model: -0.38*x + 0.64"
          }
         }
        },
        {
         "data": [
          {
           "fill": "toself",
           "fillcolor": "rgba(255,65,54,0.5)",
           "hoverinfo": "none",
           "mode": "none",
           "showlegend": false,
           "type": "scatter",
           "x": [
            1.05,
            1.05,
            -0.05,
            -0.05,
            1.05
           ],
           "y": [
            0.2614626865271777,
            -0.05,
            -0.05,
            0.5140110785309757,
            0.2614626865271777
           ]
          },
          {
           "fill": "toself",
           "fillcolor": "rgba(0,116,217,0.5)",
           "hoverinfo": "none",
           "mode": "none",
           "showlegend": false,
           "type": "scatter",
           "x": [
            -0.05,
            -0.05,
            1.05,
            1.05,
            -0.05
           ],
           "y": [
            0.5140110785309757,
            1.05,
            1.05,
            0.2614626865271777,
            0.5140110785309757
           ]
          }
         ],
         "layout": {
          "title": {
           "text": " Model: -0.23*x + 0.50"
          }
         }
        },
        {
         "data": [
          {
           "fill": "toself",
           "fillcolor": "rgba(255,65,54,0.5)",
           "hoverinfo": "none",
           "mode": "none",
           "showlegend": false,
           "type": "scatter",
           "x": [
            1.05,
            1.05,
            -0.05,
            -0.05,
            1.05
           ],
           "y": [
            0.3192356654839383,
            -0.05,
            -0.05,
            0.4169710745970063,
            0.3192356654839383
           ]
          },
          {
           "fill": "toself",
           "fillcolor": "rgba(0,116,217,0.5)",
           "hoverinfo": "none",
           "mode": "none",
           "showlegend": false,
           "type": "scatter",
           "x": [
            -0.05,
            -0.05,
            1.05,
            1.05,
            -0.05
           ],
           "y": [
            0.4169710745970063,
            1.05,
            1.05,
            0.3192356654839383,
            0.4169710745970063
           ]
          }
         ],
         "layout": {
          "title": {
           "text": " Model: -0.09*x + 0.41"
          }
         }
        },
        {
         "data": [
          {
           "fill": "toself",
           "fillcolor": "rgba(255,65,54,0.5)",
           "hoverinfo": "none",
           "mode": "none",
           "showlegend": false,
           "type": "scatter",
           "x": [
            1.05,
            1.05,
            -0.05,
            -0.05,
            1.05
           ],
           "y": [
            0.385843625245428,
            -0.05,
            -0.05,
            0.35180389780313776,
            0.385843625245428
           ]
          },
          {
           "fill": "toself",
           "fillcolor": "rgba(0,116,217,0.5)",
           "hoverinfo": "none",
           "mode": "none",
           "showlegend": false,
           "type": "scatter",
           "x": [
            -0.05,
            -0.05,
            1.05,
            1.05,
            -0.05
           ],
           "y": [
            0.35180389780313776,
            1.05,
            1.05,
            0.385843625245428,
            0.35180389780313776
           ]
          }
         ],
         "layout": {
          "title": {
           "text": " Model: 0.03*x + 0.35"
          }
         }
        },
        {
         "data": [
          {
           "fill": "toself",
           "fillcolor": "rgba(255,65,54,0.5)",
           "hoverinfo": "none",
           "mode": "none",
           "showlegend": false,
           "type": "scatter",
           "x": [
            1.05,
            1.05,
            -0.05,
            -0.05,
            1.05
           ],
           "y": [
            0.45755575461958986,
            -0.05,
            -0.05,
            0.2971871715464286,
            0.45755575461958986
           ]
          },
          {
           "fill": "toself",
           "fillcolor": "rgba(0,116,217,0.5)",
           "hoverinfo": "none",
           "mode": "none",
           "showlegend": false,
           "type": "scatter",
           "x": [
            -0.05,
            -0.05,
            1.05,
            1.05,
            -0.05
           ],
           "y": [
            0.2971871715464286,
            1.05,
            1.05,
            0.45755575461958986,
            0.2971871715464286
           ]
          }
         ],
         "layout": {
          "title": {
           "text": " Model: 0.15*x + 0.30"
          }
         }
        },
        {
         "data": [
          {
           "fill": "toself",
           "fillcolor": "rgba(255,65,54,0.5)",
           "hoverinfo": "none",
           "mode": "none",
           "showlegend": false,
           "type": "scatter",
           "x": [
            1.05,
            1.05,
            -0.05,
            -0.05,
            1.05
           ],
           "y": [
            0.5212237003065776,
            -0.05,
            -0.05,
            0.25344480593740465,
            0.5212237003065776
           ]
          },
          {
           "fill": "toself",
           "fillcolor": "rgba(0,116,217,0.5)",
           "hoverinfo": "none",
           "mode": "none",
           "showlegend": false,
           "type": "scatter",
           "x": [
            -0.05,
            -0.05,
            1.05,
            1.05,
            -0.05
           ],
           "y": [
            0.25344480593740465,
            1.05,
            1.05,
            0.5212237003065776,
            0.25344480593740465
           ]
          }
         ],
         "layout": {
          "title": {
           "text": " Model: 0.24*x + 0.27"
          }
         }
        },
        {
         "data": [
          {
           "fill": "toself",
           "fillcolor": "rgba(255,65,54,0.5)",
           "hoverinfo": "none",
           "mode": "none",
           "showlegend": false,
           "type": "scatter",
           "x": [
            1.05,
            1.05,
            -0.05,
            -0.05,
            1.05
           ],
           "y": [
            0.581892024428361,
            -0.05,
            -0.05,
            0.21270519702126398,
            0.581892024428361
           ]
          },
          {
           "fill": "toself",
           "fillcolor": "rgba(0,116,217,0.5)",
           "hoverinfo": "none",
           "mode": "none",
           "showlegend": false,
           "type": "scatter",
           "x": [
            -0.05,
            -0.05,
            1.05,
            1.05,
            -0.05
           ],
           "y": [
            0.21270519702126398,
            1.05,
            1.05,
            0.581892024428361,
            0.21270519702126398
           ]
          }
         ],
         "layout": {
          "title": {
           "text": " Model: 0.34*x + 0.23"
          }
         }
        },
        {
         "data": [
          {
           "fill": "toself",
           "fillcolor": "rgba(255,65,54,0.5)",
           "hoverinfo": "none",
           "mode": "none",
           "showlegend": false,
           "type": "scatter",
           "x": [
            1.05,
            1.05,
            -0.05,
            -0.05,
            1.05
           ],
           "y": [
            0.6331811906325456,
            -0.05,
            -0.05,
            0.1777731659838239,
            0.6331811906325456
           ]
          },
          {
           "fill": "toself",
           "fillcolor": "rgba(0,116,217,0.5)",
           "hoverinfo": "none",
           "mode": "none",
           "showlegend": false,
           "type": "scatter",
           "x": [
            -0.05,
            -0.05,
            1.05,
            1.05,
            -0.05
           ],
           "y": [
            0.1777731659838239,
            1.05,
            1.05,
            0.6331811906325456,
            0.1777731659838239
           ]
          }
         ],
         "layout": {
          "title": {
           "text": " Model: 0.41*x + 0.20"
          }
         }
        },
        {
         "data": [
          {
           "fill": "toself",
           "fillcolor": "rgba(255,65,54,0.5)",
           "hoverinfo": "none",
           "mode": "none",
           "showlegend": false,
           "type": "scatter",
           "x": [
            1.05,
            1.05,
            -0.05,
            -0.05,
            1.05
           ],
           "y": [
            0.6807168529458983,
            -0.05,
            -0.05,
            0.14445045465690287,
            0.6807168529458983
           ]
          },
          {
           "fill": "toself",
           "fillcolor": "rgba(0,116,217,0.5)",
           "hoverinfo": "none",
           "mode": "none",
           "showlegend": false,
           "type": "scatter",
           "x": [
            -0.05,
            -0.05,
            1.05,
            1.05,
            -0.05
           ],
           "y": [
            0.14445045465690287,
            1.05,
            1.05,
            0.6807168529458983,
            0.14445045465690287
           ]
          }
         ],
         "layout": {
          "title": {
           "text": " Model: 0.49*x + 0.17"
          }
         }
        },
        {
         "data": [
          {
           "fill": "toself",
           "fillcolor": "rgba(255,65,54,0.5)",
           "hoverinfo": "none",
           "mode": "none",
           "showlegend": false,
           "type": "scatter",
           "x": [
            1.05,
            1.05,
            -0.05,
            -0.05,
            1.05
           ],
           "y": [
            0.7241468372408106,
            -0.05,
            -0.05,
            0.11295774417754798,
            0.7241468372408106
           ]
          },
          {
           "fill": "toself",
           "fillcolor": "rgba(0,116,217,0.5)",
           "hoverinfo": "none",
           "mode": "none",
           "showlegend": false,
           "type": "scatter",
           "x": [
            -0.05,
            -0.05,
            1.05,
            1.05,
            -0.05
           ],
           "y": [
            0.11295774417754798,
            1.05,
            1.05,
            0.7241468372408106,
            0.11295774417754798
           ]
          }
         ],
         "layout": {
          "title": {
           "text": " Model: 0.56*x + 0.14"
          }
         }
        },
        {
         "data": [
          {
           "fill": "toself",
           "fillcolor": "rgba(255,65,54,0.5)",
           "hoverinfo": "none",
           "mode": "none",
           "showlegend": false,
           "type": "scatter",
           "x": [
            1.05,
            1.05,
            -0.05,
            -0.05,
            1.05
           ],
           "y": [
            0.7606721145567656,
            -0.05,
            -0.05,
            0.08559459466527998,
            0.7606721145567656
           ]
          },
          {
           "fill": "toself",
           "fillcolor": "rgba(0,116,217,0.5)",
           "hoverinfo": "none",
           "mode": "none",
           "showlegend": false,
           "type": "scatter",
           "x": [
            -0.05,
            -0.05,
            1.05,
            1.05,
            -0.05
           ],
           "y": [
            0.08559459466527998,
            1.05,
            1.05,
            0.7606721145567656,
            0.08559459466527998
           ]
          }
         ],
         "layout": {
          "title": {
           "text": " Model: 0.61*x + 0.12"
          }
         }
        },
        {
         "data": [
          {
           "fill": "toself",
           "fillcolor": "rgba(255,65,54,0.5)",
           "hoverinfo": "none",
           "mode": "none",
           "showlegend": false,
           "type": "scatter",
           "x": [
            1.05,
            1.05,
            -0.05,
            -0.05,
            1.05
           ],
           "y": [
            0.7941240415819202,
            -0.05,
            -0.05,
            0.05978689430080547,
            0.7941240415819202
           ]
          },
          {
           "fill": "toself",
           "fillcolor": "rgba(0,116,217,0.5)",
           "hoverinfo": "none",
           "mode": "none",
           "showlegend": false,
           "type": "scatter",
           "x": [
            -0.05,
            -0.05,
            1.05,
            1.05,
            -0.05
           ],
           "y": [
            0.05978689430080547,
            1.05,
            1.05,
            0.7941240415819202,
            0.05978689430080547
           ]
          }
         ],
         "layout": {
          "title": {
           "text": " Model: 0.67*x + 0.09"
          }
         }
        },
        {
         "data": [
          {
           "fill": "toself",
           "fillcolor": "rgba(255,65,54,0.5)",
           "hoverinfo": "none",
           "mode": "none",
           "showlegend": false,
           "type": "scatter",
           "x": [
            1.05,
            1.05,
            -0.05,
            -0.05,
            1.05
           ],
           "y": [
            0.8245347274834341,
            -0.05,
            -0.05,
            0.03568881087040431,
            0.8245347274834341
           ]
          },
          {
           "fill": "toself",
           "fillcolor": "rgba(0,116,217,0.5)",
           "hoverinfo": "none",
           "mode": "none",
           "showlegend": false,
           "type": "scatter",
           "x": [
            -0.05,
            -0.05,
            1.05,
            1.05,
            -0.05
           ],
           "y": [
            0.03568881087040431,
            1.05,
            1.05,
            0.8245347274834341,
            0.03568881087040431
           ]
          }
         ],
         "layout": {
          "title": {
           "text": " Model: 0.72*x + 0.07"
          }
         }
        },
        {
         "data": [
          {
           "fill": "toself",
           "fillcolor": "rgba(255,65,54,0.5)",
           "hoverinfo": "none",
           "mode": "none",
           "showlegend": false,
           "type": "scatter",
           "x": [
            1.05,
            1.05,
            -0.05,
            -0.05,
            1.05
           ],
           "y": [
            0.850322967924734,
            -0.05,
            -0.05,
            0.01477631669248107,
            0.850322967924734
           ]
          },
          {
           "fill": "toself",
           "fillcolor": "rgba(0,116,217,0.5)",
           "hoverinfo": "none",
           "mode": "none",
           "showlegend": false,
           "type": "scatter",
           "x": [
            -0.05,
            -0.05,
            1.05,
            1.05,
            -0.05
           ],
           "y": [
            0.01477631669248107,
            1.05,
            1.05,
            0.850322967924734,
            0.01477631669248107
           ]
          }
         ],
         "layout": {
          "title": {
           "text": " Model: 0.76*x + 0.05"
          }
         }
        },
        {
         "data": [
          {
           "fill": "toself",
           "fillcolor": "rgba(255,65,54,0.5)",
           "hoverinfo": "none",
           "mode": "none",
           "showlegend": false,
           "type": "scatter",
           "x": [
            1.05,
            1.05,
            -0.05,
            -0.05,
            1.05
           ],
           "y": [
            0.8738527128933724,
            -0.05,
            -0.05,
            -0.00468082937692943,
            0.8738527128933724
           ]
          },
          {
           "fill": "toself",
           "fillcolor": "rgba(0,116,217,0.5)",
           "hoverinfo": "none",
           "mode": "none",
           "showlegend": false,
           "type": "scatter",
           "x": [
            -0.05,
            -0.05,
            1.05,
            1.05,
            -0.05
           ],
           "y": [
            -0.00468082937692943,
            1.05,
            1.05,
            0.8738527128933724,
            -0.00468082937692943
           ]
          }
         ],
         "layout": {
          "title": {
           "text": " Model: 0.80*x + 0.04"
          }
         }
        },
        {
         "data": [
          {
           "fill": "toself",
           "fillcolor": "rgba(255,65,54,0.5)",
           "hoverinfo": "none",
           "mode": "none",
           "showlegend": false,
           "type": "scatter",
           "x": [
            1.05,
            1.05,
            -0.05,
            -0.05,
            1.05
           ],
           "y": [
            0.895187224237632,
            -0.05,
            -0.05,
            -0.022620825240255427,
            0.895187224237632
           ]
          },
          {
           "fill": "toself",
           "fillcolor": "rgba(0,116,217,0.5)",
           "hoverinfo": "none",
           "mode": "none",
           "showlegend": false,
           "type": "scatter",
           "x": [
            -0.05,
            -0.05,
            1.05,
            1.05,
            -0.05
           ],
           "y": [
            -0.022620825240255427,
            1.05,
            1.05,
            0.895187224237632,
            -0.022620825240255427
           ]
          }
         ],
         "layout": {
          "title": {
           "text": " Model: 0.83*x + 0.02"
          }
         }
        },
        {
         "data": [
          {
           "fill": "toself",
           "fillcolor": "rgba(255,65,54,0.5)",
           "hoverinfo": "none",
           "mode": "none",
           "showlegend": false,
           "type": "scatter",
           "x": [
            1.05,
            1.05,
            -0.05,
            -0.05,
            1.05
           ],
           "y": [
            0.9144220971527907,
            -0.05,
            -0.05,
            -0.039021120588773314,
            0.9144220971527907
           ]
          },
          {
           "fill": "toself",
           "fillcolor": "rgba(0,116,217,0.5)",
           "hoverinfo": "none",
           "mode": "none",
           "showlegend": false,
           "type": "scatter",
           "x": [
            -0.05,
            -0.05,
            1.05,
            1.05,
            -0.05
           ],
           "y": [
            -0.039021120588773314,
            1.05,
            1.05,
            0.9144220971527907,
            -0.039021120588773314
           ]
          }
         ],
         "layout": {
          "title": {
           "text": " Model: 0.87*x + 0.00"
          }
         }
        },
        {
         "data": [
          {
           "fill": "toself",
           "fillcolor": "rgba(255,65,54,0.5)",
           "hoverinfo": "none",
           "mode": "none",
           "showlegend": false,
           "type": "scatter",
           "x": [
            1.05,
            1.05,
            -0.04565749960468801,
            1.05
           ],
           "y": [
            0.9316733046583612,
            -0.05,
            -0.05,
            0.9316733046583612
           ]
          },
          {
           "fill": "toself",
           "fillcolor": "rgba(0,116,217,0.5)",
           "hoverinfo": "none",
           "mode": "none",
           "showlegend": false,
           "type": "scatter",
           "x": [
            -0.04565749960468801,
            -0.05,
            -0.05,
            1.05,
            1.05,
            -0.04565749960468801
           ],
           "y": [
            -0.05,
            -0.05,
            1.05,
            1.05,
            0.9316733046583612,
            -0.05
           ]
          }
         ],
         "layout": {
          "title": {
           "text": " Model: 0.90*x - 0.01"
          }
         }
        },
        {
         "data": [
          {
           "fill": "toself",
           "fillcolor": "rgba(255,65,54,0.5)",
           "hoverinfo": "none",
           "mode": "none",
           "showlegend": false,
           "type": "scatter",
           "x": [
            1.05,
            1.05,
            -0.0312782805264733,
            1.05
           ],
           "y": [
            0.9470686517523368,
            -0.05,
            -0.05,
            0.9470686517523368
           ]
          },
          {
           "fill": "toself",
           "fillcolor": "rgba(0,116,217,0.5)",
           "hoverinfo": "none",
           "mode": "none",
           "showlegend": false,
           "type": "scatter",
           "x": [
            -0.0312782805264733,
            -0.05,
            -0.05,
            1.05,
            1.05,
            -0.0312782805264733
           ],
           "y": [
            -0.05,
            -0.05,
            1.05,
            1.05,
            0.9470686517523368,
            -0.05
           ]
          }
         ],
         "layout": {
          "title": {
           "text": " Model: 0.92*x - 0.02"
          }
         }
        },
        {
         "data": [
          {
           "fill": "toself",
           "fillcolor": "rgba(255,65,54,0.5)",
           "hoverinfo": "none",
           "mode": "none",
           "showlegend": false,
           "type": "scatter",
           "x": [
            1.05,
            1.05,
            -0.01857892685607221,
            1.05
           ],
           "y": [
            0.9613662450308571,
            -0.05,
            -0.05,
            0.9613662450308571
           ]
          },
          {
           "fill": "toself",
           "fillcolor": "rgba(0,116,217,0.5)",
           "hoverinfo": "none",
           "mode": "none",
           "showlegend": false,
           "type": "scatter",
           "x": [
            -0.01857892685607221,
            -0.05,
            -0.05,
            1.05,
            1.05,
            -0.01857892685607221
           ],
           "y": [
            -0.05,
            -0.05,
            1.05,
            1.05,
            0.9613662450308571,
            -0.05
           ]
          }
         ],
         "layout": {
          "title": {
           "text": " Model: 0.95*x - 0.03"
          }
         }
        },
        {
         "data": [
          {
           "fill": "toself",
           "fillcolor": "rgba(255,65,54,0.5)",
           "hoverinfo": "none",
           "mode": "none",
           "showlegend": false,
           "type": "scatter",
           "x": [
            1.05,
            1.05,
            -0.007985464722736757,
            1.05
           ],
           "y": [
            0.9738735380772705,
            -0.05,
            -0.05,
            0.9738735380772705
           ]
          },
          {
           "fill": "toself",
           "fillcolor": "rgba(0,116,217,0.5)",
           "hoverinfo": "none",
           "mode": "none",
           "showlegend": false,
           "type": "scatter",
           "x": [
            -0.007985464722736757,
            -0.05,
            -0.05,
            1.05,
            1.05,
            -0.007985464722736757
           ],
           "y": [
            -0.05,
            -0.05,
            1.05,
            1.05,
            0.9738735380772705,
            -0.05
           ]
          }
         ],
         "layout": {
          "title": {
           "text": " Model: 0.97*x - 0.04"
          }
         }
        },
        {
         "data": [
          {
           "fill": "toself",
           "fillcolor": "rgba(255,65,54,0.5)",
           "hoverinfo": "none",
           "mode": "none",
           "showlegend": false,
           "type": "scatter",
           "x": [
            1.05,
            1.05,
            0.000838665086945467,
            1.05
           ],
           "y": [
            0.9847702349861978,
            -0.05,
            -0.05,
            0.9847702349861978
           ]
          },
          {
           "fill": "toself",
           "fillcolor": "rgba(0,116,217,0.5)",
           "hoverinfo": "none",
           "mode": "none",
           "showlegend": false,
           "type": "scatter",
           "x": [
            0.000838665086945467,
            -0.05,
            -0.05,
            1.05,
            1.05,
            0.000838665086945467
           ],
           "y": [
            -0.05,
            -0.05,
            1.05,
            1.05,
            0.9847702349861978,
            -0.05
           ]
          }
         ],
         "layout": {
          "title": {
           "text": " Model: 0.99*x - 0.05"
          }
         }
        },
        {
         "data": [
          {
           "fill": "toself",
           "fillcolor": "rgba(255,65,54,0.5)",
           "hoverinfo": "none",
           "mode": "none",
           "showlegend": false,
           "type": "scatter",
           "x": [
            1.05,
            1.05,
            0.008435642949646438,
            1.05
           ],
           "y": [
            0.9945802053136448,
            -0.05,
            -0.05,
            0.9945802053136448
           ]
          },
          {
           "fill": "toself",
           "fillcolor": "rgba(0,116,217,0.5)",
           "hoverinfo": "none",
           "mode": "none",
           "showlegend": false,
           "type": "scatter",
           "x": [
            0.008435642949646438,
            -0.05,
            -0.05,
            1.05,
            1.05,
            0.008435642949646438
           ],
           "y": [
            -0.05,
            -0.05,
            1.05,
            1.05,
            0.9945802053136448,
            -0.05
           ]
          }
         ],
         "layout": {
          "title": {
           "text": " Model: 1.00*x - 0.06"
          }
         }
        },
        {
         "data": [
          {
           "fill": "toself",
           "fillcolor": "rgba(255,65,54,0.5)",
           "hoverinfo": "none",
           "mode": "none",
           "showlegend": false,
           "type": "scatter",
           "x": [
            1.05,
            1.05,
            0.01485249514098047,
            1.05
           ],
           "y": [
            1.0032662260041196,
            -0.05,
            -0.05,
            1.0032662260041196
           ]
          },
          {
           "fill": "toself",
           "fillcolor": "rgba(0,116,217,0.5)",
           "hoverinfo": "none",
           "mode": "none",
           "showlegend": false,
           "type": "scatter",
           "x": [
            0.01485249514098047,
            -0.05,
            -0.05,
            1.05,
            1.05,
            0.01485249514098047
           ],
           "y": [
            -0.05,
            -0.05,
            1.05,
            1.05,
            1.0032662260041196,
            -0.05
           ]
          }
         ],
         "layout": {
          "title": {
           "text": " Model: 1.02*x - 0.07"
          }
         }
        },
        {
         "data": [
          {
           "fill": "toself",
           "fillcolor": "rgba(255,65,54,0.5)",
           "hoverinfo": "none",
           "mode": "none",
           "showlegend": false,
           "type": "scatter",
           "x": [
            1.05,
            1.05,
            0.020002006020374552,
            1.05
           ],
           "y": [
            1.0106018160759365,
            -0.05,
            -0.05,
            1.0106018160759365
           ]
          },
          {
           "fill": "toself",
           "fillcolor": "rgba(0,116,217,0.5)",
           "hoverinfo": "none",
           "mode": "none",
           "showlegend": false,
           "type": "scatter",
           "x": [
            0.020002006020374552,
            -0.05,
            -0.05,
            1.05,
            1.05,
            0.020002006020374552
           ],
           "y": [
            -0.05,
            -0.05,
            1.05,
            1.05,
            1.0106018160759365,
            -0.05
           ]
          }
         ],
         "layout": {
          "title": {
           "text": " Model: 1.03*x - 0.07"
          }
         }
        },
        {
         "data": [
          {
           "fill": "toself",
           "fillcolor": "rgba(255,65,54,0.5)",
           "hoverinfo": "none",
           "mode": "none",
           "showlegend": false,
           "type": "scatter",
           "x": [
            1.05,
            1.05,
            0.024212396936506453,
            1.05
           ],
           "y": [
            1.0169581086771708,
            -0.05,
            -0.05,
            1.0169581086771708
           ]
          },
          {
           "fill": "toself",
           "fillcolor": "rgba(0,116,217,0.5)",
           "hoverinfo": "none",
           "mode": "none",
           "showlegend": false,
           "type": "scatter",
           "x": [
            0.024212396936506453,
            -0.05,
            -0.05,
            1.05,
            1.05,
            0.024212396936506453
           ],
           "y": [
            -0.05,
            -0.05,
            1.05,
            1.05,
            1.0169581086771708,
            -0.05
           ]
          }
         ],
         "layout": {
          "title": {
           "text": " Model: 1.04*x - 0.08"
          }
         }
        },
        {
         "data": [
          {
           "fill": "toself",
           "fillcolor": "rgba(255,65,54,0.5)",
           "hoverinfo": "none",
           "mode": "none",
           "showlegend": false,
           "type": "scatter",
           "x": [
            1.05,
            1.05,
            0.027556897683479187,
            1.05
           ],
           "y": [
            1.0223791031428158,
            -0.05,
            -0.05,
            1.0223791031428158
           ]
          },
          {
           "fill": "toself",
           "fillcolor": "rgba(0,116,217,0.5)",
           "hoverinfo": "none",
           "mode": "none",
           "showlegend": false,
           "type": "scatter",
           "x": [
            0.027556897683479187,
            -0.05,
            -0.05,
            1.05,
            1.05,
            0.027556897683479187
           ],
           "y": [
            -0.05,
            -0.05,
            1.05,
            1.05,
            1.0223791031428158,
            -0.05
           ]
          }
         ],
         "layout": {
          "title": {
           "text": " Model: 1.05*x - 0.08"
          }
         }
        },
        {
         "data": [
          {
           "fill": "toself",
           "fillcolor": "rgba(255,65,54,0.5)",
           "hoverinfo": "none",
           "mode": "none",
           "showlegend": false,
           "type": "scatter",
           "x": [
            1.05,
            1.05,
            0.030115321830417097,
            1.05
           ],
           "y": [
            1.0269276416187074,
            -0.05,
            -0.05,
            1.0269276416187074
           ]
          },
          {
           "fill": "toself",
           "fillcolor": "rgba(0,116,217,0.5)",
           "hoverinfo": "none",
           "mode": "none",
           "showlegend": false,
           "type": "scatter",
           "x": [
            0.030115321830417097,
            -0.05,
            -0.05,
            1.05,
            1.05,
            0.030115321830417097
           ],
           "y": [
            -0.05,
            -0.05,
            1.05,
            1.05,
            1.0269276416187074,
            -0.05
           ]
          }
         ],
         "layout": {
          "title": {
           "text": " Model: 1.06*x - 0.08"
          }
         }
        },
        {
         "data": [
          {
           "fill": "toself",
           "fillcolor": "rgba(255,65,54,0.5)",
           "hoverinfo": "none",
           "mode": "none",
           "showlegend": false,
           "type": "scatter",
           "x": [
            1.05,
            1.05,
            0.031969586571121256,
            1.05
           ],
           "y": [
            1.0306783276816307,
            -0.05,
            -0.05,
            1.0306783276816307
           ]
          },
          {
           "fill": "toself",
           "fillcolor": "rgba(0,116,217,0.5)",
           "hoverinfo": "none",
           "mode": "none",
           "showlegend": false,
           "type": "scatter",
           "x": [
            0.031969586571121256,
            -0.05,
            -0.05,
            1.05,
            1.05,
            0.031969586571121256
           ],
           "y": [
            -0.05,
            -0.05,
            1.05,
            1.05,
            1.0306783276816307,
            -0.05
           ]
          }
         ],
         "layout": {
          "title": {
           "text": " Model: 1.06*x - 0.08"
          }
         }
        },
        {
         "data": [
          {
           "fill": "toself",
           "fillcolor": "rgba(255,65,54,0.5)",
           "hoverinfo": "none",
           "mode": "none",
           "showlegend": false,
           "type": "scatter",
           "x": [
            1.05,
            1.05,
            0.03320058977361284,
            1.05
           ],
           "y": [
            1.0337118185973724,
            -0.05,
            -0.05,
            1.0337118185973724
           ]
          },
          {
           "fill": "toself",
           "fillcolor": "rgba(0,116,217,0.5)",
           "hoverinfo": "none",
           "mode": "none",
           "showlegend": false,
           "type": "scatter",
           "x": [
            0.03320058977361284,
            -0.05,
            -0.05,
            1.05,
            1.05,
            0.03320058977361284
           ],
           "y": [
            -0.05,
            -0.05,
            1.05,
            1.05,
            1.0337118185973724,
            -0.05
           ]
          }
         ],
         "layout": {
          "title": {
           "text": " Model: 1.07*x - 0.09"
          }
         }
        },
        {
         "data": [
          {
           "fill": "toself",
           "fillcolor": "rgba(255,65,54,0.5)",
           "hoverinfo": "none",
           "mode": "none",
           "showlegend": false,
           "type": "scatter",
           "x": [
            1.05,
            1.05,
            0.03389662999660997,
            1.05
           ],
           "y": [
            1.0361616329869479,
            -0.05,
            -0.05,
            1.0361616329869479
           ]
          },
          {
           "fill": "toself",
           "fillcolor": "rgba(0,116,217,0.5)",
           "hoverinfo": "none",
           "mode": "none",
           "showlegend": false,
           "type": "scatter",
           "x": [
            0.03389662999660997,
            -0.05,
            -0.05,
            1.05,
            1.05,
            0.03389662999660997
           ],
           "y": [
            -0.05,
            -0.05,
            1.05,
            1.05,
            1.0361616329869479,
            -0.05
           ]
          }
         ],
         "layout": {
          "title": {
           "text": " Model: 1.07*x - 0.09"
          }
         }
        },
        {
         "data": [
          {
           "fill": "toself",
           "fillcolor": "rgba(255,65,54,0.5)",
           "hoverinfo": "none",
           "mode": "none",
           "showlegend": false,
           "type": "scatter",
           "x": [
            1.05,
            1.05,
            0.034098991240635645,
            1.05
           ],
           "y": [
            1.0380282512173782,
            -0.05,
            -0.05,
            1.0380282512173782
           ]
          },
          {
           "fill": "toself",
           "fillcolor": "rgba(0,116,217,0.5)",
           "hoverinfo": "none",
           "mode": "none",
           "showlegend": false,
           "type": "scatter",
           "x": [
            0.034098991240635645,
            -0.05,
            -0.05,
            1.05,
            1.05,
            0.034098991240635645
           ],
           "y": [
            -0.05,
            -0.05,
            1.05,
            1.05,
            1.0380282512173782,
            -0.05
           ]
          }
         ],
         "layout": {
          "title": {
           "text": " Model: 1.07*x - 0.09"
          }
         }
        },
        {
         "data": [
          {
           "fill": "toself",
           "fillcolor": "rgba(255,65,54,0.5)",
           "hoverinfo": "none",
           "mode": "none",
           "showlegend": false,
           "type": "scatter",
           "x": [
            1.05,
            1.05,
            0.03387417599589432,
            1.05
           ],
           "y": [
            1.0394221738014096,
            -0.05,
            -0.05,
            1.0394221738014096
           ]
          },
          {
           "fill": "toself",
           "fillcolor": "rgba(0,116,217,0.5)",
           "hoverinfo": "none",
           "mode": "none",
           "showlegend": false,
           "type": "scatter",
           "x": [
            0.03387417599589432,
            -0.05,
            -0.05,
            1.05,
            1.05,
            0.03387417599589432
           ],
           "y": [
            -0.05,
            -0.05,
            1.05,
            1.05,
            1.0394221738014096,
            -0.05
           ]
          }
         ],
         "layout": {
          "title": {
           "text": " Model: 1.07*x - 0.09"
          }
         }
        },
        {
         "data": [
          {
           "fill": "toself",
           "fillcolor": "rgba(255,65,54,0.5)",
           "hoverinfo": "none",
           "mode": "none",
           "showlegend": false,
           "type": "scatter",
           "x": [
            1.05,
            1.05,
            0.03328616367611009,
            1.05
           ],
           "y": [
            1.0403785710302975,
            -0.05,
            -0.05,
            1.0403785710302975
           ]
          },
          {
           "fill": "toself",
           "fillcolor": "rgba(0,116,217,0.5)",
           "hoverinfo": "none",
           "mode": "none",
           "showlegend": false,
           "type": "scatter",
           "x": [
            0.03328616367611009,
            -0.05,
            -0.05,
            1.05,
            1.05,
            0.03328616367611009
           ],
           "y": [
            -0.05,
            -0.05,
            1.05,
            1.05,
            1.0403785710302975,
            -0.05
           ]
          }
         ],
         "layout": {
          "title": {
           "text": " Model: 1.07*x - 0.09"
          }
         }
        },
        {
         "data": [
          {
           "fill": "toself",
           "fillcolor": "rgba(255,65,54,0.5)",
           "hoverinfo": "none",
           "mode": "none",
           "showlegend": false,
           "type": "scatter",
           "x": [
            1.05,
            1.05,
            0.03238053768068466,
            1.05
           ],
           "y": [
            1.0409823095995505,
            -0.05,
            -0.05,
            1.0409823095995505
           ]
          },
          {
           "fill": "toself",
           "fillcolor": "rgba(0,116,217,0.5)",
           "hoverinfo": "none",
           "mode": "none",
           "showlegend": false,
           "type": "scatter",
           "x": [
            0.03238053768068466,
            -0.05,
            -0.05,
            1.05,
            1.05,
            0.03238053768068466
           ],
           "y": [
            -0.05,
            -0.05,
            1.05,
            1.05,
            1.0409823095995505,
            -0.05
           ]
          }
         ],
         "layout": {
          "title": {
           "text": " Model: 1.07*x - 0.08"
          }
         }
        },
        {
         "data": [
          {
           "fill": "toself",
           "fillcolor": "rgba(255,65,54,0.5)",
           "hoverinfo": "none",
           "mode": "none",
           "showlegend": false,
           "type": "scatter",
           "x": [
            1.05,
            1.05,
            0.03120456567604979,
            1.05
           ],
           "y": [
            1.041283898192246,
            -0.05,
            -0.05,
            1.041283898192246
           ]
          },
          {
           "fill": "toself",
           "fillcolor": "rgba(0,116,217,0.5)",
           "hoverinfo": "none",
           "mode": "none",
           "showlegend": false,
           "type": "scatter",
           "x": [
            0.03120456567604979,
            -0.05,
            -0.05,
            1.05,
            1.05,
            0.03120456567604979
           ],
           "y": [
            -0.05,
            -0.05,
            1.05,
            1.05,
            1.041283898192246,
            -0.05
           ]
          }
         ],
         "layout": {
          "title": {
           "text": " Model: 1.07*x - 0.08"
          }
         }
        },
        {
         "data": [
          {
           "fill": "toself",
           "fillcolor": "rgba(255,65,54,0.5)",
           "hoverinfo": "none",
           "mode": "none",
           "showlegend": false,
           "type": "scatter",
           "x": [
            1.05,
            1.05,
            0.029804582939335966,
            1.05
           ],
           "y": [
            1.0413329713066437,
            -0.05,
            -0.05,
            1.0413329713066437
           ]
          },
          {
           "fill": "toself",
           "fillcolor": "rgba(0,116,217,0.5)",
           "hoverinfo": "none",
           "mode": "none",
           "showlegend": false,
           "type": "scatter",
           "x": [
            0.029804582939335966,
            -0.05,
            -0.05,
            1.05,
            1.05,
            0.029804582939335966
           ],
           "y": [
            -0.05,
            -0.05,
            1.05,
            1.05,
            1.0413329713066437,
            -0.05
           ]
          }
         ],
         "layout": {
          "title": {
           "text": " Model: 1.07*x - 0.08"
          }
         }
        },
        {
         "data": [
          {
           "fill": "toself",
           "fillcolor": "rgba(255,65,54,0.5)",
           "hoverinfo": "none",
           "mode": "none",
           "showlegend": false,
           "type": "scatter",
           "x": [
            1.05,
            1.05,
            0.028224503210797502,
            1.05
           ],
           "y": [
            1.0411763200218906,
            -0.05,
            -0.05,
            1.0411763200218906
           ]
          },
          {
           "fill": "toself",
           "fillcolor": "rgba(0,116,217,0.5)",
           "hoverinfo": "none",
           "mode": "none",
           "showlegend": false,
           "type": "scatter",
           "x": [
            0.028224503210797502,
            -0.05,
            -0.05,
            1.05,
            1.05,
            0.028224503210797502
           ],
           "y": [
            -0.05,
            -0.05,
            1.05,
            1.05,
            1.0411763200218906,
            -0.05
           ]
          }
         ],
         "layout": {
          "title": {
           "text": " Model: 1.07*x - 0.08"
          }
         }
        },
        {
         "data": [
          {
           "fill": "toself",
           "fillcolor": "rgba(255,65,54,0.5)",
           "hoverinfo": "none",
           "mode": "none",
           "showlegend": false,
           "type": "scatter",
           "x": [
            1.05,
            1.05,
            0.026670031978273945,
            1.05
           ],
           "y": [
            1.0408922808986418,
            -0.05,
            -0.05,
            1.0408922808986418
           ]
          },
          {
           "fill": "toself",
           "fillcolor": "rgba(0,116,217,0.5)",
           "hoverinfo": "none",
           "mode": "none",
           "showlegend": false,
           "type": "scatter",
           "x": [
            0.026670031978273945,
            -0.05,
            -0.05,
            1.05,
            1.05,
            0.026670031978273945
           ],
           "y": [
            -0.05,
            -0.05,
            1.05,
            1.05,
            1.0408922808986418,
            -0.05
           ]
          }
         ],
         "layout": {
          "title": {
           "text": "Final Model: 1.07*x - 0.08"
          }
         }
        }
       ],
       "layout": {
        "height": 600,
        "template": {
         "data": {
          "bar": [
           {
            "error_x": {
             "color": "#2a3f5f"
            },
            "error_y": {
             "color": "#2a3f5f"
            },
            "marker": {
             "line": {
              "color": "#E5ECF6",
              "width": 0.5
             }
            },
            "type": "bar"
           }
          ],
          "barpolar": [
           {
            "marker": {
             "line": {
              "color": "#E5ECF6",
              "width": 0.5
             }
            },
            "type": "barpolar"
           }
          ],
          "carpet": [
           {
            "aaxis": {
             "endlinecolor": "#2a3f5f",
             "gridcolor": "white",
             "linecolor": "white",
             "minorgridcolor": "white",
             "startlinecolor": "#2a3f5f"
            },
            "baxis": {
             "endlinecolor": "#2a3f5f",
             "gridcolor": "white",
             "linecolor": "white",
             "minorgridcolor": "white",
             "startlinecolor": "#2a3f5f"
            },
            "type": "carpet"
           }
          ],
          "choropleth": [
           {
            "colorbar": {
             "outlinewidth": 0,
             "ticks": ""
            },
            "type": "choropleth"
           }
          ],
          "contour": [
           {
            "colorbar": {
             "outlinewidth": 0,
             "ticks": ""
            },
            "colorscale": [
             [
              0,
              "#0d0887"
             ],
             [
              0.1111111111111111,
              "#46039f"
             ],
             [
              0.2222222222222222,
              "#7201a8"
             ],
             [
              0.3333333333333333,
              "#9c179e"
             ],
             [
              0.4444444444444444,
              "#bd3786"
             ],
             [
              0.5555555555555556,
              "#d8576b"
             ],
             [
              0.6666666666666666,
              "#ed7953"
             ],
             [
              0.7777777777777778,
              "#fb9f3a"
             ],
             [
              0.8888888888888888,
              "#fdca26"
             ],
             [
              1,
              "#f0f921"
             ]
            ],
            "type": "contour"
           }
          ],
          "contourcarpet": [
           {
            "colorbar": {
             "outlinewidth": 0,
             "ticks": ""
            },
            "type": "contourcarpet"
           }
          ],
          "heatmap": [
           {
            "colorbar": {
             "outlinewidth": 0,
             "ticks": ""
            },
            "colorscale": [
             [
              0,
              "#0d0887"
             ],
             [
              0.1111111111111111,
              "#46039f"
             ],
             [
              0.2222222222222222,
              "#7201a8"
             ],
             [
              0.3333333333333333,
              "#9c179e"
             ],
             [
              0.4444444444444444,
              "#bd3786"
             ],
             [
              0.5555555555555556,
              "#d8576b"
             ],
             [
              0.6666666666666666,
              "#ed7953"
             ],
             [
              0.7777777777777778,
              "#fb9f3a"
             ],
             [
              0.8888888888888888,
              "#fdca26"
             ],
             [
              1,
              "#f0f921"
             ]
            ],
            "type": "heatmap"
           }
          ],
          "heatmapgl": [
           {
            "colorbar": {
             "outlinewidth": 0,
             "ticks": ""
            },
            "colorscale": [
             [
              0,
              "#0d0887"
             ],
             [
              0.1111111111111111,
              "#46039f"
             ],
             [
              0.2222222222222222,
              "#7201a8"
             ],
             [
              0.3333333333333333,
              "#9c179e"
             ],
             [
              0.4444444444444444,
              "#bd3786"
             ],
             [
              0.5555555555555556,
              "#d8576b"
             ],
             [
              0.6666666666666666,
              "#ed7953"
             ],
             [
              0.7777777777777778,
              "#fb9f3a"
             ],
             [
              0.8888888888888888,
              "#fdca26"
             ],
             [
              1,
              "#f0f921"
             ]
            ],
            "type": "heatmapgl"
           }
          ],
          "histogram": [
           {
            "marker": {
             "colorbar": {
              "outlinewidth": 0,
              "ticks": ""
             }
            },
            "type": "histogram"
           }
          ],
          "histogram2d": [
           {
            "colorbar": {
             "outlinewidth": 0,
             "ticks": ""
            },
            "colorscale": [
             [
              0,
              "#0d0887"
             ],
             [
              0.1111111111111111,
              "#46039f"
             ],
             [
              0.2222222222222222,
              "#7201a8"
             ],
             [
              0.3333333333333333,
              "#9c179e"
             ],
             [
              0.4444444444444444,
              "#bd3786"
             ],
             [
              0.5555555555555556,
              "#d8576b"
             ],
             [
              0.6666666666666666,
              "#ed7953"
             ],
             [
              0.7777777777777778,
              "#fb9f3a"
             ],
             [
              0.8888888888888888,
              "#fdca26"
             ],
             [
              1,
              "#f0f921"
             ]
            ],
            "type": "histogram2d"
           }
          ],
          "histogram2dcontour": [
           {
            "colorbar": {
             "outlinewidth": 0,
             "ticks": ""
            },
            "colorscale": [
             [
              0,
              "#0d0887"
             ],
             [
              0.1111111111111111,
              "#46039f"
             ],
             [
              0.2222222222222222,
              "#7201a8"
             ],
             [
              0.3333333333333333,
              "#9c179e"
             ],
             [
              0.4444444444444444,
              "#bd3786"
             ],
             [
              0.5555555555555556,
              "#d8576b"
             ],
             [
              0.6666666666666666,
              "#ed7953"
             ],
             [
              0.7777777777777778,
              "#fb9f3a"
             ],
             [
              0.8888888888888888,
              "#fdca26"
             ],
             [
              1,
              "#f0f921"
             ]
            ],
            "type": "histogram2dcontour"
           }
          ],
          "mesh3d": [
           {
            "colorbar": {
             "outlinewidth": 0,
             "ticks": ""
            },
            "type": "mesh3d"
           }
          ],
          "parcoords": [
           {
            "line": {
             "colorbar": {
              "outlinewidth": 0,
              "ticks": ""
             }
            },
            "type": "parcoords"
           }
          ],
          "scatter": [
           {
            "marker": {
             "colorbar": {
              "outlinewidth": 0,
              "ticks": ""
             }
            },
            "type": "scatter"
           }
          ],
          "scatter3d": [
           {
            "line": {
             "colorbar": {
              "outlinewidth": 0,
              "ticks": ""
             }
            },
            "marker": {
             "colorbar": {
              "outlinewidth": 0,
              "ticks": ""
             }
            },
            "type": "scatter3d"
           }
          ],
          "scattercarpet": [
           {
            "marker": {
             "colorbar": {
              "outlinewidth": 0,
              "ticks": ""
             }
            },
            "type": "scattercarpet"
           }
          ],
          "scattergeo": [
           {
            "marker": {
             "colorbar": {
              "outlinewidth": 0,
              "ticks": ""
             }
            },
            "type": "scattergeo"
           }
          ],
          "scattergl": [
           {
            "marker": {
             "colorbar": {
              "outlinewidth": 0,
              "ticks": ""
             }
            },
            "type": "scattergl"
           }
          ],
          "scattermapbox": [
           {
            "marker": {
             "colorbar": {
              "outlinewidth": 0,
              "ticks": ""
             }
            },
            "type": "scattermapbox"
           }
          ],
          "scatterpolar": [
           {
            "marker": {
             "colorbar": {
              "outlinewidth": 0,
              "ticks": ""
             }
            },
            "type": "scatterpolar"
           }
          ],
          "scatterpolargl": [
           {
            "marker": {
             "colorbar": {
              "outlinewidth": 0,
              "ticks": ""
             }
            },
            "type": "scatterpolargl"
           }
          ],
          "scatterternary": [
           {
            "marker": {
             "colorbar": {
              "outlinewidth": 0,
              "ticks": ""
             }
            },
            "type": "scatterternary"
           }
          ],
          "surface": [
           {
            "colorbar": {
             "outlinewidth": 0,
             "ticks": ""
            },
            "colorscale": [
             [
              0,
              "#0d0887"
             ],
             [
              0.1111111111111111,
              "#46039f"
             ],
             [
              0.2222222222222222,
              "#7201a8"
             ],
             [
              0.3333333333333333,
              "#9c179e"
             ],
             [
              0.4444444444444444,
              "#bd3786"
             ],
             [
              0.5555555555555556,
              "#d8576b"
             ],
             [
              0.6666666666666666,
              "#ed7953"
             ],
             [
              0.7777777777777778,
              "#fb9f3a"
             ],
             [
              0.8888888888888888,
              "#fdca26"
             ],
             [
              1,
              "#f0f921"
             ]
            ],
            "type": "surface"
           }
          ],
          "table": [
           {
            "cells": {
             "fill": {
              "color": "#EBF0F8"
             },
             "line": {
              "color": "white"
             }
            },
            "header": {
             "fill": {
              "color": "#C8D4E3"
             },
             "line": {
              "color": "white"
             }
            },
            "type": "table"
           }
          ]
         },
         "layout": {
          "annotationdefaults": {
           "arrowcolor": "#2a3f5f",
           "arrowhead": 0,
           "arrowwidth": 1
          },
          "colorscale": {
           "diverging": [
            [
             0,
             "#8e0152"
            ],
            [
             0.1,
             "#c51b7d"
            ],
            [
             0.2,
             "#de77ae"
            ],
            [
             0.3,
             "#f1b6da"
            ],
            [
             0.4,
             "#fde0ef"
            ],
            [
             0.5,
             "#f7f7f7"
            ],
            [
             0.6,
             "#e6f5d0"
            ],
            [
             0.7,
             "#b8e186"
            ],
            [
             0.8,
             "#7fbc41"
            ],
            [
             0.9,
             "#4d9221"
            ],
            [
             1,
             "#276419"
            ]
           ],
           "sequential": [
            [
             0,
             "#0d0887"
            ],
            [
             0.1111111111111111,
             "#46039f"
            ],
            [
             0.2222222222222222,
             "#7201a8"
            ],
            [
             0.3333333333333333,
             "#9c179e"
            ],
            [
             0.4444444444444444,
             "#bd3786"
            ],
            [
             0.5555555555555556,
             "#d8576b"
            ],
            [
             0.6666666666666666,
             "#ed7953"
            ],
            [
             0.7777777777777778,
             "#fb9f3a"
            ],
            [
             0.8888888888888888,
             "#fdca26"
            ],
            [
             1,
             "#f0f921"
            ]
           ],
           "sequentialminus": [
            [
             0,
             "#0d0887"
            ],
            [
             0.1111111111111111,
             "#46039f"
            ],
            [
             0.2222222222222222,
             "#7201a8"
            ],
            [
             0.3333333333333333,
             "#9c179e"
            ],
            [
             0.4444444444444444,
             "#bd3786"
            ],
            [
             0.5555555555555556,
             "#d8576b"
            ],
            [
             0.6666666666666666,
             "#ed7953"
            ],
            [
             0.7777777777777778,
             "#fb9f3a"
            ],
            [
             0.8888888888888888,
             "#fdca26"
            ],
            [
             1,
             "#f0f921"
            ]
           ]
          },
          "colorway": [
           "#636efa",
           "#EF553B",
           "#00cc96",
           "#ab63fa",
           "#FFA15A",
           "#19d3f3",
           "#FF6692",
           "#B6E880",
           "#FF97FF",
           "#FECB52"
          ],
          "font": {
           "color": "#2a3f5f"
          },
          "geo": {
           "bgcolor": "white",
           "lakecolor": "white",
           "landcolor": "#E5ECF6",
           "showlakes": true,
           "showland": true,
           "subunitcolor": "white"
          },
          "hoverlabel": {
           "align": "left"
          },
          "hovermode": "closest",
          "mapbox": {
           "style": "light"
          },
          "paper_bgcolor": "white",
          "plot_bgcolor": "#E5ECF6",
          "polar": {
           "angularaxis": {
            "gridcolor": "white",
            "linecolor": "white",
            "ticks": ""
           },
           "bgcolor": "#E5ECF6",
           "radialaxis": {
            "gridcolor": "white",
            "linecolor": "white",
            "ticks": ""
           }
          },
          "scene": {
           "xaxis": {
            "backgroundcolor": "#E5ECF6",
            "gridcolor": "white",
            "gridwidth": 2,
            "linecolor": "white",
            "showbackground": true,
            "ticks": "",
            "zerolinecolor": "white"
           },
           "yaxis": {
            "backgroundcolor": "#E5ECF6",
            "gridcolor": "white",
            "gridwidth": 2,
            "linecolor": "white",
            "showbackground": true,
            "ticks": "",
            "zerolinecolor": "white"
           },
           "zaxis": {
            "backgroundcolor": "#E5ECF6",
            "gridcolor": "white",
            "gridwidth": 2,
            "linecolor": "white",
            "showbackground": true,
            "ticks": "",
            "zerolinecolor": "white"
           }
          },
          "shapedefaults": {
           "line": {
            "color": "#2a3f5f"
           }
          },
          "ternary": {
           "aaxis": {
            "gridcolor": "white",
            "linecolor": "white",
            "ticks": ""
           },
           "baxis": {
            "gridcolor": "white",
            "linecolor": "white",
            "ticks": ""
           },
           "bgcolor": "#E5ECF6",
           "caxis": {
            "gridcolor": "white",
            "linecolor": "white",
            "ticks": ""
           }
          },
          "title": {
           "x": 0.05
          },
          "xaxis": {
           "automargin": true,
           "gridcolor": "white",
           "linecolor": "white",
           "ticks": "",
           "zerolinecolor": "white",
           "zerolinewidth": 2
          },
          "yaxis": {
           "automargin": true,
           "gridcolor": "white",
           "linecolor": "white",
           "ticks": "",
           "zerolinecolor": "white",
           "zerolinewidth": 2
          }
         }
        },
        "title": {
         "text": "Final Model: 1.07*x - 0.08"
        },
        "updatemenus": [
         {
          "active": 0,
          "buttons": [
           {
            "args": [
             null
            ],
            "label": "Play",
            "method": "animate"
           }
          ],
          "type": "buttons"
         }
        ],
        "width": 800,
        "xaxis": {
         "autorange": true,
         "range": [
          -0.0693444143897574,
          1.0683404185116363
         ],
         "title": {
          "text": "width"
         },
         "type": "linear"
        },
        "yaxis": {
         "autorange": true,
         "range": [
          -0.11111111111111112,
          1.1111111111111112
         ],
         "title": {
          "text": "height"
         },
         "type": "linear"
        }
       }
      },
      "image/png": "[encoded data removed]",
      "text/html": [
       "<div>\n",
       "        \n",
       "        \n",
       "            <div id=\"7d1ec932-ec6b-43eb-8dbb-7e6b2ace87d9\" class=\"plotly-graph-div\" style=\"height:600px; width:800px;\"></div>\n",
       "            <script type=\"text/javascript\">\n",
       "                require([\"plotly\"], function(Plotly) {\n",
       "                    window.PLOTLYENV=window.PLOTLYENV || {};\n",
       "                    \n",
       "                if (document.getElementById(\"7d1ec932-ec6b-43eb-8dbb-7e6b2ace87d9\")) {\n",
       "                    Plotly.newPlot(\n",
       "                        '7d1ec932-ec6b-43eb-8dbb-7e6b2ace87d9',\n",
       "                        [{\"fill\": \"toself\", \"fillcolor\": \"rgba(255,65,54,0.5)\", \"hoverinfo\": \"none\", \"mode\": \"none\", \"showlegend\": false, \"type\": \"scatter\", \"x\": [], \"y\": []}, {\"fill\": \"toself\", \"fillcolor\": \"rgba(0,116,217,0.5)\", \"hoverinfo\": \"none\", \"mode\": \"none\", \"showlegend\": false, \"type\": \"scatter\", \"x\": [], \"y\": []}, {\"marker\": {\"color\": \"black\"}, \"mode\": \"lines\", \"showlegend\": false, \"type\": \"scatter\", \"x\": [], \"y\": []}, {\"marker\": {\"color\": \"rgba(255,65,54,1.0)\", \"line\": {\"width\": 1}, \"size\": 10}, \"mode\": \"markers\", \"name\": \"Wide rectangle\", \"type\": \"scatter\", \"x\": [0.2812887540496203, 0.5702107354258529, 0.17688833314791685, 0.9549991191699863, 0.5931177765331715, 0.8576662403275052, 0.7619975094808533, 0.5164574583599658, 0.5368853923246178, 0.5771399482568865, 0.8332198315123475, 0.829341118751743, 0.2975189544609159, 0.2617713944150247, 0.9098997095105842, 0.5995522241984071, 0.3400587868721191, 0.44387625166363776, 0.6717957869798671, 0.786929515526745, 0.6650845463850065, 0.7636260227731313, 0.4847203668982656, 0.9581076115049326, 0.8560202326849297, 0.7447927045241107, 0.814315186462597, 0.9786047149304193, 0.7823214824509481, 0.9720720702423131, 0.6605030340894157, 0.989192493415283, 0.7326238096801605, 0.7829264255541929, 0.7467537670122997, 0.9985747815665055, 0.9883925982290815, 0.643836411694382, 0.3699661449849363, 0.8340806293290354, 0.9309059903043545, 0.899908247818887], \"y\": [0.20481054754241546, 0.1280140165441106, 0.14663043850853175, 0.8089458907658468, 0.23159366939537274, 0.034118882752503854, 0.33661527271062097, 0.4389758271508051, 0.33583101908570967, 0.22678850305445308, 0.3604555313123997, 0.10927251130330684, 0.05013060362147159, 0.22347631218283392, 0.6026470028388382, 0.40739623873233066, 0.2614321118187508, 0.062398383139566915, 0.5206679773556969, 0.4435841482037395, 0.144996082339513, 0.07359953902965499, 0.15715132890286032, 0.22788857588959954, 0.3356607036105411, 0.18735352787472848, 0.3293211474623188, 0.7164339981122835, 0.5204362508482172, 0.544989944488461, 0.3420204091614677, 0.5736862840927766, 0.21045972525672085, 0.10691912964801897, 0.6610744989815245, 0.8492017485005667, 0.9647196176416264, 0.1952498914080424, 0.22443755786035646, 0.6503761422506433, 0.6640149202748419, 0.7426655369594949]}, {\"marker\": {\"color\": \"rgba(0,116,217,1.0)\", \"line\": {\"width\": 1}, \"size\": 10}, \"mode\": \"markers\", \"name\": \"Tall rectangle\", \"type\": \"scatter\", \"x\": [0.21861430139613258, 0.1462271671553651, 0.09919439838824307, 0.43095057065878906, 0.2681037986794108, 0.2622071558651652, 0.4924294371590938, 0.7120640375987929, 0.15718342910660232, 0.7905290802799344, 0.47370250393955116, 0.5847981473374774, 0.12950325846606325, 0.13512416852177755, 0.3424640637660723, 0.4874065996930024, 0.04756979300092412, 0.12126117635771261, 0.1586070245446496, 0.2218037624131849, 0.34935967640336574, 0.8377425375448793, 0.14554809569368277, 0.403718712490719, 0.06837074902154494, 0.8488449593071189, 0.2996537018171911, 0.453469654922492, 0.355430841254892, 0.2945742404716203, 0.047608516246089194, 0.046238434013541, 0.0004212225553733573, 0.8827053505109836, 0.42115154002340505, 0.06907034770122145, 0.38019331787650157, 0.06901683874365994, 0.24581603623359183, 0.10370487157574271, 0.42398555126914317, 0.40710060631477374, 0.2860363046871599, 0.04969422027223036, 0.27269350588974717, 0.6348950490553366, 0.7869018660377732, 0.2812137543962864, 0.10131084328024598, 0.3198125953246076, 0.6076833511399893, 0.15783704978051616, 0.007625920118182639, 0.29357559715593073, 0.07318684239590745, 0.1444909250664015, 0.034416481489993433, 0.7701642733919368], \"y\": [0.4323912518753156, 0.2461018079438475, 0.9839731420104754, 0.43291878690739083, 0.3974129274391267, 0.6049939965517875, 0.8364278363780413, 0.7823334594440398, 0.2713203059480218, 0.8365140776103449, 0.7408574177863047, 0.8447701020427167, 0.6584111297111829, 0.8608971081277547, 0.8251769664180374, 0.793127955459958, 0.9691233961765078, 0.6058486857643591, 0.1682178788488633, 0.36444990178135384, 0.7572637571868807, 0.906996737206135, 0.6540511196823492, 0.6748614861043353, 0.3596094053012717, 0.9553857914900854, 0.46869588972188725, 0.6201976741345795, 0.50522047053154, 0.6696094994138071, 0.8990818926879854, 0.27419109782154216, 0.32924037564642095, 0.9397938847449298, 0.6809795341666557, 0.1906447340503007, 0.8603205169458886, 0.3898001566305721, 0.6821549333027701, 0.31231547954723327, 0.9133685919864336, 0.46558126549313894, 0.6884519380753136, 0.7529189605059041, 0.8147811501613034, 0.7189096493252076, 0.9257262457188837, 0.8294966275338267, 0.7485898417577412, 0.6733497727822022, 0.6941780073932672, 0.1849570451627328, 0.6619774913674835, 0.6632264919358987, 0.17856962638584528, 0.5871584056782954, 0.9977993666132777, 0.9088390192795506]}],\n",
       "                        {\"height\": 600, \"template\": {\"data\": {\"bar\": [{\"error_x\": {\"color\": \"#2a3f5f\"}, \"error_y\": {\"color\": \"#2a3f5f\"}, \"marker\": {\"line\": {\"color\": \"#E5ECF6\", \"width\": 0.5}}, \"type\": \"bar\"}], \"barpolar\": [{\"marker\": {\"line\": {\"color\": \"#E5ECF6\", \"width\": 0.5}}, \"type\": \"barpolar\"}], \"carpet\": [{\"aaxis\": {\"endlinecolor\": \"#2a3f5f\", \"gridcolor\": \"white\", \"linecolor\": \"white\", \"minorgridcolor\": \"white\", \"startlinecolor\": \"#2a3f5f\"}, \"baxis\": {\"endlinecolor\": \"#2a3f5f\", \"gridcolor\": \"white\", \"linecolor\": \"white\", \"minorgridcolor\": \"white\", \"startlinecolor\": \"#2a3f5f\"}, \"type\": \"carpet\"}], \"choropleth\": [{\"colorbar\": {\"outlinewidth\": 0, \"ticks\": \"\"}, \"type\": \"choropleth\"}], \"contour\": [{\"colorbar\": {\"outlinewidth\": 0, \"ticks\": \"\"}, \"colorscale\": [[0.0, \"#0d0887\"], [0.1111111111111111, \"#46039f\"], [0.2222222222222222, \"#7201a8\"], [0.3333333333333333, \"#9c179e\"], [0.4444444444444444, \"#bd3786\"], [0.5555555555555556, \"#d8576b\"], [0.6666666666666666, \"#ed7953\"], [0.7777777777777778, \"#fb9f3a\"], [0.8888888888888888, \"#fdca26\"], [1.0, \"#f0f921\"]], \"type\": \"contour\"}], \"contourcarpet\": [{\"colorbar\": {\"outlinewidth\": 0, \"ticks\": \"\"}, \"type\": \"contourcarpet\"}], \"heatmap\": [{\"colorbar\": {\"outlinewidth\": 0, \"ticks\": \"\"}, \"colorscale\": [[0.0, \"#0d0887\"], [0.1111111111111111, \"#46039f\"], [0.2222222222222222, \"#7201a8\"], [0.3333333333333333, \"#9c179e\"], [0.4444444444444444, \"#bd3786\"], [0.5555555555555556, \"#d8576b\"], [0.6666666666666666, \"#ed7953\"], [0.7777777777777778, \"#fb9f3a\"], [0.8888888888888888, \"#fdca26\"], [1.0, \"#f0f921\"]], \"type\": \"heatmap\"}], \"heatmapgl\": [{\"colorbar\": {\"outlinewidth\": 0, \"ticks\": \"\"}, \"colorscale\": [[0.0, \"#0d0887\"], [0.1111111111111111, \"#46039f\"], [0.2222222222222222, \"#7201a8\"], [0.3333333333333333, \"#9c179e\"], [0.4444444444444444, \"#bd3786\"], [0.5555555555555556, \"#d8576b\"], [0.6666666666666666, \"#ed7953\"], [0.7777777777777778, \"#fb9f3a\"], [0.8888888888888888, \"#fdca26\"], [1.0, \"#f0f921\"]], \"type\": \"heatmapgl\"}], \"histogram\": [{\"marker\": {\"colorbar\": {\"outlinewidth\": 0, \"ticks\": \"\"}}, \"type\": \"histogram\"}], \"histogram2d\": [{\"colorbar\": {\"outlinewidth\": 0, \"ticks\": \"\"}, \"colorscale\": [[0.0, \"#0d0887\"], [0.1111111111111111, \"#46039f\"], [0.2222222222222222, \"#7201a8\"], [0.3333333333333333, \"#9c179e\"], [0.4444444444444444, \"#bd3786\"], [0.5555555555555556, \"#d8576b\"], [0.6666666666666666, \"#ed7953\"], [0.7777777777777778, \"#fb9f3a\"], [0.8888888888888888, \"#fdca26\"], [1.0, \"#f0f921\"]], \"type\": \"histogram2d\"}], \"histogram2dcontour\": [{\"colorbar\": {\"outlinewidth\": 0, \"ticks\": \"\"}, \"colorscale\": [[0.0, \"#0d0887\"], [0.1111111111111111, \"#46039f\"], [0.2222222222222222, \"#7201a8\"], [0.3333333333333333, \"#9c179e\"], [0.4444444444444444, \"#bd3786\"], [0.5555555555555556, \"#d8576b\"], [0.6666666666666666, \"#ed7953\"], [0.7777777777777778, \"#fb9f3a\"], [0.8888888888888888, \"#fdca26\"], [1.0, \"#f0f921\"]], \"type\": \"histogram2dcontour\"}], \"mesh3d\": [{\"colorbar\": {\"outlinewidth\": 0, \"ticks\": \"\"}, \"type\": \"mesh3d\"}], \"parcoords\": [{\"line\": {\"colorbar\": {\"outlinewidth\": 0, \"ticks\": \"\"}}, \"type\": \"parcoords\"}], \"scatter\": [{\"marker\": {\"colorbar\": {\"outlinewidth\": 0, \"ticks\": \"\"}}, \"type\": \"scatter\"}], \"scatter3d\": [{\"line\": {\"colorbar\": {\"outlinewidth\": 0, \"ticks\": \"\"}}, \"marker\": {\"colorbar\": {\"outlinewidth\": 0, \"ticks\": \"\"}}, \"type\": \"scatter3d\"}], \"scattercarpet\": [{\"marker\": {\"colorbar\": {\"outlinewidth\": 0, \"ticks\": \"\"}}, \"type\": \"scattercarpet\"}], \"scattergeo\": [{\"marker\": {\"colorbar\": {\"outlinewidth\": 0, \"ticks\": \"\"}}, \"type\": \"scattergeo\"}], \"scattergl\": [{\"marker\": {\"colorbar\": {\"outlinewidth\": 0, \"ticks\": \"\"}}, \"type\": \"scattergl\"}], \"scattermapbox\": [{\"marker\": {\"colorbar\": {\"outlinewidth\": 0, \"ticks\": \"\"}}, \"type\": \"scattermapbox\"}], \"scatterpolar\": [{\"marker\": {\"colorbar\": {\"outlinewidth\": 0, \"ticks\": \"\"}}, \"type\": \"scatterpolar\"}], \"scatterpolargl\": [{\"marker\": {\"colorbar\": {\"outlinewidth\": 0, \"ticks\": \"\"}}, \"type\": \"scatterpolargl\"}], \"scatterternary\": [{\"marker\": {\"colorbar\": {\"outlinewidth\": 0, \"ticks\": \"\"}}, \"type\": \"scatterternary\"}], \"surface\": [{\"colorbar\": {\"outlinewidth\": 0, \"ticks\": \"\"}, \"colorscale\": [[0.0, \"#0d0887\"], [0.1111111111111111, \"#46039f\"], [0.2222222222222222, \"#7201a8\"], [0.3333333333333333, \"#9c179e\"], [0.4444444444444444, \"#bd3786\"], [0.5555555555555556, \"#d8576b\"], [0.6666666666666666, \"#ed7953\"], [0.7777777777777778, \"#fb9f3a\"], [0.8888888888888888, \"#fdca26\"], [1.0, \"#f0f921\"]], \"type\": \"surface\"}], \"table\": [{\"cells\": {\"fill\": {\"color\": \"#EBF0F8\"}, \"line\": {\"color\": \"white\"}}, \"header\": {\"fill\": {\"color\": \"#C8D4E3\"}, \"line\": {\"color\": \"white\"}}, \"type\": \"table\"}]}, \"layout\": {\"annotationdefaults\": {\"arrowcolor\": \"#2a3f5f\", \"arrowhead\": 0, \"arrowwidth\": 1}, \"colorscale\": {\"diverging\": [[0, \"#8e0152\"], [0.1, \"#c51b7d\"], [0.2, \"#de77ae\"], [0.3, \"#f1b6da\"], [0.4, \"#fde0ef\"], [0.5, \"#f7f7f7\"], [0.6, \"#e6f5d0\"], [0.7, \"#b8e186\"], [0.8, \"#7fbc41\"], [0.9, \"#4d9221\"], [1, \"#276419\"]], \"sequential\": [[0.0, \"#0d0887\"], [0.1111111111111111, \"#46039f\"], [0.2222222222222222, \"#7201a8\"], [0.3333333333333333, \"#9c179e\"], [0.4444444444444444, \"#bd3786\"], [0.5555555555555556, \"#d8576b\"], [0.6666666666666666, \"#ed7953\"], [0.7777777777777778, \"#fb9f3a\"], [0.8888888888888888, \"#fdca26\"], [1.0, \"#f0f921\"]], \"sequentialminus\": [[0.0, \"#0d0887\"], [0.1111111111111111, \"#46039f\"], [0.2222222222222222, \"#7201a8\"], [0.3333333333333333, \"#9c179e\"], [0.4444444444444444, \"#bd3786\"], [0.5555555555555556, \"#d8576b\"], [0.6666666666666666, \"#ed7953\"], [0.7777777777777778, \"#fb9f3a\"], [0.8888888888888888, \"#fdca26\"], [1.0, \"#f0f921\"]]}, \"colorway\": [\"#636efa\", \"#EF553B\", \"#00cc96\", \"#ab63fa\", \"#FFA15A\", \"#19d3f3\", \"#FF6692\", \"#B6E880\", \"#FF97FF\", \"#FECB52\"], \"font\": {\"color\": \"#2a3f5f\"}, \"geo\": {\"bgcolor\": \"white\", \"lakecolor\": \"white\", \"landcolor\": \"#E5ECF6\", \"showlakes\": true, \"showland\": true, \"subunitcolor\": \"white\"}, \"hoverlabel\": {\"align\": \"left\"}, \"hovermode\": \"closest\", \"mapbox\": {\"style\": \"light\"}, \"paper_bgcolor\": \"white\", \"plot_bgcolor\": \"#E5ECF6\", \"polar\": {\"angularaxis\": {\"gridcolor\": \"white\", \"linecolor\": \"white\", \"ticks\": \"\"}, \"bgcolor\": \"#E5ECF6\", \"radialaxis\": {\"gridcolor\": \"white\", \"linecolor\": \"white\", \"ticks\": \"\"}}, \"scene\": {\"xaxis\": {\"backgroundcolor\": \"#E5ECF6\", \"gridcolor\": \"white\", \"gridwidth\": 2, \"linecolor\": \"white\", \"showbackground\": true, \"ticks\": \"\", \"zerolinecolor\": \"white\"}, \"yaxis\": {\"backgroundcolor\": \"#E5ECF6\", \"gridcolor\": \"white\", \"gridwidth\": 2, \"linecolor\": \"white\", \"showbackground\": true, \"ticks\": \"\", \"zerolinecolor\": \"white\"}, \"zaxis\": {\"backgroundcolor\": \"#E5ECF6\", \"gridcolor\": \"white\", \"gridwidth\": 2, \"linecolor\": \"white\", \"showbackground\": true, \"ticks\": \"\", \"zerolinecolor\": \"white\"}}, \"shapedefaults\": {\"line\": {\"color\": \"#2a3f5f\"}}, \"ternary\": {\"aaxis\": {\"gridcolor\": \"white\", \"linecolor\": \"white\", \"ticks\": \"\"}, \"baxis\": {\"gridcolor\": \"white\", \"linecolor\": \"white\", \"ticks\": \"\"}, \"bgcolor\": \"#E5ECF6\", \"caxis\": {\"gridcolor\": \"white\", \"linecolor\": \"white\", \"ticks\": \"\"}}, \"title\": {\"x\": 0.05}, \"xaxis\": {\"automargin\": true, \"gridcolor\": \"white\", \"linecolor\": \"white\", \"ticks\": \"\", \"zerolinecolor\": \"white\", \"zerolinewidth\": 2}, \"yaxis\": {\"automargin\": true, \"gridcolor\": \"white\", \"linecolor\": \"white\", \"ticks\": \"\", \"zerolinecolor\": \"white\", \"zerolinewidth\": 2}}}, \"updatemenus\": [{\"buttons\": [{\"args\": [null], \"label\": \"Play\", \"method\": \"animate\"}], \"type\": \"buttons\"}], \"width\": 800, \"xaxis\": {\"title\": {\"text\": \"width\"}}, \"yaxis\": {\"title\": {\"text\": \"height\"}}},\n",
       "                        {\"responsive\": true}\n",
       "                    ).then(function(){\n",
       "                            Plotly.addFrames('7d1ec932-ec6b-43eb-8dbb-7e6b2ace87d9', [{\"data\": [{\"fill\": \"toself\", \"fillcolor\": \"rgba(255,65,54,0.5)\", \"hoverinfo\": \"none\", \"mode\": \"none\", \"showlegend\": false, \"x\": [1.05, 1.05, -0.05, -0.05, 1.05], \"y\": [0.2419125997421065, -0.05, -0.05, 0.6553591314738695, 0.2419125997421065], \"type\": \"scatter\"}, {\"fill\": \"toself\", \"fillcolor\": \"rgba(0,116,217,0.5)\", \"hoverinfo\": \"none\", \"mode\": \"none\", \"showlegend\": false, \"x\": [-0.05, -0.05, 1.05, 1.05, -0.05], \"y\": [0.6553591314738695, 1.05, 1.05, 0.2419125997421065, 0.6553591314738695], \"type\": \"scatter\"}], \"layout\": {\"title\": {\"text\": \" Model: -0.38*x + 0.64\"}}}, {\"data\": [{\"fill\": \"toself\", \"fillcolor\": \"rgba(255,65,54,0.5)\", \"hoverinfo\": \"none\", \"mode\": \"none\", \"showlegend\": false, \"x\": [1.05, 1.05, -0.05, -0.05, 1.05], \"y\": [0.2614626865271777, -0.05, -0.05, 0.5140110785309757, 0.2614626865271777], \"type\": \"scatter\"}, {\"fill\": \"toself\", \"fillcolor\": \"rgba(0,116,217,0.5)\", \"hoverinfo\": \"none\", \"mode\": \"none\", \"showlegend\": false, \"x\": [-0.05, -0.05, 1.05, 1.05, -0.05], \"y\": [0.5140110785309757, 1.05, 1.05, 0.2614626865271777, 0.5140110785309757], \"type\": \"scatter\"}], \"layout\": {\"title\": {\"text\": \" Model: -0.23*x + 0.50\"}}}, {\"data\": [{\"fill\": \"toself\", \"fillcolor\": \"rgba(255,65,54,0.5)\", \"hoverinfo\": \"none\", \"mode\": \"none\", \"showlegend\": false, \"x\": [1.05, 1.05, -0.05, -0.05, 1.05], \"y\": [0.3192356654839383, -0.05, -0.05, 0.4169710745970063, 0.3192356654839383], \"type\": \"scatter\"}, {\"fill\": \"toself\", \"fillcolor\": \"rgba(0,116,217,0.5)\", \"hoverinfo\": \"none\", \"mode\": \"none\", \"showlegend\": false, \"x\": [-0.05, -0.05, 1.05, 1.05, -0.05], \"y\": [0.4169710745970063, 1.05, 1.05, 0.3192356654839383, 0.4169710745970063], \"type\": \"scatter\"}], \"layout\": {\"title\": {\"text\": \" Model: -0.09*x + 0.41\"}}}, {\"data\": [{\"fill\": \"toself\", \"fillcolor\": \"rgba(255,65,54,0.5)\", \"hoverinfo\": \"none\", \"mode\": \"none\", \"showlegend\": false, \"x\": [1.05, 1.05, -0.05, -0.05, 1.05], \"y\": [0.385843625245428, -0.05, -0.05, 0.35180389780313776, 0.385843625245428], \"type\": \"scatter\"}, {\"fill\": \"toself\", \"fillcolor\": \"rgba(0,116,217,0.5)\", \"hoverinfo\": \"none\", \"mode\": \"none\", \"showlegend\": false, \"x\": [-0.05, -0.05, 1.05, 1.05, -0.05], \"y\": [0.35180389780313776, 1.05, 1.05, 0.385843625245428, 0.35180389780313776], \"type\": \"scatter\"}], \"layout\": {\"title\": {\"text\": \" Model: 0.03*x + 0.35\"}}}, {\"data\": [{\"fill\": \"toself\", \"fillcolor\": \"rgba(255,65,54,0.5)\", \"hoverinfo\": \"none\", \"mode\": \"none\", \"showlegend\": false, \"x\": [1.05, 1.05, -0.05, -0.05, 1.05], \"y\": [0.45755575461958986, -0.05, -0.05, 0.2971871715464286, 0.45755575461958986], \"type\": \"scatter\"}, {\"fill\": \"toself\", \"fillcolor\": \"rgba(0,116,217,0.5)\", \"hoverinfo\": \"none\", \"mode\": \"none\", \"showlegend\": false, \"x\": [-0.05, -0.05, 1.05, 1.05, -0.05], \"y\": [0.2971871715464286, 1.05, 1.05, 0.45755575461958986, 0.2971871715464286], \"type\": \"scatter\"}], \"layout\": {\"title\": {\"text\": \" Model: 0.15*x + 0.30\"}}}, {\"data\": [{\"fill\": \"toself\", \"fillcolor\": \"rgba(255,65,54,0.5)\", \"hoverinfo\": \"none\", \"mode\": \"none\", \"showlegend\": false, \"x\": [1.05, 1.05, -0.05, -0.05, 1.05], \"y\": [0.5212237003065776, -0.05, -0.05, 0.25344480593740465, 0.5212237003065776], \"type\": \"scatter\"}, {\"fill\": \"toself\", \"fillcolor\": \"rgba(0,116,217,0.5)\", \"hoverinfo\": \"none\", \"mode\": \"none\", \"showlegend\": false, \"x\": [-0.05, -0.05, 1.05, 1.05, -0.05], \"y\": [0.25344480593740465, 1.05, 1.05, 0.5212237003065776, 0.25344480593740465], \"type\": \"scatter\"}], \"layout\": {\"title\": {\"text\": \" Model: 0.24*x + 0.27\"}}}, {\"data\": [{\"fill\": \"toself\", \"fillcolor\": \"rgba(255,65,54,0.5)\", \"hoverinfo\": \"none\", \"mode\": \"none\", \"showlegend\": false, \"x\": [1.05, 1.05, -0.05, -0.05, 1.05], \"y\": [0.581892024428361, -0.05, -0.05, 0.21270519702126398, 0.581892024428361], \"type\": \"scatter\"}, {\"fill\": \"toself\", \"fillcolor\": \"rgba(0,116,217,0.5)\", \"hoverinfo\": \"none\", \"mode\": \"none\", \"showlegend\": false, \"x\": [-0.05, -0.05, 1.05, 1.05, -0.05], \"y\": [0.21270519702126398, 1.05, 1.05, 0.581892024428361, 0.21270519702126398], \"type\": \"scatter\"}], \"layout\": {\"title\": {\"text\": \" Model: 0.34*x + 0.23\"}}}, {\"data\": [{\"fill\": \"toself\", \"fillcolor\": \"rgba(255,65,54,0.5)\", \"hoverinfo\": \"none\", \"mode\": \"none\", \"showlegend\": false, \"x\": [1.05, 1.05, -0.05, -0.05, 1.05], \"y\": [0.6331811906325456, -0.05, -0.05, 0.1777731659838239, 0.6331811906325456], \"type\": \"scatter\"}, {\"fill\": \"toself\", \"fillcolor\": \"rgba(0,116,217,0.5)\", \"hoverinfo\": \"none\", \"mode\": \"none\", \"showlegend\": false, \"x\": [-0.05, -0.05, 1.05, 1.05, -0.05], \"y\": [0.1777731659838239, 1.05, 1.05, 0.6331811906325456, 0.1777731659838239], \"type\": \"scatter\"}], \"layout\": {\"title\": {\"text\": \" Model: 0.41*x + 0.20\"}}}, {\"data\": [{\"fill\": \"toself\", \"fillcolor\": \"rgba(255,65,54,0.5)\", \"hoverinfo\": \"none\", \"mode\": \"none\", \"showlegend\": false, \"x\": [1.05, 1.05, -0.05, -0.05, 1.05], \"y\": [0.6807168529458983, -0.05, -0.05, 0.14445045465690287, 0.6807168529458983], \"type\": \"scatter\"}, {\"fill\": \"toself\", \"fillcolor\": \"rgba(0,116,217,0.5)\", \"hoverinfo\": \"none\", \"mode\": \"none\", \"showlegend\": false, \"x\": [-0.05, -0.05, 1.05, 1.05, -0.05], \"y\": [0.14445045465690287, 1.05, 1.05, 0.6807168529458983, 0.14445045465690287], \"type\": \"scatter\"}], \"layout\": {\"title\": {\"text\": \" Model: 0.49*x + 0.17\"}}}, {\"data\": [{\"fill\": \"toself\", \"fillcolor\": \"rgba(255,65,54,0.5)\", \"hoverinfo\": \"none\", \"mode\": \"none\", \"showlegend\": false, \"x\": [1.05, 1.05, -0.05, -0.05, 1.05], \"y\": [0.7241468372408106, -0.05, -0.05, 0.11295774417754798, 0.7241468372408106], \"type\": \"scatter\"}, {\"fill\": \"toself\", \"fillcolor\": \"rgba(0,116,217,0.5)\", \"hoverinfo\": \"none\", \"mode\": \"none\", \"showlegend\": false, \"x\": [-0.05, -0.05, 1.05, 1.05, -0.05], \"y\": [0.11295774417754798, 1.05, 1.05, 0.7241468372408106, 0.11295774417754798], \"type\": \"scatter\"}], \"layout\": {\"title\": {\"text\": \" Model: 0.56*x + 0.14\"}}}, {\"data\": [{\"fill\": \"toself\", \"fillcolor\": \"rgba(255,65,54,0.5)\", \"hoverinfo\": \"none\", \"mode\": \"none\", \"showlegend\": false, \"x\": [1.05, 1.05, -0.05, -0.05, 1.05], \"y\": [0.7606721145567656, -0.05, -0.05, 0.08559459466527998, 0.7606721145567656], \"type\": \"scatter\"}, {\"fill\": \"toself\", \"fillcolor\": \"rgba(0,116,217,0.5)\", \"hoverinfo\": \"none\", \"mode\": \"none\", \"showlegend\": false, \"x\": [-0.05, -0.05, 1.05, 1.05, -0.05], \"y\": [0.08559459466527998, 1.05, 1.05, 0.7606721145567656, 0.08559459466527998], \"type\": \"scatter\"}], \"layout\": {\"title\": {\"text\": \" Model: 0.61*x + 0.12\"}}}, {\"data\": [{\"fill\": \"toself\", \"fillcolor\": \"rgba(255,65,54,0.5)\", \"hoverinfo\": \"none\", \"mode\": \"none\", \"showlegend\": false, \"x\": [1.05, 1.05, -0.05, -0.05, 1.05], \"y\": [0.7941240415819202, -0.05, -0.05, 0.05978689430080547, 0.7941240415819202], \"type\": \"scatter\"}, {\"fill\": \"toself\", \"fillcolor\": \"rgba(0,116,217,0.5)\", \"hoverinfo\": \"none\", \"mode\": \"none\", \"showlegend\": false, \"x\": [-0.05, -0.05, 1.05, 1.05, -0.05], \"y\": [0.05978689430080547, 1.05, 1.05, 0.7941240415819202, 0.05978689430080547], \"type\": \"scatter\"}], \"layout\": {\"title\": {\"text\": \" Model: 0.67*x + 0.09\"}}}, {\"data\": [{\"fill\": \"toself\", \"fillcolor\": \"rgba(255,65,54,0.5)\", \"hoverinfo\": \"none\", \"mode\": \"none\", \"showlegend\": false, \"x\": [1.05, 1.05, -0.05, -0.05, 1.05], \"y\": [0.8245347274834341, -0.05, -0.05, 0.03568881087040431, 0.8245347274834341], \"type\": \"scatter\"}, {\"fill\": \"toself\", \"fillcolor\": \"rgba(0,116,217,0.5)\", \"hoverinfo\": \"none\", \"mode\": \"none\", \"showlegend\": false, \"x\": [-0.05, -0.05, 1.05, 1.05, -0.05], \"y\": [0.03568881087040431, 1.05, 1.05, 0.8245347274834341, 0.03568881087040431], \"type\": \"scatter\"}], \"layout\": {\"title\": {\"text\": \" Model: 0.72*x + 0.07\"}}}, {\"data\": [{\"fill\": \"toself\", \"fillcolor\": \"rgba(255,65,54,0.5)\", \"hoverinfo\": \"none\", \"mode\": \"none\", \"showlegend\": false, \"x\": [1.05, 1.05, -0.05, -0.05, 1.05], \"y\": [0.850322967924734, -0.05, -0.05, 0.01477631669248107, 0.850322967924734], \"type\": \"scatter\"}, {\"fill\": \"toself\", \"fillcolor\": \"rgba(0,116,217,0.5)\", \"hoverinfo\": \"none\", \"mode\": \"none\", \"showlegend\": false, \"x\": [-0.05, -0.05, 1.05, 1.05, -0.05], \"y\": [0.01477631669248107, 1.05, 1.05, 0.850322967924734, 0.01477631669248107], \"type\": \"scatter\"}], \"layout\": {\"title\": {\"text\": \" Model: 0.76*x + 0.05\"}}}, {\"data\": [{\"fill\": \"toself\", \"fillcolor\": \"rgba(255,65,54,0.5)\", \"hoverinfo\": \"none\", \"mode\": \"none\", \"showlegend\": false, \"x\": [1.05, 1.05, -0.05, -0.05, 1.05], \"y\": [0.8738527128933724, -0.05, -0.05, -0.00468082937692943, 0.8738527128933724], \"type\": \"scatter\"}, {\"fill\": \"toself\", \"fillcolor\": \"rgba(0,116,217,0.5)\", \"hoverinfo\": \"none\", \"mode\": \"none\", \"showlegend\": false, \"x\": [-0.05, -0.05, 1.05, 1.05, -0.05], \"y\": [-0.00468082937692943, 1.05, 1.05, 0.8738527128933724, -0.00468082937692943], \"type\": \"scatter\"}], \"layout\": {\"title\": {\"text\": \" Model: 0.80*x + 0.04\"}}}, {\"data\": [{\"fill\": \"toself\", \"fillcolor\": \"rgba(255,65,54,0.5)\", \"hoverinfo\": \"none\", \"mode\": \"none\", \"showlegend\": false, \"x\": [1.05, 1.05, -0.05, -0.05, 1.05], \"y\": [0.895187224237632, -0.05, -0.05, -0.022620825240255427, 0.895187224237632], \"type\": \"scatter\"}, {\"fill\": \"toself\", \"fillcolor\": \"rgba(0,116,217,0.5)\", \"hoverinfo\": \"none\", \"mode\": \"none\", \"showlegend\": false, \"x\": [-0.05, -0.05, 1.05, 1.05, -0.05], \"y\": [-0.022620825240255427, 1.05, 1.05, 0.895187224237632, -0.022620825240255427], \"type\": \"scatter\"}], \"layout\": {\"title\": {\"text\": \" Model: 0.83*x + 0.02\"}}}, {\"data\": [{\"fill\": \"toself\", \"fillcolor\": \"rgba(255,65,54,0.5)\", \"hoverinfo\": \"none\", \"mode\": \"none\", \"showlegend\": false, \"x\": [1.05, 1.05, -0.05, -0.05, 1.05], \"y\": [0.9144220971527907, -0.05, -0.05, -0.039021120588773314, 0.9144220971527907], \"type\": \"scatter\"}, {\"fill\": \"toself\", \"fillcolor\": \"rgba(0,116,217,0.5)\", \"hoverinfo\": \"none\", \"mode\": \"none\", \"showlegend\": false, \"x\": [-0.05, -0.05, 1.05, 1.05, -0.05], \"y\": [-0.039021120588773314, 1.05, 1.05, 0.9144220971527907, -0.039021120588773314], \"type\": \"scatter\"}], \"layout\": {\"title\": {\"text\": \" Model: 0.87*x + 0.00\"}}}, {\"data\": [{\"fill\": \"toself\", \"fillcolor\": \"rgba(255,65,54,0.5)\", \"hoverinfo\": \"none\", \"mode\": \"none\", \"showlegend\": false, \"x\": [1.05, 1.05, -0.04565749960468801, 1.05], \"y\": [0.9316733046583612, -0.05, -0.05, 0.9316733046583612], \"type\": \"scatter\"}, {\"fill\": \"toself\", \"fillcolor\": \"rgba(0,116,217,0.5)\", \"hoverinfo\": \"none\", \"mode\": \"none\", \"showlegend\": false, \"x\": [-0.04565749960468801, -0.05, -0.05, 1.05, 1.05, -0.04565749960468801], \"y\": [-0.05, -0.05, 1.05, 1.05, 0.9316733046583612, -0.05], \"type\": \"scatter\"}], \"layout\": {\"title\": {\"text\": \" Model: 0.90*x - 0.01\"}}}, {\"data\": [{\"fill\": \"toself\", \"fillcolor\": \"rgba(255,65,54,0.5)\", \"hoverinfo\": \"none\", \"mode\": \"none\", \"showlegend\": false, \"x\": [1.05, 1.05, -0.0312782805264733, 1.05], \"y\": [0.9470686517523368, -0.05, -0.05, 0.9470686517523368], \"type\": \"scatter\"}, {\"fill\": \"toself\", \"fillcolor\": \"rgba(0,116,217,0.5)\", \"hoverinfo\": \"none\", \"mode\": \"none\", \"showlegend\": false, \"x\": [-0.0312782805264733, -0.05, -0.05, 1.05, 1.05, -0.0312782805264733], \"y\": [-0.05, -0.05, 1.05, 1.05, 0.9470686517523368, -0.05], \"type\": \"scatter\"}], \"layout\": {\"title\": {\"text\": \" Model: 0.92*x - 0.02\"}}}, {\"data\": [{\"fill\": \"toself\", \"fillcolor\": \"rgba(255,65,54,0.5)\", \"hoverinfo\": \"none\", \"mode\": \"none\", \"showlegend\": false, \"x\": [1.05, 1.05, -0.01857892685607221, 1.05], \"y\": [0.9613662450308571, -0.05, -0.05, 0.9613662450308571], \"type\": \"scatter\"}, {\"fill\": \"toself\", \"fillcolor\": \"rgba(0,116,217,0.5)\", \"hoverinfo\": \"none\", \"mode\": \"none\", \"showlegend\": false, \"x\": [-0.01857892685607221, -0.05, -0.05, 1.05, 1.05, -0.01857892685607221], \"y\": [-0.05, -0.05, 1.05, 1.05, 0.9613662450308571, -0.05], \"type\": \"scatter\"}], \"layout\": {\"title\": {\"text\": \" Model: 0.95*x - 0.03\"}}}, {\"data\": [{\"fill\": \"toself\", \"fillcolor\": \"rgba(255,65,54,0.5)\", \"hoverinfo\": \"none\", \"mode\": \"none\", \"showlegend\": false, \"x\": [1.05, 1.05, -0.007985464722736757, 1.05], \"y\": [0.9738735380772705, -0.05, -0.05, 0.9738735380772705], \"type\": \"scatter\"}, {\"fill\": \"toself\", \"fillcolor\": \"rgba(0,116,217,0.5)\", \"hoverinfo\": \"none\", \"mode\": \"none\", \"showlegend\": false, \"x\": [-0.007985464722736757, -0.05, -0.05, 1.05, 1.05, -0.007985464722736757], \"y\": [-0.05, -0.05, 1.05, 1.05, 0.9738735380772705, -0.05], \"type\": \"scatter\"}], \"layout\": {\"title\": {\"text\": \" Model: 0.97*x - 0.04\"}}}, {\"data\": [{\"fill\": \"toself\", \"fillcolor\": \"rgba(255,65,54,0.5)\", \"hoverinfo\": \"none\", \"mode\": \"none\", \"showlegend\": false, \"x\": [1.05, 1.05, 0.000838665086945467, 1.05], \"y\": [0.9847702349861978, -0.05, -0.05, 0.9847702349861978], \"type\": \"scatter\"}, {\"fill\": \"toself\", \"fillcolor\": \"rgba(0,116,217,0.5)\", \"hoverinfo\": \"none\", \"mode\": \"none\", \"showlegend\": false, \"x\": [0.000838665086945467, -0.05, -0.05, 1.05, 1.05, 0.000838665086945467], \"y\": [-0.05, -0.05, 1.05, 1.05, 0.9847702349861978, -0.05], \"type\": \"scatter\"}], \"layout\": {\"title\": {\"text\": \" Model: 0.99*x - 0.05\"}}}, {\"data\": [{\"fill\": \"toself\", \"fillcolor\": \"rgba(255,65,54,0.5)\", \"hoverinfo\": \"none\", \"mode\": \"none\", \"showlegend\": false, \"x\": [1.05, 1.05, 0.008435642949646438, 1.05], \"y\": [0.9945802053136448, -0.05, -0.05, 0.9945802053136448], \"type\": \"scatter\"}, {\"fill\": \"toself\", \"fillcolor\": \"rgba(0,116,217,0.5)\", \"hoverinfo\": \"none\", \"mode\": \"none\", \"showlegend\": false, \"x\": [0.008435642949646438, -0.05, -0.05, 1.05, 1.05, 0.008435642949646438], \"y\": [-0.05, -0.05, 1.05, 1.05, 0.9945802053136448, -0.05], \"type\": \"scatter\"}], \"layout\": {\"title\": {\"text\": \" Model: 1.00*x - 0.06\"}}}, {\"data\": [{\"fill\": \"toself\", \"fillcolor\": \"rgba(255,65,54,0.5)\", \"hoverinfo\": \"none\", \"mode\": \"none\", \"showlegend\": false, \"x\": [1.05, 1.05, 0.01485249514098047, 1.05], \"y\": [1.0032662260041196, -0.05, -0.05, 1.0032662260041196], \"type\": \"scatter\"}, {\"fill\": \"toself\", \"fillcolor\": \"rgba(0,116,217,0.5)\", \"hoverinfo\": \"none\", \"mode\": \"none\", \"showlegend\": false, \"x\": [0.01485249514098047, -0.05, -0.05, 1.05, 1.05, 0.01485249514098047], \"y\": [-0.05, -0.05, 1.05, 1.05, 1.0032662260041196, -0.05], \"type\": \"scatter\"}], \"layout\": {\"title\": {\"text\": \" Model: 1.02*x - 0.07\"}}}, {\"data\": [{\"fill\": \"toself\", \"fillcolor\": \"rgba(255,65,54,0.5)\", \"hoverinfo\": \"none\", \"mode\": \"none\", \"showlegend\": false, \"x\": [1.05, 1.05, 0.020002006020374552, 1.05], \"y\": [1.0106018160759365, -0.05, -0.05, 1.0106018160759365], \"type\": \"scatter\"}, {\"fill\": \"toself\", \"fillcolor\": \"rgba(0,116,217,0.5)\", \"hoverinfo\": \"none\", \"mode\": \"none\", \"showlegend\": false, \"x\": [0.020002006020374552, -0.05, -0.05, 1.05, 1.05, 0.020002006020374552], \"y\": [-0.05, -0.05, 1.05, 1.05, 1.0106018160759365, -0.05], \"type\": \"scatter\"}], \"layout\": {\"title\": {\"text\": \" Model: 1.03*x - 0.07\"}}}, {\"data\": [{\"fill\": \"toself\", \"fillcolor\": \"rgba(255,65,54,0.5)\", \"hoverinfo\": \"none\", \"mode\": \"none\", \"showlegend\": false, \"x\": [1.05, 1.05, 0.024212396936506453, 1.05], \"y\": [1.0169581086771708, -0.05, -0.05, 1.0169581086771708], \"type\": \"scatter\"}, {\"fill\": \"toself\", \"fillcolor\": \"rgba(0,116,217,0.5)\", \"hoverinfo\": \"none\", \"mode\": \"none\", \"showlegend\": false, \"x\": [0.024212396936506453, -0.05, -0.05, 1.05, 1.05, 0.024212396936506453], \"y\": [-0.05, -0.05, 1.05, 1.05, 1.0169581086771708, -0.05], \"type\": \"scatter\"}], \"layout\": {\"title\": {\"text\": \" Model: 1.04*x - 0.08\"}}}, {\"data\": [{\"fill\": \"toself\", \"fillcolor\": \"rgba(255,65,54,0.5)\", \"hoverinfo\": \"none\", \"mode\": \"none\", \"showlegend\": false, \"x\": [1.05, 1.05, 0.027556897683479187, 1.05], \"y\": [1.0223791031428158, -0.05, -0.05, 1.0223791031428158], \"type\": \"scatter\"}, {\"fill\": \"toself\", \"fillcolor\": \"rgba(0,116,217,0.5)\", \"hoverinfo\": \"none\", \"mode\": \"none\", \"showlegend\": false, \"x\": [0.027556897683479187, -0.05, -0.05, 1.05, 1.05, 0.027556897683479187], \"y\": [-0.05, -0.05, 1.05, 1.05, 1.0223791031428158, -0.05], \"type\": \"scatter\"}], \"layout\": {\"title\": {\"text\": \" Model: 1.05*x - 0.08\"}}}, {\"data\": [{\"fill\": \"toself\", \"fillcolor\": \"rgba(255,65,54,0.5)\", \"hoverinfo\": \"none\", \"mode\": \"none\", \"showlegend\": false, \"x\": [1.05, 1.05, 0.030115321830417097, 1.05], \"y\": [1.0269276416187074, -0.05, -0.05, 1.0269276416187074], \"type\": \"scatter\"}, {\"fill\": \"toself\", \"fillcolor\": \"rgba(0,116,217,0.5)\", \"hoverinfo\": \"none\", \"mode\": \"none\", \"showlegend\": false, \"x\": [0.030115321830417097, -0.05, -0.05, 1.05, 1.05, 0.030115321830417097], \"y\": [-0.05, -0.05, 1.05, 1.05, 1.0269276416187074, -0.05], \"type\": \"scatter\"}], \"layout\": {\"title\": {\"text\": \" Model: 1.06*x - 0.08\"}}}, {\"data\": [{\"fill\": \"toself\", \"fillcolor\": \"rgba(255,65,54,0.5)\", \"hoverinfo\": \"none\", \"mode\": \"none\", \"showlegend\": false, \"x\": [1.05, 1.05, 0.031969586571121256, 1.05], \"y\": [1.0306783276816307, -0.05, -0.05, 1.0306783276816307], \"type\": \"scatter\"}, {\"fill\": \"toself\", \"fillcolor\": \"rgba(0,116,217,0.5)\", \"hoverinfo\": \"none\", \"mode\": \"none\", \"showlegend\": false, \"x\": [0.031969586571121256, -0.05, -0.05, 1.05, 1.05, 0.031969586571121256], \"y\": [-0.05, -0.05, 1.05, 1.05, 1.0306783276816307, -0.05], \"type\": \"scatter\"}], \"layout\": {\"title\": {\"text\": \" Model: 1.06*x - 0.08\"}}}, {\"data\": [{\"fill\": \"toself\", \"fillcolor\": \"rgba(255,65,54,0.5)\", \"hoverinfo\": \"none\", \"mode\": \"none\", \"showlegend\": false, \"x\": [1.05, 1.05, 0.03320058977361284, 1.05], \"y\": [1.0337118185973724, -0.05, -0.05, 1.0337118185973724], \"type\": \"scatter\"}, {\"fill\": \"toself\", \"fillcolor\": \"rgba(0,116,217,0.5)\", \"hoverinfo\": \"none\", \"mode\": \"none\", \"showlegend\": false, \"x\": [0.03320058977361284, -0.05, -0.05, 1.05, 1.05, 0.03320058977361284], \"y\": [-0.05, -0.05, 1.05, 1.05, 1.0337118185973724, -0.05], \"type\": \"scatter\"}], \"layout\": {\"title\": {\"text\": \" Model: 1.07*x - 0.09\"}}}, {\"data\": [{\"fill\": \"toself\", \"fillcolor\": \"rgba(255,65,54,0.5)\", \"hoverinfo\": \"none\", \"mode\": \"none\", \"showlegend\": false, \"x\": [1.05, 1.05, 0.03389662999660997, 1.05], \"y\": [1.0361616329869479, -0.05, -0.05, 1.0361616329869479], \"type\": \"scatter\"}, {\"fill\": \"toself\", \"fillcolor\": \"rgba(0,116,217,0.5)\", \"hoverinfo\": \"none\", \"mode\": \"none\", \"showlegend\": false, \"x\": [0.03389662999660997, -0.05, -0.05, 1.05, 1.05, 0.03389662999660997], \"y\": [-0.05, -0.05, 1.05, 1.05, 1.0361616329869479, -0.05], \"type\": \"scatter\"}], \"layout\": {\"title\": {\"text\": \" Model: 1.07*x - 0.09\"}}}, {\"data\": [{\"fill\": \"toself\", \"fillcolor\": \"rgba(255,65,54,0.5)\", \"hoverinfo\": \"none\", \"mode\": \"none\", \"showlegend\": false, \"x\": [1.05, 1.05, 0.034098991240635645, 1.05], \"y\": [1.0380282512173782, -0.05, -0.05, 1.0380282512173782], \"type\": \"scatter\"}, {\"fill\": \"toself\", \"fillcolor\": \"rgba(0,116,217,0.5)\", \"hoverinfo\": \"none\", \"mode\": \"none\", \"showlegend\": false, \"x\": [0.034098991240635645, -0.05, -0.05, 1.05, 1.05, 0.034098991240635645], \"y\": [-0.05, -0.05, 1.05, 1.05, 1.0380282512173782, -0.05], \"type\": \"scatter\"}], \"layout\": {\"title\": {\"text\": \" Model: 1.07*x - 0.09\"}}}, {\"data\": [{\"fill\": \"toself\", \"fillcolor\": \"rgba(255,65,54,0.5)\", \"hoverinfo\": \"none\", \"mode\": \"none\", \"showlegend\": false, \"x\": [1.05, 1.05, 0.03387417599589432, 1.05], \"y\": [1.0394221738014096, -0.05, -0.05, 1.0394221738014096], \"type\": \"scatter\"}, {\"fill\": \"toself\", \"fillcolor\": \"rgba(0,116,217,0.5)\", \"hoverinfo\": \"none\", \"mode\": \"none\", \"showlegend\": false, \"x\": [0.03387417599589432, -0.05, -0.05, 1.05, 1.05, 0.03387417599589432], \"y\": [-0.05, -0.05, 1.05, 1.05, 1.0394221738014096, -0.05], \"type\": \"scatter\"}], \"layout\": {\"title\": {\"text\": \" Model: 1.07*x - 0.09\"}}}, {\"data\": [{\"fill\": \"toself\", \"fillcolor\": \"rgba(255,65,54,0.5)\", \"hoverinfo\": \"none\", \"mode\": \"none\", \"showlegend\": false, \"x\": [1.05, 1.05, 0.03328616367611009, 1.05], \"y\": [1.0403785710302975, -0.05, -0.05, 1.0403785710302975], \"type\": \"scatter\"}, {\"fill\": \"toself\", \"fillcolor\": \"rgba(0,116,217,0.5)\", \"hoverinfo\": \"none\", \"mode\": \"none\", \"showlegend\": false, \"x\": [0.03328616367611009, -0.05, -0.05, 1.05, 1.05, 0.03328616367611009], \"y\": [-0.05, -0.05, 1.05, 1.05, 1.0403785710302975, -0.05], \"type\": \"scatter\"}], \"layout\": {\"title\": {\"text\": \" Model: 1.07*x - 0.09\"}}}, {\"data\": [{\"fill\": \"toself\", \"fillcolor\": \"rgba(255,65,54,0.5)\", \"hoverinfo\": \"none\", \"mode\": \"none\", \"showlegend\": false, \"x\": [1.05, 1.05, 0.03238053768068466, 1.05], \"y\": [1.0409823095995505, -0.05, -0.05, 1.0409823095995505], \"type\": \"scatter\"}, {\"fill\": \"toself\", \"fillcolor\": \"rgba(0,116,217,0.5)\", \"hoverinfo\": \"none\", \"mode\": \"none\", \"showlegend\": false, \"x\": [0.03238053768068466, -0.05, -0.05, 1.05, 1.05, 0.03238053768068466], \"y\": [-0.05, -0.05, 1.05, 1.05, 1.0409823095995505, -0.05], \"type\": \"scatter\"}], \"layout\": {\"title\": {\"text\": \" Model: 1.07*x - 0.08\"}}}, {\"data\": [{\"fill\": \"toself\", \"fillcolor\": \"rgba(255,65,54,0.5)\", \"hoverinfo\": \"none\", \"mode\": \"none\", \"showlegend\": false, \"x\": [1.05, 1.05, 0.03120456567604979, 1.05], \"y\": [1.041283898192246, -0.05, -0.05, 1.041283898192246], \"type\": \"scatter\"}, {\"fill\": \"toself\", \"fillcolor\": \"rgba(0,116,217,0.5)\", \"hoverinfo\": \"none\", \"mode\": \"none\", \"showlegend\": false, \"x\": [0.03120456567604979, -0.05, -0.05, 1.05, 1.05, 0.03120456567604979], \"y\": [-0.05, -0.05, 1.05, 1.05, 1.041283898192246, -0.05], \"type\": \"scatter\"}], \"layout\": {\"title\": {\"text\": \" Model: 1.07*x - 0.08\"}}}, {\"data\": [{\"fill\": \"toself\", \"fillcolor\": \"rgba(255,65,54,0.5)\", \"hoverinfo\": \"none\", \"mode\": \"none\", \"showlegend\": false, \"x\": [1.05, 1.05, 0.029804582939335966, 1.05], \"y\": [1.0413329713066437, -0.05, -0.05, 1.0413329713066437], \"type\": \"scatter\"}, {\"fill\": \"toself\", \"fillcolor\": \"rgba(0,116,217,0.5)\", \"hoverinfo\": \"none\", \"mode\": \"none\", \"showlegend\": false, \"x\": [0.029804582939335966, -0.05, -0.05, 1.05, 1.05, 0.029804582939335966], \"y\": [-0.05, -0.05, 1.05, 1.05, 1.0413329713066437, -0.05], \"type\": \"scatter\"}], \"layout\": {\"title\": {\"text\": \" Model: 1.07*x - 0.08\"}}}, {\"data\": [{\"fill\": \"toself\", \"fillcolor\": \"rgba(255,65,54,0.5)\", \"hoverinfo\": \"none\", \"mode\": \"none\", \"showlegend\": false, \"x\": [1.05, 1.05, 0.028224503210797502, 1.05], \"y\": [1.0411763200218906, -0.05, -0.05, 1.0411763200218906], \"type\": \"scatter\"}, {\"fill\": \"toself\", \"fillcolor\": \"rgba(0,116,217,0.5)\", \"hoverinfo\": \"none\", \"mode\": \"none\", \"showlegend\": false, \"x\": [0.028224503210797502, -0.05, -0.05, 1.05, 1.05, 0.028224503210797502], \"y\": [-0.05, -0.05, 1.05, 1.05, 1.0411763200218906, -0.05], \"type\": \"scatter\"}], \"layout\": {\"title\": {\"text\": \" Model: 1.07*x - 0.08\"}}}, {\"data\": [{\"fill\": \"toself\", \"fillcolor\": \"rgba(255,65,54,0.5)\", \"hoverinfo\": \"none\", \"mode\": \"none\", \"showlegend\": false, \"x\": [1.05, 1.05, 0.026670031978273945, 1.05], \"y\": [1.0408922808986418, -0.05, -0.05, 1.0408922808986418], \"type\": \"scatter\"}, {\"fill\": \"toself\", \"fillcolor\": \"rgba(0,116,217,0.5)\", \"hoverinfo\": \"none\", \"mode\": \"none\", \"showlegend\": false, \"x\": [0.026670031978273945, -0.05, -0.05, 1.05, 1.05, 0.026670031978273945], \"y\": [-0.05, -0.05, 1.05, 1.05, 1.0408922808986418, -0.05], \"type\": \"scatter\"}], \"layout\": {\"title\": {\"text\": \"Final Model: 1.07*x - 0.08\"}}}]);\n",
       "                        }).then(function(){\n",
       "                            \n",
       "var gd = document.getElementById('7d1ec932-ec6b-43eb-8dbb-7e6b2ace87d9');\n",
       "var x = new MutationObserver(function (mutations, observer) {{\n",
       "        var display = window.getComputedStyle(gd).display;\n",
       "        if (!display || display === 'none') {{\n",
       "            console.log([gd, 'removed!']);\n",
       "            Plotly.purge(gd);\n",
       "            observer.disconnect();\n",
       "        }}\n",
       "}});\n",
       "\n",
       "// Listen for the removal of the full notebook cells\n",
       "var notebookContainer = gd.closest('#notebook-container');\n",
       "if (notebookContainer) {{\n",
       "    x.observe(notebookContainer, {childList: true});\n",
       "}}\n",
       "\n",
       "// Listen for the clearing of the current output cell\n",
       "var outputEl = gd.closest('.output');\n",
       "if (outputEl) {{\n",
       "    x.observe(outputEl, {childList: true});\n",
       "}}\n",
       "\n",
       "                        })\n",
       "                };\n",
       "                });\n",
       "            </script>\n",
       "        </div>"
      ]
     },
     "metadata": {},
     "output_type": "display_data"
    }
   ],
   "source": [
    "gradient_descent_animation((0, 1), (0, 1), w_real=[1, -1, 0], w_initial=[-0.5, -1, 0.8], lr=1, layout=layout, class_names=class_names, inv_class_names_for_plot=True)"
   ]
  },
  {
   "cell_type": "markdown",
   "metadata": {
    "slideshow": {
     "slide_type": "subslide"
    }
   },
   "source": [
    "# Ikke-veiledet læring"
   ]
  },
  {
   "cell_type": "markdown",
   "metadata": {},
   "source": [
    "# Skaffe data\n",
    "\n",
    "- Wikipedia\n",
    "- Twitter\n",
    "- Nyheter"
   ]
  },
  {
   "cell_type": "markdown",
   "metadata": {
    "slideshow": {
     "slide_type": "subslide"
    }
   },
   "source": [
    "# Wikiextractor"
   ]
  },
  {
   "cell_type": "markdown",
   "metadata": {
    "slideshow": {
     "slide_type": "subslide"
    }
   },
   "source": [
    "# BeautifulSoup"
   ]
  },
  {
   "cell_type": "markdown",
   "metadata": {
    "slideshow": {
     "slide_type": "slide"
    }
   },
   "source": [
    "# Fra tekst til tall\n",
    "\n",
    "- Alle maskinlæringsmodeller bruker matematikk/statistikk for å finne optimal konfigurasjon\n",
    "- For å kunne bruke maskinlæring for NLP er vi derfor nødt til å konvertere tekstene til tall\n",
    "- Mange måter å gjøre dette på:\n",
    "    - Bag-of-words (BOW)\n",
    "    - BOW + TF-IDF\n",
    "    - N-grams (+ TF-IDF)\n",
    "    - Char n-grams (+ TF-IDF)\n",
    "    - Word embeddings (word2vec, Glove, fastText)\n",
    "    - Document embeddings (doc2vec, min/max/mean pooling, RNN encoder)\n",
    "    - Contextualized word embeddings (ELMO, BERT, Flair)"
   ]
  },
  {
   "cell_type": "markdown",
   "metadata": {
    "slideshow": {
     "slide_type": "subslide"
    }
   },
   "source": [
    "## Bag-of-words (BOW)\n",
    "\n",
    "- Tell antall forekomster av hvert enkelt ord, og lag én kolonne per ord\n",
    "- Hva er et ord? Standard definisjon er som regel \"en sammenhengende sekvens av alfanumeriske (a-z, 0-9, _) karakterer\""
   ]
  },
  {
   "cell_type": "code",
   "execution_count": 202,
   "metadata": {},
   "outputs": [
    {
     "data": {
      "text/html": [
       "<div>\n",
       "<style scoped>\n",
       "    .dataframe tbody tr th:only-of-type {\n",
       "        vertical-align: middle;\n",
       "    }\n",
       "\n",
       "    .dataframe tbody tr th {\n",
       "        vertical-align: top;\n",
       "    }\n",
       "\n",
       "    .dataframe thead th {\n",
       "        text-align: right;\n",
       "    }\n",
       "</style>\n",
       "<table border=\"1\" class=\"dataframe\">\n",
       "  <thead>\n",
       "    <tr style=\"text-align: right;\">\n",
       "      <th></th>\n",
       "      <th>dette</th>\n",
       "      <th>en</th>\n",
       "      <th>er</th>\n",
       "      <th>funker</th>\n",
       "      <th>håper</th>\n",
       "      <th>tekst</th>\n",
       "    </tr>\n",
       "  </thead>\n",
       "  <tbody>\n",
       "    <tr>\n",
       "      <th>0</th>\n",
       "      <td>1</td>\n",
       "      <td>1</td>\n",
       "      <td>1</td>\n",
       "      <td>0</td>\n",
       "      <td>0</td>\n",
       "      <td>1</td>\n",
       "    </tr>\n",
       "    <tr>\n",
       "      <th>1</th>\n",
       "      <td>1</td>\n",
       "      <td>0</td>\n",
       "      <td>0</td>\n",
       "      <td>1</td>\n",
       "      <td>1</td>\n",
       "      <td>0</td>\n",
       "    </tr>\n",
       "  </tbody>\n",
       "</table>\n",
       "</div>"
      ],
      "text/plain": [
       "   dette  en  er  funker  håper  tekst\n",
       "0      1   1   1       0      0      1\n",
       "1      1   0   0       1      1      0"
      ]
     },
     "execution_count": 202,
     "metadata": {},
     "output_type": "execute_result"
    }
   ],
   "source": [
    "from sklearn.feature_extraction.text import CountVectorizer\n",
    "import pandas as pd\n",
    "\n",
    "texts = [\"Dette er en tekst!\", \"håper dette funker :)\"]\n",
    "vec = CountVectorizer()\n",
    "texts_vec = vec.fit_transform(texts)\n",
    "pd.DataFrame(texts_vec.todense(), columns=vec.get_feature_names())"
   ]
  },
  {
   "cell_type": "code",
   "execution_count": 11,
   "metadata": {
    "slideshow": {
     "slide_type": "fragment"
    }
   },
   "outputs": [
    {
     "name": "stdout",
     "output_type": "stream",
     "text": [
      "  (0, 0)\t1\n",
      "  (0, 2)\t1\n",
      "  (0, 1)\t1\n",
      "  (0, 5)\t1\n",
      "  (1, 0)\t1\n",
      "  (1, 4)\t1\n",
      "  (1, 3)\t1\n"
     ]
    }
   ],
   "source": [
    "print(texts_vec)"
   ]
  },
  {
   "cell_type": "markdown",
   "metadata": {
    "slideshow": {
     "slide_type": "subslide"
    }
   },
   "source": [
    "Alternativt ord-mønster:"
   ]
  },
  {
   "cell_type": "code",
   "execution_count": 12,
   "metadata": {
    "scrolled": true
   },
   "outputs": [
    {
     "data": {
      "text/html": [
       "<div>\n",
       "<style scoped>\n",
       "    .dataframe tbody tr th:only-of-type {\n",
       "        vertical-align: middle;\n",
       "    }\n",
       "\n",
       "    .dataframe tbody tr th {\n",
       "        vertical-align: top;\n",
       "    }\n",
       "\n",
       "    .dataframe thead th {\n",
       "        text-align: right;\n",
       "    }\n",
       "</style>\n",
       "<table border=\"1\" class=\"dataframe\">\n",
       "  <thead>\n",
       "    <tr style=\"text-align: right;\">\n",
       "      <th></th>\n",
       "      <th>!</th>\n",
       "      <th>:)</th>\n",
       "      <th>dette</th>\n",
       "      <th>en</th>\n",
       "      <th>er</th>\n",
       "      <th>funker</th>\n",
       "      <th>håper</th>\n",
       "      <th>tekst</th>\n",
       "    </tr>\n",
       "  </thead>\n",
       "  <tbody>\n",
       "    <tr>\n",
       "      <th>0</th>\n",
       "      <td>1</td>\n",
       "      <td>0</td>\n",
       "      <td>1</td>\n",
       "      <td>1</td>\n",
       "      <td>1</td>\n",
       "      <td>0</td>\n",
       "      <td>0</td>\n",
       "      <td>1</td>\n",
       "    </tr>\n",
       "    <tr>\n",
       "      <th>1</th>\n",
       "      <td>0</td>\n",
       "      <td>1</td>\n",
       "      <td>1</td>\n",
       "      <td>0</td>\n",
       "      <td>0</td>\n",
       "      <td>1</td>\n",
       "      <td>1</td>\n",
       "      <td>0</td>\n",
       "    </tr>\n",
       "  </tbody>\n",
       "</table>\n",
       "</div>"
      ],
      "text/plain": [
       "   !  :)  dette  en  er  funker  håper  tekst\n",
       "0  1   0      1   1   1       0      0      1\n",
       "1  0   1      1   0   0       1      1      0"
      ]
     },
     "execution_count": 12,
     "metadata": {},
     "output_type": "execute_result"
    }
   ],
   "source": [
    "vec2 = CountVectorizer(token_pattern=\"(?:\\w+|[^\\w\\s]+)\")\n",
    "texts_vec2 = vec2.fit_transform(texts)\n",
    "pd.DataFrame(texts_vec2.todense(), columns=vec2.get_feature_names())"
   ]
  },
  {
   "cell_type": "markdown",
   "metadata": {
    "slideshow": {
     "slide_type": "fragment"
    }
   },
   "source": [
    "Tips:\n",
    "- Jobber du med et domene du kjenner, eller domene-eksperter - bruk kunnskapen din til å forbedre ord-mønsteret ditt.\n",
    "- F.eks. vil smileys muligens være nyttig å hente ut som egne ord om du bygger en sentiment-klassifiserer."
   ]
  },
  {
   "cell_type": "markdown",
   "metadata": {
    "slideshow": {
     "slide_type": "subslide"
    }
   },
   "source": [
    "# \"TF-IDF\"-vekting av ord\n",
    "- **TF** (Term frequency): Antall ganger ordet oppstår i en bestemt tekst\n",
    "- **IDF** (Inverse document frequency): Antall ganger ordet oppstår i alle tekster\n",
    "- Med TF-IDF vekter vi opp om de oppstår flere ganger i en tekst, og ned om de oppstår ofte i alle tekster\n",
    "- Intuitivt: et ord som brukes flere ganger i en tekst er sannsynligvis viktig for denne teksten, men om det oppstår ofte i alle tekster er det sannsynligvis bare et vanlig ord i vokabularet og bør vektes ned"
   ]
  },
  {
   "cell_type": "markdown",
   "metadata": {
    "slideshow": {
     "slide_type": "subslide"
    }
   },
   "source": [
    "Med TF, uten IDF:"
   ]
  },
  {
   "cell_type": "code",
   "execution_count": 13,
   "metadata": {},
   "outputs": [
    {
     "data": {
      "text/html": [
       "<div>\n",
       "<style scoped>\n",
       "    .dataframe tbody tr th:only-of-type {\n",
       "        vertical-align: middle;\n",
       "    }\n",
       "\n",
       "    .dataframe tbody tr th {\n",
       "        vertical-align: top;\n",
       "    }\n",
       "\n",
       "    .dataframe thead th {\n",
       "        text-align: right;\n",
       "    }\n",
       "</style>\n",
       "<table border=\"1\" class=\"dataframe\">\n",
       "  <thead>\n",
       "    <tr style=\"text-align: right;\">\n",
       "      <th></th>\n",
       "      <th>bra</th>\n",
       "      <th>det</th>\n",
       "      <th>ha</th>\n",
       "      <th>morsomt</th>\n",
       "      <th>var</th>\n",
       "      <th>veldig</th>\n",
       "    </tr>\n",
       "  </thead>\n",
       "  <tbody>\n",
       "    <tr>\n",
       "      <th>0</th>\n",
       "      <td>0.0</td>\n",
       "      <td>1.0</td>\n",
       "      <td>2.0</td>\n",
       "      <td>1.0</td>\n",
       "      <td>1.0</td>\n",
       "      <td>0.0</td>\n",
       "    </tr>\n",
       "    <tr>\n",
       "      <th>1</th>\n",
       "      <td>1.0</td>\n",
       "      <td>1.0</td>\n",
       "      <td>0.0</td>\n",
       "      <td>0.0</td>\n",
       "      <td>1.0</td>\n",
       "      <td>3.0</td>\n",
       "    </tr>\n",
       "  </tbody>\n",
       "</table>\n",
       "</div>"
      ],
      "text/plain": [
       "   bra  det   ha  morsomt  var  veldig\n",
       "0  0.0  1.0  2.0      1.0  1.0     0.0\n",
       "1  1.0  1.0  0.0      0.0  1.0     3.0"
      ]
     },
     "execution_count": 13,
     "metadata": {},
     "output_type": "execute_result"
    }
   ],
   "source": [
    "from sklearn.feature_extraction.text import TfidfVectorizer\n",
    "texts = [\"Ha ha det var morsomt\", \"Det var veldig, veldig, veldig bra\"]\n",
    "vec3 = TfidfVectorizer(use_idf=False, norm=None)\n",
    "texts_vec3 = vec3.fit_transform(texts)\n",
    "pd.DataFrame(texts_vec3.todense(), columns=vec3.get_feature_names())"
   ]
  },
  {
   "cell_type": "markdown",
   "metadata": {
    "slideshow": {
     "slide_type": "fragment"
    }
   },
   "source": [
    "Med TF og IDF:"
   ]
  },
  {
   "cell_type": "code",
   "execution_count": 27,
   "metadata": {},
   "outputs": [
    {
     "data": {
      "text/html": [
       "<div>\n",
       "<style scoped>\n",
       "    .dataframe tbody tr th:only-of-type {\n",
       "        vertical-align: middle;\n",
       "    }\n",
       "\n",
       "    .dataframe tbody tr th {\n",
       "        vertical-align: top;\n",
       "    }\n",
       "\n",
       "    .dataframe thead th {\n",
       "        text-align: right;\n",
       "    }\n",
       "</style>\n",
       "<table border=\"1\" class=\"dataframe\">\n",
       "  <thead>\n",
       "    <tr style=\"text-align: right;\">\n",
       "      <th></th>\n",
       "      <th>bra</th>\n",
       "      <th>det</th>\n",
       "      <th>ha</th>\n",
       "      <th>morsomt</th>\n",
       "      <th>var</th>\n",
       "      <th>veldig</th>\n",
       "    </tr>\n",
       "  </thead>\n",
       "  <tbody>\n",
       "    <tr>\n",
       "      <th>0</th>\n",
       "      <td>0.000000</td>\n",
       "      <td>1.0</td>\n",
       "      <td>2.81093</td>\n",
       "      <td>1.405465</td>\n",
       "      <td>1.0</td>\n",
       "      <td>0.000000</td>\n",
       "    </tr>\n",
       "    <tr>\n",
       "      <th>1</th>\n",
       "      <td>1.405465</td>\n",
       "      <td>1.0</td>\n",
       "      <td>0.00000</td>\n",
       "      <td>0.000000</td>\n",
       "      <td>1.0</td>\n",
       "      <td>4.216395</td>\n",
       "    </tr>\n",
       "  </tbody>\n",
       "</table>\n",
       "</div>"
      ],
      "text/plain": [
       "        bra  det       ha   morsomt  var    veldig\n",
       "0  0.000000  1.0  2.81093  1.405465  1.0  0.000000\n",
       "1  1.405465  1.0  0.00000  0.000000  1.0  4.216395"
      ]
     },
     "execution_count": 27,
     "metadata": {},
     "output_type": "execute_result"
    }
   ],
   "source": [
    "vec4 = TfidfVectorizer(use_idf=True, norm=None)\n",
    "texts_vec4 = vec4.fit_transform(texts)\n",
    "pd.DataFrame(texts_vec4.todense(), columns=vec4.get_feature_names())"
   ]
  },
  {
   "cell_type": "markdown",
   "metadata": {
    "slideshow": {
     "slide_type": "subslide"
    }
   },
   "source": [
    "# N-grams\n",
    "\n",
    "- En naturlig utvidelse av bag-of-words er å se på uttrykk som består av mer enn ett ord, såkalte \"n-gram\"\n",
    "    - F.eks. \"New York\", \"Amazon Web Services\"\n",
    "- Mest brukt er såkalte *bigrams* og *trigrams*, som består av hhv. 2 og 3 etterfølgende ord. \n",
    "    - Man kan se på n-grams av større størrelse, men av erfaring er ofte bigrams nok, noen få ganger trigrams\n",
    "- Den enkleste formen for generering av n-grams vil være å helt enkelt *generere alle mulige kombinasjoner av ord fra datasettet*"
   ]
  },
  {
   "cell_type": "code",
   "execution_count": 14,
   "metadata": {},
   "outputs": [
    {
     "data": {
      "text/html": [
       "<div>\n",
       "<style scoped>\n",
       "    .dataframe tbody tr th:only-of-type {\n",
       "        vertical-align: middle;\n",
       "    }\n",
       "\n",
       "    .dataframe tbody tr th {\n",
       "        vertical-align: top;\n",
       "    }\n",
       "\n",
       "    .dataframe thead th {\n",
       "        text-align: right;\n",
       "    }\n",
       "</style>\n",
       "<table border=\"1\" class=\"dataframe\">\n",
       "  <thead>\n",
       "    <tr style=\"text-align: right;\">\n",
       "      <th></th>\n",
       "      <th>dette</th>\n",
       "      <th>dette er</th>\n",
       "      <th>dette funker</th>\n",
       "      <th>en</th>\n",
       "      <th>en tekst</th>\n",
       "      <th>er</th>\n",
       "      <th>er en</th>\n",
       "      <th>funker</th>\n",
       "      <th>håper</th>\n",
       "      <th>håper dette</th>\n",
       "      <th>tekst</th>\n",
       "    </tr>\n",
       "  </thead>\n",
       "  <tbody>\n",
       "    <tr>\n",
       "      <th>0</th>\n",
       "      <td>1</td>\n",
       "      <td>1</td>\n",
       "      <td>0</td>\n",
       "      <td>1</td>\n",
       "      <td>1</td>\n",
       "      <td>1</td>\n",
       "      <td>1</td>\n",
       "      <td>0</td>\n",
       "      <td>0</td>\n",
       "      <td>0</td>\n",
       "      <td>1</td>\n",
       "    </tr>\n",
       "    <tr>\n",
       "      <th>1</th>\n",
       "      <td>1</td>\n",
       "      <td>0</td>\n",
       "      <td>1</td>\n",
       "      <td>0</td>\n",
       "      <td>0</td>\n",
       "      <td>0</td>\n",
       "      <td>0</td>\n",
       "      <td>1</td>\n",
       "      <td>1</td>\n",
       "      <td>1</td>\n",
       "      <td>0</td>\n",
       "    </tr>\n",
       "  </tbody>\n",
       "</table>\n",
       "</div>"
      ],
      "text/plain": [
       "   dette  dette er  dette funker  en  en tekst  er  er en  funker  håper  \\\n",
       "0      1         1             0   1         1   1      1       0      0   \n",
       "1      1         0             1   0         0   0      0       1      1   \n",
       "\n",
       "   håper dette  tekst  \n",
       "0            0      1  \n",
       "1            1      0  "
      ]
     },
     "execution_count": 14,
     "metadata": {},
     "output_type": "execute_result"
    }
   ],
   "source": [
    "texts = [\"Dette er en tekst!\", \"håper dette funker :)\"]\n",
    "vec = CountVectorizer(ngram_range=(1, 2))\n",
    "texts_vec = vec.fit_transform(texts)\n",
    "pd.DataFrame(texts_vec.todense(), columns=vec.get_feature_names())"
   ]
  },
  {
   "cell_type": "markdown",
   "metadata": {
    "slideshow": {
     "slide_type": "subslide"
    }
   },
   "source": [
    "## Mer intelligent generering av bigrams "
   ]
  },
  {
   "cell_type": "markdown",
   "metadata": {},
   "source": [
    "- Legg merke til kolonne 2 \"deg dette\". Her har vi fått generert et uttrykk på tvers av setninger. Vi vet at det aldri skal skje. Vi bør splitte tekstene i setninger for mer fornuftig generering av n-grams.\n",
    "- Vi er dessuten ikke interessert i alle mulige kombinasjoner, kun de som (sannsynligvis) er faktiske uttrykk"
   ]
  },
  {
   "cell_type": "code",
   "execution_count": 18,
   "metadata": {},
   "outputs": [
    {
     "data": {
      "text/html": [
       "<div>\n",
       "<style scoped>\n",
       "    .dataframe tbody tr th:only-of-type {\n",
       "        vertical-align: middle;\n",
       "    }\n",
       "\n",
       "    .dataframe tbody tr th {\n",
       "        vertical-align: top;\n",
       "    }\n",
       "\n",
       "    .dataframe thead th {\n",
       "        text-align: right;\n",
       "    }\n",
       "</style>\n",
       "<table border=\"1\" class=\"dataframe\">\n",
       "  <thead>\n",
       "    <tr style=\"text-align: right;\">\n",
       "      <th></th>\n",
       "      <th>deg</th>\n",
       "      <th>deg dette</th>\n",
       "      <th>dette</th>\n",
       "      <th>dette er</th>\n",
       "      <th>en</th>\n",
       "      <th>en test</th>\n",
       "      <th>er</th>\n",
       "      <th>er en</th>\n",
       "      <th>hei</th>\n",
       "      <th>hei på</th>\n",
       "      <th>på</th>\n",
       "      <th>på deg</th>\n",
       "      <th>test</th>\n",
       "    </tr>\n",
       "  </thead>\n",
       "  <tbody>\n",
       "    <tr>\n",
       "      <th>0</th>\n",
       "      <td>1</td>\n",
       "      <td>1</td>\n",
       "      <td>1</td>\n",
       "      <td>1</td>\n",
       "      <td>1</td>\n",
       "      <td>1</td>\n",
       "      <td>1</td>\n",
       "      <td>1</td>\n",
       "      <td>1</td>\n",
       "      <td>1</td>\n",
       "      <td>1</td>\n",
       "      <td>1</td>\n",
       "      <td>1</td>\n",
       "    </tr>\n",
       "  </tbody>\n",
       "</table>\n",
       "</div>"
      ],
      "text/plain": [
       "   deg  deg dette  dette  dette er  en  en test  er  er en  hei  hei på  på  \\\n",
       "0    1          1      1         1   1        1   1      1    1       1   1   \n",
       "\n",
       "   på deg  test  \n",
       "0       1     1  "
      ]
     },
     "execution_count": 18,
     "metadata": {},
     "output_type": "execute_result"
    }
   ],
   "source": [
    "texts_vec = vec.fit_transform([\"Hei på deg. Dette er en test.\"])\n",
    "pd.DataFrame(texts_vec.todense(), columns=vec.get_feature_names())"
   ]
  },
  {
   "cell_type": "markdown",
   "metadata": {
    "slideshow": {
     "slide_type": "subslide"
    }
   },
   "source": [
    "## Splitting av setninger\n",
    "\n",
    "- Å splitte setninger er ikke så enkelt som å bare splitte på punktum, da vil man f.eks. feil ved forkortelser.\n",
    "- Heldigvis er dette et vanlig problem, og det finnes flere pakker med funksjonalitet for å gjøre dette - også for norsk."
   ]
  },
  {
   "cell_type": "code",
   "execution_count": 4,
   "metadata": {
    "slideshow": {
     "slide_type": "skip"
    }
   },
   "outputs": [],
   "source": [
    "def print_sents(sents):\n",
    "    for i, sent in enumerate(sents):\n",
    "        print(f\"Sentence {i+1}:\", repr(str(sent)))"
   ]
  },
  {
   "cell_type": "markdown",
   "metadata": {
    "slideshow": {
     "slide_type": "fragment"
    }
   },
   "source": [
    "Spacy har delvis støtte for norsk. Splitting av setinger er blant annet støttet:"
   ]
  },
  {
   "cell_type": "code",
   "execution_count": 5,
   "metadata": {},
   "outputs": [
    {
     "name": "stdout",
     "output_type": "stream",
     "text": [
      "Sentence 1: 'Dette er en test.'\n",
      "Sentence 2: 'Funker dette?'\n",
      "Sentence 3: 'Her har vi f.eks. en forkortelse.'\n"
     ]
    }
   ],
   "source": [
    "from spacy.lang.nb import Norwegian\n",
    "sent_pipeline = Norwegian()\n",
    "sentencizer = sent_pipeline.create_pipe(\"sentencizer\")\n",
    "sent_pipeline.add_pipe(sentencizer)\n",
    "doc = sent_pipeline(\"Dette er en test. Funker dette? Her har vi f.eks. en forkortelse. Dr. Dre var \")\n",
    "print_sents(doc.sents)"
   ]
  },
  {
   "cell_type": "markdown",
   "metadata": {
    "slideshow": {
     "slide_type": "fragment"
    }
   },
   "source": [
    "Polyglot har også full støtte for norsk:"
   ]
  },
  {
   "cell_type": "code",
   "execution_count": 6,
   "metadata": {},
   "outputs": [
    {
     "name": "stdout",
     "output_type": "stream",
     "text": [
      "Sentence 1: 'Dette er en test.'\n",
      "Sentence 2: 'Funker dette?'\n",
      "Sentence 3: 'Her har vi f.eks. en forkortelse.'\n"
     ]
    }
   ],
   "source": [
    "from polyglot.text import Text\n",
    "doc = Text(\"Dette er en test. Funker dette? Her har vi f.eks. en forkortelse.\", hint_language_code=\"nb\")\n",
    "print_sents(doc.sentences)"
   ]
  },
  {
   "cell_type": "markdown",
   "metadata": {
    "slideshow": {
     "slide_type": "subslide"
    }
   },
   "source": [
    "Hva med ekte data?"
   ]
  },
  {
   "cell_type": "code",
   "execution_count": 7,
   "metadata": {},
   "outputs": [
    {
     "name": "stdout",
     "output_type": "stream",
     "text": [
      "Vær snill å lese de nye retningslinjene før du poster i loggkategoriene. Den viktigste endringen er:\n",
      "\n",
      "Plassering\n",
      "Loggområdet er delt i Arbeidslogger og Arbeidslogger - Kommentarer.\n",
      "- \"Arbeidslogger\" en kategorien hvor arbeidsloggen skal føres. Kun de som deltar i prosjektet (som oftest trådstarter) skal poste i denne tråden.\n",
      "- \"Arbeidslogger - Kommentarer\" er en kategori hvor du skal opprette en tråd med samme tittel som den du opprettet i \"Arbeidslogger\", slik at andre kan kommentere ditt arbeide. Her kan alle svare.\n",
      "\n",
      "Bilder fra loggen skal ikke legges i kommentartråden. Fra første post i kommentartråden linker du til arbeidsloggen, kanskje med et lite bilde.\n",
      "\n",
      "Alle de gamle trådene er flyttet til \" Arbeidslogger - Kommentarer\". Trådstarere må gjerne opprette arbeidslogger i \"Arbeidslogger\" med basis i den gamle tråden (som nå vil fungere som kommentartråd.\n"
     ]
    }
   ],
   "source": [
    "df = load_diskusjon_no_data(-1)\n",
    "text = df.body.iloc[1]\n",
    "print(text)"
   ]
  },
  {
   "cell_type": "code",
   "execution_count": 214,
   "metadata": {},
   "outputs": [
    {
     "name": "stdout",
     "output_type": "stream",
     "text": [
      "[['Dette', 'er', 'en', 'setning'], ['dette', 'gaming_pc']]\n",
      "[['dette', 'en', 'tredje'], ['dette', 'enfjerde']]\n"
     ]
    }
   ],
   "source": [
    "for doc in bigram[[[[\"Dette\", \"er\" , \"en\", \"setning\"], [\"dette\", \"gaming\", \"pc\"]], [[\"dette\", \"en\", \"tredje\"], [\"dette\", \"en\" \"fjerde\"]]]]:\n",
    "    print(list(doc))"
   ]
  },
  {
   "cell_type": "code",
   "execution_count": 8,
   "metadata": {
    "slideshow": {
     "slide_type": "fragment"
    }
   },
   "outputs": [
    {
     "name": "stdout",
     "output_type": "stream",
     "text": [
      "Sentence 1: 'Vær snill å lese de nye retningslinjene før du poster i loggkategoriene.'\n",
      "Sentence 2: 'Den viktigste endringen er:\\n\\nPlassering\\nLoggområdet er delt i Arbeidslogger og Arbeidslogger - Kommentarer.'\n",
      "Sentence 3: '\\n- \"Arbeidslogger\" en kategorien hvor arbeidsloggen skal føres.'\n",
      "Sentence 4: 'Kun de som deltar i prosjektet (som oftest trådstarter) skal poste i denne tråden.'\n",
      "Sentence 5: '\\n- \"Arbeidslogger - Kommentarer\" er en kategori hvor du skal opprette en tråd med samme tittel som den du opprettet i \"Arbeidslogger\", slik at andre kan kommentere ditt arbeide.'\n",
      "Sentence 6: 'Her kan alle svare.'\n",
      "Sentence 7: '\\n\\nBilder fra loggen skal ikke legges i kommentartråden.'\n",
      "Sentence 8: 'Fra første post i kommentartråden linker du til arbeidsloggen, kanskje med et lite bilde.'\n",
      "Sentence 9: '\\n\\nAlle de gamle trådene er flyttet til \" Arbeidslogger - Kommentarer\".'\n",
      "Sentence 10: 'Trådstarere må gjerne opprette arbeidslogger i \"Arbeidslogger\" med basis i den gamle tråden (som nå vil fungere som kommentartråd.'\n"
     ]
    }
   ],
   "source": [
    "doc = sent_pipeline(text)\n",
    "print_sents(doc.sents)"
   ]
  },
  {
   "cell_type": "markdown",
   "metadata": {
    "slideshow": {
     "slide_type": "subslide"
    }
   },
   "source": [
    "La oss splitte alle postene fra diskusjon.no i setninger. Vi antar at alle post-titler allerede er splittet, så vi dropper å splitte disse."
   ]
  },
  {
   "cell_type": "code",
   "execution_count": 10,
   "metadata": {
    "slideshow": {
     "slide_type": "fragment"
    }
   },
   "outputs": [
    {
     "name": "stdout",
     "output_type": "stream",
     "text": [
      "Wall time: 54.2 s\n"
     ]
    }
   ],
   "source": [
    "%%time\n",
    "def _split_into_sentences(text):\n",
    "    doc = sent_pipeline(text)\n",
    "    return [str(sent).strip() for sent in doc.sents]\n",
    "\n",
    "body_sents = df.body.apply(_split_into_sentences)"
   ]
  },
  {
   "cell_type": "code",
   "execution_count": 13,
   "metadata": {},
   "outputs": [
    {
     "data": {
      "text/plain": [
       "['Worklogs -kategorien krever bilder av prosjektene.',\n",
       " 'Men vær så snill: Lag en thumbnail på f.eks. 200 pixler (lengste side altså) og post den slik at man ved å klikke på bildet kommer til den store utgaven - slik som vi gjør i artiklene på Overklokking.no.',\n",
       " 'Når dere legger ut bilder, er det også kjempefint om dere skalerer dem slik at de ikke er så gigantiske.',\n",
       " 'Et bilde som er innenfor 800x600 pixler er mer enn stort nok.',\n",
       " 'Skal du vise konkrete detaljer, kan du heller ta detaljbilder.',\n",
       " 'Og husk: mobiltelefoner tar IKKE gode nok bilder!',\n",
       " 'Pass også på å ta bilder med nok lys.',\n",
       " 'Skal du ta bilder i mørket (f.eks. av lysene på kreasjonen din), så sett kameraet på et stativ, stol e.l. Still så kameraet inn for nattopptak (ingen blitz, gjerne lang lukkertid), og bruk timer-funksjonen.',\n",
       " 'På den måten sikrer du at kameraet ikke beveger seg når bildet tas, og du eliminerer vibrasjoner som følge av at du trykker på utløsern.',\n",
       " 'For å legge ut et bilde slik at man kan klikke for å se stor utgave, gjør som følger:\\n\\n(fjern { og } samt teksten mellom dem, erstatt med de respektive linkene)\\n\\nDette kan da bli omtrent slik:\\n\\n \\n\\nKoden for ovenstående:\\nOg husk: Ta MANGE bilder!',\n",
       " 'Noen bilder blir fiasko, men det er ikke sikkert du oppdager det før bildet vises på skjermen - og da kan det være for sent.',\n",
       " 'Hvis du skal oppdatere workloggen med flere bilder velger du selv om du vil gjøre det som nytt innlegg eller om du redigerer det første innlegget, men i så fall må du skrive et nytt innlegg som indikerer at prosjektet er oppdatert.']"
      ]
     },
     "execution_count": 13,
     "metadata": {},
     "output_type": "execute_result"
    }
   ],
   "source": [
    "body_sents[0]"
   ]
  },
  {
   "cell_type": "markdown",
   "metadata": {
    "slideshow": {
     "slide_type": "subslide"
    }
   },
   "source": [
    "## Generering av bigrams fra setningene"
   ]
  },
  {
   "cell_type": "code",
   "execution_count": 14,
   "metadata": {
    "slideshow": {
     "slide_type": "-"
    }
   },
   "outputs": [],
   "source": [
    "all_sents = df.title.tolist() + [s for sentences in body_sents for s in sentences]"
   ]
  },
  {
   "cell_type": "code",
   "execution_count": 46,
   "metadata": {},
   "outputs": [
    {
     "data": {
      "text/plain": [
       "136554"
      ]
     },
     "execution_count": 46,
     "metadata": {},
     "output_type": "execute_result"
    }
   ],
   "source": [
    "len(all_sents)"
   ]
  },
  {
   "cell_type": "code",
   "execution_count": 188,
   "metadata": {
    "slideshow": {
     "slide_type": "fragment"
    }
   },
   "outputs": [],
   "source": [
    "from gensim.models.phrases import Phrases, Phraser\n",
    "from spacy.lang.nb.stop_words import STOP_WORDS\n",
    "\n",
    "tokenize = lambda sent: [word.lower() for word in re.findall(r\"\\w+\", sent)]\n",
    "all_sents_tokens = [tokenize(s) for s in all_sents]\n",
    "phrases = Phrases(all_sents_tokens, min_count=3, threshold=1, common_terms=STOP_WORDS)\n",
    "bigram = Phraser(phrases)"
   ]
  },
  {
   "cell_type": "code",
   "execution_count": 242,
   "metadata": {
    "slideshow": {
     "slide_type": "fragment"
    }
   },
   "outputs": [
    {
     "data": {
      "text/plain": [
       "['jeg', 'har', 'windows_10', 'på', 'min', 'gaming_pc']"
      ]
     },
     "execution_count": 242,
     "metadata": {},
     "output_type": "execute_result"
    }
   ],
   "source": [
    "bigram[tokenize(\"Jeg har windows 10 på min gaming pc\")]"
   ]
  },
  {
   "cell_type": "markdown",
   "metadata": {
    "slideshow": {
     "slide_type": "subslide"
    }
   },
   "source": [
    "La oss se på de mest vanlige bigramene i tekstene våre:"
   ]
  },
  {
   "cell_type": "code",
   "execution_count": 175,
   "metadata": {
    "slideshow": {
     "slide_type": "skip"
    }
   },
   "outputs": [],
   "source": [
    "from collections import Counter\n",
    "\n",
    "def count_ngrams(phraser, sentences, n=None):\n",
    "    ngrams_counter = Counter()\n",
    "    for sent in sentences:\n",
    "        phrases = phraser[sent]\n",
    "        tokens = [token for token in phrases if _is_ngram(token, n)]            \n",
    "        ngrams_counter.update(tokens)\n",
    "    return ngrams_counter\n",
    "\n",
    "def _is_ngram(token, n):\n",
    "    if \"_\" not in token:\n",
    "        return False\n",
    "    if n is None:\n",
    "        return True\n",
    "    words = token.split(\"_\")\n",
    "    return len([w for w in words if w not in STOP_WORDS]) == n\n",
    "\n",
    "\n",
    "def print_most_common(counter, n):\n",
    "    for key, count in counter.most_common(n):\n",
    "        print(f\"{key:<20} {count}\")"
   ]
  },
  {
   "cell_type": "code",
   "execution_count": 180,
   "metadata": {},
   "outputs": [],
   "source": [
    "bigrams_counter = count_ngrams(bigram, all_sents_tokens)"
   ]
  },
  {
   "cell_type": "markdown",
   "metadata": {
    "slideshow": {
     "slide_type": "fragment"
    }
   },
   "source": [
    "Merk at vi vil ha fraser med mer enn to ord, fordi såkalte \"stopwords\" ikke teller med i antall ord for n-gramet når vi bruker denne algoritmen"
   ]
  },
  {
   "cell_type": "code",
   "execution_count": 181,
   "metadata": {},
   "outputs": [
    {
     "name": "stdout",
     "output_type": "stream",
     "text": [
      "https_www            1290\n",
      "http_www             932\n",
      "f_eks                838\n",
      "rett_og_slett        282\n",
      "diskusjon_no         246\n",
      "of_the               226\n",
      "forhånd_takk         222\n",
      "1_2                  210\n",
      "windows_10           202\n",
      "in_the               171\n",
      "takk_for_svar        166\n",
      "trenger_hjelp        158\n",
      "takk_på_forhånd      151\n",
      "setter_pris          148\n",
      "anonymous_poster     143\n",
      "blu_ray              142\n",
      "2_3                  142\n",
      "3_5                  137\n",
      "3_4                  136\n",
      "finn_no              125\n",
      "o_l                  123\n",
      "apple_tv             121\n",
      "canal_digital        106\n",
      "myspace_offisiell    106\n",
      "5_1                  104\n",
      "2_5                  100\n",
      "1_1                  98\n",
      "bl_a                 97\n",
      "samsung_galaxy       97\n",
      "tusen_takk           97\n"
     ]
    }
   ],
   "source": [
    "print_most_common(bigrams_counter, 30)"
   ]
  },
  {
   "cell_type": "markdown",
   "metadata": {
    "slideshow": {
     "slide_type": "subslide"
    }
   },
   "source": [
    "## Fra bigrams til trigrams og videre\n",
    "\n",
    "For å generere trigrams kan vi kjøre samme algoritme som over, rekursivt:"
   ]
  },
  {
   "cell_type": "code",
   "execution_count": 197,
   "metadata": {},
   "outputs": [],
   "source": [
    "all_sents_bigrams = bigram[all_sents_tokens]\n",
    "trigram = Phrases(all_sents_bigrams, min_count=3, threshold=1, common_terms=STOP_WORDS)\n",
    "trigram = Phraser(trigram)"
   ]
  },
  {
   "cell_type": "code",
   "execution_count": 198,
   "metadata": {},
   "outputs": [],
   "source": [
    "trigrams_counter = count_ngrams(trigram, all_sents_bigrams, n=3)"
   ]
  },
  {
   "cell_type": "code",
   "execution_count": 199,
   "metadata": {},
   "outputs": [
    {
     "name": "stdout",
     "output_type": "stream",
     "text": [
      "https_www_komplett   136\n",
      "anonymous_poster_hash 128\n",
      "myspace_offisiell_hjemmeside 101\n",
      "karakter_10_10       56\n",
      "per_dags_dato        42\n",
      "karakter_9_10        39\n",
      "https_www_youtube    36\n",
      "karakter_8_10        32\n",
      "lars_von_trier       30\n",
      "anders_behring_breivik 27\n",
      "https_www_diskusjo   27\n",
      "forhånd_takk_for_svar 27\n",
      "juni_18_00           27\n",
      "com_http_www         26\n",
      "https_prisguiden_n   25\n",
      "karakter_7_10        24\n",
      "rock_n_roll          24\n",
      "blu_ray_spiller      21\n",
      "fritt_til_å_tolke_temaet 21\n",
      "galleriet_på_akam_no 21\n",
      "karakter_6_10        21\n",
      "usb_2_0              20\n",
      "m_2_ssd              20\n",
      "f_2_8                19\n",
      "samarbeider_med_diskusjon_no 19\n",
      "sporliste_min_mening 19\n",
      "bildetråd_fototreff_i_trondheim 18\n",
      "vs_manchester_united 18\n",
      "ipb3_0_oppgr         18\n",
      "takk_for_all_hjelp   18\n"
     ]
    }
   ],
   "source": [
    "print_most_common(trigrams_counter, 30)"
   ]
  },
  {
   "cell_type": "code",
   "execution_count": null,
   "metadata": {},
   "outputs": [],
   "source": []
  },
  {
   "cell_type": "code",
   "execution_count": 236,
   "metadata": {},
   "outputs": [],
   "source": [
    "vec = NgramCountVectorizer(ngram_range=(1, 2), token_pattern=\"[^\\W_]+\")"
   ]
  },
  {
   "cell_type": "code",
   "execution_count": 221,
   "metadata": {},
   "outputs": [
    {
     "data": {
      "text/plain": [
       "['0',\n",
       " '0 0',\n",
       " '0 000002',\n",
       " '0 007',\n",
       " '0 008',\n",
       " '0 00a',\n",
       " '0 017',\n",
       " '0 01kb',\n",
       " '0 020',\n",
       " '0 02v',\n",
       " '0 03',\n",
       " '0 035',\n",
       " '0 05',\n",
       " '0 05g',\n",
       " '0 05v',\n",
       " '0 07',\n",
       " '0 0845',\n",
       " '0 0mbit',\n",
       " '0 0x',\n",
       " '0 1',\n",
       " '0 10',\n",
       " '0 100',\n",
       " '0 1000kr',\n",
       " '0 100km',\n",
       " '0 102',\n",
       " '0 103',\n",
       " '0 1080p30',\n",
       " '0 110',\n",
       " '0 12',\n",
       " '0 120v',\n",
       " '0 124',\n",
       " '0 125',\n",
       " '0 12a',\n",
       " '0 12v',\n",
       " '0 13',\n",
       " '0 138',\n",
       " '0 14',\n",
       " '0 14468',\n",
       " '0 14a',\n",
       " '0 15',\n",
       " '0 150',\n",
       " '0 1500',\n",
       " '0 15kw',\n",
       " '0 16',\n",
       " '0 16v',\n",
       " '0 17',\n",
       " '0 171566',\n",
       " '0 18',\n",
       " '0 18362',\n",
       " '0 1kvm',\n",
       " '0 1v',\n",
       " '0 2',\n",
       " '0 20',\n",
       " '0 20013',\n",
       " '0 200v',\n",
       " '0 201705',\n",
       " '0 20pin',\n",
       " '0 24',\n",
       " '0 25',\n",
       " '0 250v',\n",
       " '0 252v',\n",
       " '0 2560x1440',\n",
       " '0 25g',\n",
       " '0 25kw',\n",
       " '0 26',\n",
       " '0 29',\n",
       " '0 297',\n",
       " '0 2ah',\n",
       " '0 2ch',\n",
       " '0 2m3',\n",
       " '0 2x',\n",
       " '0 3',\n",
       " '0 32',\n",
       " '0 3239',\n",
       " '0 35',\n",
       " '0 36kw',\n",
       " '0 39',\n",
       " '0 3gb',\n",
       " '0 3mm',\n",
       " '0 4',\n",
       " '0 40',\n",
       " '0 400mbps',\n",
       " '0 40a',\n",
       " '0 41',\n",
       " '0 42',\n",
       " '0 43',\n",
       " '0 48',\n",
       " '0 48v',\n",
       " '0 4a',\n",
       " '0 4s',\n",
       " '0 4x',\n",
       " '0 5',\n",
       " '0 50',\n",
       " '0 500v',\n",
       " '0 504',\n",
       " '0 51',\n",
       " '0 520mb',\n",
       " '0 53',\n",
       " '0 54',\n",
       " '0 55',\n",
       " '0 55a',\n",
       " '0 59',\n",
       " '0 5a',\n",
       " '0 5db',\n",
       " '0 5kg',\n",
       " '0 5l',\n",
       " '0 5x',\n",
       " '0 6',\n",
       " '0 60a',\n",
       " '0 61',\n",
       " '0 6364590',\n",
       " '0 64',\n",
       " '0 64mb',\n",
       " '0 6ch',\n",
       " '0 6tb',\n",
       " '0 7',\n",
       " '0 70',\n",
       " '0 7000',\n",
       " '0 70x',\n",
       " '0 73',\n",
       " '0 75',\n",
       " '0 76',\n",
       " '0 78',\n",
       " '0 8',\n",
       " '0 854',\n",
       " '0 85v',\n",
       " '0 89',\n",
       " '0 8ekrs2h',\n",
       " '0 8m',\n",
       " '0 8tb',\n",
       " '0 8v',\n",
       " '0 8x',\n",
       " '0 8µm',\n",
       " '0 9',\n",
       " '0 90',\n",
       " '0 90kr',\n",
       " '0 90mm',\n",
       " '0 914',\n",
       " '0 92',\n",
       " '0 95',\n",
       " '0 956',\n",
       " '0 95noktor',\n",
       " '0 95v',\n",
       " '0 95voigtländer',\n",
       " '0 96',\n",
       " '0 98',\n",
       " '0 99',\n",
       " '0 9v',\n",
       " '0 a2dp',\n",
       " '0 albania',\n",
       " '0 alpinskipakke',\n",
       " '0 aner',\n",
       " '0 annet',\n",
       " '0 applegeeks',\n",
       " '0 applikasjoner',\n",
       " '0 av',\n",
       " '0 avhengig',\n",
       " '0 banding',\n",
       " '0 batteri',\n",
       " '0 besiktas',\n",
       " '0 beta',\n",
       " '0 bra',\n",
       " '0 brandstory',\n",
       " '0 brann',\n",
       " '0 budsjett',\n",
       " '0 build',\n",
       " '0 burde',\n",
       " '0 buvik',\n",
       " '0 byggekvalitet',\n",
       " '0 bytes',\n",
       " '0 c',\n",
       " '0 clear',\n",
       " '0 cm',\n",
       " '0 code',\n",
       " '0 complies',\n",
       " '0 corsair',\n",
       " '0 costa',\n",
       " '0 cpu',\n",
       " '0 cropw',\n",
       " '0 cspheader',\n",
       " '0 d4d',\n",
       " '0 databusser',\n",
       " '0 db',\n",
       " '0 de',\n",
       " '0 delay',\n",
       " '0 den',\n",
       " '0 der',\n",
       " '0 dersom',\n",
       " '0 det',\n",
       " '0 dette',\n",
       " '0 device',\n",
       " '0 display',\n",
       " '0 dongle',\n",
       " '0 dx9',\n",
       " '0 edit',\n",
       " '0 egenkapital',\n",
       " '0 eller',\n",
       " '0 energi',\n",
       " '0 england',\n",
       " '0 entry20073978',\n",
       " '0 entry23155701',\n",
       " '0 er',\n",
       " '0 erfaring',\n",
       " '0 errors',\n",
       " '0 et',\n",
       " '0 etter',\n",
       " '0 exetter',\n",
       " '0 f',\n",
       " '0 false',\n",
       " '0 fem',\n",
       " '0 filer',\n",
       " '0 finner',\n",
       " '0 for',\n",
       " '0 fra',\n",
       " '0 frankrike',\n",
       " '0 frem',\n",
       " '0 fullview',\n",
       " '0 f²',\n",
       " '0 får',\n",
       " '0 før',\n",
       " '0 førte',\n",
       " '0 gaming',\n",
       " '0 gb',\n",
       " '0 gbit',\n",
       " '0 gddr5',\n",
       " '0 ghz',\n",
       " '0 gjeld',\n",
       " '0 gjør',\n",
       " '0 grader',\n",
       " '0 gz',\n",
       " '0 går',\n",
       " '0 h',\n",
       " '0 hadde',\n",
       " '0 har',\n",
       " '0 harddisk',\n",
       " '0 hd',\n",
       " '0 headers',\n",
       " '0 hei',\n",
       " '0 heksadesimalt',\n",
       " '0 herlikt',\n",
       " '0 hicare',\n",
       " '0 how',\n",
       " '0 html',\n",
       " '0 http',\n",
       " '0 https',\n",
       " '0 hub',\n",
       " '0 hva',\n",
       " '0 hvis',\n",
       " '0 hvordan',\n",
       " '0 hvorvidt',\n",
       " '0 høyttalere',\n",
       " '0 i',\n",
       " '0 igjen',\n",
       " '0 ikke',\n",
       " '0 importert',\n",
       " '0 innledning',\n",
       " '0 intel',\n",
       " '0 intro',\n",
       " '0 irland',\n",
       " '0 is',\n",
       " '0 island',\n",
       " '0 iso',\n",
       " '0 itemid',\n",
       " '0 jeg',\n",
       " '0 jr',\n",
       " '0 kabler',\n",
       " '0 kamerun',\n",
       " '0 kan',\n",
       " '0 kg',\n",
       " '0 km',\n",
       " '0 knekk',\n",
       " '0 kneler',\n",
       " '0 kondis',\n",
       " '0 kontakter',\n",
       " '0 konto',\n",
       " '0 kritikk',\n",
       " '0 kroner',\n",
       " '0 kryss',\n",
       " '0 l',\n",
       " '0 lader',\n",
       " '0 ledig',\n",
       " '0 lg',\n",
       " '0 ligger',\n",
       " '0 liste',\n",
       " '0 lollipopp',\n",
       " '0 loopen',\n",
       " '0 low',\n",
       " '0 lydkort',\n",
       " '0 lån',\n",
       " '0 maks',\n",
       " '0 man',\n",
       " '0 mapper',\n",
       " '0 marokko',\n",
       " '0 marshmallow',\n",
       " '0 med',\n",
       " '0 memory',\n",
       " '0 men',\n",
       " '0 mens',\n",
       " '0 merk',\n",
       " '0 mexico',\n",
       " '0 með',\n",
       " '0 mil',\n",
       " '0 mitt',\n",
       " '0 mm',\n",
       " '0 module',\n",
       " '0 moms',\n",
       " '0 mot',\n",
       " '0 mp',\n",
       " '0 mva',\n",
       " '0 mye',\n",
       " '0 må',\n",
       " '0 målet',\n",
       " '0 naturligvis',\n",
       " '0 nederland',\n",
       " '0 nedlastinger',\n",
       " '0 nigeria',\n",
       " '0 nivå',\n",
       " '0 noarch',\n",
       " '0 noen',\n",
       " '0 nord',\n",
       " '0 north',\n",
       " '0 nougat',\n",
       " '0 når',\n",
       " '0 objektiv',\n",
       " '0 og',\n",
       " '0 om',\n",
       " '0 oppsett',\n",
       " '0 oreo',\n",
       " '0 os',\n",
       " '0 over',\n",
       " '0 p',\n",
       " '0 pakketap',\n",
       " '0 panama',\n",
       " '0 pcen',\n",
       " '0 peiling',\n",
       " '0 peru',\n",
       " '0 pie',\n",
       " '0 please',\n",
       " '0 poeng',\n",
       " '0 polen',\n",
       " '0 port',\n",
       " '0 porten',\n",
       " '0 portene',\n",
       " '0 porter',\n",
       " '0 ports',\n",
       " '0 post',\n",
       " '0 prisstigning',\n",
       " '0 problemet',\n",
       " '0 på',\n",
       " '0 r',\n",
       " '0 rente',\n",
       " '0 reservetelefon',\n",
       " '0 resultat',\n",
       " '0 reversible',\n",
       " '0 russland',\n",
       " '0 s905',\n",
       " '0 samt',\n",
       " '0 saudi',\n",
       " '0 signalkvalitet',\n",
       " '0 sjanse',\n",
       " '0 skjermer',\n",
       " '0 sl',\n",
       " '0 slik',\n",
       " '0 slot',\n",
       " '0 slovakia',\n",
       " '0 sm',\n",
       " '0 smart',\n",
       " '0 snøring',\n",
       " '0 som',\n",
       " '0 sort',\n",
       " '0 southampton',\n",
       " '0 spania',\n",
       " '0 spill',\n",
       " '0 standard',\n",
       " '0 stereo',\n",
       " '0 stiigning',\n",
       " '0 striping',\n",
       " '0 suite',\n",
       " '0 svar',\n",
       " '0 sveits',\n",
       " '0 sverige',\n",
       " '0 så',\n",
       " '0 sør',\n",
       " '0 tasten',\n",
       " '0 tdi',\n",
       " '0 temperatur',\n",
       " '0 tenker',\n",
       " '0 tfsi',\n",
       " '0 til',\n",
       " '0 total',\n",
       " '0 totalt',\n",
       " '0 tracklister',\n",
       " '0 trådregler',\n",
       " '0 tsjekkia',\n",
       " '0 type',\n",
       " '0 tyrkia',\n",
       " '0 tyskland',\n",
       " '0 udgangspunkt',\n",
       " '0 uf6800',\n",
       " '0 ukraina',\n",
       " '0 usb',\n",
       " '0 uten',\n",
       " '0 utganger',\n",
       " '0 v',\n",
       " '0 ved',\n",
       " '0 vet',\n",
       " '0 vi',\n",
       " '0 video',\n",
       " '0 vindu',\n",
       " '0 vinner',\n",
       " '0 visn',\n",
       " '0 visninger',\n",
       " '0 volt',\n",
       " '0 w',\n",
       " '0 wales',\n",
       " '0 wmn',\n",
       " '0 x',\n",
       " '0 x1',\n",
       " '0 x16',\n",
       " '0 x2',\n",
       " '0 x4',\n",
       " '0 x8',\n",
       " '0 xt',\n",
       " '0 y',\n",
       " '0 ágætis',\n",
       " '0 år',\n",
       " '0 års',\n",
       " '0 østerrike',\n",
       " '00',\n",
       " '00 00',\n",
       " '00 01',\n",
       " '00 02',\n",
       " '00 03',\n",
       " '00 10',\n",
       " '00 1188',\n",
       " '00 12',\n",
       " '00 13',\n",
       " '00 14',\n",
       " '00 15',\n",
       " '00 18362',\n",
       " '00 2',\n",
       " '00 20',\n",
       " '00 23',\n",
       " '00 25',\n",
       " '00 30',\n",
       " '00 37',\n",
       " '00 4',\n",
       " '00 41',\n",
       " '00 50',\n",
       " '00 7',\n",
       " '00 aalesund',\n",
       " '00 albania',\n",
       " '00 algerie',\n",
       " '00 alpint',\n",
       " '00 am',\n",
       " '00 amazon',\n",
       " '00 arena',\n",
       " '00 arenaen',\n",
       " '00 argentina',\n",
       " '00 australia',\n",
       " '00 avslutningsseremoni',\n",
       " '00 bakcell',\n",
       " '00 baklykter',\n",
       " '00 baku',\n",
       " '00 belgia',\n",
       " '00 bildene',\n",
       " '00 bildet',\n",
       " '00 bolivia',\n",
       " '00 bosnia',\n",
       " '00 brasil',\n",
       " '00 bulgaria',\n",
       " '00 bykjøring',\n",
       " '00 cc',\n",
       " '00 colombia',\n",
       " '00 costa',\n",
       " '00 da',\n",
       " '00 dager',\n",
       " '00 danmark',\n",
       " '00 den',\n",
       " '00 der',\n",
       " '00 det',\n",
       " '00 dette',\n",
       " '00 dommer',\n",
       " '00 dørene',\n",
       " '00 ecuador',\n",
       " '00 egypt',\n",
       " '00 elfenbenskysten',\n",
       " '00 eller',\n",
       " '00 england',\n",
       " '00 er',\n",
       " '00 estland',\n",
       " '00 estádio',\n",
       " '00 etter',\n",
       " '00 feks',\n",
       " '00 fellesstart',\n",
       " '00 finnes',\n",
       " '00 for',\n",
       " '00 forumet',\n",
       " '00 fra',\n",
       " '00 frankrike',\n",
       " '00 freestyle',\n",
       " '00 generalstaben',\n",
       " '00 gjennomsnittskarakter',\n",
       " '00 handling',\n",
       " '00 har',\n",
       " '00 haugesund',\n",
       " '00 hellas',\n",
       " '00 hkey',\n",
       " '00 honduras',\n",
       " '00 hopp',\n",
       " '00 hvor',\n",
       " '00 i',\n",
       " '00 idag',\n",
       " '00 ikke',\n",
       " '00 iløpet',\n",
       " '00 individuelt',\n",
       " '00 inne',\n",
       " '00 iran',\n",
       " '00 irland',\n",
       " '00 island',\n",
       " '00 itaipava',\n",
       " '00 italia',\n",
       " '00 jaco',\n",
       " '00 japan',\n",
       " '00 jeg',\n",
       " '00 kamerun',\n",
       " '00 kampen',\n",
       " '00 kan',\n",
       " '00 kapsler',\n",
       " '00 kombinert',\n",
       " '00 kommer',\n",
       " '00 konvertering',\n",
       " '00 kortbaneløp',\n",
       " '00 kr',\n",
       " '00 kroatia',\n",
       " '00 kunstløp',\n",
       " '00 laghopp',\n",
       " '00 lagkonkurranse',\n",
       " '00 langrenn',\n",
       " '00 litt',\n",
       " '00 løsner',\n",
       " '00 mandag',\n",
       " '00 marokko',\n",
       " '00 med',\n",
       " '00 medaljeseremoni',\n",
       " '00 men',\n",
       " '00 mexico',\n",
       " '00 min',\n",
       " '00 mm',\n",
       " '00 mx',\n",
       " '00 må',\n",
       " '00 natt',\n",
       " '00 nb',\n",
       " '00 nederland',\n",
       " '00 nigeria',\n",
       " '00 noen',\n",
       " '00 nord',\n",
       " '00 norge',\n",
       " '00 nye',\n",
       " '00 når',\n",
       " '00 og',\n",
       " '00 old',\n",
       " '00 om',\n",
       " '00 oppgavene',\n",
       " '00 p',\n",
       " '00 panama',\n",
       " '00 peru',\n",
       " '00 phex',\n",
       " '00 play',\n",
       " '00 polen',\n",
       " '00 portugal',\n",
       " '00 premier',\n",
       " '00 på',\n",
       " '00 regjeringen',\n",
       " '00 regler',\n",
       " '00 romania',\n",
       " '00 russland',\n",
       " '00 sandnes',\n",
       " '00 sarpsborg',\n",
       " '00 saudi',\n",
       " '00 scripts',\n",
       " '00 senegal',\n",
       " '00 sentrum',\n",
       " '00 serbia',\n",
       " '00 skeleton',\n",
       " '00 skiskyting',\n",
       " '00 skottland',\n",
       " '00 skøyter',\n",
       " '00 slovakia',\n",
       " '00 snowboard',\n",
       " '00 sogndal',\n",
       " '00 som',\n",
       " '00 spania',\n",
       " '00 sprintprolog',\n",
       " '00 stadion',\n",
       " '00 start',\n",
       " '00 står',\n",
       " '00 super',\n",
       " '00 superkombinasjon',\n",
       " '00 sveits',\n",
       " '00 sverige',\n",
       " '00 så',\n",
       " '00 sør',\n",
       " '00 sørkorea',\n",
       " '00 tatt',\n",
       " '00 team',\n",
       " '00 the',\n",
       " '00 tid',\n",
       " '00 tiden',\n",
       " '00 til',\n",
       " '00 timoe',\n",
       " '00 tsjekkia',\n",
       " '00 tunisia',\n",
       " '00 tyrkia',\n",
       " '00 tyskland',\n",
       " '00 uavgjort',\n",
       " '00 ukraina',\n",
       " '00 ullevaal',\n",
       " '00 ungarn',\n",
       " '00 uruguay',\n",
       " '00 usa',\n",
       " '00 utfor',\n",
       " '00 utleggsgebyr',\n",
       " '00 varierer',\n",
       " '00 vi',\n",
       " '00 wales',\n",
       " '00 wembley',\n",
       " '00 åpningsseremoni',\n",
       " '00 østerrike',\n",
       " '000',\n",
       " '000 000',\n",
       " '000 1',\n",
       " '000 10',\n",
       " '000 100',\n",
       " '000 120',\n",
       " '000 13',\n",
       " '000 20',\n",
       " '000 2002',\n",
       " '000 2008',\n",
       " '000 201',\n",
       " '000 24',\n",
       " '000 250',\n",
       " '000 3',\n",
       " '000 32',\n",
       " '000 4',\n",
       " '000 400',\n",
       " '000 41',\n",
       " '000 47',\n",
       " '000 50',\n",
       " '000 6',\n",
       " '000 7',\n",
       " '000 70',\n",
       " '000 8',\n",
       " '000 90',\n",
       " '000 abonnenter',\n",
       " '000 akkurat',\n",
       " '000 albums',\n",
       " '000 altså',\n",
       " '000 android',\n",
       " '000 annen',\n",
       " '000 aquador',\n",
       " '000 arbeidsplasser',\n",
       " '000 askeladden',\n",
       " '000 av',\n",
       " '000 bc',\n",
       " '000 besøkende',\n",
       " '000 billigere',\n",
       " '000 bosch',\n",
       " '000 brukere',\n",
       " '000 båten',\n",
       " '000 da',\n",
       " '000 damens',\n",
       " '000 datakommunikasjon',\n",
       " '000 days',\n",
       " '000 de',\n",
       " '000 dem',\n",
       " '000 den',\n",
       " '000 denne',\n",
       " '000 det',\n",
       " '000 dette',\n",
       " '000 digitale',\n",
       " '000 dollar',\n",
       " '000 drepte',\n",
       " '000 drita',\n",
       " '000 du',\n",
       " '000 døde',\n",
       " '000 ebooks',\n",
       " '000 egenandel',\n",
       " '000 eksemplarer',\n",
       " '000 eksponeringer',\n",
       " '000 ekstra',\n",
       " '000 eller',\n",
       " '000 en',\n",
       " '000 er',\n",
       " '000 etter',\n",
       " '000 ex',\n",
       " '000 fant',\n",
       " '000 fast',\n",
       " '000 ferdig',\n",
       " '000 feriepengegrunnlag',\n",
       " '000 fikk',\n",
       " '000 finner',\n",
       " '000 for',\n",
       " '000 fordi',\n",
       " '000 fra',\n",
       " '000 får',\n",
       " '000 før',\n",
       " '000 ganger',\n",
       " '000 gir',\n",
       " '000 gjerne',\n",
       " '000 grunnen',\n",
       " '000 gående',\n",
       " '000 hadde',\n",
       " '000 har',\n",
       " '000 helst',\n",
       " '000 https',\n",
       " '000 hva',\n",
       " '000 hver',\n",
       " '000 hvilket',\n",
       " '000 hvis',\n",
       " '000 hvor',\n",
       " '000 hvordan',\n",
       " '000 hz',\n",
       " '000 i',\n",
       " '000 iblant',\n",
       " '000 igjen',\n",
       " '000 ikke',\n",
       " '000 ingen',\n",
       " '000 inklusive',\n",
       " '000 innbyggere',\n",
       " '000 investorer',\n",
       " '000 jeg',\n",
       " '000 kan',\n",
       " '000 kg',\n",
       " '000 kilometer',\n",
       " '000 km',\n",
       " '000 kontoer',\n",
       " '000 kopier',\n",
       " '000 kr',\n",
       " '000 kroner',\n",
       " '000 kroners',\n",
       " '000 kvaliteten',\n",
       " '000 la',\n",
       " '000 lettest',\n",
       " '000 leverandørgjeld',\n",
       " '000 liter',\n",
       " '000 lånekassen',\n",
       " '000 lånet',\n",
       " '000 låter',\n",
       " '000 mah',\n",
       " '000 maks',\n",
       " '000 mann',\n",
       " '000 max',\n",
       " '000 med',\n",
       " '000 medlemmer',\n",
       " '000 men',\n",
       " '000 mennesker',\n",
       " '000 mens',\n",
       " '000 mer',\n",
       " '000 mere',\n",
       " '000 meter',\n",
       " '000 millioner',\n",
       " '000 mindre',\n",
       " '000 minor',\n",
       " '000 minus',\n",
       " '000 mnd',\n",
       " '000 mot',\n",
       " '000 mulig',\n",
       " '000 muslimer',\n",
       " '000 mw',\n",
       " '000 mye',\n",
       " '000 må',\n",
       " '000 nazister',\n",
       " '000 nb',\n",
       " '000 negativer',\n",
       " '000 nesten',\n",
       " '000 netto',\n",
       " '000 neutral',\n",
       " '000 noen',\n",
       " '000 nok',\n",
       " '000 nordmenn',\n",
       " '000 nordstar',\n",
       " '000 norske',\n",
       " '000 nå',\n",
       " '000 når',\n",
       " '000 og',\n",
       " '000 også',\n",
       " '000 om',\n",
       " '000 opp',\n",
       " '000 over',\n",
       " '000 pa',\n",
       " '000 papir',\n",
       " '000 per',\n",
       " '000 person',\n",
       " '000 poeng',\n",
       " '000 potensielle',\n",
       " '000 ppd',\n",
       " '000 pr',\n",
       " '000 ps',\n",
       " '000 punkter',\n",
       " '000 på',\n",
       " '000 påloggete',\n",
       " '000 raske',\n",
       " '000 registerte',\n",
       " '000 renter',\n",
       " '000 rpm',\n",
       " '000 rundet',\n",
       " '000 russiske',\n",
       " '000 salg',\n",
       " '000 sandpapir',\n",
       " '000 satt',\n",
       " '000 seere',\n",
       " '000 sekunder',\n",
       " '000 ser',\n",
       " '000 sett',\n",
       " '000 skal',\n",
       " '000 skeptisk',\n",
       " '000 skjerm',\n",
       " '000 snuskete',\n",
       " '000 soldater',\n",
       " '000 som',\n",
       " '000 speilvendt',\n",
       " '000 strekker',\n",
       " '000 så',\n",
       " '000 tenker',\n",
       " '000 til',\n",
       " '000 tilbake',\n",
       " '000 tilgjengelig',\n",
       " '000 timer',\n",
       " '000 twh',\n",
       " '000 uf',\n",
       " '000 ulike',\n",
       " '000 unike',\n",
       " '000 unødvendige',\n",
       " '000 usd',\n",
       " '000 ute',\n",
       " '000 uten',\n",
       " '000 ved',\n",
       " '000 vi',\n",
       " '000 via',\n",
       " '000 vil',\n",
       " '000 volt',\n",
       " '000 x',\n",
       " '000 years',\n",
       " '000 zuluer',\n",
       " '000 å',\n",
       " '000 år',\n",
       " '0000',\n",
       " '0000 1500gmt',\n",
       " '0000 2156',\n",
       " '0000 years',\n",
       " '00000',\n",
       " '00000 is',\n",
       " '00000000000a',\n",
       " '00000000000a til',\n",
       " '00000000000b',\n",
       " '00000000000b før',\n",
       " '00000001',\n",
       " '00000001 korrekt',\n",
       " '00000001 skråstrekene',\n",
       " '000001',\n",
       " '000002',\n",
       " '000002 pa',\n",
       " '0000055347',\n",
       " '0000055347 aspx',\n",
       " '0000069560',\n",
       " '0000069560 aspx',\n",
       " '0000078082',\n",
       " '0000078082 aspx',\n",
       " '0000087529',\n",
       " '0000087529 aspx',\n",
       " '0001',\n",
       " '0001 999',\n",
       " '00012',\n",
       " '00012 varenr',\n",
       " '00051',\n",
       " '0005990913',\n",
       " '0005990913 html',\n",
       " '0005991433',\n",
       " '0005991433 html',\n",
       " '000a',\n",
       " '000a max',\n",
       " '000gb',\n",
       " '000gb mnd',\n",
       " '000gb og',\n",
       " '000km',\n",
       " '000km 10',\n",
       " '000km 113',\n",
       " '000km 4',\n",
       " '000km bilen',\n",
       " '000km bytte',\n",
       " '000km da',\n",
       " '000km det',\n",
       " '000km k',\n",
       " '000km men',\n",
       " '000km modifikasjoner',\n",
       " '000km når',\n",
       " '000km og',\n",
       " '000km rett',\n",
       " '000kr',\n",
       " '000kr altså',\n",
       " '000kr bilder',\n",
       " '000kr brutto',\n",
       " '000kr båtens',\n",
       " '000kr er',\n",
       " '000kr for',\n",
       " '000kr fremmgang',\n",
       " '000kr ganske',\n",
       " '000kr har',\n",
       " '000kr helst',\n",
       " '000kr her',\n",
       " '000kr historien',\n",
       " '000kr hva',\n",
       " '000kr hvis',\n",
       " '000kr ink',\n",
       " '000kr inkl',\n",
       " '000kr kjæresten',\n",
       " '000kr ligger',\n",
       " '000kr med',\n",
       " '000kr men',\n",
       " '000kr mer',\n",
       " '000kr mnd',\n",
       " '000kr mulig',\n",
       " '000kr mye',\n",
       " '000kr noen',\n",
       " '000kr ny',\n",
       " '000kr og',\n",
       " '000kr over',\n",
       " '000kr pom',\n",
       " '000kr samlet',\n",
       " '000kr skal',\n",
       " '000kr så',\n",
       " '000kr til',\n",
       " '000kr vil',\n",
       " '000m',\n",
       " '000m 36',\n",
       " '001',\n",
       " '001 motion',\n",
       " '001 pdf',\n",
       " '001 sq401',\n",
       " '0010',\n",
       " '0010 oslo',\n",
       " '0015',\n",
       " '0015 lørdagsnatta',\n",
       " '002',\n",
       " '002 jpg',\n",
       " '0024',\n",
       " '0024 oslo',\n",
       " '003',\n",
       " '003 pentagon',\n",
       " '0030',\n",
       " '0030 i',\n",
       " '003087',\n",
       " '0048724',\n",
       " '0048724 da',\n",
       " '00489d2de83a',\n",
       " '00489d2de83a jpg',\n",
       " '005',\n",
       " '005 når',\n",
       " '006002080',\n",
       " '006002080 ved',\n",
       " '006002092',\n",
       " '006002092 man',\n",
       " '006002130',\n",
       " '006002130 ellers',\n",
       " '006002130 jeg',\n",
       " '006002130 man',\n",
       " '006002130 marineforsterker',\n",
       " '006002130 sikring',\n",
       " '006002130 skal',\n",
       " '006002130 sprutboks',\n",
       " '006002130 vanlig',\n",
       " '007',\n",
       " '007 input',\n",
       " '007 serien',\n",
       " '007 venter',\n",
       " '007cd',\n",
       " '007cd har',\n",
       " '007cd og',\n",
       " '007dc',\n",
       " '007dc ang',\n",
       " '008',\n",
       " '008 sekunder',\n",
       " '00822',\n",
       " '0082j',\n",
       " '0082j google',\n",
       " '0089912200',\n",
       " '0089912200 prd',\n",
       " '009',\n",
       " '009 avløser',\n",
       " '009ba0',\n",
       " '009ba0 7',\n",
       " '00a',\n",
       " '00a som',\n",
       " '00am',\n",
       " '00am 9',\n",
       " '00am eastern',\n",
       " '00gb',\n",
       " '00gb hyperx',\n",
       " '00ghz',\n",
       " ...]"
      ]
     },
     "execution_count": 221,
     "metadata": {},
     "output_type": "execute_result"
    }
   ],
   "source": [
    "vec.get_feature_names()"
   ]
  },
  {
   "cell_type": "markdown",
   "metadata": {
    "slideshow": {
     "slide_type": "subslide"
    }
   },
   "source": [
    "# Tips\n",
    "- Generelt, desto mindre data du har, desto viktigere er det å hjelpe modellen med litt menenskelig kunskap ved å prosessere dataen på en måte vi vet gir mening"
   ]
  },
  {
   "cell_type": "code",
   "execution_count": 233,
   "metadata": {},
   "outputs": [
    {
     "name": "stdout",
     "output_type": "stream",
     "text": [
      "hey\n",
      "man\n"
     ]
    }
   ],
   "source": [
    "class A:\n",
    "    def __init__(self, param):\n",
    "        self.param = param\n",
    "    def foo(self):\n",
    "        print(self.param)\n",
    "        \n",
    "class B:\n",
    "    def __init__(self, *args, **kwargs):\n",
    "        super().__init__(*args, **kwargs)\n",
    "        pass\n",
    "    \n",
    "    def foo(self):\n",
    "        print(\"hey\")\n",
    "        super().foo()\n",
    "        \n",
    "class C(B, A):\n",
    "    pass\n",
    "\n",
    "c = C(\"man\")\n",
    "c.foo()"
   ]
  },
  {
   "cell_type": "markdown",
   "metadata": {},
   "source": [
    "# Andre ressurser"
   ]
  },
  {
   "cell_type": "code",
   "execution_count": 3,
   "metadata": {},
   "outputs": [],
   "source": [
    "import spacy\n",
    "nb_core = spacy.load(\"nb_core_news_sm\")"
   ]
  }
 ],
 "metadata": {
  "celltoolbar": "Slideshow",
  "kernelspec": {
   "display_name": "Python 3",
   "language": "python",
   "name": "python3"
  },
  "language_info": {
   "codemirror_mode": {
    "name": "ipython",
    "version": 3
   },
   "file_extension": ".py",
   "mimetype": "text/x-python",
   "name": "python",
   "nbconvert_exporter": "python",
   "pygments_lexer": "ipython3",
   "version": "3.6.9"
  }
 },
 "nbformat": 4,
 "nbformat_minor": 4
}
