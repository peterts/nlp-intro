{
 "cells": [
  {
   "cell_type": "code",
   "execution_count": 17,
   "metadata": {
    "slideshow": {
     "slide_type": "skip"
    }
   },
   "outputs": [
    {
     "data": {
      "text/html": [
       "        <script type=\"text/javascript\">\n",
       "        window.PlotlyConfig = {MathJaxConfig: 'local'};\n",
       "        if (window.MathJax) {MathJax.Hub.Config({SVG: {font: \"STIX-Web\"}});}\n",
       "        if (typeof require !== 'undefined') {\n",
       "        require.undef(\"plotly\");\n",
       "        requirejs.config({\n",
       "            paths: {\n",
       "                'plotly': ['https://cdn.plot.ly/plotly-latest.min']\n",
       "            }\n",
       "        });\n",
       "        require(['plotly'], function(Plotly) {\n",
       "            window._Plotly = Plotly;\n",
       "        });\n",
       "        }\n",
       "        </script>\n",
       "        "
      ]
     },
     "metadata": {},
     "output_type": "display_data"
    }
   ],
   "source": [
    "%run setup"
   ]
  },
  {
   "cell_type": "code",
   "execution_count": 18,
   "metadata": {
    "slideshow": {
     "slide_type": "skip"
    }
   },
   "outputs": [],
   "source": [
    "from IPython.display import Image\n",
    "from pathlib import Path\n",
    "from nlp_intro.data import create_2d_2class_data"
   ]
  },
  {
   "cell_type": "code",
   "execution_count": 8,
   "metadata": {
    "slideshow": {
     "slide_type": "skip"
    }
   },
   "outputs": [
    {
     "name": "stdout",
     "output_type": "stream",
     "text": [
      "/Users/petersandberg/Development/nlp-intro\n"
     ]
    }
   ],
   "source": [
    "root_dir = Path(\"..\").resolve()"
   ]
  },
  {
   "cell_type": "markdown",
   "metadata": {
    "slideshow": {
     "slide_type": "slide"
    }
   },
   "source": [
    "# Maskinlæring på 5 minutter"
   ]
  },
  {
   "cell_type": "markdown",
   "metadata": {},
   "source": [
    "<center> <img src=\"../images/bender.gif\"/> </center>"
   ]
  },
  {
   "cell_type": "markdown",
   "metadata": {
    "slideshow": {
     "slide_type": "subslide"
    }
   },
   "source": [
    "# 2 typer maskinlæring"
   ]
  },
  {
   "cell_type": "markdown",
   "metadata": {
    "slideshow": {
     "slide_type": "fragment"
    }
   },
   "source": [
    "1. **Veiledet læring** (en: supervised learning): metoder for å lære seg en sammenheng mellom data og kategorier/tallverdier tillordnet denne dataen, slik at man gitt ny data kan predikere disse kategoriene/tallverdiene"
   ]
  },
  {
   "cell_type": "markdown",
   "metadata": {
    "slideshow": {
     "slide_type": "fragment"
    }
   },
   "source": [
    "2. **Ikke-veilede læring** (en: unsupervised learning): metoder for å finne nyttige mønstre i data"
   ]
  },
  {
   "cell_type": "markdown",
   "metadata": {
    "slideshow": {
     "slide_type": "subslide"
    }
   },
   "source": [
    " ## Veiledet læring"
   ]
  },
  {
   "cell_type": "markdown",
   "metadata": {},
   "source": [
    "En verden av bestående av bokser:\n",
    "\n",
    "<center> <img src=\"../images/boxes1.png\"/> </center>"
   ]
  },
  {
   "cell_type": "code",
   "execution_count": 23,
   "metadata": {},
   "outputs": [
    {
     "data": {
      "text/plain": [
       "array([[0.96868345, 0.59288777],\n",
       "       [0.41794943, 0.8699788 ],\n",
       "       [0.86754888, 0.01535385],\n",
       "       [0.12227182, 0.00185436],\n",
       "       [0.83639003, 0.0389145 ],\n",
       "       [0.03552231, 0.75229245],\n",
       "       [0.78852602, 0.74744511],\n",
       "       [0.10960464, 0.4028516 ],\n",
       "       [0.83280956, 0.87594496],\n",
       "       [0.23459889, 0.72498332],\n",
       "       [0.23327645, 0.28600626],\n",
       "       [0.63503994, 0.32392893],\n",
       "       [0.91132448, 0.35244606],\n",
       "       [0.61132936, 0.69751983],\n",
       "       [0.60568617, 0.33887798],\n",
       "       [0.71394231, 0.57535311],\n",
       "       [0.23360404, 0.07057257],\n",
       "       [0.47554039, 0.61118227],\n",
       "       [0.27477997, 0.86952538],\n",
       "       [0.41330692, 0.98726923],\n",
       "       [0.20994706, 0.15620882],\n",
       "       [0.24869124, 0.6508027 ],\n",
       "       [0.75464454, 0.33647855],\n",
       "       [0.81929029, 0.04193957],\n",
       "       [0.60496054, 0.03008154],\n",
       "       [0.24607308, 0.36613244],\n",
       "       [0.60158084, 0.71951921],\n",
       "       [0.43479798, 0.94969561],\n",
       "       [0.75423774, 0.73514034],\n",
       "       [0.22807481, 0.35692959],\n",
       "       [0.56218259, 0.18179718],\n",
       "       [0.92198473, 0.77329936],\n",
       "       [0.15616403, 0.58289068],\n",
       "       [0.46797439, 0.33080858],\n",
       "       [0.00915584, 0.60997889],\n",
       "       [0.58348581, 0.68520032],\n",
       "       [0.64840853, 0.75802873],\n",
       "       [0.08054114, 0.67056001],\n",
       "       [0.79653706, 0.01308337],\n",
       "       [0.42941462, 0.83183644],\n",
       "       [0.55771032, 0.07622827],\n",
       "       [0.21753534, 0.36541604],\n",
       "       [0.1740649 , 0.90831833],\n",
       "       [0.05395801, 0.44555556],\n",
       "       [0.38650252, 0.482158  ],\n",
       "       [0.95105002, 0.77057574],\n",
       "       [0.95836681, 0.64881513],\n",
       "       [0.79345567, 0.21015123],\n",
       "       [0.62267404, 0.99607474],\n",
       "       [0.28374698, 0.87539893],\n",
       "       [0.06921638, 0.01734772],\n",
       "       [0.98908713, 0.05881307],\n",
       "       [0.70092324, 0.85875468],\n",
       "       [0.6895109 , 0.16779674],\n",
       "       [0.07011051, 0.00204368],\n",
       "       [0.14706113, 0.38856254],\n",
       "       [0.68151481, 0.88306022],\n",
       "       [0.59619828, 0.89904662],\n",
       "       [0.33099208, 0.0828707 ],\n",
       "       [0.52519619, 0.65498525],\n",
       "       [0.09766421, 0.40421755],\n",
       "       [0.24724371, 0.65314098],\n",
       "       [0.2012984 , 0.25112619],\n",
       "       [0.02514292, 0.49039281],\n",
       "       [0.12623318, 0.36660295],\n",
       "       [0.13628649, 0.99639839],\n",
       "       [0.31362107, 0.3037971 ],\n",
       "       [0.66492142, 0.47662602],\n",
       "       [0.67851258, 0.5427689 ],\n",
       "       [0.54981757, 0.32848259],\n",
       "       [0.20137219, 0.20835097],\n",
       "       [0.54295137, 0.15860823],\n",
       "       [0.01150115, 0.44372612],\n",
       "       [0.23377672, 0.55364872],\n",
       "       [0.94724193, 0.07939663],\n",
       "       [0.62948712, 0.82044408],\n",
       "       [0.91365621, 0.32098538],\n",
       "       [0.80595675, 0.30382985],\n",
       "       [0.64023578, 0.54174678],\n",
       "       [0.65488934, 0.72806663],\n",
       "       [0.33479989, 0.74102667],\n",
       "       [0.02480661, 0.56432722],\n",
       "       [0.39996395, 0.16677989],\n",
       "       [0.17574812, 0.78528911],\n",
       "       [0.32841123, 0.19800656],\n",
       "       [0.62035077, 0.74375945],\n",
       "       [0.52912482, 0.58366901],\n",
       "       [0.44185007, 0.71245057],\n",
       "       [0.02826357, 0.41359485],\n",
       "       [0.1554319 , 0.36021178],\n",
       "       [0.71410083, 0.59980734],\n",
       "       [0.10537802, 0.97514606],\n",
       "       [0.6492268 , 0.66758942],\n",
       "       [0.33774046, 0.42657792],\n",
       "       [0.17633456, 0.38587498],\n",
       "       [0.21738242, 0.16786476],\n",
       "       [0.77608396, 0.53731027],\n",
       "       [0.70202787, 0.26908514],\n",
       "       [0.84132367, 0.39260761],\n",
       "       [0.50268354, 0.58697125]])"
      ]
     },
     "execution_count": 23,
     "metadata": {},
     "output_type": "execute_result"
    }
   ],
   "source": [
    "X, y = create_2d_2class_data((0, 1), (0, 1), 100, lambda x: x, .1)\n",
    "X"
   ]
  },
  {
   "cell_type": "code",
   "execution_count": null,
   "metadata": {
    "slideshow": {
     "slide_type": "subslide"
    }
   },
   "outputs": [],
   "source": []
  },
  {
   "cell_type": "code",
   "execution_count": null,
   "metadata": {},
   "outputs": [],
   "source": [
    "3. **Reinforcement learning** "
   ]
  }
 ],
 "metadata": {
  "celltoolbar": "Slideshow",
  "kernelspec": {
   "display_name": "Python 3",
   "language": "python",
   "name": "python3"
  },
  "language_info": {
   "codemirror_mode": {
    "name": "ipython",
    "version": 3
   },
   "file_extension": ".py",
   "mimetype": "text/x-python",
   "name": "python",
   "nbconvert_exporter": "python",
   "pygments_lexer": "ipython3",
   "version": "3.7.3"
  }
 },
 "nbformat": 4,
 "nbformat_minor": 2
}
