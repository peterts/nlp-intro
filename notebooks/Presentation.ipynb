{
 "cells": [
  {
   "cell_type": "code",
   "execution_count": 1,
   "metadata": {
    "slideshow": {
     "slide_type": "skip"
    }
   },
   "outputs": [
    {
     "data": {
      "text/html": [
       "        <script type=\"text/javascript\">\n",
       "        window.PlotlyConfig = {MathJaxConfig: 'local'};\n",
       "        if (window.MathJax) {MathJax.Hub.Config({SVG: {font: \"STIX-Web\"}});}\n",
       "        if (typeof require !== 'undefined') {\n",
       "        require.undef(\"plotly\");\n",
       "        requirejs.config({\n",
       "            paths: {\n",
       "                'plotly': ['https://cdn.plot.ly/plotly-latest.min']\n",
       "            }\n",
       "        });\n",
       "        require(['plotly'], function(Plotly) {\n",
       "            window._Plotly = Plotly;\n",
       "        });\n",
       "        }\n",
       "        </script>\n",
       "        "
      ]
     },
     "metadata": {},
     "output_type": "display_data"
    }
   ],
   "source": [
    "%run setup\n",
    "%load_ext autoreload\n",
    "%autoreload 2"
   ]
  },
  {
   "cell_type": "code",
   "execution_count": 163,
   "metadata": {
    "slideshow": {
     "slide_type": "skip"
    }
   },
   "outputs": [],
   "source": [
    "from IPython.display import Image\n",
    "from pathlib import Path\n",
    "from nlp_intro.data import draw_uniform_data\n",
    "from nlp_intro.figure_factory import Linear2D2ClassModelPlotter, plot_3d_scatter, gradient_descent_animation, plot_as_image\n",
    "import pandas as pd\n",
    "import numpy as np\n",
    "from nlp_intro.logistic_regression import gradient\n",
    "from nlp_intro.data import load_diskusjon_no_data\n",
    "from nlp_intro.my_multiprocessing import process\n",
    "import warnings\n",
    "import re"
   ]
  },
  {
   "cell_type": "code",
   "execution_count": 171,
   "metadata": {
    "slideshow": {
     "slide_type": "skip"
    }
   },
   "outputs": [],
   "source": [
    "warnings.filterwarnings(\"ignore\")"
   ]
  },
  {
   "cell_type": "code",
   "execution_count": 3,
   "metadata": {
    "slideshow": {
     "slide_type": "skip"
    }
   },
   "outputs": [],
   "source": [
    "root_dir = Path(\"..\").resolve()"
   ]
  },
  {
   "cell_type": "markdown",
   "metadata": {
    "slideshow": {
     "slide_type": "slide"
    }
   },
   "source": [
    "# Motivasjon\n",
    "\n",
    "- Store deler av mennneskehetens samlede kunnskap finnes i tekstlige, ikke-strukturerte dokumenter\n",
    "    - Et *dokument* kan være alt fra en tweet til en hel vitnekapelig artikkel, avhengig av problemet du prøver å løse\n",
    "- Mer tekstdata genereres hver dag enn én person kan rekke å lese hele sitt liv\n",
    "- Mange virkelige datasett er delvis tekst, og disse teknikkene kan brukes for å hente ut \"featres\" fra denne teksten"
   ]
  },
  {
   "cell_type": "markdown",
   "metadata": {
    "slideshow": {
     "slide_type": "fragment"
    }
   },
   "source": [
    "Og ikke minst: om vi noen gang skal ha håp om å kommunisere med datamaskiner må vi gjøre dem i stand til å forstå språket vi bruker"
   ]
  },
  {
   "cell_type": "markdown",
   "metadata": {
    "slideshow": {
     "slide_type": "subslide"
    }
   },
   "source": [
    "<center> <img src=\"../images/a-day-in-data.jpg\"/> </center>"
   ]
  },
  {
   "cell_type": "markdown",
   "metadata": {},
   "source": [
    "# Mål for presentasjonen\n",
    "\n",
    "- Kommer ikke til å gå i dybden på hver algoritme som brukes - flere av algoritmene kunne vi dedikert en helt egen fagkveld til\n",
    "- Målet med presentasjonen er å:\n",
    "    - Demystifisere NLP - gi deg en forståelse av hvordan ulike NLP-problemstillinger løses\n",
    "    - Gi en praktisk introduksjon til temaet gjennom kode"
   ]
  },
  {
   "cell_type": "markdown",
   "metadata": {
    "slideshow": {
     "slide_type": "slide"
    }
   },
   "source": [
    "# Maskinlæring på 5 minutter"
   ]
  },
  {
   "cell_type": "markdown",
   "metadata": {
    "slideshow": {
     "slide_type": "subslide"
    }
   },
   "source": [
    "# 2 typer maskinlæring"
   ]
  },
  {
   "cell_type": "markdown",
   "metadata": {
    "slideshow": {
     "slide_type": "fragment"
    }
   },
   "source": [
    "1. **Veiledet læring** (en: supervised learning): metoder for å lære seg en sammenheng mellom data og kategorier/tallverdier tillordnet denne dataen, slik at man gitt ny data kan predikere disse kategoriene/tallverdiene"
   ]
  },
  {
   "cell_type": "markdown",
   "metadata": {
    "slideshow": {
     "slide_type": "fragment"
    }
   },
   "source": [
    "2. **Ikke-veiledet læring** (en: unsupervised learning): metoder for å finne nyttige mønstre i data"
   ]
  },
  {
   "cell_type": "markdown",
   "metadata": {
    "slideshow": {
     "slide_type": "subslide"
    }
   },
   "source": [
    " ## Veiledet læring"
   ]
  },
  {
   "cell_type": "markdown",
   "metadata": {
    "slideshow": {
     "slide_type": "-"
    }
   },
   "source": [
    " \n",
    "<center> <img src=\"../images/bender.gif\"/> </center>"
   ]
  },
  {
   "cell_type": "markdown",
   "metadata": {
    "slideshow": {
     "slide_type": "subslide"
    }
   },
   "source": [
    "Vi har datapunkter $X$ og for hvert datapunkt en kategori/tallverdi $y$. Vi antar at det er en sammenheng mellom $X$ og $y$, slik at $X$ kan brukes for å predikere $y$:\n",
    "$$X \\rightarrow y$$"
   ]
  },
  {
   "cell_type": "markdown",
   "metadata": {
    "slideshow": {
     "slide_type": "fragment"
    }
   },
   "source": [
    "Ved hjelp av *veiledet læring* ønsker vi å finne denne \"pilen\"/modellen:\n",
    "$$X \\boxed{\\rightarrow} y$$"
   ]
  },
  {
   "cell_type": "markdown",
   "metadata": {
    "slideshow": {
     "slide_type": "fragment"
    }
   },
   "source": [
    "..slik at gitt nye datapunkter $X_2$ og modellen:\n",
    "$$X_2 \\rightarrow $$"
   ]
  },
  {
   "cell_type": "markdown",
   "metadata": {
    "slideshow": {
     "slide_type": "fragment"
    }
   },
   "source": [
    "...kan vi produsere prediksjoner for hvert av de nye datapunktene:\n",
    "$$X_2 \\rightarrow y_2$$"
   ]
  },
  {
   "cell_type": "markdown",
   "metadata": {
    "slideshow": {
     "slide_type": "subslide"
    }
   },
   "source": [
    "## Eksempel: et datasett av bokser"
   ]
  },
  {
   "cell_type": "markdown",
   "metadata": {},
   "source": [
    "<center> <img src=\"../images/boxes1.png\"  style=\"height:200px;width:auto;\"/> </center>"
   ]
  },
  {
   "cell_type": "code",
   "execution_count": 4,
   "metadata": {
    "slideshow": {
     "slide_type": "-"
    }
   },
   "outputs": [
    {
     "data": {
      "text/html": [
       "<div>\n",
       "<style scoped>\n",
       "    .dataframe tbody tr th:only-of-type {\n",
       "        vertical-align: middle;\n",
       "    }\n",
       "\n",
       "    .dataframe tbody tr th {\n",
       "        vertical-align: top;\n",
       "    }\n",
       "\n",
       "    .dataframe thead th {\n",
       "        text-align: right;\n",
       "    }\n",
       "</style>\n",
       "<table border=\"1\" class=\"dataframe\">\n",
       "  <thead>\n",
       "    <tr style=\"text-align: right;\">\n",
       "      <th></th>\n",
       "      <th>width</th>\n",
       "      <th>height</th>\n",
       "    </tr>\n",
       "  </thead>\n",
       "  <tbody>\n",
       "    <tr>\n",
       "      <th>0</th>\n",
       "      <td>0.895346</td>\n",
       "      <td>0.314897</td>\n",
       "    </tr>\n",
       "    <tr>\n",
       "      <th>1</th>\n",
       "      <td>0.416592</td>\n",
       "      <td>0.538401</td>\n",
       "    </tr>\n",
       "    <tr>\n",
       "      <th>2</th>\n",
       "      <td>0.986537</td>\n",
       "      <td>0.985136</td>\n",
       "    </tr>\n",
       "  </tbody>\n",
       "</table>\n",
       "</div>"
      ],
      "text/plain": [
       "      width    height\n",
       "0  0.895346  0.314897\n",
       "1  0.416592  0.538401\n",
       "2  0.986537  0.985136"
      ]
     },
     "execution_count": 4,
     "metadata": {},
     "output_type": "execute_result"
    }
   ],
   "source": [
    "data = draw_uniform_data(100, (0, 1), (0, 1))\n",
    "feature_names = (\"width\", \"height\")\n",
    "pd.DataFrame(data, columns=feature_names).head(3)"
   ]
  },
  {
   "cell_type": "code",
   "execution_count": 5,
   "metadata": {
    "slideshow": {
     "slide_type": "subslide"
    }
   },
   "outputs": [
    {
     "data": {
      "image/png": "[encoded data removed]",
      "text/plain": [
       "<IPython.core.display.Image object>"
      ]
     },
     "execution_count": 5,
     "metadata": {},
     "output_type": "execute_result"
    }
   ],
   "source": [
    "layout = dict(width=800, height=600, yaxis=dict(title_text=\"height\"), xaxis=dict(title_text=\"width\"))\n",
    "plotter = Linear2D2ClassModelPlotter((0,1), (0,1), layout=layout)\n",
    "plotter.update_data_plots(data)\n",
    "plot_as_image(plotter())"
   ]
  },
  {
   "cell_type": "markdown",
   "metadata": {
    "slideshow": {
     "slide_type": "subslide"
    }
   },
   "source": [
    "### En lineær modell for boks-dataen\n",
    "\n",
    "Er dette en god modell for boks-dataen vår?"
   ]
  },
  {
   "cell_type": "code",
   "execution_count": 6,
   "metadata": {},
   "outputs": [
    {
     "data": {
      "image/png": "[encoded data removed]",
      "text/plain": [
       "<IPython.core.display.Image object>"
      ]
     },
     "execution_count": 6,
     "metadata": {},
     "output_type": "execute_result"
    }
   ],
   "source": [
    "plotter.update_model_area_plots(lambda x: 1.5*x+0.2)\n",
    "plot_as_image(plotter())"
   ]
  },
  {
   "cell_type": "markdown",
   "metadata": {
    "slideshow": {
     "slide_type": "fragment"
    }
   },
   "source": [
    "Umulig å vite. For å kunne en veiledet modell trenger vi noe som kan veilede modellen."
   ]
  },
  {
   "cell_type": "code",
   "execution_count": 7,
   "metadata": {
    "slideshow": {
     "slide_type": "skip"
    }
   },
   "outputs": [],
   "source": [
    "def predict(boolean_model, data, class_names):\n",
    "    label_ids = boolean_model(data)\n",
    "    label_names = np.asarray(class_names)\n",
    "    return label_names[label_ids.astype(int)]"
   ]
  },
  {
   "cell_type": "markdown",
   "metadata": {
    "slideshow": {
     "slide_type": "subslide"
    }
   },
   "source": [
    "### Tagging av hvert datapunkt\n",
    "\n",
    "- For å veilede modellen vår må hvert punkt tagges med en kategori eller tallverdi.\n",
    "- Mange potensielle måter å tagge boks-datapunktene våre, men én mulighet er å skille mellom \"vide\" og \"høye\" rektangler\n",
    "- Obs: dette er *ikke* et problem som bør løses med maskinlæring, men det lar seg fint gjøre om man har samlet data med disse taggene\n",
    "\n",
    "<center> <img src=\"../images/rectangle-classes.png\"  style=\"height:600px;width:auto;\"/> </center>"
   ]
  },
  {
   "cell_type": "markdown",
   "metadata": {
    "slideshow": {
     "slide_type": "subslide"
    }
   },
   "source": [
    "Vi vil da få et datasett på følgende format:"
   ]
  },
  {
   "cell_type": "code",
   "execution_count": 8,
   "metadata": {
    "slideshow": {
     "slide_type": "-"
    }
   },
   "outputs": [
    {
     "data": {
      "text/html": [
       "<div>\n",
       "<style scoped>\n",
       "    .dataframe tbody tr th:only-of-type {\n",
       "        vertical-align: middle;\n",
       "    }\n",
       "\n",
       "    .dataframe tbody tr th {\n",
       "        vertical-align: top;\n",
       "    }\n",
       "\n",
       "    .dataframe thead th {\n",
       "        text-align: right;\n",
       "    }\n",
       "</style>\n",
       "<table border=\"1\" class=\"dataframe\">\n",
       "  <thead>\n",
       "    <tr style=\"text-align: right;\">\n",
       "      <th></th>\n",
       "      <th>width</th>\n",
       "      <th>height</th>\n",
       "      <th>class</th>\n",
       "    </tr>\n",
       "  </thead>\n",
       "  <tbody>\n",
       "    <tr>\n",
       "      <th>0</th>\n",
       "      <td>0.8953460631629142</td>\n",
       "      <td>0.3148974329865626</td>\n",
       "      <td>Wide rectangle</td>\n",
       "    </tr>\n",
       "    <tr>\n",
       "      <th>1</th>\n",
       "      <td>0.41659168803512836</td>\n",
       "      <td>0.5384010647096859</td>\n",
       "      <td>Tall rectangle</td>\n",
       "    </tr>\n",
       "    <tr>\n",
       "      <th>2</th>\n",
       "      <td>0.9865365122598324</td>\n",
       "      <td>0.9851359496139936</td>\n",
       "      <td>Wide rectangle</td>\n",
       "    </tr>\n",
       "    <tr>\n",
       "      <th>3</th>\n",
       "      <td>0.2728945519354834</td>\n",
       "      <td>0.24632392960331118</td>\n",
       "      <td>Wide rectangle</td>\n",
       "    </tr>\n",
       "    <tr>\n",
       "      <th>4</th>\n",
       "      <td>0.41271962331326284</td>\n",
       "      <td>0.9735090708637028</td>\n",
       "      <td>Tall rectangle</td>\n",
       "    </tr>\n",
       "  </tbody>\n",
       "</table>\n",
       "</div>"
      ],
      "text/plain": [
       "                 width               height           class\n",
       "0   0.8953460631629142   0.3148974329865626  Wide rectangle\n",
       "1  0.41659168803512836   0.5384010647096859  Tall rectangle\n",
       "2   0.9865365122598324   0.9851359496139936  Wide rectangle\n",
       "3   0.2728945519354834  0.24632392960331118  Wide rectangle\n",
       "4  0.41271962331326284   0.9735090708637028  Tall rectangle"
      ]
     },
     "execution_count": 8,
     "metadata": {},
     "output_type": "execute_result"
    }
   ],
   "source": [
    "class_names = [\"Tall rectangle\", \"Wide rectangle\"]\n",
    "model = lambda data: data[:,0] > data[:,1]\n",
    "labels = predict(model, data, class_names)\n",
    "pd.DataFrame(np.asarray([*data.T, labels]).T, columns=(\"width\", \"height\", \"class\")).head(5)"
   ]
  },
  {
   "cell_type": "code",
   "execution_count": 9,
   "metadata": {
    "slideshow": {
     "slide_type": "subslide"
    }
   },
   "outputs": [
    {
     "data": {
      "image/png": "[encoded data removed]",
      "text/plain": [
       "<IPython.core.display.Image object>"
      ]
     },
     "execution_count": 9,
     "metadata": {},
     "output_type": "execute_result"
    }
   ],
   "source": [
    "plotter.disable_model_areas()\n",
    "plotter.update_data_plots(data, labels, unq_classes=class_names[::-1])\n",
    "plot_as_image(plotter())"
   ]
  },
  {
   "cell_type": "markdown",
   "metadata": {
    "slideshow": {
     "slide_type": "subslide"
    }
   },
   "source": [
    "### En lineær modell for å skille mellom vide og høye rektangler\n",
    "\n",
    "For å skille disse punktene fra hverandre kan vi trene en lineær modell vha veiledet læring. Kan vi nå si om modellen er god eller ikke?"
   ]
  },
  {
   "cell_type": "code",
   "execution_count": 10,
   "metadata": {
    "slideshow": {
     "slide_type": "-"
    }
   },
   "outputs": [
    {
     "data": {
      "image/png": "[encoded data removed]",
      "text/plain": [
       "<IPython.core.display.Image object>"
      ]
     },
     "execution_count": 10,
     "metadata": {},
     "output_type": "execute_result"
    }
   ],
   "source": [
    "lin_model = lambda x: 0.8*x + 0.1\n",
    "plotter.enable_model_areas()\n",
    "plotter.update_model_area_plots(lin_model)\n",
    "plot_as_image(plotter())"
   ]
  },
  {
   "cell_type": "markdown",
   "metadata": {
    "slideshow": {
     "slide_type": "fragment"
    }
   },
   "source": [
    "Ja, vi kan nå bruke kategoriene i datasettet vårt for å avgjøre om modellen er god eller om den må justeres."
   ]
  },
  {
   "cell_type": "markdown",
   "metadata": {
    "slideshow": {
     "slide_type": "subslide"
    }
   },
   "source": [
    "Med en trent modell kan vi gjøre prediksjoner for nye datapunkter. Vi kan da \"kaste vekk\" all dataen vi brukte for å trene den."
   ]
  },
  {
   "cell_type": "code",
   "execution_count": 11,
   "metadata": {
    "slideshow": {
     "slide_type": "-"
    }
   },
   "outputs": [
    {
     "data": {
      "image/png": "[encoded data removed]",
      "text/plain": [
       "<IPython.core.display.Image object>"
      ]
     },
     "execution_count": 11,
     "metadata": {},
     "output_type": "execute_result"
    }
   ],
   "source": [
    "plotter.disable_data_points()\n",
    "plot_as_image(plotter())"
   ]
  },
  {
   "cell_type": "code",
   "execution_count": 12,
   "metadata": {
    "slideshow": {
     "slide_type": "subslide"
    }
   },
   "outputs": [
    {
     "data": {
      "image/png": "[encoded data removed]",
      "text/plain": [
       "<IPython.core.display.Image object>"
      ]
     },
     "execution_count": 12,
     "metadata": {},
     "output_type": "execute_result"
    }
   ],
   "source": [
    "new_data = draw_uniform_data(1, (0,1), (0,1))\n",
    "plotter.update_data_plots(new_data)\n",
    "plotter.enable_data_points()\n",
    "plot_as_image(plotter())"
   ]
  },
  {
   "cell_type": "code",
   "execution_count": 13,
   "metadata": {
    "slideshow": {
     "slide_type": "skip"
    }
   },
   "outputs": [],
   "source": [
    "def predict_using_linear_model(lin_model, data, class_names):\n",
    "    label_ids = (lin_model(data[:,0]) > data[:,1]).astype(int)\n",
    "    return np.asarray(class_names)[label_ids]"
   ]
  },
  {
   "cell_type": "code",
   "execution_count": 14,
   "metadata": {
    "slideshow": {
     "slide_type": "subslide"
    }
   },
   "outputs": [
    {
     "data": {
      "image/png": "[encoded data removed]",
      "text/plain": [
       "<IPython.core.display.Image object>"
      ]
     },
     "execution_count": 14,
     "metadata": {},
     "output_type": "execute_result"
    }
   ],
   "source": [
    "labels = predict_using_linear_model(lin_model, new_data, class_names)\n",
    "plotter.update_data_plots(new_data, labels, unq_classes=class_names[::-1])\n",
    "plot_as_image(plotter())"
   ]
  },
  {
   "cell_type": "markdown",
   "metadata": {
    "slideshow": {
     "slide_type": "subslide"
    }
   },
   "source": [
    "## Hvordan forbedre modellen?\n",
    "\n",
    "For å finne ut hvordan modellen må endres kan vi definere en *feilfunkson* $E$ og bruke de deriverte av denne funksjonen mht parametere i modellen vår. Den deriverte for en parameter vil peke i retningen vi må endre parameteren for å redusere verdien av feilfunksjonen.\n",
    "\n",
    "$$\n",
    "\\frac{\\partial}{\\partial w_i}E(modell, data, klasser)\n",
    "$$\n",
    "Hvor modellen er en funksjon av $w_0, w_1,...,w_n$"
   ]
  },
  {
   "cell_type": "markdown",
   "metadata": {},
   "source": [
    "Link til presentasjon"
   ]
  },
  {
   "cell_type": "markdown",
   "metadata": {
    "slideshow": {
     "slide_type": "subslide"
    }
   },
   "source": [
    "### Psuedo-algoritme for veiledet læring ved \"gradient descent\" \n",
    "\n",
    "1. Start med en tilfeldig konfigurasjon av modellen\n",
    "2. Beregn de deriverte (aka gradientene, derav \"gradient descent\")\n",
    "3. Bruk disse for å oppdatere modellen\n",
    "4. Iterer steg 1-3 frem til endringene av modellen fra et steg til det neste blir for små (eller et annet stopp-kriterium er nådd)\n",
    "\n",
    "<center> <img src=\"../images/gradient-descent.jpg\"/> </center>"
   ]
  },
  {
   "cell_type": "markdown",
   "metadata": {
    "slideshow": {
     "slide_type": "subslide"
    }
   },
   "source": [
    "La oss teste dette opp boks-dataen vår. Vi vet at den korrekte linjen for å skille høye og vide rektangler vil være:\n",
    "$$y = w_0*x + w_1 = 1 * x + 0 = x$$"
   ]
  },
  {
   "cell_type": "markdown",
   "metadata": {
    "slideshow": {
     "slide_type": "skip"
    }
   },
   "source": [
    "NB: Hvis animasjonen under ikke kommer opp, prøv å gå kjøre \"File > Trust Notebook\""
   ]
  },
  {
   "cell_type": "code",
   "execution_count": 15,
   "metadata": {},
   "outputs": [
    {
     "data": {
      "application/vnd.plotly.v1+json": {
       "config": {
        "plotlyServerURL": "https://plot.ly"
       },
       "data": [
        {
         "fill": "toself",
         "fillcolor": "rgba(255,65,54,0.5)",
         "hoverinfo": "none",
         "mode": "none",
         "showlegend": false,
         "type": "scatter",
         "x": [],
         "y": []
        },
        {
         "fill": "toself",
         "fillcolor": "rgba(0,116,217,0.5)",
         "hoverinfo": "none",
         "mode": "none",
         "showlegend": false,
         "type": "scatter",
         "x": [],
         "y": []
        },
        {
         "marker": {
          "color": "black"
         },
         "mode": "lines",
         "showlegend": false,
         "type": "scatter",
         "x": [],
         "y": []
        },
        {
         "marker": {
          "color": "rgba(255,65,54,1.0)",
          "line": {
           "width": 1
          },
          "size": 10
         },
         "mode": "markers",
         "name": "Wide rectangle",
         "type": "scatter",
         "x": [
          0.9127407884974093,
          0.9168601336338555,
          0.9311201658556361,
          0.9052068071062419,
          0.9174791244507354,
          0.8251952867541446,
          0.46703322226584665,
          0.3039916789725665,
          0.4308703171715844,
          0.7078932517193766,
          0.6993166585819425,
          0.5660918529033384,
          0.4602336100555584,
          0.9174328641712626,
          0.3703731982080706,
          0.605071562371,
          0.4494228111914629,
          0.5174979280187638,
          0.7346458112151556,
          0.40242753759019767,
          0.3791862821922155,
          0.9433968291673757,
          0.7528450973526647,
          0.4423424092135696,
          0.5733832507140566,
          0.6113271941176369,
          0.9948124167618054,
          0.5231008267898865,
          0.8321879311804448,
          0.9166533765873487,
          0.5077117072849734,
          0.9927159266333099,
          0.5029701863833537,
          0.892237523708614,
          0.6936002216606759,
          0.3254668470026696,
          0.343674817466578,
          0.7864203904898242,
          0.5138375303802907,
          0.5185463359694678,
          0.5776545852253475,
          0.37870778051851206,
          0.9713150433882713,
          0.7055828780242244,
          0.6951558390161064,
          0.9257328676172919,
          0.33579467839385824,
          0.9782639436259049,
          0.354028643026447,
          0.935216434156398,
          0.20241556804323602
         ],
         "y": [
          0.10138004662381062,
          0.5640856826974502,
          0.4746754869757348,
          0.42307463674948265,
          0.8835088029086725,
          0.5303098013125226,
          0.3958890626697983,
          0.028586701618953714,
          0.1274825820925879,
          0.6104287929880697,
          0.02102595941007035,
          0.15769460576672323,
          0.15917971739883408,
          0.2305334088683555,
          0.03614058744306292,
          0.44471280667096647,
          0.07605149689607005,
          0.38570735464571015,
          0.10607602944397776,
          0.019692091608589313,
          0.3325660929162424,
          0.3636935644936726,
          0.2731571399746261,
          0.3942899454794968,
          0.18978543252540614,
          0.5052626484971736,
          0.2790920264518473,
          0.40013407549929025,
          0.7775094095421144,
          0.622728875886707,
          0.13580936712304237,
          0.6040973534310989,
          0.3667637886620363,
          0.7128191050665946,
          0.418744955470443,
          0.28442682078021475,
          0.23836262904417316,
          0.6435593338390543,
          0.20251848322294375,
          0.463651960382921,
          0.2405425968355953,
          0.23451820850820004,
          0.4079359652678577,
          0.6329314374455077,
          0.05526646063499818,
          0.45155513325537344,
          0.2589081523411697,
          0.24199318231354328,
          0.33557372049995904,
          0.11324128447715154,
          0.026840680801834993
         ]
        },
        {
         "marker": {
          "color": "rgba(0,116,217,1.0)",
          "line": {
           "width": 1
          },
          "size": 10
         },
         "mode": "markers",
         "name": "Tall rectangle",
         "type": "scatter",
         "x": [
          0.03272147750810428,
          0.042008071478498055,
          0.19796307292143733,
          0.0606480826098621,
          0.48384371609182375,
          0.11744846638922712,
          0.44043347414543743,
          0.24204595458993305,
          0.3729896820595584,
          0.49460893665144534,
          0.18973910416703776,
          0.020716647470952476,
          0.09445868704917515,
          0.04414492142389281,
          0.5782950288655956,
          0.6693330030401793,
          0.033505168745396996,
          0.20620281870912194,
          0.9304823081530514,
          0.8806499050432414,
          0.16073033677186477,
          0.04618875334008454,
          0.267680972407478,
          0.6837678925799691,
          0.26645735784294833,
          0.3986963456399172,
          0.04282798294609613,
          0.8699091149877594,
          0.6261768171179064,
          0.01928377100202039,
          0.5296433991030988,
          0.1510391424329255,
          0.19025130317717653,
          0.35623072099426756,
          0.4730597988036299,
          0.2550998105162887,
          0.1979739413433752,
          0.8792567025407592,
          0.001495162139627082,
          0.036794675716617764,
          0.3353416415117849,
          0.44240129540550854,
          0.15148002772664915,
          0.5542287686597966,
          0.48157490147463966,
          0.6550386752711159,
          0.9391980391739713,
          0.2066952661619338,
          0.05377401417600258
         ],
         "y": [
          0.7019221134153325,
          0.6634806303100618,
          0.42913458744233357,
          0.641794566571725,
          0.7913237732257601,
          0.2877156942934247,
          0.8324725281424272,
          0.6459768009256384,
          0.8761769602185645,
          0.6833181586106722,
          0.39865026775747336,
          0.3608368925814356,
          0.8489183648954902,
          0.35134845517102564,
          0.7985750197686141,
          0.9381233398947978,
          0.7876704944134143,
          0.6172278757204214,
          0.9831495687390471,
          0.9427422510285797,
          0.22327058775599462,
          0.570278452915611,
          0.7831241609863832,
          0.8965195309715616,
          0.6327274595438281,
          0.45136373402723207,
          0.30923397305177824,
          0.9589386284186381,
          0.6529052976218448,
          0.3506047510159701,
          0.9354955583158999,
          0.5354970364067124,
          0.4445859024534907,
          0.6685501390039883,
          0.7412655150595187,
          0.7537489147242304,
          0.4445740024346071,
          0.9071619008940264,
          0.9932263097457706,
          0.2810777454108635,
          0.8407701405892541,
          0.6727574062627606,
          0.7184126357703378,
          0.8135336864003199,
          0.9531193301917572,
          0.6762752352064614,
          0.971466574863676,
          0.3821489283255822,
          0.2502884577649823
         ]
        }
       ],
       "frames": [
        {
         "data": [
          {
           "fill": "toself",
           "fillcolor": "rgba(255,65,54,0.5)",
           "hoverinfo": "none",
           "mode": "none",
           "showlegend": false,
           "type": "scatter",
           "x": [
            1.05,
            1.05,
            -0.05,
            -0.05,
            1.05
           ],
           "y": [
            0.3819995924378689,
            -0.05,
            -0.05,
            0.7282785602771713,
            0.3819995924378689
           ]
          },
          {
           "fill": "toself",
           "fillcolor": "rgba(0,116,217,0.5)",
           "hoverinfo": "none",
           "mode": "none",
           "showlegend": false,
           "type": "scatter",
           "x": [
            -0.05,
            -0.05,
            1.05,
            1.05,
            -0.05
           ],
           "y": [
            0.7282785602771713,
            1.05,
            1.05,
            0.3819995924378689,
            0.7282785602771713
           ]
          }
         ],
         "layout": {
          "title": {
           "text": " Model: -0.31*x + 0.71"
          }
         }
        },
        {
         "data": [
          {
           "fill": "toself",
           "fillcolor": "rgba(255,65,54,0.5)",
           "hoverinfo": "none",
           "mode": "none",
           "showlegend": false,
           "type": "scatter",
           "x": [
            1.05,
            1.05,
            -0.05,
            -0.05,
            1.05
           ],
           "y": [
            0.4696794471971151,
            -0.05,
            -0.05,
            0.6358744312718007,
            0.4696794471971151
           ]
          },
          {
           "fill": "toself",
           "fillcolor": "rgba(0,116,217,0.5)",
           "hoverinfo": "none",
           "mode": "none",
           "showlegend": false,
           "type": "scatter",
           "x": [
            -0.05,
            -0.05,
            1.05,
            1.05,
            -0.05
           ],
           "y": [
            0.6358744312718007,
            1.05,
            1.05,
            0.4696794471971151,
            0.6358744312718007
           ]
          }
         ],
         "layout": {
          "title": {
           "text": " Model: -0.15*x + 0.63"
          }
         }
        },
        {
         "data": [
          {
           "fill": "toself",
           "fillcolor": "rgba(255,65,54,0.5)",
           "hoverinfo": "none",
           "mode": "none",
           "showlegend": false,
           "type": "scatter",
           "x": [
            1.05,
            1.05,
            -0.05,
            -0.05,
            1.05
           ],
           "y": [
            0.5423035181442803,
            -0.05,
            -0.05,
            0.5521528761368681,
            0.5423035181442803
           ]
          },
          {
           "fill": "toself",
           "fillcolor": "rgba(0,116,217,0.5)",
           "hoverinfo": "none",
           "mode": "none",
           "showlegend": false,
           "type": "scatter",
           "x": [
            -0.05,
            -0.05,
            1.05,
            1.05,
            -0.05
           ],
           "y": [
            0.5521528761368681,
            1.05,
            1.05,
            0.5423035181442803,
            0.5521528761368681
           ]
          }
         ],
         "layout": {
          "title": {
           "text": " Model: -0.01*x + 0.55"
          }
         }
        },
        {
         "data": [
          {
           "fill": "toself",
           "fillcolor": "rgba(255,65,54,0.5)",
           "hoverinfo": "none",
           "mode": "none",
           "showlegend": false,
           "type": "scatter",
           "x": [
            1.05,
            1.05,
            -0.05,
            -0.05,
            1.05
           ],
           "y": [
            0.5980381898333681,
            -0.05,
            -0.05,
            0.48530949280211116,
            0.5980381898333681
           ]
          },
          {
           "fill": "toself",
           "fillcolor": "rgba(0,116,217,0.5)",
           "hoverinfo": "none",
           "mode": "none",
           "showlegend": false,
           "type": "scatter",
           "x": [
            -0.05,
            -0.05,
            1.05,
            1.05,
            -0.05
           ],
           "y": [
            0.48530949280211116,
            1.05,
            1.05,
            0.5980381898333681,
            0.48530949280211116
           ]
          }
         ],
         "layout": {
          "title": {
           "text": " Model: 0.10*x + 0.49"
          }
         }
        },
        {
         "data": [
          {
           "fill": "toself",
           "fillcolor": "rgba(255,65,54,0.5)",
           "hoverinfo": "none",
           "mode": "none",
           "showlegend": false,
           "type": "scatter",
           "x": [
            1.05,
            1.05,
            -0.05,
            -0.05,
            1.05
           ],
           "y": [
            0.6470866632629597,
            -0.05,
            -0.05,
            0.42586337387509293,
            0.6470866632629597
           ]
          },
          {
           "fill": "toself",
           "fillcolor": "rgba(0,116,217,0.5)",
           "hoverinfo": "none",
           "mode": "none",
           "showlegend": false,
           "type": "scatter",
           "x": [
            -0.05,
            -0.05,
            1.05,
            1.05,
            -0.05
           ],
           "y": [
            0.42586337387509293,
            1.05,
            1.05,
            0.6470866632629597,
            0.42586337387509293
           ]
          }
         ],
         "layout": {
          "title": {
           "text": " Model: 0.20*x + 0.44"
          }
         }
        },
        {
         "data": [
          {
           "fill": "toself",
           "fillcolor": "rgba(255,65,54,0.5)",
           "hoverinfo": "none",
           "mode": "none",
           "showlegend": false,
           "type": "scatter",
           "x": [
            1.05,
            1.05,
            -0.05,
            -0.05,
            1.05
           ],
           "y": [
            0.6867139257543896,
            -0.05,
            -0.05,
            0.37798347847336317,
            0.6867139257543896
           ]
          },
          {
           "fill": "toself",
           "fillcolor": "rgba(0,116,217,0.5)",
           "hoverinfo": "none",
           "mode": "none",
           "showlegend": false,
           "type": "scatter",
           "x": [
            -0.05,
            -0.05,
            1.05,
            1.05,
            -0.05
           ],
           "y": [
            0.37798347847336317,
            1.05,
            1.05,
            0.6867139257543896,
            0.37798347847336317
           ]
          }
         ],
         "layout": {
          "title": {
           "text": " Model: 0.28*x + 0.39"
          }
         }
        },
        {
         "data": [
          {
           "fill": "toself",
           "fillcolor": "rgba(255,65,54,0.5)",
           "hoverinfo": "none",
           "mode": "none",
           "showlegend": false,
           "type": "scatter",
           "x": [
            1.05,
            1.05,
            -0.05,
            -0.05,
            1.05
           ],
           "y": [
            0.7224543665885281,
            -0.05,
            -0.05,
            0.3351725236572413,
            0.7224543665885281
           ]
          },
          {
           "fill": "toself",
           "fillcolor": "rgba(0,116,217,0.5)",
           "hoverinfo": "none",
           "mode": "none",
           "showlegend": false,
           "type": "scatter",
           "x": [
            -0.05,
            -0.05,
            1.05,
            1.05,
            -0.05
           ],
           "y": [
            0.3351725236572413,
            1.05,
            1.05,
            0.7224543665885281,
            0.3351725236572413
           ]
          }
         ],
         "layout": {
          "title": {
           "text": " Model: 0.35*x + 0.35"
          }
         }
        },
        {
         "data": [
          {
           "fill": "toself",
           "fillcolor": "rgba(255,65,54,0.5)",
           "hoverinfo": "none",
           "mode": "none",
           "showlegend": false,
           "type": "scatter",
           "x": [
            1.05,
            1.05,
            -0.05,
            -0.05,
            1.05
           ],
           "y": [
            0.7520568725303471,
            -0.05,
            -0.05,
            0.3000812804140702,
            0.7520568725303471
           ]
          },
          {
           "fill": "toself",
           "fillcolor": "rgba(0,116,217,0.5)",
           "hoverinfo": "none",
           "mode": "none",
           "showlegend": false,
           "type": "scatter",
           "x": [
            -0.05,
            -0.05,
            1.05,
            1.05,
            -0.05
           ],
           "y": [
            0.3000812804140702,
            1.05,
            1.05,
            0.7520568725303471,
            0.3000812804140702
           ]
          }
         ],
         "layout": {
          "title": {
           "text": " Model: 0.41*x + 0.32"
          }
         }
        },
        {
         "data": [
          {
           "fill": "toself",
           "fillcolor": "rgba(255,65,54,0.5)",
           "hoverinfo": "none",
           "mode": "none",
           "showlegend": false,
           "type": "scatter",
           "x": [
            1.05,
            1.05,
            -0.05,
            -0.05,
            1.05
           ],
           "y": [
            0.7790435215072262,
            -0.05,
            -0.05,
            0.2684287733905774,
            0.7790435215072262
           ]
          },
          {
           "fill": "toself",
           "fillcolor": "rgba(0,116,217,0.5)",
           "hoverinfo": "none",
           "mode": "none",
           "showlegend": false,
           "type": "scatter",
           "x": [
            -0.05,
            -0.05,
            1.05,
            1.05,
            -0.05
           ],
           "y": [
            0.2684287733905774,
            1.05,
            1.05,
            0.7790435215072262,
            0.2684287733905774
           ]
          }
         ],
         "layout": {
          "title": {
           "text": " Model: 0.46*x + 0.29"
          }
         }
        },
        {
         "data": [
          {
           "fill": "toself",
           "fillcolor": "rgba(255,65,54,0.5)",
           "hoverinfo": "none",
           "mode": "none",
           "showlegend": false,
           "type": "scatter",
           "x": [
            1.05,
            1.05,
            -0.05,
            -0.05,
            1.05
           ],
           "y": [
            0.8034820996580192,
            -0.05,
            -0.05,
            0.24007236526083428,
            0.8034820996580192
           ]
          },
          {
           "fill": "toself",
           "fillcolor": "rgba(0,116,217,0.5)",
           "hoverinfo": "none",
           "mode": "none",
           "showlegend": false,
           "type": "scatter",
           "x": [
            -0.05,
            -0.05,
            1.05,
            1.05,
            -0.05
           ],
           "y": [
            0.24007236526083428,
            1.05,
            1.05,
            0.8034820996580192,
            0.24007236526083428
           ]
          }
         ],
         "layout": {
          "title": {
           "text": " Model: 0.51*x + 0.27"
          }
         }
        },
        {
         "data": [
          {
           "fill": "toself",
           "fillcolor": "rgba(255,65,54,0.5)",
           "hoverinfo": "none",
           "mode": "none",
           "showlegend": false,
           "type": "scatter",
           "x": [
            1.05,
            1.05,
            -0.05,
            -0.05,
            1.05
           ],
           "y": [
            0.8255031296247695,
            -0.05,
            -0.05,
            0.21479476115620094,
            0.8255031296247695
           ]
          },
          {
           "fill": "toself",
           "fillcolor": "rgba(0,116,217,0.5)",
           "hoverinfo": "none",
           "mode": "none",
           "showlegend": false,
           "type": "scatter",
           "x": [
            -0.05,
            -0.05,
            1.05,
            1.05,
            -0.05
           ],
           "y": [
            0.21479476115620094,
            1.05,
            1.05,
            0.8255031296247695,
            0.21479476115620094
           ]
          }
         ],
         "layout": {
          "title": {
           "text": " Model: 0.56*x + 0.24"
          }
         }
        },
        {
         "data": [
          {
           "fill": "toself",
           "fillcolor": "rgba(255,65,54,0.5)",
           "hoverinfo": "none",
           "mode": "none",
           "showlegend": false,
           "type": "scatter",
           "x": [
            1.05,
            1.05,
            -0.05,
            -0.05,
            1.05
           ],
           "y": [
            0.8440583380834551,
            -0.05,
            -0.05,
            0.19371539355494685,
            0.8440583380834551
           ]
          },
          {
           "fill": "toself",
           "fillcolor": "rgba(0,116,217,0.5)",
           "hoverinfo": "none",
           "mode": "none",
           "showlegend": false,
           "type": "scatter",
           "x": [
            -0.05,
            -0.05,
            1.05,
            1.05,
            -0.05
           ],
           "y": [
            0.19371539355494685,
            1.05,
            1.05,
            0.8440583380834551,
            0.19371539355494685
           ]
          }
         ],
         "layout": {
          "title": {
           "text": " Model: 0.59*x + 0.22"
          }
         }
        },
        {
         "data": [
          {
           "fill": "toself",
           "fillcolor": "rgba(255,65,54,0.5)",
           "hoverinfo": "none",
           "mode": "none",
           "showlegend": false,
           "type": "scatter",
           "x": [
            1.05,
            1.05,
            -0.05,
            -0.05,
            1.05
           ],
           "y": [
            0.8609196379267423,
            -0.05,
            -0.05,
            0.17475098200376502,
            0.8609196379267423
           ]
          },
          {
           "fill": "toself",
           "fillcolor": "rgba(0,116,217,0.5)",
           "hoverinfo": "none",
           "mode": "none",
           "showlegend": false,
           "type": "scatter",
           "x": [
            -0.05,
            -0.05,
            1.05,
            1.05,
            -0.05
           ],
           "y": [
            0.17475098200376502,
            1.05,
            1.05,
            0.8609196379267423,
            0.17475098200376502
           ]
          }
         ],
         "layout": {
          "title": {
           "text": " Model: 0.62*x + 0.21"
          }
         }
        },
        {
         "data": [
          {
           "fill": "toself",
           "fillcolor": "rgba(255,65,54,0.5)",
           "hoverinfo": "none",
           "mode": "none",
           "showlegend": false,
           "type": "scatter",
           "x": [
            1.05,
            1.05,
            -0.05,
            -0.05,
            1.05
           ],
           "y": [
            0.8761775506386799,
            -0.05,
            -0.05,
            0.15776116232617818,
            0.8761775506386799
           ]
          },
          {
           "fill": "toself",
           "fillcolor": "rgba(0,116,217,0.5)",
           "hoverinfo": "none",
           "mode": "none",
           "showlegend": false,
           "type": "scatter",
           "x": [
            -0.05,
            -0.05,
            1.05,
            1.05,
            -0.05
           ],
           "y": [
            0.15776116232617818,
            1.05,
            1.05,
            0.8761775506386799,
            0.15776116232617818
           ]
          }
         ],
         "layout": {
          "title": {
           "text": " Model: 0.65*x + 0.19"
          }
         }
        },
        {
         "data": [
          {
           "fill": "toself",
           "fillcolor": "rgba(255,65,54,0.5)",
           "hoverinfo": "none",
           "mode": "none",
           "showlegend": false,
           "type": "scatter",
           "x": [
            1.05,
            1.05,
            -0.05,
            -0.05,
            1.05
           ],
           "y": [
            0.8899368390951894,
            -0.05,
            -0.05,
            0.14259328644609545,
            0.8899368390951894
           ]
          },
          {
           "fill": "toself",
           "fillcolor": "rgba(0,116,217,0.5)",
           "hoverinfo": "none",
           "mode": "none",
           "showlegend": false,
           "type": "scatter",
           "x": [
            -0.05,
            -0.05,
            1.05,
            1.05,
            -0.05
           ],
           "y": [
            0.14259328644609545,
            1.05,
            1.05,
            0.8899368390951894,
            0.14259328644609545
           ]
          }
         ],
         "layout": {
          "title": {
           "text": " Model: 0.68*x + 0.18"
          }
         }
        },
        {
         "data": [
          {
           "fill": "toself",
           "fillcolor": "rgba(255,65,54,0.5)",
           "hoverinfo": "none",
           "mode": "none",
           "showlegend": false,
           "type": "scatter",
           "x": [
            1.05,
            1.05,
            -0.05,
            -0.05,
            1.05
           ],
           "y": [
            0.9029388733149899,
            -0.05,
            -0.05,
            0.12840767660207275,
            0.9029388733149899
           ]
          },
          {
           "fill": "toself",
           "fillcolor": "rgba(0,116,217,0.5)",
           "hoverinfo": "none",
           "mode": "none",
           "showlegend": false,
           "type": "scatter",
           "x": [
            -0.05,
            -0.05,
            1.05,
            1.05,
            -0.05
           ],
           "y": [
            0.12840767660207275,
            1.05,
            1.05,
            0.9029388733149899,
            0.12840767660207275
           ]
          }
         ],
         "layout": {
          "title": {
           "text": " Model: 0.70*x + 0.16"
          }
         }
        },
        {
         "data": [
          {
           "fill": "toself",
           "fillcolor": "rgba(255,65,54,0.5)",
           "hoverinfo": "none",
           "mode": "none",
           "showlegend": false,
           "type": "scatter",
           "x": [
            1.05,
            1.05,
            -0.05,
            -0.05,
            1.05
           ],
           "y": [
            0.9144714134735473,
            -0.05,
            -0.05,
            0.11595868816462278,
            0.9144714134735473
           ]
          },
          {
           "fill": "toself",
           "fillcolor": "rgba(0,116,217,0.5)",
           "hoverinfo": "none",
           "mode": "none",
           "showlegend": false,
           "type": "scatter",
           "x": [
            -0.05,
            -0.05,
            1.05,
            1.05,
            -0.05
           ],
           "y": [
            0.11595868816462278,
            1.05,
            1.05,
            0.9144714134735473,
            0.11595868816462278
           ]
          }
         ],
         "layout": {
          "title": {
           "text": " Model: 0.73*x + 0.15"
          }
         }
        },
        {
         "data": [
          {
           "fill": "toself",
           "fillcolor": "rgba(255,65,54,0.5)",
           "hoverinfo": "none",
           "mode": "none",
           "showlegend": false,
           "type": "scatter",
           "x": [
            1.05,
            1.05,
            -0.05,
            -0.05,
            1.05
           ],
           "y": [
            0.9246894274713948,
            -0.05,
            -0.05,
            0.10504611788096334,
            0.9246894274713948
           ]
          },
          {
           "fill": "toself",
           "fillcolor": "rgba(0,116,217,0.5)",
           "hoverinfo": "none",
           "mode": "none",
           "showlegend": false,
           "type": "scatter",
           "x": [
            -0.05,
            -0.05,
            1.05,
            1.05,
            -0.05
           ],
           "y": [
            0.10504611788096334,
            1.05,
            1.05,
            0.9246894274713948,
            0.10504611788096334
           ]
          }
         ],
         "layout": {
          "title": {
           "text": " Model: 0.75*x + 0.14"
          }
         }
        },
        {
         "data": [
          {
           "fill": "toself",
           "fillcolor": "rgba(255,65,54,0.5)",
           "hoverinfo": "none",
           "mode": "none",
           "showlegend": false,
           "type": "scatter",
           "x": [
            1.05,
            1.05,
            -0.05,
            -0.05,
            1.05
           ],
           "y": [
            0.9341096173594801,
            -0.05,
            -0.05,
            0.09509622357728456,
            0.9341096173594801
           ]
          },
          {
           "fill": "toself",
           "fillcolor": "rgba(0,116,217,0.5)",
           "hoverinfo": "none",
           "mode": "none",
           "showlegend": false,
           "type": "scatter",
           "x": [
            -0.05,
            -0.05,
            1.05,
            1.05,
            -0.05
           ],
           "y": [
            0.09509622357728456,
            1.05,
            1.05,
            0.9341096173594801,
            0.09509622357728456
           ]
          }
         ],
         "layout": {
          "title": {
           "text": " Model: 0.76*x + 0.13"
          }
         }
        },
        {
         "data": [
          {
           "fill": "toself",
           "fillcolor": "rgba(255,65,54,0.5)",
           "hoverinfo": "none",
           "mode": "none",
           "showlegend": false,
           "type": "scatter",
           "x": [
            1.05,
            1.05,
            -0.05,
            -0.05,
            1.05
           ],
           "y": [
            0.9423643306411993,
            -0.05,
            -0.05,
            0.08647719407209023,
            0.9423643306411993
           ]
          },
          {
           "fill": "toself",
           "fillcolor": "rgba(0,116,217,0.5)",
           "hoverinfo": "none",
           "mode": "none",
           "showlegend": false,
           "type": "scatter",
           "x": [
            -0.05,
            -0.05,
            1.05,
            1.05,
            -0.05
           ],
           "y": [
            0.08647719407209023,
            1.05,
            1.05,
            0.9423643306411993,
            0.08647719407209023
           ]
          }
         ],
         "layout": {
          "title": {
           "text": " Model: 0.78*x + 0.13"
          }
         }
        },
        {
         "data": [
          {
           "fill": "toself",
           "fillcolor": "rgba(255,65,54,0.5)",
           "hoverinfo": "none",
           "mode": "none",
           "showlegend": false,
           "type": "scatter",
           "x": [
            1.05,
            1.05,
            -0.05,
            -0.05,
            1.05
           ],
           "y": [
            0.9498607189228621,
            -0.05,
            -0.05,
            0.07874382519751728,
            0.9498607189228621
           ]
          },
          {
           "fill": "toself",
           "fillcolor": "rgba(0,116,217,0.5)",
           "hoverinfo": "none",
           "mode": "none",
           "showlegend": false,
           "type": "scatter",
           "x": [
            -0.05,
            -0.05,
            1.05,
            1.05,
            -0.05
           ],
           "y": [
            0.07874382519751728,
            1.05,
            1.05,
            0.9498607189228621,
            0.07874382519751728
           ]
          }
         ],
         "layout": {
          "title": {
           "text": " Model: 0.79*x + 0.12"
          }
         }
        },
        {
         "data": [
          {
           "fill": "toself",
           "fillcolor": "rgba(255,65,54,0.5)",
           "hoverinfo": "none",
           "mode": "none",
           "showlegend": false,
           "type": "scatter",
           "x": [
            1.05,
            1.05,
            -0.05,
            -0.05,
            1.05
           ],
           "y": [
            0.956374720326269,
            -0.05,
            -0.05,
            0.0721093481115957,
            0.956374720326269
           ]
          },
          {
           "fill": "toself",
           "fillcolor": "rgba(0,116,217,0.5)",
           "hoverinfo": "none",
           "mode": "none",
           "showlegend": false,
           "type": "scatter",
           "x": [
            -0.05,
            -0.05,
            1.05,
            1.05,
            -0.05
           ],
           "y": [
            0.0721093481115957,
            1.05,
            1.05,
            0.956374720326269,
            0.0721093481115957
           ]
          }
         ],
         "layout": {
          "title": {
           "text": " Model: 0.80*x + 0.11"
          }
         }
        },
        {
         "data": [
          {
           "fill": "toself",
           "fillcolor": "rgba(255,65,54,0.5)",
           "hoverinfo": "none",
           "mode": "none",
           "showlegend": false,
           "type": "scatter",
           "x": [
            1.05,
            1.05,
            -0.05,
            -0.05,
            1.05
           ],
           "y": [
            0.9622212554476075,
            -0.05,
            -0.05,
            0.06623569649478106,
            0.9622212554476075
           ]
          },
          {
           "fill": "toself",
           "fillcolor": "rgba(0,116,217,0.5)",
           "hoverinfo": "none",
           "mode": "none",
           "showlegend": false,
           "type": "scatter",
           "x": [
            -0.05,
            -0.05,
            1.05,
            1.05,
            -0.05
           ],
           "y": [
            0.06623569649478106,
            1.05,
            1.05,
            0.9622212554476075,
            0.06623569649478106
           ]
          }
         ],
         "layout": {
          "title": {
           "text": " Model: 0.81*x + 0.11"
          }
         }
        },
        {
         "data": [
          {
           "fill": "toself",
           "fillcolor": "rgba(255,65,54,0.5)",
           "hoverinfo": "none",
           "mode": "none",
           "showlegend": false,
           "type": "scatter",
           "x": [
            1.05,
            1.05,
            -0.05,
            -0.05,
            1.05
           ],
           "y": [
            0.9674211895746527,
            -0.05,
            -0.05,
            0.061090012253817674,
            0.9674211895746527
           ]
          },
          {
           "fill": "toself",
           "fillcolor": "rgba(0,116,217,0.5)",
           "hoverinfo": "none",
           "mode": "none",
           "showlegend": false,
           "type": "scatter",
           "x": [
            -0.05,
            -0.05,
            1.05,
            1.05,
            -0.05
           ],
           "y": [
            0.061090012253817674,
            1.05,
            1.05,
            0.9674211895746527,
            0.061090012253817674
           ]
          }
         ],
         "layout": {
          "title": {
           "text": " Model: 0.82*x + 0.10"
          }
         }
        },
        {
         "data": [
          {
           "fill": "toself",
           "fillcolor": "rgba(255,65,54,0.5)",
           "hoverinfo": "none",
           "mode": "none",
           "showlegend": false,
           "type": "scatter",
           "x": [
            1.05,
            1.05,
            -0.05,
            -0.05,
            1.05
           ],
           "y": [
            0.9720092013308239,
            -0.05,
            -0.05,
            0.05662579377669294,
            0.9720092013308239
           ]
          },
          {
           "fill": "toself",
           "fillcolor": "rgba(0,116,217,0.5)",
           "hoverinfo": "none",
           "mode": "none",
           "showlegend": false,
           "type": "scatter",
           "x": [
            -0.05,
            -0.05,
            1.05,
            1.05,
            -0.05
           ],
           "y": [
            0.05662579377669294,
            1.05,
            1.05,
            0.9720092013308239,
            0.05662579377669294
           ]
          }
         ],
         "layout": {
          "title": {
           "text": " Model: 0.83*x + 0.10"
          }
         }
        },
        {
         "data": [
          {
           "fill": "toself",
           "fillcolor": "rgba(255,65,54,0.5)",
           "hoverinfo": "none",
           "mode": "none",
           "showlegend": false,
           "type": "scatter",
           "x": [
            1.05,
            1.05,
            -0.05,
            -0.05,
            1.05
           ],
           "y": [
            0.9760287514553749,
            -0.05,
            -0.05,
            0.052788441245594994,
            0.9760287514553749
           ]
          },
          {
           "fill": "toself",
           "fillcolor": "rgba(0,116,217,0.5)",
           "hoverinfo": "none",
           "mode": "none",
           "showlegend": false,
           "type": "scatter",
           "x": [
            -0.05,
            -0.05,
            1.05,
            1.05,
            -0.05
           ],
           "y": [
            0.052788441245594994,
            1.05,
            1.05,
            0.9760287514553749,
            0.052788441245594994
           ]
          }
         ],
         "layout": {
          "title": {
           "text": " Model: 0.84*x + 0.09"
          }
         }
        },
        {
         "data": [
          {
           "fill": "toself",
           "fillcolor": "rgba(255,65,54,0.5)",
           "hoverinfo": "none",
           "mode": "none",
           "showlegend": false,
           "type": "scatter",
           "x": [
            1.05,
            1.05,
            -0.05,
            -0.05,
            1.05
           ],
           "y": [
            0.9795281280178404,
            -0.05,
            -0.05,
            0.049519483961075125,
            0.9795281280178404
           ]
          },
          {
           "fill": "toself",
           "fillcolor": "rgba(0,116,217,0.5)",
           "hoverinfo": "none",
           "mode": "none",
           "showlegend": false,
           "type": "scatter",
           "x": [
            -0.05,
            -0.05,
            1.05,
            1.05,
            -0.05
           ],
           "y": [
            0.049519483961075125,
            1.05,
            1.05,
            0.9795281280178404,
            0.049519483961075125
           ]
          }
         ],
         "layout": {
          "title": {
           "text": " Model: 0.85*x + 0.09"
          }
         }
        },
        {
         "data": [
          {
           "fill": "toself",
           "fillcolor": "rgba(255,65,54,0.5)",
           "hoverinfo": "none",
           "mode": "none",
           "showlegend": false,
           "type": "scatter",
           "x": [
            1.05,
            1.05,
            -0.05,
            -0.05,
            1.05
           ],
           "y": [
            0.9825574463013705,
            -0.05,
            -0.05,
            0.04675968706845319,
            0.9825574463013705
           ]
          },
          {
           "fill": "toself",
           "fillcolor": "rgba(0,116,217,0.5)",
           "hoverinfo": "none",
           "mode": "none",
           "showlegend": false,
           "type": "scatter",
           "x": [
            -0.05,
            -0.05,
            1.05,
            1.05,
            -0.05
           ],
           "y": [
            0.04675968706845319,
            1.05,
            1.05,
            0.9825574463013705,
            0.04675968706845319
           ]
          }
         ],
         "layout": {
          "title": {
           "text": " Model: 0.85*x + 0.09"
          }
         }
        },
        {
         "data": [
          {
           "fill": "toself",
           "fillcolor": "rgba(255,65,54,0.5)",
           "hoverinfo": "none",
           "mode": "none",
           "showlegend": false,
           "type": "scatter",
           "x": [
            1.05,
            1.05,
            -0.05,
            -0.05,
            1.05
           ],
           "y": [
            0.9851664586461675,
            -0.05,
            -0.05,
            0.044451243115478184,
            0.9851664586461675
           ]
          },
          {
           "fill": "toself",
           "fillcolor": "rgba(0,116,217,0.5)",
           "hoverinfo": "none",
           "mode": "none",
           "showlegend": false,
           "type": "scatter",
           "x": [
            -0.05,
            -0.05,
            1.05,
            1.05,
            -0.05
           ],
           "y": [
            0.044451243115478184,
            1.05,
            1.05,
            0.9851664586461675,
            0.044451243115478184
           ]
          }
         ],
         "layout": {
          "title": {
           "text": " Model: 0.86*x + 0.09"
          }
         }
        },
        {
         "data": [
          {
           "fill": "toself",
           "fillcolor": "rgba(255,65,54,0.5)",
           "hoverinfo": "none",
           "mode": "none",
           "showlegend": false,
           "type": "scatter",
           "x": [
            1.05,
            1.05,
            -0.05,
            -0.05,
            1.05
           ],
           "y": [
            0.9874030278263415,
            -0.05,
            -0.05,
            0.04253923975767385,
            0.9874030278263415
           ]
          },
          {
           "fill": "toself",
           "fillcolor": "rgba(0,116,217,0.5)",
           "hoverinfo": "none",
           "mode": "none",
           "showlegend": false,
           "type": "scatter",
           "x": [
            -0.05,
            -0.05,
            1.05,
            1.05,
            -0.05
           ],
           "y": [
            0.04253923975767385,
            1.05,
            1.05,
            0.9874030278263415,
            0.04253923975767385
           ]
          }
         ],
         "layout": {
          "title": {
           "text": " Model: 0.86*x + 0.09"
          }
         }
        },
        {
         "data": [
          {
           "fill": "toself",
           "fillcolor": "rgba(255,65,54,0.5)",
           "hoverinfo": "none",
           "mode": "none",
           "showlegend": false,
           "type": "scatter",
           "x": [
            1.05,
            1.05,
            -0.05,
            -0.05,
            1.05
           ],
           "y": [
            0.9893121277062625,
            -0.05,
            -0.05,
            0.04097257073328163,
            0.9893121277062625
           ]
          },
          {
           "fill": "toself",
           "fillcolor": "rgba(0,116,217,0.5)",
           "hoverinfo": "none",
           "mode": "none",
           "showlegend": false,
           "type": "scatter",
           "x": [
            -0.05,
            -0.05,
            1.05,
            1.05,
            -0.05
           ],
           "y": [
            0.04097257073328163,
            1.05,
            1.05,
            0.9893121277062625,
            0.04097257073328163
           ]
          }
         ],
         "layout": {
          "title": {
           "text": " Model: 0.86*x + 0.08"
          }
         }
        },
        {
         "data": [
          {
           "fill": "toself",
           "fillcolor": "rgba(255,65,54,0.5)",
           "hoverinfo": "none",
           "mode": "none",
           "showlegend": false,
           "type": "scatter",
           "x": [
            1.05,
            1.05,
            -0.05,
            -0.05,
            1.05
           ],
           "y": [
            0.990935251001712,
            -0.05,
            -0.05,
            0.03970442999890883,
            0.990935251001712
           ]
          },
          {
           "fill": "toself",
           "fillcolor": "rgba(0,116,217,0.5)",
           "hoverinfo": "none",
           "mode": "none",
           "showlegend": false,
           "type": "scatter",
           "x": [
            -0.05,
            -0.05,
            1.05,
            1.05,
            -0.05
           ],
           "y": [
            0.03970442999890883,
            1.05,
            1.05,
            0.990935251001712,
            0.03970442999890883
           ]
          }
         ],
         "layout": {
          "title": {
           "text": " Model: 0.86*x + 0.08"
          }
         }
        },
        {
         "data": [
          {
           "fill": "toself",
           "fillcolor": "rgba(255,65,54,0.5)",
           "hoverinfo": "none",
           "mode": "none",
           "showlegend": false,
           "type": "scatter",
           "x": [
            1.05,
            1.05,
            -0.05,
            -0.05,
            1.05
           ],
           "y": [
            0.9923101222156464,
            -0.05,
            -0.05,
            0.03869250248414989,
            0.9923101222156464
           ]
          },
          {
           "fill": "toself",
           "fillcolor": "rgba(0,116,217,0.5)",
           "hoverinfo": "none",
           "mode": "none",
           "showlegend": false,
           "type": "scatter",
           "x": [
            -0.05,
            -0.05,
            1.05,
            1.05,
            -0.05
           ],
           "y": [
            0.03869250248414989,
            1.05,
            1.05,
            0.9923101222156464,
            0.03869250248414989
           ]
          }
         ],
         "layout": {
          "title": {
           "text": " Model: 0.87*x + 0.08"
          }
         }
        },
        {
         "data": [
          {
           "fill": "toself",
           "fillcolor": "rgba(255,65,54,0.5)",
           "hoverinfo": "none",
           "mode": "none",
           "showlegend": false,
           "type": "scatter",
           "x": [
            1.05,
            1.05,
            -0.05,
            -0.05,
            1.05
           ],
           "y": [
            0.9934910458700632,
            -0.05,
            -0.05,
            0.037885597337595854,
            0.9934910458700632
           ]
          },
          {
           "fill": "toself",
           "fillcolor": "rgba(0,116,217,0.5)",
           "hoverinfo": "none",
           "mode": "none",
           "showlegend": false,
           "type": "scatter",
           "x": [
            -0.05,
            -0.05,
            1.05,
            1.05,
            -0.05
           ],
           "y": [
            0.037885597337595854,
            1.05,
            1.05,
            0.9934910458700632,
            0.037885597337595854
           ]
          }
         ],
         "layout": {
          "title": {
           "text": " Model: 0.87*x + 0.08"
          }
         }
        },
        {
         "data": [
          {
           "fill": "toself",
           "fillcolor": "rgba(255,65,54,0.5)",
           "hoverinfo": "none",
           "mode": "none",
           "showlegend": false,
           "type": "scatter",
           "x": [
            1.05,
            1.05,
            -0.05,
            -0.05,
            1.05
           ],
           "y": [
            0.9944798819290769,
            -0.05,
            -0.05,
            0.03727081954550694,
            0.9944798819290769
           ]
          },
          {
           "fill": "toself",
           "fillcolor": "rgba(0,116,217,0.5)",
           "hoverinfo": "none",
           "mode": "none",
           "showlegend": false,
           "type": "scatter",
           "x": [
            -0.05,
            -0.05,
            1.05,
            1.05,
            -0.05
           ],
           "y": [
            0.03727081954550694,
            1.05,
            1.05,
            0.9944798819290769,
            0.03727081954550694
           ]
          }
         ],
         "layout": {
          "title": {
           "text": " Model: 0.87*x + 0.08"
          }
         }
        },
        {
         "data": [
          {
           "fill": "toself",
           "fillcolor": "rgba(255,65,54,0.5)",
           "hoverinfo": "none",
           "mode": "none",
           "showlegend": false,
           "type": "scatter",
           "x": [
            1.05,
            1.05,
            -0.05,
            -0.05,
            1.05
           ],
           "y": [
            0.9953054299432019,
            -0.05,
            -0.05,
            0.03681637160591462,
            0.9953054299432019
           ]
          },
          {
           "fill": "toself",
           "fillcolor": "rgba(0,116,217,0.5)",
           "hoverinfo": "none",
           "mode": "none",
           "showlegend": false,
           "type": "scatter",
           "x": [
            -0.05,
            -0.05,
            1.05,
            1.05,
            -0.05
           ],
           "y": [
            0.03681637160591462,
            1.05,
            1.05,
            0.9953054299432019,
            0.03681637160591462
           ]
          }
         ],
         "layout": {
          "title": {
           "text": " Model: 0.87*x + 0.08"
          }
         }
        },
        {
         "data": [
          {
           "fill": "toself",
           "fillcolor": "rgba(255,65,54,0.5)",
           "hoverinfo": "none",
           "mode": "none",
           "showlegend": false,
           "type": "scatter",
           "x": [
            1.05,
            1.05,
            -0.05,
            -0.05,
            1.05
           ],
           "y": [
            0.9960032363807406,
            -0.05,
            -0.05,
            0.03649031289056887,
            0.9960032363807406
           ]
          },
          {
           "fill": "toself",
           "fillcolor": "rgba(0,116,217,0.5)",
           "hoverinfo": "none",
           "mode": "none",
           "showlegend": false,
           "type": "scatter",
           "x": [
            -0.05,
            -0.05,
            1.05,
            1.05,
            -0.05
           ],
           "y": [
            0.03649031289056887,
            1.05,
            1.05,
            0.9960032363807406,
            0.03649031289056887
           ]
          }
         ],
         "layout": {
          "title": {
           "text": " Model: 0.87*x + 0.08"
          }
         }
        },
        {
         "data": [
          {
           "fill": "toself",
           "fillcolor": "rgba(255,65,54,0.5)",
           "hoverinfo": "none",
           "mode": "none",
           "showlegend": false,
           "type": "scatter",
           "x": [
            1.05,
            1.05,
            -0.05,
            -0.05,
            1.05
           ],
           "y": [
            0.996147321044432,
            -0.05,
            -0.05,
            0.03643151712523965,
            0.996147321044432
           ]
          },
          {
           "fill": "toself",
           "fillcolor": "rgba(0,116,217,0.5)",
           "hoverinfo": "none",
           "mode": "none",
           "showlegend": false,
           "type": "scatter",
           "x": [
            -0.05,
            -0.05,
            1.05,
            1.05,
            -0.05
           ],
           "y": [
            0.03643151712523965,
            1.05,
            1.05,
            0.996147321044432,
            0.03643151712523965
           ]
          }
         ],
         "layout": {
          "title": {
           "text": "Final Model: 0.87*x + 0.08"
          }
         }
        }
       ],
       "layout": {
        "height": 600,
        "template": {
         "data": {
          "bar": [
           {
            "error_x": {
             "color": "#2a3f5f"
            },
            "error_y": {
             "color": "#2a3f5f"
            },
            "marker": {
             "line": {
              "color": "#E5ECF6",
              "width": 0.5
             }
            },
            "type": "bar"
           }
          ],
          "barpolar": [
           {
            "marker": {
             "line": {
              "color": "#E5ECF6",
              "width": 0.5
             }
            },
            "type": "barpolar"
           }
          ],
          "carpet": [
           {
            "aaxis": {
             "endlinecolor": "#2a3f5f",
             "gridcolor": "white",
             "linecolor": "white",
             "minorgridcolor": "white",
             "startlinecolor": "#2a3f5f"
            },
            "baxis": {
             "endlinecolor": "#2a3f5f",
             "gridcolor": "white",
             "linecolor": "white",
             "minorgridcolor": "white",
             "startlinecolor": "#2a3f5f"
            },
            "type": "carpet"
           }
          ],
          "choropleth": [
           {
            "colorbar": {
             "outlinewidth": 0,
             "ticks": ""
            },
            "type": "choropleth"
           }
          ],
          "contour": [
           {
            "colorbar": {
             "outlinewidth": 0,
             "ticks": ""
            },
            "colorscale": [
             [
              0,
              "#0d0887"
             ],
             [
              0.1111111111111111,
              "#46039f"
             ],
             [
              0.2222222222222222,
              "#7201a8"
             ],
             [
              0.3333333333333333,
              "#9c179e"
             ],
             [
              0.4444444444444444,
              "#bd3786"
             ],
             [
              0.5555555555555556,
              "#d8576b"
             ],
             [
              0.6666666666666666,
              "#ed7953"
             ],
             [
              0.7777777777777778,
              "#fb9f3a"
             ],
             [
              0.8888888888888888,
              "#fdca26"
             ],
             [
              1,
              "#f0f921"
             ]
            ],
            "type": "contour"
           }
          ],
          "contourcarpet": [
           {
            "colorbar": {
             "outlinewidth": 0,
             "ticks": ""
            },
            "type": "contourcarpet"
           }
          ],
          "heatmap": [
           {
            "colorbar": {
             "outlinewidth": 0,
             "ticks": ""
            },
            "colorscale": [
             [
              0,
              "#0d0887"
             ],
             [
              0.1111111111111111,
              "#46039f"
             ],
             [
              0.2222222222222222,
              "#7201a8"
             ],
             [
              0.3333333333333333,
              "#9c179e"
             ],
             [
              0.4444444444444444,
              "#bd3786"
             ],
             [
              0.5555555555555556,
              "#d8576b"
             ],
             [
              0.6666666666666666,
              "#ed7953"
             ],
             [
              0.7777777777777778,
              "#fb9f3a"
             ],
             [
              0.8888888888888888,
              "#fdca26"
             ],
             [
              1,
              "#f0f921"
             ]
            ],
            "type": "heatmap"
           }
          ],
          "heatmapgl": [
           {
            "colorbar": {
             "outlinewidth": 0,
             "ticks": ""
            },
            "colorscale": [
             [
              0,
              "#0d0887"
             ],
             [
              0.1111111111111111,
              "#46039f"
             ],
             [
              0.2222222222222222,
              "#7201a8"
             ],
             [
              0.3333333333333333,
              "#9c179e"
             ],
             [
              0.4444444444444444,
              "#bd3786"
             ],
             [
              0.5555555555555556,
              "#d8576b"
             ],
             [
              0.6666666666666666,
              "#ed7953"
             ],
             [
              0.7777777777777778,
              "#fb9f3a"
             ],
             [
              0.8888888888888888,
              "#fdca26"
             ],
             [
              1,
              "#f0f921"
             ]
            ],
            "type": "heatmapgl"
           }
          ],
          "histogram": [
           {
            "marker": {
             "colorbar": {
              "outlinewidth": 0,
              "ticks": ""
             }
            },
            "type": "histogram"
           }
          ],
          "histogram2d": [
           {
            "colorbar": {
             "outlinewidth": 0,
             "ticks": ""
            },
            "colorscale": [
             [
              0,
              "#0d0887"
             ],
             [
              0.1111111111111111,
              "#46039f"
             ],
             [
              0.2222222222222222,
              "#7201a8"
             ],
             [
              0.3333333333333333,
              "#9c179e"
             ],
             [
              0.4444444444444444,
              "#bd3786"
             ],
             [
              0.5555555555555556,
              "#d8576b"
             ],
             [
              0.6666666666666666,
              "#ed7953"
             ],
             [
              0.7777777777777778,
              "#fb9f3a"
             ],
             [
              0.8888888888888888,
              "#fdca26"
             ],
             [
              1,
              "#f0f921"
             ]
            ],
            "type": "histogram2d"
           }
          ],
          "histogram2dcontour": [
           {
            "colorbar": {
             "outlinewidth": 0,
             "ticks": ""
            },
            "colorscale": [
             [
              0,
              "#0d0887"
             ],
             [
              0.1111111111111111,
              "#46039f"
             ],
             [
              0.2222222222222222,
              "#7201a8"
             ],
             [
              0.3333333333333333,
              "#9c179e"
             ],
             [
              0.4444444444444444,
              "#bd3786"
             ],
             [
              0.5555555555555556,
              "#d8576b"
             ],
             [
              0.6666666666666666,
              "#ed7953"
             ],
             [
              0.7777777777777778,
              "#fb9f3a"
             ],
             [
              0.8888888888888888,
              "#fdca26"
             ],
             [
              1,
              "#f0f921"
             ]
            ],
            "type": "histogram2dcontour"
           }
          ],
          "mesh3d": [
           {
            "colorbar": {
             "outlinewidth": 0,
             "ticks": ""
            },
            "type": "mesh3d"
           }
          ],
          "parcoords": [
           {
            "line": {
             "colorbar": {
              "outlinewidth": 0,
              "ticks": ""
             }
            },
            "type": "parcoords"
           }
          ],
          "scatter": [
           {
            "marker": {
             "colorbar": {
              "outlinewidth": 0,
              "ticks": ""
             }
            },
            "type": "scatter"
           }
          ],
          "scatter3d": [
           {
            "line": {
             "colorbar": {
              "outlinewidth": 0,
              "ticks": ""
             }
            },
            "marker": {
             "colorbar": {
              "outlinewidth": 0,
              "ticks": ""
             }
            },
            "type": "scatter3d"
           }
          ],
          "scattercarpet": [
           {
            "marker": {
             "colorbar": {
              "outlinewidth": 0,
              "ticks": ""
             }
            },
            "type": "scattercarpet"
           }
          ],
          "scattergeo": [
           {
            "marker": {
             "colorbar": {
              "outlinewidth": 0,
              "ticks": ""
             }
            },
            "type": "scattergeo"
           }
          ],
          "scattergl": [
           {
            "marker": {
             "colorbar": {
              "outlinewidth": 0,
              "ticks": ""
             }
            },
            "type": "scattergl"
           }
          ],
          "scattermapbox": [
           {
            "marker": {
             "colorbar": {
              "outlinewidth": 0,
              "ticks": ""
             }
            },
            "type": "scattermapbox"
           }
          ],
          "scatterpolar": [
           {
            "marker": {
             "colorbar": {
              "outlinewidth": 0,
              "ticks": ""
             }
            },
            "type": "scatterpolar"
           }
          ],
          "scatterpolargl": [
           {
            "marker": {
             "colorbar": {
              "outlinewidth": 0,
              "ticks": ""
             }
            },
            "type": "scatterpolargl"
           }
          ],
          "scatterternary": [
           {
            "marker": {
             "colorbar": {
              "outlinewidth": 0,
              "ticks": ""
             }
            },
            "type": "scatterternary"
           }
          ],
          "surface": [
           {
            "colorbar": {
             "outlinewidth": 0,
             "ticks": ""
            },
            "colorscale": [
             [
              0,
              "#0d0887"
             ],
             [
              0.1111111111111111,
              "#46039f"
             ],
             [
              0.2222222222222222,
              "#7201a8"
             ],
             [
              0.3333333333333333,
              "#9c179e"
             ],
             [
              0.4444444444444444,
              "#bd3786"
             ],
             [
              0.5555555555555556,
              "#d8576b"
             ],
             [
              0.6666666666666666,
              "#ed7953"
             ],
             [
              0.7777777777777778,
              "#fb9f3a"
             ],
             [
              0.8888888888888888,
              "#fdca26"
             ],
             [
              1,
              "#f0f921"
             ]
            ],
            "type": "surface"
           }
          ],
          "table": [
           {
            "cells": {
             "fill": {
              "color": "#EBF0F8"
             },
             "line": {
              "color": "white"
             }
            },
            "header": {
             "fill": {
              "color": "#C8D4E3"
             },
             "line": {
              "color": "white"
             }
            },
            "type": "table"
           }
          ]
         },
         "layout": {
          "annotationdefaults": {
           "arrowcolor": "#2a3f5f",
           "arrowhead": 0,
           "arrowwidth": 1
          },
          "colorscale": {
           "diverging": [
            [
             0,
             "#8e0152"
            ],
            [
             0.1,
             "#c51b7d"
            ],
            [
             0.2,
             "#de77ae"
            ],
            [
             0.3,
             "#f1b6da"
            ],
            [
             0.4,
             "#fde0ef"
            ],
            [
             0.5,
             "#f7f7f7"
            ],
            [
             0.6,
             "#e6f5d0"
            ],
            [
             0.7,
             "#b8e186"
            ],
            [
             0.8,
             "#7fbc41"
            ],
            [
             0.9,
             "#4d9221"
            ],
            [
             1,
             "#276419"
            ]
           ],
           "sequential": [
            [
             0,
             "#0d0887"
            ],
            [
             0.1111111111111111,
             "#46039f"
            ],
            [
             0.2222222222222222,
             "#7201a8"
            ],
            [
             0.3333333333333333,
             "#9c179e"
            ],
            [
             0.4444444444444444,
             "#bd3786"
            ],
            [
             0.5555555555555556,
             "#d8576b"
            ],
            [
             0.6666666666666666,
             "#ed7953"
            ],
            [
             0.7777777777777778,
             "#fb9f3a"
            ],
            [
             0.8888888888888888,
             "#fdca26"
            ],
            [
             1,
             "#f0f921"
            ]
           ],
           "sequentialminus": [
            [
             0,
             "#0d0887"
            ],
            [
             0.1111111111111111,
             "#46039f"
            ],
            [
             0.2222222222222222,
             "#7201a8"
            ],
            [
             0.3333333333333333,
             "#9c179e"
            ],
            [
             0.4444444444444444,
             "#bd3786"
            ],
            [
             0.5555555555555556,
             "#d8576b"
            ],
            [
             0.6666666666666666,
             "#ed7953"
            ],
            [
             0.7777777777777778,
             "#fb9f3a"
            ],
            [
             0.8888888888888888,
             "#fdca26"
            ],
            [
             1,
             "#f0f921"
            ]
           ]
          },
          "colorway": [
           "#636efa",
           "#EF553B",
           "#00cc96",
           "#ab63fa",
           "#FFA15A",
           "#19d3f3",
           "#FF6692",
           "#B6E880",
           "#FF97FF",
           "#FECB52"
          ],
          "font": {
           "color": "#2a3f5f"
          },
          "geo": {
           "bgcolor": "white",
           "lakecolor": "white",
           "landcolor": "#E5ECF6",
           "showlakes": true,
           "showland": true,
           "subunitcolor": "white"
          },
          "hoverlabel": {
           "align": "left"
          },
          "hovermode": "closest",
          "mapbox": {
           "style": "light"
          },
          "paper_bgcolor": "white",
          "plot_bgcolor": "#E5ECF6",
          "polar": {
           "angularaxis": {
            "gridcolor": "white",
            "linecolor": "white",
            "ticks": ""
           },
           "bgcolor": "#E5ECF6",
           "radialaxis": {
            "gridcolor": "white",
            "linecolor": "white",
            "ticks": ""
           }
          },
          "scene": {
           "xaxis": {
            "backgroundcolor": "#E5ECF6",
            "gridcolor": "white",
            "gridwidth": 2,
            "linecolor": "white",
            "showbackground": true,
            "ticks": "",
            "zerolinecolor": "white"
           },
           "yaxis": {
            "backgroundcolor": "#E5ECF6",
            "gridcolor": "white",
            "gridwidth": 2,
            "linecolor": "white",
            "showbackground": true,
            "ticks": "",
            "zerolinecolor": "white"
           },
           "zaxis": {
            "backgroundcolor": "#E5ECF6",
            "gridcolor": "white",
            "gridwidth": 2,
            "linecolor": "white",
            "showbackground": true,
            "ticks": "",
            "zerolinecolor": "white"
           }
          },
          "shapedefaults": {
           "line": {
            "color": "#2a3f5f"
           }
          },
          "ternary": {
           "aaxis": {
            "gridcolor": "white",
            "linecolor": "white",
            "ticks": ""
           },
           "baxis": {
            "gridcolor": "white",
            "linecolor": "white",
            "ticks": ""
           },
           "bgcolor": "#E5ECF6",
           "caxis": {
            "gridcolor": "white",
            "linecolor": "white",
            "ticks": ""
           }
          },
          "title": {
           "x": 0.05
          },
          "xaxis": {
           "automargin": true,
           "gridcolor": "white",
           "linecolor": "white",
           "ticks": "",
           "zerolinecolor": "white",
           "zerolinewidth": 2
          },
          "yaxis": {
           "automargin": true,
           "gridcolor": "white",
           "linecolor": "white",
           "ticks": "",
           "zerolinecolor": "white",
           "zerolinewidth": 2
          }
         }
        },
        "updatemenus": [
         {
          "buttons": [
           {
            "args": [
             null
            ],
            "label": "Play",
            "method": "animate"
           }
          ],
          "type": "buttons"
         }
        ],
        "width": 800,
        "xaxis": {
         "title": {
          "text": "width"
         }
        },
        "yaxis": {
         "title": {
          "text": "height"
         }
        }
       }
      },
      "text/html": [
       "<div>\n",
       "        \n",
       "        \n",
       "            <div id=\"381d2b8f-355b-4f1f-a9e8-2776cfcdf460\" class=\"plotly-graph-div\" style=\"height:600px; width:800px;\"></div>\n",
       "            <script type=\"text/javascript\">\n",
       "                require([\"plotly\"], function(Plotly) {\n",
       "                    window.PLOTLYENV=window.PLOTLYENV || {};\n",
       "                    \n",
       "                if (document.getElementById(\"381d2b8f-355b-4f1f-a9e8-2776cfcdf460\")) {\n",
       "                    Plotly.newPlot(\n",
       "                        '381d2b8f-355b-4f1f-a9e8-2776cfcdf460',\n",
       "                        [{\"fill\": \"toself\", \"fillcolor\": \"rgba(255,65,54,0.5)\", \"hoverinfo\": \"none\", \"mode\": \"none\", \"showlegend\": false, \"type\": \"scatter\", \"x\": [], \"y\": []}, {\"fill\": \"toself\", \"fillcolor\": \"rgba(0,116,217,0.5)\", \"hoverinfo\": \"none\", \"mode\": \"none\", \"showlegend\": false, \"type\": \"scatter\", \"x\": [], \"y\": []}, {\"marker\": {\"color\": \"black\"}, \"mode\": \"lines\", \"showlegend\": false, \"type\": \"scatter\", \"x\": [], \"y\": []}, {\"marker\": {\"color\": \"rgba(255,65,54,1.0)\", \"line\": {\"width\": 1}, \"size\": 10}, \"mode\": \"markers\", \"name\": \"Wide rectangle\", \"type\": \"scatter\", \"x\": [0.9127407884974093, 0.9168601336338555, 0.9311201658556361, 0.9052068071062419, 0.9174791244507354, 0.8251952867541446, 0.46703322226584665, 0.3039916789725665, 0.4308703171715844, 0.7078932517193766, 0.6993166585819425, 0.5660918529033384, 0.4602336100555584, 0.9174328641712626, 0.3703731982080706, 0.605071562371, 0.4494228111914629, 0.5174979280187638, 0.7346458112151556, 0.40242753759019767, 0.3791862821922155, 0.9433968291673757, 0.7528450973526647, 0.4423424092135696, 0.5733832507140566, 0.6113271941176369, 0.9948124167618054, 0.5231008267898865, 0.8321879311804448, 0.9166533765873487, 0.5077117072849734, 0.9927159266333099, 0.5029701863833537, 0.892237523708614, 0.6936002216606759, 0.3254668470026696, 0.343674817466578, 0.7864203904898242, 0.5138375303802907, 0.5185463359694678, 0.5776545852253475, 0.37870778051851206, 0.9713150433882713, 0.7055828780242244, 0.6951558390161064, 0.9257328676172919, 0.33579467839385824, 0.9782639436259049, 0.354028643026447, 0.935216434156398, 0.20241556804323602], \"y\": [0.10138004662381062, 0.5640856826974502, 0.4746754869757348, 0.42307463674948265, 0.8835088029086725, 0.5303098013125226, 0.3958890626697983, 0.028586701618953714, 0.1274825820925879, 0.6104287929880697, 0.02102595941007035, 0.15769460576672323, 0.15917971739883408, 0.2305334088683555, 0.03614058744306292, 0.44471280667096647, 0.07605149689607005, 0.38570735464571015, 0.10607602944397776, 0.019692091608589313, 0.3325660929162424, 0.3636935644936726, 0.2731571399746261, 0.3942899454794968, 0.18978543252540614, 0.5052626484971736, 0.2790920264518473, 0.40013407549929025, 0.7775094095421144, 0.622728875886707, 0.13580936712304237, 0.6040973534310989, 0.3667637886620363, 0.7128191050665946, 0.418744955470443, 0.28442682078021475, 0.23836262904417316, 0.6435593338390543, 0.20251848322294375, 0.463651960382921, 0.2405425968355953, 0.23451820850820004, 0.4079359652678577, 0.6329314374455077, 0.05526646063499818, 0.45155513325537344, 0.2589081523411697, 0.24199318231354328, 0.33557372049995904, 0.11324128447715154, 0.026840680801834993]}, {\"marker\": {\"color\": \"rgba(0,116,217,1.0)\", \"line\": {\"width\": 1}, \"size\": 10}, \"mode\": \"markers\", \"name\": \"Tall rectangle\", \"type\": \"scatter\", \"x\": [0.03272147750810428, 0.042008071478498055, 0.19796307292143733, 0.0606480826098621, 0.48384371609182375, 0.11744846638922712, 0.44043347414543743, 0.24204595458993305, 0.3729896820595584, 0.49460893665144534, 0.18973910416703776, 0.020716647470952476, 0.09445868704917515, 0.04414492142389281, 0.5782950288655956, 0.6693330030401793, 0.033505168745396996, 0.20620281870912194, 0.9304823081530514, 0.8806499050432414, 0.16073033677186477, 0.04618875334008454, 0.267680972407478, 0.6837678925799691, 0.26645735784294833, 0.3986963456399172, 0.04282798294609613, 0.8699091149877594, 0.6261768171179064, 0.01928377100202039, 0.5296433991030988, 0.1510391424329255, 0.19025130317717653, 0.35623072099426756, 0.4730597988036299, 0.2550998105162887, 0.1979739413433752, 0.8792567025407592, 0.001495162139627082, 0.036794675716617764, 0.3353416415117849, 0.44240129540550854, 0.15148002772664915, 0.5542287686597966, 0.48157490147463966, 0.6550386752711159, 0.9391980391739713, 0.2066952661619338, 0.05377401417600258], \"y\": [0.7019221134153325, 0.6634806303100618, 0.42913458744233357, 0.641794566571725, 0.7913237732257601, 0.2877156942934247, 0.8324725281424272, 0.6459768009256384, 0.8761769602185645, 0.6833181586106722, 0.39865026775747336, 0.3608368925814356, 0.8489183648954902, 0.35134845517102564, 0.7985750197686141, 0.9381233398947978, 0.7876704944134143, 0.6172278757204214, 0.9831495687390471, 0.9427422510285797, 0.22327058775599462, 0.570278452915611, 0.7831241609863832, 0.8965195309715616, 0.6327274595438281, 0.45136373402723207, 0.30923397305177824, 0.9589386284186381, 0.6529052976218448, 0.3506047510159701, 0.9354955583158999, 0.5354970364067124, 0.4445859024534907, 0.6685501390039883, 0.7412655150595187, 0.7537489147242304, 0.4445740024346071, 0.9071619008940264, 0.9932263097457706, 0.2810777454108635, 0.8407701405892541, 0.6727574062627606, 0.7184126357703378, 0.8135336864003199, 0.9531193301917572, 0.6762752352064614, 0.971466574863676, 0.3821489283255822, 0.2502884577649823]}],\n",
       "                        {\"height\": 600, \"template\": {\"data\": {\"bar\": [{\"error_x\": {\"color\": \"#2a3f5f\"}, \"error_y\": {\"color\": \"#2a3f5f\"}, \"marker\": {\"line\": {\"color\": \"#E5ECF6\", \"width\": 0.5}}, \"type\": \"bar\"}], \"barpolar\": [{\"marker\": {\"line\": {\"color\": \"#E5ECF6\", \"width\": 0.5}}, \"type\": \"barpolar\"}], \"carpet\": [{\"aaxis\": {\"endlinecolor\": \"#2a3f5f\", \"gridcolor\": \"white\", \"linecolor\": \"white\", \"minorgridcolor\": \"white\", \"startlinecolor\": \"#2a3f5f\"}, \"baxis\": {\"endlinecolor\": \"#2a3f5f\", \"gridcolor\": \"white\", \"linecolor\": \"white\", \"minorgridcolor\": \"white\", \"startlinecolor\": \"#2a3f5f\"}, \"type\": \"carpet\"}], \"choropleth\": [{\"colorbar\": {\"outlinewidth\": 0, \"ticks\": \"\"}, \"type\": \"choropleth\"}], \"contour\": [{\"colorbar\": {\"outlinewidth\": 0, \"ticks\": \"\"}, \"colorscale\": [[0.0, \"#0d0887\"], [0.1111111111111111, \"#46039f\"], [0.2222222222222222, \"#7201a8\"], [0.3333333333333333, \"#9c179e\"], [0.4444444444444444, \"#bd3786\"], [0.5555555555555556, \"#d8576b\"], [0.6666666666666666, \"#ed7953\"], [0.7777777777777778, \"#fb9f3a\"], [0.8888888888888888, \"#fdca26\"], [1.0, \"#f0f921\"]], \"type\": \"contour\"}], \"contourcarpet\": [{\"colorbar\": {\"outlinewidth\": 0, \"ticks\": \"\"}, \"type\": \"contourcarpet\"}], \"heatmap\": [{\"colorbar\": {\"outlinewidth\": 0, \"ticks\": \"\"}, \"colorscale\": [[0.0, \"#0d0887\"], [0.1111111111111111, \"#46039f\"], [0.2222222222222222, \"#7201a8\"], [0.3333333333333333, \"#9c179e\"], [0.4444444444444444, \"#bd3786\"], [0.5555555555555556, \"#d8576b\"], [0.6666666666666666, \"#ed7953\"], [0.7777777777777778, \"#fb9f3a\"], [0.8888888888888888, \"#fdca26\"], [1.0, \"#f0f921\"]], \"type\": \"heatmap\"}], \"heatmapgl\": [{\"colorbar\": {\"outlinewidth\": 0, \"ticks\": \"\"}, \"colorscale\": [[0.0, \"#0d0887\"], [0.1111111111111111, \"#46039f\"], [0.2222222222222222, \"#7201a8\"], [0.3333333333333333, \"#9c179e\"], [0.4444444444444444, \"#bd3786\"], [0.5555555555555556, \"#d8576b\"], [0.6666666666666666, \"#ed7953\"], [0.7777777777777778, \"#fb9f3a\"], [0.8888888888888888, \"#fdca26\"], [1.0, \"#f0f921\"]], \"type\": \"heatmapgl\"}], \"histogram\": [{\"marker\": {\"colorbar\": {\"outlinewidth\": 0, \"ticks\": \"\"}}, \"type\": \"histogram\"}], \"histogram2d\": [{\"colorbar\": {\"outlinewidth\": 0, \"ticks\": \"\"}, \"colorscale\": [[0.0, \"#0d0887\"], [0.1111111111111111, \"#46039f\"], [0.2222222222222222, \"#7201a8\"], [0.3333333333333333, \"#9c179e\"], [0.4444444444444444, \"#bd3786\"], [0.5555555555555556, \"#d8576b\"], [0.6666666666666666, \"#ed7953\"], [0.7777777777777778, \"#fb9f3a\"], [0.8888888888888888, \"#fdca26\"], [1.0, \"#f0f921\"]], \"type\": \"histogram2d\"}], \"histogram2dcontour\": [{\"colorbar\": {\"outlinewidth\": 0, \"ticks\": \"\"}, \"colorscale\": [[0.0, \"#0d0887\"], [0.1111111111111111, \"#46039f\"], [0.2222222222222222, \"#7201a8\"], [0.3333333333333333, \"#9c179e\"], [0.4444444444444444, \"#bd3786\"], [0.5555555555555556, \"#d8576b\"], [0.6666666666666666, \"#ed7953\"], [0.7777777777777778, \"#fb9f3a\"], [0.8888888888888888, \"#fdca26\"], [1.0, \"#f0f921\"]], \"type\": \"histogram2dcontour\"}], \"mesh3d\": [{\"colorbar\": {\"outlinewidth\": 0, \"ticks\": \"\"}, \"type\": \"mesh3d\"}], \"parcoords\": [{\"line\": {\"colorbar\": {\"outlinewidth\": 0, \"ticks\": \"\"}}, \"type\": \"parcoords\"}], \"scatter\": [{\"marker\": {\"colorbar\": {\"outlinewidth\": 0, \"ticks\": \"\"}}, \"type\": \"scatter\"}], \"scatter3d\": [{\"line\": {\"colorbar\": {\"outlinewidth\": 0, \"ticks\": \"\"}}, \"marker\": {\"colorbar\": {\"outlinewidth\": 0, \"ticks\": \"\"}}, \"type\": \"scatter3d\"}], \"scattercarpet\": [{\"marker\": {\"colorbar\": {\"outlinewidth\": 0, \"ticks\": \"\"}}, \"type\": \"scattercarpet\"}], \"scattergeo\": [{\"marker\": {\"colorbar\": {\"outlinewidth\": 0, \"ticks\": \"\"}}, \"type\": \"scattergeo\"}], \"scattergl\": [{\"marker\": {\"colorbar\": {\"outlinewidth\": 0, \"ticks\": \"\"}}, \"type\": \"scattergl\"}], \"scattermapbox\": [{\"marker\": {\"colorbar\": {\"outlinewidth\": 0, \"ticks\": \"\"}}, \"type\": \"scattermapbox\"}], \"scatterpolar\": [{\"marker\": {\"colorbar\": {\"outlinewidth\": 0, \"ticks\": \"\"}}, \"type\": \"scatterpolar\"}], \"scatterpolargl\": [{\"marker\": {\"colorbar\": {\"outlinewidth\": 0, \"ticks\": \"\"}}, \"type\": \"scatterpolargl\"}], \"scatterternary\": [{\"marker\": {\"colorbar\": {\"outlinewidth\": 0, \"ticks\": \"\"}}, \"type\": \"scatterternary\"}], \"surface\": [{\"colorbar\": {\"outlinewidth\": 0, \"ticks\": \"\"}, \"colorscale\": [[0.0, \"#0d0887\"], [0.1111111111111111, \"#46039f\"], [0.2222222222222222, \"#7201a8\"], [0.3333333333333333, \"#9c179e\"], [0.4444444444444444, \"#bd3786\"], [0.5555555555555556, \"#d8576b\"], [0.6666666666666666, \"#ed7953\"], [0.7777777777777778, \"#fb9f3a\"], [0.8888888888888888, \"#fdca26\"], [1.0, \"#f0f921\"]], \"type\": \"surface\"}], \"table\": [{\"cells\": {\"fill\": {\"color\": \"#EBF0F8\"}, \"line\": {\"color\": \"white\"}}, \"header\": {\"fill\": {\"color\": \"#C8D4E3\"}, \"line\": {\"color\": \"white\"}}, \"type\": \"table\"}]}, \"layout\": {\"annotationdefaults\": {\"arrowcolor\": \"#2a3f5f\", \"arrowhead\": 0, \"arrowwidth\": 1}, \"colorscale\": {\"diverging\": [[0, \"#8e0152\"], [0.1, \"#c51b7d\"], [0.2, \"#de77ae\"], [0.3, \"#f1b6da\"], [0.4, \"#fde0ef\"], [0.5, \"#f7f7f7\"], [0.6, \"#e6f5d0\"], [0.7, \"#b8e186\"], [0.8, \"#7fbc41\"], [0.9, \"#4d9221\"], [1, \"#276419\"]], \"sequential\": [[0.0, \"#0d0887\"], [0.1111111111111111, \"#46039f\"], [0.2222222222222222, \"#7201a8\"], [0.3333333333333333, \"#9c179e\"], [0.4444444444444444, \"#bd3786\"], [0.5555555555555556, \"#d8576b\"], [0.6666666666666666, \"#ed7953\"], [0.7777777777777778, \"#fb9f3a\"], [0.8888888888888888, \"#fdca26\"], [1.0, \"#f0f921\"]], \"sequentialminus\": [[0.0, \"#0d0887\"], [0.1111111111111111, \"#46039f\"], [0.2222222222222222, \"#7201a8\"], [0.3333333333333333, \"#9c179e\"], [0.4444444444444444, \"#bd3786\"], [0.5555555555555556, \"#d8576b\"], [0.6666666666666666, \"#ed7953\"], [0.7777777777777778, \"#fb9f3a\"], [0.8888888888888888, \"#fdca26\"], [1.0, \"#f0f921\"]]}, \"colorway\": [\"#636efa\", \"#EF553B\", \"#00cc96\", \"#ab63fa\", \"#FFA15A\", \"#19d3f3\", \"#FF6692\", \"#B6E880\", \"#FF97FF\", \"#FECB52\"], \"font\": {\"color\": \"#2a3f5f\"}, \"geo\": {\"bgcolor\": \"white\", \"lakecolor\": \"white\", \"landcolor\": \"#E5ECF6\", \"showlakes\": true, \"showland\": true, \"subunitcolor\": \"white\"}, \"hoverlabel\": {\"align\": \"left\"}, \"hovermode\": \"closest\", \"mapbox\": {\"style\": \"light\"}, \"paper_bgcolor\": \"white\", \"plot_bgcolor\": \"#E5ECF6\", \"polar\": {\"angularaxis\": {\"gridcolor\": \"white\", \"linecolor\": \"white\", \"ticks\": \"\"}, \"bgcolor\": \"#E5ECF6\", \"radialaxis\": {\"gridcolor\": \"white\", \"linecolor\": \"white\", \"ticks\": \"\"}}, \"scene\": {\"xaxis\": {\"backgroundcolor\": \"#E5ECF6\", \"gridcolor\": \"white\", \"gridwidth\": 2, \"linecolor\": \"white\", \"showbackground\": true, \"ticks\": \"\", \"zerolinecolor\": \"white\"}, \"yaxis\": {\"backgroundcolor\": \"#E5ECF6\", \"gridcolor\": \"white\", \"gridwidth\": 2, \"linecolor\": \"white\", \"showbackground\": true, \"ticks\": \"\", \"zerolinecolor\": \"white\"}, \"zaxis\": {\"backgroundcolor\": \"#E5ECF6\", \"gridcolor\": \"white\", \"gridwidth\": 2, \"linecolor\": \"white\", \"showbackground\": true, \"ticks\": \"\", \"zerolinecolor\": \"white\"}}, \"shapedefaults\": {\"line\": {\"color\": \"#2a3f5f\"}}, \"ternary\": {\"aaxis\": {\"gridcolor\": \"white\", \"linecolor\": \"white\", \"ticks\": \"\"}, \"baxis\": {\"gridcolor\": \"white\", \"linecolor\": \"white\", \"ticks\": \"\"}, \"bgcolor\": \"#E5ECF6\", \"caxis\": {\"gridcolor\": \"white\", \"linecolor\": \"white\", \"ticks\": \"\"}}, \"title\": {\"x\": 0.05}, \"xaxis\": {\"automargin\": true, \"gridcolor\": \"white\", \"linecolor\": \"white\", \"ticks\": \"\", \"zerolinecolor\": \"white\", \"zerolinewidth\": 2}, \"yaxis\": {\"automargin\": true, \"gridcolor\": \"white\", \"linecolor\": \"white\", \"ticks\": \"\", \"zerolinecolor\": \"white\", \"zerolinewidth\": 2}}}, \"updatemenus\": [{\"buttons\": [{\"args\": [null], \"label\": \"Play\", \"method\": \"animate\"}], \"type\": \"buttons\"}], \"width\": 800, \"xaxis\": {\"title\": {\"text\": \"width\"}}, \"yaxis\": {\"title\": {\"text\": \"height\"}}},\n",
       "                        {\"responsive\": true}\n",
       "                    ).then(function(){\n",
       "                            Plotly.addFrames('381d2b8f-355b-4f1f-a9e8-2776cfcdf460', [{\"data\": [{\"fill\": \"toself\", \"fillcolor\": \"rgba(255,65,54,0.5)\", \"hoverinfo\": \"none\", \"mode\": \"none\", \"showlegend\": false, \"x\": [1.05, 1.05, -0.05, -0.05, 1.05], \"y\": [0.3819995924378689, -0.05, -0.05, 0.7282785602771713, 0.3819995924378689], \"type\": \"scatter\"}, {\"fill\": \"toself\", \"fillcolor\": \"rgba(0,116,217,0.5)\", \"hoverinfo\": \"none\", \"mode\": \"none\", \"showlegend\": false, \"x\": [-0.05, -0.05, 1.05, 1.05, -0.05], \"y\": [0.7282785602771713, 1.05, 1.05, 0.3819995924378689, 0.7282785602771713], \"type\": \"scatter\"}], \"layout\": {\"title\": {\"text\": \" Model: -0.31*x + 0.71\"}}}, {\"data\": [{\"fill\": \"toself\", \"fillcolor\": \"rgba(255,65,54,0.5)\", \"hoverinfo\": \"none\", \"mode\": \"none\", \"showlegend\": false, \"x\": [1.05, 1.05, -0.05, -0.05, 1.05], \"y\": [0.4696794471971151, -0.05, -0.05, 0.6358744312718007, 0.4696794471971151], \"type\": \"scatter\"}, {\"fill\": \"toself\", \"fillcolor\": \"rgba(0,116,217,0.5)\", \"hoverinfo\": \"none\", \"mode\": \"none\", \"showlegend\": false, \"x\": [-0.05, -0.05, 1.05, 1.05, -0.05], \"y\": [0.6358744312718007, 1.05, 1.05, 0.4696794471971151, 0.6358744312718007], \"type\": \"scatter\"}], \"layout\": {\"title\": {\"text\": \" Model: -0.15*x + 0.63\"}}}, {\"data\": [{\"fill\": \"toself\", \"fillcolor\": \"rgba(255,65,54,0.5)\", \"hoverinfo\": \"none\", \"mode\": \"none\", \"showlegend\": false, \"x\": [1.05, 1.05, -0.05, -0.05, 1.05], \"y\": [0.5423035181442803, -0.05, -0.05, 0.5521528761368681, 0.5423035181442803], \"type\": \"scatter\"}, {\"fill\": \"toself\", \"fillcolor\": \"rgba(0,116,217,0.5)\", \"hoverinfo\": \"none\", \"mode\": \"none\", \"showlegend\": false, \"x\": [-0.05, -0.05, 1.05, 1.05, -0.05], \"y\": [0.5521528761368681, 1.05, 1.05, 0.5423035181442803, 0.5521528761368681], \"type\": \"scatter\"}], \"layout\": {\"title\": {\"text\": \" Model: -0.01*x + 0.55\"}}}, {\"data\": [{\"fill\": \"toself\", \"fillcolor\": \"rgba(255,65,54,0.5)\", \"hoverinfo\": \"none\", \"mode\": \"none\", \"showlegend\": false, \"x\": [1.05, 1.05, -0.05, -0.05, 1.05], \"y\": [0.5980381898333681, -0.05, -0.05, 0.48530949280211116, 0.5980381898333681], \"type\": \"scatter\"}, {\"fill\": \"toself\", \"fillcolor\": \"rgba(0,116,217,0.5)\", \"hoverinfo\": \"none\", \"mode\": \"none\", \"showlegend\": false, \"x\": [-0.05, -0.05, 1.05, 1.05, -0.05], \"y\": [0.48530949280211116, 1.05, 1.05, 0.5980381898333681, 0.48530949280211116], \"type\": \"scatter\"}], \"layout\": {\"title\": {\"text\": \" Model: 0.10*x + 0.49\"}}}, {\"data\": [{\"fill\": \"toself\", \"fillcolor\": \"rgba(255,65,54,0.5)\", \"hoverinfo\": \"none\", \"mode\": \"none\", \"showlegend\": false, \"x\": [1.05, 1.05, -0.05, -0.05, 1.05], \"y\": [0.6470866632629597, -0.05, -0.05, 0.42586337387509293, 0.6470866632629597], \"type\": \"scatter\"}, {\"fill\": \"toself\", \"fillcolor\": \"rgba(0,116,217,0.5)\", \"hoverinfo\": \"none\", \"mode\": \"none\", \"showlegend\": false, \"x\": [-0.05, -0.05, 1.05, 1.05, -0.05], \"y\": [0.42586337387509293, 1.05, 1.05, 0.6470866632629597, 0.42586337387509293], \"type\": \"scatter\"}], \"layout\": {\"title\": {\"text\": \" Model: 0.20*x + 0.44\"}}}, {\"data\": [{\"fill\": \"toself\", \"fillcolor\": \"rgba(255,65,54,0.5)\", \"hoverinfo\": \"none\", \"mode\": \"none\", \"showlegend\": false, \"x\": [1.05, 1.05, -0.05, -0.05, 1.05], \"y\": [0.6867139257543896, -0.05, -0.05, 0.37798347847336317, 0.6867139257543896], \"type\": \"scatter\"}, {\"fill\": \"toself\", \"fillcolor\": \"rgba(0,116,217,0.5)\", \"hoverinfo\": \"none\", \"mode\": \"none\", \"showlegend\": false, \"x\": [-0.05, -0.05, 1.05, 1.05, -0.05], \"y\": [0.37798347847336317, 1.05, 1.05, 0.6867139257543896, 0.37798347847336317], \"type\": \"scatter\"}], \"layout\": {\"title\": {\"text\": \" Model: 0.28*x + 0.39\"}}}, {\"data\": [{\"fill\": \"toself\", \"fillcolor\": \"rgba(255,65,54,0.5)\", \"hoverinfo\": \"none\", \"mode\": \"none\", \"showlegend\": false, \"x\": [1.05, 1.05, -0.05, -0.05, 1.05], \"y\": [0.7224543665885281, -0.05, -0.05, 0.3351725236572413, 0.7224543665885281], \"type\": \"scatter\"}, {\"fill\": \"toself\", \"fillcolor\": \"rgba(0,116,217,0.5)\", \"hoverinfo\": \"none\", \"mode\": \"none\", \"showlegend\": false, \"x\": [-0.05, -0.05, 1.05, 1.05, -0.05], \"y\": [0.3351725236572413, 1.05, 1.05, 0.7224543665885281, 0.3351725236572413], \"type\": \"scatter\"}], \"layout\": {\"title\": {\"text\": \" Model: 0.35*x + 0.35\"}}}, {\"data\": [{\"fill\": \"toself\", \"fillcolor\": \"rgba(255,65,54,0.5)\", \"hoverinfo\": \"none\", \"mode\": \"none\", \"showlegend\": false, \"x\": [1.05, 1.05, -0.05, -0.05, 1.05], \"y\": [0.7520568725303471, -0.05, -0.05, 0.3000812804140702, 0.7520568725303471], \"type\": \"scatter\"}, {\"fill\": \"toself\", \"fillcolor\": \"rgba(0,116,217,0.5)\", \"hoverinfo\": \"none\", \"mode\": \"none\", \"showlegend\": false, \"x\": [-0.05, -0.05, 1.05, 1.05, -0.05], \"y\": [0.3000812804140702, 1.05, 1.05, 0.7520568725303471, 0.3000812804140702], \"type\": \"scatter\"}], \"layout\": {\"title\": {\"text\": \" Model: 0.41*x + 0.32\"}}}, {\"data\": [{\"fill\": \"toself\", \"fillcolor\": \"rgba(255,65,54,0.5)\", \"hoverinfo\": \"none\", \"mode\": \"none\", \"showlegend\": false, \"x\": [1.05, 1.05, -0.05, -0.05, 1.05], \"y\": [0.7790435215072262, -0.05, -0.05, 0.2684287733905774, 0.7790435215072262], \"type\": \"scatter\"}, {\"fill\": \"toself\", \"fillcolor\": \"rgba(0,116,217,0.5)\", \"hoverinfo\": \"none\", \"mode\": \"none\", \"showlegend\": false, \"x\": [-0.05, -0.05, 1.05, 1.05, -0.05], \"y\": [0.2684287733905774, 1.05, 1.05, 0.7790435215072262, 0.2684287733905774], \"type\": \"scatter\"}], \"layout\": {\"title\": {\"text\": \" Model: 0.46*x + 0.29\"}}}, {\"data\": [{\"fill\": \"toself\", \"fillcolor\": \"rgba(255,65,54,0.5)\", \"hoverinfo\": \"none\", \"mode\": \"none\", \"showlegend\": false, \"x\": [1.05, 1.05, -0.05, -0.05, 1.05], \"y\": [0.8034820996580192, -0.05, -0.05, 0.24007236526083428, 0.8034820996580192], \"type\": \"scatter\"}, {\"fill\": \"toself\", \"fillcolor\": \"rgba(0,116,217,0.5)\", \"hoverinfo\": \"none\", \"mode\": \"none\", \"showlegend\": false, \"x\": [-0.05, -0.05, 1.05, 1.05, -0.05], \"y\": [0.24007236526083428, 1.05, 1.05, 0.8034820996580192, 0.24007236526083428], \"type\": \"scatter\"}], \"layout\": {\"title\": {\"text\": \" Model: 0.51*x + 0.27\"}}}, {\"data\": [{\"fill\": \"toself\", \"fillcolor\": \"rgba(255,65,54,0.5)\", \"hoverinfo\": \"none\", \"mode\": \"none\", \"showlegend\": false, \"x\": [1.05, 1.05, -0.05, -0.05, 1.05], \"y\": [0.8255031296247695, -0.05, -0.05, 0.21479476115620094, 0.8255031296247695], \"type\": \"scatter\"}, {\"fill\": \"toself\", \"fillcolor\": \"rgba(0,116,217,0.5)\", \"hoverinfo\": \"none\", \"mode\": \"none\", \"showlegend\": false, \"x\": [-0.05, -0.05, 1.05, 1.05, -0.05], \"y\": [0.21479476115620094, 1.05, 1.05, 0.8255031296247695, 0.21479476115620094], \"type\": \"scatter\"}], \"layout\": {\"title\": {\"text\": \" Model: 0.56*x + 0.24\"}}}, {\"data\": [{\"fill\": \"toself\", \"fillcolor\": \"rgba(255,65,54,0.5)\", \"hoverinfo\": \"none\", \"mode\": \"none\", \"showlegend\": false, \"x\": [1.05, 1.05, -0.05, -0.05, 1.05], \"y\": [0.8440583380834551, -0.05, -0.05, 0.19371539355494685, 0.8440583380834551], \"type\": \"scatter\"}, {\"fill\": \"toself\", \"fillcolor\": \"rgba(0,116,217,0.5)\", \"hoverinfo\": \"none\", \"mode\": \"none\", \"showlegend\": false, \"x\": [-0.05, -0.05, 1.05, 1.05, -0.05], \"y\": [0.19371539355494685, 1.05, 1.05, 0.8440583380834551, 0.19371539355494685], \"type\": \"scatter\"}], \"layout\": {\"title\": {\"text\": \" Model: 0.59*x + 0.22\"}}}, {\"data\": [{\"fill\": \"toself\", \"fillcolor\": \"rgba(255,65,54,0.5)\", \"hoverinfo\": \"none\", \"mode\": \"none\", \"showlegend\": false, \"x\": [1.05, 1.05, -0.05, -0.05, 1.05], \"y\": [0.8609196379267423, -0.05, -0.05, 0.17475098200376502, 0.8609196379267423], \"type\": \"scatter\"}, {\"fill\": \"toself\", \"fillcolor\": \"rgba(0,116,217,0.5)\", \"hoverinfo\": \"none\", \"mode\": \"none\", \"showlegend\": false, \"x\": [-0.05, -0.05, 1.05, 1.05, -0.05], \"y\": [0.17475098200376502, 1.05, 1.05, 0.8609196379267423, 0.17475098200376502], \"type\": \"scatter\"}], \"layout\": {\"title\": {\"text\": \" Model: 0.62*x + 0.21\"}}}, {\"data\": [{\"fill\": \"toself\", \"fillcolor\": \"rgba(255,65,54,0.5)\", \"hoverinfo\": \"none\", \"mode\": \"none\", \"showlegend\": false, \"x\": [1.05, 1.05, -0.05, -0.05, 1.05], \"y\": [0.8761775506386799, -0.05, -0.05, 0.15776116232617818, 0.8761775506386799], \"type\": \"scatter\"}, {\"fill\": \"toself\", \"fillcolor\": \"rgba(0,116,217,0.5)\", \"hoverinfo\": \"none\", \"mode\": \"none\", \"showlegend\": false, \"x\": [-0.05, -0.05, 1.05, 1.05, -0.05], \"y\": [0.15776116232617818, 1.05, 1.05, 0.8761775506386799, 0.15776116232617818], \"type\": \"scatter\"}], \"layout\": {\"title\": {\"text\": \" Model: 0.65*x + 0.19\"}}}, {\"data\": [{\"fill\": \"toself\", \"fillcolor\": \"rgba(255,65,54,0.5)\", \"hoverinfo\": \"none\", \"mode\": \"none\", \"showlegend\": false, \"x\": [1.05, 1.05, -0.05, -0.05, 1.05], \"y\": [0.8899368390951894, -0.05, -0.05, 0.14259328644609545, 0.8899368390951894], \"type\": \"scatter\"}, {\"fill\": \"toself\", \"fillcolor\": \"rgba(0,116,217,0.5)\", \"hoverinfo\": \"none\", \"mode\": \"none\", \"showlegend\": false, \"x\": [-0.05, -0.05, 1.05, 1.05, -0.05], \"y\": [0.14259328644609545, 1.05, 1.05, 0.8899368390951894, 0.14259328644609545], \"type\": \"scatter\"}], \"layout\": {\"title\": {\"text\": \" Model: 0.68*x + 0.18\"}}}, {\"data\": [{\"fill\": \"toself\", \"fillcolor\": \"rgba(255,65,54,0.5)\", \"hoverinfo\": \"none\", \"mode\": \"none\", \"showlegend\": false, \"x\": [1.05, 1.05, -0.05, -0.05, 1.05], \"y\": [0.9029388733149899, -0.05, -0.05, 0.12840767660207275, 0.9029388733149899], \"type\": \"scatter\"}, {\"fill\": \"toself\", \"fillcolor\": \"rgba(0,116,217,0.5)\", \"hoverinfo\": \"none\", \"mode\": \"none\", \"showlegend\": false, \"x\": [-0.05, -0.05, 1.05, 1.05, -0.05], \"y\": [0.12840767660207275, 1.05, 1.05, 0.9029388733149899, 0.12840767660207275], \"type\": \"scatter\"}], \"layout\": {\"title\": {\"text\": \" Model: 0.70*x + 0.16\"}}}, {\"data\": [{\"fill\": \"toself\", \"fillcolor\": \"rgba(255,65,54,0.5)\", \"hoverinfo\": \"none\", \"mode\": \"none\", \"showlegend\": false, \"x\": [1.05, 1.05, -0.05, -0.05, 1.05], \"y\": [0.9144714134735473, -0.05, -0.05, 0.11595868816462278, 0.9144714134735473], \"type\": \"scatter\"}, {\"fill\": \"toself\", \"fillcolor\": \"rgba(0,116,217,0.5)\", \"hoverinfo\": \"none\", \"mode\": \"none\", \"showlegend\": false, \"x\": [-0.05, -0.05, 1.05, 1.05, -0.05], \"y\": [0.11595868816462278, 1.05, 1.05, 0.9144714134735473, 0.11595868816462278], \"type\": \"scatter\"}], \"layout\": {\"title\": {\"text\": \" Model: 0.73*x + 0.15\"}}}, {\"data\": [{\"fill\": \"toself\", \"fillcolor\": \"rgba(255,65,54,0.5)\", \"hoverinfo\": \"none\", \"mode\": \"none\", \"showlegend\": false, \"x\": [1.05, 1.05, -0.05, -0.05, 1.05], \"y\": [0.9246894274713948, -0.05, -0.05, 0.10504611788096334, 0.9246894274713948], \"type\": \"scatter\"}, {\"fill\": \"toself\", \"fillcolor\": \"rgba(0,116,217,0.5)\", \"hoverinfo\": \"none\", \"mode\": \"none\", \"showlegend\": false, \"x\": [-0.05, -0.05, 1.05, 1.05, -0.05], \"y\": [0.10504611788096334, 1.05, 1.05, 0.9246894274713948, 0.10504611788096334], \"type\": \"scatter\"}], \"layout\": {\"title\": {\"text\": \" Model: 0.75*x + 0.14\"}}}, {\"data\": [{\"fill\": \"toself\", \"fillcolor\": \"rgba(255,65,54,0.5)\", \"hoverinfo\": \"none\", \"mode\": \"none\", \"showlegend\": false, \"x\": [1.05, 1.05, -0.05, -0.05, 1.05], \"y\": [0.9341096173594801, -0.05, -0.05, 0.09509622357728456, 0.9341096173594801], \"type\": \"scatter\"}, {\"fill\": \"toself\", \"fillcolor\": \"rgba(0,116,217,0.5)\", \"hoverinfo\": \"none\", \"mode\": \"none\", \"showlegend\": false, \"x\": [-0.05, -0.05, 1.05, 1.05, -0.05], \"y\": [0.09509622357728456, 1.05, 1.05, 0.9341096173594801, 0.09509622357728456], \"type\": \"scatter\"}], \"layout\": {\"title\": {\"text\": \" Model: 0.76*x + 0.13\"}}}, {\"data\": [{\"fill\": \"toself\", \"fillcolor\": \"rgba(255,65,54,0.5)\", \"hoverinfo\": \"none\", \"mode\": \"none\", \"showlegend\": false, \"x\": [1.05, 1.05, -0.05, -0.05, 1.05], \"y\": [0.9423643306411993, -0.05, -0.05, 0.08647719407209023, 0.9423643306411993], \"type\": \"scatter\"}, {\"fill\": \"toself\", \"fillcolor\": \"rgba(0,116,217,0.5)\", \"hoverinfo\": \"none\", \"mode\": \"none\", \"showlegend\": false, \"x\": [-0.05, -0.05, 1.05, 1.05, -0.05], \"y\": [0.08647719407209023, 1.05, 1.05, 0.9423643306411993, 0.08647719407209023], \"type\": \"scatter\"}], \"layout\": {\"title\": {\"text\": \" Model: 0.78*x + 0.13\"}}}, {\"data\": [{\"fill\": \"toself\", \"fillcolor\": \"rgba(255,65,54,0.5)\", \"hoverinfo\": \"none\", \"mode\": \"none\", \"showlegend\": false, \"x\": [1.05, 1.05, -0.05, -0.05, 1.05], \"y\": [0.9498607189228621, -0.05, -0.05, 0.07874382519751728, 0.9498607189228621], \"type\": \"scatter\"}, {\"fill\": \"toself\", \"fillcolor\": \"rgba(0,116,217,0.5)\", \"hoverinfo\": \"none\", \"mode\": \"none\", \"showlegend\": false, \"x\": [-0.05, -0.05, 1.05, 1.05, -0.05], \"y\": [0.07874382519751728, 1.05, 1.05, 0.9498607189228621, 0.07874382519751728], \"type\": \"scatter\"}], \"layout\": {\"title\": {\"text\": \" Model: 0.79*x + 0.12\"}}}, {\"data\": [{\"fill\": \"toself\", \"fillcolor\": \"rgba(255,65,54,0.5)\", \"hoverinfo\": \"none\", \"mode\": \"none\", \"showlegend\": false, \"x\": [1.05, 1.05, -0.05, -0.05, 1.05], \"y\": [0.956374720326269, -0.05, -0.05, 0.0721093481115957, 0.956374720326269], \"type\": \"scatter\"}, {\"fill\": \"toself\", \"fillcolor\": \"rgba(0,116,217,0.5)\", \"hoverinfo\": \"none\", \"mode\": \"none\", \"showlegend\": false, \"x\": [-0.05, -0.05, 1.05, 1.05, -0.05], \"y\": [0.0721093481115957, 1.05, 1.05, 0.956374720326269, 0.0721093481115957], \"type\": \"scatter\"}], \"layout\": {\"title\": {\"text\": \" Model: 0.80*x + 0.11\"}}}, {\"data\": [{\"fill\": \"toself\", \"fillcolor\": \"rgba(255,65,54,0.5)\", \"hoverinfo\": \"none\", \"mode\": \"none\", \"showlegend\": false, \"x\": [1.05, 1.05, -0.05, -0.05, 1.05], \"y\": [0.9622212554476075, -0.05, -0.05, 0.06623569649478106, 0.9622212554476075], \"type\": \"scatter\"}, {\"fill\": \"toself\", \"fillcolor\": \"rgba(0,116,217,0.5)\", \"hoverinfo\": \"none\", \"mode\": \"none\", \"showlegend\": false, \"x\": [-0.05, -0.05, 1.05, 1.05, -0.05], \"y\": [0.06623569649478106, 1.05, 1.05, 0.9622212554476075, 0.06623569649478106], \"type\": \"scatter\"}], \"layout\": {\"title\": {\"text\": \" Model: 0.81*x + 0.11\"}}}, {\"data\": [{\"fill\": \"toself\", \"fillcolor\": \"rgba(255,65,54,0.5)\", \"hoverinfo\": \"none\", \"mode\": \"none\", \"showlegend\": false, \"x\": [1.05, 1.05, -0.05, -0.05, 1.05], \"y\": [0.9674211895746527, -0.05, -0.05, 0.061090012253817674, 0.9674211895746527], \"type\": \"scatter\"}, {\"fill\": \"toself\", \"fillcolor\": \"rgba(0,116,217,0.5)\", \"hoverinfo\": \"none\", \"mode\": \"none\", \"showlegend\": false, \"x\": [-0.05, -0.05, 1.05, 1.05, -0.05], \"y\": [0.061090012253817674, 1.05, 1.05, 0.9674211895746527, 0.061090012253817674], \"type\": \"scatter\"}], \"layout\": {\"title\": {\"text\": \" Model: 0.82*x + 0.10\"}}}, {\"data\": [{\"fill\": \"toself\", \"fillcolor\": \"rgba(255,65,54,0.5)\", \"hoverinfo\": \"none\", \"mode\": \"none\", \"showlegend\": false, \"x\": [1.05, 1.05, -0.05, -0.05, 1.05], \"y\": [0.9720092013308239, -0.05, -0.05, 0.05662579377669294, 0.9720092013308239], \"type\": \"scatter\"}, {\"fill\": \"toself\", \"fillcolor\": \"rgba(0,116,217,0.5)\", \"hoverinfo\": \"none\", \"mode\": \"none\", \"showlegend\": false, \"x\": [-0.05, -0.05, 1.05, 1.05, -0.05], \"y\": [0.05662579377669294, 1.05, 1.05, 0.9720092013308239, 0.05662579377669294], \"type\": \"scatter\"}], \"layout\": {\"title\": {\"text\": \" Model: 0.83*x + 0.10\"}}}, {\"data\": [{\"fill\": \"toself\", \"fillcolor\": \"rgba(255,65,54,0.5)\", \"hoverinfo\": \"none\", \"mode\": \"none\", \"showlegend\": false, \"x\": [1.05, 1.05, -0.05, -0.05, 1.05], \"y\": [0.9760287514553749, -0.05, -0.05, 0.052788441245594994, 0.9760287514553749], \"type\": \"scatter\"}, {\"fill\": \"toself\", \"fillcolor\": \"rgba(0,116,217,0.5)\", \"hoverinfo\": \"none\", \"mode\": \"none\", \"showlegend\": false, \"x\": [-0.05, -0.05, 1.05, 1.05, -0.05], \"y\": [0.052788441245594994, 1.05, 1.05, 0.9760287514553749, 0.052788441245594994], \"type\": \"scatter\"}], \"layout\": {\"title\": {\"text\": \" Model: 0.84*x + 0.09\"}}}, {\"data\": [{\"fill\": \"toself\", \"fillcolor\": \"rgba(255,65,54,0.5)\", \"hoverinfo\": \"none\", \"mode\": \"none\", \"showlegend\": false, \"x\": [1.05, 1.05, -0.05, -0.05, 1.05], \"y\": [0.9795281280178404, -0.05, -0.05, 0.049519483961075125, 0.9795281280178404], \"type\": \"scatter\"}, {\"fill\": \"toself\", \"fillcolor\": \"rgba(0,116,217,0.5)\", \"hoverinfo\": \"none\", \"mode\": \"none\", \"showlegend\": false, \"x\": [-0.05, -0.05, 1.05, 1.05, -0.05], \"y\": [0.049519483961075125, 1.05, 1.05, 0.9795281280178404, 0.049519483961075125], \"type\": \"scatter\"}], \"layout\": {\"title\": {\"text\": \" Model: 0.85*x + 0.09\"}}}, {\"data\": [{\"fill\": \"toself\", \"fillcolor\": \"rgba(255,65,54,0.5)\", \"hoverinfo\": \"none\", \"mode\": \"none\", \"showlegend\": false, \"x\": [1.05, 1.05, -0.05, -0.05, 1.05], \"y\": [0.9825574463013705, -0.05, -0.05, 0.04675968706845319, 0.9825574463013705], \"type\": \"scatter\"}, {\"fill\": \"toself\", \"fillcolor\": \"rgba(0,116,217,0.5)\", \"hoverinfo\": \"none\", \"mode\": \"none\", \"showlegend\": false, \"x\": [-0.05, -0.05, 1.05, 1.05, -0.05], \"y\": [0.04675968706845319, 1.05, 1.05, 0.9825574463013705, 0.04675968706845319], \"type\": \"scatter\"}], \"layout\": {\"title\": {\"text\": \" Model: 0.85*x + 0.09\"}}}, {\"data\": [{\"fill\": \"toself\", \"fillcolor\": \"rgba(255,65,54,0.5)\", \"hoverinfo\": \"none\", \"mode\": \"none\", \"showlegend\": false, \"x\": [1.05, 1.05, -0.05, -0.05, 1.05], \"y\": [0.9851664586461675, -0.05, -0.05, 0.044451243115478184, 0.9851664586461675], \"type\": \"scatter\"}, {\"fill\": \"toself\", \"fillcolor\": \"rgba(0,116,217,0.5)\", \"hoverinfo\": \"none\", \"mode\": \"none\", \"showlegend\": false, \"x\": [-0.05, -0.05, 1.05, 1.05, -0.05], \"y\": [0.044451243115478184, 1.05, 1.05, 0.9851664586461675, 0.044451243115478184], \"type\": \"scatter\"}], \"layout\": {\"title\": {\"text\": \" Model: 0.86*x + 0.09\"}}}, {\"data\": [{\"fill\": \"toself\", \"fillcolor\": \"rgba(255,65,54,0.5)\", \"hoverinfo\": \"none\", \"mode\": \"none\", \"showlegend\": false, \"x\": [1.05, 1.05, -0.05, -0.05, 1.05], \"y\": [0.9874030278263415, -0.05, -0.05, 0.04253923975767385, 0.9874030278263415], \"type\": \"scatter\"}, {\"fill\": \"toself\", \"fillcolor\": \"rgba(0,116,217,0.5)\", \"hoverinfo\": \"none\", \"mode\": \"none\", \"showlegend\": false, \"x\": [-0.05, -0.05, 1.05, 1.05, -0.05], \"y\": [0.04253923975767385, 1.05, 1.05, 0.9874030278263415, 0.04253923975767385], \"type\": \"scatter\"}], \"layout\": {\"title\": {\"text\": \" Model: 0.86*x + 0.09\"}}}, {\"data\": [{\"fill\": \"toself\", \"fillcolor\": \"rgba(255,65,54,0.5)\", \"hoverinfo\": \"none\", \"mode\": \"none\", \"showlegend\": false, \"x\": [1.05, 1.05, -0.05, -0.05, 1.05], \"y\": [0.9893121277062625, -0.05, -0.05, 0.04097257073328163, 0.9893121277062625], \"type\": \"scatter\"}, {\"fill\": \"toself\", \"fillcolor\": \"rgba(0,116,217,0.5)\", \"hoverinfo\": \"none\", \"mode\": \"none\", \"showlegend\": false, \"x\": [-0.05, -0.05, 1.05, 1.05, -0.05], \"y\": [0.04097257073328163, 1.05, 1.05, 0.9893121277062625, 0.04097257073328163], \"type\": \"scatter\"}], \"layout\": {\"title\": {\"text\": \" Model: 0.86*x + 0.08\"}}}, {\"data\": [{\"fill\": \"toself\", \"fillcolor\": \"rgba(255,65,54,0.5)\", \"hoverinfo\": \"none\", \"mode\": \"none\", \"showlegend\": false, \"x\": [1.05, 1.05, -0.05, -0.05, 1.05], \"y\": [0.990935251001712, -0.05, -0.05, 0.03970442999890883, 0.990935251001712], \"type\": \"scatter\"}, {\"fill\": \"toself\", \"fillcolor\": \"rgba(0,116,217,0.5)\", \"hoverinfo\": \"none\", \"mode\": \"none\", \"showlegend\": false, \"x\": [-0.05, -0.05, 1.05, 1.05, -0.05], \"y\": [0.03970442999890883, 1.05, 1.05, 0.990935251001712, 0.03970442999890883], \"type\": \"scatter\"}], \"layout\": {\"title\": {\"text\": \" Model: 0.86*x + 0.08\"}}}, {\"data\": [{\"fill\": \"toself\", \"fillcolor\": \"rgba(255,65,54,0.5)\", \"hoverinfo\": \"none\", \"mode\": \"none\", \"showlegend\": false, \"x\": [1.05, 1.05, -0.05, -0.05, 1.05], \"y\": [0.9923101222156464, -0.05, -0.05, 0.03869250248414989, 0.9923101222156464], \"type\": \"scatter\"}, {\"fill\": \"toself\", \"fillcolor\": \"rgba(0,116,217,0.5)\", \"hoverinfo\": \"none\", \"mode\": \"none\", \"showlegend\": false, \"x\": [-0.05, -0.05, 1.05, 1.05, -0.05], \"y\": [0.03869250248414989, 1.05, 1.05, 0.9923101222156464, 0.03869250248414989], \"type\": \"scatter\"}], \"layout\": {\"title\": {\"text\": \" Model: 0.87*x + 0.08\"}}}, {\"data\": [{\"fill\": \"toself\", \"fillcolor\": \"rgba(255,65,54,0.5)\", \"hoverinfo\": \"none\", \"mode\": \"none\", \"showlegend\": false, \"x\": [1.05, 1.05, -0.05, -0.05, 1.05], \"y\": [0.9934910458700632, -0.05, -0.05, 0.037885597337595854, 0.9934910458700632], \"type\": \"scatter\"}, {\"fill\": \"toself\", \"fillcolor\": \"rgba(0,116,217,0.5)\", \"hoverinfo\": \"none\", \"mode\": \"none\", \"showlegend\": false, \"x\": [-0.05, -0.05, 1.05, 1.05, -0.05], \"y\": [0.037885597337595854, 1.05, 1.05, 0.9934910458700632, 0.037885597337595854], \"type\": \"scatter\"}], \"layout\": {\"title\": {\"text\": \" Model: 0.87*x + 0.08\"}}}, {\"data\": [{\"fill\": \"toself\", \"fillcolor\": \"rgba(255,65,54,0.5)\", \"hoverinfo\": \"none\", \"mode\": \"none\", \"showlegend\": false, \"x\": [1.05, 1.05, -0.05, -0.05, 1.05], \"y\": [0.9944798819290769, -0.05, -0.05, 0.03727081954550694, 0.9944798819290769], \"type\": \"scatter\"}, {\"fill\": \"toself\", \"fillcolor\": \"rgba(0,116,217,0.5)\", \"hoverinfo\": \"none\", \"mode\": \"none\", \"showlegend\": false, \"x\": [-0.05, -0.05, 1.05, 1.05, -0.05], \"y\": [0.03727081954550694, 1.05, 1.05, 0.9944798819290769, 0.03727081954550694], \"type\": \"scatter\"}], \"layout\": {\"title\": {\"text\": \" Model: 0.87*x + 0.08\"}}}, {\"data\": [{\"fill\": \"toself\", \"fillcolor\": \"rgba(255,65,54,0.5)\", \"hoverinfo\": \"none\", \"mode\": \"none\", \"showlegend\": false, \"x\": [1.05, 1.05, -0.05, -0.05, 1.05], \"y\": [0.9953054299432019, -0.05, -0.05, 0.03681637160591462, 0.9953054299432019], \"type\": \"scatter\"}, {\"fill\": \"toself\", \"fillcolor\": \"rgba(0,116,217,0.5)\", \"hoverinfo\": \"none\", \"mode\": \"none\", \"showlegend\": false, \"x\": [-0.05, -0.05, 1.05, 1.05, -0.05], \"y\": [0.03681637160591462, 1.05, 1.05, 0.9953054299432019, 0.03681637160591462], \"type\": \"scatter\"}], \"layout\": {\"title\": {\"text\": \" Model: 0.87*x + 0.08\"}}}, {\"data\": [{\"fill\": \"toself\", \"fillcolor\": \"rgba(255,65,54,0.5)\", \"hoverinfo\": \"none\", \"mode\": \"none\", \"showlegend\": false, \"x\": [1.05, 1.05, -0.05, -0.05, 1.05], \"y\": [0.9960032363807406, -0.05, -0.05, 0.03649031289056887, 0.9960032363807406], \"type\": \"scatter\"}, {\"fill\": \"toself\", \"fillcolor\": \"rgba(0,116,217,0.5)\", \"hoverinfo\": \"none\", \"mode\": \"none\", \"showlegend\": false, \"x\": [-0.05, -0.05, 1.05, 1.05, -0.05], \"y\": [0.03649031289056887, 1.05, 1.05, 0.9960032363807406, 0.03649031289056887], \"type\": \"scatter\"}], \"layout\": {\"title\": {\"text\": \" Model: 0.87*x + 0.08\"}}}, {\"data\": [{\"fill\": \"toself\", \"fillcolor\": \"rgba(255,65,54,0.5)\", \"hoverinfo\": \"none\", \"mode\": \"none\", \"showlegend\": false, \"x\": [1.05, 1.05, -0.05, -0.05, 1.05], \"y\": [0.996147321044432, -0.05, -0.05, 0.03643151712523965, 0.996147321044432], \"type\": \"scatter\"}, {\"fill\": \"toself\", \"fillcolor\": \"rgba(0,116,217,0.5)\", \"hoverinfo\": \"none\", \"mode\": \"none\", \"showlegend\": false, \"x\": [-0.05, -0.05, 1.05, 1.05, -0.05], \"y\": [0.03643151712523965, 1.05, 1.05, 0.996147321044432, 0.03643151712523965], \"type\": \"scatter\"}], \"layout\": {\"title\": {\"text\": \"Final Model: 0.87*x + 0.08\"}}}]);\n",
       "                        }).then(function(){\n",
       "                            \n",
       "var gd = document.getElementById('381d2b8f-355b-4f1f-a9e8-2776cfcdf460');\n",
       "var x = new MutationObserver(function (mutations, observer) {{\n",
       "        var display = window.getComputedStyle(gd).display;\n",
       "        if (!display || display === 'none') {{\n",
       "            console.log([gd, 'removed!']);\n",
       "            Plotly.purge(gd);\n",
       "            observer.disconnect();\n",
       "        }}\n",
       "}});\n",
       "\n",
       "// Listen for the removal of the full notebook cells\n",
       "var notebookContainer = gd.closest('#notebook-container');\n",
       "if (notebookContainer) {{\n",
       "    x.observe(notebookContainer, {childList: true});\n",
       "}}\n",
       "\n",
       "// Listen for the clearing of the current output cell\n",
       "var outputEl = gd.closest('.output');\n",
       "if (outputEl) {{\n",
       "    x.observe(outputEl, {childList: true});\n",
       "}}\n",
       "\n",
       "                        })\n",
       "                };\n",
       "                });\n",
       "            </script>\n",
       "        </div>"
      ]
     },
     "metadata": {},
     "output_type": "display_data"
    }
   ],
   "source": [
    "gradient_descent_animation((0, 1), (0, 1), w_real=[1, -1, 0], w_initial=[-0.5, -1, 0.8], lr=1, layout=layout, class_names=class_names, inv_class_names_for_plot=True)"
   ]
  },
  {
   "cell_type": "markdown",
   "metadata": {
    "slideshow": {
     "slide_type": "subslide"
    }
   },
   "source": [
    "# Ikke-veiledet læring"
   ]
  },
  {
   "cell_type": "markdown",
   "metadata": {},
   "source": [
    "# Skaffe data\n",
    "\n",
    "- Wikipedia\n",
    "- Twitter\n",
    "- Nyheter"
   ]
  },
  {
   "cell_type": "markdown",
   "metadata": {
    "slideshow": {
     "slide_type": "subslide"
    }
   },
   "source": [
    "# Wikiextractor"
   ]
  },
  {
   "cell_type": "markdown",
   "metadata": {
    "slideshow": {
     "slide_type": "subslide"
    }
   },
   "source": [
    "# BeautifulSoup"
   ]
  },
  {
   "cell_type": "markdown",
   "metadata": {
    "slideshow": {
     "slide_type": "slide"
    }
   },
   "source": [
    "# Fra tekst til tall\n",
    "\n",
    "- Alle maskinlæringsmodeller bruker matematikk/statistikk for å finne optimal konfigurasjon\n",
    "- For å kunne bruke maskinlæring for NLP er vi derfor nødt til å konvertere tekstene til tall\n",
    "- Mange måter å gjøre dette på:\n",
    "    - Bag-of-words (BOW)\n",
    "    - BOW + TF-IDF\n",
    "    - N-grams (+ TF-IDF)\n",
    "    - Char n-grams (+ TF-IDF)\n",
    "    - Word embeddings (word2vec, Glove, fastText)\n",
    "    - Document embeddings (doc2vec, min/max/mean pooling, RNN encoder)\n",
    "    - Contextualized word embeddings (ELMO, BERT, Flair)"
   ]
  },
  {
   "cell_type": "markdown",
   "metadata": {
    "slideshow": {
     "slide_type": "subslide"
    }
   },
   "source": [
    "## Bag-of-words (BOW)\n",
    "\n",
    "- Tell antall forekomster av hvert enkelt ord, og lag én kolonne per ord\n",
    "- Hva er et ord? Standard definisjon er som regel \"en sammenhengende sekvens av alfanumeriske (a-z, 0-9, _) karakterer\""
   ]
  },
  {
   "cell_type": "code",
   "execution_count": 16,
   "metadata": {},
   "outputs": [
    {
     "data": {
      "text/html": [
       "<div>\n",
       "<style scoped>\n",
       "    .dataframe tbody tr th:only-of-type {\n",
       "        vertical-align: middle;\n",
       "    }\n",
       "\n",
       "    .dataframe tbody tr th {\n",
       "        vertical-align: top;\n",
       "    }\n",
       "\n",
       "    .dataframe thead th {\n",
       "        text-align: right;\n",
       "    }\n",
       "</style>\n",
       "<table border=\"1\" class=\"dataframe\">\n",
       "  <thead>\n",
       "    <tr style=\"text-align: right;\">\n",
       "      <th></th>\n",
       "      <th>dette</th>\n",
       "      <th>en</th>\n",
       "      <th>er</th>\n",
       "      <th>funker</th>\n",
       "      <th>håper</th>\n",
       "      <th>tekst</th>\n",
       "    </tr>\n",
       "  </thead>\n",
       "  <tbody>\n",
       "    <tr>\n",
       "      <th>0</th>\n",
       "      <td>1</td>\n",
       "      <td>1</td>\n",
       "      <td>1</td>\n",
       "      <td>0</td>\n",
       "      <td>0</td>\n",
       "      <td>1</td>\n",
       "    </tr>\n",
       "    <tr>\n",
       "      <th>1</th>\n",
       "      <td>1</td>\n",
       "      <td>0</td>\n",
       "      <td>0</td>\n",
       "      <td>1</td>\n",
       "      <td>1</td>\n",
       "      <td>0</td>\n",
       "    </tr>\n",
       "  </tbody>\n",
       "</table>\n",
       "</div>"
      ],
      "text/plain": [
       "   dette  en  er  funker  håper  tekst\n",
       "0      1   1   1       0      0      1\n",
       "1      1   0   0       1      1      0"
      ]
     },
     "execution_count": 16,
     "metadata": {},
     "output_type": "execute_result"
    }
   ],
   "source": [
    "from sklearn.feature_extraction.text import CountVectorizer\n",
    "import pandas as pd\n",
    "\n",
    "texts = [\"Dette er en tekst!\", \"håper dette funker :)\"]\n",
    "vec = CountVectorizer()\n",
    "texts_vec = vec.fit_transform(texts)\n",
    "pd.DataFrame(texts_vec.todense(), columns=vec.get_feature_names())"
   ]
  },
  {
   "cell_type": "code",
   "execution_count": 17,
   "metadata": {
    "slideshow": {
     "slide_type": "fragment"
    }
   },
   "outputs": [
    {
     "name": "stdout",
     "output_type": "stream",
     "text": [
      "  (0, 0)\t1\n",
      "  (0, 2)\t1\n",
      "  (0, 1)\t1\n",
      "  (0, 5)\t1\n",
      "  (1, 0)\t1\n",
      "  (1, 4)\t1\n",
      "  (1, 3)\t1\n"
     ]
    }
   ],
   "source": [
    "print(texts_vec)"
   ]
  },
  {
   "cell_type": "markdown",
   "metadata": {
    "slideshow": {
     "slide_type": "subslide"
    }
   },
   "source": [
    "Alternativt ord-mønster:"
   ]
  },
  {
   "cell_type": "code",
   "execution_count": 18,
   "metadata": {
    "scrolled": true
   },
   "outputs": [
    {
     "data": {
      "text/html": [
       "<div>\n",
       "<style scoped>\n",
       "    .dataframe tbody tr th:only-of-type {\n",
       "        vertical-align: middle;\n",
       "    }\n",
       "\n",
       "    .dataframe tbody tr th {\n",
       "        vertical-align: top;\n",
       "    }\n",
       "\n",
       "    .dataframe thead th {\n",
       "        text-align: right;\n",
       "    }\n",
       "</style>\n",
       "<table border=\"1\" class=\"dataframe\">\n",
       "  <thead>\n",
       "    <tr style=\"text-align: right;\">\n",
       "      <th></th>\n",
       "      <th>!</th>\n",
       "      <th>:)</th>\n",
       "      <th>dette</th>\n",
       "      <th>en</th>\n",
       "      <th>er</th>\n",
       "      <th>funker</th>\n",
       "      <th>håper</th>\n",
       "      <th>tekst</th>\n",
       "    </tr>\n",
       "  </thead>\n",
       "  <tbody>\n",
       "    <tr>\n",
       "      <th>0</th>\n",
       "      <td>1</td>\n",
       "      <td>0</td>\n",
       "      <td>1</td>\n",
       "      <td>1</td>\n",
       "      <td>1</td>\n",
       "      <td>0</td>\n",
       "      <td>0</td>\n",
       "      <td>1</td>\n",
       "    </tr>\n",
       "    <tr>\n",
       "      <th>1</th>\n",
       "      <td>0</td>\n",
       "      <td>1</td>\n",
       "      <td>1</td>\n",
       "      <td>0</td>\n",
       "      <td>0</td>\n",
       "      <td>1</td>\n",
       "      <td>1</td>\n",
       "      <td>0</td>\n",
       "    </tr>\n",
       "  </tbody>\n",
       "</table>\n",
       "</div>"
      ],
      "text/plain": [
       "   !  :)  dette  en  er  funker  håper  tekst\n",
       "0  1   0      1   1   1       0      0      1\n",
       "1  0   1      1   0   0       1      1      0"
      ]
     },
     "execution_count": 18,
     "metadata": {},
     "output_type": "execute_result"
    }
   ],
   "source": [
    "vec2 = CountVectorizer(token_pattern=\"(?:\\w+|[^\\w\\s]+)\")\n",
    "texts_vec2 = vec2.fit_transform(texts)\n",
    "pd.DataFrame(texts_vec2.todense(), columns=vec2.get_feature_names())"
   ]
  },
  {
   "cell_type": "markdown",
   "metadata": {
    "slideshow": {
     "slide_type": "fragment"
    }
   },
   "source": [
    "Tips:\n",
    "- Jobber du med et domene du kjenner, eller domene-eksperter - bruk kunnskapen din til å forbedre ord-mønsteret ditt.\n",
    "- F.eks. vil smileys muligens være nyttig å hente ut som egne ord om du bygger en sentiment-klassifiserer."
   ]
  },
  {
   "cell_type": "markdown",
   "metadata": {
    "slideshow": {
     "slide_type": "subslide"
    }
   },
   "source": [
    "# \"TF-IDF\"-vekting av ord\n",
    "- **TF** (Term frequency): Antall ganger ordet oppstår i en bestemt tekst\n",
    "- **IDF** (Inverse document frequency): Antall ganger ordet oppstår i alle tekster\n",
    "- Med TF-IDF vekter vi opp om de oppstår flere ganger i en tekst, og ned om de oppstår ofte i alle tekster\n",
    "- Intuitivt: et ord som brukes flere ganger i en tekst er sannsynligvis viktig for denne teksten, men om det oppstår ofte i alle tekster er det sannsynligvis bare et vanlig ord i vokabularet og bør vektes ned"
   ]
  },
  {
   "cell_type": "markdown",
   "metadata": {
    "slideshow": {
     "slide_type": "subslide"
    }
   },
   "source": [
    "Med TF, uten IDF:"
   ]
  },
  {
   "cell_type": "code",
   "execution_count": 19,
   "metadata": {},
   "outputs": [
    {
     "data": {
      "text/html": [
       "<div>\n",
       "<style scoped>\n",
       "    .dataframe tbody tr th:only-of-type {\n",
       "        vertical-align: middle;\n",
       "    }\n",
       "\n",
       "    .dataframe tbody tr th {\n",
       "        vertical-align: top;\n",
       "    }\n",
       "\n",
       "    .dataframe thead th {\n",
       "        text-align: right;\n",
       "    }\n",
       "</style>\n",
       "<table border=\"1\" class=\"dataframe\">\n",
       "  <thead>\n",
       "    <tr style=\"text-align: right;\">\n",
       "      <th></th>\n",
       "      <th>bra</th>\n",
       "      <th>det</th>\n",
       "      <th>ha</th>\n",
       "      <th>morsomt</th>\n",
       "      <th>var</th>\n",
       "      <th>veldig</th>\n",
       "    </tr>\n",
       "  </thead>\n",
       "  <tbody>\n",
       "    <tr>\n",
       "      <th>0</th>\n",
       "      <td>0.0</td>\n",
       "      <td>1.0</td>\n",
       "      <td>2.0</td>\n",
       "      <td>1.0</td>\n",
       "      <td>1.0</td>\n",
       "      <td>0.0</td>\n",
       "    </tr>\n",
       "    <tr>\n",
       "      <th>1</th>\n",
       "      <td>1.0</td>\n",
       "      <td>1.0</td>\n",
       "      <td>0.0</td>\n",
       "      <td>0.0</td>\n",
       "      <td>1.0</td>\n",
       "      <td>3.0</td>\n",
       "    </tr>\n",
       "  </tbody>\n",
       "</table>\n",
       "</div>"
      ],
      "text/plain": [
       "   bra  det   ha  morsomt  var  veldig\n",
       "0  0.0  1.0  2.0      1.0  1.0     0.0\n",
       "1  1.0  1.0  0.0      0.0  1.0     3.0"
      ]
     },
     "execution_count": 19,
     "metadata": {},
     "output_type": "execute_result"
    }
   ],
   "source": [
    "from sklearn.feature_extraction.text import TfidfVectorizer\n",
    "texts = [\"Ha ha det var morsomt\", \"Det var veldig, veldig, veldig bra\"]\n",
    "vec3 = TfidfVectorizer(use_idf=False, norm=None)\n",
    "texts_vec3 = vec3.fit_transform(texts)\n",
    "pd.DataFrame(texts_vec3.todense(), columns=vec3.get_feature_names())"
   ]
  },
  {
   "cell_type": "markdown",
   "metadata": {
    "slideshow": {
     "slide_type": "fragment"
    }
   },
   "source": [
    "Med TF og IDF:"
   ]
  },
  {
   "cell_type": "code",
   "execution_count": 20,
   "metadata": {},
   "outputs": [
    {
     "data": {
      "text/html": [
       "<div>\n",
       "<style scoped>\n",
       "    .dataframe tbody tr th:only-of-type {\n",
       "        vertical-align: middle;\n",
       "    }\n",
       "\n",
       "    .dataframe tbody tr th {\n",
       "        vertical-align: top;\n",
       "    }\n",
       "\n",
       "    .dataframe thead th {\n",
       "        text-align: right;\n",
       "    }\n",
       "</style>\n",
       "<table border=\"1\" class=\"dataframe\">\n",
       "  <thead>\n",
       "    <tr style=\"text-align: right;\">\n",
       "      <th></th>\n",
       "      <th>bra</th>\n",
       "      <th>det</th>\n",
       "      <th>ha</th>\n",
       "      <th>morsomt</th>\n",
       "      <th>var</th>\n",
       "      <th>veldig</th>\n",
       "    </tr>\n",
       "  </thead>\n",
       "  <tbody>\n",
       "    <tr>\n",
       "      <th>0</th>\n",
       "      <td>0.000000</td>\n",
       "      <td>1.0</td>\n",
       "      <td>2.81093</td>\n",
       "      <td>1.405465</td>\n",
       "      <td>1.0</td>\n",
       "      <td>0.000000</td>\n",
       "    </tr>\n",
       "    <tr>\n",
       "      <th>1</th>\n",
       "      <td>1.405465</td>\n",
       "      <td>1.0</td>\n",
       "      <td>0.00000</td>\n",
       "      <td>0.000000</td>\n",
       "      <td>1.0</td>\n",
       "      <td>4.216395</td>\n",
       "    </tr>\n",
       "  </tbody>\n",
       "</table>\n",
       "</div>"
      ],
      "text/plain": [
       "        bra  det       ha   morsomt  var    veldig\n",
       "0  0.000000  1.0  2.81093  1.405465  1.0  0.000000\n",
       "1  1.405465  1.0  0.00000  0.000000  1.0  4.216395"
      ]
     },
     "execution_count": 20,
     "metadata": {},
     "output_type": "execute_result"
    }
   ],
   "source": [
    "vec4 = TfidfVectorizer(use_idf=True, norm=None)\n",
    "texts_vec4 = vec4.fit_transform(texts)\n",
    "pd.DataFrame(texts_vec4.todense(), columns=vec4.get_feature_names())"
   ]
  },
  {
   "cell_type": "markdown",
   "metadata": {
    "slideshow": {
     "slide_type": "subslide"
    }
   },
   "source": [
    "# N-grams\n",
    "\n",
    "- En naturlig utvidelse av bag-of-words er å se på uttrykk som består av mer enn ett ord, såkalte \"n-gram\"\n",
    "    - F.eks. \"New York\", \"Amazon Web Services\"\n",
    "- Mest brukt er såkalte *bigrams* og *trigrams*, som består av hhv. 2 og 3 etterfølgende ord. \n",
    "    - Man kan se på n-grams av større størrelse, men av erfaring er ofte bigrams nok, noen få ganger trigrams\n",
    "- Den enkleste formen for generering av n-grams vil være å helt enkelt *generere alle mulige kombinasjoner av ord fra datasettet*"
   ]
  },
  {
   "cell_type": "code",
   "execution_count": 21,
   "metadata": {
    "slideshow": {
     "slide_type": "subslide"
    }
   },
   "outputs": [
    {
     "data": {
      "text/html": [
       "<div>\n",
       "<style scoped>\n",
       "    .dataframe tbody tr th:only-of-type {\n",
       "        vertical-align: middle;\n",
       "    }\n",
       "\n",
       "    .dataframe tbody tr th {\n",
       "        vertical-align: top;\n",
       "    }\n",
       "\n",
       "    .dataframe thead th {\n",
       "        text-align: right;\n",
       "    }\n",
       "</style>\n",
       "<table border=\"1\" class=\"dataframe\">\n",
       "  <thead>\n",
       "    <tr style=\"text-align: right;\">\n",
       "      <th></th>\n",
       "      <th>dette</th>\n",
       "      <th>dette er</th>\n",
       "      <th>dette funker</th>\n",
       "      <th>en</th>\n",
       "      <th>en tekst</th>\n",
       "      <th>er</th>\n",
       "      <th>er en</th>\n",
       "      <th>funker</th>\n",
       "      <th>håper</th>\n",
       "      <th>håper dette</th>\n",
       "      <th>tekst</th>\n",
       "    </tr>\n",
       "  </thead>\n",
       "  <tbody>\n",
       "    <tr>\n",
       "      <th>0</th>\n",
       "      <td>1</td>\n",
       "      <td>1</td>\n",
       "      <td>0</td>\n",
       "      <td>1</td>\n",
       "      <td>1</td>\n",
       "      <td>1</td>\n",
       "      <td>1</td>\n",
       "      <td>0</td>\n",
       "      <td>0</td>\n",
       "      <td>0</td>\n",
       "      <td>1</td>\n",
       "    </tr>\n",
       "    <tr>\n",
       "      <th>1</th>\n",
       "      <td>1</td>\n",
       "      <td>0</td>\n",
       "      <td>1</td>\n",
       "      <td>0</td>\n",
       "      <td>0</td>\n",
       "      <td>0</td>\n",
       "      <td>0</td>\n",
       "      <td>1</td>\n",
       "      <td>1</td>\n",
       "      <td>1</td>\n",
       "      <td>0</td>\n",
       "    </tr>\n",
       "  </tbody>\n",
       "</table>\n",
       "</div>"
      ],
      "text/plain": [
       "   dette  dette er  dette funker  en  en tekst  er  er en  funker  håper  \\\n",
       "0      1         1             0   1         1   1      1       0      0   \n",
       "1      1         0             1   0         0   0      0       1      1   \n",
       "\n",
       "   håper dette  tekst  \n",
       "0            0      1  \n",
       "1            1      0  "
      ]
     },
     "execution_count": 21,
     "metadata": {},
     "output_type": "execute_result"
    }
   ],
   "source": [
    "texts = [\"Dette er en tekst!\", \"håper dette funker :)\"]\n",
    "vec = CountVectorizer(ngram_range=(1, 2))\n",
    "texts_vec = vec.fit_transform(texts)\n",
    "pd.DataFrame(texts_vec.todense(), columns=vec.get_feature_names())"
   ]
  },
  {
   "cell_type": "markdown",
   "metadata": {
    "slideshow": {
     "slide_type": "subslide"
    }
   },
   "source": [
    "Det er dessuten vanlig å kombinere n-grams med TF-IDF vekting:"
   ]
  },
  {
   "cell_type": "code",
   "execution_count": 22,
   "metadata": {},
   "outputs": [
    {
     "data": {
      "text/html": [
       "<div>\n",
       "<style scoped>\n",
       "    .dataframe tbody tr th:only-of-type {\n",
       "        vertical-align: middle;\n",
       "    }\n",
       "\n",
       "    .dataframe tbody tr th {\n",
       "        vertical-align: top;\n",
       "    }\n",
       "\n",
       "    .dataframe thead th {\n",
       "        text-align: right;\n",
       "    }\n",
       "</style>\n",
       "<table border=\"1\" class=\"dataframe\">\n",
       "  <thead>\n",
       "    <tr style=\"text-align: right;\">\n",
       "      <th></th>\n",
       "      <th>dette</th>\n",
       "      <th>dette er</th>\n",
       "      <th>dette funker</th>\n",
       "      <th>en</th>\n",
       "      <th>en tekst</th>\n",
       "      <th>er</th>\n",
       "      <th>er en</th>\n",
       "      <th>funker</th>\n",
       "      <th>håper</th>\n",
       "      <th>håper dette</th>\n",
       "      <th>tekst</th>\n",
       "    </tr>\n",
       "  </thead>\n",
       "  <tbody>\n",
       "    <tr>\n",
       "      <th>0</th>\n",
       "      <td>0.278943</td>\n",
       "      <td>0.392044</td>\n",
       "      <td>0.000000</td>\n",
       "      <td>0.392044</td>\n",
       "      <td>0.392044</td>\n",
       "      <td>0.392044</td>\n",
       "      <td>0.392044</td>\n",
       "      <td>0.000000</td>\n",
       "      <td>0.000000</td>\n",
       "      <td>0.000000</td>\n",
       "      <td>0.392044</td>\n",
       "    </tr>\n",
       "    <tr>\n",
       "      <th>1</th>\n",
       "      <td>0.335176</td>\n",
       "      <td>0.000000</td>\n",
       "      <td>0.471078</td>\n",
       "      <td>0.000000</td>\n",
       "      <td>0.000000</td>\n",
       "      <td>0.000000</td>\n",
       "      <td>0.000000</td>\n",
       "      <td>0.471078</td>\n",
       "      <td>0.471078</td>\n",
       "      <td>0.471078</td>\n",
       "      <td>0.000000</td>\n",
       "    </tr>\n",
       "  </tbody>\n",
       "</table>\n",
       "</div>"
      ],
      "text/plain": [
       "      dette  dette er  dette funker        en  en tekst        er     er en  \\\n",
       "0  0.278943  0.392044      0.000000  0.392044  0.392044  0.392044  0.392044   \n",
       "1  0.335176  0.000000      0.471078  0.000000  0.000000  0.000000  0.000000   \n",
       "\n",
       "     funker     håper  håper dette     tekst  \n",
       "0  0.000000  0.000000     0.000000  0.392044  \n",
       "1  0.471078  0.471078     0.471078  0.000000  "
      ]
     },
     "execution_count": 22,
     "metadata": {},
     "output_type": "execute_result"
    }
   ],
   "source": [
    "texts = [\"Dette er en tekst!\", \"håper dette funker :)\"]\n",
    "vec = TfidfVectorizer(ngram_range=(1, 2))\n",
    "texts_vec = vec.fit_transform(texts)\n",
    "pd.DataFrame(texts_vec.todense(), columns=vec.get_feature_names())"
   ]
  },
  {
   "cell_type": "markdown",
   "metadata": {
    "slideshow": {
     "slide_type": "subslide"
    }
   },
   "source": [
    "## Mer intelligent generering av bigrams "
   ]
  },
  {
   "cell_type": "code",
   "execution_count": 23,
   "metadata": {},
   "outputs": [
    {
     "data": {
      "text/html": [
       "<div>\n",
       "<style scoped>\n",
       "    .dataframe tbody tr th:only-of-type {\n",
       "        vertical-align: middle;\n",
       "    }\n",
       "\n",
       "    .dataframe tbody tr th {\n",
       "        vertical-align: top;\n",
       "    }\n",
       "\n",
       "    .dataframe thead th {\n",
       "        text-align: right;\n",
       "    }\n",
       "</style>\n",
       "<table border=\"1\" class=\"dataframe\">\n",
       "  <thead>\n",
       "    <tr style=\"text-align: right;\">\n",
       "      <th></th>\n",
       "      <th>deg</th>\n",
       "      <th>deg dette</th>\n",
       "      <th>dette</th>\n",
       "      <th>dette er</th>\n",
       "      <th>en</th>\n",
       "      <th>en test</th>\n",
       "      <th>er</th>\n",
       "      <th>er en</th>\n",
       "      <th>hei</th>\n",
       "      <th>hei på</th>\n",
       "      <th>på</th>\n",
       "      <th>på deg</th>\n",
       "      <th>test</th>\n",
       "    </tr>\n",
       "  </thead>\n",
       "  <tbody>\n",
       "    <tr>\n",
       "      <th>0</th>\n",
       "      <td>1</td>\n",
       "      <td>1</td>\n",
       "      <td>1</td>\n",
       "      <td>1</td>\n",
       "      <td>1</td>\n",
       "      <td>1</td>\n",
       "      <td>1</td>\n",
       "      <td>1</td>\n",
       "      <td>1</td>\n",
       "      <td>1</td>\n",
       "      <td>1</td>\n",
       "      <td>1</td>\n",
       "      <td>1</td>\n",
       "    </tr>\n",
       "  </tbody>\n",
       "</table>\n",
       "</div>"
      ],
      "text/plain": [
       "   deg  deg dette  dette  dette er  en  en test  er  er en  hei  hei på  på  \\\n",
       "0    1          1      1         1   1        1   1      1    1       1   1   \n",
       "\n",
       "   på deg  test  \n",
       "0       1     1  "
      ]
     },
     "execution_count": 23,
     "metadata": {},
     "output_type": "execute_result"
    }
   ],
   "source": [
    "vec = CountVectorizer(ngram_range=(1, 2))\n",
    "texts_vec = vec.fit_transform([\"Hei på deg. Dette er en test.\"])\n",
    "pd.DataFrame(texts_vec.todense(), columns=vec.get_feature_names())"
   ]
  },
  {
   "cell_type": "markdown",
   "metadata": {},
   "source": [
    "- Legg merke til kolonne 2 \"deg dette\". Her har vi fått generert et uttrykk på tvers av setninger. Vi vet at det aldri skal skje. Vi bør splitte tekstene i setninger for mer fornuftig generering av n-grams.\n",
    "- Vi er dessuten ikke interessert i alle mulige kombinasjoner, kun de som (sannsynligvis) er faktiske uttrykk"
   ]
  },
  {
   "cell_type": "markdown",
   "metadata": {
    "slideshow": {
     "slide_type": "subslide"
    }
   },
   "source": [
    "## Splitting av setninger\n",
    "\n",
    "- Å splitte setninger er ikke så enkelt som å bare splitte på punktum, da vil man f.eks. feil ved forkortelser.\n",
    "- Heldigvis er dette et vanlig problem, og det finnes flere pakker med funksjonalitet for å gjøre dette - også for norsk."
   ]
  },
  {
   "cell_type": "code",
   "execution_count": 24,
   "metadata": {
    "slideshow": {
     "slide_type": "skip"
    }
   },
   "outputs": [],
   "source": [
    "def print_sents(sents):\n",
    "    for i, sent in enumerate(sents):\n",
    "        print(f\"Sentence {i+1}:\", repr(str(sent)))"
   ]
  },
  {
   "cell_type": "markdown",
   "metadata": {
    "slideshow": {
     "slide_type": "fragment"
    }
   },
   "source": [
    "Spacy har delvis støtte for norsk. Splitting av setinger er blant annet støttet:"
   ]
  },
  {
   "cell_type": "code",
   "execution_count": 25,
   "metadata": {},
   "outputs": [
    {
     "name": "stdout",
     "output_type": "stream",
     "text": [
      "Sentence 1: 'Dette er en test.'\n",
      "Sentence 2: 'Funker dette?'\n",
      "Sentence 3: 'Her har vi f.eks. en forkortelse.'\n",
      "Sentence 4: 'Dr.'\n",
      "Sentence 5: 'Dre var'\n"
     ]
    }
   ],
   "source": [
    "from spacy.lang.nb import Norwegian\n",
    "sent_pipeline = Norwegian()\n",
    "sentencizer = sent_pipeline.create_pipe(\"sentencizer\")\n",
    "sent_pipeline.add_pipe(sentencizer)\n",
    "doc = sent_pipeline(\"Dette er en test. Funker dette? Her har vi f.eks. en forkortelse. Dr. Dre var \")\n",
    "print_sents(doc.sents)"
   ]
  },
  {
   "cell_type": "markdown",
   "metadata": {
    "slideshow": {
     "slide_type": "skip"
    }
   },
   "source": [
    "Polyglot har også full støtte for norsk:"
   ]
  },
  {
   "cell_type": "code",
   "execution_count": 26,
   "metadata": {
    "slideshow": {
     "slide_type": "skip"
    }
   },
   "outputs": [],
   "source": [
    "# from polyglot.text import Text\n",
    "# doc = Text(\"Dette er en test. Funker dette? Her har vi f.eks. en forkortelse.\", hint_language_code=\"nb\")\n",
    "# print_sents(doc.sentences)"
   ]
  },
  {
   "cell_type": "markdown",
   "metadata": {
    "slideshow": {
     "slide_type": "subslide"
    }
   },
   "source": [
    "Hva med ekte data?"
   ]
  },
  {
   "cell_type": "code",
   "execution_count": 27,
   "metadata": {},
   "outputs": [
    {
     "name": "stdout",
     "output_type": "stream",
     "text": [
      "Vær snill å lese de nye retningslinjene før du poster i loggkategoriene. Den viktigste endringen er:\n",
      "\n",
      "Plassering\n",
      "Loggområdet er delt i Arbeidslogger og Arbeidslogger - Kommentarer.\n",
      "- \"Arbeidslogger\" en kategorien hvor arbeidsloggen skal føres. Kun de som deltar i prosjektet (som oftest trådstarter) skal poste i denne tråden.\n",
      "- \"Arbeidslogger - Kommentarer\" er en kategori hvor du skal opprette en tråd med samme tittel som den du opprettet i \"Arbeidslogger\", slik at andre kan kommentere ditt arbeide. Her kan alle svare.\n",
      "\n",
      "Bilder fra loggen skal ikke legges i kommentartråden. Fra første post i kommentartråden linker du til arbeidsloggen, kanskje med et lite bilde.\n",
      "\n",
      "Alle de gamle trådene er flyttet til \" Arbeidslogger - Kommentarer\". Trådstarere må gjerne opprette arbeidslogger i \"Arbeidslogger\" med basis i den gamle tråden (som nå vil fungere som kommentartråd.\n"
     ]
    }
   ],
   "source": [
    "df = load_diskusjon_no_data(-1)\n",
    "text = df.body.iloc[1]\n",
    "print(text)"
   ]
  },
  {
   "cell_type": "code",
   "execution_count": 28,
   "metadata": {
    "slideshow": {
     "slide_type": "fragment"
    }
   },
   "outputs": [
    {
     "name": "stdout",
     "output_type": "stream",
     "text": [
      "Sentence 1: 'Vær snill å lese de nye retningslinjene før du poster i loggkategoriene.'\n",
      "Sentence 2: 'Den viktigste endringen er:\\n\\nPlassering\\nLoggområdet er delt i Arbeidslogger og Arbeidslogger - Kommentarer.'\n",
      "Sentence 3: '\\n- \"Arbeidslogger\" en kategorien hvor arbeidsloggen skal føres.'\n",
      "Sentence 4: 'Kun de som deltar i prosjektet (som oftest trådstarter) skal poste i denne tråden.'\n",
      "Sentence 5: '\\n- \"Arbeidslogger - Kommentarer\" er en kategori hvor du skal opprette en tråd med samme tittel som den du opprettet i \"Arbeidslogger\", slik at andre kan kommentere ditt arbeide.'\n",
      "Sentence 6: 'Her kan alle svare.'\n",
      "Sentence 7: '\\n\\nBilder fra loggen skal ikke legges i kommentartråden.'\n",
      "Sentence 8: 'Fra første post i kommentartråden linker du til arbeidsloggen, kanskje med et lite bilde.'\n",
      "Sentence 9: '\\n\\nAlle de gamle trådene er flyttet til \" Arbeidslogger - Kommentarer\".'\n",
      "Sentence 10: 'Trådstarere må gjerne opprette arbeidslogger i \"Arbeidslogger\" med basis i den gamle tråden (som nå vil fungere som kommentartråd.'\n"
     ]
    }
   ],
   "source": [
    "doc = sent_pipeline(text)\n",
    "print_sents(doc.sents)"
   ]
  },
  {
   "cell_type": "markdown",
   "metadata": {
    "slideshow": {
     "slide_type": "subslide"
    }
   },
   "source": [
    "La oss splitte alle postene fra diskusjon.no i setninger. Vi antar at alle post-titler allerede er splittet, så vi dropper å splitte disse."
   ]
  },
  {
   "cell_type": "code",
   "execution_count": 29,
   "metadata": {
    "slideshow": {
     "slide_type": "fragment"
    }
   },
   "outputs": [
    {
     "name": "stdout",
     "output_type": "stream",
     "text": [
      "CPU times: user 249 ms, sys: 67.3 ms, total: 316 ms\n",
      "Wall time: 8.09 s\n"
     ]
    }
   ],
   "source": [
    "%%time\n",
    "def _split_into_sentences(text):\n",
    "    doc = sent_pipeline(text)\n",
    "    return [str(sent).strip() for sent in doc.sents]\n",
    "\n",
    "body_sents = process(_split_into_sentences, df.body)"
   ]
  },
  {
   "cell_type": "markdown",
   "metadata": {
    "slideshow": {
     "slide_type": "subslide"
    }
   },
   "source": [
    "## Generering av bigrams fra setningene"
   ]
  },
  {
   "cell_type": "code",
   "execution_count": 30,
   "metadata": {
    "slideshow": {
     "slide_type": "-"
    }
   },
   "outputs": [],
   "source": [
    "all_sents = df.title.tolist() + [s for sentences in body_sents for s in sentences]"
   ]
  },
  {
   "cell_type": "code",
   "execution_count": 31,
   "metadata": {},
   "outputs": [
    {
     "data": {
      "text/plain": [
       "136643"
      ]
     },
     "execution_count": 31,
     "metadata": {},
     "output_type": "execute_result"
    }
   ],
   "source": [
    "len(all_sents)"
   ]
  },
  {
   "cell_type": "code",
   "execution_count": 32,
   "metadata": {
    "slideshow": {
     "slide_type": "fragment"
    }
   },
   "outputs": [],
   "source": [
    "from gensim.models.phrases import Phrases, Phraser\n",
    "from spacy.lang.nb.stop_words import STOP_WORDS\n",
    "\n",
    "tokenize = lambda sent: [word.lower() for word in re.findall(r\"\\w+\", sent)]\n",
    "all_sents_tokens = [tokenize(s) for s in all_sents]\n",
    "phrases = Phrases(all_sents_tokens, min_count=3, threshold=1, common_terms=STOP_WORDS)\n",
    "bigram = Phraser(phrases)"
   ]
  },
  {
   "cell_type": "code",
   "execution_count": 33,
   "metadata": {
    "slideshow": {
     "slide_type": "fragment"
    }
   },
   "outputs": [
    {
     "data": {
      "text/plain": [
       "['jeg', 'har', 'windows_10', 'på', 'min', 'gaming_pc']"
      ]
     },
     "execution_count": 33,
     "metadata": {},
     "output_type": "execute_result"
    }
   ],
   "source": [
    "bigram[tokenize(\"Jeg har windows 10 på min gaming pc\")]"
   ]
  },
  {
   "cell_type": "markdown",
   "metadata": {
    "slideshow": {
     "slide_type": "subslide"
    }
   },
   "source": [
    "La oss se på de mest vanlige bigramene i tekstene våre:"
   ]
  },
  {
   "cell_type": "code",
   "execution_count": 34,
   "metadata": {
    "slideshow": {
     "slide_type": "skip"
    }
   },
   "outputs": [],
   "source": [
    "from collections import Counter\n",
    "\n",
    "def count_ngrams(phraser, sentences, n=None):\n",
    "    ngrams_counter = Counter()\n",
    "    for sent in sentences:\n",
    "        phrases = phraser[sent]\n",
    "        tokens = [token for token in phrases if _is_ngram(token, n)]            \n",
    "        ngrams_counter.update(tokens)\n",
    "    return ngrams_counter\n",
    "\n",
    "def _is_ngram(token, n):\n",
    "    if \"_\" not in token:\n",
    "        return False\n",
    "    if n is None:\n",
    "        return True\n",
    "    words = token.split(\"_\")\n",
    "    return len([w for w in words if w not in STOP_WORDS]) == n\n",
    "\n",
    "\n",
    "def print_most_common(counter, n):\n",
    "    for key, count in counter.most_common(n):\n",
    "        print(f\"{key:<20} {count}\")"
   ]
  },
  {
   "cell_type": "code",
   "execution_count": 35,
   "metadata": {},
   "outputs": [],
   "source": [
    "bigrams_counter = count_ngrams(bigram, all_sents_tokens)"
   ]
  },
  {
   "cell_type": "markdown",
   "metadata": {
    "slideshow": {
     "slide_type": "fragment"
    }
   },
   "source": [
    "Merk at vi vil ha fraser med mer enn to ord, fordi såkalte \"stopwords\" ikke teller med i antall ord for n-gramet når vi bruker denne algoritmen"
   ]
  },
  {
   "cell_type": "code",
   "execution_count": 36,
   "metadata": {},
   "outputs": [
    {
     "name": "stdout",
     "output_type": "stream",
     "text": [
      "https_www            1292\n",
      "http_www             932\n",
      "f_eks                837\n",
      "rett_og_slett        283\n",
      "diskusjon_no         246\n",
      "of_the               227\n",
      "forhånd_takk         221\n",
      "1_2                  211\n",
      "windows_10           205\n",
      "in_the               171\n",
      "takk_for_svar        166\n",
      "trenger_hjelp        157\n",
      "takk_på_forhånd      150\n",
      "setter_pris          148\n",
      "anonymous_poster     144\n",
      "blu_ray              142\n",
      "2_3                  142\n",
      "3_5                  137\n",
      "3_4                  136\n",
      "finn_no              125\n",
      "o_l                  122\n",
      "apple_tv             119\n",
      "myspace_offisiell    106\n",
      "canal_digital        105\n",
      "5_1                  104\n",
      "2_5                  100\n",
      "bl_a                 98\n",
      "1_1                  98\n",
      "samsung_galaxy       97\n",
      "tusen_takk           97\n"
     ]
    }
   ],
   "source": [
    "print_most_common(bigrams_counter, 30)"
   ]
  },
  {
   "cell_type": "markdown",
   "metadata": {
    "slideshow": {
     "slide_type": "subslide"
    }
   },
   "source": [
    "## Fra bigrams til trigrams og videre\n",
    "\n",
    "For å generere trigrams kan vi kjøre samme algoritme som over, rekursivt:"
   ]
  },
  {
   "cell_type": "code",
   "execution_count": 37,
   "metadata": {},
   "outputs": [],
   "source": [
    "all_sents_bigrams = bigram[all_sents_tokens]\n",
    "trigram = Phrases(all_sents_bigrams, min_count=3, threshold=1, common_terms=STOP_WORDS)\n",
    "trigram = Phraser(trigram)"
   ]
  },
  {
   "cell_type": "code",
   "execution_count": 38,
   "metadata": {},
   "outputs": [],
   "source": [
    "trigrams_counter = count_ngrams(trigram, all_sents_bigrams, n=3)"
   ]
  },
  {
   "cell_type": "code",
   "execution_count": 39,
   "metadata": {},
   "outputs": [
    {
     "name": "stdout",
     "output_type": "stream",
     "text": [
      "https_www_komplett   136\n",
      "anonymous_poster_hash 129\n",
      "myspace_offisiell_hjemmeside 101\n",
      "karakter_10_10       56\n",
      "per_dags_dato        42\n",
      "karakter_9_10        39\n",
      "https_www_youtube    37\n",
      "karakter_8_10        32\n",
      "lars_von_trier       30\n",
      "anders_behring_breivik 27\n",
      "https_www_diskusjo   27\n",
      "forhånd_takk_for_svar 27\n",
      "juni_18_00           27\n",
      "com_http_www         26\n",
      "https_prisguiden_n   25\n",
      "karakter_7_10        24\n",
      "rock_n_roll          24\n",
      "blu_ray_spiller      21\n",
      "fritt_til_å_tolke_temaet 21\n",
      "galleriet_på_akam_no 21\n",
      "karakter_6_10        21\n",
      "usb_2_0              20\n",
      "m_2_ssd              20\n",
      "f_2_8                19\n",
      "samarbeider_med_diskusjon_no 19\n",
      "sporliste_min_mening 19\n",
      "ipb3_0_oppgr         18\n",
      "takk_for_all_hjelp   18\n",
      "forhånd_tusen_takk   18\n",
      "usb_3_0              17\n"
     ]
    }
   ],
   "source": [
    "print_most_common(trigrams_counter, 30)"
   ]
  },
  {
   "cell_type": "markdown",
   "metadata": {
    "slideshow": {
     "slide_type": "subslide"
    }
   },
   "source": [
    "## En \"transformer\" for smarte bigrams"
   ]
  },
  {
   "cell_type": "markdown",
   "metadata": {},
   "source": [
    "For å kunne bruke smarte bigrams, trigrams osv. i en modell er vi nødt til å lage et objekt med tilsvarende API som CountVectorizer. Vi kan gjøre dette ved å modifisere noen av koden til denne klassen. For å se hvordan koden er modifisert, gå til ```nlp_intro.gensim_ngram_vectorizer```."
   ]
  },
  {
   "cell_type": "code",
   "execution_count": 40,
   "metadata": {
    "slideshow": {
     "slide_type": "skip"
    }
   },
   "outputs": [],
   "source": [
    "import numpy as np\n",
    "from scipy.sparse import find\n",
    "\n",
    "def transform_with_vec(text, vec):\n",
    "    assert isinstance(text, str)\n",
    "    text_vec = vec.transform([text])[0]\n",
    "    _, ix, values = find(text_vec)\n",
    "    feats = np.asarray(vec.get_feature_names())\n",
    "    return pd.DataFrame([values], columns=feats[ix])"
   ]
  },
  {
   "cell_type": "markdown",
   "metadata": {
    "slideshow": {
     "slide_type": "subslide"
    }
   },
   "source": [
    "Normale n-grams:"
   ]
  },
  {
   "cell_type": "code",
   "execution_count": 41,
   "metadata": {},
   "outputs": [
    {
     "name": "stdout",
     "output_type": "stream",
     "text": [
      "CPU times: user 7 s, sys: 323 ms, total: 7.32 s\n",
      "Wall time: 7.33 s\n"
     ]
    },
    {
     "data": {
      "text/html": [
       "<div>\n",
       "<style scoped>\n",
       "    .dataframe tbody tr th:only-of-type {\n",
       "        vertical-align: middle;\n",
       "    }\n",
       "\n",
       "    .dataframe tbody tr th {\n",
       "        vertical-align: top;\n",
       "    }\n",
       "\n",
       "    .dataframe thead th {\n",
       "        text-align: right;\n",
       "    }\n",
       "</style>\n",
       "<table border=\"1\" class=\"dataframe\">\n",
       "  <thead>\n",
       "    <tr style=\"text-align: right;\">\n",
       "      <th></th>\n",
       "      <th>10</th>\n",
       "      <th>10 på</th>\n",
       "      <th>gaming</th>\n",
       "      <th>gaming pc</th>\n",
       "      <th>har</th>\n",
       "      <th>har windows</th>\n",
       "      <th>jeg</th>\n",
       "      <th>jeg har</th>\n",
       "      <th>min</th>\n",
       "      <th>pc</th>\n",
       "      <th>på</th>\n",
       "      <th>på min</th>\n",
       "      <th>windows</th>\n",
       "      <th>windows 10</th>\n",
       "    </tr>\n",
       "  </thead>\n",
       "  <tbody>\n",
       "    <tr>\n",
       "      <th>0</th>\n",
       "      <td>1</td>\n",
       "      <td>1</td>\n",
       "      <td>1</td>\n",
       "      <td>1</td>\n",
       "      <td>1</td>\n",
       "      <td>1</td>\n",
       "      <td>1</td>\n",
       "      <td>1</td>\n",
       "      <td>1</td>\n",
       "      <td>1</td>\n",
       "      <td>1</td>\n",
       "      <td>1</td>\n",
       "      <td>1</td>\n",
       "      <td>1</td>\n",
       "    </tr>\n",
       "  </tbody>\n",
       "</table>\n",
       "</div>"
      ],
      "text/plain": [
       "   10  10 på  gaming  gaming pc  har  har windows  jeg  jeg har  min  pc  på  \\\n",
       "0   1      1       1          1    1            1    1        1    1   1   1   \n",
       "\n",
       "   på min  windows  windows 10  \n",
       "0       1        1           1  "
      ]
     },
     "execution_count": 41,
     "metadata": {},
     "output_type": "execute_result"
    }
   ],
   "source": [
    "%%time\n",
    "text = \"Jeg har windows 10 på min gaming pc\"\n",
    "vec1 = CountVectorizer(ngram_range=(1,2))\n",
    "vec1.fit(df.body)\n",
    "transform_with_vec(text, vec1)"
   ]
  },
  {
   "cell_type": "markdown",
   "metadata": {
    "slideshow": {
     "slide_type": "subslide"
    }
   },
   "source": [
    "\"Smarte\" n-grams:"
   ]
  },
  {
   "cell_type": "code",
   "execution_count": 42,
   "metadata": {},
   "outputs": [
    {
     "name": "stdout",
     "output_type": "stream",
     "text": [
      "CPU times: user 23.4 s, sys: 533 ms, total: 23.9 s\n",
      "Wall time: 33.6 s\n"
     ]
    },
    {
     "data": {
      "text/html": [
       "<div>\n",
       "<style scoped>\n",
       "    .dataframe tbody tr th:only-of-type {\n",
       "        vertical-align: middle;\n",
       "    }\n",
       "\n",
       "    .dataframe tbody tr th {\n",
       "        vertical-align: top;\n",
       "    }\n",
       "\n",
       "    .dataframe thead th {\n",
       "        text-align: right;\n",
       "    }\n",
       "</style>\n",
       "<table border=\"1\" class=\"dataframe\">\n",
       "  <thead>\n",
       "    <tr style=\"text-align: right;\">\n",
       "      <th></th>\n",
       "      <th>10</th>\n",
       "      <th>gaming</th>\n",
       "      <th>gaming_pc</th>\n",
       "      <th>har</th>\n",
       "      <th>jeg</th>\n",
       "      <th>min</th>\n",
       "      <th>pc</th>\n",
       "      <th>på</th>\n",
       "      <th>windows</th>\n",
       "      <th>windows_10</th>\n",
       "    </tr>\n",
       "  </thead>\n",
       "  <tbody>\n",
       "    <tr>\n",
       "      <th>0</th>\n",
       "      <td>1</td>\n",
       "      <td>1</td>\n",
       "      <td>1</td>\n",
       "      <td>1</td>\n",
       "      <td>1</td>\n",
       "      <td>1</td>\n",
       "      <td>1</td>\n",
       "      <td>1</td>\n",
       "      <td>1</td>\n",
       "      <td>1</td>\n",
       "    </tr>\n",
       "  </tbody>\n",
       "</table>\n",
       "</div>"
      ],
      "text/plain": [
       "   10  gaming  gaming_pc  har  jeg  min  pc  på  windows  windows_10\n",
       "0   1       1          1    1    1    1   1   1        1           1"
      ]
     },
     "execution_count": 42,
     "metadata": {},
     "output_type": "execute_result"
    }
   ],
   "source": [
    "%%time\n",
    "from nlp_intro.gensim_ngram_vectorizers import NgramCountVectorizer\n",
    "vec2 = NgramCountVectorizer(ngram_range=(1,2), phrases_common_terms=STOP_WORDS)\n",
    "vec2.fit(df.body)\n",
    "transform_with_vec(text, vec2)"
   ]
  },
  {
   "cell_type": "markdown",
   "metadata": {
    "slideshow": {
     "slide_type": "fragment"
    }
   },
   "source": [
    "Mer at prosesseringen tar mye lengre tid, fordi vi både må splitte tekstene i setninger, og gjøre beregninger for å finne bigrams. Bigramene vi får er derimot bedre."
   ]
  },
  {
   "cell_type": "markdown",
   "metadata": {
    "slideshow": {
     "slide_type": "subslide"
    }
   },
   "source": [
    "# Char n-grams\n",
    "\n",
    "- Skandinaviske språk som Norsk har mange sammensatte ord\n",
    "- Med sammensatte ord får vi veldig mange unike kombinasjoner av ord, som kun brukes et fåtall ganger\n",
    "- En kjapp test på vokabularet fra norske Wikipedia viste at **50% av alle unike ord kun hadde blitt brukt 1 gang** (!)\n",
    "- Om vi bruker ord som features kan derfor maskinlæring noen ganger bli vanskelig"
   ]
  },
  {
   "cell_type": "code",
   "execution_count": 93,
   "metadata": {
    "slideshow": {
     "slide_type": "skip"
    }
   },
   "outputs": [],
   "source": [
    "from scipy.sparse import issparse\n",
    "\n",
    "def vec_similarity(vec1, vec2):\n",
    "    if issparse(vec1):\n",
    "        vec1 = _sparse_to_1d(vec1)\n",
    "    if issparse(vec2):\n",
    "        vec2 = _sparse_to_1d(vec2)\n",
    "    vec1, vec2 = vec1 / np.linalg.norm(vec1), vec2 / np.linalg.norm(vec2)\n",
    "    sim = vec1.dot(vec2.T)\n",
    "    print(f\"Similarity: {sim*100:.2f}%\")\n",
    "    \n",
    "def _sparse_to_1d(vec):\n",
    "    return np.asarray(vec.todense()).squeeze() "
   ]
  },
  {
   "cell_type": "code",
   "execution_count": 94,
   "metadata": {
    "slideshow": {
     "slide_type": "subslide"
    }
   },
   "outputs": [
    {
     "data": {
      "text/html": [
       "<div>\n",
       "<style scoped>\n",
       "    .dataframe tbody tr th:only-of-type {\n",
       "        vertical-align: middle;\n",
       "    }\n",
       "\n",
       "    .dataframe tbody tr th {\n",
       "        vertical-align: top;\n",
       "    }\n",
       "\n",
       "    .dataframe thead th {\n",
       "        text-align: right;\n",
       "    }\n",
       "</style>\n",
       "<table border=\"1\" class=\"dataframe\">\n",
       "  <thead>\n",
       "    <tr style=\"text-align: right;\">\n",
       "      <th></th>\n",
       "      <th>av</th>\n",
       "      <th>prosessering</th>\n",
       "      <th>språk</th>\n",
       "      <th>språkprossesering</th>\n",
       "    </tr>\n",
       "  </thead>\n",
       "  <tbody>\n",
       "    <tr>\n",
       "      <th>0</th>\n",
       "      <td>0</td>\n",
       "      <td>0</td>\n",
       "      <td>0</td>\n",
       "      <td>1</td>\n",
       "    </tr>\n",
       "    <tr>\n",
       "      <th>1</th>\n",
       "      <td>1</td>\n",
       "      <td>1</td>\n",
       "      <td>1</td>\n",
       "      <td>0</td>\n",
       "    </tr>\n",
       "  </tbody>\n",
       "</table>\n",
       "</div>"
      ],
      "text/plain": [
       "   av  prosessering  språk  språkprossesering\n",
       "0   0             0      0                  1\n",
       "1   1             1      1                  0"
      ]
     },
     "execution_count": 94,
     "metadata": {},
     "output_type": "execute_result"
    }
   ],
   "source": [
    "vec = CountVectorizer()\n",
    "texts = [\"språkprossesering\", \"prosessering av språk\"]\n",
    "texts_vec = vec.fit_transform(texts)\n",
    "pd.DataFrame(texts_vec.todense(), columns=vec.get_feature_names())"
   ]
  },
  {
   "cell_type": "code",
   "execution_count": 95,
   "metadata": {
    "slideshow": {
     "slide_type": "fragment"
    }
   },
   "outputs": [
    {
     "name": "stdout",
     "output_type": "stream",
     "text": [
      "Similarity: 0.00%\n"
     ]
    }
   ],
   "source": [
    "vec_similarity(texts_vec[0], texts_vec[1])"
   ]
  },
  {
   "cell_type": "markdown",
   "metadata": {
    "slideshow": {
     "slide_type": "fragment"
    }
   },
   "source": [
    "Ikke bra"
   ]
  },
  {
   "cell_type": "markdown",
   "metadata": {
    "slideshow": {
     "slide_type": "subslide"
    }
   },
   "source": [
    "I naturlige tekster har vi også ofte skrivefiel:"
   ]
  },
  {
   "cell_type": "code",
   "execution_count": 96,
   "metadata": {},
   "outputs": [
    {
     "data": {
      "text/html": [
       "<div>\n",
       "<style scoped>\n",
       "    .dataframe tbody tr th:only-of-type {\n",
       "        vertical-align: middle;\n",
       "    }\n",
       "\n",
       "    .dataframe tbody tr th {\n",
       "        vertical-align: top;\n",
       "    }\n",
       "\n",
       "    .dataframe thead th {\n",
       "        text-align: right;\n",
       "    }\n",
       "</style>\n",
       "<table border=\"1\" class=\"dataframe\">\n",
       "  <thead>\n",
       "    <tr style=\"text-align: right;\">\n",
       "      <th></th>\n",
       "      <th>språkprosesering</th>\n",
       "      <th>språkprossesering</th>\n",
       "    </tr>\n",
       "  </thead>\n",
       "  <tbody>\n",
       "    <tr>\n",
       "      <th>0</th>\n",
       "      <td>0</td>\n",
       "      <td>1</td>\n",
       "    </tr>\n",
       "    <tr>\n",
       "      <th>1</th>\n",
       "      <td>1</td>\n",
       "      <td>0</td>\n",
       "    </tr>\n",
       "  </tbody>\n",
       "</table>\n",
       "</div>"
      ],
      "text/plain": [
       "   språkprosesering  språkprossesering\n",
       "0                 0                  1\n",
       "1                 1                  0"
      ]
     },
     "execution_count": 96,
     "metadata": {},
     "output_type": "execute_result"
    }
   ],
   "source": [
    "vec = CountVectorizer()\n",
    "texts = [\"språkprossesering\", \"språkprosesering\"]\n",
    "texts_vec = vec.fit_transform(texts)\n",
    "pd.DataFrame(texts_vec.todense(), columns=vec.get_feature_names())"
   ]
  },
  {
   "cell_type": "code",
   "execution_count": 97,
   "metadata": {
    "slideshow": {
     "slide_type": "fragment"
    }
   },
   "outputs": [
    {
     "name": "stdout",
     "output_type": "stream",
     "text": [
      "Similarity: 0.00%\n"
     ]
    }
   ],
   "source": [
    "vec_similarity(texts_vec[0], texts_vec[1])"
   ]
  },
  {
   "cell_type": "markdown",
   "metadata": {
    "slideshow": {
     "slide_type": "subslide"
    }
   },
   "source": [
    "Et alternativ til ord-baserte n-grams er å bruke karakter-baserte n-grams. Vi ønsker da å hente ut alle *sammenhengende sekvenser av bokstaver* fra tekstene:"
   ]
  },
  {
   "cell_type": "code",
   "execution_count": 98,
   "metadata": {},
   "outputs": [
    {
     "data": {
      "text/html": [
       "<div>\n",
       "<style scoped>\n",
       "    .dataframe tbody tr th:only-of-type {\n",
       "        vertical-align: middle;\n",
       "    }\n",
       "\n",
       "    .dataframe tbody tr th {\n",
       "        vertical-align: top;\n",
       "    }\n",
       "\n",
       "    .dataframe thead th {\n",
       "        text-align: right;\n",
       "    }\n",
       "</style>\n",
       "<table border=\"1\" class=\"dataframe\">\n",
       "  <thead>\n",
       "    <tr style=\"text-align: right;\">\n",
       "      <th></th>\n",
       "      <th>av</th>\n",
       "      <th>spr</th>\n",
       "      <th>av s</th>\n",
       "      <th>erin</th>\n",
       "      <th>eser</th>\n",
       "      <th>esse</th>\n",
       "      <th>g av</th>\n",
       "      <th>ing</th>\n",
       "      <th>kpro</th>\n",
       "      <th>ng a</th>\n",
       "      <th>...</th>\n",
       "      <th>ross</th>\n",
       "      <th>råkp</th>\n",
       "      <th>seri</th>\n",
       "      <th>sese</th>\n",
       "      <th>sess</th>\n",
       "      <th>språ</th>\n",
       "      <th>sser</th>\n",
       "      <th>sses</th>\n",
       "      <th>v sp</th>\n",
       "      <th>åkpr</th>\n",
       "    </tr>\n",
       "  </thead>\n",
       "  <tbody>\n",
       "    <tr>\n",
       "      <th>0</th>\n",
       "      <td>0</td>\n",
       "      <td>0</td>\n",
       "      <td>0</td>\n",
       "      <td>1</td>\n",
       "      <td>1</td>\n",
       "      <td>0</td>\n",
       "      <td>0</td>\n",
       "      <td>0</td>\n",
       "      <td>1</td>\n",
       "      <td>0</td>\n",
       "      <td>...</td>\n",
       "      <td>1</td>\n",
       "      <td>1</td>\n",
       "      <td>1</td>\n",
       "      <td>1</td>\n",
       "      <td>0</td>\n",
       "      <td>1</td>\n",
       "      <td>0</td>\n",
       "      <td>1</td>\n",
       "      <td>0</td>\n",
       "      <td>1</td>\n",
       "    </tr>\n",
       "    <tr>\n",
       "      <th>1</th>\n",
       "      <td>1</td>\n",
       "      <td>1</td>\n",
       "      <td>1</td>\n",
       "      <td>1</td>\n",
       "      <td>0</td>\n",
       "      <td>1</td>\n",
       "      <td>1</td>\n",
       "      <td>1</td>\n",
       "      <td>0</td>\n",
       "      <td>1</td>\n",
       "      <td>...</td>\n",
       "      <td>0</td>\n",
       "      <td>0</td>\n",
       "      <td>1</td>\n",
       "      <td>0</td>\n",
       "      <td>1</td>\n",
       "      <td>1</td>\n",
       "      <td>1</td>\n",
       "      <td>0</td>\n",
       "      <td>1</td>\n",
       "      <td>0</td>\n",
       "    </tr>\n",
       "  </tbody>\n",
       "</table>\n",
       "<p>2 rows × 26 columns</p>\n",
       "</div>"
      ],
      "text/plain": [
       "    av    spr  av s  erin  eser  esse  g av  ing   kpro  ng a  ...  ross  \\\n",
       "0     0     0     0     1     1     0     0     0     1     0  ...     1   \n",
       "1     1     1     1     1     0     1     1     1     0     1  ...     0   \n",
       "\n",
       "   råkp  seri  sese  sess  språ  sser  sses  v sp  åkpr  \n",
       "0     1     1     1     0     1     0     1     0     1  \n",
       "1     0     1     0     1     1     1     0     1     0  \n",
       "\n",
       "[2 rows x 26 columns]"
      ]
     },
     "execution_count": 98,
     "metadata": {},
     "output_type": "execute_result"
    }
   ],
   "source": [
    "vec = CountVectorizer(analyzer=\"char\", ngram_range=(4,4))\n",
    "texts = [\"språkprossesering\", \"prosessering av språk\"]\n",
    "texts_vec = vec.fit_transform(texts)\n",
    "pd.DataFrame(texts_vec.todense(), columns=vec.get_feature_names())"
   ]
  },
  {
   "cell_type": "code",
   "execution_count": 99,
   "metadata": {
    "slideshow": {
     "slide_type": "fragment"
    }
   },
   "outputs": [
    {
     "name": "stdout",
     "output_type": "stream",
     "text": [
      "Similarity: 37.80%\n"
     ]
    }
   ],
   "source": [
    "vec_similarity(texts_vec[0], texts_vec[1])"
   ]
  },
  {
   "cell_type": "code",
   "execution_count": 100,
   "metadata": {
    "slideshow": {
     "slide_type": "subslide"
    }
   },
   "outputs": [
    {
     "data": {
      "text/html": [
       "<div>\n",
       "<style scoped>\n",
       "    .dataframe tbody tr th:only-of-type {\n",
       "        vertical-align: middle;\n",
       "    }\n",
       "\n",
       "    .dataframe tbody tr th {\n",
       "        vertical-align: top;\n",
       "    }\n",
       "\n",
       "    .dataframe thead th {\n",
       "        text-align: right;\n",
       "    }\n",
       "</style>\n",
       "<table border=\"1\" class=\"dataframe\">\n",
       "  <thead>\n",
       "    <tr style=\"text-align: right;\">\n",
       "      <th></th>\n",
       "      <th>erin</th>\n",
       "      <th>eser</th>\n",
       "      <th>kpro</th>\n",
       "      <th>oses</th>\n",
       "      <th>osse</th>\n",
       "      <th>pros</th>\n",
       "      <th>pråk</th>\n",
       "      <th>ring</th>\n",
       "      <th>rose</th>\n",
       "      <th>ross</th>\n",
       "      <th>råkp</th>\n",
       "      <th>seri</th>\n",
       "      <th>sese</th>\n",
       "      <th>språ</th>\n",
       "      <th>sses</th>\n",
       "      <th>åkpr</th>\n",
       "    </tr>\n",
       "  </thead>\n",
       "  <tbody>\n",
       "    <tr>\n",
       "      <th>0</th>\n",
       "      <td>1</td>\n",
       "      <td>1</td>\n",
       "      <td>1</td>\n",
       "      <td>0</td>\n",
       "      <td>1</td>\n",
       "      <td>1</td>\n",
       "      <td>1</td>\n",
       "      <td>1</td>\n",
       "      <td>0</td>\n",
       "      <td>1</td>\n",
       "      <td>1</td>\n",
       "      <td>1</td>\n",
       "      <td>1</td>\n",
       "      <td>1</td>\n",
       "      <td>1</td>\n",
       "      <td>1</td>\n",
       "    </tr>\n",
       "    <tr>\n",
       "      <th>1</th>\n",
       "      <td>1</td>\n",
       "      <td>1</td>\n",
       "      <td>1</td>\n",
       "      <td>1</td>\n",
       "      <td>0</td>\n",
       "      <td>1</td>\n",
       "      <td>1</td>\n",
       "      <td>1</td>\n",
       "      <td>1</td>\n",
       "      <td>0</td>\n",
       "      <td>1</td>\n",
       "      <td>1</td>\n",
       "      <td>1</td>\n",
       "      <td>1</td>\n",
       "      <td>0</td>\n",
       "      <td>1</td>\n",
       "    </tr>\n",
       "  </tbody>\n",
       "</table>\n",
       "</div>"
      ],
      "text/plain": [
       "   erin  eser  kpro  oses  osse  pros  pråk  ring  rose  ross  råkp  seri  \\\n",
       "0     1     1     1     0     1     1     1     1     0     1     1     1   \n",
       "1     1     1     1     1     0     1     1     1     1     0     1     1   \n",
       "\n",
       "   sese  språ  sses  åkpr  \n",
       "0     1     1     1     1  \n",
       "1     1     1     0     1  "
      ]
     },
     "execution_count": 100,
     "metadata": {},
     "output_type": "execute_result"
    }
   ],
   "source": [
    "texts = [\"språkprossesering\", \"språkprosesering\"]\n",
    "texts_vec = vec.fit_transform(texts)\n",
    "pd.DataFrame(texts_vec.todense(), columns=vec.get_feature_names())"
   ]
  },
  {
   "cell_type": "code",
   "execution_count": 101,
   "metadata": {
    "slideshow": {
     "slide_type": "fragment"
    }
   },
   "outputs": [
    {
     "name": "stdout",
     "output_type": "stream",
     "text": [
      "Similarity: 81.54%\n"
     ]
    }
   ],
   "source": [
    "vec_similarity(texts_vec[0], texts_vec[1])"
   ]
  },
  {
   "cell_type": "markdown",
   "metadata": {
    "slideshow": {
     "slide_type": "subslide"
    }
   },
   "source": [
    "## Char n-grams, tips:\n",
    "\n",
    "- En lengde på 4 funker ofte (av erfaring) bra for char n-grams. Det er et godt midtpunkt mellom:\n",
    "    - For korte sekvenser, som gjør at \"alle\" ord vil matche\n",
    "    - For lange sekvenser, som i praksis vil gi samme resultat som ord-baserte n-grams\n",
    "- Du kan bytte analyzer til ```char_wb```, som vil si at du kun bruker n-grams innenfor hvert ord, ikke på tvers\n",
    "- Vær obs på at det du har satt som ```token_pattern``` ignoreres når du bruker char n-grams. Dvs. selv om du setter et token pattern som matcher kun bokstaver, vil char n-grams også inneholde tegnsetting:"
   ]
  },
  {
   "cell_type": "markdown",
   "metadata": {
    "slideshow": {
     "slide_type": "subslide"
    }
   },
   "source": [
    "\"Token pattern\" ignoreres for char n-grams:"
   ]
  },
  {
   "cell_type": "code",
   "execution_count": 52,
   "metadata": {},
   "outputs": [
    {
     "data": {
      "text/html": [
       "<div>\n",
       "<style scoped>\n",
       "    .dataframe tbody tr th:only-of-type {\n",
       "        vertical-align: middle;\n",
       "    }\n",
       "\n",
       "    .dataframe tbody tr th {\n",
       "        vertical-align: top;\n",
       "    }\n",
       "\n",
       "    .dataframe thead th {\n",
       "        text-align: right;\n",
       "    }\n",
       "</style>\n",
       "<table border=\"1\" class=\"dataframe\">\n",
       "  <thead>\n",
       "    <tr style=\"text-align: right;\">\n",
       "      <th></th>\n",
       "      <th>joh</th>\n",
       "      <th>, jo</th>\n",
       "      <th>ei,</th>\n",
       "      <th>hei,</th>\n",
       "      <th>i, j</th>\n",
       "      <th>john</th>\n",
       "      <th>ohn!</th>\n",
       "    </tr>\n",
       "  </thead>\n",
       "  <tbody>\n",
       "    <tr>\n",
       "      <th>0</th>\n",
       "      <td>1</td>\n",
       "      <td>1</td>\n",
       "      <td>1</td>\n",
       "      <td>1</td>\n",
       "      <td>1</td>\n",
       "      <td>1</td>\n",
       "      <td>1</td>\n",
       "    </tr>\n",
       "  </tbody>\n",
       "</table>\n",
       "</div>"
      ],
      "text/plain": [
       "    joh  , jo  ei,   hei,  i, j  john  ohn!\n",
       "0     1     1     1     1     1     1     1"
      ]
     },
     "execution_count": 52,
     "metadata": {},
     "output_type": "execute_result"
    }
   ],
   "source": [
    "vec = CountVectorizer(analyzer=\"char\", ngram_range=(4,4), token_pattern=\"\\w+\")\n",
    "text = \"Hei, John!\"\n",
    "texts_vec = vec.fit_transform([text])\n",
    "pd.DataFrame(texts_vec.todense(), columns=vec.get_feature_names())"
   ]
  },
  {
   "cell_type": "markdown",
   "metadata": {
    "slideshow": {
     "slide_type": "subslide"
    }
   },
   "source": [
    "# Word embeddings\n",
    "\n",
    "- Måten vi hittil har konvertert tekst til tall, kalles ofte en glissen (en: sparse) representasjon av tekst, fordi hvert enkelt ord kun er representert av én verdi i en glissen matrise. \n",
    "- Alle ord vil derfor ha samme \"likhet\"/\"forskjellighet\""
   ]
  },
  {
   "cell_type": "markdown",
   "metadata": {
    "slideshow": {
     "slide_type": "subslide"
    }
   },
   "source": [
    "Samme likhet/forskjellighet for alle ord:"
   ]
  },
  {
   "cell_type": "code",
   "execution_count": 102,
   "metadata": {},
   "outputs": [
    {
     "data": {
      "text/html": [
       "<div>\n",
       "<style scoped>\n",
       "    .dataframe tbody tr th:only-of-type {\n",
       "        vertical-align: middle;\n",
       "    }\n",
       "\n",
       "    .dataframe tbody tr th {\n",
       "        vertical-align: top;\n",
       "    }\n",
       "\n",
       "    .dataframe thead th {\n",
       "        text-align: right;\n",
       "    }\n",
       "</style>\n",
       "<table border=\"1\" class=\"dataframe\">\n",
       "  <thead>\n",
       "    <tr style=\"text-align: right;\">\n",
       "      <th></th>\n",
       "      <th>hund</th>\n",
       "      <th>katt</th>\n",
       "      <th>skrutrekker</th>\n",
       "    </tr>\n",
       "  </thead>\n",
       "  <tbody>\n",
       "    <tr>\n",
       "      <th>0</th>\n",
       "      <td>1</td>\n",
       "      <td>0</td>\n",
       "      <td>0</td>\n",
       "    </tr>\n",
       "    <tr>\n",
       "      <th>1</th>\n",
       "      <td>0</td>\n",
       "      <td>1</td>\n",
       "      <td>0</td>\n",
       "    </tr>\n",
       "    <tr>\n",
       "      <th>2</th>\n",
       "      <td>0</td>\n",
       "      <td>0</td>\n",
       "      <td>1</td>\n",
       "    </tr>\n",
       "  </tbody>\n",
       "</table>\n",
       "</div>"
      ],
      "text/plain": [
       "   hund  katt  skrutrekker\n",
       "0     1     0            0\n",
       "1     0     1            0\n",
       "2     0     0            1"
      ]
     },
     "execution_count": 102,
     "metadata": {},
     "output_type": "execute_result"
    }
   ],
   "source": [
    "vec = CountVectorizer()\n",
    "texts = [\"Hund\", \"Katt\", \"Skrutrekker\"]\n",
    "texts_vec = vec.fit_transform(texts)\n",
    "pd.DataFrame(texts_vec.todense(), columns=vec.get_feature_names())"
   ]
  },
  {
   "cell_type": "markdown",
   "metadata": {
    "slideshow": {
     "slide_type": "subslide"
    }
   },
   "source": [
    "Likhet mellom vektoren for hund og katt:"
   ]
  },
  {
   "cell_type": "code",
   "execution_count": 103,
   "metadata": {},
   "outputs": [
    {
     "name": "stdout",
     "output_type": "stream",
     "text": [
      "Similarity: 0.00%\n"
     ]
    }
   ],
   "source": [
    "vec_similarity(texts_vec[0], texts_vec[1])"
   ]
  },
  {
   "cell_type": "markdown",
   "metadata": {
    "slideshow": {
     "slide_type": "fragment"
    }
   },
   "source": [
    "Likhet mellom vektoren for hund og skrutrekker:"
   ]
  },
  {
   "cell_type": "code",
   "execution_count": 104,
   "metadata": {},
   "outputs": [
    {
     "name": "stdout",
     "output_type": "stream",
     "text": [
      "Similarity: 0.00%\n"
     ]
    }
   ],
   "source": [
    "vec_similarity(texts_vec[0], texts_vec[2])"
   ]
  },
  {
   "cell_type": "markdown",
   "metadata": {
    "slideshow": {
     "slide_type": "fragment"
    }
   },
   "source": [
    "Det hadde vært fint om vi kunne representert ord på en annen måte, slik at ```likhet(hund, katt)``` > ```likhet(hund, skrutrekker)```"
   ]
  },
  {
   "cell_type": "markdown",
   "metadata": {
    "slideshow": {
     "slide_type": "subslide"
    }
   },
   "source": [
    "## Word Embeddings - læring av \"substitutter\""
   ]
  },
  {
   "cell_type": "markdown",
   "metadata": {},
   "source": [
    "- \"Word embeddings\" er en tett (en: dense) måte å representere ord på, fordi vi har 'mverdier i alle kolonner for ordet. F.eks.\n",
    "vil vektoren for hun være noe som ```[0.1231, 1.3030, 3.2233, ...]```\n",
    "- Hver kolonne i en WE vektor vill representere en egenskap ved ordet, slik at ord som kan være substitutter for hverandre vil være \"nærmere\" hverandre\n",
    "- Maskinlæringsproblemet vi løser for å finne disse vektorene er av typen:\n",
    "    - Gitt et ord - prediker konteksten til ordet (Skip-gram)\n",
    "    - Gitt konteksten til odet - prediker ordet (CBOW)"
   ]
  },
  {
   "cell_type": "markdown",
   "metadata": {
    "slideshow": {
     "slide_type": "subslide"
    }
   },
   "source": [
    "## Skip-gram\n",
    "\n",
    "Figurer hentet fra: http://mccormickml.com/2016/04/19/word2vec-tutorial-the-skip-gram-model/\n",
    "\n",
    "(som forøvrig er en mer detaljert gjennomgang av temaet)\n",
    "\n",
    "<center> <img src=\"../images/skip-gram-1.png\"/> </center>"
   ]
  },
  {
   "cell_type": "markdown",
   "metadata": {
    "slideshow": {
     "slide_type": "subslide"
    }
   },
   "source": [
    "<center> <img src=\"../images/skip-gram-2.png\"/> </center>"
   ]
  },
  {
   "cell_type": "markdown",
   "metadata": {
    "slideshow": {
     "slide_type": "subslide"
    }
   },
   "source": [
    "## Hvordan få tilgang til \"word embeddings\""
   ]
  },
  {
   "cell_type": "markdown",
   "metadata": {},
   "source": [
    "For å bruke \"word embeddings\", kan vi enten:\n",
    "1. Trene dem selv på et passende sett med dokumenter (gjerne et stort sett, dvs. mange ord)\n",
    "2. Laste ned forhåndstrente modeller og bruke disse\n",
    "\n",
    "NB: hvilket datasett word embeddigene er trent på har mye å si for hvordan embeddingene ender opp. Ord som er like i ett vokabular kan være helt ulike i et annet, om kontreksten de brukes i er ulik."
   ]
  },
  {
   "cell_type": "markdown",
   "metadata": {},
   "source": [
    "## Word2Vec word embeddings "
   ]
  },
  {
   "cell_type": "markdown",
   "metadata": {
    "slideshow": {
     "slide_type": "subslide"
    }
   },
   "source": [
    "Vi velger her å laste ned en forhåndstrent modell fra http://vectors.nlpl.eu/repository/. Modellen vi bruker er for bokmål og trent på norske tekster fra [CoNLL 17](http://universaldependencies.org/conll17/):"
   ]
  },
  {
   "cell_type": "code",
   "execution_count": 56,
   "metadata": {},
   "outputs": [],
   "source": [
    "from gensim.models import KeyedVectors"
   ]
  },
  {
   "cell_type": "markdown",
   "metadata": {
    "slideshow": {
     "slide_type": "skip"
    }
   },
   "source": [
    "Vi ignorerer unicode feil ved innlasting av modellen, fordi det kan få hele innlastingen til å feile. Se https://github.com/RaRe-Technologies/gensim/wiki/Recipes-&-FAQ#q10-loading-a-word2vec-model-fails-with-unicodedecodeerror-utf-8-codec-cant-decode-bytes-in-position-"
   ]
  },
  {
   "cell_type": "code",
   "execution_count": 74,
   "metadata": {},
   "outputs": [],
   "source": [
    "w2v_model = KeyedVectors.load_word2vec_format(\"../resources/embeddings/model.bin\", unicode_errors='ignore', binary=True, encoding=\"utf8\")"
   ]
  },
  {
   "cell_type": "markdown",
   "metadata": {
    "slideshow": {
     "slide_type": "subslide"
    }
   },
   "source": [
    "La oss bli litt bedre kjent med modellen:"
   ]
  },
  {
   "cell_type": "code",
   "execution_count": 76,
   "metadata": {},
   "outputs": [
    {
     "data": {
      "text/plain": [
       "(100,)"
      ]
     },
     "execution_count": 76,
     "metadata": {},
     "output_type": "execute_result"
    }
   ],
   "source": [
    "w2v_model[\"hund\"].shape"
   ]
  },
  {
   "cell_type": "code",
   "execution_count": 77,
   "metadata": {
    "scrolled": true,
    "slideshow": {
     "slide_type": "fragment"
    }
   },
   "outputs": [
    {
     "data": {
      "text/plain": [
       "array([ 4.160294  , -0.7913837 , -4.759459  ,  1.3926575 ,  1.1881433 ,\n",
       "        4.7561536 ,  1.5202963 , -0.87461686,  2.760311  , -0.37462923],\n",
       "      dtype=float32)"
      ]
     },
     "execution_count": 77,
     "metadata": {},
     "output_type": "execute_result"
    }
   ],
   "source": [
    "w2v_model[\"hund\"][:10]"
   ]
  },
  {
   "cell_type": "markdown",
   "metadata": {
    "slideshow": {
     "slide_type": "-"
    }
   },
   "source": [
    "- Vi ser altså at vi har 100 ulike ikke-null verdier som beskriver ordet \"hund\"\n",
    "- Hva disse verdiene er bryr vi oss ikke om - vi er bare interessert i at like ord har like embeddings"
   ]
  },
  {
   "cell_type": "markdown",
   "metadata": {
    "slideshow": {
     "slide_type": "subslide"
    }
   },
   "source": [
    "Nå som hvert ord har mange ulike \"features\" kan vi sammenligne dem:"
   ]
  },
  {
   "cell_type": "code",
   "execution_count": 78,
   "metadata": {
    "scrolled": true
   },
   "outputs": [
    {
     "data": {
      "text/plain": [
       "[('katt', 0.8834836483001709),\n",
       " ('hest', 0.8537960052490234),\n",
       " ('hunden', 0.8209482431411743),\n",
       " ('valp', 0.8072998523712158),\n",
       " ('kanin', 0.8040313124656677)]"
      ]
     },
     "execution_count": 78,
     "metadata": {},
     "output_type": "execute_result"
    }
   ],
   "source": [
    "w2v_model.most_similar(\"hund\", topn=5)"
   ]
  },
  {
   "cell_type": "code",
   "execution_count": 79,
   "metadata": {
    "slideshow": {
     "slide_type": "fragment"
    }
   },
   "outputs": [
    {
     "data": {
      "text/plain": [
       "[('skiftenøkkel', 0.9227230548858643),\n",
       " ('avbitertang', 0.8999788761138916),\n",
       " ('brødkniv', 0.8843042254447937),\n",
       " ('tapetkniv', 0.8789403438568115),\n",
       " ('vinkelsliper', 0.8771433234214783)]"
      ]
     },
     "execution_count": 79,
     "metadata": {},
     "output_type": "execute_result"
    }
   ],
   "source": [
    "w2v_model.most_similar(\"skrutrekker\", topn=5)"
   ]
  },
  {
   "cell_type": "markdown",
   "metadata": {
    "slideshow": {
     "slide_type": "subslide"
    }
   },
   "source": [
    "La oss nå bekrefte at vi har en representasjon hvor ```likhet(hund, katt)``` > ```likhet(hund, skrutrekker)```:"
   ]
  },
  {
   "cell_type": "code",
   "execution_count": 108,
   "metadata": {
    "slideshow": {
     "slide_type": "-"
    }
   },
   "outputs": [
    {
     "name": "stdout",
     "output_type": "stream",
     "text": [
      "Hund og katt, Similarity: 88.35%\n",
      "Hund og skrutrekker, Similarity: 48.94%\n"
     ]
    }
   ],
   "source": [
    "print(\"Hund og katt, \", end=\"\")\n",
    "vec_similarity(w2v_model[\"hund\"], w2v_model[\"katt\"])\n",
    "print(\"Hund og skrutrekker, \", end=\"\")\n",
    "vec_similarity(w2v_model[\"hund\"], w2v_model[\"skrutrekker\"])"
   ]
  },
  {
   "cell_type": "markdown",
   "metadata": {
    "slideshow": {
     "slide_type": "subslide"
    }
   },
   "source": [
    "## Vektor-matematikk på ordene\n",
    "\n",
    "<center> <img src=\"../images/word-emb-math.png\"/> </center>"
   ]
  },
  {
   "cell_type": "markdown",
   "metadata": {
    "slideshow": {
     "slide_type": "subslide"
    }
   },
   "source": [
    "burger - amerika + italia:"
   ]
  },
  {
   "cell_type": "code",
   "execution_count": 145,
   "metadata": {},
   "outputs": [
    {
     "data": {
      "text/plain": [
       "[('pizza', 0.7512732744216919)]"
      ]
     },
     "execution_count": 145,
     "metadata": {},
     "output_type": "execute_result"
    }
   ],
   "source": [
    "w2v_model.most_similar(positive=[\"burger\", \"italia\"], negative=[\"amerika\"], topn=1)"
   ]
  },
  {
   "cell_type": "markdown",
   "metadata": {
    "slideshow": {
     "slide_type": "subslide"
    }
   },
   "source": [
    "Hva med ord som ikke finnes i vokabularet?"
   ]
  },
  {
   "cell_type": "code",
   "execution_count": 149,
   "metadata": {},
   "outputs": [
    {
     "name": "stdout",
     "output_type": "stream",
     "text": [
      "KeyError: \"word 'k34oi3kio4' not in vocabulary\"\n"
     ]
    }
   ],
   "source": [
    "try:\n",
    "    w2v_model[\"k34oi3kio4\"]\n",
    "except Exception as e:\n",
    "    print(f\"{type(e).__name__}: {str(e)}\")"
   ]
  },
  {
   "cell_type": "markdown",
   "metadata": {},
   "source": [
    "# FastText word embeddings"
   ]
  },
  {
   "cell_type": "markdown",
   "metadata": {
    "slideshow": {
     "slide_type": "subslide"
    }
   },
   "source": [
    "Modellen vi har brukt for word embeddings så langt har brukt fullstendig ord som *tokens* i modellen. Dette byr på problemer for sammensatte ord:"
   ]
  },
  {
   "cell_type": "code",
   "execution_count": 152,
   "metadata": {},
   "outputs": [
    {
     "name": "stdout",
     "output_type": "stream",
     "text": [
      "Similarity: 14.77%\n"
     ]
    }
   ],
   "source": [
    "vec_similarity(w2v_model[\"språkprosessering\"], w2v_model[\"språk\"] + w2v_model[\"prosessering\"])"
   ]
  },
  {
   "cell_type": "markdown",
   "metadata": {
    "slideshow": {
     "slide_type": "fragment"
    }
   },
   "source": [
    "*FastText* er en annen måte å genrerere word embeddings, som tar del-ord med i målfunksjonen når modellen optimeres."
   ]
  },
  {
   "cell_type": "markdown",
   "metadata": {
    "slideshow": {
     "slide_type": "subslide"
    }
   },
   "source": [
    "Vi bruker her en modell forhåndstrent av Facebook (som har designet FastText): https://fasttext.cc/docs/en/crawl-vectors.html.på. Modellen vi bruker er for bokmål og trent på norske tekster fra data fra Wikipedia:"
   ]
  },
  {
   "cell_type": "markdown",
   "metadata": {
    "slideshow": {
     "slide_type": "skip"
    }
   },
   "source": [
    "**Obs**: Modellen er ganske stor, så om du har lite minne på maskinen din, ikke last inn ```ft_model```."
   ]
  },
  {
   "cell_type": "code",
   "execution_count": 161,
   "metadata": {},
   "outputs": [],
   "source": [
    "from gensim.models.wrappers import FastText"
   ]
  },
  {
   "cell_type": "code",
   "execution_count": 174,
   "metadata": {},
   "outputs": [],
   "source": [
    "ft_model = FastText.load_fasttext_format(\"../resources/embeddings/cc.no.300.bin\")"
   ]
  },
  {
   "cell_type": "markdown",
   "metadata": {
    "slideshow": {
     "slide_type": "-"
    }
   },
   "source": [
    "Merk at modellen er mye større enn den for word2vec, både fordi vi har flere ord (vi har jo også del-ord), men også fordi hver vektor har 300 dimensjoner vs. 100 for W2V-modellen vi brukte tidligere"
   ]
  },
  {
   "cell_type": "markdown",
   "metadata": {
    "slideshow": {
     "slide_type": "subslide"
    }
   },
   "source": [
    "La oss undersøke hvordan denne modellen er annerledes:"
   ]
  },
  {
   "cell_type": "code",
   "execution_count": 177,
   "metadata": {},
   "outputs": [
    {
     "data": {
      "text/plain": [
       "(300,)"
      ]
     },
     "execution_count": 177,
     "metadata": {},
     "output_type": "execute_result"
    }
   ],
   "source": [
    "ft_model[\"hund\"].shape"
   ]
  },
  {
   "cell_type": "code",
   "execution_count": 181,
   "metadata": {},
   "outputs": [
    {
     "data": {
      "text/plain": [
       "[('hunden', 0.7746080160140991),\n",
       " ('løshund', 0.768308162689209),\n",
       " ('gråhund', 0.7630655765533447),\n",
       " ('hunder', 0.7626408338546753),\n",
       " ('hihund', 0.7605112195014954)]"
      ]
     },
     "execution_count": 181,
     "metadata": {},
     "output_type": "execute_result"
    }
   ],
   "source": [
    "ft_model.most_similar(\"hund\", topn=5)"
   ]
  },
  {
   "cell_type": "code",
   "execution_count": 182,
   "metadata": {},
   "outputs": [
    {
     "data": {
      "text/plain": [
       "[('katt', 0.8834836483001709),\n",
       " ('hest', 0.8537960052490234),\n",
       " ('hunden', 0.8209482431411743),\n",
       " ('valp', 0.8072998523712158),\n",
       " ('kanin', 0.8040313124656677)]"
      ]
     },
     "execution_count": 182,
     "metadata": {},
     "output_type": "execute_result"
    }
   ],
   "source": [
    "w2v_model.most_similar(\"hund\", topn=5)"
   ]
  },
  {
   "cell_type": "markdown",
   "metadata": {
    "slideshow": {
     "slide_type": "fragment"
    }
   },
   "source": [
    "Ord som inneholder hund, er altså nærmere i vektor-rommet når vi bruker FastText embeddings."
   ]
  },
  {
   "cell_type": "markdown",
   "metadata": {
    "slideshow": {
     "slide_type": "subslide"
    }
   },
   "source": [
    "Hva med vektormatte?"
   ]
  },
  {
   "cell_type": "code",
   "execution_count": 189,
   "metadata": {},
   "outputs": [
    {
     "data": {
      "text/plain": [
       "[('språkprosessering', 0.5796246528625488),\n",
       " ('Prosessering', 0.5429927706718445),\n",
       " ('informasjonsprosessering', 0.5236091613769531),\n",
       " ('prosesseringen', 0.5149697065353394),\n",
       " ('språket', 0.50953209400177),\n",
       " ('oversetting', 0.49858883023262024),\n",
       " ('geoprosessering', 0.49221867322921753),\n",
       " ('reprosessering', 0.49008405208587646),\n",
       " ('dataprosessering', 0.4815547466278076),\n",
       " ('annotering', 0.4805752635002136)]"
      ]
     },
     "execution_count": 189,
     "metadata": {},
     "output_type": "execute_result"
    }
   ],
   "source": [
    "ft_model.most_similar(positive=[\"språk\", \"prosessering\"])"
   ]
  },
  {
   "cell_type": "markdown",
   "metadata": {
    "slideshow": {
     "slide_type": "subslide"
    }
   },
   "source": [
    "Og hva med ord som ikke finnes fra før i vokabularet?"
   ]
  },
  {
   "cell_type": "code",
   "execution_count": 196,
   "metadata": {
    "slideshow": {
     "slide_type": "fragment"
    }
   },
   "outputs": [
    {
     "data": {
      "text/plain": [
       "False"
      ]
     },
     "execution_count": 196,
     "metadata": {},
     "output_type": "execute_result"
    }
   ],
   "source": [
    "\"Bouvethuset\" in ft_model.wv.vocab"
   ]
  },
  {
   "cell_type": "code",
   "execution_count": 199,
   "metadata": {
    "slideshow": {
     "slide_type": "fragment"
    }
   },
   "outputs": [
    {
     "data": {
      "text/plain": [
       "array([-0.00424563, -0.01575789,  0.00175956,  0.00907038,  0.01062388,\n",
       "       -0.00300563,  0.00662526,  0.00761305, -0.02929272,  0.00666009],\n",
       "      dtype=float32)"
      ]
     },
     "execution_count": 199,
     "metadata": {},
     "output_type": "execute_result"
    }
   ],
   "source": [
    "ft_model[\"Bouvethuset\"][:10]"
   ]
  },
  {
   "cell_type": "markdown",
   "metadata": {
    "slideshow": {
     "slide_type": "fragment"
    }
   },
   "source": [
    "Funker uten å kaste en feil!"
   ]
  },
  {
   "cell_type": "code",
   "execution_count": 201,
   "metadata": {
    "slideshow": {
     "slide_type": "fragment"
    }
   },
   "outputs": [
    {
     "data": {
      "text/plain": [
       "[('Bouvetoya', 0.7346912622451782),\n",
       " ('Bouvetøy', 0.7313781976699829),\n",
       " ('Giethuset', 0.6989498734474182),\n",
       " ('Kulthuset', 0.6714847087860107),\n",
       " ('Elkemhuset', 0.6714712381362915)]"
      ]
     },
     "execution_count": 201,
     "metadata": {},
     "output_type": "execute_result"
    }
   ],
   "source": [
    "ft_model.similar_by_vector(ft_model[\"Bouvethuset\"], topn=5)"
   ]
  },
  {
   "cell_type": "markdown",
   "metadata": {
    "slideshow": {
     "slide_type": "subslide"
    }
   },
   "source": [
    "## Greit å vite om word embeddings\n",
    "\n",
    "- Like ord er *ikke synonymer*. F.eks. kan ordet *glad* og *trist* ha relativt like word embeddings, fordi de brukes i samme kontekst.\n",
    "- FastText funker ofte bra for norsk, og andre språk som bruker mye sammensatte ord (f.eks. tysk), av samme grunn som at char n-grams funker bra\n",
    "- Vi har kun én embedding per ord, så ord med flere betydninger avhengig av kontekst kan få litt rare embeddings"
   ]
  },
  {
   "cell_type": "code",
   "execution_count": 203,
   "metadata": {},
   "outputs": [
    {
     "data": {
      "text/plain": [
       "True"
      ]
     },
     "execution_count": 203,
     "metadata": {},
     "output_type": "execute_result"
    }
   ],
   "source": [
    "\"Bouvethuset\" in ft_model"
   ]
  },
  {
   "cell_type": "markdown",
   "metadata": {
    "slideshow": {
     "slide_type": "subslide"
    }
   },
   "source": [
    "# Fra ord til dokumenter\n",
    "\n",
    "- Merk at word embeddings genererer en vektor for hvert ord, men ikke direkte kan brukes for å transformere en hel tekt til tall"
   ]
  },
  {
   "cell_type": "code",
   "execution_count": null,
   "metadata": {
    "slideshow": {
     "slide_type": "skip"
    }
   },
   "outputs": [],
   "source": [
    "# Fasttext no: https://dl.fbaipublicfiles.com/fasttext/vectors-crawl/cc.no.300.bin.gz\n",
    "# Word2vec: http://vectors.nlpl.eu/repository/11/77.zip"
   ]
  },
  {
   "cell_type": "markdown",
   "metadata": {
    "slideshow": {
     "slide_type": "subslide"
    }
   },
   "source": [
    "# Tips\n",
    "- Generelt, desto mindre data du har, desto viktigere er det å hjelpe modellen med litt menenskelig kunskap ved å prosessere dataen på en måte vi vet gir mening"
   ]
  },
  {
   "cell_type": "code",
   "execution_count": null,
   "metadata": {},
   "outputs": [],
   "source": [
    "class A:\n",
    "    def __init__(self, param):\n",
    "        self.param = param\n",
    "    def foo(self):\n",
    "        print(self.param)\n",
    "        \n",
    "class B:\n",
    "    def __init__(self, *args, **kwargs):\n",
    "        super().__init__(*args, **kwargs)\n",
    "        pass\n",
    "    \n",
    "    def foo(self):\n",
    "        print(\"hey\")\n",
    "        super().foo()\n",
    "        \n",
    "class C(B, A):\n",
    "    pass\n",
    "\n",
    "c = C(\"man\")\n",
    "c.foo()"
   ]
  },
  {
   "cell_type": "markdown",
   "metadata": {},
   "source": [
    "# Andre ressurser"
   ]
  },
  {
   "cell_type": "code",
   "execution_count": null,
   "metadata": {},
   "outputs": [],
   "source": [
    "import spacy\n",
    "nb_core = spacy.load(\"nb_core_news_sm\")"
   ]
  }
 ],
 "metadata": {
  "celltoolbar": "Slideshow",
  "kernelspec": {
   "display_name": "Python 3",
   "language": "python",
   "name": "python3"
  },
  "language_info": {
   "codemirror_mode": {
    "name": "ipython",
    "version": 3
   },
   "file_extension": ".py",
   "mimetype": "text/x-python",
   "name": "python",
   "nbconvert_exporter": "python",
   "pygments_lexer": "ipython3",
   "version": "3.6.9"
  }
 },
 "nbformat": 4,
 "nbformat_minor": 4
}
