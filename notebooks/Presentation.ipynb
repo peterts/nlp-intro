{
 "cells": [
  {
   "cell_type": "code",
   "execution_count": 65,
   "metadata": {
    "slideshow": {
     "slide_type": "skip"
    }
   },
   "outputs": [
    {
     "data": {
      "text/html": [
       "        <script type=\"text/javascript\">\n",
       "        window.PlotlyConfig = {MathJaxConfig: 'local'};\n",
       "        if (window.MathJax) {MathJax.Hub.Config({SVG: {font: \"STIX-Web\"}});}\n",
       "        if (typeof require !== 'undefined') {\n",
       "        require.undef(\"plotly\");\n",
       "        requirejs.config({\n",
       "            paths: {\n",
       "                'plotly': ['https://cdn.plot.ly/plotly-latest.min']\n",
       "            }\n",
       "        });\n",
       "        require(['plotly'], function(Plotly) {\n",
       "            window._Plotly = Plotly;\n",
       "        });\n",
       "        }\n",
       "        </script>\n",
       "        "
      ]
     },
     "metadata": {},
     "output_type": "display_data"
    },
    {
     "name": "stdout",
     "output_type": "stream",
     "text": [
      "The autoreload extension is already loaded. To reload it, use:\n",
      "  %reload_ext autoreload\n"
     ]
    }
   ],
   "source": [
    "%run setup\n",
    "%load_ext autoreload\n",
    "%autoreload 2"
   ]
  },
  {
   "cell_type": "code",
   "execution_count": 66,
   "metadata": {
    "slideshow": {
     "slide_type": "skip"
    }
   },
   "outputs": [],
   "source": [
    "from IPython.display import Image\n",
    "from pathlib import Path\n",
    "from nlp_intro.data import draw_uniform_data\n",
    "from nlp_intro.figure_factory import Linear2D2ClassModelPlotter, plot_3d_scatter, gradient_descent_animation, plot_as_image\n",
    "import pandas as pd\n",
    "import numpy as np\n",
    "from nlp_intro.logistic_regression import gradient\n",
    "from nlp_intro.data import load_diskusjon_no_data\n",
    "from nlp_intro.my_multiprocessing import process\n",
    "import re"
   ]
  },
  {
   "cell_type": "code",
   "execution_count": 67,
   "metadata": {
    "slideshow": {
     "slide_type": "skip"
    }
   },
   "outputs": [],
   "source": [
    "root_dir = Path(\"..\").resolve()"
   ]
  },
  {
   "cell_type": "markdown",
   "metadata": {},
   "source": [
    "# Mål for presentasjonen\n",
    "\n",
    "- Kommer ikke til å gå i dybden på hver algoritme som brukes - flere av algoritmene kunne vi dedikert en helt egen fagkveld til\n",
    "- Målet med presentasjonen er å:\n",
    "    - Demystifisere NLP - gi deg en forståelse av hvordan ulike NLP-problemstillinger løses\n",
    "    - Gi en praktisk introduksjon til temaet gjennom kode"
   ]
  },
  {
   "cell_type": "markdown",
   "metadata": {
    "slideshow": {
     "slide_type": "slide"
    }
   },
   "source": [
    "# Maskinlæring på 5 minutter"
   ]
  },
  {
   "cell_type": "markdown",
   "metadata": {
    "slideshow": {
     "slide_type": "subslide"
    }
   },
   "source": [
    "# 2 typer maskinlæring"
   ]
  },
  {
   "cell_type": "markdown",
   "metadata": {
    "slideshow": {
     "slide_type": "fragment"
    }
   },
   "source": [
    "1. **Veiledet læring** (en: supervised learning): metoder for å lære seg en sammenheng mellom data og kategorier/tallverdier tillordnet denne dataen, slik at man gitt ny data kan predikere disse kategoriene/tallverdiene"
   ]
  },
  {
   "cell_type": "markdown",
   "metadata": {
    "slideshow": {
     "slide_type": "fragment"
    }
   },
   "source": [
    "2. **Ikke-veiledet læring** (en: unsupervised learning): metoder for å finne nyttige mønstre i data"
   ]
  },
  {
   "cell_type": "markdown",
   "metadata": {
    "slideshow": {
     "slide_type": "subslide"
    }
   },
   "source": [
    " ## Veiledet læring"
   ]
  },
  {
   "cell_type": "markdown",
   "metadata": {
    "slideshow": {
     "slide_type": "-"
    }
   },
   "source": [
    " \n",
    "<center> <img src=\"../images/bender.gif\"/> </center>"
   ]
  },
  {
   "cell_type": "markdown",
   "metadata": {
    "slideshow": {
     "slide_type": "subslide"
    }
   },
   "source": [
    "Vi har datapunkter $X$ og for hvert datapunkt en kategori/tallverdi $y$. Vi antar at det er en sammenheng mellom $X$ og $y$, slik at $X$ kan brukes for å predikere $y$:\n",
    "$$X \\rightarrow y$$"
   ]
  },
  {
   "cell_type": "markdown",
   "metadata": {
    "slideshow": {
     "slide_type": "fragment"
    }
   },
   "source": [
    "Ved hjelp av *veiledet læring* ønsker vi å finne denne \"pilen\"/modellen:\n",
    "$$X \\boxed{\\rightarrow} y$$"
   ]
  },
  {
   "cell_type": "markdown",
   "metadata": {
    "slideshow": {
     "slide_type": "fragment"
    }
   },
   "source": [
    "..slik at gitt nye datapunkter $X_2$ og modellen:\n",
    "$$X_2 \\rightarrow $$"
   ]
  },
  {
   "cell_type": "markdown",
   "metadata": {
    "slideshow": {
     "slide_type": "fragment"
    }
   },
   "source": [
    "...kan vi produsere prediksjoner for hvert av de nye datapunktene:\n",
    "$$X_2 \\rightarrow y_2$$"
   ]
  },
  {
   "cell_type": "markdown",
   "metadata": {
    "slideshow": {
     "slide_type": "subslide"
    }
   },
   "source": [
    "## Eksempel: et datasett av bokser"
   ]
  },
  {
   "cell_type": "markdown",
   "metadata": {},
   "source": [
    "<center> <img src=\"../images/boxes1.png\"  style=\"height:200px;width:auto;\"/> </center>"
   ]
  },
  {
   "cell_type": "code",
   "execution_count": 68,
   "metadata": {
    "slideshow": {
     "slide_type": "-"
    }
   },
   "outputs": [
    {
     "data": {
      "text/html": [
       "<div>\n",
       "<style scoped>\n",
       "    .dataframe tbody tr th:only-of-type {\n",
       "        vertical-align: middle;\n",
       "    }\n",
       "\n",
       "    .dataframe tbody tr th {\n",
       "        vertical-align: top;\n",
       "    }\n",
       "\n",
       "    .dataframe thead th {\n",
       "        text-align: right;\n",
       "    }\n",
       "</style>\n",
       "<table border=\"1\" class=\"dataframe\">\n",
       "  <thead>\n",
       "    <tr style=\"text-align: right;\">\n",
       "      <th></th>\n",
       "      <th>width</th>\n",
       "      <th>height</th>\n",
       "    </tr>\n",
       "  </thead>\n",
       "  <tbody>\n",
       "    <tr>\n",
       "      <th>0</th>\n",
       "      <td>0.261707</td>\n",
       "      <td>0.931894</td>\n",
       "    </tr>\n",
       "    <tr>\n",
       "      <th>1</th>\n",
       "      <td>0.961950</td>\n",
       "      <td>0.040095</td>\n",
       "    </tr>\n",
       "    <tr>\n",
       "      <th>2</th>\n",
       "      <td>0.409250</td>\n",
       "      <td>0.020023</td>\n",
       "    </tr>\n",
       "  </tbody>\n",
       "</table>\n",
       "</div>"
      ],
      "text/plain": [
       "      width    height\n",
       "0  0.261707  0.931894\n",
       "1  0.961950  0.040095\n",
       "2  0.409250  0.020023"
      ]
     },
     "execution_count": 68,
     "metadata": {},
     "output_type": "execute_result"
    }
   ],
   "source": [
    "data = draw_uniform_data(100, (0, 1), (0, 1))\n",
    "feature_names = (\"width\", \"height\")\n",
    "pd.DataFrame(data, columns=feature_names).head(3)"
   ]
  },
  {
   "cell_type": "code",
   "execution_count": 69,
   "metadata": {
    "slideshow": {
     "slide_type": "subslide"
    }
   },
   "outputs": [
    {
     "data": {
      "image/png": "[encoded data removed]",
      "text/plain": [
       "<IPython.core.display.Image object>"
      ]
     },
     "execution_count": 69,
     "metadata": {},
     "output_type": "execute_result"
    }
   ],
   "source": [
    "layout = dict(width=800, height=600, yaxis=dict(title_text=\"height\"), xaxis=dict(title_text=\"width\"))\n",
    "plotter = Linear2D2ClassModelPlotter((0,1), (0,1), layout=layout)\n",
    "plotter.update_data_plots(data)\n",
    "plot_as_image(plotter())"
   ]
  },
  {
   "cell_type": "markdown",
   "metadata": {
    "slideshow": {
     "slide_type": "subslide"
    }
   },
   "source": [
    "### En lineær modell for boks-dataen\n",
    "\n",
    "Er dette en god modell for boks-dataen vår?"
   ]
  },
  {
   "cell_type": "code",
   "execution_count": 70,
   "metadata": {},
   "outputs": [
    {
     "data": {
      "image/png": "[encoded data removed]",
      "text/plain": [
       "<IPython.core.display.Image object>"
      ]
     },
     "execution_count": 70,
     "metadata": {},
     "output_type": "execute_result"
    }
   ],
   "source": [
    "plotter.update_model_area_plots(lambda x: 1.5*x+0.2)\n",
    "plot_as_image(plotter())"
   ]
  },
  {
   "cell_type": "markdown",
   "metadata": {
    "slideshow": {
     "slide_type": "fragment"
    }
   },
   "source": [
    "Umulig å vite. For å kunne en veiledet modell trenger vi noe som kan veilede modellen."
   ]
  },
  {
   "cell_type": "code",
   "execution_count": 71,
   "metadata": {
    "slideshow": {
     "slide_type": "skip"
    }
   },
   "outputs": [],
   "source": [
    "def predict(boolean_model, data, class_names):\n",
    "    label_ids = boolean_model(data)\n",
    "    label_names = np.asarray(class_names)\n",
    "    return label_names[label_ids.astype(int)]"
   ]
  },
  {
   "cell_type": "markdown",
   "metadata": {
    "slideshow": {
     "slide_type": "subslide"
    }
   },
   "source": [
    "### Tagging av hvert datapunkt\n",
    "\n",
    "- For å veilede modellen vår må hvert punkt tagges med en kategori eller tallverdi.\n",
    "- Mange potensielle måter å tagge boks-datapunktene våre, men én mulighet er å skille mellom \"vide\" og \"høye\" rektangler\n",
    "- Obs: dette er *ikke* et problem som bør løses med maskinlæring, men det lar seg fint gjøre om man har samlet data med disse taggene\n",
    "\n",
    "<center> <img src=\"../images/rectangle-classes.png\"  style=\"height:600px;width:auto;\"/> </center>"
   ]
  },
  {
   "cell_type": "markdown",
   "metadata": {
    "slideshow": {
     "slide_type": "subslide"
    }
   },
   "source": [
    "Vi vil da få et datasett på følgende format:"
   ]
  },
  {
   "cell_type": "code",
   "execution_count": 72,
   "metadata": {
    "slideshow": {
     "slide_type": "-"
    }
   },
   "outputs": [
    {
     "data": {
      "text/html": [
       "<div>\n",
       "<style scoped>\n",
       "    .dataframe tbody tr th:only-of-type {\n",
       "        vertical-align: middle;\n",
       "    }\n",
       "\n",
       "    .dataframe tbody tr th {\n",
       "        vertical-align: top;\n",
       "    }\n",
       "\n",
       "    .dataframe thead th {\n",
       "        text-align: right;\n",
       "    }\n",
       "</style>\n",
       "<table border=\"1\" class=\"dataframe\">\n",
       "  <thead>\n",
       "    <tr style=\"text-align: right;\">\n",
       "      <th></th>\n",
       "      <th>width</th>\n",
       "      <th>height</th>\n",
       "      <th>class</th>\n",
       "    </tr>\n",
       "  </thead>\n",
       "  <tbody>\n",
       "    <tr>\n",
       "      <th>0</th>\n",
       "      <td>0.26170669852979345</td>\n",
       "      <td>0.9318944292841388</td>\n",
       "      <td>Tall rectangle</td>\n",
       "    </tr>\n",
       "    <tr>\n",
       "      <th>1</th>\n",
       "      <td>0.961950178511407</td>\n",
       "      <td>0.04009495432748644</td>\n",
       "      <td>Wide rectangle</td>\n",
       "    </tr>\n",
       "    <tr>\n",
       "      <th>2</th>\n",
       "      <td>0.4092498214079292</td>\n",
       "      <td>0.02002321350618297</td>\n",
       "      <td>Wide rectangle</td>\n",
       "    </tr>\n",
       "    <tr>\n",
       "      <th>3</th>\n",
       "      <td>0.6658576331081809</td>\n",
       "      <td>0.6807852602098402</td>\n",
       "      <td>Tall rectangle</td>\n",
       "    </tr>\n",
       "    <tr>\n",
       "      <th>4</th>\n",
       "      <td>0.39970983500806556</td>\n",
       "      <td>0.39628426761678137</td>\n",
       "      <td>Wide rectangle</td>\n",
       "    </tr>\n",
       "  </tbody>\n",
       "</table>\n",
       "</div>"
      ],
      "text/plain": [
       "                 width               height           class\n",
       "0  0.26170669852979345   0.9318944292841388  Tall rectangle\n",
       "1    0.961950178511407  0.04009495432748644  Wide rectangle\n",
       "2   0.4092498214079292  0.02002321350618297  Wide rectangle\n",
       "3   0.6658576331081809   0.6807852602098402  Tall rectangle\n",
       "4  0.39970983500806556  0.39628426761678137  Wide rectangle"
      ]
     },
     "execution_count": 72,
     "metadata": {},
     "output_type": "execute_result"
    }
   ],
   "source": [
    "class_names = [\"Tall rectangle\", \"Wide rectangle\"]\n",
    "model = lambda data: data[:,0] > data[:,1]\n",
    "labels = predict(model, data, class_names)\n",
    "pd.DataFrame(np.asarray([*data.T, labels]).T, columns=(\"width\", \"height\", \"class\")).head(5)"
   ]
  },
  {
   "cell_type": "code",
   "execution_count": 73,
   "metadata": {
    "slideshow": {
     "slide_type": "subslide"
    }
   },
   "outputs": [
    {
     "data": {
      "image/png": "[encoded data removed]",
      "text/plain": [
       "<IPython.core.display.Image object>"
      ]
     },
     "execution_count": 73,
     "metadata": {},
     "output_type": "execute_result"
    }
   ],
   "source": [
    "plotter.disable_model_areas()\n",
    "plotter.update_data_plots(data, labels, unq_classes=class_names[::-1])\n",
    "plot_as_image(plotter())"
   ]
  },
  {
   "cell_type": "markdown",
   "metadata": {
    "slideshow": {
     "slide_type": "subslide"
    }
   },
   "source": [
    "### En lineær modell for å skille mellom vide og høye rektangler\n",
    "\n",
    "For å skille disse punktene fra hverandre kan vi trene en lineær modell vha veiledet læring. Kan vi nå si om modellen er god eller ikke?"
   ]
  },
  {
   "cell_type": "code",
   "execution_count": 74,
   "metadata": {
    "slideshow": {
     "slide_type": "-"
    }
   },
   "outputs": [
    {
     "data": {
      "image/png": "[encoded data removed]",
      "text/plain": [
       "<IPython.core.display.Image object>"
      ]
     },
     "execution_count": 74,
     "metadata": {},
     "output_type": "execute_result"
    }
   ],
   "source": [
    "lin_model = lambda x: 0.8*x + 0.1\n",
    "plotter.enable_model_areas()\n",
    "plotter.update_model_area_plots(lin_model)\n",
    "plot_as_image(plotter())"
   ]
  },
  {
   "cell_type": "markdown",
   "metadata": {
    "slideshow": {
     "slide_type": "fragment"
    }
   },
   "source": [
    "Ja, vi kan nå bruke kategoriene i datasettet vårt for å avgjøre om modellen er god eller om den må justeres."
   ]
  },
  {
   "cell_type": "markdown",
   "metadata": {
    "slideshow": {
     "slide_type": "subslide"
    }
   },
   "source": [
    "Med en trent modell kan vi gjøre prediksjoner for nye datapunkter. Vi kan da \"kaste vekk\" all dataen vi brukte for å trene den."
   ]
  },
  {
   "cell_type": "code",
   "execution_count": 75,
   "metadata": {
    "slideshow": {
     "slide_type": "-"
    }
   },
   "outputs": [
    {
     "data": {
      "image/png": "[encoded data removed]",
      "text/plain": [
       "<IPython.core.display.Image object>"
      ]
     },
     "execution_count": 75,
     "metadata": {},
     "output_type": "execute_result"
    }
   ],
   "source": [
    "plotter.disable_data_points()\n",
    "plot_as_image(plotter())"
   ]
  },
  {
   "cell_type": "code",
   "execution_count": 76,
   "metadata": {
    "slideshow": {
     "slide_type": "subslide"
    }
   },
   "outputs": [
    {
     "data": {
      "image/png": "[encoded data removed]",
      "text/plain": [
       "<IPython.core.display.Image object>"
      ]
     },
     "execution_count": 76,
     "metadata": {},
     "output_type": "execute_result"
    }
   ],
   "source": [
    "new_data = draw_uniform_data(1, (0,1), (0,1))\n",
    "plotter.update_data_plots(new_data)\n",
    "plotter.enable_data_points()\n",
    "plot_as_image(plotter())"
   ]
  },
  {
   "cell_type": "code",
   "execution_count": 77,
   "metadata": {
    "slideshow": {
     "slide_type": "skip"
    }
   },
   "outputs": [],
   "source": [
    "def predict_using_linear_model(lin_model, data, class_names):\n",
    "    label_ids = (lin_model(data[:,0]) > data[:,1]).astype(int)\n",
    "    return np.asarray(class_names)[label_ids]"
   ]
  },
  {
   "cell_type": "code",
   "execution_count": 78,
   "metadata": {
    "slideshow": {
     "slide_type": "subslide"
    }
   },
   "outputs": [
    {
     "data": {
      "image/png": "[encoded data removed]",
      "text/plain": [
       "<IPython.core.display.Image object>"
      ]
     },
     "execution_count": 78,
     "metadata": {},
     "output_type": "execute_result"
    }
   ],
   "source": [
    "labels = predict_using_linear_model(lin_model, new_data, class_names)\n",
    "plotter.update_data_plots(new_data, labels, unq_classes=class_names[::-1])\n",
    "plot_as_image(plotter())"
   ]
  },
  {
   "cell_type": "markdown",
   "metadata": {
    "slideshow": {
     "slide_type": "subslide"
    }
   },
   "source": [
    "## Hvordan forbedre modellen?\n",
    "\n",
    "For å finne ut hvordan modellen må endres kan vi definere en *feilfunkson* $E$ og bruke de deriverte av denne funksjonen mht parametere i modellen vår. Den deriverte for en parameter vil peke i retningen vi må endre parameteren for å redusere verdien av feilfunksjonen.\n",
    "\n",
    "$$\n",
    "\\frac{\\partial}{\\partial w_i}E(modell, data, klasser)\n",
    "$$\n",
    "Hvor modellen er en funksjon av $w_0, w_1,...,w_n$"
   ]
  },
  {
   "cell_type": "markdown",
   "metadata": {},
   "source": [
    "Link til presentasjon"
   ]
  },
  {
   "cell_type": "markdown",
   "metadata": {
    "slideshow": {
     "slide_type": "subslide"
    }
   },
   "source": [
    "### Psuedo-algoritme for veiledet læring ved \"gradient descent\" \n",
    "\n",
    "1. Start med en tilfeldig konfigurasjon av modellen\n",
    "2. Beregn de deriverte (aka gradientene, derav \"gradient descent\")\n",
    "3. Bruk disse for å oppdatere modellen\n",
    "4. Iterer steg 1-3 frem til endringene av modellen fra et steg til det neste blir for små (eller et annet stopp-kriterium er nådd)\n",
    "\n",
    "<center> <img src=\"../images/gradient-descent.jpg\"/> </center>"
   ]
  },
  {
   "cell_type": "markdown",
   "metadata": {
    "slideshow": {
     "slide_type": "subslide"
    }
   },
   "source": [
    "La oss teste dette opp boks-dataen vår. Vi vet at den korrekte linjen for å skille høye og vide rektangler vil være:\n",
    "$$y = w_0*x + w_1 = 1 * x + 0 = x$$"
   ]
  },
  {
   "cell_type": "markdown",
   "metadata": {
    "slideshow": {
     "slide_type": "skip"
    }
   },
   "source": [
    "NB: Hvis animasjonen under ikke kommer opp, prøv å gå kjøre \"File > Trust Notebook\""
   ]
  },
  {
   "cell_type": "code",
   "execution_count": 79,
   "metadata": {},
   "outputs": [
    {
     "data": {
      "application/vnd.plotly.v1+json": {
       "config": {
        "plotlyServerURL": "https://plot.ly"
       },
       "data": [
        {
         "fill": "toself",
         "fillcolor": "rgba(255,65,54,0.5)",
         "hoverinfo": "none",
         "mode": "none",
         "showlegend": false,
         "type": "scatter",
         "x": [],
         "y": []
        },
        {
         "fill": "toself",
         "fillcolor": "rgba(0,116,217,0.5)",
         "hoverinfo": "none",
         "mode": "none",
         "showlegend": false,
         "type": "scatter",
         "x": [],
         "y": []
        },
        {
         "marker": {
          "color": "black"
         },
         "mode": "lines",
         "showlegend": false,
         "type": "scatter",
         "x": [],
         "y": []
        },
        {
         "marker": {
          "color": "rgba(255,65,54,1.0)",
          "line": {
           "width": 1
          },
          "size": 10
         },
         "mode": "markers",
         "name": "Wide rectangle",
         "type": "scatter",
         "x": [
          0.44051799812173,
          0.8543965456005086,
          0.7255081105707019,
          0.7480368908095076,
          0.4452085663271813,
          0.8435906661236476,
          0.7182654170428144,
          0.7436641533619085,
          0.08950273987069168,
          0.495766196593736,
          0.8942385800900601,
          0.9269315996859322,
          0.2657752725998307,
          0.5919386946702181,
          0.7718062870843961,
          0.8703250892790056,
          0.8865793352297818,
          0.9764754300923246,
          0.6545039036928265,
          0.6960716913286437,
          0.7507778706940614,
          0.7804659731341886,
          0.8103740855653481,
          0.47707458489549526,
          0.4916327944842801,
          0.7539363323288104,
          0.7558450879575613,
          0.8774868868021537,
          0.9001969538038834,
          0.773936571764432,
          0.4170519057423736,
          0.7552913822250245,
          0.959768973928649,
          0.9899911743685759,
          0.9495866581746308,
          0.5515844711550574,
          0.8099853966741667,
          0.5353701119658137,
          0.9926124564741647,
          0.7553038476113354,
          0.5949087280860734,
          0.5393629473742065,
          0.14663982005222953,
          0.32924363012599167,
          0.9027265969167546,
          0.5817439028050546,
          0.7246444025501328,
          0.6658841553026841,
          0.681482288147163,
          0.5260782152593464,
          0.9589603268324918
         ],
         "y": [
          0.12419065064571977,
          0.15815673109204442,
          0.2224922709833942,
          0.4345468944770895,
          0.19762137504490696,
          0.6795474879436343,
          0.39451694484052846,
          0.5404552267341077,
          0.0463227445816099,
          0.22825335103482813,
          0.8344964010766797,
          0.42318740914503394,
          0.10102202557126261,
          0.2934792403542814,
          0.2960687662465976,
          0.5987671042084711,
          0.5912778666991675,
          0.10635067985385771,
          0.3479475858333573,
          0.4099009576119915,
          0.21999355490445227,
          0.6724120421875364,
          0.8017853469863302,
          0.22187437587508319,
          0.34963999393090084,
          0.5525653986732428,
          0.3385889942398336,
          0.721672052473872,
          0.2552861206360203,
          0.36212170923113685,
          0.1260746014699572,
          0.4325305467071603,
          0.4682115425311111,
          0.5460093007049659,
          0.4399069408780698,
          0.4612437776882061,
          0.07075150466281466,
          0.3986274422397591,
          0.13926052920932896,
          0.03248330693857915,
          0.5019213629242631,
          0.2999836125230092,
          0.1252287339530015,
          0.2115893343466686,
          0.3574881681422373,
          0.4395583943810224,
          0.5501877815276909,
          0.5412314161849796,
          0.17806972809619215,
          0.3143620197265852,
          0.6374607130443366
         ]
        },
        {
         "marker": {
          "color": "rgba(0,116,217,1.0)",
          "line": {
           "width": 1
          },
          "size": 10
         },
         "mode": "markers",
         "name": "Tall rectangle",
         "type": "scatter",
         "x": [
          0.3213476866448205,
          0.14089631679047587,
          0.1622517416658753,
          0.5416079201492549,
          0.5447066849064535,
          0.6994701779747716,
          0.1691991487438269,
          0.36729673928189743,
          0.5543450694480405,
          0.5016610523020265,
          0.5302852602107515,
          0.09630868513201718,
          0.23148337806555142,
          0.9251344000489301,
          0.5832075595398956,
          0.28371671349943617,
          0.3519078637276314,
          0.42191961749412743,
          0.4947282737806724,
          0.4613818697678316,
          0.856271400876497,
          0.22717670022530323,
          0.2613316591862963,
          0.6684592175732779,
          0.4705483391708434,
          0.14667405384823906,
          0.3018999004676659,
          0.6205794595707232,
          0.016612977155924358,
          0.7223401906896213,
          0.555346107474907,
          0.3618681191828055,
          0.14991899678673715,
          0.7708175949700772,
          0.4273850881671568,
          0.044324928939636576,
          0.18537737791256992,
          0.1378110413385939,
          0.06534235996369309,
          0.09103730250778552,
          0.12073117109988107,
          0.16131734916408647,
          0.22741777510504568,
          0.2216318489730763,
          0.17543085540627823,
          0.15135653514860237,
          0.11412041885318924,
          0.3014875866477954,
          0.46980601340200967
         ],
         "y": [
          0.3746891013922862,
          0.8614772865241659,
          0.18302269009758865,
          0.7888519353919126,
          0.6596990517840151,
          0.9750562112965712,
          0.9938772761539765,
          0.833249965523311,
          0.780192424650914,
          0.6044267269122696,
          0.8454186699925377,
          0.9852434898611708,
          0.8844134657619113,
          0.9596633647445603,
          0.6913217922214538,
          0.6889138073272006,
          0.4838528348731356,
          0.9248398906521342,
          0.729326766771112,
          0.841274900273438,
          0.9495010587574801,
          0.8182904935957901,
          0.8121209537869176,
          0.792031855447412,
          0.5909679476374246,
          0.5091561674569952,
          0.7284169427650456,
          0.9932020877636848,
          0.9491129156001614,
          0.7609529908382978,
          0.8607028872778697,
          0.49488018051596594,
          0.8909179178980392,
          0.9193514624593639,
          0.6612338047214045,
          0.3915582649532393,
          0.6789464341146406,
          0.3785102936706026,
          0.6572397316792568,
          0.9495977354242653,
          0.973480552898213,
          0.9285631858716702,
          0.5253233353882558,
          0.6888495462757216,
          0.33864964313525403,
          0.23846086430120117,
          0.7064127418129168,
          0.30545756743933883,
          0.48193439978244357
         ]
        }
       ],
       "frames": [
        {
         "data": [
          {
           "fill": "toself",
           "fillcolor": "rgba(255,65,54,0.5)",
           "hoverinfo": "none",
           "mode": "none",
           "showlegend": false,
           "type": "scatter",
           "x": [
            1.05,
            1.05,
            -0.05,
            -0.05,
            1.05
           ],
           "y": [
            0.4098166605446022,
            -0.05,
            -0.05,
            0.7450079542548425,
            0.4098166605446022
           ]
          },
          {
           "fill": "toself",
           "fillcolor": "rgba(0,116,217,0.5)",
           "hoverinfo": "none",
           "mode": "none",
           "showlegend": false,
           "type": "scatter",
           "x": [
            -0.05,
            -0.05,
            1.05,
            1.05,
            -0.05
           ],
           "y": [
            0.7450079542548425,
            1.05,
            1.05,
            0.4098166605446022,
            0.7450079542548425
           ]
          }
         ],
         "layout": {
          "title": {
           "text": " Model: -0.30*x + 0.73"
          }
         }
        },
        {
         "data": [
          {
           "fill": "toself",
           "fillcolor": "rgba(255,65,54,0.5)",
           "hoverinfo": "none",
           "mode": "none",
           "showlegend": false,
           "type": "scatter",
           "x": [
            1.05,
            1.05,
            -0.05,
            -0.05,
            1.05
           ],
           "y": [
            0.5188089120863125,
            -0.05,
            -0.05,
            0.649669874395265,
            0.5188089120863125
           ]
          },
          {
           "fill": "toself",
           "fillcolor": "rgba(0,116,217,0.5)",
           "hoverinfo": "none",
           "mode": "none",
           "showlegend": false,
           "type": "scatter",
           "x": [
            -0.05,
            -0.05,
            1.05,
            1.05,
            -0.05
           ],
           "y": [
            0.649669874395265,
            1.05,
            1.05,
            0.5188089120863125,
            0.649669874395265
           ]
          }
         ],
         "layout": {
          "title": {
           "text": " Model: -0.12*x + 0.64"
          }
         }
        },
        {
         "data": [
          {
           "fill": "toself",
           "fillcolor": "rgba(255,65,54,0.5)",
           "hoverinfo": "none",
           "mode": "none",
           "showlegend": false,
           "type": "scatter",
           "x": [
            1.05,
            1.05,
            -0.05,
            -0.05,
            1.05
           ],
           "y": [
            0.5910148788426952,
            -0.05,
            -0.05,
            0.5707388221476042,
            0.5910148788426952
           ]
          },
          {
           "fill": "toself",
           "fillcolor": "rgba(0,116,217,0.5)",
           "hoverinfo": "none",
           "mode": "none",
           "showlegend": false,
           "type": "scatter",
           "x": [
            -0.05,
            -0.05,
            1.05,
            1.05,
            -0.05
           ],
           "y": [
            0.5707388221476042,
            1.05,
            1.05,
            0.5910148788426952,
            0.5707388221476042
           ]
          }
         ],
         "layout": {
          "title": {
           "text": " Model: 0.02*x + 0.57"
          }
         }
        },
        {
         "data": [
          {
           "fill": "toself",
           "fillcolor": "rgba(255,65,54,0.5)",
           "hoverinfo": "none",
           "mode": "none",
           "showlegend": false,
           "type": "scatter",
           "x": [
            1.05,
            1.05,
            -0.05,
            -0.05,
            1.05
           ],
           "y": [
            0.6437895515377721,
            -0.05,
            -0.05,
            0.5070865875879589,
            0.6437895515377721
           ]
          },
          {
           "fill": "toself",
           "fillcolor": "rgba(0,116,217,0.5)",
           "hoverinfo": "none",
           "mode": "none",
           "showlegend": false,
           "type": "scatter",
           "x": [
            -0.05,
            -0.05,
            1.05,
            1.05,
            -0.05
           ],
           "y": [
            0.5070865875879589,
            1.05,
            1.05,
            0.6437895515377721,
            0.5070865875879589
           ]
          }
         ],
         "layout": {
          "title": {
           "text": " Model: 0.12*x + 0.51"
          }
         }
        },
        {
         "data": [
          {
           "fill": "toself",
           "fillcolor": "rgba(255,65,54,0.5)",
           "hoverinfo": "none",
           "mode": "none",
           "showlegend": false,
           "type": "scatter",
           "x": [
            1.05,
            1.05,
            -0.05,
            -0.05,
            1.05
           ],
           "y": [
            0.688897631605186,
            -0.05,
            -0.05,
            0.4503689044073313,
            0.688897631605186
           ]
          },
          {
           "fill": "toself",
           "fillcolor": "rgba(0,116,217,0.5)",
           "hoverinfo": "none",
           "mode": "none",
           "showlegend": false,
           "type": "scatter",
           "x": [
            -0.05,
            -0.05,
            1.05,
            1.05,
            -0.05
           ],
           "y": [
            0.4503689044073313,
            1.05,
            1.05,
            0.688897631605186,
            0.4503689044073313
           ]
          }
         ],
         "layout": {
          "title": {
           "text": " Model: 0.22*x + 0.46"
          }
         }
        },
        {
         "data": [
          {
           "fill": "toself",
           "fillcolor": "rgba(255,65,54,0.5)",
           "hoverinfo": "none",
           "mode": "none",
           "showlegend": false,
           "type": "scatter",
           "x": [
            1.05,
            1.05,
            -0.05,
            -0.05,
            1.05
           ],
           "y": [
            0.7246565483001411,
            -0.05,
            -0.05,
            0.40461481197917176,
            0.7246565483001411
           ]
          },
          {
           "fill": "toself",
           "fillcolor": "rgba(0,116,217,0.5)",
           "hoverinfo": "none",
           "mode": "none",
           "showlegend": false,
           "type": "scatter",
           "x": [
            -0.05,
            -0.05,
            1.05,
            1.05,
            -0.05
           ],
           "y": [
            0.40461481197917176,
            1.05,
            1.05,
            0.7246565483001411,
            0.40461481197917176
           ]
          }
         ],
         "layout": {
          "title": {
           "text": " Model: 0.29*x + 0.42"
          }
         }
        },
        {
         "data": [
          {
           "fill": "toself",
           "fillcolor": "rgba(255,65,54,0.5)",
           "hoverinfo": "none",
           "mode": "none",
           "showlegend": false,
           "type": "scatter",
           "x": [
            1.05,
            1.05,
            -0.05,
            -0.05,
            1.05
           ],
           "y": [
            0.7564751009562892,
            -0.05,
            -0.05,
            0.3635363130897786,
            0.7564751009562892
           ]
          },
          {
           "fill": "toself",
           "fillcolor": "rgba(0,116,217,0.5)",
           "hoverinfo": "none",
           "mode": "none",
           "showlegend": false,
           "type": "scatter",
           "x": [
            -0.05,
            -0.05,
            1.05,
            1.05,
            -0.05
           ],
           "y": [
            0.3635363130897786,
            1.05,
            1.05,
            0.7564751009562892,
            0.3635363130897786
           ]
          }
         ],
         "layout": {
          "title": {
           "text": " Model: 0.36*x + 0.38"
          }
         }
        },
        {
         "data": [
          {
           "fill": "toself",
           "fillcolor": "rgba(255,65,54,0.5)",
           "hoverinfo": "none",
           "mode": "none",
           "showlegend": false,
           "type": "scatter",
           "x": [
            1.05,
            1.05,
            -0.05,
            -0.05,
            1.05
           ],
           "y": [
            0.784694772087564,
            -0.05,
            -0.05,
            0.3268144792523975,
            0.784694772087564
           ]
          },
          {
           "fill": "toself",
           "fillcolor": "rgba(0,116,217,0.5)",
           "hoverinfo": "none",
           "mode": "none",
           "showlegend": false,
           "type": "scatter",
           "x": [
            -0.05,
            -0.05,
            1.05,
            1.05,
            -0.05
           ],
           "y": [
            0.3268144792523975,
            1.05,
            1.05,
            0.784694772087564,
            0.3268144792523975
           ]
          }
         ],
         "layout": {
          "title": {
           "text": " Model: 0.42*x + 0.35"
          }
         }
        },
        {
         "data": [
          {
           "fill": "toself",
           "fillcolor": "rgba(255,65,54,0.5)",
           "hoverinfo": "none",
           "mode": "none",
           "showlegend": false,
           "type": "scatter",
           "x": [
            1.05,
            1.05,
            -0.05,
            -0.05,
            1.05
           ],
           "y": [
            0.8079139411961265,
            -0.05,
            -0.05,
            0.2963263767660661,
            0.8079139411961265
           ]
          },
          {
           "fill": "toself",
           "fillcolor": "rgba(0,116,217,0.5)",
           "hoverinfo": "none",
           "mode": "none",
           "showlegend": false,
           "type": "scatter",
           "x": [
            -0.05,
            -0.05,
            1.05,
            1.05,
            -0.05
           ],
           "y": [
            0.2963263767660661,
            1.05,
            1.05,
            0.8079139411961265,
            0.2963263767660661
           ]
          }
         ],
         "layout": {
          "title": {
           "text": " Model: 0.47*x + 0.32"
          }
         }
        },
        {
         "data": [
          {
           "fill": "toself",
           "fillcolor": "rgba(255,65,54,0.5)",
           "hoverinfo": "none",
           "mode": "none",
           "showlegend": false,
           "type": "scatter",
           "x": [
            1.05,
            1.05,
            -0.05,
            -0.05,
            1.05
           ],
           "y": [
            0.828839086607072,
            -0.05,
            -0.05,
            0.26855875552796804,
            0.828839086607072
           ]
          },
          {
           "fill": "toself",
           "fillcolor": "rgba(0,116,217,0.5)",
           "hoverinfo": "none",
           "mode": "none",
           "showlegend": false,
           "type": "scatter",
           "x": [
            -0.05,
            -0.05,
            1.05,
            1.05,
            -0.05
           ],
           "y": [
            0.26855875552796804,
            1.05,
            1.05,
            0.828839086607072,
            0.26855875552796804
           ]
          }
         ],
         "layout": {
          "title": {
           "text": " Model: 0.51*x + 0.29"
          }
         }
        },
        {
         "data": [
          {
           "fill": "toself",
           "fillcolor": "rgba(255,65,54,0.5)",
           "hoverinfo": "none",
           "mode": "none",
           "showlegend": false,
           "type": "scatter",
           "x": [
            1.05,
            1.05,
            -0.05,
            -0.05,
            1.05
           ],
           "y": [
            0.8476409426273539,
            -0.05,
            -0.05,
            0.24329818343872434,
            0.8476409426273539
           ]
          },
          {
           "fill": "toself",
           "fillcolor": "rgba(0,116,217,0.5)",
           "hoverinfo": "none",
           "mode": "none",
           "showlegend": false,
           "type": "scatter",
           "x": [
            -0.05,
            -0.05,
            1.05,
            1.05,
            -0.05
           ],
           "y": [
            0.24329818343872434,
            1.05,
            1.05,
            0.8476409426273539,
            0.24329818343872434
           ]
          }
         ],
         "layout": {
          "title": {
           "text": " Model: 0.55*x + 0.27"
          }
         }
        },
        {
         "data": [
          {
           "fill": "toself",
           "fillcolor": "rgba(255,65,54,0.5)",
           "hoverinfo": "none",
           "mode": "none",
           "showlegend": false,
           "type": "scatter",
           "x": [
            1.05,
            1.05,
            -0.05,
            -0.05,
            1.05
           ],
           "y": [
            0.8645112998011459,
            -0.05,
            -0.05,
            0.22031744261690564,
            0.8645112998011459
           ]
          },
          {
           "fill": "toself",
           "fillcolor": "rgba(0,116,217,0.5)",
           "hoverinfo": "none",
           "mode": "none",
           "showlegend": false,
           "type": "scatter",
           "x": [
            -0.05,
            -0.05,
            1.05,
            1.05,
            -0.05
           ],
           "y": [
            0.22031744261690564,
            1.05,
            1.05,
            0.8645112998011459,
            0.22031744261690564
           ]
          }
         ],
         "layout": {
          "title": {
           "text": " Model: 0.59*x + 0.25"
          }
         }
        },
        {
         "data": [
          {
           "fill": "toself",
           "fillcolor": "rgba(255,65,54,0.5)",
           "hoverinfo": "none",
           "mode": "none",
           "showlegend": false,
           "type": "scatter",
           "x": [
            1.05,
            1.05,
            -0.05,
            -0.05,
            1.05
           ],
           "y": [
            0.8796451011042448,
            -0.05,
            -0.05,
            0.19939465741359336,
            0.8796451011042448
           ]
          },
          {
           "fill": "toself",
           "fillcolor": "rgba(0,116,217,0.5)",
           "hoverinfo": "none",
           "mode": "none",
           "showlegend": false,
           "type": "scatter",
           "x": [
            -0.05,
            -0.05,
            1.05,
            1.05,
            -0.05
           ],
           "y": [
            0.19939465741359336,
            1.05,
            1.05,
            0.8796451011042448,
            0.19939465741359336
           ]
          }
         ],
         "layout": {
          "title": {
           "text": " Model: 0.62*x + 0.23"
          }
         }
        },
        {
         "data": [
          {
           "fill": "toself",
           "fillcolor": "rgba(255,65,54,0.5)",
           "hoverinfo": "none",
           "mode": "none",
           "showlegend": false,
           "type": "scatter",
           "x": [
            1.05,
            1.05,
            -0.05,
            -0.05,
            1.05
           ],
           "y": [
            0.8932292208356043,
            -0.05,
            -0.05,
            0.18032300267809703,
            0.8932292208356043
           ]
          },
          {
           "fill": "toself",
           "fillcolor": "rgba(0,116,217,0.5)",
           "hoverinfo": "none",
           "mode": "none",
           "showlegend": false,
           "type": "scatter",
           "x": [
            -0.05,
            -0.05,
            1.05,
            1.05,
            -0.05
           ],
           "y": [
            0.18032300267809703,
            1.05,
            1.05,
            0.8932292208356043,
            0.18032300267809703
           ]
          }
         ],
         "layout": {
          "title": {
           "text": " Model: 0.65*x + 0.21"
          }
         }
        },
        {
         "data": [
          {
           "fill": "toself",
           "fillcolor": "rgba(255,65,54,0.5)",
           "hoverinfo": "none",
           "mode": "none",
           "showlegend": false,
           "type": "scatter",
           "x": [
            1.05,
            1.05,
            -0.05,
            -0.05,
            1.05
           ],
           "y": [
            0.9054363179993322,
            -0.05,
            -0.05,
            0.16291474262904435,
            0.9054363179993322
           ]
          },
          {
           "fill": "toself",
           "fillcolor": "rgba(0,116,217,0.5)",
           "hoverinfo": "none",
           "mode": "none",
           "showlegend": false,
           "type": "scatter",
           "x": [
            -0.05,
            -0.05,
            1.05,
            1.05,
            -0.05
           ],
           "y": [
            0.16291474262904435,
            1.05,
            1.05,
            0.9054363179993322,
            0.16291474262904435
           ]
          }
         ],
         "layout": {
          "title": {
           "text": " Model: 0.68*x + 0.20"
          }
         }
        },
        {
         "data": [
          {
           "fill": "toself",
           "fillcolor": "rgba(255,65,54,0.5)",
           "hoverinfo": "none",
           "mode": "none",
           "showlegend": false,
           "type": "scatter",
           "x": [
            1.05,
            1.05,
            -0.05,
            -0.05,
            1.05
           ],
           "y": [
            0.9164221573291148,
            -0.05,
            -0.05,
            0.14700202922158817,
            0.9164221573291148
           ]
          },
          {
           "fill": "toself",
           "fillcolor": "rgba(0,116,217,0.5)",
           "hoverinfo": "none",
           "mode": "none",
           "showlegend": false,
           "type": "scatter",
           "x": [
            -0.05,
            -0.05,
            1.05,
            1.05,
            -0.05
           ],
           "y": [
            0.14700202922158817,
            1.05,
            1.05,
            0.9164221573291148,
            0.14700202922158817
           ]
          }
         ],
         "layout": {
          "title": {
           "text": " Model: 0.70*x + 0.18"
          }
         }
        },
        {
         "data": [
          {
           "fill": "toself",
           "fillcolor": "rgba(255,65,54,0.5)",
           "hoverinfo": "none",
           "mode": "none",
           "showlegend": false,
           "type": "scatter",
           "x": [
            1.05,
            1.05,
            -0.05,
            -0.05,
            1.05
           ],
           "y": [
            0.9263251151545796,
            -0.05,
            -0.05,
            0.13243598642548438,
            0.9263251151545796
           ]
          },
          {
           "fill": "toself",
           "fillcolor": "rgba(0,116,217,0.5)",
           "hoverinfo": "none",
           "mode": "none",
           "showlegend": false,
           "type": "scatter",
           "x": [
            -0.05,
            -0.05,
            1.05,
            1.05,
            -0.05
           ],
           "y": [
            0.13243598642548438,
            1.05,
            1.05,
            0.9263251151545796,
            0.13243598642548438
           ]
          }
         ],
         "layout": {
          "title": {
           "text": " Model: 0.72*x + 0.17"
          }
         }
        },
        {
         "data": [
          {
           "fill": "toself",
           "fillcolor": "rgba(255,65,54,0.5)",
           "hoverinfo": "none",
           "mode": "none",
           "showlegend": false,
           "type": "scatter",
           "x": [
            1.05,
            1.05,
            -0.05,
            -0.05,
            1.05
           ],
           "y": [
            0.9356608593892997,
            -0.05,
            -0.05,
            0.11849225023974201,
            0.9356608593892997
           ]
          },
          {
           "fill": "toself",
           "fillcolor": "rgba(0,116,217,0.5)",
           "hoverinfo": "none",
           "mode": "none",
           "showlegend": false,
           "type": "scatter",
           "x": [
            -0.05,
            -0.05,
            1.05,
            1.05,
            -0.05
           ],
           "y": [
            0.11849225023974201,
            1.05,
            1.05,
            0.9356608593892997,
            0.11849225023974201
           ]
          }
         ],
         "layout": {
          "title": {
           "text": " Model: 0.74*x + 0.16"
          }
         }
        },
        {
         "data": [
          {
           "fill": "toself",
           "fillcolor": "rgba(255,65,54,0.5)",
           "hoverinfo": "none",
           "mode": "none",
           "showlegend": false,
           "type": "scatter",
           "x": [
            1.05,
            1.05,
            -0.05,
            -0.05,
            1.05
           ],
           "y": [
            0.9440336363383461,
            -0.05,
            -0.05,
            0.10579531874459316,
            0.9440336363383461
           ]
          },
          {
           "fill": "toself",
           "fillcolor": "rgba(0,116,217,0.5)",
           "hoverinfo": "none",
           "mode": "none",
           "showlegend": false,
           "type": "scatter",
           "x": [
            -0.05,
            -0.05,
            1.05,
            1.05,
            -0.05
           ],
           "y": [
            0.10579531874459316,
            1.05,
            1.05,
            0.9440336363383461,
            0.10579531874459316
           ]
          }
         ],
         "layout": {
          "title": {
           "text": " Model: 0.76*x + 0.14"
          }
         }
        },
        {
         "data": [
          {
           "fill": "toself",
           "fillcolor": "rgba(255,65,54,0.5)",
           "hoverinfo": "none",
           "mode": "none",
           "showlegend": false,
           "type": "scatter",
           "x": [
            1.05,
            1.05,
            -0.05,
            -0.05,
            1.05
           ],
           "y": [
            0.9515622718827308,
            -0.05,
            -0.05,
            0.09420985883707564,
            0.9515622718827308
           ]
          },
          {
           "fill": "toself",
           "fillcolor": "rgba(0,116,217,0.5)",
           "hoverinfo": "none",
           "mode": "none",
           "showlegend": false,
           "type": "scatter",
           "x": [
            -0.05,
            -0.05,
            1.05,
            1.05,
            -0.05
           ],
           "y": [
            0.09420985883707564,
            1.05,
            1.05,
            0.9515622718827308,
            0.09420985883707564
           ]
          }
         ],
         "layout": {
          "title": {
           "text": " Model: 0.78*x + 0.13"
          }
         }
        },
        {
         "data": [
          {
           "fill": "toself",
           "fillcolor": "rgba(255,65,54,0.5)",
           "hoverinfo": "none",
           "mode": "none",
           "showlegend": false,
           "type": "scatter",
           "x": [
            1.05,
            1.05,
            -0.05,
            -0.05,
            1.05
           ],
           "y": [
            0.9585994590995904,
            -0.05,
            -0.05,
            0.08322330820037772,
            0.9585994590995904
           ]
          },
          {
           "fill": "toself",
           "fillcolor": "rgba(0,116,217,0.5)",
           "hoverinfo": "none",
           "mode": "none",
           "showlegend": false,
           "type": "scatter",
           "x": [
            -0.05,
            -0.05,
            1.05,
            1.05,
            -0.05
           ],
           "y": [
            0.08322330820037772,
            1.05,
            1.05,
            0.9585994590995904,
            0.08322330820037772
           ]
          }
         ],
         "layout": {
          "title": {
           "text": " Model: 0.80*x + 0.12"
          }
         }
        },
        {
         "data": [
          {
           "fill": "toself",
           "fillcolor": "rgba(255,65,54,0.5)",
           "hoverinfo": "none",
           "mode": "none",
           "showlegend": false,
           "type": "scatter",
           "x": [
            1.05,
            1.05,
            -0.05,
            -0.05,
            1.05
           ],
           "y": [
            0.9649124033083561,
            -0.05,
            -0.05,
            0.07322625346664215,
            0.9649124033083561
           ]
          },
          {
           "fill": "toself",
           "fillcolor": "rgba(0,116,217,0.5)",
           "hoverinfo": "none",
           "mode": "none",
           "showlegend": false,
           "type": "scatter",
           "x": [
            -0.05,
            -0.05,
            1.05,
            1.05,
            -0.05
           ],
           "y": [
            0.07322625346664215,
            1.05,
            1.05,
            0.9649124033083561,
            0.07322625346664215
           ]
          }
         ],
         "layout": {
          "title": {
           "text": " Model: 0.81*x + 0.11"
          }
         }
        },
        {
         "data": [
          {
           "fill": "toself",
           "fillcolor": "rgba(255,65,54,0.5)",
           "hoverinfo": "none",
           "mode": "none",
           "showlegend": false,
           "type": "scatter",
           "x": [
            1.05,
            1.05,
            -0.05,
            -0.05,
            1.05
           ],
           "y": [
            0.9707783809233095,
            -0.05,
            -0.05,
            0.063805833977916,
            0.9707783809233095
           ]
          },
          {
           "fill": "toself",
           "fillcolor": "rgba(0,116,217,0.5)",
           "hoverinfo": "none",
           "mode": "none",
           "showlegend": false,
           "type": "scatter",
           "x": [
            -0.05,
            -0.05,
            1.05,
            1.05,
            -0.05
           ],
           "y": [
            0.063805833977916,
            1.05,
            1.05,
            0.9707783809233095,
            0.063805833977916
           ]
          }
         ],
         "layout": {
          "title": {
           "text": " Model: 0.82*x + 0.11"
          }
         }
        },
        {
         "data": [
          {
           "fill": "toself",
           "fillcolor": "rgba(255,65,54,0.5)",
           "hoverinfo": "none",
           "mode": "none",
           "showlegend": false,
           "type": "scatter",
           "x": [
            1.05,
            1.05,
            -0.05,
            -0.05,
            1.05
           ],
           "y": [
            0.9761977002134885,
            -0.05,
            -0.05,
            0.05497901899223338,
            0.9761977002134885
           ]
          },
          {
           "fill": "toself",
           "fillcolor": "rgba(0,116,217,0.5)",
           "hoverinfo": "none",
           "mode": "none",
           "showlegend": false,
           "type": "scatter",
           "x": [
            -0.05,
            -0.05,
            1.05,
            1.05,
            -0.05
           ],
           "y": [
            0.05497901899223338,
            1.05,
            1.05,
            0.9761977002134885,
            0.05497901899223338
           ]
          }
         ],
         "layout": {
          "title": {
           "text": " Model: 0.84*x + 0.10"
          }
         }
        },
        {
         "data": [
          {
           "fill": "toself",
           "fillcolor": "rgba(255,65,54,0.5)",
           "hoverinfo": "none",
           "mode": "none",
           "showlegend": false,
           "type": "scatter",
           "x": [
            1.05,
            1.05,
            -0.05,
            -0.05,
            1.05
           ],
           "y": [
            0.9810398944095811,
            -0.05,
            -0.05,
            0.04698081455066277,
            0.9810398944095811
           ]
          },
          {
           "fill": "toself",
           "fillcolor": "rgba(0,116,217,0.5)",
           "hoverinfo": "none",
           "mode": "none",
           "showlegend": false,
           "type": "scatter",
           "x": [
            -0.05,
            -0.05,
            1.05,
            1.05,
            -0.05
           ],
           "y": [
            0.04698081455066277,
            1.05,
            1.05,
            0.9810398944095811,
            0.04698081455066277
           ]
          }
         ],
         "layout": {
          "title": {
           "text": " Model: 0.85*x + 0.09"
          }
         }
        },
        {
         "data": [
          {
           "fill": "toself",
           "fillcolor": "rgba(255,65,54,0.5)",
           "hoverinfo": "none",
           "mode": "none",
           "showlegend": false,
           "type": "scatter",
           "x": [
            1.05,
            1.05,
            -0.05,
            -0.05,
            1.05
           ],
           "y": [
            0.9855004233765158,
            -0.05,
            -0.05,
            0.039509280600998536,
            0.9855004233765158
           ]
          },
          {
           "fill": "toself",
           "fillcolor": "rgba(0,116,217,0.5)",
           "hoverinfo": "none",
           "mode": "none",
           "showlegend": false,
           "type": "scatter",
           "x": [
            -0.05,
            -0.05,
            1.05,
            1.05,
            -0.05
           ],
           "y": [
            0.039509280600998536,
            1.05,
            1.05,
            0.9855004233765158,
            0.039509280600998536
           ]
          }
         ],
         "layout": {
          "title": {
           "text": " Model: 0.86*x + 0.08"
          }
         }
        },
        {
         "data": [
          {
           "fill": "toself",
           "fillcolor": "rgba(255,65,54,0.5)",
           "hoverinfo": "none",
           "mode": "none",
           "showlegend": false,
           "type": "scatter",
           "x": [
            1.05,
            1.05,
            -0.05,
            -0.05,
            1.05
           ],
           "y": [
            0.9895930543334975,
            -0.05,
            -0.05,
            0.032555776861116,
            0.9895930543334975
           ]
          },
          {
           "fill": "toself",
           "fillcolor": "rgba(0,116,217,0.5)",
           "hoverinfo": "none",
           "mode": "none",
           "showlegend": false,
           "type": "scatter",
           "x": [
            -0.05,
            -0.05,
            1.05,
            1.05,
            -0.05
           ],
           "y": [
            0.032555776861116,
            1.05,
            1.05,
            0.9895930543334975,
            0.032555776861116
           ]
          }
         ],
         "layout": {
          "title": {
           "text": " Model: 0.87*x + 0.08"
          }
         }
        },
        {
         "data": [
          {
           "fill": "toself",
           "fillcolor": "rgba(255,65,54,0.5)",
           "hoverinfo": "none",
           "mode": "none",
           "showlegend": false,
           "type": "scatter",
           "x": [
            1.05,
            1.05,
            -0.05,
            -0.05,
            1.05
           ],
           "y": [
            0.9933355672104717,
            -0.05,
            -0.05,
            0.026104194569167405,
            0.9933355672104717
           ]
          },
          {
           "fill": "toself",
           "fillcolor": "rgba(0,116,217,0.5)",
           "hoverinfo": "none",
           "mode": "none",
           "showlegend": false,
           "type": "scatter",
           "x": [
            -0.05,
            -0.05,
            1.05,
            1.05,
            -0.05
           ],
           "y": [
            0.026104194569167405,
            1.05,
            1.05,
            0.9933355672104717,
            0.026104194569167405
           ]
          }
         ],
         "layout": {
          "title": {
           "text": " Model: 0.88*x + 0.07"
          }
         }
        },
        {
         "data": [
          {
           "fill": "toself",
           "fillcolor": "rgba(255,65,54,0.5)",
           "hoverinfo": "none",
           "mode": "none",
           "showlegend": false,
           "type": "scatter",
           "x": [
            1.05,
            1.05,
            -0.05,
            -0.05,
            1.05
           ],
           "y": [
            0.9967482907125416,
            -0.05,
            -0.05,
            0.020133166562831324,
            0.9967482907125416
           ]
          },
          {
           "fill": "toself",
           "fillcolor": "rgba(0,116,217,0.5)",
           "hoverinfo": "none",
           "mode": "none",
           "showlegend": false,
           "type": "scatter",
           "x": [
            -0.05,
            -0.05,
            1.05,
            1.05,
            -0.05
           ],
           "y": [
            0.020133166562831324,
            1.05,
            1.05,
            0.9967482907125416,
            0.020133166562831324
           ]
          }
         ],
         "layout": {
          "title": {
           "text": " Model: 0.89*x + 0.06"
          }
         }
        },
        {
         "data": [
          {
           "fill": "toself",
           "fillcolor": "rgba(255,65,54,0.5)",
           "hoverinfo": "none",
           "mode": "none",
           "showlegend": false,
           "type": "scatter",
           "x": [
            1.05,
            1.05,
            -0.05,
            -0.05,
            1.05
           ],
           "y": [
            0.9998529851995808,
            -0.05,
            -0.05,
            0.014617830358597109,
            0.9998529851995808
           ]
          },
          {
           "fill": "toself",
           "fillcolor": "rgba(0,116,217,0.5)",
           "hoverinfo": "none",
           "mode": "none",
           "showlegend": false,
           "type": "scatter",
           "x": [
            -0.05,
            -0.05,
            1.05,
            1.05,
            -0.05
           ],
           "y": [
            0.014617830358597109,
            1.05,
            1.05,
            0.9998529851995808,
            0.014617830358597109
           ]
          }
         ],
         "layout": {
          "title": {
           "text": " Model: 0.90*x + 0.06"
          }
         }
        },
        {
         "data": [
          {
           "fill": "toself",
           "fillcolor": "rgba(255,65,54,0.5)",
           "hoverinfo": "none",
           "mode": "none",
           "showlegend": false,
           "type": "scatter",
           "x": [
            1.05,
            1.05,
            -0.05,
            -0.05,
            1.05
           ],
           "y": [
            1.0026720007327634,
            -0.05,
            -0.05,
            0.009531215613996044,
            1.0026720007327634
           ]
          },
          {
           "fill": "toself",
           "fillcolor": "rgba(0,116,217,0.5)",
           "hoverinfo": "none",
           "mode": "none",
           "showlegend": false,
           "type": "scatter",
           "x": [
            -0.05,
            -0.05,
            1.05,
            1.05,
            -0.05
           ],
           "y": [
            0.009531215613996044,
            1.05,
            1.05,
            1.0026720007327634,
            0.009531215613996044
           ]
          }
         ],
         "layout": {
          "title": {
           "text": " Model: 0.90*x + 0.05"
          }
         }
        },
        {
         "data": [
          {
           "fill": "toself",
           "fillcolor": "rgba(255,65,54,0.5)",
           "hoverinfo": "none",
           "mode": "none",
           "showlegend": false,
           "type": "scatter",
           "x": [
            1.05,
            1.05,
            -0.05,
            -0.05,
            1.05
           ],
           "y": [
            1.005279303176574,
            -0.05,
            -0.05,
            0.004749810737161658,
            1.005279303176574
           ]
          },
          {
           "fill": "toself",
           "fillcolor": "rgba(0,116,217,0.5)",
           "hoverinfo": "none",
           "mode": "none",
           "showlegend": false,
           "type": "scatter",
           "x": [
            -0.05,
            -0.05,
            1.05,
            1.05,
            -0.05
           ],
           "y": [
            0.004749810737161658,
            1.05,
            1.05,
            1.005279303176574,
            0.004749810737161658
           ]
          }
         ],
         "layout": {
          "title": {
           "text": " Model: 0.91*x + 0.05"
          }
         }
        },
        {
         "data": [
          {
           "fill": "toself",
           "fillcolor": "rgba(255,65,54,0.5)",
           "hoverinfo": "none",
           "mode": "none",
           "showlegend": false,
           "type": "scatter",
           "x": [
            1.05,
            1.05,
            -0.05,
            -0.05,
            1.05
           ],
           "y": [
            1.0076313134370687,
            -0.05,
            -0.05,
            0.0003635258828912011,
            1.0076313134370687
           ]
          },
          {
           "fill": "toself",
           "fillcolor": "rgba(0,116,217,0.5)",
           "hoverinfo": "none",
           "mode": "none",
           "showlegend": false,
           "type": "scatter",
           "x": [
            -0.05,
            -0.05,
            1.05,
            1.05,
            -0.05
           ],
           "y": [
            0.0003635258828912011,
            1.05,
            1.05,
            1.0076313134370687,
            0.0003635258828912011
           ]
          }
         ],
         "layout": {
          "title": {
           "text": " Model: 0.92*x + 0.05"
          }
         }
        },
        {
         "data": [
          {
           "fill": "toself",
           "fillcolor": "rgba(255,65,54,0.5)",
           "hoverinfo": "none",
           "mode": "none",
           "showlegend": false,
           "type": "scatter",
           "x": [
            1.05,
            1.05,
            -0.05,
            -0.05,
            1.05
           ],
           "y": [
            1.009751906610035,
            -0.05,
            -0.05,
            -0.0036597913191077427,
            1.009751906610035
           ]
          },
          {
           "fill": "toself",
           "fillcolor": "rgba(0,116,217,0.5)",
           "hoverinfo": "none",
           "mode": "none",
           "showlegend": false,
           "type": "scatter",
           "x": [
            -0.05,
            -0.05,
            1.05,
            1.05,
            -0.05
           ],
           "y": [
            -0.0036597913191077427,
            1.05,
            1.05,
            1.009751906610035,
            -0.0036597913191077427
           ]
          }
         ],
         "layout": {
          "title": {
           "text": " Model: 0.92*x + 0.04"
          }
         }
        },
        {
         "data": [
          {
           "fill": "toself",
           "fillcolor": "rgba(255,65,54,0.5)",
           "hoverinfo": "none",
           "mode": "none",
           "showlegend": false,
           "type": "scatter",
           "x": [
            1.05,
            1.05,
            -0.05,
            -0.05,
            1.05
           ],
           "y": [
            1.0116969345317335,
            -0.05,
            -0.05,
            -0.007416064282586003,
            1.0116969345317335
           ]
          },
          {
           "fill": "toself",
           "fillcolor": "rgba(0,116,217,0.5)",
           "hoverinfo": "none",
           "mode": "none",
           "showlegend": false,
           "type": "scatter",
           "x": [
            -0.05,
            -0.05,
            1.05,
            1.05,
            -0.05
           ],
           "y": [
            -0.007416064282586003,
            1.05,
            1.05,
            1.0116969345317335,
            -0.007416064282586003
           ]
          }
         ],
         "layout": {
          "title": {
           "text": " Model: 0.93*x + 0.04"
          }
         }
        },
        {
         "data": [
          {
           "fill": "toself",
           "fillcolor": "rgba(255,65,54,0.5)",
           "hoverinfo": "none",
           "mode": "none",
           "showlegend": false,
           "type": "scatter",
           "x": [
            1.05,
            1.05,
            -0.05,
            -0.05,
            1.05
           ],
           "y": [
            1.0134446917747653,
            -0.05,
            -0.05,
            -0.010853524210554133,
            1.0134446917747653
           ]
          },
          {
           "fill": "toself",
           "fillcolor": "rgba(0,116,217,0.5)",
           "hoverinfo": "none",
           "mode": "none",
           "showlegend": false,
           "type": "scatter",
           "x": [
            -0.05,
            -0.05,
            1.05,
            1.05,
            -0.05
           ],
           "y": [
            -0.010853524210554133,
            1.05,
            1.05,
            1.0134446917747653,
            -0.010853524210554133
           ]
          }
         ],
         "layout": {
          "title": {
           "text": " Model: 0.93*x + 0.04"
          }
         }
        },
        {
         "data": [
          {
           "fill": "toself",
           "fillcolor": "rgba(255,65,54,0.5)",
           "hoverinfo": "none",
           "mode": "none",
           "showlegend": false,
           "type": "scatter",
           "x": [
            1.05,
            1.05,
            -0.05,
            -0.05,
            1.05
           ],
           "y": [
            1.0150413320917329,
            -0.05,
            -0.05,
            -0.014052962289339568,
            1.0150413320917329
           ]
          },
          {
           "fill": "toself",
           "fillcolor": "rgba(0,116,217,0.5)",
           "hoverinfo": "none",
           "mode": "none",
           "showlegend": false,
           "type": "scatter",
           "x": [
            -0.05,
            -0.05,
            1.05,
            1.05,
            -0.05
           ],
           "y": [
            -0.014052962289339568,
            1.05,
            1.05,
            1.0150413320917329,
            -0.014052962289339568
           ]
          }
         ],
         "layout": {
          "title": {
           "text": " Model: 0.94*x + 0.03"
          }
         }
        },
        {
         "data": [
          {
           "fill": "toself",
           "fillcolor": "rgba(255,65,54,0.5)",
           "hoverinfo": "none",
           "mode": "none",
           "showlegend": false,
           "type": "scatter",
           "x": [
            1.05,
            1.05,
            -0.05,
            -0.05,
            1.05
           ],
           "y": [
            1.015412597762197,
            -0.05,
            -0.05,
            -0.014805914167396364,
            1.015412597762197
           ]
          },
          {
           "fill": "toself",
           "fillcolor": "rgba(0,116,217,0.5)",
           "hoverinfo": "none",
           "mode": "none",
           "showlegend": false,
           "type": "scatter",
           "x": [
            -0.05,
            -0.05,
            1.05,
            1.05,
            -0.05
           ],
           "y": [
            -0.014805914167396364,
            1.05,
            1.05,
            1.015412597762197,
            -0.014805914167396364
           ]
          }
         ],
         "layout": {
          "title": {
           "text": "Final Model: 0.94*x + 0.03"
          }
         }
        }
       ],
       "layout": {
        "height": 600,
        "template": {
         "data": {
          "bar": [
           {
            "error_x": {
             "color": "#2a3f5f"
            },
            "error_y": {
             "color": "#2a3f5f"
            },
            "marker": {
             "line": {
              "color": "#E5ECF6",
              "width": 0.5
             }
            },
            "type": "bar"
           }
          ],
          "barpolar": [
           {
            "marker": {
             "line": {
              "color": "#E5ECF6",
              "width": 0.5
             }
            },
            "type": "barpolar"
           }
          ],
          "carpet": [
           {
            "aaxis": {
             "endlinecolor": "#2a3f5f",
             "gridcolor": "white",
             "linecolor": "white",
             "minorgridcolor": "white",
             "startlinecolor": "#2a3f5f"
            },
            "baxis": {
             "endlinecolor": "#2a3f5f",
             "gridcolor": "white",
             "linecolor": "white",
             "minorgridcolor": "white",
             "startlinecolor": "#2a3f5f"
            },
            "type": "carpet"
           }
          ],
          "choropleth": [
           {
            "colorbar": {
             "outlinewidth": 0,
             "ticks": ""
            },
            "type": "choropleth"
           }
          ],
          "contour": [
           {
            "colorbar": {
             "outlinewidth": 0,
             "ticks": ""
            },
            "colorscale": [
             [
              0,
              "#0d0887"
             ],
             [
              0.1111111111111111,
              "#46039f"
             ],
             [
              0.2222222222222222,
              "#7201a8"
             ],
             [
              0.3333333333333333,
              "#9c179e"
             ],
             [
              0.4444444444444444,
              "#bd3786"
             ],
             [
              0.5555555555555556,
              "#d8576b"
             ],
             [
              0.6666666666666666,
              "#ed7953"
             ],
             [
              0.7777777777777778,
              "#fb9f3a"
             ],
             [
              0.8888888888888888,
              "#fdca26"
             ],
             [
              1,
              "#f0f921"
             ]
            ],
            "type": "contour"
           }
          ],
          "contourcarpet": [
           {
            "colorbar": {
             "outlinewidth": 0,
             "ticks": ""
            },
            "type": "contourcarpet"
           }
          ],
          "heatmap": [
           {
            "colorbar": {
             "outlinewidth": 0,
             "ticks": ""
            },
            "colorscale": [
             [
              0,
              "#0d0887"
             ],
             [
              0.1111111111111111,
              "#46039f"
             ],
             [
              0.2222222222222222,
              "#7201a8"
             ],
             [
              0.3333333333333333,
              "#9c179e"
             ],
             [
              0.4444444444444444,
              "#bd3786"
             ],
             [
              0.5555555555555556,
              "#d8576b"
             ],
             [
              0.6666666666666666,
              "#ed7953"
             ],
             [
              0.7777777777777778,
              "#fb9f3a"
             ],
             [
              0.8888888888888888,
              "#fdca26"
             ],
             [
              1,
              "#f0f921"
             ]
            ],
            "type": "heatmap"
           }
          ],
          "heatmapgl": [
           {
            "colorbar": {
             "outlinewidth": 0,
             "ticks": ""
            },
            "colorscale": [
             [
              0,
              "#0d0887"
             ],
             [
              0.1111111111111111,
              "#46039f"
             ],
             [
              0.2222222222222222,
              "#7201a8"
             ],
             [
              0.3333333333333333,
              "#9c179e"
             ],
             [
              0.4444444444444444,
              "#bd3786"
             ],
             [
              0.5555555555555556,
              "#d8576b"
             ],
             [
              0.6666666666666666,
              "#ed7953"
             ],
             [
              0.7777777777777778,
              "#fb9f3a"
             ],
             [
              0.8888888888888888,
              "#fdca26"
             ],
             [
              1,
              "#f0f921"
             ]
            ],
            "type": "heatmapgl"
           }
          ],
          "histogram": [
           {
            "marker": {
             "colorbar": {
              "outlinewidth": 0,
              "ticks": ""
             }
            },
            "type": "histogram"
           }
          ],
          "histogram2d": [
           {
            "colorbar": {
             "outlinewidth": 0,
             "ticks": ""
            },
            "colorscale": [
             [
              0,
              "#0d0887"
             ],
             [
              0.1111111111111111,
              "#46039f"
             ],
             [
              0.2222222222222222,
              "#7201a8"
             ],
             [
              0.3333333333333333,
              "#9c179e"
             ],
             [
              0.4444444444444444,
              "#bd3786"
             ],
             [
              0.5555555555555556,
              "#d8576b"
             ],
             [
              0.6666666666666666,
              "#ed7953"
             ],
             [
              0.7777777777777778,
              "#fb9f3a"
             ],
             [
              0.8888888888888888,
              "#fdca26"
             ],
             [
              1,
              "#f0f921"
             ]
            ],
            "type": "histogram2d"
           }
          ],
          "histogram2dcontour": [
           {
            "colorbar": {
             "outlinewidth": 0,
             "ticks": ""
            },
            "colorscale": [
             [
              0,
              "#0d0887"
             ],
             [
              0.1111111111111111,
              "#46039f"
             ],
             [
              0.2222222222222222,
              "#7201a8"
             ],
             [
              0.3333333333333333,
              "#9c179e"
             ],
             [
              0.4444444444444444,
              "#bd3786"
             ],
             [
              0.5555555555555556,
              "#d8576b"
             ],
             [
              0.6666666666666666,
              "#ed7953"
             ],
             [
              0.7777777777777778,
              "#fb9f3a"
             ],
             [
              0.8888888888888888,
              "#fdca26"
             ],
             [
              1,
              "#f0f921"
             ]
            ],
            "type": "histogram2dcontour"
           }
          ],
          "mesh3d": [
           {
            "colorbar": {
             "outlinewidth": 0,
             "ticks": ""
            },
            "type": "mesh3d"
           }
          ],
          "parcoords": [
           {
            "line": {
             "colorbar": {
              "outlinewidth": 0,
              "ticks": ""
             }
            },
            "type": "parcoords"
           }
          ],
          "scatter": [
           {
            "marker": {
             "colorbar": {
              "outlinewidth": 0,
              "ticks": ""
             }
            },
            "type": "scatter"
           }
          ],
          "scatter3d": [
           {
            "line": {
             "colorbar": {
              "outlinewidth": 0,
              "ticks": ""
             }
            },
            "marker": {
             "colorbar": {
              "outlinewidth": 0,
              "ticks": ""
             }
            },
            "type": "scatter3d"
           }
          ],
          "scattercarpet": [
           {
            "marker": {
             "colorbar": {
              "outlinewidth": 0,
              "ticks": ""
             }
            },
            "type": "scattercarpet"
           }
          ],
          "scattergeo": [
           {
            "marker": {
             "colorbar": {
              "outlinewidth": 0,
              "ticks": ""
             }
            },
            "type": "scattergeo"
           }
          ],
          "scattergl": [
           {
            "marker": {
             "colorbar": {
              "outlinewidth": 0,
              "ticks": ""
             }
            },
            "type": "scattergl"
           }
          ],
          "scattermapbox": [
           {
            "marker": {
             "colorbar": {
              "outlinewidth": 0,
              "ticks": ""
             }
            },
            "type": "scattermapbox"
           }
          ],
          "scatterpolar": [
           {
            "marker": {
             "colorbar": {
              "outlinewidth": 0,
              "ticks": ""
             }
            },
            "type": "scatterpolar"
           }
          ],
          "scatterpolargl": [
           {
            "marker": {
             "colorbar": {
              "outlinewidth": 0,
              "ticks": ""
             }
            },
            "type": "scatterpolargl"
           }
          ],
          "scatterternary": [
           {
            "marker": {
             "colorbar": {
              "outlinewidth": 0,
              "ticks": ""
             }
            },
            "type": "scatterternary"
           }
          ],
          "surface": [
           {
            "colorbar": {
             "outlinewidth": 0,
             "ticks": ""
            },
            "colorscale": [
             [
              0,
              "#0d0887"
             ],
             [
              0.1111111111111111,
              "#46039f"
             ],
             [
              0.2222222222222222,
              "#7201a8"
             ],
             [
              0.3333333333333333,
              "#9c179e"
             ],
             [
              0.4444444444444444,
              "#bd3786"
             ],
             [
              0.5555555555555556,
              "#d8576b"
             ],
             [
              0.6666666666666666,
              "#ed7953"
             ],
             [
              0.7777777777777778,
              "#fb9f3a"
             ],
             [
              0.8888888888888888,
              "#fdca26"
             ],
             [
              1,
              "#f0f921"
             ]
            ],
            "type": "surface"
           }
          ],
          "table": [
           {
            "cells": {
             "fill": {
              "color": "#EBF0F8"
             },
             "line": {
              "color": "white"
             }
            },
            "header": {
             "fill": {
              "color": "#C8D4E3"
             },
             "line": {
              "color": "white"
             }
            },
            "type": "table"
           }
          ]
         },
         "layout": {
          "annotationdefaults": {
           "arrowcolor": "#2a3f5f",
           "arrowhead": 0,
           "arrowwidth": 1
          },
          "colorscale": {
           "diverging": [
            [
             0,
             "#8e0152"
            ],
            [
             0.1,
             "#c51b7d"
            ],
            [
             0.2,
             "#de77ae"
            ],
            [
             0.3,
             "#f1b6da"
            ],
            [
             0.4,
             "#fde0ef"
            ],
            [
             0.5,
             "#f7f7f7"
            ],
            [
             0.6,
             "#e6f5d0"
            ],
            [
             0.7,
             "#b8e186"
            ],
            [
             0.8,
             "#7fbc41"
            ],
            [
             0.9,
             "#4d9221"
            ],
            [
             1,
             "#276419"
            ]
           ],
           "sequential": [
            [
             0,
             "#0d0887"
            ],
            [
             0.1111111111111111,
             "#46039f"
            ],
            [
             0.2222222222222222,
             "#7201a8"
            ],
            [
             0.3333333333333333,
             "#9c179e"
            ],
            [
             0.4444444444444444,
             "#bd3786"
            ],
            [
             0.5555555555555556,
             "#d8576b"
            ],
            [
             0.6666666666666666,
             "#ed7953"
            ],
            [
             0.7777777777777778,
             "#fb9f3a"
            ],
            [
             0.8888888888888888,
             "#fdca26"
            ],
            [
             1,
             "#f0f921"
            ]
           ],
           "sequentialminus": [
            [
             0,
             "#0d0887"
            ],
            [
             0.1111111111111111,
             "#46039f"
            ],
            [
             0.2222222222222222,
             "#7201a8"
            ],
            [
             0.3333333333333333,
             "#9c179e"
            ],
            [
             0.4444444444444444,
             "#bd3786"
            ],
            [
             0.5555555555555556,
             "#d8576b"
            ],
            [
             0.6666666666666666,
             "#ed7953"
            ],
            [
             0.7777777777777778,
             "#fb9f3a"
            ],
            [
             0.8888888888888888,
             "#fdca26"
            ],
            [
             1,
             "#f0f921"
            ]
           ]
          },
          "colorway": [
           "#636efa",
           "#EF553B",
           "#00cc96",
           "#ab63fa",
           "#FFA15A",
           "#19d3f3",
           "#FF6692",
           "#B6E880",
           "#FF97FF",
           "#FECB52"
          ],
          "font": {
           "color": "#2a3f5f"
          },
          "geo": {
           "bgcolor": "white",
           "lakecolor": "white",
           "landcolor": "#E5ECF6",
           "showlakes": true,
           "showland": true,
           "subunitcolor": "white"
          },
          "hoverlabel": {
           "align": "left"
          },
          "hovermode": "closest",
          "mapbox": {
           "style": "light"
          },
          "paper_bgcolor": "white",
          "plot_bgcolor": "#E5ECF6",
          "polar": {
           "angularaxis": {
            "gridcolor": "white",
            "linecolor": "white",
            "ticks": ""
           },
           "bgcolor": "#E5ECF6",
           "radialaxis": {
            "gridcolor": "white",
            "linecolor": "white",
            "ticks": ""
           }
          },
          "scene": {
           "xaxis": {
            "backgroundcolor": "#E5ECF6",
            "gridcolor": "white",
            "gridwidth": 2,
            "linecolor": "white",
            "showbackground": true,
            "ticks": "",
            "zerolinecolor": "white"
           },
           "yaxis": {
            "backgroundcolor": "#E5ECF6",
            "gridcolor": "white",
            "gridwidth": 2,
            "linecolor": "white",
            "showbackground": true,
            "ticks": "",
            "zerolinecolor": "white"
           },
           "zaxis": {
            "backgroundcolor": "#E5ECF6",
            "gridcolor": "white",
            "gridwidth": 2,
            "linecolor": "white",
            "showbackground": true,
            "ticks": "",
            "zerolinecolor": "white"
           }
          },
          "shapedefaults": {
           "line": {
            "color": "#2a3f5f"
           }
          },
          "ternary": {
           "aaxis": {
            "gridcolor": "white",
            "linecolor": "white",
            "ticks": ""
           },
           "baxis": {
            "gridcolor": "white",
            "linecolor": "white",
            "ticks": ""
           },
           "bgcolor": "#E5ECF6",
           "caxis": {
            "gridcolor": "white",
            "linecolor": "white",
            "ticks": ""
           }
          },
          "title": {
           "x": 0.05
          },
          "xaxis": {
           "automargin": true,
           "gridcolor": "white",
           "linecolor": "white",
           "ticks": "",
           "zerolinecolor": "white",
           "zerolinewidth": 2
          },
          "yaxis": {
           "automargin": true,
           "gridcolor": "white",
           "linecolor": "white",
           "ticks": "",
           "zerolinecolor": "white",
           "zerolinewidth": 2
          }
         }
        },
        "updatemenus": [
         {
          "buttons": [
           {
            "args": [
             null
            ],
            "label": "Play",
            "method": "animate"
           }
          ],
          "type": "buttons"
         }
        ],
        "width": 800,
        "xaxis": {
         "title": {
          "text": "width"
         }
        },
        "yaxis": {
         "title": {
          "text": "height"
         }
        }
       }
      },
      "text/html": [
       "<div>\n",
       "        \n",
       "        \n",
       "            <div id=\"bcd3db61-7252-4db9-b8bf-abf66ff22343\" class=\"plotly-graph-div\" style=\"height:600px; width:800px;\"></div>\n",
       "            <script type=\"text/javascript\">\n",
       "                require([\"plotly\"], function(Plotly) {\n",
       "                    window.PLOTLYENV=window.PLOTLYENV || {};\n",
       "                    \n",
       "                if (document.getElementById(\"bcd3db61-7252-4db9-b8bf-abf66ff22343\")) {\n",
       "                    Plotly.newPlot(\n",
       "                        'bcd3db61-7252-4db9-b8bf-abf66ff22343',\n",
       "                        [{\"fill\": \"toself\", \"fillcolor\": \"rgba(255,65,54,0.5)\", \"hoverinfo\": \"none\", \"mode\": \"none\", \"showlegend\": false, \"type\": \"scatter\", \"x\": [], \"y\": []}, {\"fill\": \"toself\", \"fillcolor\": \"rgba(0,116,217,0.5)\", \"hoverinfo\": \"none\", \"mode\": \"none\", \"showlegend\": false, \"type\": \"scatter\", \"x\": [], \"y\": []}, {\"marker\": {\"color\": \"black\"}, \"mode\": \"lines\", \"showlegend\": false, \"type\": \"scatter\", \"x\": [], \"y\": []}, {\"marker\": {\"color\": \"rgba(255,65,54,1.0)\", \"line\": {\"width\": 1}, \"size\": 10}, \"mode\": \"markers\", \"name\": \"Wide rectangle\", \"type\": \"scatter\", \"x\": [0.44051799812173, 0.8543965456005086, 0.7255081105707019, 0.7480368908095076, 0.4452085663271813, 0.8435906661236476, 0.7182654170428144, 0.7436641533619085, 0.08950273987069168, 0.495766196593736, 0.8942385800900601, 0.9269315996859322, 0.2657752725998307, 0.5919386946702181, 0.7718062870843961, 0.8703250892790056, 0.8865793352297818, 0.9764754300923246, 0.6545039036928265, 0.6960716913286437, 0.7507778706940614, 0.7804659731341886, 0.8103740855653481, 0.47707458489549526, 0.4916327944842801, 0.7539363323288104, 0.7558450879575613, 0.8774868868021537, 0.9001969538038834, 0.773936571764432, 0.4170519057423736, 0.7552913822250245, 0.959768973928649, 0.9899911743685759, 0.9495866581746308, 0.5515844711550574, 0.8099853966741667, 0.5353701119658137, 0.9926124564741647, 0.7553038476113354, 0.5949087280860734, 0.5393629473742065, 0.14663982005222953, 0.32924363012599167, 0.9027265969167546, 0.5817439028050546, 0.7246444025501328, 0.6658841553026841, 0.681482288147163, 0.5260782152593464, 0.9589603268324918], \"y\": [0.12419065064571977, 0.15815673109204442, 0.2224922709833942, 0.4345468944770895, 0.19762137504490696, 0.6795474879436343, 0.39451694484052846, 0.5404552267341077, 0.0463227445816099, 0.22825335103482813, 0.8344964010766797, 0.42318740914503394, 0.10102202557126261, 0.2934792403542814, 0.2960687662465976, 0.5987671042084711, 0.5912778666991675, 0.10635067985385771, 0.3479475858333573, 0.4099009576119915, 0.21999355490445227, 0.6724120421875364, 0.8017853469863302, 0.22187437587508319, 0.34963999393090084, 0.5525653986732428, 0.3385889942398336, 0.721672052473872, 0.2552861206360203, 0.36212170923113685, 0.1260746014699572, 0.4325305467071603, 0.4682115425311111, 0.5460093007049659, 0.4399069408780698, 0.4612437776882061, 0.07075150466281466, 0.3986274422397591, 0.13926052920932896, 0.03248330693857915, 0.5019213629242631, 0.2999836125230092, 0.1252287339530015, 0.2115893343466686, 0.3574881681422373, 0.4395583943810224, 0.5501877815276909, 0.5412314161849796, 0.17806972809619215, 0.3143620197265852, 0.6374607130443366]}, {\"marker\": {\"color\": \"rgba(0,116,217,1.0)\", \"line\": {\"width\": 1}, \"size\": 10}, \"mode\": \"markers\", \"name\": \"Tall rectangle\", \"type\": \"scatter\", \"x\": [0.3213476866448205, 0.14089631679047587, 0.1622517416658753, 0.5416079201492549, 0.5447066849064535, 0.6994701779747716, 0.1691991487438269, 0.36729673928189743, 0.5543450694480405, 0.5016610523020265, 0.5302852602107515, 0.09630868513201718, 0.23148337806555142, 0.9251344000489301, 0.5832075595398956, 0.28371671349943617, 0.3519078637276314, 0.42191961749412743, 0.4947282737806724, 0.4613818697678316, 0.856271400876497, 0.22717670022530323, 0.2613316591862963, 0.6684592175732779, 0.4705483391708434, 0.14667405384823906, 0.3018999004676659, 0.6205794595707232, 0.016612977155924358, 0.7223401906896213, 0.555346107474907, 0.3618681191828055, 0.14991899678673715, 0.7708175949700772, 0.4273850881671568, 0.044324928939636576, 0.18537737791256992, 0.1378110413385939, 0.06534235996369309, 0.09103730250778552, 0.12073117109988107, 0.16131734916408647, 0.22741777510504568, 0.2216318489730763, 0.17543085540627823, 0.15135653514860237, 0.11412041885318924, 0.3014875866477954, 0.46980601340200967], \"y\": [0.3746891013922862, 0.8614772865241659, 0.18302269009758865, 0.7888519353919126, 0.6596990517840151, 0.9750562112965712, 0.9938772761539765, 0.833249965523311, 0.780192424650914, 0.6044267269122696, 0.8454186699925377, 0.9852434898611708, 0.8844134657619113, 0.9596633647445603, 0.6913217922214538, 0.6889138073272006, 0.4838528348731356, 0.9248398906521342, 0.729326766771112, 0.841274900273438, 0.9495010587574801, 0.8182904935957901, 0.8121209537869176, 0.792031855447412, 0.5909679476374246, 0.5091561674569952, 0.7284169427650456, 0.9932020877636848, 0.9491129156001614, 0.7609529908382978, 0.8607028872778697, 0.49488018051596594, 0.8909179178980392, 0.9193514624593639, 0.6612338047214045, 0.3915582649532393, 0.6789464341146406, 0.3785102936706026, 0.6572397316792568, 0.9495977354242653, 0.973480552898213, 0.9285631858716702, 0.5253233353882558, 0.6888495462757216, 0.33864964313525403, 0.23846086430120117, 0.7064127418129168, 0.30545756743933883, 0.48193439978244357]}],\n",
       "                        {\"height\": 600, \"template\": {\"data\": {\"bar\": [{\"error_x\": {\"color\": \"#2a3f5f\"}, \"error_y\": {\"color\": \"#2a3f5f\"}, \"marker\": {\"line\": {\"color\": \"#E5ECF6\", \"width\": 0.5}}, \"type\": \"bar\"}], \"barpolar\": [{\"marker\": {\"line\": {\"color\": \"#E5ECF6\", \"width\": 0.5}}, \"type\": \"barpolar\"}], \"carpet\": [{\"aaxis\": {\"endlinecolor\": \"#2a3f5f\", \"gridcolor\": \"white\", \"linecolor\": \"white\", \"minorgridcolor\": \"white\", \"startlinecolor\": \"#2a3f5f\"}, \"baxis\": {\"endlinecolor\": \"#2a3f5f\", \"gridcolor\": \"white\", \"linecolor\": \"white\", \"minorgridcolor\": \"white\", \"startlinecolor\": \"#2a3f5f\"}, \"type\": \"carpet\"}], \"choropleth\": [{\"colorbar\": {\"outlinewidth\": 0, \"ticks\": \"\"}, \"type\": \"choropleth\"}], \"contour\": [{\"colorbar\": {\"outlinewidth\": 0, \"ticks\": \"\"}, \"colorscale\": [[0.0, \"#0d0887\"], [0.1111111111111111, \"#46039f\"], [0.2222222222222222, \"#7201a8\"], [0.3333333333333333, \"#9c179e\"], [0.4444444444444444, \"#bd3786\"], [0.5555555555555556, \"#d8576b\"], [0.6666666666666666, \"#ed7953\"], [0.7777777777777778, \"#fb9f3a\"], [0.8888888888888888, \"#fdca26\"], [1.0, \"#f0f921\"]], \"type\": \"contour\"}], \"contourcarpet\": [{\"colorbar\": {\"outlinewidth\": 0, \"ticks\": \"\"}, \"type\": \"contourcarpet\"}], \"heatmap\": [{\"colorbar\": {\"outlinewidth\": 0, \"ticks\": \"\"}, \"colorscale\": [[0.0, \"#0d0887\"], [0.1111111111111111, \"#46039f\"], [0.2222222222222222, \"#7201a8\"], [0.3333333333333333, \"#9c179e\"], [0.4444444444444444, \"#bd3786\"], [0.5555555555555556, \"#d8576b\"], [0.6666666666666666, \"#ed7953\"], [0.7777777777777778, \"#fb9f3a\"], [0.8888888888888888, \"#fdca26\"], [1.0, \"#f0f921\"]], \"type\": \"heatmap\"}], \"heatmapgl\": [{\"colorbar\": {\"outlinewidth\": 0, \"ticks\": \"\"}, \"colorscale\": [[0.0, \"#0d0887\"], [0.1111111111111111, \"#46039f\"], [0.2222222222222222, \"#7201a8\"], [0.3333333333333333, \"#9c179e\"], [0.4444444444444444, \"#bd3786\"], [0.5555555555555556, \"#d8576b\"], [0.6666666666666666, \"#ed7953\"], [0.7777777777777778, \"#fb9f3a\"], [0.8888888888888888, \"#fdca26\"], [1.0, \"#f0f921\"]], \"type\": \"heatmapgl\"}], \"histogram\": [{\"marker\": {\"colorbar\": {\"outlinewidth\": 0, \"ticks\": \"\"}}, \"type\": \"histogram\"}], \"histogram2d\": [{\"colorbar\": {\"outlinewidth\": 0, \"ticks\": \"\"}, \"colorscale\": [[0.0, \"#0d0887\"], [0.1111111111111111, \"#46039f\"], [0.2222222222222222, \"#7201a8\"], [0.3333333333333333, \"#9c179e\"], [0.4444444444444444, \"#bd3786\"], [0.5555555555555556, \"#d8576b\"], [0.6666666666666666, \"#ed7953\"], [0.7777777777777778, \"#fb9f3a\"], [0.8888888888888888, \"#fdca26\"], [1.0, \"#f0f921\"]], \"type\": \"histogram2d\"}], \"histogram2dcontour\": [{\"colorbar\": {\"outlinewidth\": 0, \"ticks\": \"\"}, \"colorscale\": [[0.0, \"#0d0887\"], [0.1111111111111111, \"#46039f\"], [0.2222222222222222, \"#7201a8\"], [0.3333333333333333, \"#9c179e\"], [0.4444444444444444, \"#bd3786\"], [0.5555555555555556, \"#d8576b\"], [0.6666666666666666, \"#ed7953\"], [0.7777777777777778, \"#fb9f3a\"], [0.8888888888888888, \"#fdca26\"], [1.0, \"#f0f921\"]], \"type\": \"histogram2dcontour\"}], \"mesh3d\": [{\"colorbar\": {\"outlinewidth\": 0, \"ticks\": \"\"}, \"type\": \"mesh3d\"}], \"parcoords\": [{\"line\": {\"colorbar\": {\"outlinewidth\": 0, \"ticks\": \"\"}}, \"type\": \"parcoords\"}], \"scatter\": [{\"marker\": {\"colorbar\": {\"outlinewidth\": 0, \"ticks\": \"\"}}, \"type\": \"scatter\"}], \"scatter3d\": [{\"line\": {\"colorbar\": {\"outlinewidth\": 0, \"ticks\": \"\"}}, \"marker\": {\"colorbar\": {\"outlinewidth\": 0, \"ticks\": \"\"}}, \"type\": \"scatter3d\"}], \"scattercarpet\": [{\"marker\": {\"colorbar\": {\"outlinewidth\": 0, \"ticks\": \"\"}}, \"type\": \"scattercarpet\"}], \"scattergeo\": [{\"marker\": {\"colorbar\": {\"outlinewidth\": 0, \"ticks\": \"\"}}, \"type\": \"scattergeo\"}], \"scattergl\": [{\"marker\": {\"colorbar\": {\"outlinewidth\": 0, \"ticks\": \"\"}}, \"type\": \"scattergl\"}], \"scattermapbox\": [{\"marker\": {\"colorbar\": {\"outlinewidth\": 0, \"ticks\": \"\"}}, \"type\": \"scattermapbox\"}], \"scatterpolar\": [{\"marker\": {\"colorbar\": {\"outlinewidth\": 0, \"ticks\": \"\"}}, \"type\": \"scatterpolar\"}], \"scatterpolargl\": [{\"marker\": {\"colorbar\": {\"outlinewidth\": 0, \"ticks\": \"\"}}, \"type\": \"scatterpolargl\"}], \"scatterternary\": [{\"marker\": {\"colorbar\": {\"outlinewidth\": 0, \"ticks\": \"\"}}, \"type\": \"scatterternary\"}], \"surface\": [{\"colorbar\": {\"outlinewidth\": 0, \"ticks\": \"\"}, \"colorscale\": [[0.0, \"#0d0887\"], [0.1111111111111111, \"#46039f\"], [0.2222222222222222, \"#7201a8\"], [0.3333333333333333, \"#9c179e\"], [0.4444444444444444, \"#bd3786\"], [0.5555555555555556, \"#d8576b\"], [0.6666666666666666, \"#ed7953\"], [0.7777777777777778, \"#fb9f3a\"], [0.8888888888888888, \"#fdca26\"], [1.0, \"#f0f921\"]], \"type\": \"surface\"}], \"table\": [{\"cells\": {\"fill\": {\"color\": \"#EBF0F8\"}, \"line\": {\"color\": \"white\"}}, \"header\": {\"fill\": {\"color\": \"#C8D4E3\"}, \"line\": {\"color\": \"white\"}}, \"type\": \"table\"}]}, \"layout\": {\"annotationdefaults\": {\"arrowcolor\": \"#2a3f5f\", \"arrowhead\": 0, \"arrowwidth\": 1}, \"colorscale\": {\"diverging\": [[0, \"#8e0152\"], [0.1, \"#c51b7d\"], [0.2, \"#de77ae\"], [0.3, \"#f1b6da\"], [0.4, \"#fde0ef\"], [0.5, \"#f7f7f7\"], [0.6, \"#e6f5d0\"], [0.7, \"#b8e186\"], [0.8, \"#7fbc41\"], [0.9, \"#4d9221\"], [1, \"#276419\"]], \"sequential\": [[0.0, \"#0d0887\"], [0.1111111111111111, \"#46039f\"], [0.2222222222222222, \"#7201a8\"], [0.3333333333333333, \"#9c179e\"], [0.4444444444444444, \"#bd3786\"], [0.5555555555555556, \"#d8576b\"], [0.6666666666666666, \"#ed7953\"], [0.7777777777777778, \"#fb9f3a\"], [0.8888888888888888, \"#fdca26\"], [1.0, \"#f0f921\"]], \"sequentialminus\": [[0.0, \"#0d0887\"], [0.1111111111111111, \"#46039f\"], [0.2222222222222222, \"#7201a8\"], [0.3333333333333333, \"#9c179e\"], [0.4444444444444444, \"#bd3786\"], [0.5555555555555556, \"#d8576b\"], [0.6666666666666666, \"#ed7953\"], [0.7777777777777778, \"#fb9f3a\"], [0.8888888888888888, \"#fdca26\"], [1.0, \"#f0f921\"]]}, \"colorway\": [\"#636efa\", \"#EF553B\", \"#00cc96\", \"#ab63fa\", \"#FFA15A\", \"#19d3f3\", \"#FF6692\", \"#B6E880\", \"#FF97FF\", \"#FECB52\"], \"font\": {\"color\": \"#2a3f5f\"}, \"geo\": {\"bgcolor\": \"white\", \"lakecolor\": \"white\", \"landcolor\": \"#E5ECF6\", \"showlakes\": true, \"showland\": true, \"subunitcolor\": \"white\"}, \"hoverlabel\": {\"align\": \"left\"}, \"hovermode\": \"closest\", \"mapbox\": {\"style\": \"light\"}, \"paper_bgcolor\": \"white\", \"plot_bgcolor\": \"#E5ECF6\", \"polar\": {\"angularaxis\": {\"gridcolor\": \"white\", \"linecolor\": \"white\", \"ticks\": \"\"}, \"bgcolor\": \"#E5ECF6\", \"radialaxis\": {\"gridcolor\": \"white\", \"linecolor\": \"white\", \"ticks\": \"\"}}, \"scene\": {\"xaxis\": {\"backgroundcolor\": \"#E5ECF6\", \"gridcolor\": \"white\", \"gridwidth\": 2, \"linecolor\": \"white\", \"showbackground\": true, \"ticks\": \"\", \"zerolinecolor\": \"white\"}, \"yaxis\": {\"backgroundcolor\": \"#E5ECF6\", \"gridcolor\": \"white\", \"gridwidth\": 2, \"linecolor\": \"white\", \"showbackground\": true, \"ticks\": \"\", \"zerolinecolor\": \"white\"}, \"zaxis\": {\"backgroundcolor\": \"#E5ECF6\", \"gridcolor\": \"white\", \"gridwidth\": 2, \"linecolor\": \"white\", \"showbackground\": true, \"ticks\": \"\", \"zerolinecolor\": \"white\"}}, \"shapedefaults\": {\"line\": {\"color\": \"#2a3f5f\"}}, \"ternary\": {\"aaxis\": {\"gridcolor\": \"white\", \"linecolor\": \"white\", \"ticks\": \"\"}, \"baxis\": {\"gridcolor\": \"white\", \"linecolor\": \"white\", \"ticks\": \"\"}, \"bgcolor\": \"#E5ECF6\", \"caxis\": {\"gridcolor\": \"white\", \"linecolor\": \"white\", \"ticks\": \"\"}}, \"title\": {\"x\": 0.05}, \"xaxis\": {\"automargin\": true, \"gridcolor\": \"white\", \"linecolor\": \"white\", \"ticks\": \"\", \"zerolinecolor\": \"white\", \"zerolinewidth\": 2}, \"yaxis\": {\"automargin\": true, \"gridcolor\": \"white\", \"linecolor\": \"white\", \"ticks\": \"\", \"zerolinecolor\": \"white\", \"zerolinewidth\": 2}}}, \"updatemenus\": [{\"buttons\": [{\"args\": [null], \"label\": \"Play\", \"method\": \"animate\"}], \"type\": \"buttons\"}], \"width\": 800, \"xaxis\": {\"title\": {\"text\": \"width\"}}, \"yaxis\": {\"title\": {\"text\": \"height\"}}},\n",
       "                        {\"responsive\": true}\n",
       "                    ).then(function(){\n",
       "                            Plotly.addFrames('bcd3db61-7252-4db9-b8bf-abf66ff22343', [{\"data\": [{\"fill\": \"toself\", \"fillcolor\": \"rgba(255,65,54,0.5)\", \"hoverinfo\": \"none\", \"mode\": \"none\", \"showlegend\": false, \"x\": [1.05, 1.05, -0.05, -0.05, 1.05], \"y\": [0.4098166605446022, -0.05, -0.05, 0.7450079542548425, 0.4098166605446022], \"type\": \"scatter\"}, {\"fill\": \"toself\", \"fillcolor\": \"rgba(0,116,217,0.5)\", \"hoverinfo\": \"none\", \"mode\": \"none\", \"showlegend\": false, \"x\": [-0.05, -0.05, 1.05, 1.05, -0.05], \"y\": [0.7450079542548425, 1.05, 1.05, 0.4098166605446022, 0.7450079542548425], \"type\": \"scatter\"}], \"layout\": {\"title\": {\"text\": \" Model: -0.30*x + 0.73\"}}}, {\"data\": [{\"fill\": \"toself\", \"fillcolor\": \"rgba(255,65,54,0.5)\", \"hoverinfo\": \"none\", \"mode\": \"none\", \"showlegend\": false, \"x\": [1.05, 1.05, -0.05, -0.05, 1.05], \"y\": [0.5188089120863125, -0.05, -0.05, 0.649669874395265, 0.5188089120863125], \"type\": \"scatter\"}, {\"fill\": \"toself\", \"fillcolor\": \"rgba(0,116,217,0.5)\", \"hoverinfo\": \"none\", \"mode\": \"none\", \"showlegend\": false, \"x\": [-0.05, -0.05, 1.05, 1.05, -0.05], \"y\": [0.649669874395265, 1.05, 1.05, 0.5188089120863125, 0.649669874395265], \"type\": \"scatter\"}], \"layout\": {\"title\": {\"text\": \" Model: -0.12*x + 0.64\"}}}, {\"data\": [{\"fill\": \"toself\", \"fillcolor\": \"rgba(255,65,54,0.5)\", \"hoverinfo\": \"none\", \"mode\": \"none\", \"showlegend\": false, \"x\": [1.05, 1.05, -0.05, -0.05, 1.05], \"y\": [0.5910148788426952, -0.05, -0.05, 0.5707388221476042, 0.5910148788426952], \"type\": \"scatter\"}, {\"fill\": \"toself\", \"fillcolor\": \"rgba(0,116,217,0.5)\", \"hoverinfo\": \"none\", \"mode\": \"none\", \"showlegend\": false, \"x\": [-0.05, -0.05, 1.05, 1.05, -0.05], \"y\": [0.5707388221476042, 1.05, 1.05, 0.5910148788426952, 0.5707388221476042], \"type\": \"scatter\"}], \"layout\": {\"title\": {\"text\": \" Model: 0.02*x + 0.57\"}}}, {\"data\": [{\"fill\": \"toself\", \"fillcolor\": \"rgba(255,65,54,0.5)\", \"hoverinfo\": \"none\", \"mode\": \"none\", \"showlegend\": false, \"x\": [1.05, 1.05, -0.05, -0.05, 1.05], \"y\": [0.6437895515377721, -0.05, -0.05, 0.5070865875879589, 0.6437895515377721], \"type\": \"scatter\"}, {\"fill\": \"toself\", \"fillcolor\": \"rgba(0,116,217,0.5)\", \"hoverinfo\": \"none\", \"mode\": \"none\", \"showlegend\": false, \"x\": [-0.05, -0.05, 1.05, 1.05, -0.05], \"y\": [0.5070865875879589, 1.05, 1.05, 0.6437895515377721, 0.5070865875879589], \"type\": \"scatter\"}], \"layout\": {\"title\": {\"text\": \" Model: 0.12*x + 0.51\"}}}, {\"data\": [{\"fill\": \"toself\", \"fillcolor\": \"rgba(255,65,54,0.5)\", \"hoverinfo\": \"none\", \"mode\": \"none\", \"showlegend\": false, \"x\": [1.05, 1.05, -0.05, -0.05, 1.05], \"y\": [0.688897631605186, -0.05, -0.05, 0.4503689044073313, 0.688897631605186], \"type\": \"scatter\"}, {\"fill\": \"toself\", \"fillcolor\": \"rgba(0,116,217,0.5)\", \"hoverinfo\": \"none\", \"mode\": \"none\", \"showlegend\": false, \"x\": [-0.05, -0.05, 1.05, 1.05, -0.05], \"y\": [0.4503689044073313, 1.05, 1.05, 0.688897631605186, 0.4503689044073313], \"type\": \"scatter\"}], \"layout\": {\"title\": {\"text\": \" Model: 0.22*x + 0.46\"}}}, {\"data\": [{\"fill\": \"toself\", \"fillcolor\": \"rgba(255,65,54,0.5)\", \"hoverinfo\": \"none\", \"mode\": \"none\", \"showlegend\": false, \"x\": [1.05, 1.05, -0.05, -0.05, 1.05], \"y\": [0.7246565483001411, -0.05, -0.05, 0.40461481197917176, 0.7246565483001411], \"type\": \"scatter\"}, {\"fill\": \"toself\", \"fillcolor\": \"rgba(0,116,217,0.5)\", \"hoverinfo\": \"none\", \"mode\": \"none\", \"showlegend\": false, \"x\": [-0.05, -0.05, 1.05, 1.05, -0.05], \"y\": [0.40461481197917176, 1.05, 1.05, 0.7246565483001411, 0.40461481197917176], \"type\": \"scatter\"}], \"layout\": {\"title\": {\"text\": \" Model: 0.29*x + 0.42\"}}}, {\"data\": [{\"fill\": \"toself\", \"fillcolor\": \"rgba(255,65,54,0.5)\", \"hoverinfo\": \"none\", \"mode\": \"none\", \"showlegend\": false, \"x\": [1.05, 1.05, -0.05, -0.05, 1.05], \"y\": [0.7564751009562892, -0.05, -0.05, 0.3635363130897786, 0.7564751009562892], \"type\": \"scatter\"}, {\"fill\": \"toself\", \"fillcolor\": \"rgba(0,116,217,0.5)\", \"hoverinfo\": \"none\", \"mode\": \"none\", \"showlegend\": false, \"x\": [-0.05, -0.05, 1.05, 1.05, -0.05], \"y\": [0.3635363130897786, 1.05, 1.05, 0.7564751009562892, 0.3635363130897786], \"type\": \"scatter\"}], \"layout\": {\"title\": {\"text\": \" Model: 0.36*x + 0.38\"}}}, {\"data\": [{\"fill\": \"toself\", \"fillcolor\": \"rgba(255,65,54,0.5)\", \"hoverinfo\": \"none\", \"mode\": \"none\", \"showlegend\": false, \"x\": [1.05, 1.05, -0.05, -0.05, 1.05], \"y\": [0.784694772087564, -0.05, -0.05, 0.3268144792523975, 0.784694772087564], \"type\": \"scatter\"}, {\"fill\": \"toself\", \"fillcolor\": \"rgba(0,116,217,0.5)\", \"hoverinfo\": \"none\", \"mode\": \"none\", \"showlegend\": false, \"x\": [-0.05, -0.05, 1.05, 1.05, -0.05], \"y\": [0.3268144792523975, 1.05, 1.05, 0.784694772087564, 0.3268144792523975], \"type\": \"scatter\"}], \"layout\": {\"title\": {\"text\": \" Model: 0.42*x + 0.35\"}}}, {\"data\": [{\"fill\": \"toself\", \"fillcolor\": \"rgba(255,65,54,0.5)\", \"hoverinfo\": \"none\", \"mode\": \"none\", \"showlegend\": false, \"x\": [1.05, 1.05, -0.05, -0.05, 1.05], \"y\": [0.8079139411961265, -0.05, -0.05, 0.2963263767660661, 0.8079139411961265], \"type\": \"scatter\"}, {\"fill\": \"toself\", \"fillcolor\": \"rgba(0,116,217,0.5)\", \"hoverinfo\": \"none\", \"mode\": \"none\", \"showlegend\": false, \"x\": [-0.05, -0.05, 1.05, 1.05, -0.05], \"y\": [0.2963263767660661, 1.05, 1.05, 0.8079139411961265, 0.2963263767660661], \"type\": \"scatter\"}], \"layout\": {\"title\": {\"text\": \" Model: 0.47*x + 0.32\"}}}, {\"data\": [{\"fill\": \"toself\", \"fillcolor\": \"rgba(255,65,54,0.5)\", \"hoverinfo\": \"none\", \"mode\": \"none\", \"showlegend\": false, \"x\": [1.05, 1.05, -0.05, -0.05, 1.05], \"y\": [0.828839086607072, -0.05, -0.05, 0.26855875552796804, 0.828839086607072], \"type\": \"scatter\"}, {\"fill\": \"toself\", \"fillcolor\": \"rgba(0,116,217,0.5)\", \"hoverinfo\": \"none\", \"mode\": \"none\", \"showlegend\": false, \"x\": [-0.05, -0.05, 1.05, 1.05, -0.05], \"y\": [0.26855875552796804, 1.05, 1.05, 0.828839086607072, 0.26855875552796804], \"type\": \"scatter\"}], \"layout\": {\"title\": {\"text\": \" Model: 0.51*x + 0.29\"}}}, {\"data\": [{\"fill\": \"toself\", \"fillcolor\": \"rgba(255,65,54,0.5)\", \"hoverinfo\": \"none\", \"mode\": \"none\", \"showlegend\": false, \"x\": [1.05, 1.05, -0.05, -0.05, 1.05], \"y\": [0.8476409426273539, -0.05, -0.05, 0.24329818343872434, 0.8476409426273539], \"type\": \"scatter\"}, {\"fill\": \"toself\", \"fillcolor\": \"rgba(0,116,217,0.5)\", \"hoverinfo\": \"none\", \"mode\": \"none\", \"showlegend\": false, \"x\": [-0.05, -0.05, 1.05, 1.05, -0.05], \"y\": [0.24329818343872434, 1.05, 1.05, 0.8476409426273539, 0.24329818343872434], \"type\": \"scatter\"}], \"layout\": {\"title\": {\"text\": \" Model: 0.55*x + 0.27\"}}}, {\"data\": [{\"fill\": \"toself\", \"fillcolor\": \"rgba(255,65,54,0.5)\", \"hoverinfo\": \"none\", \"mode\": \"none\", \"showlegend\": false, \"x\": [1.05, 1.05, -0.05, -0.05, 1.05], \"y\": [0.8645112998011459, -0.05, -0.05, 0.22031744261690564, 0.8645112998011459], \"type\": \"scatter\"}, {\"fill\": \"toself\", \"fillcolor\": \"rgba(0,116,217,0.5)\", \"hoverinfo\": \"none\", \"mode\": \"none\", \"showlegend\": false, \"x\": [-0.05, -0.05, 1.05, 1.05, -0.05], \"y\": [0.22031744261690564, 1.05, 1.05, 0.8645112998011459, 0.22031744261690564], \"type\": \"scatter\"}], \"layout\": {\"title\": {\"text\": \" Model: 0.59*x + 0.25\"}}}, {\"data\": [{\"fill\": \"toself\", \"fillcolor\": \"rgba(255,65,54,0.5)\", \"hoverinfo\": \"none\", \"mode\": \"none\", \"showlegend\": false, \"x\": [1.05, 1.05, -0.05, -0.05, 1.05], \"y\": [0.8796451011042448, -0.05, -0.05, 0.19939465741359336, 0.8796451011042448], \"type\": \"scatter\"}, {\"fill\": \"toself\", \"fillcolor\": \"rgba(0,116,217,0.5)\", \"hoverinfo\": \"none\", \"mode\": \"none\", \"showlegend\": false, \"x\": [-0.05, -0.05, 1.05, 1.05, -0.05], \"y\": [0.19939465741359336, 1.05, 1.05, 0.8796451011042448, 0.19939465741359336], \"type\": \"scatter\"}], \"layout\": {\"title\": {\"text\": \" Model: 0.62*x + 0.23\"}}}, {\"data\": [{\"fill\": \"toself\", \"fillcolor\": \"rgba(255,65,54,0.5)\", \"hoverinfo\": \"none\", \"mode\": \"none\", \"showlegend\": false, \"x\": [1.05, 1.05, -0.05, -0.05, 1.05], \"y\": [0.8932292208356043, -0.05, -0.05, 0.18032300267809703, 0.8932292208356043], \"type\": \"scatter\"}, {\"fill\": \"toself\", \"fillcolor\": \"rgba(0,116,217,0.5)\", \"hoverinfo\": \"none\", \"mode\": \"none\", \"showlegend\": false, \"x\": [-0.05, -0.05, 1.05, 1.05, -0.05], \"y\": [0.18032300267809703, 1.05, 1.05, 0.8932292208356043, 0.18032300267809703], \"type\": \"scatter\"}], \"layout\": {\"title\": {\"text\": \" Model: 0.65*x + 0.21\"}}}, {\"data\": [{\"fill\": \"toself\", \"fillcolor\": \"rgba(255,65,54,0.5)\", \"hoverinfo\": \"none\", \"mode\": \"none\", \"showlegend\": false, \"x\": [1.05, 1.05, -0.05, -0.05, 1.05], \"y\": [0.9054363179993322, -0.05, -0.05, 0.16291474262904435, 0.9054363179993322], \"type\": \"scatter\"}, {\"fill\": \"toself\", \"fillcolor\": \"rgba(0,116,217,0.5)\", \"hoverinfo\": \"none\", \"mode\": \"none\", \"showlegend\": false, \"x\": [-0.05, -0.05, 1.05, 1.05, -0.05], \"y\": [0.16291474262904435, 1.05, 1.05, 0.9054363179993322, 0.16291474262904435], \"type\": \"scatter\"}], \"layout\": {\"title\": {\"text\": \" Model: 0.68*x + 0.20\"}}}, {\"data\": [{\"fill\": \"toself\", \"fillcolor\": \"rgba(255,65,54,0.5)\", \"hoverinfo\": \"none\", \"mode\": \"none\", \"showlegend\": false, \"x\": [1.05, 1.05, -0.05, -0.05, 1.05], \"y\": [0.9164221573291148, -0.05, -0.05, 0.14700202922158817, 0.9164221573291148], \"type\": \"scatter\"}, {\"fill\": \"toself\", \"fillcolor\": \"rgba(0,116,217,0.5)\", \"hoverinfo\": \"none\", \"mode\": \"none\", \"showlegend\": false, \"x\": [-0.05, -0.05, 1.05, 1.05, -0.05], \"y\": [0.14700202922158817, 1.05, 1.05, 0.9164221573291148, 0.14700202922158817], \"type\": \"scatter\"}], \"layout\": {\"title\": {\"text\": \" Model: 0.70*x + 0.18\"}}}, {\"data\": [{\"fill\": \"toself\", \"fillcolor\": \"rgba(255,65,54,0.5)\", \"hoverinfo\": \"none\", \"mode\": \"none\", \"showlegend\": false, \"x\": [1.05, 1.05, -0.05, -0.05, 1.05], \"y\": [0.9263251151545796, -0.05, -0.05, 0.13243598642548438, 0.9263251151545796], \"type\": \"scatter\"}, {\"fill\": \"toself\", \"fillcolor\": \"rgba(0,116,217,0.5)\", \"hoverinfo\": \"none\", \"mode\": \"none\", \"showlegend\": false, \"x\": [-0.05, -0.05, 1.05, 1.05, -0.05], \"y\": [0.13243598642548438, 1.05, 1.05, 0.9263251151545796, 0.13243598642548438], \"type\": \"scatter\"}], \"layout\": {\"title\": {\"text\": \" Model: 0.72*x + 0.17\"}}}, {\"data\": [{\"fill\": \"toself\", \"fillcolor\": \"rgba(255,65,54,0.5)\", \"hoverinfo\": \"none\", \"mode\": \"none\", \"showlegend\": false, \"x\": [1.05, 1.05, -0.05, -0.05, 1.05], \"y\": [0.9356608593892997, -0.05, -0.05, 0.11849225023974201, 0.9356608593892997], \"type\": \"scatter\"}, {\"fill\": \"toself\", \"fillcolor\": \"rgba(0,116,217,0.5)\", \"hoverinfo\": \"none\", \"mode\": \"none\", \"showlegend\": false, \"x\": [-0.05, -0.05, 1.05, 1.05, -0.05], \"y\": [0.11849225023974201, 1.05, 1.05, 0.9356608593892997, 0.11849225023974201], \"type\": \"scatter\"}], \"layout\": {\"title\": {\"text\": \" Model: 0.74*x + 0.16\"}}}, {\"data\": [{\"fill\": \"toself\", \"fillcolor\": \"rgba(255,65,54,0.5)\", \"hoverinfo\": \"none\", \"mode\": \"none\", \"showlegend\": false, \"x\": [1.05, 1.05, -0.05, -0.05, 1.05], \"y\": [0.9440336363383461, -0.05, -0.05, 0.10579531874459316, 0.9440336363383461], \"type\": \"scatter\"}, {\"fill\": \"toself\", \"fillcolor\": \"rgba(0,116,217,0.5)\", \"hoverinfo\": \"none\", \"mode\": \"none\", \"showlegend\": false, \"x\": [-0.05, -0.05, 1.05, 1.05, -0.05], \"y\": [0.10579531874459316, 1.05, 1.05, 0.9440336363383461, 0.10579531874459316], \"type\": \"scatter\"}], \"layout\": {\"title\": {\"text\": \" Model: 0.76*x + 0.14\"}}}, {\"data\": [{\"fill\": \"toself\", \"fillcolor\": \"rgba(255,65,54,0.5)\", \"hoverinfo\": \"none\", \"mode\": \"none\", \"showlegend\": false, \"x\": [1.05, 1.05, -0.05, -0.05, 1.05], \"y\": [0.9515622718827308, -0.05, -0.05, 0.09420985883707564, 0.9515622718827308], \"type\": \"scatter\"}, {\"fill\": \"toself\", \"fillcolor\": \"rgba(0,116,217,0.5)\", \"hoverinfo\": \"none\", \"mode\": \"none\", \"showlegend\": false, \"x\": [-0.05, -0.05, 1.05, 1.05, -0.05], \"y\": [0.09420985883707564, 1.05, 1.05, 0.9515622718827308, 0.09420985883707564], \"type\": \"scatter\"}], \"layout\": {\"title\": {\"text\": \" Model: 0.78*x + 0.13\"}}}, {\"data\": [{\"fill\": \"toself\", \"fillcolor\": \"rgba(255,65,54,0.5)\", \"hoverinfo\": \"none\", \"mode\": \"none\", \"showlegend\": false, \"x\": [1.05, 1.05, -0.05, -0.05, 1.05], \"y\": [0.9585994590995904, -0.05, -0.05, 0.08322330820037772, 0.9585994590995904], \"type\": \"scatter\"}, {\"fill\": \"toself\", \"fillcolor\": \"rgba(0,116,217,0.5)\", \"hoverinfo\": \"none\", \"mode\": \"none\", \"showlegend\": false, \"x\": [-0.05, -0.05, 1.05, 1.05, -0.05], \"y\": [0.08322330820037772, 1.05, 1.05, 0.9585994590995904, 0.08322330820037772], \"type\": \"scatter\"}], \"layout\": {\"title\": {\"text\": \" Model: 0.80*x + 0.12\"}}}, {\"data\": [{\"fill\": \"toself\", \"fillcolor\": \"rgba(255,65,54,0.5)\", \"hoverinfo\": \"none\", \"mode\": \"none\", \"showlegend\": false, \"x\": [1.05, 1.05, -0.05, -0.05, 1.05], \"y\": [0.9649124033083561, -0.05, -0.05, 0.07322625346664215, 0.9649124033083561], \"type\": \"scatter\"}, {\"fill\": \"toself\", \"fillcolor\": \"rgba(0,116,217,0.5)\", \"hoverinfo\": \"none\", \"mode\": \"none\", \"showlegend\": false, \"x\": [-0.05, -0.05, 1.05, 1.05, -0.05], \"y\": [0.07322625346664215, 1.05, 1.05, 0.9649124033083561, 0.07322625346664215], \"type\": \"scatter\"}], \"layout\": {\"title\": {\"text\": \" Model: 0.81*x + 0.11\"}}}, {\"data\": [{\"fill\": \"toself\", \"fillcolor\": \"rgba(255,65,54,0.5)\", \"hoverinfo\": \"none\", \"mode\": \"none\", \"showlegend\": false, \"x\": [1.05, 1.05, -0.05, -0.05, 1.05], \"y\": [0.9707783809233095, -0.05, -0.05, 0.063805833977916, 0.9707783809233095], \"type\": \"scatter\"}, {\"fill\": \"toself\", \"fillcolor\": \"rgba(0,116,217,0.5)\", \"hoverinfo\": \"none\", \"mode\": \"none\", \"showlegend\": false, \"x\": [-0.05, -0.05, 1.05, 1.05, -0.05], \"y\": [0.063805833977916, 1.05, 1.05, 0.9707783809233095, 0.063805833977916], \"type\": \"scatter\"}], \"layout\": {\"title\": {\"text\": \" Model: 0.82*x + 0.11\"}}}, {\"data\": [{\"fill\": \"toself\", \"fillcolor\": \"rgba(255,65,54,0.5)\", \"hoverinfo\": \"none\", \"mode\": \"none\", \"showlegend\": false, \"x\": [1.05, 1.05, -0.05, -0.05, 1.05], \"y\": [0.9761977002134885, -0.05, -0.05, 0.05497901899223338, 0.9761977002134885], \"type\": \"scatter\"}, {\"fill\": \"toself\", \"fillcolor\": \"rgba(0,116,217,0.5)\", \"hoverinfo\": \"none\", \"mode\": \"none\", \"showlegend\": false, \"x\": [-0.05, -0.05, 1.05, 1.05, -0.05], \"y\": [0.05497901899223338, 1.05, 1.05, 0.9761977002134885, 0.05497901899223338], \"type\": \"scatter\"}], \"layout\": {\"title\": {\"text\": \" Model: 0.84*x + 0.10\"}}}, {\"data\": [{\"fill\": \"toself\", \"fillcolor\": \"rgba(255,65,54,0.5)\", \"hoverinfo\": \"none\", \"mode\": \"none\", \"showlegend\": false, \"x\": [1.05, 1.05, -0.05, -0.05, 1.05], \"y\": [0.9810398944095811, -0.05, -0.05, 0.04698081455066277, 0.9810398944095811], \"type\": \"scatter\"}, {\"fill\": \"toself\", \"fillcolor\": \"rgba(0,116,217,0.5)\", \"hoverinfo\": \"none\", \"mode\": \"none\", \"showlegend\": false, \"x\": [-0.05, -0.05, 1.05, 1.05, -0.05], \"y\": [0.04698081455066277, 1.05, 1.05, 0.9810398944095811, 0.04698081455066277], \"type\": \"scatter\"}], \"layout\": {\"title\": {\"text\": \" Model: 0.85*x + 0.09\"}}}, {\"data\": [{\"fill\": \"toself\", \"fillcolor\": \"rgba(255,65,54,0.5)\", \"hoverinfo\": \"none\", \"mode\": \"none\", \"showlegend\": false, \"x\": [1.05, 1.05, -0.05, -0.05, 1.05], \"y\": [0.9855004233765158, -0.05, -0.05, 0.039509280600998536, 0.9855004233765158], \"type\": \"scatter\"}, {\"fill\": \"toself\", \"fillcolor\": \"rgba(0,116,217,0.5)\", \"hoverinfo\": \"none\", \"mode\": \"none\", \"showlegend\": false, \"x\": [-0.05, -0.05, 1.05, 1.05, -0.05], \"y\": [0.039509280600998536, 1.05, 1.05, 0.9855004233765158, 0.039509280600998536], \"type\": \"scatter\"}], \"layout\": {\"title\": {\"text\": \" Model: 0.86*x + 0.08\"}}}, {\"data\": [{\"fill\": \"toself\", \"fillcolor\": \"rgba(255,65,54,0.5)\", \"hoverinfo\": \"none\", \"mode\": \"none\", \"showlegend\": false, \"x\": [1.05, 1.05, -0.05, -0.05, 1.05], \"y\": [0.9895930543334975, -0.05, -0.05, 0.032555776861116, 0.9895930543334975], \"type\": \"scatter\"}, {\"fill\": \"toself\", \"fillcolor\": \"rgba(0,116,217,0.5)\", \"hoverinfo\": \"none\", \"mode\": \"none\", \"showlegend\": false, \"x\": [-0.05, -0.05, 1.05, 1.05, -0.05], \"y\": [0.032555776861116, 1.05, 1.05, 0.9895930543334975, 0.032555776861116], \"type\": \"scatter\"}], \"layout\": {\"title\": {\"text\": \" Model: 0.87*x + 0.08\"}}}, {\"data\": [{\"fill\": \"toself\", \"fillcolor\": \"rgba(255,65,54,0.5)\", \"hoverinfo\": \"none\", \"mode\": \"none\", \"showlegend\": false, \"x\": [1.05, 1.05, -0.05, -0.05, 1.05], \"y\": [0.9933355672104717, -0.05, -0.05, 0.026104194569167405, 0.9933355672104717], \"type\": \"scatter\"}, {\"fill\": \"toself\", \"fillcolor\": \"rgba(0,116,217,0.5)\", \"hoverinfo\": \"none\", \"mode\": \"none\", \"showlegend\": false, \"x\": [-0.05, -0.05, 1.05, 1.05, -0.05], \"y\": [0.026104194569167405, 1.05, 1.05, 0.9933355672104717, 0.026104194569167405], \"type\": \"scatter\"}], \"layout\": {\"title\": {\"text\": \" Model: 0.88*x + 0.07\"}}}, {\"data\": [{\"fill\": \"toself\", \"fillcolor\": \"rgba(255,65,54,0.5)\", \"hoverinfo\": \"none\", \"mode\": \"none\", \"showlegend\": false, \"x\": [1.05, 1.05, -0.05, -0.05, 1.05], \"y\": [0.9967482907125416, -0.05, -0.05, 0.020133166562831324, 0.9967482907125416], \"type\": \"scatter\"}, {\"fill\": \"toself\", \"fillcolor\": \"rgba(0,116,217,0.5)\", \"hoverinfo\": \"none\", \"mode\": \"none\", \"showlegend\": false, \"x\": [-0.05, -0.05, 1.05, 1.05, -0.05], \"y\": [0.020133166562831324, 1.05, 1.05, 0.9967482907125416, 0.020133166562831324], \"type\": \"scatter\"}], \"layout\": {\"title\": {\"text\": \" Model: 0.89*x + 0.06\"}}}, {\"data\": [{\"fill\": \"toself\", \"fillcolor\": \"rgba(255,65,54,0.5)\", \"hoverinfo\": \"none\", \"mode\": \"none\", \"showlegend\": false, \"x\": [1.05, 1.05, -0.05, -0.05, 1.05], \"y\": [0.9998529851995808, -0.05, -0.05, 0.014617830358597109, 0.9998529851995808], \"type\": \"scatter\"}, {\"fill\": \"toself\", \"fillcolor\": \"rgba(0,116,217,0.5)\", \"hoverinfo\": \"none\", \"mode\": \"none\", \"showlegend\": false, \"x\": [-0.05, -0.05, 1.05, 1.05, -0.05], \"y\": [0.014617830358597109, 1.05, 1.05, 0.9998529851995808, 0.014617830358597109], \"type\": \"scatter\"}], \"layout\": {\"title\": {\"text\": \" Model: 0.90*x + 0.06\"}}}, {\"data\": [{\"fill\": \"toself\", \"fillcolor\": \"rgba(255,65,54,0.5)\", \"hoverinfo\": \"none\", \"mode\": \"none\", \"showlegend\": false, \"x\": [1.05, 1.05, -0.05, -0.05, 1.05], \"y\": [1.0026720007327634, -0.05, -0.05, 0.009531215613996044, 1.0026720007327634], \"type\": \"scatter\"}, {\"fill\": \"toself\", \"fillcolor\": \"rgba(0,116,217,0.5)\", \"hoverinfo\": \"none\", \"mode\": \"none\", \"showlegend\": false, \"x\": [-0.05, -0.05, 1.05, 1.05, -0.05], \"y\": [0.009531215613996044, 1.05, 1.05, 1.0026720007327634, 0.009531215613996044], \"type\": \"scatter\"}], \"layout\": {\"title\": {\"text\": \" Model: 0.90*x + 0.05\"}}}, {\"data\": [{\"fill\": \"toself\", \"fillcolor\": \"rgba(255,65,54,0.5)\", \"hoverinfo\": \"none\", \"mode\": \"none\", \"showlegend\": false, \"x\": [1.05, 1.05, -0.05, -0.05, 1.05], \"y\": [1.005279303176574, -0.05, -0.05, 0.004749810737161658, 1.005279303176574], \"type\": \"scatter\"}, {\"fill\": \"toself\", \"fillcolor\": \"rgba(0,116,217,0.5)\", \"hoverinfo\": \"none\", \"mode\": \"none\", \"showlegend\": false, \"x\": [-0.05, -0.05, 1.05, 1.05, -0.05], \"y\": [0.004749810737161658, 1.05, 1.05, 1.005279303176574, 0.004749810737161658], \"type\": \"scatter\"}], \"layout\": {\"title\": {\"text\": \" Model: 0.91*x + 0.05\"}}}, {\"data\": [{\"fill\": \"toself\", \"fillcolor\": \"rgba(255,65,54,0.5)\", \"hoverinfo\": \"none\", \"mode\": \"none\", \"showlegend\": false, \"x\": [1.05, 1.05, -0.05, -0.05, 1.05], \"y\": [1.0076313134370687, -0.05, -0.05, 0.0003635258828912011, 1.0076313134370687], \"type\": \"scatter\"}, {\"fill\": \"toself\", \"fillcolor\": \"rgba(0,116,217,0.5)\", \"hoverinfo\": \"none\", \"mode\": \"none\", \"showlegend\": false, \"x\": [-0.05, -0.05, 1.05, 1.05, -0.05], \"y\": [0.0003635258828912011, 1.05, 1.05, 1.0076313134370687, 0.0003635258828912011], \"type\": \"scatter\"}], \"layout\": {\"title\": {\"text\": \" Model: 0.92*x + 0.05\"}}}, {\"data\": [{\"fill\": \"toself\", \"fillcolor\": \"rgba(255,65,54,0.5)\", \"hoverinfo\": \"none\", \"mode\": \"none\", \"showlegend\": false, \"x\": [1.05, 1.05, -0.05, -0.05, 1.05], \"y\": [1.009751906610035, -0.05, -0.05, -0.0036597913191077427, 1.009751906610035], \"type\": \"scatter\"}, {\"fill\": \"toself\", \"fillcolor\": \"rgba(0,116,217,0.5)\", \"hoverinfo\": \"none\", \"mode\": \"none\", \"showlegend\": false, \"x\": [-0.05, -0.05, 1.05, 1.05, -0.05], \"y\": [-0.0036597913191077427, 1.05, 1.05, 1.009751906610035, -0.0036597913191077427], \"type\": \"scatter\"}], \"layout\": {\"title\": {\"text\": \" Model: 0.92*x + 0.04\"}}}, {\"data\": [{\"fill\": \"toself\", \"fillcolor\": \"rgba(255,65,54,0.5)\", \"hoverinfo\": \"none\", \"mode\": \"none\", \"showlegend\": false, \"x\": [1.05, 1.05, -0.05, -0.05, 1.05], \"y\": [1.0116969345317335, -0.05, -0.05, -0.007416064282586003, 1.0116969345317335], \"type\": \"scatter\"}, {\"fill\": \"toself\", \"fillcolor\": \"rgba(0,116,217,0.5)\", \"hoverinfo\": \"none\", \"mode\": \"none\", \"showlegend\": false, \"x\": [-0.05, -0.05, 1.05, 1.05, -0.05], \"y\": [-0.007416064282586003, 1.05, 1.05, 1.0116969345317335, -0.007416064282586003], \"type\": \"scatter\"}], \"layout\": {\"title\": {\"text\": \" Model: 0.93*x + 0.04\"}}}, {\"data\": [{\"fill\": \"toself\", \"fillcolor\": \"rgba(255,65,54,0.5)\", \"hoverinfo\": \"none\", \"mode\": \"none\", \"showlegend\": false, \"x\": [1.05, 1.05, -0.05, -0.05, 1.05], \"y\": [1.0134446917747653, -0.05, -0.05, -0.010853524210554133, 1.0134446917747653], \"type\": \"scatter\"}, {\"fill\": \"toself\", \"fillcolor\": \"rgba(0,116,217,0.5)\", \"hoverinfo\": \"none\", \"mode\": \"none\", \"showlegend\": false, \"x\": [-0.05, -0.05, 1.05, 1.05, -0.05], \"y\": [-0.010853524210554133, 1.05, 1.05, 1.0134446917747653, -0.010853524210554133], \"type\": \"scatter\"}], \"layout\": {\"title\": {\"text\": \" Model: 0.93*x + 0.04\"}}}, {\"data\": [{\"fill\": \"toself\", \"fillcolor\": \"rgba(255,65,54,0.5)\", \"hoverinfo\": \"none\", \"mode\": \"none\", \"showlegend\": false, \"x\": [1.05, 1.05, -0.05, -0.05, 1.05], \"y\": [1.0150413320917329, -0.05, -0.05, -0.014052962289339568, 1.0150413320917329], \"type\": \"scatter\"}, {\"fill\": \"toself\", \"fillcolor\": \"rgba(0,116,217,0.5)\", \"hoverinfo\": \"none\", \"mode\": \"none\", \"showlegend\": false, \"x\": [-0.05, -0.05, 1.05, 1.05, -0.05], \"y\": [-0.014052962289339568, 1.05, 1.05, 1.0150413320917329, -0.014052962289339568], \"type\": \"scatter\"}], \"layout\": {\"title\": {\"text\": \" Model: 0.94*x + 0.03\"}}}, {\"data\": [{\"fill\": \"toself\", \"fillcolor\": \"rgba(255,65,54,0.5)\", \"hoverinfo\": \"none\", \"mode\": \"none\", \"showlegend\": false, \"x\": [1.05, 1.05, -0.05, -0.05, 1.05], \"y\": [1.015412597762197, -0.05, -0.05, -0.014805914167396364, 1.015412597762197], \"type\": \"scatter\"}, {\"fill\": \"toself\", \"fillcolor\": \"rgba(0,116,217,0.5)\", \"hoverinfo\": \"none\", \"mode\": \"none\", \"showlegend\": false, \"x\": [-0.05, -0.05, 1.05, 1.05, -0.05], \"y\": [-0.014805914167396364, 1.05, 1.05, 1.015412597762197, -0.014805914167396364], \"type\": \"scatter\"}], \"layout\": {\"title\": {\"text\": \"Final Model: 0.94*x + 0.03\"}}}]);\n",
       "                        }).then(function(){\n",
       "                            \n",
       "var gd = document.getElementById('bcd3db61-7252-4db9-b8bf-abf66ff22343');\n",
       "var x = new MutationObserver(function (mutations, observer) {{\n",
       "        var display = window.getComputedStyle(gd).display;\n",
       "        if (!display || display === 'none') {{\n",
       "            console.log([gd, 'removed!']);\n",
       "            Plotly.purge(gd);\n",
       "            observer.disconnect();\n",
       "        }}\n",
       "}});\n",
       "\n",
       "// Listen for the removal of the full notebook cells\n",
       "var notebookContainer = gd.closest('#notebook-container');\n",
       "if (notebookContainer) {{\n",
       "    x.observe(notebookContainer, {childList: true});\n",
       "}}\n",
       "\n",
       "// Listen for the clearing of the current output cell\n",
       "var outputEl = gd.closest('.output');\n",
       "if (outputEl) {{\n",
       "    x.observe(outputEl, {childList: true});\n",
       "}}\n",
       "\n",
       "                        })\n",
       "                };\n",
       "                });\n",
       "            </script>\n",
       "        </div>"
      ]
     },
     "metadata": {},
     "output_type": "display_data"
    }
   ],
   "source": [
    "gradient_descent_animation((0, 1), (0, 1), w_real=[1, -1, 0], w_initial=[-0.5, -1, 0.8], lr=1, layout=layout, class_names=class_names, inv_class_names_for_plot=True)"
   ]
  },
  {
   "cell_type": "markdown",
   "metadata": {
    "slideshow": {
     "slide_type": "subslide"
    }
   },
   "source": [
    "# Ikke-veiledet læring"
   ]
  },
  {
   "cell_type": "markdown",
   "metadata": {},
   "source": [
    "# Skaffe data\n",
    "\n",
    "- Wikipedia\n",
    "- Twitter\n",
    "- Nyheter"
   ]
  },
  {
   "cell_type": "markdown",
   "metadata": {
    "slideshow": {
     "slide_type": "subslide"
    }
   },
   "source": [
    "# Wikiextractor"
   ]
  },
  {
   "cell_type": "markdown",
   "metadata": {
    "slideshow": {
     "slide_type": "subslide"
    }
   },
   "source": [
    "# BeautifulSoup"
   ]
  },
  {
   "cell_type": "markdown",
   "metadata": {
    "slideshow": {
     "slide_type": "slide"
    }
   },
   "source": [
    "# Fra tekst til tall\n",
    "\n",
    "- Alle maskinlæringsmodeller bruker matematikk/statistikk for å finne optimal konfigurasjon\n",
    "- For å kunne bruke maskinlæring for NLP er vi derfor nødt til å konvertere tekstene til tall\n",
    "- Mange måter å gjøre dette på:\n",
    "    - Bag-of-words (BOW)\n",
    "    - BOW + TF-IDF\n",
    "    - N-grams (+ TF-IDF)\n",
    "    - Char n-grams (+ TF-IDF)\n",
    "    - Word embeddings (word2vec, Glove, fastText)\n",
    "    - Document embeddings (doc2vec, min/max/mean pooling, RNN encoder)\n",
    "    - Contextualized word embeddings (ELMO, BERT, Flair)"
   ]
  },
  {
   "cell_type": "markdown",
   "metadata": {
    "slideshow": {
     "slide_type": "subslide"
    }
   },
   "source": [
    "## Bag-of-words (BOW)\n",
    "\n",
    "- Tell antall forekomster av hvert enkelt ord, og lag én kolonne per ord\n",
    "- Hva er et ord? Standard definisjon er som regel \"en sammenhengende sekvens av alfanumeriske (a-z, 0-9, _) karakterer\""
   ]
  },
  {
   "cell_type": "code",
   "execution_count": 80,
   "metadata": {},
   "outputs": [
    {
     "data": {
      "text/html": [
       "<div>\n",
       "<style scoped>\n",
       "    .dataframe tbody tr th:only-of-type {\n",
       "        vertical-align: middle;\n",
       "    }\n",
       "\n",
       "    .dataframe tbody tr th {\n",
       "        vertical-align: top;\n",
       "    }\n",
       "\n",
       "    .dataframe thead th {\n",
       "        text-align: right;\n",
       "    }\n",
       "</style>\n",
       "<table border=\"1\" class=\"dataframe\">\n",
       "  <thead>\n",
       "    <tr style=\"text-align: right;\">\n",
       "      <th></th>\n",
       "      <th>dette</th>\n",
       "      <th>en</th>\n",
       "      <th>er</th>\n",
       "      <th>funker</th>\n",
       "      <th>håper</th>\n",
       "      <th>tekst</th>\n",
       "    </tr>\n",
       "  </thead>\n",
       "  <tbody>\n",
       "    <tr>\n",
       "      <th>0</th>\n",
       "      <td>1</td>\n",
       "      <td>1</td>\n",
       "      <td>1</td>\n",
       "      <td>0</td>\n",
       "      <td>0</td>\n",
       "      <td>1</td>\n",
       "    </tr>\n",
       "    <tr>\n",
       "      <th>1</th>\n",
       "      <td>1</td>\n",
       "      <td>0</td>\n",
       "      <td>0</td>\n",
       "      <td>1</td>\n",
       "      <td>1</td>\n",
       "      <td>0</td>\n",
       "    </tr>\n",
       "  </tbody>\n",
       "</table>\n",
       "</div>"
      ],
      "text/plain": [
       "   dette  en  er  funker  håper  tekst\n",
       "0      1   1   1       0      0      1\n",
       "1      1   0   0       1      1      0"
      ]
     },
     "execution_count": 80,
     "metadata": {},
     "output_type": "execute_result"
    }
   ],
   "source": [
    "from sklearn.feature_extraction.text import CountVectorizer\n",
    "import pandas as pd\n",
    "\n",
    "texts = [\"Dette er en tekst!\", \"håper dette funker :)\"]\n",
    "vec = CountVectorizer()\n",
    "texts_vec = vec.fit_transform(texts)\n",
    "pd.DataFrame(texts_vec.todense(), columns=vec.get_feature_names())"
   ]
  },
  {
   "cell_type": "code",
   "execution_count": 81,
   "metadata": {
    "slideshow": {
     "slide_type": "fragment"
    }
   },
   "outputs": [
    {
     "name": "stdout",
     "output_type": "stream",
     "text": [
      "  (0, 0)\t1\n",
      "  (0, 2)\t1\n",
      "  (0, 1)\t1\n",
      "  (0, 5)\t1\n",
      "  (1, 0)\t1\n",
      "  (1, 4)\t1\n",
      "  (1, 3)\t1\n"
     ]
    }
   ],
   "source": [
    "print(texts_vec)"
   ]
  },
  {
   "cell_type": "markdown",
   "metadata": {
    "slideshow": {
     "slide_type": "subslide"
    }
   },
   "source": [
    "Alternativt ord-mønster:"
   ]
  },
  {
   "cell_type": "code",
   "execution_count": 82,
   "metadata": {
    "scrolled": true
   },
   "outputs": [
    {
     "data": {
      "text/html": [
       "<div>\n",
       "<style scoped>\n",
       "    .dataframe tbody tr th:only-of-type {\n",
       "        vertical-align: middle;\n",
       "    }\n",
       "\n",
       "    .dataframe tbody tr th {\n",
       "        vertical-align: top;\n",
       "    }\n",
       "\n",
       "    .dataframe thead th {\n",
       "        text-align: right;\n",
       "    }\n",
       "</style>\n",
       "<table border=\"1\" class=\"dataframe\">\n",
       "  <thead>\n",
       "    <tr style=\"text-align: right;\">\n",
       "      <th></th>\n",
       "      <th>!</th>\n",
       "      <th>:)</th>\n",
       "      <th>dette</th>\n",
       "      <th>en</th>\n",
       "      <th>er</th>\n",
       "      <th>funker</th>\n",
       "      <th>håper</th>\n",
       "      <th>tekst</th>\n",
       "    </tr>\n",
       "  </thead>\n",
       "  <tbody>\n",
       "    <tr>\n",
       "      <th>0</th>\n",
       "      <td>1</td>\n",
       "      <td>0</td>\n",
       "      <td>1</td>\n",
       "      <td>1</td>\n",
       "      <td>1</td>\n",
       "      <td>0</td>\n",
       "      <td>0</td>\n",
       "      <td>1</td>\n",
       "    </tr>\n",
       "    <tr>\n",
       "      <th>1</th>\n",
       "      <td>0</td>\n",
       "      <td>1</td>\n",
       "      <td>1</td>\n",
       "      <td>0</td>\n",
       "      <td>0</td>\n",
       "      <td>1</td>\n",
       "      <td>1</td>\n",
       "      <td>0</td>\n",
       "    </tr>\n",
       "  </tbody>\n",
       "</table>\n",
       "</div>"
      ],
      "text/plain": [
       "   !  :)  dette  en  er  funker  håper  tekst\n",
       "0  1   0      1   1   1       0      0      1\n",
       "1  0   1      1   0   0       1      1      0"
      ]
     },
     "execution_count": 82,
     "metadata": {},
     "output_type": "execute_result"
    }
   ],
   "source": [
    "vec2 = CountVectorizer(token_pattern=\"(?:\\w+|[^\\w\\s]+)\")\n",
    "texts_vec2 = vec2.fit_transform(texts)\n",
    "pd.DataFrame(texts_vec2.todense(), columns=vec2.get_feature_names())"
   ]
  },
  {
   "cell_type": "markdown",
   "metadata": {
    "slideshow": {
     "slide_type": "fragment"
    }
   },
   "source": [
    "Tips:\n",
    "- Jobber du med et domene du kjenner, eller domene-eksperter - bruk kunnskapen din til å forbedre ord-mønsteret ditt.\n",
    "- F.eks. vil smileys muligens være nyttig å hente ut som egne ord om du bygger en sentiment-klassifiserer."
   ]
  },
  {
   "cell_type": "markdown",
   "metadata": {
    "slideshow": {
     "slide_type": "subslide"
    }
   },
   "source": [
    "# \"TF-IDF\"-vekting av ord\n",
    "- **TF** (Term frequency): Antall ganger ordet oppstår i en bestemt tekst\n",
    "- **IDF** (Inverse document frequency): Antall ganger ordet oppstår i alle tekster\n",
    "- Med TF-IDF vekter vi opp om de oppstår flere ganger i en tekst, og ned om de oppstår ofte i alle tekster\n",
    "- Intuitivt: et ord som brukes flere ganger i en tekst er sannsynligvis viktig for denne teksten, men om det oppstår ofte i alle tekster er det sannsynligvis bare et vanlig ord i vokabularet og bør vektes ned"
   ]
  },
  {
   "cell_type": "markdown",
   "metadata": {
    "slideshow": {
     "slide_type": "subslide"
    }
   },
   "source": [
    "Med TF, uten IDF:"
   ]
  },
  {
   "cell_type": "code",
   "execution_count": 83,
   "metadata": {},
   "outputs": [
    {
     "data": {
      "text/html": [
       "<div>\n",
       "<style scoped>\n",
       "    .dataframe tbody tr th:only-of-type {\n",
       "        vertical-align: middle;\n",
       "    }\n",
       "\n",
       "    .dataframe tbody tr th {\n",
       "        vertical-align: top;\n",
       "    }\n",
       "\n",
       "    .dataframe thead th {\n",
       "        text-align: right;\n",
       "    }\n",
       "</style>\n",
       "<table border=\"1\" class=\"dataframe\">\n",
       "  <thead>\n",
       "    <tr style=\"text-align: right;\">\n",
       "      <th></th>\n",
       "      <th>bra</th>\n",
       "      <th>det</th>\n",
       "      <th>ha</th>\n",
       "      <th>morsomt</th>\n",
       "      <th>var</th>\n",
       "      <th>veldig</th>\n",
       "    </tr>\n",
       "  </thead>\n",
       "  <tbody>\n",
       "    <tr>\n",
       "      <th>0</th>\n",
       "      <td>0.0</td>\n",
       "      <td>1.0</td>\n",
       "      <td>2.0</td>\n",
       "      <td>1.0</td>\n",
       "      <td>1.0</td>\n",
       "      <td>0.0</td>\n",
       "    </tr>\n",
       "    <tr>\n",
       "      <th>1</th>\n",
       "      <td>1.0</td>\n",
       "      <td>1.0</td>\n",
       "      <td>0.0</td>\n",
       "      <td>0.0</td>\n",
       "      <td>1.0</td>\n",
       "      <td>3.0</td>\n",
       "    </tr>\n",
       "  </tbody>\n",
       "</table>\n",
       "</div>"
      ],
      "text/plain": [
       "   bra  det   ha  morsomt  var  veldig\n",
       "0  0.0  1.0  2.0      1.0  1.0     0.0\n",
       "1  1.0  1.0  0.0      0.0  1.0     3.0"
      ]
     },
     "execution_count": 83,
     "metadata": {},
     "output_type": "execute_result"
    }
   ],
   "source": [
    "from sklearn.feature_extraction.text import TfidfVectorizer\n",
    "texts = [\"Ha ha det var morsomt\", \"Det var veldig, veldig, veldig bra\"]\n",
    "vec3 = TfidfVectorizer(use_idf=False, norm=None)\n",
    "texts_vec3 = vec3.fit_transform(texts)\n",
    "pd.DataFrame(texts_vec3.todense(), columns=vec3.get_feature_names())"
   ]
  },
  {
   "cell_type": "markdown",
   "metadata": {
    "slideshow": {
     "slide_type": "fragment"
    }
   },
   "source": [
    "Med TF og IDF:"
   ]
  },
  {
   "cell_type": "code",
   "execution_count": 84,
   "metadata": {},
   "outputs": [
    {
     "data": {
      "text/html": [
       "<div>\n",
       "<style scoped>\n",
       "    .dataframe tbody tr th:only-of-type {\n",
       "        vertical-align: middle;\n",
       "    }\n",
       "\n",
       "    .dataframe tbody tr th {\n",
       "        vertical-align: top;\n",
       "    }\n",
       "\n",
       "    .dataframe thead th {\n",
       "        text-align: right;\n",
       "    }\n",
       "</style>\n",
       "<table border=\"1\" class=\"dataframe\">\n",
       "  <thead>\n",
       "    <tr style=\"text-align: right;\">\n",
       "      <th></th>\n",
       "      <th>bra</th>\n",
       "      <th>det</th>\n",
       "      <th>ha</th>\n",
       "      <th>morsomt</th>\n",
       "      <th>var</th>\n",
       "      <th>veldig</th>\n",
       "    </tr>\n",
       "  </thead>\n",
       "  <tbody>\n",
       "    <tr>\n",
       "      <th>0</th>\n",
       "      <td>0.000000</td>\n",
       "      <td>1.0</td>\n",
       "      <td>2.81093</td>\n",
       "      <td>1.405465</td>\n",
       "      <td>1.0</td>\n",
       "      <td>0.000000</td>\n",
       "    </tr>\n",
       "    <tr>\n",
       "      <th>1</th>\n",
       "      <td>1.405465</td>\n",
       "      <td>1.0</td>\n",
       "      <td>0.00000</td>\n",
       "      <td>0.000000</td>\n",
       "      <td>1.0</td>\n",
       "      <td>4.216395</td>\n",
       "    </tr>\n",
       "  </tbody>\n",
       "</table>\n",
       "</div>"
      ],
      "text/plain": [
       "        bra  det       ha   morsomt  var    veldig\n",
       "0  0.000000  1.0  2.81093  1.405465  1.0  0.000000\n",
       "1  1.405465  1.0  0.00000  0.000000  1.0  4.216395"
      ]
     },
     "execution_count": 84,
     "metadata": {},
     "output_type": "execute_result"
    }
   ],
   "source": [
    "vec4 = TfidfVectorizer(use_idf=True, norm=None)\n",
    "texts_vec4 = vec4.fit_transform(texts)\n",
    "pd.DataFrame(texts_vec4.todense(), columns=vec4.get_feature_names())"
   ]
  },
  {
   "cell_type": "markdown",
   "metadata": {
    "slideshow": {
     "slide_type": "subslide"
    }
   },
   "source": [
    "# N-grams\n",
    "\n",
    "- En naturlig utvidelse av bag-of-words er å se på uttrykk som består av mer enn ett ord, såkalte \"n-gram\"\n",
    "    - F.eks. \"New York\", \"Amazon Web Services\"\n",
    "- Mest brukt er såkalte *bigrams* og *trigrams*, som består av hhv. 2 og 3 etterfølgende ord. \n",
    "    - Man kan se på n-grams av større størrelse, men av erfaring er ofte bigrams nok, noen få ganger trigrams\n",
    "- Den enkleste formen for generering av n-grams vil være å helt enkelt *generere alle mulige kombinasjoner av ord fra datasettet*"
   ]
  },
  {
   "cell_type": "code",
   "execution_count": 85,
   "metadata": {
    "slideshow": {
     "slide_type": "subslide"
    }
   },
   "outputs": [
    {
     "data": {
      "text/html": [
       "<div>\n",
       "<style scoped>\n",
       "    .dataframe tbody tr th:only-of-type {\n",
       "        vertical-align: middle;\n",
       "    }\n",
       "\n",
       "    .dataframe tbody tr th {\n",
       "        vertical-align: top;\n",
       "    }\n",
       "\n",
       "    .dataframe thead th {\n",
       "        text-align: right;\n",
       "    }\n",
       "</style>\n",
       "<table border=\"1\" class=\"dataframe\">\n",
       "  <thead>\n",
       "    <tr style=\"text-align: right;\">\n",
       "      <th></th>\n",
       "      <th>dette</th>\n",
       "      <th>dette er</th>\n",
       "      <th>dette funker</th>\n",
       "      <th>en</th>\n",
       "      <th>en tekst</th>\n",
       "      <th>er</th>\n",
       "      <th>er en</th>\n",
       "      <th>funker</th>\n",
       "      <th>håper</th>\n",
       "      <th>håper dette</th>\n",
       "      <th>tekst</th>\n",
       "    </tr>\n",
       "  </thead>\n",
       "  <tbody>\n",
       "    <tr>\n",
       "      <th>0</th>\n",
       "      <td>1</td>\n",
       "      <td>1</td>\n",
       "      <td>0</td>\n",
       "      <td>1</td>\n",
       "      <td>1</td>\n",
       "      <td>1</td>\n",
       "      <td>1</td>\n",
       "      <td>0</td>\n",
       "      <td>0</td>\n",
       "      <td>0</td>\n",
       "      <td>1</td>\n",
       "    </tr>\n",
       "    <tr>\n",
       "      <th>1</th>\n",
       "      <td>1</td>\n",
       "      <td>0</td>\n",
       "      <td>1</td>\n",
       "      <td>0</td>\n",
       "      <td>0</td>\n",
       "      <td>0</td>\n",
       "      <td>0</td>\n",
       "      <td>1</td>\n",
       "      <td>1</td>\n",
       "      <td>1</td>\n",
       "      <td>0</td>\n",
       "    </tr>\n",
       "  </tbody>\n",
       "</table>\n",
       "</div>"
      ],
      "text/plain": [
       "   dette  dette er  dette funker  en  en tekst  er  er en  funker  håper  \\\n",
       "0      1         1             0   1         1   1      1       0      0   \n",
       "1      1         0             1   0         0   0      0       1      1   \n",
       "\n",
       "   håper dette  tekst  \n",
       "0            0      1  \n",
       "1            1      0  "
      ]
     },
     "execution_count": 85,
     "metadata": {},
     "output_type": "execute_result"
    }
   ],
   "source": [
    "texts = [\"Dette er en tekst!\", \"håper dette funker :)\"]\n",
    "vec = CountVectorizer(ngram_range=(1, 2))\n",
    "texts_vec = vec.fit_transform(texts)\n",
    "pd.DataFrame(texts_vec.todense(), columns=vec.get_feature_names())"
   ]
  },
  {
   "cell_type": "markdown",
   "metadata": {
    "slideshow": {
     "slide_type": "subslide"
    }
   },
   "source": [
    "Det er dessuten vanlig å kombinere n-grams med TF-IDF vekting:"
   ]
  },
  {
   "cell_type": "code",
   "execution_count": 86,
   "metadata": {},
   "outputs": [
    {
     "data": {
      "text/html": [
       "<div>\n",
       "<style scoped>\n",
       "    .dataframe tbody tr th:only-of-type {\n",
       "        vertical-align: middle;\n",
       "    }\n",
       "\n",
       "    .dataframe tbody tr th {\n",
       "        vertical-align: top;\n",
       "    }\n",
       "\n",
       "    .dataframe thead th {\n",
       "        text-align: right;\n",
       "    }\n",
       "</style>\n",
       "<table border=\"1\" class=\"dataframe\">\n",
       "  <thead>\n",
       "    <tr style=\"text-align: right;\">\n",
       "      <th></th>\n",
       "      <th>dette</th>\n",
       "      <th>dette er</th>\n",
       "      <th>dette funker</th>\n",
       "      <th>en</th>\n",
       "      <th>en tekst</th>\n",
       "      <th>er</th>\n",
       "      <th>er en</th>\n",
       "      <th>funker</th>\n",
       "      <th>håper</th>\n",
       "      <th>håper dette</th>\n",
       "      <th>tekst</th>\n",
       "    </tr>\n",
       "  </thead>\n",
       "  <tbody>\n",
       "    <tr>\n",
       "      <th>0</th>\n",
       "      <td>0.278943</td>\n",
       "      <td>0.392044</td>\n",
       "      <td>0.000000</td>\n",
       "      <td>0.392044</td>\n",
       "      <td>0.392044</td>\n",
       "      <td>0.392044</td>\n",
       "      <td>0.392044</td>\n",
       "      <td>0.000000</td>\n",
       "      <td>0.000000</td>\n",
       "      <td>0.000000</td>\n",
       "      <td>0.392044</td>\n",
       "    </tr>\n",
       "    <tr>\n",
       "      <th>1</th>\n",
       "      <td>0.335176</td>\n",
       "      <td>0.000000</td>\n",
       "      <td>0.471078</td>\n",
       "      <td>0.000000</td>\n",
       "      <td>0.000000</td>\n",
       "      <td>0.000000</td>\n",
       "      <td>0.000000</td>\n",
       "      <td>0.471078</td>\n",
       "      <td>0.471078</td>\n",
       "      <td>0.471078</td>\n",
       "      <td>0.000000</td>\n",
       "    </tr>\n",
       "  </tbody>\n",
       "</table>\n",
       "</div>"
      ],
      "text/plain": [
       "      dette  dette er  dette funker        en  en tekst        er     er en  \\\n",
       "0  0.278943  0.392044      0.000000  0.392044  0.392044  0.392044  0.392044   \n",
       "1  0.335176  0.000000      0.471078  0.000000  0.000000  0.000000  0.000000   \n",
       "\n",
       "     funker     håper  håper dette     tekst  \n",
       "0  0.000000  0.000000     0.000000  0.392044  \n",
       "1  0.471078  0.471078     0.471078  0.000000  "
      ]
     },
     "execution_count": 86,
     "metadata": {},
     "output_type": "execute_result"
    }
   ],
   "source": [
    "texts = [\"Dette er en tekst!\", \"håper dette funker :)\"]\n",
    "vec = TfidfVectorizer(ngram_range=(1, 2))\n",
    "texts_vec = vec.fit_transform(texts)\n",
    "pd.DataFrame(texts_vec.todense(), columns=vec.get_feature_names())"
   ]
  },
  {
   "cell_type": "markdown",
   "metadata": {
    "slideshow": {
     "slide_type": "subslide"
    }
   },
   "source": [
    "## Mer intelligent generering av bigrams "
   ]
  },
  {
   "cell_type": "code",
   "execution_count": 129,
   "metadata": {},
   "outputs": [
    {
     "data": {
      "text/html": [
       "<div>\n",
       "<style scoped>\n",
       "    .dataframe tbody tr th:only-of-type {\n",
       "        vertical-align: middle;\n",
       "    }\n",
       "\n",
       "    .dataframe tbody tr th {\n",
       "        vertical-align: top;\n",
       "    }\n",
       "\n",
       "    .dataframe thead th {\n",
       "        text-align: right;\n",
       "    }\n",
       "</style>\n",
       "<table border=\"1\" class=\"dataframe\">\n",
       "  <thead>\n",
       "    <tr style=\"text-align: right;\">\n",
       "      <th></th>\n",
       "      <th>deg</th>\n",
       "      <th>deg dette</th>\n",
       "      <th>dette</th>\n",
       "      <th>dette er</th>\n",
       "      <th>en</th>\n",
       "      <th>en test</th>\n",
       "      <th>er</th>\n",
       "      <th>er en</th>\n",
       "      <th>hei</th>\n",
       "      <th>hei på</th>\n",
       "      <th>på</th>\n",
       "      <th>på deg</th>\n",
       "      <th>test</th>\n",
       "    </tr>\n",
       "  </thead>\n",
       "  <tbody>\n",
       "    <tr>\n",
       "      <th>0</th>\n",
       "      <td>1</td>\n",
       "      <td>1</td>\n",
       "      <td>1</td>\n",
       "      <td>1</td>\n",
       "      <td>1</td>\n",
       "      <td>1</td>\n",
       "      <td>1</td>\n",
       "      <td>1</td>\n",
       "      <td>1</td>\n",
       "      <td>1</td>\n",
       "      <td>1</td>\n",
       "      <td>1</td>\n",
       "      <td>1</td>\n",
       "    </tr>\n",
       "  </tbody>\n",
       "</table>\n",
       "</div>"
      ],
      "text/plain": [
       "   deg  deg dette  dette  dette er  en  en test  er  er en  hei  hei på  på  \\\n",
       "0    1          1      1         1   1        1   1      1    1       1   1   \n",
       "\n",
       "   på deg  test  \n",
       "0       1     1  "
      ]
     },
     "execution_count": 129,
     "metadata": {},
     "output_type": "execute_result"
    }
   ],
   "source": [
    "vec = CountVectorizer(ngram_range=(1, 2))\n",
    "texts_vec = vec.fit_transform([\"Hei på deg. Dette er en test.\"])\n",
    "pd.DataFrame(texts_vec.todense(), columns=vec.get_feature_names())"
   ]
  },
  {
   "cell_type": "markdown",
   "metadata": {},
   "source": [
    "- Legg merke til kolonne 2 \"deg dette\". Her har vi fått generert et uttrykk på tvers av setninger. Vi vet at det aldri skal skje. Vi bør splitte tekstene i setninger for mer fornuftig generering av n-grams.\n",
    "- Vi er dessuten ikke interessert i alle mulige kombinasjoner, kun de som (sannsynligvis) er faktiske uttrykk"
   ]
  },
  {
   "cell_type": "markdown",
   "metadata": {
    "slideshow": {
     "slide_type": "subslide"
    }
   },
   "source": [
    "## Splitting av setninger\n",
    "\n",
    "- Å splitte setninger er ikke så enkelt som å bare splitte på punktum, da vil man f.eks. feil ved forkortelser.\n",
    "- Heldigvis er dette et vanlig problem, og det finnes flere pakker med funksjonalitet for å gjøre dette - også for norsk."
   ]
  },
  {
   "cell_type": "code",
   "execution_count": 88,
   "metadata": {
    "slideshow": {
     "slide_type": "skip"
    }
   },
   "outputs": [],
   "source": [
    "def print_sents(sents):\n",
    "    for i, sent in enumerate(sents):\n",
    "        print(f\"Sentence {i+1}:\", repr(str(sent)))"
   ]
  },
  {
   "cell_type": "markdown",
   "metadata": {
    "slideshow": {
     "slide_type": "fragment"
    }
   },
   "source": [
    "Spacy har delvis støtte for norsk. Splitting av setinger er blant annet støttet:"
   ]
  },
  {
   "cell_type": "code",
   "execution_count": 89,
   "metadata": {},
   "outputs": [
    {
     "name": "stdout",
     "output_type": "stream",
     "text": [
      "Sentence 1: 'Dette er en test.'\n",
      "Sentence 2: 'Funker dette?'\n",
      "Sentence 3: 'Her har vi f.eks. en forkortelse.'\n",
      "Sentence 4: 'Dr.'\n",
      "Sentence 5: 'Dre var'\n"
     ]
    }
   ],
   "source": [
    "from spacy.lang.nb import Norwegian\n",
    "sent_pipeline = Norwegian()\n",
    "sentencizer = sent_pipeline.create_pipe(\"sentencizer\")\n",
    "sent_pipeline.add_pipe(sentencizer)\n",
    "doc = sent_pipeline(\"Dette er en test. Funker dette? Her har vi f.eks. en forkortelse. Dr. Dre var \")\n",
    "print_sents(doc.sents)"
   ]
  },
  {
   "cell_type": "markdown",
   "metadata": {
    "slideshow": {
     "slide_type": "skip"
    }
   },
   "source": [
    "Polyglot har også full støtte for norsk:"
   ]
  },
  {
   "cell_type": "code",
   "execution_count": null,
   "metadata": {
    "slideshow": {
     "slide_type": "skip"
    }
   },
   "outputs": [],
   "source": [
    "from polyglot.text import Text\n",
    "doc = Text(\"Dette er en test. Funker dette? Her har vi f.eks. en forkortelse.\", hint_language_code=\"nb\")\n",
    "print_sents(doc.sentences)"
   ]
  },
  {
   "cell_type": "markdown",
   "metadata": {
    "slideshow": {
     "slide_type": "subslide"
    }
   },
   "source": [
    "Hva med ekte data?"
   ]
  },
  {
   "cell_type": "code",
   "execution_count": 90,
   "metadata": {},
   "outputs": [
    {
     "name": "stdout",
     "output_type": "stream",
     "text": [
      "Vær snill å lese de nye retningslinjene før du poster i loggkategoriene. Den viktigste endringen er:\n",
      "\n",
      "Plassering\n",
      "Loggområdet er delt i Arbeidslogger og Arbeidslogger - Kommentarer.\n",
      "- \"Arbeidslogger\" en kategorien hvor arbeidsloggen skal føres. Kun de som deltar i prosjektet (som oftest trådstarter) skal poste i denne tråden.\n",
      "- \"Arbeidslogger - Kommentarer\" er en kategori hvor du skal opprette en tråd med samme tittel som den du opprettet i \"Arbeidslogger\", slik at andre kan kommentere ditt arbeide. Her kan alle svare.\n",
      "\n",
      "Bilder fra loggen skal ikke legges i kommentartråden. Fra første post i kommentartråden linker du til arbeidsloggen, kanskje med et lite bilde.\n",
      "\n",
      "Alle de gamle trådene er flyttet til \" Arbeidslogger - Kommentarer\". Trådstarere må gjerne opprette arbeidslogger i \"Arbeidslogger\" med basis i den gamle tråden (som nå vil fungere som kommentartråd.\n"
     ]
    }
   ],
   "source": [
    "df = load_diskusjon_no_data(-1)\n",
    "text = df.body.iloc[1]\n",
    "print(text)"
   ]
  },
  {
   "cell_type": "code",
   "execution_count": 91,
   "metadata": {
    "slideshow": {
     "slide_type": "fragment"
    }
   },
   "outputs": [
    {
     "name": "stdout",
     "output_type": "stream",
     "text": [
      "Sentence 1: 'Vær snill å lese de nye retningslinjene før du poster i loggkategoriene.'\n",
      "Sentence 2: 'Den viktigste endringen er:\\n\\nPlassering\\nLoggområdet er delt i Arbeidslogger og Arbeidslogger - Kommentarer.'\n",
      "Sentence 3: '\\n- \"Arbeidslogger\" en kategorien hvor arbeidsloggen skal føres.'\n",
      "Sentence 4: 'Kun de som deltar i prosjektet (som oftest trådstarter) skal poste i denne tråden.'\n",
      "Sentence 5: '\\n- \"Arbeidslogger - Kommentarer\" er en kategori hvor du skal opprette en tråd med samme tittel som den du opprettet i \"Arbeidslogger\", slik at andre kan kommentere ditt arbeide.'\n",
      "Sentence 6: 'Her kan alle svare.'\n",
      "Sentence 7: '\\n\\nBilder fra loggen skal ikke legges i kommentartråden.'\n",
      "Sentence 8: 'Fra første post i kommentartråden linker du til arbeidsloggen, kanskje med et lite bilde.'\n",
      "Sentence 9: '\\n\\nAlle de gamle trådene er flyttet til \" Arbeidslogger - Kommentarer\".'\n",
      "Sentence 10: 'Trådstarere må gjerne opprette arbeidslogger i \"Arbeidslogger\" med basis i den gamle tråden (som nå vil fungere som kommentartråd.'\n"
     ]
    }
   ],
   "source": [
    "doc = sent_pipeline(text)\n",
    "print_sents(doc.sents)"
   ]
  },
  {
   "cell_type": "markdown",
   "metadata": {
    "slideshow": {
     "slide_type": "subslide"
    }
   },
   "source": [
    "La oss splitte alle postene fra diskusjon.no i setninger. Vi antar at alle post-titler allerede er splittet, så vi dropper å splitte disse."
   ]
  },
  {
   "cell_type": "code",
   "execution_count": 92,
   "metadata": {
    "slideshow": {
     "slide_type": "fragment"
    }
   },
   "outputs": [
    {
     "name": "stdout",
     "output_type": "stream",
     "text": [
      "CPU times: user 230 ms, sys: 30 ms, total: 260 ms\n",
      "Wall time: 7.17 s\n"
     ]
    }
   ],
   "source": [
    "%%time\n",
    "def _split_into_sentences(text):\n",
    "    doc = sent_pipeline(text)\n",
    "    return [str(sent).strip() for sent in doc.sents]\n",
    "\n",
    "body_sents = process(_split_into_sentences, df.body)"
   ]
  },
  {
   "cell_type": "markdown",
   "metadata": {
    "slideshow": {
     "slide_type": "subslide"
    }
   },
   "source": [
    "## Generering av bigrams fra setningene"
   ]
  },
  {
   "cell_type": "code",
   "execution_count": 94,
   "metadata": {
    "slideshow": {
     "slide_type": "-"
    }
   },
   "outputs": [],
   "source": [
    "all_sents = df.title.tolist() + [s for sentences in body_sents for s in sentences]"
   ]
  },
  {
   "cell_type": "code",
   "execution_count": 95,
   "metadata": {},
   "outputs": [
    {
     "data": {
      "text/plain": [
       "136643"
      ]
     },
     "execution_count": 95,
     "metadata": {},
     "output_type": "execute_result"
    }
   ],
   "source": [
    "len(all_sents)"
   ]
  },
  {
   "cell_type": "code",
   "execution_count": 96,
   "metadata": {
    "slideshow": {
     "slide_type": "fragment"
    }
   },
   "outputs": [],
   "source": [
    "from gensim.models.phrases import Phrases, Phraser\n",
    "from spacy.lang.nb.stop_words import STOP_WORDS\n",
    "\n",
    "tokenize = lambda sent: [word.lower() for word in re.findall(r\"\\w+\", sent)]\n",
    "all_sents_tokens = [tokenize(s) for s in all_sents]\n",
    "phrases = Phrases(all_sents_tokens, min_count=3, threshold=1, common_terms=STOP_WORDS)\n",
    "bigram = Phraser(phrases)"
   ]
  },
  {
   "cell_type": "code",
   "execution_count": 97,
   "metadata": {
    "slideshow": {
     "slide_type": "fragment"
    }
   },
   "outputs": [
    {
     "data": {
      "text/plain": [
       "['jeg', 'har', 'windows_10', 'på', 'min', 'gaming_pc']"
      ]
     },
     "execution_count": 97,
     "metadata": {},
     "output_type": "execute_result"
    }
   ],
   "source": [
    "bigram[tokenize(\"Jeg har windows 10 på min gaming pc\")]"
   ]
  },
  {
   "cell_type": "markdown",
   "metadata": {
    "slideshow": {
     "slide_type": "subslide"
    }
   },
   "source": [
    "La oss se på de mest vanlige bigramene i tekstene våre:"
   ]
  },
  {
   "cell_type": "code",
   "execution_count": 98,
   "metadata": {
    "slideshow": {
     "slide_type": "skip"
    }
   },
   "outputs": [],
   "source": [
    "from collections import Counter\n",
    "\n",
    "def count_ngrams(phraser, sentences, n=None):\n",
    "    ngrams_counter = Counter()\n",
    "    for sent in sentences:\n",
    "        phrases = phraser[sent]\n",
    "        tokens = [token for token in phrases if _is_ngram(token, n)]            \n",
    "        ngrams_counter.update(tokens)\n",
    "    return ngrams_counter\n",
    "\n",
    "def _is_ngram(token, n):\n",
    "    if \"_\" not in token:\n",
    "        return False\n",
    "    if n is None:\n",
    "        return True\n",
    "    words = token.split(\"_\")\n",
    "    return len([w for w in words if w not in STOP_WORDS]) == n\n",
    "\n",
    "\n",
    "def print_most_common(counter, n):\n",
    "    for key, count in counter.most_common(n):\n",
    "        print(f\"{key:<20} {count}\")"
   ]
  },
  {
   "cell_type": "code",
   "execution_count": 99,
   "metadata": {},
   "outputs": [],
   "source": [
    "bigrams_counter = count_ngrams(bigram, all_sents_tokens)"
   ]
  },
  {
   "cell_type": "markdown",
   "metadata": {
    "slideshow": {
     "slide_type": "fragment"
    }
   },
   "source": [
    "Merk at vi vil ha fraser med mer enn to ord, fordi såkalte \"stopwords\" ikke teller med i antall ord for n-gramet når vi bruker denne algoritmen"
   ]
  },
  {
   "cell_type": "code",
   "execution_count": 100,
   "metadata": {},
   "outputs": [
    {
     "name": "stdout",
     "output_type": "stream",
     "text": [
      "https_www            1292\n",
      "http_www             932\n",
      "f_eks                837\n",
      "rett_og_slett        283\n",
      "diskusjon_no         246\n",
      "of_the               227\n",
      "forhånd_takk         221\n",
      "1_2                  211\n",
      "windows_10           205\n",
      "in_the               171\n",
      "takk_for_svar        166\n",
      "trenger_hjelp        157\n",
      "takk_på_forhånd      150\n",
      "setter_pris          148\n",
      "anonymous_poster     144\n",
      "blu_ray              142\n",
      "2_3                  142\n",
      "3_5                  137\n",
      "3_4                  136\n",
      "finn_no              125\n",
      "o_l                  122\n",
      "apple_tv             119\n",
      "myspace_offisiell    106\n",
      "canal_digital        105\n",
      "5_1                  104\n",
      "2_5                  100\n",
      "bl_a                 98\n",
      "1_1                  98\n",
      "samsung_galaxy       97\n",
      "tusen_takk           97\n"
     ]
    }
   ],
   "source": [
    "print_most_common(bigrams_counter, 30)"
   ]
  },
  {
   "cell_type": "markdown",
   "metadata": {
    "slideshow": {
     "slide_type": "subslide"
    }
   },
   "source": [
    "## Fra bigrams til trigrams og videre\n",
    "\n",
    "For å generere trigrams kan vi kjøre samme algoritme som over, rekursivt:"
   ]
  },
  {
   "cell_type": "code",
   "execution_count": 101,
   "metadata": {},
   "outputs": [],
   "source": [
    "all_sents_bigrams = bigram[all_sents_tokens]\n",
    "trigram = Phrases(all_sents_bigrams, min_count=3, threshold=1, common_terms=STOP_WORDS)\n",
    "trigram = Phraser(trigram)"
   ]
  },
  {
   "cell_type": "code",
   "execution_count": 102,
   "metadata": {},
   "outputs": [],
   "source": [
    "trigrams_counter = count_ngrams(trigram, all_sents_bigrams, n=3)"
   ]
  },
  {
   "cell_type": "code",
   "execution_count": 103,
   "metadata": {},
   "outputs": [
    {
     "name": "stdout",
     "output_type": "stream",
     "text": [
      "https_www_komplett   136\n",
      "anonymous_poster_hash 129\n",
      "myspace_offisiell_hjemmeside 101\n",
      "karakter_10_10       56\n",
      "per_dags_dato        42\n",
      "karakter_9_10        39\n",
      "https_www_youtube    37\n",
      "karakter_8_10        32\n",
      "lars_von_trier       30\n",
      "anders_behring_breivik 27\n",
      "https_www_diskusjo   27\n",
      "forhånd_takk_for_svar 27\n",
      "juni_18_00           27\n",
      "com_http_www         26\n",
      "https_prisguiden_n   25\n",
      "karakter_7_10        24\n",
      "rock_n_roll          24\n",
      "blu_ray_spiller      21\n",
      "fritt_til_å_tolke_temaet 21\n",
      "galleriet_på_akam_no 21\n",
      "karakter_6_10        21\n",
      "usb_2_0              20\n",
      "m_2_ssd              20\n",
      "f_2_8                19\n",
      "samarbeider_med_diskusjon_no 19\n",
      "sporliste_min_mening 19\n",
      "ipb3_0_oppgr         18\n",
      "takk_for_all_hjelp   18\n",
      "forhånd_tusen_takk   18\n",
      "usb_3_0              17\n"
     ]
    }
   ],
   "source": [
    "print_most_common(trigrams_counter, 30)"
   ]
  },
  {
   "cell_type": "markdown",
   "metadata": {
    "slideshow": {
     "slide_type": "subslide"
    }
   },
   "source": [
    "## En \"transformer\" for smarte bigrams"
   ]
  },
  {
   "cell_type": "markdown",
   "metadata": {},
   "source": [
    "For å kunne bruke smarte bigrams, trigrams osv. i en modell er vi nødt til å lage et objekt med tilsvarende API som CountVectorizer. Vi kan gjøre dette ved å modifisere noen av koden til denne klassen. For å se hvordan koden er modifisert, gå til ```nlp_intro.gensim_ngram_vectorizer```."
   ]
  },
  {
   "cell_type": "code",
   "execution_count": 104,
   "metadata": {
    "slideshow": {
     "slide_type": "skip"
    }
   },
   "outputs": [],
   "source": [
    "import numpy as np\n",
    "from scipy.sparse import find\n",
    "\n",
    "def transform_with_vec(text, vec):\n",
    "    assert isinstance(text, str)\n",
    "    text_vec = vec.transform([text])[0]\n",
    "    _, ix, values = find(text_vec)\n",
    "    feats = np.asarray(vec.get_feature_names())\n",
    "    return pd.DataFrame([values], columns=feats[ix])"
   ]
  },
  {
   "cell_type": "markdown",
   "metadata": {
    "slideshow": {
     "slide_type": "subslide"
    }
   },
   "source": [
    "Normale n-grams:"
   ]
  },
  {
   "cell_type": "code",
   "execution_count": 105,
   "metadata": {},
   "outputs": [
    {
     "name": "stdout",
     "output_type": "stream",
     "text": [
      "CPU times: user 7.07 s, sys: 306 ms, total: 7.38 s\n",
      "Wall time: 7.38 s\n"
     ]
    },
    {
     "data": {
      "text/html": [
       "<div>\n",
       "<style scoped>\n",
       "    .dataframe tbody tr th:only-of-type {\n",
       "        vertical-align: middle;\n",
       "    }\n",
       "\n",
       "    .dataframe tbody tr th {\n",
       "        vertical-align: top;\n",
       "    }\n",
       "\n",
       "    .dataframe thead th {\n",
       "        text-align: right;\n",
       "    }\n",
       "</style>\n",
       "<table border=\"1\" class=\"dataframe\">\n",
       "  <thead>\n",
       "    <tr style=\"text-align: right;\">\n",
       "      <th></th>\n",
       "      <th>10</th>\n",
       "      <th>10 på</th>\n",
       "      <th>gaming</th>\n",
       "      <th>gaming pc</th>\n",
       "      <th>har</th>\n",
       "      <th>har windows</th>\n",
       "      <th>jeg</th>\n",
       "      <th>jeg har</th>\n",
       "      <th>min</th>\n",
       "      <th>pc</th>\n",
       "      <th>på</th>\n",
       "      <th>på min</th>\n",
       "      <th>windows</th>\n",
       "      <th>windows 10</th>\n",
       "    </tr>\n",
       "  </thead>\n",
       "  <tbody>\n",
       "    <tr>\n",
       "      <th>0</th>\n",
       "      <td>1</td>\n",
       "      <td>1</td>\n",
       "      <td>1</td>\n",
       "      <td>1</td>\n",
       "      <td>1</td>\n",
       "      <td>1</td>\n",
       "      <td>1</td>\n",
       "      <td>1</td>\n",
       "      <td>1</td>\n",
       "      <td>1</td>\n",
       "      <td>1</td>\n",
       "      <td>1</td>\n",
       "      <td>1</td>\n",
       "      <td>1</td>\n",
       "    </tr>\n",
       "  </tbody>\n",
       "</table>\n",
       "</div>"
      ],
      "text/plain": [
       "   10  10 på  gaming  gaming pc  har  har windows  jeg  jeg har  min  pc  på  \\\n",
       "0   1      1       1          1    1            1    1        1    1   1   1   \n",
       "\n",
       "   på min  windows  windows 10  \n",
       "0       1        1           1  "
      ]
     },
     "execution_count": 105,
     "metadata": {},
     "output_type": "execute_result"
    }
   ],
   "source": [
    "%%time\n",
    "text = \"Jeg har windows 10 på min gaming pc\"\n",
    "vec1 = CountVectorizer(ngram_range=(1,2))\n",
    "vec1.fit(df.body)\n",
    "transform_with_vec(text, vec1)"
   ]
  },
  {
   "cell_type": "markdown",
   "metadata": {
    "slideshow": {
     "slide_type": "subslide"
    }
   },
   "source": [
    "\"Smarte\" n-grams:"
   ]
  },
  {
   "cell_type": "code",
   "execution_count": 106,
   "metadata": {},
   "outputs": [
    {
     "name": "stdout",
     "output_type": "stream",
     "text": [
      "CPU times: user 22.7 s, sys: 483 ms, total: 23.2 s\n",
      "Wall time: 32.4 s\n"
     ]
    },
    {
     "data": {
      "text/html": [
       "<div>\n",
       "<style scoped>\n",
       "    .dataframe tbody tr th:only-of-type {\n",
       "        vertical-align: middle;\n",
       "    }\n",
       "\n",
       "    .dataframe tbody tr th {\n",
       "        vertical-align: top;\n",
       "    }\n",
       "\n",
       "    .dataframe thead th {\n",
       "        text-align: right;\n",
       "    }\n",
       "</style>\n",
       "<table border=\"1\" class=\"dataframe\">\n",
       "  <thead>\n",
       "    <tr style=\"text-align: right;\">\n",
       "      <th></th>\n",
       "      <th>10</th>\n",
       "      <th>gaming</th>\n",
       "      <th>gaming_pc</th>\n",
       "      <th>har</th>\n",
       "      <th>jeg</th>\n",
       "      <th>min</th>\n",
       "      <th>pc</th>\n",
       "      <th>på</th>\n",
       "      <th>windows</th>\n",
       "      <th>windows_10</th>\n",
       "    </tr>\n",
       "  </thead>\n",
       "  <tbody>\n",
       "    <tr>\n",
       "      <th>0</th>\n",
       "      <td>1</td>\n",
       "      <td>1</td>\n",
       "      <td>1</td>\n",
       "      <td>1</td>\n",
       "      <td>1</td>\n",
       "      <td>1</td>\n",
       "      <td>1</td>\n",
       "      <td>1</td>\n",
       "      <td>1</td>\n",
       "      <td>1</td>\n",
       "    </tr>\n",
       "  </tbody>\n",
       "</table>\n",
       "</div>"
      ],
      "text/plain": [
       "   10  gaming  gaming_pc  har  jeg  min  pc  på  windows  windows_10\n",
       "0   1       1          1    1    1    1   1   1        1           1"
      ]
     },
     "execution_count": 106,
     "metadata": {},
     "output_type": "execute_result"
    }
   ],
   "source": [
    "%%time\n",
    "from nlp_intro.gensim_ngram_vectorizers import NgramCountVectorizer\n",
    "vec2 = NgramCountVectorizer(ngram_range=(1,2), phrases_common_terms=STOP_WORDS)\n",
    "vec2.fit(df.body)\n",
    "transform_with_vec(text, vec2)"
   ]
  },
  {
   "cell_type": "markdown",
   "metadata": {
    "slideshow": {
     "slide_type": "fragment"
    }
   },
   "source": [
    "Mer at prosesseringen tar mye lengre tid, fordi vi både må splitte tekstene i setninger, og gjøre beregninger for å finne bigrams. Bigramene vi får er derimot bedre."
   ]
  },
  {
   "cell_type": "markdown",
   "metadata": {
    "slideshow": {
     "slide_type": "subslide"
    }
   },
   "source": [
    "# Char n-grams\n",
    "\n",
    "- Skandinaviske språk som Norsk har mange sammensatte ord\n",
    "- Med sammensatte ord får vi veldig mange unike kombinasjoner av ord, som kun brukes et fåtall ganger\n",
    "- En kjapp test på vokabularet fra norske Wikipedia viste at **50% av alle unike ord kun hadde blitt brukt 1 gang** (!)\n",
    "- Om vi bruker ord som features kan derfor maskinlæring noen ganger bli vanskelig"
   ]
  },
  {
   "cell_type": "code",
   "execution_count": 175,
   "metadata": {
    "slideshow": {
     "slide_type": "skip"
    }
   },
   "outputs": [],
   "source": [
    "from scipy.sparse import issparse\n",
    "\n",
    "def vec_similarity(vec1, vec2):\n",
    "    if issparse(vec1):\n",
    "        vec1 = _sparse_to_1d(vec1)\n",
    "    if issparse(vec2):\n",
    "        vec2 = _sparse_to_1d(vec2)\n",
    "    sim = vec1.dot(vec2.T) / vec1.shape[0]\n",
    "    print(f\"Similarity: {sim*100:.2f}%\")\n",
    "    \n",
    "def _sparse_to_1d(vec):\n",
    "    return np.asarray(vec.todense()).squeeze() "
   ]
  },
  {
   "cell_type": "code",
   "execution_count": 154,
   "metadata": {
    "slideshow": {
     "slide_type": "subslide"
    }
   },
   "outputs": [
    {
     "data": {
      "text/html": [
       "<div>\n",
       "<style scoped>\n",
       "    .dataframe tbody tr th:only-of-type {\n",
       "        vertical-align: middle;\n",
       "    }\n",
       "\n",
       "    .dataframe tbody tr th {\n",
       "        vertical-align: top;\n",
       "    }\n",
       "\n",
       "    .dataframe thead th {\n",
       "        text-align: right;\n",
       "    }\n",
       "</style>\n",
       "<table border=\"1\" class=\"dataframe\">\n",
       "  <thead>\n",
       "    <tr style=\"text-align: right;\">\n",
       "      <th></th>\n",
       "      <th>av</th>\n",
       "      <th>prosessering</th>\n",
       "      <th>språk</th>\n",
       "      <th>språkprossesering</th>\n",
       "    </tr>\n",
       "  </thead>\n",
       "  <tbody>\n",
       "    <tr>\n",
       "      <th>0</th>\n",
       "      <td>0</td>\n",
       "      <td>0</td>\n",
       "      <td>0</td>\n",
       "      <td>1</td>\n",
       "    </tr>\n",
       "    <tr>\n",
       "      <th>1</th>\n",
       "      <td>1</td>\n",
       "      <td>1</td>\n",
       "      <td>1</td>\n",
       "      <td>0</td>\n",
       "    </tr>\n",
       "  </tbody>\n",
       "</table>\n",
       "</div>"
      ],
      "text/plain": [
       "   av  prosessering  språk  språkprossesering\n",
       "0   0             0      0                  1\n",
       "1   1             1      1                  0"
      ]
     },
     "execution_count": 154,
     "metadata": {},
     "output_type": "execute_result"
    }
   ],
   "source": [
    "vec = CountVectorizer()\n",
    "texts = [\"språkprossesering\", \"prosessering av språk\"]\n",
    "texts_vec = vec.fit_transform(texts)\n",
    "pd.DataFrame(texts_vec.todense(), columns=vec.get_feature_names())"
   ]
  },
  {
   "cell_type": "code",
   "execution_count": 176,
   "metadata": {
    "slideshow": {
     "slide_type": "fragment"
    }
   },
   "outputs": [
    {
     "name": "stdout",
     "output_type": "stream",
     "text": [
      "Similarity: 0.00%\n"
     ]
    }
   ],
   "source": [
    "vec_similarity(texts_vec[0], texts_vec[1])"
   ]
  },
  {
   "cell_type": "markdown",
   "metadata": {
    "slideshow": {
     "slide_type": "fragment"
    }
   },
   "source": [
    "Ikke bra"
   ]
  },
  {
   "cell_type": "markdown",
   "metadata": {
    "slideshow": {
     "slide_type": "subslide"
    }
   },
   "source": [
    "I naturlige tekster har vi også ofte skrivefiel:"
   ]
  },
  {
   "cell_type": "code",
   "execution_count": 110,
   "metadata": {},
   "outputs": [
    {
     "data": {
      "text/html": [
       "<div>\n",
       "<style scoped>\n",
       "    .dataframe tbody tr th:only-of-type {\n",
       "        vertical-align: middle;\n",
       "    }\n",
       "\n",
       "    .dataframe tbody tr th {\n",
       "        vertical-align: top;\n",
       "    }\n",
       "\n",
       "    .dataframe thead th {\n",
       "        text-align: right;\n",
       "    }\n",
       "</style>\n",
       "<table border=\"1\" class=\"dataframe\">\n",
       "  <thead>\n",
       "    <tr style=\"text-align: right;\">\n",
       "      <th></th>\n",
       "      <th>språkprosesering</th>\n",
       "      <th>språkprossesering</th>\n",
       "    </tr>\n",
       "  </thead>\n",
       "  <tbody>\n",
       "    <tr>\n",
       "      <th>0</th>\n",
       "      <td>0</td>\n",
       "      <td>1</td>\n",
       "    </tr>\n",
       "    <tr>\n",
       "      <th>1</th>\n",
       "      <td>1</td>\n",
       "      <td>0</td>\n",
       "    </tr>\n",
       "  </tbody>\n",
       "</table>\n",
       "</div>"
      ],
      "text/plain": [
       "   språkprosesering  språkprossesering\n",
       "0                 0                  1\n",
       "1                 1                  0"
      ]
     },
     "execution_count": 110,
     "metadata": {},
     "output_type": "execute_result"
    }
   ],
   "source": [
    "vec = CountVectorizer()\n",
    "texts = [\"språkprossesering\", \"språkprosesering\"]\n",
    "texts_vec = vec.fit_transform(texts)\n",
    "pd.DataFrame(texts_vec.todense(), columns=vec.get_feature_names())"
   ]
  },
  {
   "cell_type": "code",
   "execution_count": 111,
   "metadata": {
    "slideshow": {
     "slide_type": "fragment"
    }
   },
   "outputs": [
    {
     "name": "stdout",
     "output_type": "stream",
     "text": [
      "Similarity: 0.00%\n"
     ]
    }
   ],
   "source": [
    "vec_similarity(texts_vec[0], texts_vec[1])"
   ]
  },
  {
   "cell_type": "markdown",
   "metadata": {
    "slideshow": {
     "slide_type": "subslide"
    }
   },
   "source": [
    "Et alternativ til ord-baserte n-grams er å bruke karakter-baserte n-grams. Vi ønsker da å hente ut alle *sammenhengende sekvenser av bokstaver* fra tekstene:"
   ]
  },
  {
   "cell_type": "code",
   "execution_count": 118,
   "metadata": {},
   "outputs": [
    {
     "data": {
      "text/html": [
       "<div>\n",
       "<style scoped>\n",
       "    .dataframe tbody tr th:only-of-type {\n",
       "        vertical-align: middle;\n",
       "    }\n",
       "\n",
       "    .dataframe tbody tr th {\n",
       "        vertical-align: top;\n",
       "    }\n",
       "\n",
       "    .dataframe thead th {\n",
       "        text-align: right;\n",
       "    }\n",
       "</style>\n",
       "<table border=\"1\" class=\"dataframe\">\n",
       "  <thead>\n",
       "    <tr style=\"text-align: right;\">\n",
       "      <th></th>\n",
       "      <th>av</th>\n",
       "      <th>spr</th>\n",
       "      <th>av s</th>\n",
       "      <th>erin</th>\n",
       "      <th>eser</th>\n",
       "      <th>esse</th>\n",
       "      <th>g av</th>\n",
       "      <th>ing</th>\n",
       "      <th>kpro</th>\n",
       "      <th>ng a</th>\n",
       "      <th>...</th>\n",
       "      <th>ross</th>\n",
       "      <th>råkp</th>\n",
       "      <th>seri</th>\n",
       "      <th>sese</th>\n",
       "      <th>sess</th>\n",
       "      <th>språ</th>\n",
       "      <th>sser</th>\n",
       "      <th>sses</th>\n",
       "      <th>v sp</th>\n",
       "      <th>åkpr</th>\n",
       "    </tr>\n",
       "  </thead>\n",
       "  <tbody>\n",
       "    <tr>\n",
       "      <th>0</th>\n",
       "      <td>0</td>\n",
       "      <td>0</td>\n",
       "      <td>0</td>\n",
       "      <td>1</td>\n",
       "      <td>1</td>\n",
       "      <td>0</td>\n",
       "      <td>0</td>\n",
       "      <td>0</td>\n",
       "      <td>1</td>\n",
       "      <td>0</td>\n",
       "      <td>...</td>\n",
       "      <td>1</td>\n",
       "      <td>1</td>\n",
       "      <td>1</td>\n",
       "      <td>1</td>\n",
       "      <td>0</td>\n",
       "      <td>1</td>\n",
       "      <td>0</td>\n",
       "      <td>1</td>\n",
       "      <td>0</td>\n",
       "      <td>1</td>\n",
       "    </tr>\n",
       "    <tr>\n",
       "      <th>1</th>\n",
       "      <td>1</td>\n",
       "      <td>1</td>\n",
       "      <td>1</td>\n",
       "      <td>1</td>\n",
       "      <td>0</td>\n",
       "      <td>1</td>\n",
       "      <td>1</td>\n",
       "      <td>1</td>\n",
       "      <td>0</td>\n",
       "      <td>1</td>\n",
       "      <td>...</td>\n",
       "      <td>0</td>\n",
       "      <td>0</td>\n",
       "      <td>1</td>\n",
       "      <td>0</td>\n",
       "      <td>1</td>\n",
       "      <td>1</td>\n",
       "      <td>1</td>\n",
       "      <td>0</td>\n",
       "      <td>1</td>\n",
       "      <td>0</td>\n",
       "    </tr>\n",
       "  </tbody>\n",
       "</table>\n",
       "<p>2 rows × 26 columns</p>\n",
       "</div>"
      ],
      "text/plain": [
       "    av    spr  av s  erin  eser  esse  g av  ing   kpro  ng a  ...  ross  \\\n",
       "0     0     0     0     1     1     0     0     0     1     0  ...     1   \n",
       "1     1     1     1     1     0     1     1     1     0     1  ...     0   \n",
       "\n",
       "   råkp  seri  sese  sess  språ  sser  sses  v sp  åkpr  \n",
       "0     1     1     1     0     1     0     1     0     1  \n",
       "1     0     1     0     1     1     1     0     1     0  \n",
       "\n",
       "[2 rows x 26 columns]"
      ]
     },
     "execution_count": 118,
     "metadata": {},
     "output_type": "execute_result"
    }
   ],
   "source": [
    "vec = CountVectorizer(analyzer=\"char\", ngram_range=(4,4))\n",
    "texts = [\"språkprossesering\", \"prosessering av språk\"]\n",
    "texts_vec = vec.fit_transform(texts)\n",
    "pd.DataFrame(texts_vec.todense(), columns=vec.get_feature_names())"
   ]
  },
  {
   "cell_type": "code",
   "execution_count": 119,
   "metadata": {
    "slideshow": {
     "slide_type": "fragment"
    }
   },
   "outputs": [
    {
     "name": "stdout",
     "output_type": "stream",
     "text": [
      "Similarity: 23.08%\n"
     ]
    }
   ],
   "source": [
    "vec_similarity(texts_vec[0], texts_vec[1])"
   ]
  },
  {
   "cell_type": "code",
   "execution_count": 120,
   "metadata": {
    "slideshow": {
     "slide_type": "subslide"
    }
   },
   "outputs": [
    {
     "data": {
      "text/html": [
       "<div>\n",
       "<style scoped>\n",
       "    .dataframe tbody tr th:only-of-type {\n",
       "        vertical-align: middle;\n",
       "    }\n",
       "\n",
       "    .dataframe tbody tr th {\n",
       "        vertical-align: top;\n",
       "    }\n",
       "\n",
       "    .dataframe thead th {\n",
       "        text-align: right;\n",
       "    }\n",
       "</style>\n",
       "<table border=\"1\" class=\"dataframe\">\n",
       "  <thead>\n",
       "    <tr style=\"text-align: right;\">\n",
       "      <th></th>\n",
       "      <th>erin</th>\n",
       "      <th>eser</th>\n",
       "      <th>kpro</th>\n",
       "      <th>oses</th>\n",
       "      <th>osse</th>\n",
       "      <th>pros</th>\n",
       "      <th>pråk</th>\n",
       "      <th>ring</th>\n",
       "      <th>rose</th>\n",
       "      <th>ross</th>\n",
       "      <th>råkp</th>\n",
       "      <th>seri</th>\n",
       "      <th>sese</th>\n",
       "      <th>språ</th>\n",
       "      <th>sses</th>\n",
       "      <th>åkpr</th>\n",
       "    </tr>\n",
       "  </thead>\n",
       "  <tbody>\n",
       "    <tr>\n",
       "      <th>0</th>\n",
       "      <td>1</td>\n",
       "      <td>1</td>\n",
       "      <td>1</td>\n",
       "      <td>0</td>\n",
       "      <td>1</td>\n",
       "      <td>1</td>\n",
       "      <td>1</td>\n",
       "      <td>1</td>\n",
       "      <td>0</td>\n",
       "      <td>1</td>\n",
       "      <td>1</td>\n",
       "      <td>1</td>\n",
       "      <td>1</td>\n",
       "      <td>1</td>\n",
       "      <td>1</td>\n",
       "      <td>1</td>\n",
       "    </tr>\n",
       "    <tr>\n",
       "      <th>1</th>\n",
       "      <td>1</td>\n",
       "      <td>1</td>\n",
       "      <td>1</td>\n",
       "      <td>1</td>\n",
       "      <td>0</td>\n",
       "      <td>1</td>\n",
       "      <td>1</td>\n",
       "      <td>1</td>\n",
       "      <td>1</td>\n",
       "      <td>0</td>\n",
       "      <td>1</td>\n",
       "      <td>1</td>\n",
       "      <td>1</td>\n",
       "      <td>1</td>\n",
       "      <td>0</td>\n",
       "      <td>1</td>\n",
       "    </tr>\n",
       "  </tbody>\n",
       "</table>\n",
       "</div>"
      ],
      "text/plain": [
       "   erin  eser  kpro  oses  osse  pros  pråk  ring  rose  ross  råkp  seri  \\\n",
       "0     1     1     1     0     1     1     1     1     0     1     1     1   \n",
       "1     1     1     1     1     0     1     1     1     1     0     1     1   \n",
       "\n",
       "   sese  språ  sses  åkpr  \n",
       "0     1     1     1     1  \n",
       "1     1     1     0     1  "
      ]
     },
     "execution_count": 120,
     "metadata": {},
     "output_type": "execute_result"
    }
   ],
   "source": [
    "texts = [\"språkprossesering\", \"språkprosesering\"]\n",
    "texts_vec = vec.fit_transform(texts)\n",
    "pd.DataFrame(texts_vec.todense(), columns=vec.get_feature_names())"
   ]
  },
  {
   "cell_type": "code",
   "execution_count": 121,
   "metadata": {
    "slideshow": {
     "slide_type": "fragment"
    }
   },
   "outputs": [
    {
     "name": "stdout",
     "output_type": "stream",
     "text": [
      "Similarity: 68.75%\n"
     ]
    }
   ],
   "source": [
    "vec_similarity(texts_vec[0], texts_vec[1])"
   ]
  },
  {
   "cell_type": "markdown",
   "metadata": {
    "slideshow": {
     "slide_type": "subslide"
    }
   },
   "source": [
    "## Char n-grams, tips:\n",
    "\n",
    "- En lengde på 4 funker ofte (av erfaring) bra for char n-grams. Det er et godt midtpunkt mellom:\n",
    "    - For korte sekvenser, som gjør at \"alle\" ord vil matche\n",
    "    - For lange sekvenser, som i praksis vil gi samme resultat som ord-baserte n-grams\n",
    "- Du kan bytte analyzer til ```char_wb```, som vil si at du kun bruker n-grams innenfor hvert ord, ikke på tvers\n",
    "- Vær obs på at det du har satt som ```token_pattern``` ignoreres når du bruker char n-grams. Dvs. selv om du setter et token pattern som matcher kun bokstaver, vil char n-grams også inneholde tegnsetting:"
   ]
  },
  {
   "cell_type": "markdown",
   "metadata": {
    "slideshow": {
     "slide_type": "subslide"
    }
   },
   "source": [
    "Token pattern ignoreres for char n-grams:"
   ]
  },
  {
   "cell_type": "code",
   "execution_count": 124,
   "metadata": {},
   "outputs": [
    {
     "data": {
      "text/html": [
       "<div>\n",
       "<style scoped>\n",
       "    .dataframe tbody tr th:only-of-type {\n",
       "        vertical-align: middle;\n",
       "    }\n",
       "\n",
       "    .dataframe tbody tr th {\n",
       "        vertical-align: top;\n",
       "    }\n",
       "\n",
       "    .dataframe thead th {\n",
       "        text-align: right;\n",
       "    }\n",
       "</style>\n",
       "<table border=\"1\" class=\"dataframe\">\n",
       "  <thead>\n",
       "    <tr style=\"text-align: right;\">\n",
       "      <th></th>\n",
       "      <th>joh</th>\n",
       "      <th>, jo</th>\n",
       "      <th>ei,</th>\n",
       "      <th>hei,</th>\n",
       "      <th>i, j</th>\n",
       "      <th>john</th>\n",
       "      <th>ohn!</th>\n",
       "    </tr>\n",
       "  </thead>\n",
       "  <tbody>\n",
       "    <tr>\n",
       "      <th>0</th>\n",
       "      <td>1</td>\n",
       "      <td>1</td>\n",
       "      <td>1</td>\n",
       "      <td>1</td>\n",
       "      <td>1</td>\n",
       "      <td>1</td>\n",
       "      <td>1</td>\n",
       "    </tr>\n",
       "  </tbody>\n",
       "</table>\n",
       "</div>"
      ],
      "text/plain": [
       "    joh  , jo  ei,   hei,  i, j  john  ohn!\n",
       "0     1     1     1     1     1     1     1"
      ]
     },
     "execution_count": 124,
     "metadata": {},
     "output_type": "execute_result"
    }
   ],
   "source": [
    "vec = CountVectorizer(analyzer=\"char\", ngram_range=(4,4), token_pattern=\"\\w+\")\n",
    "text = \"Hei, John!\"\n",
    "texts_vec = vec.fit_transform([text])\n",
    "pd.DataFrame(texts_vec.todense(), columns=vec.get_feature_names())"
   ]
  },
  {
   "cell_type": "markdown",
   "metadata": {
    "slideshow": {
     "slide_type": "subslide"
    }
   },
   "source": [
    "# Word embeddings\n",
    "\n",
    "- Måten vi hittil har konvertert tekst til tall, kalles ofte en glissen (en: sparse) representasjon av tekst, fordi hvert enkelt ord kun er representert av én verdi i en glissen matrise. \n",
    "- Alle ord vil derfor ha samme \"likhet\"/\"forskjellighet\""
   ]
  },
  {
   "cell_type": "markdown",
   "metadata": {
    "slideshow": {
     "slide_type": "subslide"
    }
   },
   "source": [
    "Samme likhet/forskjellighet for alle ord:"
   ]
  },
  {
   "cell_type": "code",
   "execution_count": 126,
   "metadata": {},
   "outputs": [
    {
     "data": {
      "text/html": [
       "<div>\n",
       "<style scoped>\n",
       "    .dataframe tbody tr th:only-of-type {\n",
       "        vertical-align: middle;\n",
       "    }\n",
       "\n",
       "    .dataframe tbody tr th {\n",
       "        vertical-align: top;\n",
       "    }\n",
       "\n",
       "    .dataframe thead th {\n",
       "        text-align: right;\n",
       "    }\n",
       "</style>\n",
       "<table border=\"1\" class=\"dataframe\">\n",
       "  <thead>\n",
       "    <tr style=\"text-align: right;\">\n",
       "      <th></th>\n",
       "      <th>hund</th>\n",
       "      <th>katt</th>\n",
       "      <th>skrutrekker</th>\n",
       "    </tr>\n",
       "  </thead>\n",
       "  <tbody>\n",
       "    <tr>\n",
       "      <th>0</th>\n",
       "      <td>1</td>\n",
       "      <td>0</td>\n",
       "      <td>0</td>\n",
       "    </tr>\n",
       "    <tr>\n",
       "      <th>1</th>\n",
       "      <td>0</td>\n",
       "      <td>1</td>\n",
       "      <td>0</td>\n",
       "    </tr>\n",
       "    <tr>\n",
       "      <th>2</th>\n",
       "      <td>0</td>\n",
       "      <td>0</td>\n",
       "      <td>1</td>\n",
       "    </tr>\n",
       "  </tbody>\n",
       "</table>\n",
       "</div>"
      ],
      "text/plain": [
       "   hund  katt  skrutrekker\n",
       "0     1     0            0\n",
       "1     0     1            0\n",
       "2     0     0            1"
      ]
     },
     "execution_count": 126,
     "metadata": {},
     "output_type": "execute_result"
    }
   ],
   "source": [
    "vec = CountVectorizer()\n",
    "texts = [\"Hund\", \"Katt\", \"Skrutrekker\"]\n",
    "texts_vec = vec.fit_transform(texts)\n",
    "pd.DataFrame(texts_vec.todense(), columns=vec.get_feature_names())"
   ]
  },
  {
   "cell_type": "markdown",
   "metadata": {
    "slideshow": {
     "slide_type": "subslide"
    }
   },
   "source": [
    "Likhet mellom vektoren for hund og katt:"
   ]
  },
  {
   "cell_type": "code",
   "execution_count": 127,
   "metadata": {},
   "outputs": [
    {
     "name": "stdout",
     "output_type": "stream",
     "text": [
      "Similarity: 0.00%\n"
     ]
    }
   ],
   "source": [
    "vec_similarity(texts_vec[0], texts_vec[1])"
   ]
  },
  {
   "cell_type": "markdown",
   "metadata": {
    "slideshow": {
     "slide_type": "fragment"
    }
   },
   "source": [
    "Likhet mellom vektoren for hund og skrutrekker:"
   ]
  },
  {
   "cell_type": "code",
   "execution_count": 128,
   "metadata": {},
   "outputs": [
    {
     "name": "stdout",
     "output_type": "stream",
     "text": [
      "Similarity: 0.00%\n"
     ]
    }
   ],
   "source": [
    "vec_similarity(texts_vec[0], texts_vec[2])"
   ]
  },
  {
   "cell_type": "markdown",
   "metadata": {
    "slideshow": {
     "slide_type": "fragment"
    }
   },
   "source": [
    "Det hadde vært fint om vi kunne representert ord på en annen måte, slik at ```likhet(hund, katt)``` > ```likhet(hund, skrutrekker)```"
   ]
  },
  {
   "cell_type": "markdown",
   "metadata": {
    "slideshow": {
     "slide_type": "subslide"
    }
   },
   "source": [
    "## Word Embeddings - læring av \"substitutter\""
   ]
  },
  {
   "cell_type": "markdown",
   "metadata": {},
   "source": [
    "- \"Word embeddings\" er en tett (en: dense) måte å representere ord på, fordi vi har 'mverdier i alle kolonner for ordet. F.eks.\n",
    "vil vektoren for hun være noe som ```[0.1231, 1.3030, 3.2233, ...]```\n",
    "- Hver kolonne i en WE vektor vill representere en egenskap ved ordet, slik at ord som kan være substitutter for hverandre vil være \"nærmere\" hverandre\n",
    "- Maskinlæringsproblemet vi løser for å finne disse vektorene er av typen:\n",
    "    - Gitt et ord - prediker konteksten til ordet (Skip-gram)\n",
    "    - Gitt konteksten til odet - prediker ordet (CBOW)"
   ]
  },
  {
   "cell_type": "markdown",
   "metadata": {
    "slideshow": {
     "slide_type": "subslide"
    }
   },
   "source": [
    "## Skip-gram\n",
    "\n",
    "Figurer hentet fra: http://mccormickml.com/2016/04/19/word2vec-tutorial-the-skip-gram-model/\n",
    "\n",
    "(som forøvrig er en mer detaljert gjennomgang av temaet)\n",
    "\n",
    "<center> <img src=\"../images/skip-gram-1.png\"/> </center>"
   ]
  },
  {
   "cell_type": "markdown",
   "metadata": {
    "slideshow": {
     "slide_type": "subslide"
    }
   },
   "source": [
    "<center> <img src=\"../images/skip-gram-2.png\"/> </center>"
   ]
  },
  {
   "cell_type": "code",
   "execution_count": 184,
   "metadata": {},
   "outputs": [],
   "source": [
    "from gensim.models import KeyedVectors"
   ]
  },
  {
   "cell_type": "code",
   "execution_count": 188,
   "metadata": {},
   "outputs": [],
   "source": [
    "model = KeyedVectors.load_word2vec_format(\"../resources/embeddings/model.txt\", encoding=\"latin-1\")"
   ]
  },
  {
   "cell_type": "code",
   "execution_count": 190,
   "metadata": {},
   "outputs": [],
   "source": [
    "from gensim.models.wrappers import FastText"
   ]
  },
  {
   "cell_type": "code",
   "execution_count": 136,
   "metadata": {},
   "outputs": [],
   "source": [
    "model = FastText.load_fasttext_format(\"../resources/embeddings/cc.no.300.bin\")"
   ]
  },
  {
   "cell_type": "code",
   "execution_count": 158,
   "metadata": {},
   "outputs": [
    {
     "data": {
      "text/plain": [
       "300"
      ]
     },
     "execution_count": 158,
     "metadata": {},
     "output_type": "execute_result"
    }
   ],
   "source": [
    "model[\"katt\"].shape[0]"
   ]
  },
  {
   "cell_type": "markdown",
   "metadata": {
    "slideshow": {
     "slide_type": "subslide"
    }
   },
   "source": [
    "La oss se om vi nå har en representasjon hvor ```likhet(hund, katt)``` > ```likhet(hund, skrutrekker)```"
   ]
  },
  {
   "cell_type": "code",
   "execution_count": 179,
   "metadata": {},
   "outputs": [
    {
     "name": "stdout",
     "output_type": "stream",
     "text": [
      "Similarity: 0.03%\n"
     ]
    }
   ],
   "source": [
    "vec_similarity(model[\"hund\"], model[\"skrutrekker\"])"
   ]
  },
  {
   "cell_type": "code",
   "execution_count": 180,
   "metadata": {},
   "outputs": [
    {
     "name": "stdout",
     "output_type": "stream",
     "text": [
      "Similarity: 0.50%\n"
     ]
    }
   ],
   "source": [
    "vec_similarity(model[\"katt\"], model[\"hund\"])"
   ]
  },
  {
   "cell_type": "code",
   "execution_count": 181,
   "metadata": {},
   "outputs": [
    {
     "data": {
      "text/plain": [
       "[('hunden', 0.7746080160140991),\n",
       " ('løshund', 0.768308162689209),\n",
       " ('gråhund', 0.7630655765533447),\n",
       " ('hunder', 0.7626408338546753),\n",
       " ('hihund', 0.7605112195014954),\n",
       " ('hundeeier', 0.7479578256607056),\n",
       " ('unghund', 0.7467918395996094),\n",
       " ('småhund', 0.7359403371810913),\n",
       " ('hunde', 0.734673023223877),\n",
       " ('romhund', 0.7303817868232727)]"
      ]
     },
     "execution_count": 181,
     "metadata": {},
     "output_type": "execute_result"
    }
   ],
   "source": [
    "model.most_similar(\"hund\")"
   ]
  },
  {
   "cell_type": "markdown",
   "metadata": {},
   "source": [
    "# Obs\n",
    "\n",
    "Like ord er *ikke synonymer*. F.eks. kan ordet *glad* og *trist* ha relativt like word embeddings, fordi de brukes i samme kontekst."
   ]
  },
  {
   "cell_type": "code",
   "execution_count": null,
   "metadata": {
    "slideshow": {
     "slide_type": "skip"
    }
   },
   "outputs": [],
   "source": [
    "# Fasttext no: https://dl.fbaipublicfiles.com/fasttext/vectors-crawl/cc.no.300.bin.gz\n",
    "# Word2vec: http://vectors.nlpl.eu/repository/11/77.zip"
   ]
  },
  {
   "cell_type": "markdown",
   "metadata": {
    "slideshow": {
     "slide_type": "subslide"
    }
   },
   "source": [
    "# Tips\n",
    "- Generelt, desto mindre data du har, desto viktigere er det å hjelpe modellen med litt menenskelig kunskap ved å prosessere dataen på en måte vi vet gir mening"
   ]
  },
  {
   "cell_type": "code",
   "execution_count": null,
   "metadata": {},
   "outputs": [],
   "source": [
    "class A:\n",
    "    def __init__(self, param):\n",
    "        self.param = param\n",
    "    def foo(self):\n",
    "        print(self.param)\n",
    "        \n",
    "class B:\n",
    "    def __init__(self, *args, **kwargs):\n",
    "        super().__init__(*args, **kwargs)\n",
    "        pass\n",
    "    \n",
    "    def foo(self):\n",
    "        print(\"hey\")\n",
    "        super().foo()\n",
    "        \n",
    "class C(B, A):\n",
    "    pass\n",
    "\n",
    "c = C(\"man\")\n",
    "c.foo()"
   ]
  },
  {
   "cell_type": "markdown",
   "metadata": {},
   "source": [
    "# Andre ressurser"
   ]
  },
  {
   "cell_type": "code",
   "execution_count": null,
   "metadata": {},
   "outputs": [],
   "source": [
    "import spacy\n",
    "nb_core = spacy.load(\"nb_core_news_sm\")"
   ]
  }
 ],
 "metadata": {
  "celltoolbar": "Slideshow",
  "kernelspec": {
   "display_name": "Python 3",
   "language": "python",
   "name": "python3"
  },
  "language_info": {
   "codemirror_mode": {
    "name": "ipython",
    "version": 3
   },
   "file_extension": ".py",
   "mimetype": "text/x-python",
   "name": "python",
   "nbconvert_exporter": "python",
   "pygments_lexer": "ipython3",
   "version": "3.6.9"
  }
 },
 "nbformat": 4,
 "nbformat_minor": 4
}
